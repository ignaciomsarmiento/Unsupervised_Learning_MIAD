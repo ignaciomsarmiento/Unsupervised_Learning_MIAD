{
 "cells": [
  {
   "cell_type": "markdown",
   "metadata": {},
   "source": [
    "-----\n",
    "<div> <center> ESPACIO PARA BANNER DE LA MAESTRIA </center> </div>   \n",
    "\n",
    "-----"
   ]
  },
  {
   "cell_type": "markdown",
   "metadata": {},
   "source": [
    "# Aplicación de LDA\n",
    "En este Notebook usaremos datos de comentarios realizados por usuarios de Tripadvisor a restaurantes en Bogotá. El objetivo es aplicar la técnica de LDA para extraer algunos tópicos del corpus."
   ]
  },
  {
   "cell_type": "code",
   "execution_count": 1,
   "metadata": {},
   "outputs": [],
   "source": [
    "import os \n",
    "import pandas as pd"
   ]
  },
  {
   "cell_type": "markdown",
   "metadata": {},
   "source": [
    "Comenzamos importando la base de datos"
   ]
  },
  {
   "cell_type": "code",
   "execution_count": 2,
   "metadata": {},
   "outputs": [
    {
     "data": {
      "text/plain": [
       "['comentarios_tripadvisor.csv',\n",
       " 'enlaces_tripadvisor.csv',\n",
       " 'Scraping_tripadvisor.ipynb']"
      ]
     },
     "execution_count": 2,
     "metadata": {},
     "output_type": "execute_result"
    }
   ],
   "source": [
    "os.listdir(\"data\")"
   ]
  },
  {
   "cell_type": "code",
   "execution_count": 3,
   "metadata": {},
   "outputs": [
    {
     "data": {
      "text/html": [
       "<div>\n",
       "<style scoped>\n",
       "    .dataframe tbody tr th:only-of-type {\n",
       "        vertical-align: middle;\n",
       "    }\n",
       "\n",
       "    .dataframe tbody tr th {\n",
       "        vertical-align: top;\n",
       "    }\n",
       "\n",
       "    .dataframe thead th {\n",
       "        text-align: right;\n",
       "    }\n",
       "</style>\n",
       "<table border=\"1\" class=\"dataframe\">\n",
       "  <thead>\n",
       "    <tr style=\"text-align: right;\">\n",
       "      <th></th>\n",
       "      <th>nombre</th>\n",
       "      <th>link</th>\n",
       "      <th>puntaje_global</th>\n",
       "      <th>n_comentarios</th>\n",
       "      <th>posicion_relativa</th>\n",
       "      <th>n_restaurantes</th>\n",
       "      <th>lat</th>\n",
       "      <th>lon</th>\n",
       "      <th>excelente</th>\n",
       "      <th>muy_bueno</th>\n",
       "      <th>...</th>\n",
       "      <th>características</th>\n",
       "      <th>usuario</th>\n",
       "      <th>relevancia_usuario</th>\n",
       "      <th>fecha_comentario</th>\n",
       "      <th>titulo_comentario</th>\n",
       "      <th>contenido_comentario</th>\n",
       "      <th>fecha_visita</th>\n",
       "      <th>puntaje</th>\n",
       "      <th>rango_de_precios</th>\n",
       "      <th>dietas_especiales</th>\n",
       "    </tr>\n",
       "  </thead>\n",
       "  <tbody>\n",
       "    <tr>\n",
       "      <th>0</th>\n",
       "      <td>Asadero Cimarron del Llano</td>\n",
       "      <td>/Restaurant_Review-g294074-d10003846-Reviews-A...</td>\n",
       "      <td>4,0</td>\n",
       "      <td>17.0</td>\n",
       "      <td>83.0</td>\n",
       "      <td>127.0</td>\n",
       "      <td>4.666695</td>\n",
       "      <td>-74.113075</td>\n",
       "      <td>9.0</td>\n",
       "      <td>3.0</td>\n",
       "      <td>...</td>\n",
       "      <td>Comida para llevar, Servicio de mesa, Reservas...</td>\n",
       "      <td>Marylyn73</td>\n",
       "      <td>4 opiniones</td>\n",
       "      <td>Escribió una opinión el 6 de enero de 2021</td>\n",
       "      <td>Comida recalentada</td>\n",
       "      <td>Fui temprano para evitar aglomeraciones y me t...</td>\n",
       "      <td>enero de 2021</td>\n",
       "      <td>10.0</td>\n",
       "      <td>NaN</td>\n",
       "      <td>NaN</td>\n",
       "    </tr>\n",
       "    <tr>\n",
       "      <th>1</th>\n",
       "      <td>Asadero Cimarron del Llano</td>\n",
       "      <td>/Restaurant_Review-g294074-d10003846-Reviews-A...</td>\n",
       "      <td>4,0</td>\n",
       "      <td>17.0</td>\n",
       "      <td>83.0</td>\n",
       "      <td>127.0</td>\n",
       "      <td>4.666695</td>\n",
       "      <td>-74.113075</td>\n",
       "      <td>9.0</td>\n",
       "      <td>3.0</td>\n",
       "      <td>...</td>\n",
       "      <td>Comida para llevar, Servicio de mesa, Reservas...</td>\n",
       "      <td>jairoenriquer2020</td>\n",
       "      <td>1 opinión</td>\n",
       "      <td>Escribió una opinión el 10 de marzo de 2020</td>\n",
       "      <td>Mala calidad y costo alto</td>\n",
       "      <td>Mala calidad de la carne no es la mamona tradi...</td>\n",
       "      <td>marzo de 2020</td>\n",
       "      <td>10.0</td>\n",
       "      <td>NaN</td>\n",
       "      <td>NaN</td>\n",
       "    </tr>\n",
       "    <tr>\n",
       "      <th>2</th>\n",
       "      <td>Asadero Cimarron del Llano</td>\n",
       "      <td>/Restaurant_Review-g294074-d10003846-Reviews-A...</td>\n",
       "      <td>4,0</td>\n",
       "      <td>17.0</td>\n",
       "      <td>83.0</td>\n",
       "      <td>127.0</td>\n",
       "      <td>4.666695</td>\n",
       "      <td>-74.113075</td>\n",
       "      <td>9.0</td>\n",
       "      <td>3.0</td>\n",
       "      <td>...</td>\n",
       "      <td>Comida para llevar, Servicio de mesa, Reservas...</td>\n",
       "      <td>HectorLatorre</td>\n",
       "      <td>55 opiniones</td>\n",
       "      <td>Escribió una opinión el 13 de febrero de 2020</td>\n",
       "      <td>Maravilloso sitio de comida llanera</td>\n",
       "      <td>Este es un restaurante bastante típico y muy b...</td>\n",
       "      <td>enero de 2020</td>\n",
       "      <td>40.0</td>\n",
       "      <td>NaN</td>\n",
       "      <td>NaN</td>\n",
       "    </tr>\n",
       "    <tr>\n",
       "      <th>3</th>\n",
       "      <td>Asadero Cimarron del Llano</td>\n",
       "      <td>/Restaurant_Review-g294074-d10003846-Reviews-A...</td>\n",
       "      <td>4,0</td>\n",
       "      <td>17.0</td>\n",
       "      <td>83.0</td>\n",
       "      <td>127.0</td>\n",
       "      <td>4.666695</td>\n",
       "      <td>-74.113075</td>\n",
       "      <td>9.0</td>\n",
       "      <td>3.0</td>\n",
       "      <td>...</td>\n",
       "      <td>Comida para llevar, Servicio de mesa, Reservas...</td>\n",
       "      <td>Ingriofercas</td>\n",
       "      <td>1 opinión</td>\n",
       "      <td>Escribió una opinión el 13 de enero de 2020</td>\n",
       "      <td>Buen Restaurante Tipico!!!</td>\n",
       "      <td>buen servicio, eramos mas o menos 20 personas ...</td>\n",
       "      <td>diciembre de 2019</td>\n",
       "      <td>50.0</td>\n",
       "      <td>NaN</td>\n",
       "      <td>NaN</td>\n",
       "    </tr>\n",
       "    <tr>\n",
       "      <th>4</th>\n",
       "      <td>Asadero Cimarron del Llano</td>\n",
       "      <td>/Restaurant_Review-g294074-d10003846-Reviews-A...</td>\n",
       "      <td>4,0</td>\n",
       "      <td>17.0</td>\n",
       "      <td>83.0</td>\n",
       "      <td>127.0</td>\n",
       "      <td>4.666695</td>\n",
       "      <td>-74.113075</td>\n",
       "      <td>9.0</td>\n",
       "      <td>3.0</td>\n",
       "      <td>...</td>\n",
       "      <td>Comida para llevar, Servicio de mesa, Reservas...</td>\n",
       "      <td>profet2016</td>\n",
       "      <td>429 opiniones</td>\n",
       "      <td>Escribió una opinión el 12 de octubre de 2019</td>\n",
       "      <td>Un recuerdo de la cultura llanera</td>\n",
       "      <td>Muy buen ambiente, buena comida y muy buena mú...</td>\n",
       "      <td>octubre de 2019</td>\n",
       "      <td>50.0</td>\n",
       "      <td>NaN</td>\n",
       "      <td>NaN</td>\n",
       "    </tr>\n",
       "  </tbody>\n",
       "</table>\n",
       "<p>5 rows × 25 columns</p>\n",
       "</div>"
      ],
      "text/plain": [
       "                       nombre  \\\n",
       "0  Asadero Cimarron del Llano   \n",
       "1  Asadero Cimarron del Llano   \n",
       "2  Asadero Cimarron del Llano   \n",
       "3  Asadero Cimarron del Llano   \n",
       "4  Asadero Cimarron del Llano   \n",
       "\n",
       "                                                link puntaje_global  \\\n",
       "0  /Restaurant_Review-g294074-d10003846-Reviews-A...            4,0   \n",
       "1  /Restaurant_Review-g294074-d10003846-Reviews-A...            4,0   \n",
       "2  /Restaurant_Review-g294074-d10003846-Reviews-A...            4,0   \n",
       "3  /Restaurant_Review-g294074-d10003846-Reviews-A...            4,0   \n",
       "4  /Restaurant_Review-g294074-d10003846-Reviews-A...            4,0   \n",
       "\n",
       "   n_comentarios  posicion_relativa  n_restaurantes       lat        lon  \\\n",
       "0           17.0               83.0           127.0  4.666695 -74.113075   \n",
       "1           17.0               83.0           127.0  4.666695 -74.113075   \n",
       "2           17.0               83.0           127.0  4.666695 -74.113075   \n",
       "3           17.0               83.0           127.0  4.666695 -74.113075   \n",
       "4           17.0               83.0           127.0  4.666695 -74.113075   \n",
       "\n",
       "   excelente  muy_bueno  ...  \\\n",
       "0        9.0        3.0  ...   \n",
       "1        9.0        3.0  ...   \n",
       "2        9.0        3.0  ...   \n",
       "3        9.0        3.0  ...   \n",
       "4        9.0        3.0  ...   \n",
       "\n",
       "                                     características            usuario  \\\n",
       "0  Comida para llevar, Servicio de mesa, Reservas...          Marylyn73   \n",
       "1  Comida para llevar, Servicio de mesa, Reservas...  jairoenriquer2020   \n",
       "2  Comida para llevar, Servicio de mesa, Reservas...      HectorLatorre   \n",
       "3  Comida para llevar, Servicio de mesa, Reservas...       Ingriofercas   \n",
       "4  Comida para llevar, Servicio de mesa, Reservas...         profet2016   \n",
       "\n",
       "   relevancia_usuario                               fecha_comentario  \\\n",
       "0         4 opiniones     Escribió una opinión el 6 de enero de 2021   \n",
       "1           1 opinión    Escribió una opinión el 10 de marzo de 2020   \n",
       "2        55 opiniones  Escribió una opinión el 13 de febrero de 2020   \n",
       "3           1 opinión    Escribió una opinión el 13 de enero de 2020   \n",
       "4       429 opiniones  Escribió una opinión el 12 de octubre de 2019   \n",
       "\n",
       "                     titulo_comentario  \\\n",
       "0                   Comida recalentada   \n",
       "1            Mala calidad y costo alto   \n",
       "2  Maravilloso sitio de comida llanera   \n",
       "3           Buen Restaurante Tipico!!!   \n",
       "4    Un recuerdo de la cultura llanera   \n",
       "\n",
       "                                contenido_comentario       fecha_visita  \\\n",
       "0  Fui temprano para evitar aglomeraciones y me t...      enero de 2021   \n",
       "1  Mala calidad de la carne no es la mamona tradi...      marzo de 2020   \n",
       "2  Este es un restaurante bastante típico y muy b...      enero de 2020   \n",
       "3  buen servicio, eramos mas o menos 20 personas ...  diciembre de 2019   \n",
       "4  Muy buen ambiente, buena comida y muy buena mú...    octubre de 2019   \n",
       "\n",
       "  puntaje rango_de_precios dietas_especiales  \n",
       "0    10.0              NaN               NaN  \n",
       "1    10.0              NaN               NaN  \n",
       "2    40.0              NaN               NaN  \n",
       "3    50.0              NaN               NaN  \n",
       "4    50.0              NaN               NaN  \n",
       "\n",
       "[5 rows x 25 columns]"
      ]
     },
     "execution_count": 3,
     "metadata": {},
     "output_type": "execute_result"
    }
   ],
   "source": [
    "df = pd.read_csv(\"data/comentarios_tripadvisor.csv\", sep = \";\")\n",
    "df.head()"
   ]
  },
  {
   "cell_type": "markdown",
   "metadata": {},
   "source": [
    "En total tenemos más de 130 mil comentarios (los cuales representan cada una de las filas del dataframe) y 25 variables que describen el restaurante y el comentario."
   ]
  },
  {
   "cell_type": "code",
   "execution_count": 4,
   "metadata": {},
   "outputs": [
    {
     "data": {
      "text/plain": [
       "(132728, 25)"
      ]
     },
     "execution_count": 4,
     "metadata": {},
     "output_type": "execute_result"
    }
   ],
   "source": [
    "df.shape "
   ]
  },
  {
   "cell_type": "markdown",
   "metadata": {},
   "source": [
    "Primero vamos a quedarnos solo con las columnas que nos interesan: `titulo_comentario` y `contenido_comentario`. Luego las unimos."
   ]
  },
  {
   "cell_type": "code",
   "execution_count": 5,
   "metadata": {},
   "outputs": [],
   "source": [
    "# Vamos a reducir el tamaño de nuestra muestra para facilitar le computo de\n",
    "# los procesos\n",
    "# df = df.sample(10000, random_state = 666).reset_index(drop = True)"
   ]
  },
  {
   "cell_type": "code",
   "execution_count": 6,
   "metadata": {},
   "outputs": [],
   "source": [
    "comentarios = df[\"titulo_comentario\"] + \" \" + df[\"contenido_comentario\"]"
   ]
  },
  {
   "cell_type": "markdown",
   "metadata": {},
   "source": [
    "Procedemos a preprocesar el texto"
   ]
  },
  {
   "cell_type": "code",
   "execution_count": 7,
   "metadata": {},
   "outputs": [],
   "source": [
    "import unidecode\n",
    "import re\n",
    "\n",
    "# Convertimos la columna en texto\n",
    "comentarios = comentarios.astype(str)\n",
    "\n",
    "# Quitamos tildes\n",
    "comentarios = comentarios.apply(lambda x: unidecode.unidecode(x))\n",
    "\n",
    "# Quitamos comas, guiones y otros caracteres especiales o signos de puntuación\n",
    "comentarios = comentarios.apply(lambda x:\n",
    "    re.sub('[^A-Za-z0-9 ]+', ' ', x))\n",
    "\n",
    "# Ponemos todo el texto en minúscula \n",
    "comentarios = comentarios.str.lower()\n",
    "\n",
    "# Dejamos todos los espacios sencillos\n",
    "comentarios = comentarios.apply(lambda x: \n",
    "    re.sub('\\s+', ' ', x))\n",
    "\n",
    "# Vamos a eliminar todos los números\n",
    "comentarios = comentarios.apply(lambda x: re.sub(\"\\d+\", \"\", x))\n",
    "comentarios = comentarios.apply(lambda x: re.sub('\\s+', ' ', x))\n",
    "comentarios = comentarios.str.strip()"
   ]
  },
  {
   "cell_type": "code",
   "execution_count": 8,
   "metadata": {},
   "outputs": [],
   "source": [
    "# Eliminamos stopwords\n",
    "from nltk.corpus import stopwords\n",
    "stopwords = set(stopwords.words(\"spanish\"))\n",
    "\n",
    "# Creamos un diccionario de stopwords en español\n",
    "stopwords = [unidecode.unidecode(i) for i in stopwords]\n",
    "stopwords = set(stopwords)\n",
    "\n",
    "# Creamos una función que elimine las palabras presentes en un diccionario\n",
    "def eliminar_stopwords(texto, diccionario):\n",
    "    texto = [tok for tok in texto.split(\" \") if tok not in diccionario]\n",
    "    return(texto)\n",
    "\n",
    "# Aplicamos la función para eliminar los stopwords\n",
    "comentarios = comentarios.apply(lambda x: \n",
    "    eliminar_stopwords(x, stopwords))"
   ]
  },
  {
   "cell_type": "code",
   "execution_count": 9,
   "metadata": {},
   "outputs": [],
   "source": [
    "# Tokenizamos el texto\n",
    "import spacy\n",
    "nlp = spacy.load(\"es_core_news_sm\")\n",
    "\n",
    "# Esto puede tardar un poco\n",
    "comentarios = comentarios.apply(lambda x: nlp(\" \".join(x)))"
   ]
  },
  {
   "cell_type": "code",
   "execution_count": 10,
   "metadata": {},
   "outputs": [],
   "source": [
    "# Lemmatizamos el texto\n",
    "comentarios = comentarios.apply(lambda x: [unidecode.unidecode(tok.lemma_) for tok in x])"
   ]
  },
  {
   "cell_type": "code",
   "execution_count": 11,
   "metadata": {},
   "outputs": [
    {
     "data": {
      "text/plain": [
       "[('buen', 86367),\n",
       " ('comida', 69954),\n",
       " ('excelente', 51889),\n",
       " ('lugar', 49806),\n",
       " ('servicio', 47345),\n",
       " ('restaurante', 44469),\n",
       " ('atencion', 35712),\n",
       " ('plato', 32503),\n",
       " ('mejor', 30294),\n",
       " ('ambiente', 29256)]"
      ]
     },
     "execution_count": 11,
     "metadata": {},
     "output_type": "execute_result"
    }
   ],
   "source": [
    "# Para aplicar LDA necesitamos construir un diccionario\n",
    "import gensim.corpora as corpora\n",
    "\n",
    "# A cada palabra se le asigna un id\n",
    "diccionario = corpora.Dictionary(comentarios)\n",
    "\n",
    "diccionario.most_common()[0:10]"
   ]
  },
  {
   "cell_type": "code",
   "execution_count": 12,
   "metadata": {},
   "outputs": [],
   "source": [
    "# Creamos un corpus\n",
    "textos = comentarios.copy()"
   ]
  },
  {
   "cell_type": "code",
   "execution_count": 13,
   "metadata": {},
   "outputs": [],
   "source": [
    "# Frequencias \n",
    "corpus = [diccionario.doc2bow(texto) for texto in textos]"
   ]
  },
  {
   "cell_type": "code",
   "execution_count": 14,
   "metadata": {},
   "outputs": [
    {
     "name": "stdout",
     "output_type": "stream",
     "text": [
      "[(0,\n",
      "  '0.025*\"buen\" + 0.024*\"excelente\" + 0.022*\"comida\" + 0.022*\"servicio\" + '\n",
      "  '0.015*\"atencion\" + 0.014*\"restaurante\" + 0.011*\"comido\" + 0.011*\"lugar\" + '\n",
      "  '0.011*\"plato\" + 0.010*\"ambiente\"'),\n",
      " (1,\n",
      "  '0.024*\"comida\" + 0.020*\"buen\" + 0.015*\"servicio\" + 0.015*\"lugar\" + '\n",
      "  '0.009*\"restaurante\" + 0.008*\"plato\" + 0.007*\"excelente\" + 0.007*\"ir\" + '\n",
      "  '0.007*\"precio\" + 0.006*\"bien\"'),\n",
      " (2,\n",
      "  '0.036*\"buen\" + 0.022*\"comida\" + 0.020*\"lugar\" + 0.019*\"excelente\" + '\n",
      "  '0.018*\"restaurante\" + 0.014*\"atencion\" + 0.013*\"mejor\" + 0.012*\"plato\" + '\n",
      "  '0.011*\"servicio\" + 0.011*\"ambiente\"')]\n"
     ]
    }
   ],
   "source": [
    "# Aplicamos LDA\n",
    "from gensim.models.ldamulticore import LdaMulticore\n",
    "from pprint import pprint\n",
    "\n",
    "# Debemos escoger el número de tópicos antes de correr el modelo\n",
    "n_topicos = 3\n",
    "# Modelo LDA\n",
    "lda_model = LdaMulticore(corpus = corpus,\n",
    "    id2word = diccionario,\n",
    "    num_topics = n_topicos)\n",
    "# Mostramos las palabras dentro de los 10 tópicos\n",
    "pprint(lda_model.print_topics())\n",
    "doc_lda = lda_model[corpus]"
   ]
  },
  {
   "cell_type": "code",
   "execution_count": 15,
   "metadata": {},
   "outputs": [
    {
     "name": "stderr",
     "output_type": "stream",
     "text": [
      "C:\\Users\\User\\anaconda3\\envs\\MIAD\\lib\\site-packages\\pyLDAvis\\_prepare.py:246: FutureWarning: In a future version of pandas all arguments of DataFrame.drop except for the argument 'labels' will be keyword-only\n",
      "  default_term_info = default_term_info.sort_values(\n"
     ]
    }
   ],
   "source": [
    "# Visualizamos los resultados\n",
    "import pyLDAvis\n",
    "import pyLDAvis.gensim_models as gensimvis\n",
    "\n",
    "pyLDAvis.enable_notebook()\n",
    "LDA_visualization = gensimvis.prepare(lda_model, corpus, diccionario)"
   ]
  },
  {
   "cell_type": "code",
   "execution_count": 16,
   "metadata": {},
   "outputs": [
    {
     "data": {
      "text/html": [
       "\n",
       "<link rel=\"stylesheet\" type=\"text/css\" href=\"https://cdn.jsdelivr.net/gh/bmabey/pyLDAvis@3.3.1/pyLDAvis/js/ldavis.v1.0.0.css\">\n",
       "\n",
       "\n",
       "<div id=\"ldavis_el1765223485546900001631172457\"></div>\n",
       "<script type=\"text/javascript\">\n",
       "\n",
       "var ldavis_el1765223485546900001631172457_data = {\"mdsDat\": {\"x\": [-0.0146031600853016, 0.030063267521483, -0.015460107436181383], \"y\": [0.01655695481167879, -0.00031167369681398585, -0.01624528111486478], \"topics\": [1, 2, 3], \"cluster\": [1, 1, 1], \"Freq\": [37.46682802641583, 35.522960318526785, 27.010211655057375]}, \"tinfo\": {\"Term\": [\"excelente\", \"servicio\", \"comido\", \"atencion\", \"recomendado\", \"buen\", \"super\", \"delicioso\", \"calidad\", \"restaurante\", \"agradable\", \"ambiente\", \"mejor\", \"malo\", \"delicios\", \"cumpleano\", \"pizza\", \"cerveza\", \"esperar\", \"sitio\", \"variedad\", \"sabor\", \"entrada\", \"compartir\", \"decoracion\", \"bogota\", \"bastante\", \"bien\", \"amigo\", \"bebida\", \"shar\", \"gol\", \"yepes\", \"hanz\", \"fatima\", \"triqui\", \"remontar\", \"puchero\", \"gaira\", \"lazana\", \"botana\", \"atension\", \"downtown\", \"ambicioso\", \"pizarra\", \"hamburgeusa\", \"enamorarar\", \"aaa\", \"buenoooo\", \"modernizacion\", \"abundar\", \"steampunk\", \"mts\", \"deliiii\", \"cartoccio\", \"criterion\", \"gastronomio\", \"bavario\", \"clic\", \"iniciado\", \"acompanarla\", \"tilin\", \"arracherar\", \"compartir\", \"artesanal\", \"cerveza\", \"amigo\", \"variedad\", \"ambientacion\", \"valluno\", \"bbc\", \"isidro\", \"cervecerio\", \"aniversario\", \"sitio\", \"parejo\", \"cevich\", \"picada\", \"grecia\", \"agradable\", \"buen\", \"familia\", \"especial\", \"espectacular\", \"opcion\", \"mejor\", \"bogota\", \"restaurante\", \"lugar\", \"cartar\", \"pasta\", \"hamburguesa\", \"delicios\", \"ciudad\", \"variado\", \"celebrar\", \"atencion\", \"excelente\", \"ambiente\", \"plato\", \"comida\", \"recomendado\", \"musico\", \"experiencia\", \"precio\", \"pequeno\", \"gran\", \"hacer\", \"bien\", \"servicio\", \"sabor\", \"poder\", \"rico\", \"carne\", \"bueno\", \"ir\", \"comido\", \"delicioso\", \"invierno\", \"kfc\", \"odisea\", \"miti\", \"antihigienico\", \"pizar\", \"bif\", \"unicado\", \"clack\", \"incapaz\", \"marly\", \"alcanzamos\", \"descomplicada\", \"poquitico\", \"variadito\", \"rocks\", \"fancy\", \"comerar\", \"raush\", \"mejorio\", \"describiar\", \"gofres\", \"optado\", \"inclusion\", \"empenar\", \"recortar\", \"malocaro\", \"cairo\", \"click\", \"salmo\", \"realista\", \"reiterar\", \"niko\", \"sirloin\", \"nar\", \"gris\", \"malo\", \"roscon\", \"donuts\", \"despacio\", \"esperar\", \"desear\", \"dejar\", \"contestar\", \"mister\", \"peor\", \"yuca\", \"costoso\", \"pena\", \"mal\", \"sabio\", \"comer\", \"hora\", \"luego\", \"domicilio\", \"traer\", \"valer\", \"ir\", \"decir\", \"nunca\", \"mientras\", \"parecer\", \"horrible\", \"hard\", \"ensalado\", \"terrible\", \"llegar\", \"medio\", \"despu\", \"pollo\", \"pedi\", \"cosa\", \"mismo\", \"comida\", \"volver\", \"poder\", \"servicio\", \"lugar\", \"caro\", \"bueno\", \"pesimo\", \"carne\", \"hacer\", \"tiempo\", \"buen\", \"solo\", \"pedir\", \"precio\", \"gran\", \"plato\", \"bien\", \"restaurante\", \"sabor\", \"sitio\", \"vez\", \"delicioso\", \"excelente\", \"mejor\", \"atencion\", \"ambiente\", \"experiencia\", \"calidad\", \"rico\", \"bogota\", \"comido\", \"raul\", \"nazca\", \"sofiar\", \"delis\", \"cantor\", \"hornado\", \"fiorentina\", \"ali\", \"madres\", \"terracitar\", \"colaboradores\", \"lucio\", \"calzon\", \"nau\", \"rodillo\", \"emplazado\", \"fermentada\", \"recomendadisimooo\", \"deliciosisimos\", \"sintetizar\", \"asemeja\", \"pate\", \"yasai\", \"eccelente\", \"stephany\", \"tradional\", \"saborcito\", \"basilic\", \"conde\", \"karir\", \"teo\", \"julian\", \"geraldine\", \"conmemorar\", \"papardelle\", \"piza\", \"comido\", \"familiar\", \"incomparable\", \"kevin\", \"super\", \"volverir\", \"calidad\", \"excelente\", \"bebida\", \"arabir\", \"pizza\", \"delicioso\", \"entrada\", \"lindo\", \"servicio\", \"bastante\", \"recomendado\", \"indio\", \"atencion\", \"atento\", \"cumpleano\", \"deliciosa\", \"sabor\", \"bien\", \"decoracion\", \"sushi\", \"todo\", \"rico\", \"ambiente\", \"parte\", \"comida\", \"restaurante\", \"buen\", \"siempre\", \"plato\", \"delicios\", \"mejor\", \"precio\", \"almuerzo\", \"vez\", \"lugar\", \"agradable\", \"bueno\", \"bogota\", \"experiencia\", \"hacer\", \"pedir\"], \"Freq\": [48840.0, 47060.0, 18450.0, 34588.0, 13904.0, 82239.0, 9390.0, 17308.0, 13961.0, 40645.0, 17555.0, 26399.0, 28584.0, 6479.0, 15729.0, 5755.0, 6962.0, 6163.0, 7627.0, 18117.0, 8040.0, 19824.0, 5842.0, 5036.0, 7676.0, 18471.0, 6245.0, 21470.0, 6952.0, 4030.0, 20.233163207203607, 25.81814493380306, 20.69114941568775, 28.059164049231725, 19.270964094932328, 9.525856332918973, 13.151441355793942, 15.062599496521901, 67.16322883901285, 7.8861147702070635, 34.33616863628583, 9.665202586567023, 8.466955982668336, 7.985595305227557, 11.421032616128358, 6.027758647095791, 5.976740787058128, 5.928221570060405, 6.1867131574903045, 6.0682360475208235, 15.100725263145716, 5.553096656364842, 9.145981375954108, 8.242048296011417, 8.313238290889519, 50.153926835128175, 6.678839948584967, 5.622029596812091, 5.959457435160388, 5.19842504552923, 13.451089361845906, 9.277634831466852, 6.701781614118512, 3656.9478381628637, 1040.7372457226322, 4365.426078034187, 4594.734370084078, 5180.086652530765, 772.9696590675507, 41.675782729767526, 292.26456470068257, 37.276875653315315, 86.56988760146778, 883.4104668528485, 10484.841481923648, 885.7542587906192, 789.2989600713835, 241.07702516043705, 199.06069090300755, 9981.508429458298, 41064.91382141977, 3821.102622526794, 3801.1353548268617, 4669.362526570161, 7678.709000148508, 14539.1363682509, 9710.804178026234, 20025.524644417404, 22433.47343714219, 1780.1238922408536, 1929.919192484002, 4392.440183218415, 7921.2390605123155, 2336.0016241925614, 2307.847960959821, 1839.2649811283588, 15590.626844272314, 21124.243880058682, 12176.171958462903, 13814.23743903109, 25322.331516982318, 6463.424292771585, 4723.9039328265135, 6430.48764386363, 8628.339303630288, 2846.651797309831, 5212.471681653574, 5917.687574742133, 7465.361100212263, 12674.101452994746, 6956.070764609236, 5507.468257822353, 5556.309242062354, 5083.827420958443, 5463.003387030546, 5205.869087584035, 5084.971716199769, 4901.7649950580135, 12.737868365928131, 57.529382279261725, 10.349290820458172, 42.75966474733634, 8.185175885184147, 11.711960909003148, 11.265426626879327, 9.509597784337972, 19.133972301938204, 14.485544820506194, 10.48856955379471, 6.9226342560484495, 7.249091875504174, 7.084630801730091, 7.127382590904167, 7.891776179425583, 13.843517951506024, 6.371095092112155, 15.618054204637945, 9.963647975546554, 9.62499637598385, 6.9044278410835584, 6.513872509881289, 11.068184454111764, 9.574614150514861, 7.272416925737984, 6.102267564803449, 6.369574560641239, 17.428017866342536, 6.98728267310337, 11.606877563867974, 9.852387958660616, 20.938747637348126, 10.484681476847605, 1133.4941738834832, 75.41683262834002, 4548.857754957516, 71.39991598126734, 33.184071023662334, 16.36219743300568, 4889.267665922797, 826.508819639784, 2350.4433491535433, 126.05881945574158, 30.523985039466517, 1458.8370059443098, 262.1477974677867, 2383.7546847625226, 3345.2403501013296, 3147.4932829094487, 488.2262803566611, 6000.040764166712, 2569.4365608630105, 1380.5725843580176, 1111.8978236765547, 1312.2980701308347, 3019.623666423792, 7941.737307349496, 3765.4577335847835, 1886.203101858696, 996.0330136889029, 2255.9282357754455, 567.7851030925532, 240.61498208355053, 1453.6323280881309, 854.5195357555682, 3528.0155314564313, 1666.9817012622295, 1888.6506740758382, 2264.681257062542, 2211.8262731371756, 1628.928677933569, 1991.0227712416176, 25203.147920431133, 2885.610790891746, 6266.237510811226, 16406.063845825112, 16366.130166792445, 2251.558836540623, 6527.068512430004, 2539.091306500353, 5223.464950416227, 5924.078442822581, 2909.6620742476553, 21125.818483858107, 3573.169234016738, 4657.793557615387, 7392.755018450311, 4720.138404581058, 8933.189950011387, 6854.44732833279, 9317.045328304173, 5922.872747139714, 5279.169488294062, 3990.90685680145, 4921.793003725273, 7943.474986309653, 6176.959638055577, 6692.747867208975, 5878.488573860443, 4422.2706872735835, 4087.4241436396705, 4054.571930558935, 4111.71896155404, 4110.423936596657, 30.601329728230752, 10.047068804944221, 10.007824917656281, 11.636887207641223, 8.8626188879387, 6.181597785615715, 6.003862300129801, 5.994287375635607, 9.999034470702016, 5.823990160182277, 6.071944352552291, 10.961287146138345, 14.969476752468774, 18.178193699300387, 4.823549325616373, 4.861604453363411, 5.756421334681281, 4.720535974290301, 4.849680542980882, 4.833172423034606, 11.232950569476564, 23.07563991983172, 6.894126469565027, 5.842314769925781, 11.053713200443493, 4.236764943042393, 4.728486359561516, 4.3447701209817735, 6.2240514718884725, 4.292354274017739, 29.07822637859639, 12.822646687058699, 58.180204232109766, 5.99001591951716, 17.630191855626435, 13.791038075261419, 9255.52236717792, 1245.8091844146672, 74.73287746302493, 25.254384176856714, 4537.28634911499, 1021.6732390810836, 6355.3154506161, 19772.82477572956, 2035.4661585561623, 265.8326971210129, 3296.5728580668347, 7484.6715922569865, 2766.8736543185355, 1672.1599934090814, 17980.690402556513, 2802.3957103886805, 5589.901249998055, 433.4582748165004, 12305.47527761073, 1702.0135696701836, 2383.569861938708, 1275.7475687379792, 6945.431955828106, 7150.3297519446605, 2946.4191521961975, 1401.9010790927312, 2013.3887416635857, 5082.421568821516, 8344.730831392339, 1523.076906404672, 18072.970681146788, 11302.516540651151, 20048.342074493732, 3029.2550000734045, 8895.596951159512, 4977.192408249542, 7868.38955913302, 6237.47626085685, 2397.4368338824493, 3477.977492860814, 9159.367858989604, 4690.503971447533, 4401.459881624503, 4648.776507568225, 3768.5663416156394, 3330.7859861253796, 3013.3365078239035], \"Total\": [48840.0, 47060.0, 18450.0, 34588.0, 13904.0, 82239.0, 9390.0, 17308.0, 13961.0, 40645.0, 17555.0, 26399.0, 28584.0, 6479.0, 15729.0, 5755.0, 6962.0, 6163.0, 7627.0, 18117.0, 8040.0, 19824.0, 5842.0, 5036.0, 7676.0, 18471.0, 6245.0, 21470.0, 6952.0, 4030.0, 21.182802035994477, 27.14345999630495, 21.831625120436414, 30.06892331388942, 20.65606875858671, 10.384803300294854, 14.353208896251905, 16.55415177228744, 74.01761161424307, 8.697738876692396, 38.23399311754487, 10.762728774208815, 9.43410618773464, 8.920991334422233, 12.822239004798401, 6.794225656119697, 6.778982025675359, 6.738007999878926, 7.04482110608639, 6.911007845112793, 17.259860484781665, 6.361457246958352, 10.514633784289757, 9.47811479407129, 9.560574592792603, 57.939628988085836, 7.716426384763773, 6.496640481390157, 6.888869310824316, 6.009323443852383, 15.567645232290804, 10.725016450190237, 7.757575105879532, 5036.872010471747, 1398.394678229725, 6163.4839943918, 6952.1281236489085, 8040.946839706907, 1091.7323215941988, 51.55660613050823, 401.2494788389031, 45.939428777804906, 111.97565213367388, 1299.2172322116257, 18117.709042083297, 1315.8976332386344, 1166.0649179709483, 332.3883433812863, 272.06138226316904, 17555.073564627146, 82239.0743797716, 6405.590922161138, 6415.090672782155, 8014.343369951481, 13830.028048990576, 28584.4855654395, 18471.2996471485, 40645.08651337273, 47958.97146292424, 2973.2956784800745, 3257.297593647296, 8076.360895093489, 15729.829869992562, 4050.7571996574998, 4002.509136510481, 3134.4191861599784, 34588.84998909202, 48840.543642097895, 26399.391363715684, 31643.02434020199, 68598.45011856024, 13904.510196640564, 9849.615864336998, 14621.324672752853, 22258.57058293745, 5426.2375091417225, 12205.805954887846, 15172.552003690094, 21470.138180489714, 47060.85570137637, 19824.375467577054, 14395.705813523206, 14693.302741442807, 12594.983588486255, 16391.531781085054, 15307.010714094125, 18450.918019974346, 17308.22959104027, 13.585224880183668, 61.49153105072978, 11.068036249678142, 45.77755123513229, 8.800155142143824, 12.598470862497262, 12.132961231604622, 10.242841933877711, 20.61326606769994, 15.668622742395808, 11.374070702885625, 7.535416701687139, 7.892823192160536, 7.723726416146443, 7.7840270854006, 8.627651582263079, 15.141825510897489, 6.974935637024525, 17.1138624346559, 10.935560705576563, 10.566295858331623, 7.581192074712505, 7.153909621474178, 12.160176287261763, 10.541529316221405, 8.007063436844552, 6.7229740839971885, 7.022389577258076, 19.21491018076867, 7.707980887222393, 12.832869299877826, 10.890310460901688, 23.48035132252678, 11.61468450722526, 1436.1860060737604, 88.84251396671833, 6479.544521025533, 86.24718652515419, 38.91733243811686, 18.605660122176392, 7627.578812209939, 1201.4711447555896, 3654.970395611224, 163.46306791445355, 36.15990517668608, 2258.1587279793594, 357.1776249991107, 3894.5811008584506, 5612.801810478367, 5260.123354008323, 711.103136117677, 10647.278898129553, 4299.427064937288, 2191.730894698842, 1746.0879997647849, 2101.0819761847174, 5285.176480395181, 15307.010714094125, 6807.344256811574, 3192.684098358749, 1584.8544160461345, 3924.8864661988273, 868.3543849488607, 338.5881449159356, 2479.0739965535495, 1382.339571350039, 6799.3355496334225, 2937.3110536008885, 3387.8481468470773, 4172.209272993866, 4066.4411983392574, 2892.9038226736798, 3648.430926576077, 68598.45011856024, 5638.151705552607, 14395.705813523206, 47060.85570137637, 47958.97146292424, 4262.688118424561, 16391.531781085054, 4993.752655658143, 12594.983588486255, 15172.552003690094, 5963.2083246760885, 82239.0743797716, 7968.9588083133385, 11517.100581629382, 22258.57058293745, 12205.805954887846, 31643.02434020199, 21470.138180489714, 40645.08651337273, 19824.375467577054, 18117.709042083297, 10977.869391667846, 17308.22959104027, 48840.543642097895, 28584.4855654395, 34588.84998909202, 26399.391363715684, 14621.324672752853, 13961.908548096288, 14693.302741442807, 18471.2996471485, 18450.918019974346, 33.37628067673739, 11.06759101451417, 11.091313571377306, 12.976557503508152, 9.939317888150608, 6.989462088057342, 6.807244673641058, 6.8110534247987236, 11.3888441669122, 6.663209130541052, 6.964991445444785, 12.657484843124097, 17.312116850439438, 21.048324232500086, 5.597291951960917, 5.643361652182568, 6.68418079959309, 5.498025078902867, 5.649752824426196, 5.644007142559709, 13.127162097528535, 26.99634809312577, 8.08916236999848, 6.867719291130948, 13.0041010024241, 4.998090808080901, 5.582896995054918, 5.1376783773640575, 7.364645675759366, 5.080405688142379, 34.420648534738994, 15.183199490715465, 70.40913597295486, 7.090439008001917, 21.552202192413397, 17.02733367212481, 18450.918019974346, 2146.1471395879216, 108.0014138056373, 33.24209477507419, 9390.245563721928, 1866.5254802086663, 13961.908548096288, 48840.543642097895, 4030.690986365915, 434.0368393096072, 6962.951835515225, 17308.22959104027, 5842.210767010852, 3354.8933516946545, 47060.85570137637, 6245.1545983424, 13904.510196640564, 788.3764372169506, 34588.84998909202, 3904.441224604353, 5755.592755405356, 2824.603434432126, 19824.375467577054, 21470.138180489714, 7676.217879826735, 3254.6858138645753, 4962.101237217169, 14693.302741442807, 26399.391363715684, 3607.2889359160154, 68598.45011856024, 40645.08651337273, 82239.0743797716, 8334.853697028499, 31643.02434020199, 15729.829869992562, 28584.4855654395, 22258.57058293745, 6369.37145373903, 10977.869391667846, 47958.97146292424, 17555.073564627146, 16391.531781085054, 18471.2996471485, 14621.324672752853, 15172.552003690094, 11517.100581629382], \"Category\": [\"Default\", \"Default\", \"Default\", \"Default\", \"Default\", \"Default\", \"Default\", \"Default\", \"Default\", \"Default\", \"Default\", \"Default\", \"Default\", \"Default\", \"Default\", \"Default\", \"Default\", \"Default\", \"Default\", \"Default\", \"Default\", \"Default\", \"Default\", \"Default\", \"Default\", \"Default\", \"Default\", \"Default\", \"Default\", \"Default\", \"Topic1\", \"Topic1\", \"Topic1\", \"Topic1\", \"Topic1\", \"Topic1\", \"Topic1\", \"Topic1\", \"Topic1\", \"Topic1\", \"Topic1\", \"Topic1\", \"Topic1\", \"Topic1\", \"Topic1\", \"Topic1\", \"Topic1\", \"Topic1\", \"Topic1\", \"Topic1\", \"Topic1\", \"Topic1\", \"Topic1\", \"Topic1\", \"Topic1\", \"Topic1\", \"Topic1\", \"Topic1\", \"Topic1\", \"Topic1\", \"Topic1\", \"Topic1\", \"Topic1\", \"Topic1\", \"Topic1\", \"Topic1\", \"Topic1\", \"Topic1\", \"Topic1\", \"Topic1\", \"Topic1\", \"Topic1\", \"Topic1\", \"Topic1\", \"Topic1\", \"Topic1\", \"Topic1\", \"Topic1\", \"Topic1\", \"Topic1\", \"Topic1\", \"Topic1\", \"Topic1\", \"Topic1\", \"Topic1\", \"Topic1\", \"Topic1\", \"Topic1\", \"Topic1\", \"Topic1\", \"Topic1\", \"Topic1\", \"Topic1\", \"Topic1\", \"Topic1\", \"Topic1\", \"Topic1\", \"Topic1\", \"Topic1\", \"Topic1\", \"Topic1\", \"Topic1\", \"Topic1\", \"Topic1\", \"Topic1\", \"Topic1\", \"Topic1\", \"Topic1\", \"Topic1\", \"Topic1\", \"Topic1\", \"Topic1\", \"Topic1\", \"Topic1\", \"Topic1\", \"Topic1\", \"Topic1\", \"Topic1\", \"Topic2\", \"Topic2\", \"Topic2\", \"Topic2\", \"Topic2\", \"Topic2\", \"Topic2\", \"Topic2\", \"Topic2\", \"Topic2\", \"Topic2\", \"Topic2\", \"Topic2\", \"Topic2\", \"Topic2\", \"Topic2\", \"Topic2\", \"Topic2\", \"Topic2\", \"Topic2\", \"Topic2\", \"Topic2\", \"Topic2\", \"Topic2\", \"Topic2\", \"Topic2\", \"Topic2\", \"Topic2\", \"Topic2\", \"Topic2\", \"Topic2\", \"Topic2\", \"Topic2\", \"Topic2\", \"Topic2\", \"Topic2\", \"Topic2\", \"Topic2\", \"Topic2\", \"Topic2\", \"Topic2\", \"Topic2\", \"Topic2\", \"Topic2\", \"Topic2\", \"Topic2\", \"Topic2\", \"Topic2\", \"Topic2\", \"Topic2\", \"Topic2\", \"Topic2\", \"Topic2\", \"Topic2\", \"Topic2\", \"Topic2\", \"Topic2\", \"Topic2\", \"Topic2\", \"Topic2\", \"Topic2\", \"Topic2\", \"Topic2\", \"Topic2\", \"Topic2\", \"Topic2\", \"Topic2\", \"Topic2\", \"Topic2\", \"Topic2\", \"Topic2\", \"Topic2\", \"Topic2\", \"Topic2\", \"Topic2\", \"Topic2\", \"Topic2\", \"Topic2\", \"Topic2\", \"Topic2\", \"Topic2\", \"Topic2\", \"Topic2\", \"Topic2\", \"Topic2\", \"Topic2\", \"Topic2\", \"Topic2\", \"Topic2\", \"Topic2\", \"Topic2\", \"Topic2\", \"Topic2\", \"Topic2\", \"Topic2\", \"Topic2\", \"Topic2\", \"Topic2\", \"Topic2\", \"Topic2\", \"Topic2\", \"Topic2\", \"Topic2\", \"Topic2\", \"Topic2\", \"Topic3\", \"Topic3\", \"Topic3\", \"Topic3\", \"Topic3\", \"Topic3\", \"Topic3\", \"Topic3\", \"Topic3\", \"Topic3\", \"Topic3\", \"Topic3\", \"Topic3\", \"Topic3\", \"Topic3\", \"Topic3\", \"Topic3\", \"Topic3\", \"Topic3\", \"Topic3\", \"Topic3\", \"Topic3\", \"Topic3\", \"Topic3\", \"Topic3\", \"Topic3\", \"Topic3\", \"Topic3\", \"Topic3\", \"Topic3\", \"Topic3\", \"Topic3\", \"Topic3\", \"Topic3\", \"Topic3\", \"Topic3\", \"Topic3\", \"Topic3\", \"Topic3\", \"Topic3\", \"Topic3\", \"Topic3\", \"Topic3\", \"Topic3\", \"Topic3\", \"Topic3\", \"Topic3\", \"Topic3\", \"Topic3\", \"Topic3\", \"Topic3\", \"Topic3\", \"Topic3\", \"Topic3\", \"Topic3\", \"Topic3\", \"Topic3\", \"Topic3\", \"Topic3\", \"Topic3\", \"Topic3\", \"Topic3\", \"Topic3\", \"Topic3\", \"Topic3\", \"Topic3\", \"Topic3\", \"Topic3\", \"Topic3\", \"Topic3\", \"Topic3\", \"Topic3\", \"Topic3\", \"Topic3\", \"Topic3\", \"Topic3\", \"Topic3\", \"Topic3\", \"Topic3\", \"Topic3\", \"Topic3\", \"Topic3\", \"Topic3\"], \"logprob\": [30.0, 29.0, 28.0, 27.0, 26.0, 25.0, 24.0, 23.0, 22.0, 21.0, 20.0, 19.0, 18.0, 17.0, 16.0, 15.0, 14.0, 13.0, 12.0, 11.0, 10.0, 9.0, 8.0, 7.0, 6.0, 5.0, 4.0, 3.0, 2.0, 1.0, -10.9307, -10.6869, -10.9083, -10.6037, -10.9794, -11.684, -11.3615, -11.2258, -9.7309, -11.8729, -10.4018, -11.6695, -11.8019, -11.8604, -11.5026, -12.1417, -12.1502, -12.1583, -12.1156, -12.135, -11.2233, -12.2237, -11.7247, -11.8288, -11.8202, -10.0229, -12.0391, -12.2113, -12.153, -12.2897, -11.339, -11.7104, -12.0357, -5.7336, -6.9903, -5.5566, -5.5054, -5.3855, -7.2878, -10.2081, -8.2604, -10.3197, -9.4771, -7.1542, -4.6803, -7.1516, -7.2669, -8.4529, -8.6444, -4.7295, -3.3151, -5.6897, -5.695, -5.4892, -4.9918, -4.3534, -4.757, -4.0333, -3.9197, -6.4536, -6.3728, -5.5504, -4.9607, -6.1818, -6.194, -6.4209, -4.2836, -3.9799, -4.5308, -4.4046, -3.7986, -5.1641, -5.4776, -5.1692, -4.8752, -5.9841, -5.3792, -5.2523, -5.02, -4.4907, -5.0907, -5.3242, -5.3153, -5.4042, -5.3323, -5.3805, -5.404, -5.4407, -11.3402, -9.8325, -11.5478, -10.1292, -11.7824, -11.4241, -11.463, -11.6324, -10.9333, -11.2116, -11.5345, -11.95, -11.9039, -11.9268, -11.9208, -11.8189, -11.2569, -12.033, -11.1363, -11.5858, -11.6204, -11.9526, -12.0108, -11.4807, -11.6256, -11.9007, -12.0761, -12.0332, -11.0267, -11.9407, -11.4332, -11.597, -10.8431, -11.5348, -6.8517, -9.5617, -5.4621, -9.6165, -10.3827, -11.0898, -5.39, -7.1675, -6.1224, -9.048, -10.4662, -6.5994, -8.3158, -6.1083, -5.7695, -5.8304, -7.694, -5.1852, -6.0333, -6.6545, -6.8709, -6.7052, -5.8719, -4.9049, -5.6511, -6.3424, -6.981, -6.1634, -7.543, -8.4016, -6.6029, -7.1342, -5.7163, -6.466, -6.3411, -6.1596, -6.1832, -6.4891, -6.2883, -3.75, -5.9173, -5.1418, -4.1793, -4.1818, -6.1654, -5.101, -6.0452, -5.3238, -5.198, -5.909, -3.9265, -5.7035, -5.4385, -4.9765, -5.4252, -4.7872, -5.0521, -4.7451, -5.1982, -5.3132, -5.593, -5.3833, -4.9046, -5.1562, -5.076, -5.2057, -5.4903, -5.5691, -5.5772, -5.5632, -5.5635, -10.1897, -11.3035, -11.3074, -11.1566, -11.4289, -11.7892, -11.8184, -11.82, -11.3083, -11.8488, -11.8071, -11.2164, -10.9048, -10.7106, -12.0373, -12.0294, -11.8605, -12.0589, -12.0319, -12.0353, -11.1919, -10.472, -11.6801, -11.8457, -11.208, -12.167, -12.0572, -12.1418, -11.7824, -12.154, -10.2408, -11.0596, -9.5472, -11.8207, -10.7412, -10.9868, -4.4778, -6.4832, -9.2969, -10.3818, -5.1907, -6.6816, -4.8537, -3.7187, -5.9923, -8.0279, -5.5101, -4.6902, -5.6853, -6.1889, -3.8137, -5.6726, -4.9821, -7.539, -4.193, -6.1712, -5.8344, -6.4595, -4.7649, -4.7359, -5.6224, -6.3652, -6.0032, -5.0772, -4.5814, -6.2823, -3.8086, -4.278, -3.7049, -5.5947, -4.5175, -5.0982, -4.6402, -4.8725, -5.8286, -5.4566, -4.4883, -5.1575, -5.2211, -5.1664, -5.3763, -5.4998, -5.6], \"loglift\": [30.0, 29.0, 28.0, 27.0, 26.0, 25.0, 24.0, 23.0, 22.0, 21.0, 20.0, 19.0, 18.0, 17.0, 16.0, 15.0, 14.0, 13.0, 12.0, 11.0, 10.0, 9.0, 8.0, 7.0, 6.0, 5.0, 4.0, 3.0, 2.0, 1.0, 0.9358, 0.9317, 0.9281, 0.9125, 0.9123, 0.8954, 0.8943, 0.8873, 0.8845, 0.8838, 0.8742, 0.8742, 0.8736, 0.8709, 0.866, 0.862, 0.8558, 0.8537, 0.8518, 0.8517, 0.8481, 0.8458, 0.8423, 0.842, 0.8419, 0.8374, 0.8373, 0.8371, 0.8368, 0.8368, 0.8356, 0.8367, 0.8354, 0.6616, 0.6863, 0.6368, 0.5676, 0.542, 0.6364, 0.769, 0.6648, 0.7728, 0.7244, 0.596, 0.4348, 0.5859, 0.5915, 0.6605, 0.6693, 0.4171, 0.2872, 0.4651, 0.4584, 0.4415, 0.3933, 0.3057, 0.3387, 0.2738, 0.2219, 0.4687, 0.4583, 0.3727, 0.2957, 0.4313, 0.4311, 0.4486, 0.1849, 0.1436, 0.2079, 0.1529, -0.0149, 0.2157, 0.2469, 0.1603, 0.034, 0.3366, 0.1309, 0.0402, -0.0747, -0.3302, -0.0656, 0.0209, 0.0093, 0.0745, -0.1171, -0.0968, -0.3071, -0.2799, 0.9706, 0.9684, 0.9678, 0.9668, 0.9625, 0.962, 0.9608, 0.9607, 0.9605, 0.9565, 0.9539, 0.9502, 0.9499, 0.9486, 0.9469, 0.9458, 0.9453, 0.9444, 0.9435, 0.9419, 0.9417, 0.9415, 0.9413, 0.9409, 0.9388, 0.9388, 0.9381, 0.9374, 0.9374, 0.9368, 0.9346, 0.9348, 0.9204, 0.9326, 0.7983, 0.8712, 0.6812, 0.8461, 0.8756, 0.9065, 0.5903, 0.6609, 0.5935, 0.7752, 0.8656, 0.5981, 0.7257, 0.5441, 0.5175, 0.5214, 0.659, 0.4615, 0.5202, 0.5728, 0.5837, 0.5643, 0.4752, 0.3788, 0.4429, 0.5087, 0.5705, 0.4812, 0.6101, 0.6934, 0.5012, 0.554, 0.3789, 0.4685, 0.4507, 0.424, 0.426, 0.4607, 0.4293, 0.0337, 0.3652, 0.2032, -0.0188, -0.0401, 0.3967, 0.1142, 0.3586, 0.1549, 0.0945, 0.3174, -0.3241, 0.2329, 0.1297, -0.0672, 0.0849, -0.2298, -0.1068, -0.438, -0.1731, -0.1981, 0.0231, -0.2225, -0.7812, -0.497, -0.6075, -0.4671, -0.1608, -0.1934, -0.2526, -0.4674, -0.4666, 1.2222, 1.2122, 1.2062, 1.2, 1.1943, 1.1861, 1.1834, 1.1812, 1.1788, 1.1743, 1.1717, 1.1651, 1.1636, 1.1624, 1.1602, 1.1598, 1.1595, 1.1565, 1.1563, 1.1539, 1.1531, 1.152, 1.1491, 1.1473, 1.1465, 1.1437, 1.1429, 1.1413, 1.1407, 1.1404, 1.1403, 1.14, 1.1182, 1.1403, 1.1081, 1.0982, 0.6191, 0.7651, 0.9407, 1.0341, 0.5816, 0.7063, 0.5219, 0.4047, 0.6257, 0.8187, 0.5612, 0.4706, 0.5616, 0.6127, 0.3468, 0.5076, 0.3977, 0.7108, 0.2755, 0.4787, 0.4274, 0.5141, 0.2601, 0.2095, 0.3514, 0.4667, 0.4069, 0.2474, 0.1572, 0.4467, -0.0249, 0.0291, -0.1025, 0.2968, 0.04, 0.1583, 0.0189, 0.0368, 0.3319, 0.1595, -0.3466, -0.0108, -0.0059, -0.0707, -0.0468, -0.2073, -0.0318]}, \"token.table\": {\"Topic\": [1, 1, 2, 3, 1, 2, 3, 1, 2, 3, 2, 2, 3, 1, 2, 3, 1, 2, 1, 2, 3, 1, 2, 3, 1, 2, 3, 1, 2, 3, 2, 1, 2, 3, 1, 2, 1, 2, 3, 1, 2, 3, 1, 2, 3, 1, 2, 1, 2, 3, 3, 1, 2, 3, 1, 2, 1, 2, 3, 1, 2, 3, 1, 2, 3, 1, 2, 1, 2, 3, 1, 2, 3, 1, 2, 3, 1, 2, 3, 1, 2, 2, 1, 2, 3, 1, 2, 3, 2, 3, 1, 2, 3, 1, 2, 3, 1, 2, 3, 1, 3, 1, 2, 3, 1, 2, 3, 1, 2, 3, 1, 2, 3, 1, 2, 3, 2, 3, 1, 2, 1, 2, 3, 2, 3, 1, 2, 3, 2, 1, 2, 3, 1, 2, 3, 1, 2, 3, 1, 3, 2, 3, 1, 2, 3, 1, 2, 3, 1, 2, 3, 1, 2, 3, 1, 2, 3, 1, 2, 3, 1, 2, 3, 1, 2, 3, 1, 2, 3, 1, 2, 3, 3, 1, 2, 3, 1, 2, 2, 3, 2, 1, 2, 1, 2, 3, 1, 2, 3, 1, 2, 3, 1, 2, 3, 1, 2, 3, 1, 2, 1, 3, 1, 2, 3, 1, 1, 2, 3, 1, 2, 3, 1, 2, 3, 1, 2, 3, 1, 2, 3, 1, 2, 3, 1, 2, 3, 1, 2, 3, 1, 2, 3, 2, 3, 1, 2, 2, 3, 3, 1, 2, 3, 1, 2, 3, 1, 2, 3, 2, 1, 2, 3, 1, 2, 3, 1, 2, 3, 1, 2, 3, 1, 2, 3, 1, 1, 2, 3, 1, 3, 1, 2, 3, 1, 2, 3, 3, 1, 2, 3, 1, 2, 2, 3, 1, 2, 3, 1, 2, 3, 1, 1, 2, 1, 2, 3, 1, 2, 3, 1, 2, 3, 3, 1, 2, 3, 1, 2, 3, 1, 1, 2, 3, 1, 2, 3, 1, 2, 3, 1, 2, 3, 1, 2, 3, 2, 3, 1, 2, 3, 1, 2, 3, 2, 2, 1, 2, 3, 1, 2, 3, 1, 2, 1, 2, 3, 1, 2, 3, 1, 2, 3, 1, 2, 3, 1, 1, 2, 1, 2, 3, 1, 2, 3, 1, 2, 3, 2, 3, 1, 2, 3, 1, 2, 3, 2, 1, 2, 3, 2, 1, 2, 3, 1, 2, 3, 1, 2, 3, 1, 2, 3, 1, 2, 3, 1, 2, 3, 1, 2, 3, 1, 2, 3, 1, 2, 3, 1, 2, 3, 1, 2, 3, 1, 2, 3, 1, 2, 3, 1, 2, 3, 1, 2, 1, 2, 1, 2, 3, 1, 2, 3, 1, 2, 3, 1, 2, 3, 2, 1, 2, 3, 1, 2, 3, 1, 2, 3, 2, 3, 1, 2, 3, 1, 2, 3, 2, 1, 2, 1, 2, 3, 1, 2, 3, 1, 2, 3, 2, 3, 1, 2, 3, 1, 2, 3, 1, 2, 3, 2, 3, 2, 1, 2, 3, 1, 2, 1, 2, 3, 3, 1, 2, 1, 2, 3, 2, 3, 1, 2, 3, 1, 1, 3, 1, 2, 3, 1, 2, 3, 1, 2, 3, 3, 1, 2, 3, 1, 2, 3, 1, 2, 3, 1, 2, 3, 3, 1, 2, 3, 1, 2, 2, 1, 2, 3, 1, 2, 3, 2, 1, 2, 3, 1, 2, 3, 1, 2, 3, 1, 2, 3, 1, 2, 3, 2, 3, 1, 2, 3, 1, 2, 3], \"Freq\": [0.8904708928971015, 0.8690684384862656, 0.11587579179816875, 0.05793789589908437, 0.8350652784041527, 0.06423579064647328, 0.06423579064647328, 0.568610548013503, 0.16422602784240922, 0.2672161972281449, 0.9289466365453602, 0.14682016681282328, 0.8809210008769398, 0.4094595548308018, 0.2141498591983181, 0.3763322672275429, 0.8967613239496683, 0.11209516549370854, 0.7080490196271089, 0.17769923649115021, 0.1144969307288339, 0.4612227544281628, 0.22265664836799776, 0.31610577247889443, 0.6609486934467281, 0.20482936658719061, 0.13420351055186014, 0.6796400002306702, 0.11853291057250646, 0.20165988681816036, 0.9090748822924846, 0.22348333416649904, 0.1635805848022828, 0.6128512050339046, 0.9023438258038444, 0.12890626082912063, 0.7444250297904715, 0.119422651272823, 0.13587008228644534, 0.07617792730602992, 0.07617792730602992, 0.8379572003663291, 0.4507521934067422, 0.19350166316922107, 0.35575048039702156, 0.9291323984641725, 0.09291323984641725, 0.4213150884776584, 0.1426580573143196, 0.4359138483823554, 0.7785617756112332, 0.2882234493406711, 0.2630839595926237, 0.44866783614031136, 0.9235542611888713, 0.15392571019814522, 0.7277268019013042, 0.19190056077534393, 0.07975088240014293, 0.2659593612177447, 0.22899299477983057, 0.5048762127594314, 0.3476922196422366, 0.319234088871787, 0.333020679228666, 0.0824201100548433, 0.9066212106032763, 0.5257345279166176, 0.22261562957400177, 0.25168775824161826, 0.8892610273656725, 0.026154736098990366, 0.0784642082969711, 0.4993368457719508, 0.2568851869908251, 0.24377706280375183, 0.3332818477833785, 0.39819341396341046, 0.26849229582548945, 0.8516894765171944, 0.14194824608619908, 0.8544100172726001, 0.25204290573009214, 0.29272502293801833, 0.45516699798656873, 0.057763011227284826, 0.057763011227284826, 0.8664451684092723, 0.10061052591870248, 0.9054947332683223, 0.4036527689204419, 0.41468890874733827, 0.18165962535207927, 0.2770552213039887, 0.5283051298700953, 0.19471281429492854, 0.5986622900921587, 0.1311675804134505, 0.2700706848000019, 0.8367697905972024, 0.1045962238246503, 0.586711569441669, 0.11836323668453465, 0.29479145740299195, 0.7769546177426273, 0.1696797441047117, 0.053583077085698434, 0.7082033479719825, 0.19615529156887213, 0.0955628343540659, 0.6766347120475307, 0.22039939289761137, 0.10291022236464344, 0.5766823052730768, 0.25748272448622395, 0.16589490973609058, 0.9217365136411908, 0.04851244808637846, 0.8709702172129093, 0.14516170286881824, 0.052042918264632566, 0.8847296104987536, 0.052042918264632566, 0.14357519428886245, 0.8614511657331747, 0.2917177271035553, 0.5635242635612788, 0.1447318150246551, 0.8602229916145251, 0.3691337042780911, 0.36739897120767434, 0.2634607628709399, 0.27559604321558145, 0.22275314407395078, 0.5016552558512137, 0.7260458459927177, 0.1491004731584717, 0.12487909136708214, 0.13578385763913758, 0.8147031458348255, 0.14103499076311773, 0.8462099445787064, 0.1590573352850981, 0.7708163171508601, 0.06729348800523381, 0.22365071210768064, 0.563102024765706, 0.21328050907332144, 0.18692639366003522, 0.6121325858317637, 0.20104857999424117, 0.8629672104093302, 0.08629672104093303, 0.03451868841637321, 0.4981241936041186, 0.08774074564704566, 0.41420581707437, 0.2724998075635513, 0.5530791242462375, 0.1742235966417099, 0.43615228911084136, 0.18003657812161972, 0.38378274902047155, 0.22052162199940661, 0.6429600641421905, 0.13625281359268548, 0.5035655226704461, 0.17997651744477125, 0.31640520216270807, 0.36748521486120944, 0.18091035143938153, 0.4517448306000995, 0.8849944688523278, 0.28321787472345267, 0.2843733944081669, 0.43245324200429275, 0.8440497054334186, 0.10550621317917733, 0.07706204050879092, 0.9247444861054911, 0.8868816429275492, 0.09464054512646365, 0.9464054512646366, 0.1456547672941405, 0.6883228145843097, 0.16646259119330342, 0.05374708521134832, 0.8599533633815731, 0.05374708521134832, 0.21311462872736311, 0.5575810715595414, 0.22934912260548634, 0.13458657297436144, 0.6368522091382549, 0.22851081964583067, 0.05139098377773542, 0.8479512323326345, 0.10278196755547084, 0.8479870631942713, 0.10599838289928391, 0.14560874689380673, 0.8736524813628405, 0.09486289607535317, 0.9486289607535318, 0.8859967353086882, 0.8850886427010769, 0.20047808201406564, 0.586509318407347, 0.21298275111353454, 0.3158051076175036, 0.21070790649167853, 0.47362207738625056, 0.5925091622051146, 0.23179719131781257, 0.17567951218236366, 0.5825804790827507, 0.17481157661060906, 0.242565099879389, 0.2311349437881725, 0.6409635508680519, 0.1278256212101351, 0.43250951821495, 0.16263127737082692, 0.4048480734550372, 0.4397686354631356, 0.3024349776077738, 0.2577741815024196, 0.5965101497163449, 0.2127828668053855, 0.1906147324793659, 0.26931983801957815, 0.15050226242270542, 0.5805752909556996, 0.9245912911837663, 0.06604223508455473, 0.9198265275962405, 0.04841192250506529, 0.14960696456039557, 0.8976417873623734, 0.8814138888283445, 0.9051899749100701, 0.08106178879791673, 0.013510298132986123, 0.9071556768586078, 0.12959366812265824, 0.12959366812265824, 0.12782432102926283, 0.04260810700975428, 0.8237567355219161, 0.9233376401778417, 0.9578734620987667, 0.03684128700379872, 0.03684128700379872, 0.4270099016208628, 0.3867012155891159, 0.18622285233772468, 0.7314525800927687, 0.10291795096782674, 0.16540384976972156, 0.09004697911854356, 0.8441904292363459, 0.05627936194908972, 0.3900464469365926, 0.39044189787975236, 0.2195411819442024, 0.8831028440445863, 0.5438092795813776, 0.2678186411053096, 0.1883273939533869, 0.9311939675294677, 0.0665138548235334, 0.20378740672427048, 0.711779203196365, 0.08564977963773687, 0.22421592120066838, 0.5975214746519887, 0.1781632734851784, 0.8584351591593862, 0.1623761017897132, 0.654110821394022, 0.18310496584797445, 0.06382181870358154, 0.8935054618501417, 0.9045921490071579, 0.08223564990974162, 0.1851827609960053, 0.12036879464740345, 0.6944353537350199, 0.3145705379976415, 0.1357219659909179, 0.5492300119071725, 0.8320404196440893, 0.07360938142869228, 0.9569219585729997, 0.34010559587617645, 0.5188472229059918, 0.14104648127096908, 0.8054083601900621, 0.1523745546305523, 0.043535587037300656, 0.1317245420652611, 0.06586227103263055, 0.8562095234241971, 0.7873386980366477, 0.12032936032055677, 0.12032936032055677, 0.7520585020034798, 0.048787206119896995, 0.9432193183180085, 0.016262402039965665, 0.9197792798123489, 0.3120814554272283, 0.18957383538845962, 0.49837649806525863, 0.22884589069646516, 0.5188742303194916, 0.2522305286275307, 0.07900463736626383, 0.07900463736626383, 0.869051011028902, 0.20942352051987184, 0.6300956031327735, 0.16060365843789737, 0.46775398461875556, 0.34125002060672016, 0.19097573864945314, 0.08780522284300646, 0.8780522284300646, 0.257978740929324, 0.5982749430394861, 0.14372286524876118, 0.18149423870520326, 0.7020555202975932, 0.11652053590342556, 0.8924621640713898, 0.8791927060434906, 0.3315957970491278, 0.5675258662021521, 0.10077243934963227, 0.5086325575709711, 0.216096245141749, 0.2752542102598804, 0.09144478522167157, 0.9144478522167157, 0.20254226303058478, 0.6284488908986369, 0.16910070558316734, 0.2806685999016535, 0.5457140453165938, 0.17349924193139324, 0.08296481933072754, 0.8573031330841845, 0.08296481933072754, 0.04368953659681749, 0.939325036831576, 0.021844768298408746, 0.8681801749426427, 0.8559499250888968, 0.09510554723209964, 0.47961261282324985, 0.27148266864719944, 0.24894371859496373, 0.09956927542479879, 0.7888950283657136, 0.11140618229348116, 0.0950194408784268, 0.0475097204392134, 0.8551749679058411, 0.09035389893686785, 0.9035389893686785, 0.0851776011580041, 0.894364812159043, 0.04258880057900205, 0.1938807539143027, 0.5907255280813811, 0.21517944739761866, 0.9035026426020966, 0.5552411009434267, 0.2574832088109836, 0.18734596855637697, 0.9784859427057645, 0.09279794158130258, 0.09279794158130258, 0.8351814742317233, 0.20510147412738441, 0.5747936964364959, 0.22013375608206226, 0.6733046535082007, 0.19758375836583766, 0.12918938046997078, 0.2957900015649985, 0.2819291767493941, 0.4222007238833109, 0.5925157111109765, 0.16731661272304776, 0.24038331699476403, 0.07408409437827893, 0.07408409437827893, 0.8519670853502077, 0.1777967428362851, 0.5439645852750521, 0.2783760897519706, 0.3339382141139456, 0.4044420700319185, 0.2616109826118872, 0.305907826069074, 0.595959043797934, 0.09816844039840407, 0.19352049729074422, 0.6461016145244756, 0.16030759729805355, 0.5246729423847714, 0.36010218806457434, 0.11536538880676742, 0.2963703054701947, 0.5084352740465029, 0.1952439512388107, 0.7250555105163429, 0.22263115260667787, 0.05114499451775033, 0.11745820211852485, 0.05872910105926243, 0.822207414829674, 0.07937471228962946, 0.9524965474755535, 0.8578844923950899, 0.07798949930864454, 0.3030323991669361, 0.22346844222926662, 0.4735060758546864, 0.4365575126916525, 0.2823055060717049, 0.28113621202439126, 0.38254463319379384, 0.43526868923049067, 0.1821376481267709, 0.29265070855945896, 0.542877850030446, 0.16442128261407768, 0.9062982843833653, 0.3876259694148504, 0.33214172367686473, 0.28020667260551946, 0.9061171001893812, 0.060407806679292075, 0.060407806679292075, 0.029961397127660792, 0.059922794255321585, 0.9288033109574846, 0.9349146086157437, 0.05843216303848398, 0.07792489556560203, 0.9350987467872243, 0.9094174595867344, 0.4648132087070216, 0.1331222728325386, 0.4020278255720642, 0.8742281181124976, 0.09182474674070978, 0.918247467407098, 0.9057208108630487, 0.0696708316048499, 0.0696708316048499, 0.4927040810556819, 0.22922819950043885, 0.27809019415621555, 0.37813145878558474, 0.27597607368170374, 0.34587186348962234, 0.9272511672175753, 0.8932891196158411, 0.10435123002389335, 0.8232152590773809, 0.06956748668259556, 0.18422081600596604, 0.6862576962664995, 0.1293764509354876, 0.350881167044914, 0.29877359867841086, 0.3503262945840897, 0.1791184757457921, 0.8955923787289605, 0.9081496311964108, 0.2693108701724973, 0.34861244564068095, 0.3820797504001636, 0.9441621540915776, 0.047208107704578874, 0.29322650268850226, 0.3432573748738973, 0.3634136974809629, 0.8858954061727791, 0.08609790471518364, 0.8609790471518364, 0.5787155525925348, 0.2913723797936091, 0.12992812692444702, 0.09016064630799372, 0.9016064630799373, 0.2935138775670317, 0.4483647219097923, 0.2581265695405661, 0.9431801184970349, 0.07689881828921427, 0.845887001181357, 0.39125707363756834, 0.12555582194303025, 0.4831609534822122, 0.40710534772839124, 0.16222764045327592, 0.430763545294494, 0.11620931534636848, 0.05810465767318424, 0.8425175362611715, 0.9004670095823333, 0.1851932805120972, 0.6185166204603246, 0.19676786054410328, 0.2785413337190803, 0.487992342638485, 0.23359908360666998, 0.8391595520434246, 0.09323995022704719, 0.09323995022704719, 0.33272195005152877, 0.2615827323845453, 0.4056749154777271, 0.8003055873920517, 0.18752243104548022, 0.62444017647632, 0.18799837630194083, 0.9629455379011437, 0.09629455379011437, 0.976291547263409, 0.34454857028044616, 0.5714094905255065, 0.08400854761368373, 0.8146385720907029, 0.13577309534845047, 0.058188469435050204, 0.8992774463913301, 0.5766382839570956, 0.17713888358993968, 0.24634547139588225, 0.6442027416996096, 0.14500779861423643, 0.2107960708843317, 0.3196430814401304, 0.3635495976140098, 0.3168192183667066, 0.17044592806071193, 0.5118698734476739, 0.31765729152625916, 0.18322814428537373, 0.2694846683495409, 0.5475414136247133, 0.12362219402454495, 0.8653553581718147, 0.9619073195033045, 0.045805110452538315, 0.045805110452538315, 0.14558582722008262, 0.7335285909934932, 0.12038828020122218], \"Term\": [\"aaa\", \"abundar\", \"abundar\", \"abundar\", \"acompanarla\", \"acompanarla\", \"acompanarla\", \"agradable\", \"agradable\", \"agradable\", \"alcanzamos\", \"ali\", \"ali\", \"almuerzo\", \"almuerzo\", \"almuerzo\", \"ambicioso\", \"ambicioso\", \"ambientacion\", \"ambientacion\", \"ambientacion\", \"ambiente\", \"ambiente\", \"ambiente\", \"amigo\", \"amigo\", \"amigo\", \"aniversario\", \"aniversario\", \"aniversario\", \"antihigienico\", \"arabir\", \"arabir\", \"arabir\", \"arracherar\", \"arracherar\", \"artesanal\", \"artesanal\", \"artesanal\", \"asemeja\", \"asemeja\", \"asemeja\", \"atencion\", \"atencion\", \"atencion\", \"atension\", \"atension\", \"atento\", \"atento\", \"atento\", \"basilic\", \"bastante\", \"bastante\", \"bastante\", \"bavario\", \"bavario\", \"bbc\", \"bbc\", \"bbc\", \"bebida\", \"bebida\", \"bebida\", \"bien\", \"bien\", \"bien\", \"bif\", \"bif\", \"bogota\", \"bogota\", \"bogota\", \"botana\", \"botana\", \"botana\", \"buen\", \"buen\", \"buen\", \"bueno\", \"bueno\", \"bueno\", \"buenoooo\", \"buenoooo\", \"cairo\", \"calidad\", \"calidad\", \"calidad\", \"calzon\", \"calzon\", \"calzon\", \"cantor\", \"cantor\", \"carne\", \"carne\", \"carne\", \"caro\", \"caro\", \"caro\", \"cartar\", \"cartar\", \"cartar\", \"cartoccio\", \"cartoccio\", \"celebrar\", \"celebrar\", \"celebrar\", \"cervecerio\", \"cervecerio\", \"cervecerio\", \"cerveza\", \"cerveza\", \"cerveza\", \"cevich\", \"cevich\", \"cevich\", \"ciudad\", \"ciudad\", \"ciudad\", \"clack\", \"clack\", \"clic\", \"clic\", \"click\", \"click\", \"click\", \"colaboradores\", \"colaboradores\", \"comer\", \"comer\", \"comer\", \"comerar\", \"comida\", \"comida\", \"comida\", \"comido\", \"comido\", \"comido\", \"compartir\", \"compartir\", \"compartir\", \"conde\", \"conde\", \"conmemorar\", \"conmemorar\", \"contestar\", \"contestar\", \"contestar\", \"cosa\", \"cosa\", \"cosa\", \"costoso\", \"costoso\", \"costoso\", \"criterion\", \"criterion\", \"criterion\", \"cumpleano\", \"cumpleano\", \"cumpleano\", \"decir\", \"decir\", \"decir\", \"decoracion\", \"decoracion\", \"decoracion\", \"dejar\", \"dejar\", \"dejar\", \"delicios\", \"delicios\", \"delicios\", \"deliciosa\", \"deliciosa\", \"deliciosa\", \"deliciosisimos\", \"delicioso\", \"delicioso\", \"delicioso\", \"deliiii\", \"deliiii\", \"delis\", \"delis\", \"descomplicada\", \"describiar\", \"describiar\", \"desear\", \"desear\", \"desear\", \"despacio\", \"despacio\", \"despacio\", \"despu\", \"despu\", \"despu\", \"domicilio\", \"domicilio\", \"domicilio\", \"donuts\", \"donuts\", \"donuts\", \"downtown\", \"downtown\", \"eccelente\", \"eccelente\", \"empenar\", \"empenar\", \"emplazado\", \"enamorarar\", \"ensalado\", \"ensalado\", \"ensalado\", \"entrada\", \"entrada\", \"entrada\", \"especial\", \"especial\", \"especial\", \"espectacular\", \"espectacular\", \"espectacular\", \"esperar\", \"esperar\", \"esperar\", \"excelente\", \"excelente\", \"excelente\", \"experiencia\", \"experiencia\", \"experiencia\", \"familia\", \"familia\", \"familia\", \"familiar\", \"familiar\", \"familiar\", \"fancy\", \"fancy\", \"fatima\", \"fatima\", \"fermentada\", \"fermentada\", \"fiorentina\", \"gaira\", \"gaira\", \"gaira\", \"gastronomio\", \"gastronomio\", \"gastronomio\", \"geraldine\", \"geraldine\", \"geraldine\", \"gofres\", \"gol\", \"gol\", \"gol\", \"gran\", \"gran\", \"gran\", \"grecia\", \"grecia\", \"grecia\", \"gris\", \"gris\", \"gris\", \"hacer\", \"hacer\", \"hacer\", \"hamburgeusa\", \"hamburguesa\", \"hamburguesa\", \"hamburguesa\", \"hanz\", \"hanz\", \"hard\", \"hard\", \"hard\", \"hora\", \"hora\", \"hora\", \"hornado\", \"horrible\", \"horrible\", \"horrible\", \"incapaz\", \"incapaz\", \"inclusion\", \"inclusion\", \"incomparable\", \"incomparable\", \"incomparable\", \"indio\", \"indio\", \"indio\", \"iniciado\", \"invierno\", \"invierno\", \"ir\", \"ir\", \"ir\", \"isidro\", \"isidro\", \"isidro\", \"julian\", \"julian\", \"julian\", \"karir\", \"kevin\", \"kevin\", \"kevin\", \"kfc\", \"kfc\", \"kfc\", \"lazana\", \"lindo\", \"lindo\", \"lindo\", \"llegar\", \"llegar\", \"llegar\", \"lucio\", \"lucio\", \"lucio\", \"luego\", \"luego\", \"luego\", \"lugar\", \"lugar\", \"lugar\", \"madres\", \"madres\", \"mal\", \"mal\", \"mal\", \"malo\", \"malo\", \"malo\", \"malocaro\", \"marly\", \"medio\", \"medio\", \"medio\", \"mejor\", \"mejor\", \"mejor\", \"mejorio\", \"mejorio\", \"mientras\", \"mientras\", \"mientras\", \"mismo\", \"mismo\", \"mismo\", \"mister\", \"mister\", \"mister\", \"miti\", \"miti\", \"miti\", \"modernizacion\", \"mts\", \"mts\", \"musico\", \"musico\", \"musico\", \"nar\", \"nar\", \"nar\", \"nau\", \"nau\", \"nau\", \"nazca\", \"nazca\", \"niko\", \"niko\", \"niko\", \"nunca\", \"nunca\", \"nunca\", \"odisea\", \"opcion\", \"opcion\", \"opcion\", \"optado\", \"papardelle\", \"papardelle\", \"papardelle\", \"parecer\", \"parecer\", \"parecer\", \"parejo\", \"parejo\", \"parejo\", \"parte\", \"parte\", \"parte\", \"pasta\", \"pasta\", \"pasta\", \"pate\", \"pate\", \"pate\", \"pedi\", \"pedi\", \"pedi\", \"pedir\", \"pedir\", \"pedir\", \"pena\", \"pena\", \"pena\", \"peor\", \"peor\", \"peor\", \"pequeno\", \"pequeno\", \"pequeno\", \"pesimo\", \"pesimo\", \"pesimo\", \"picada\", \"picada\", \"picada\", \"piza\", \"piza\", \"piza\", \"pizar\", \"pizar\", \"pizarra\", \"pizarra\", \"pizza\", \"pizza\", \"pizza\", \"plato\", \"plato\", \"plato\", \"poder\", \"poder\", \"poder\", \"pollo\", \"pollo\", \"pollo\", \"poquitico\", \"precio\", \"precio\", \"precio\", \"puchero\", \"puchero\", \"puchero\", \"raul\", \"raul\", \"raul\", \"raush\", \"raush\", \"realista\", \"realista\", \"recomendadisimooo\", \"recomendado\", \"recomendado\", \"recomendado\", \"recortar\", \"reiterar\", \"reiterar\", \"remontar\", \"remontar\", \"remontar\", \"restaurante\", \"restaurante\", \"restaurante\", \"rico\", \"rico\", \"rico\", \"rocks\", \"rodillo\", \"roscon\", \"roscon\", \"roscon\", \"sabio\", \"sabio\", \"sabio\", \"sabor\", \"sabor\", \"sabor\", \"saborcito\", \"saborcito\", \"salmo\", \"servicio\", \"servicio\", \"servicio\", \"shar\", \"shar\", \"siempre\", \"siempre\", \"siempre\", \"sintetizar\", \"sirloin\", \"sirloin\", \"sitio\", \"sitio\", \"sitio\", \"sofiar\", \"sofiar\", \"solo\", \"solo\", \"solo\", \"steampunk\", \"stephany\", \"stephany\", \"super\", \"super\", \"super\", \"sushi\", \"sushi\", \"sushi\", \"teo\", \"teo\", \"teo\", \"terracitar\", \"terrible\", \"terrible\", \"terrible\", \"tiempo\", \"tiempo\", \"tiempo\", \"tilin\", \"tilin\", \"tilin\", \"todo\", \"todo\", \"todo\", \"tradional\", \"traer\", \"traer\", \"traer\", \"triqui\", \"triqui\", \"unicado\", \"valer\", \"valer\", \"valer\", \"valluno\", \"valluno\", \"valluno\", \"variadito\", \"variado\", \"variado\", \"variado\", \"variedad\", \"variedad\", \"variedad\", \"vez\", \"vez\", \"vez\", \"volver\", \"volver\", \"volver\", \"volverir\", \"volverir\", \"volverir\", \"yasai\", \"yasai\", \"yepes\", \"yepes\", \"yepes\", \"yuca\", \"yuca\", \"yuca\"]}, \"R\": 30, \"lambda.step\": 0.01, \"plot.opts\": {\"xlab\": \"PC1\", \"ylab\": \"PC2\"}, \"topic.order\": [3, 2, 1]};\n",
       "\n",
       "function LDAvis_load_lib(url, callback){\n",
       "  var s = document.createElement('script');\n",
       "  s.src = url;\n",
       "  s.async = true;\n",
       "  s.onreadystatechange = s.onload = callback;\n",
       "  s.onerror = function(){console.warn(\"failed to load library \" + url);};\n",
       "  document.getElementsByTagName(\"head\")[0].appendChild(s);\n",
       "}\n",
       "\n",
       "if(typeof(LDAvis) !== \"undefined\"){\n",
       "   // already loaded: just create the visualization\n",
       "   !function(LDAvis){\n",
       "       new LDAvis(\"#\" + \"ldavis_el1765223485546900001631172457\", ldavis_el1765223485546900001631172457_data);\n",
       "   }(LDAvis);\n",
       "}else if(typeof define === \"function\" && define.amd){\n",
       "   // require.js is available: use it to load d3/LDAvis\n",
       "   require.config({paths: {d3: \"https://d3js.org/d3.v5\"}});\n",
       "   require([\"d3\"], function(d3){\n",
       "      window.d3 = d3;\n",
       "      LDAvis_load_lib(\"https://cdn.jsdelivr.net/gh/bmabey/pyLDAvis@3.3.1/pyLDAvis/js/ldavis.v3.0.0.js\", function(){\n",
       "        new LDAvis(\"#\" + \"ldavis_el1765223485546900001631172457\", ldavis_el1765223485546900001631172457_data);\n",
       "      });\n",
       "    });\n",
       "}else{\n",
       "    // require.js not available: dynamically load d3 & LDAvis\n",
       "    LDAvis_load_lib(\"https://d3js.org/d3.v5.js\", function(){\n",
       "         LDAvis_load_lib(\"https://cdn.jsdelivr.net/gh/bmabey/pyLDAvis@3.3.1/pyLDAvis/js/ldavis.v3.0.0.js\", function(){\n",
       "                 new LDAvis(\"#\" + \"ldavis_el1765223485546900001631172457\", ldavis_el1765223485546900001631172457_data);\n",
       "            })\n",
       "         });\n",
       "}\n",
       "</script>"
      ],
      "text/plain": [
       "PreparedData(topic_coordinates=              x         y  topics  cluster       Freq\n",
       "topic                                                \n",
       "2     -0.014603  0.016557       1        1  37.466828\n",
       "1      0.030063 -0.000312       2        1  35.522960\n",
       "0     -0.015460 -0.016245       3        1  27.010212, topic_info=            Term          Freq         Total Category  logprob  loglift\n",
       "175    excelente  48840.000000  48840.000000  Default  30.0000  30.0000\n",
       "67      servicio  47060.000000  47060.000000  Default  29.0000  29.0000\n",
       "44        comido  18450.000000  18450.000000  Default  28.0000  28.0000\n",
       "80      atencion  34588.000000  34588.000000  Default  27.0000  27.0000\n",
       "183  recomendado  13904.000000  13904.000000  Default  26.0000  26.0000\n",
       "..           ...           ...           ...      ...      ...      ...\n",
       "43         bueno   4401.459882  16391.531781   Topic3  -5.2211  -0.0059\n",
       "207       bogota   4648.776508  18471.299647   Topic3  -5.1664  -0.0707\n",
       "677  experiencia   3768.566342  14621.324673   Topic3  -5.3763  -0.0468\n",
       "109        hacer   3330.785986  15172.552004   Topic3  -5.4998  -0.2073\n",
       "12         pedir   3013.336508  11517.100582   Topic3  -5.6000  -0.0318\n",
       "\n",
       "[306 rows x 6 columns], token_table=       Topic      Freq         Term\n",
       "term                               \n",
       "22258      1  0.890471          aaa\n",
       "19912      1  0.869068      abundar\n",
       "19912      2  0.115876      abundar\n",
       "19912      3  0.057938      abundar\n",
       "5401       1  0.835065  acompanarla\n",
       "...      ...       ...          ...\n",
       "11801      2  0.045805        yepes\n",
       "11801      3  0.045805        yepes\n",
       "164        1  0.145586         yuca\n",
       "164        2  0.733529         yuca\n",
       "164        3  0.120388         yuca\n",
       "\n",
       "[564 rows x 3 columns], R=30, lambda_step=0.01, plot_opts={'xlab': 'PC1', 'ylab': 'PC2'}, topic_order=[3, 2, 1])"
      ]
     },
     "execution_count": 16,
     "metadata": {},
     "output_type": "execute_result"
    }
   ],
   "source": [
    "LDA_visualization"
   ]
  },
  {
   "cell_type": "markdown",
   "metadata": {},
   "source": [
    "Note que puede seleccionar manualmente cada tema para ver sus términos más frecuentes y/o \"relevantes\", utilizando diferentes valores del parámetro $\\lambda$. Esto puede ayudar cuando intenta asignar un nombre interpretable por humanos o un \"significado\" a cada tema.\n",
    "\n",
    "Los valores de lambda ($\\lambda$) que están muy cerca de cero mostrarán términos que son más específicos para un tema elegido. Lo que significa que verá términos que son \"importantes\" para ese tema específico pero no necesariamente \"importantes\" para todo el corpus.\n",
    "\n",
    "Los valores de lambda que están muy cerca de uno mostrarán aquellos términos que tienen la relación más alta entre la frecuencia de los términos para ese tema específico y la frecuencia general de los términos del corpus."
   ]
  },
  {
   "cell_type": "code",
   "execution_count": 17,
   "metadata": {},
   "outputs": [],
   "source": [
    "# Guardamos la visualización como un html. \n",
    "# Es mucho más sencillo interactuar con la gráfica desde el archivo que \n",
    "# desde el notebook\n",
    "pyLDAvis.save_html(LDA_visualization, 'visualizacion_LDA.html')"
   ]
  }
 ],
 "metadata": {
  "interpreter": {
   "hash": "fe36d3cf18f454bb22b210d1ce52ae8c21a1b2f0a9257a143474ae90bef14b60"
  },
  "kernelspec": {
   "display_name": "Python 3.8.5 ('MIAD')",
   "language": "python",
   "name": "python3"
  },
  "language_info": {
   "codemirror_mode": {
    "name": "ipython",
    "version": 3
   },
   "file_extension": ".py",
   "mimetype": "text/x-python",
   "name": "python",
   "nbconvert_exporter": "python",
   "pygments_lexer": "ipython3",
   "version": "3.8.5"
  },
  "orig_nbformat": 4
 },
 "nbformat": 4,
 "nbformat_minor": 2
}
