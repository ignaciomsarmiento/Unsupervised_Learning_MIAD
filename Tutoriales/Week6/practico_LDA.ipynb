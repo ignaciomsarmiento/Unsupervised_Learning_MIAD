{
 "cells": [
  {
   "cell_type": "markdown",
   "metadata": {},
   "source": [
    "-----\n",
    "<div> <center> ESPACIO PARA BANNER DE LA MAESTRIA </center> </div>   \n",
    "\n",
    "-----"
   ]
  },
  {
   "cell_type": "markdown",
   "metadata": {},
   "source": [
    "# Aplicación de LDA\n",
    "En este Notebook usaremos datos de comentarios realizados por usuarios de Tripadvisor a restaurantes en Bogotá. El objetivo es aplicar la técnica de LDA para extraer algunos tópicos del corpus."
   ]
  },
  {
   "cell_type": "code",
   "execution_count": 1,
   "metadata": {},
   "outputs": [],
   "source": [
    "import os \n",
    "import pandas as pd"
   ]
  },
  {
   "cell_type": "markdown",
   "metadata": {},
   "source": [
    "Comenzamos importando la base de datos"
   ]
  },
  {
   "cell_type": "code",
   "execution_count": 2,
   "metadata": {},
   "outputs": [
    {
     "data": {
      "text/plain": [
       "['comentarios_tripadvisor.csv',\n",
       " 'enlaces_tripadvisor.csv',\n",
       " 'Scraping_tripadvisor.ipynb']"
      ]
     },
     "execution_count": 2,
     "metadata": {},
     "output_type": "execute_result"
    }
   ],
   "source": [
    "os.listdir(\"data\")"
   ]
  },
  {
   "cell_type": "code",
   "execution_count": 3,
   "metadata": {},
   "outputs": [
    {
     "data": {
      "text/html": [
       "<div>\n",
       "<style scoped>\n",
       "    .dataframe tbody tr th:only-of-type {\n",
       "        vertical-align: middle;\n",
       "    }\n",
       "\n",
       "    .dataframe tbody tr th {\n",
       "        vertical-align: top;\n",
       "    }\n",
       "\n",
       "    .dataframe thead th {\n",
       "        text-align: right;\n",
       "    }\n",
       "</style>\n",
       "<table border=\"1\" class=\"dataframe\">\n",
       "  <thead>\n",
       "    <tr style=\"text-align: right;\">\n",
       "      <th></th>\n",
       "      <th>nombre</th>\n",
       "      <th>link</th>\n",
       "      <th>puntaje_global</th>\n",
       "      <th>n_comentarios</th>\n",
       "      <th>posicion_relativa</th>\n",
       "      <th>n_restaurantes</th>\n",
       "      <th>lat</th>\n",
       "      <th>lon</th>\n",
       "      <th>excelente</th>\n",
       "      <th>muy_bueno</th>\n",
       "      <th>...</th>\n",
       "      <th>características</th>\n",
       "      <th>usuario</th>\n",
       "      <th>relevancia_usuario</th>\n",
       "      <th>fecha_comentario</th>\n",
       "      <th>titulo_comentario</th>\n",
       "      <th>contenido_comentario</th>\n",
       "      <th>fecha_visita</th>\n",
       "      <th>puntaje</th>\n",
       "      <th>rango_de_precios</th>\n",
       "      <th>dietas_especiales</th>\n",
       "    </tr>\n",
       "  </thead>\n",
       "  <tbody>\n",
       "    <tr>\n",
       "      <th>0</th>\n",
       "      <td>Asadero Cimarron del Llano</td>\n",
       "      <td>/Restaurant_Review-g294074-d10003846-Reviews-A...</td>\n",
       "      <td>4,0</td>\n",
       "      <td>17.0</td>\n",
       "      <td>83.0</td>\n",
       "      <td>127.0</td>\n",
       "      <td>4.666695</td>\n",
       "      <td>-74.113075</td>\n",
       "      <td>9.0</td>\n",
       "      <td>3.0</td>\n",
       "      <td>...</td>\n",
       "      <td>Comida para llevar, Servicio de mesa, Reservas...</td>\n",
       "      <td>Marylyn73</td>\n",
       "      <td>4 opiniones</td>\n",
       "      <td>Escribió una opinión el 6 de enero de 2021</td>\n",
       "      <td>Comida recalentada</td>\n",
       "      <td>Fui temprano para evitar aglomeraciones y me t...</td>\n",
       "      <td>enero de 2021</td>\n",
       "      <td>10.0</td>\n",
       "      <td>NaN</td>\n",
       "      <td>NaN</td>\n",
       "    </tr>\n",
       "    <tr>\n",
       "      <th>1</th>\n",
       "      <td>Asadero Cimarron del Llano</td>\n",
       "      <td>/Restaurant_Review-g294074-d10003846-Reviews-A...</td>\n",
       "      <td>4,0</td>\n",
       "      <td>17.0</td>\n",
       "      <td>83.0</td>\n",
       "      <td>127.0</td>\n",
       "      <td>4.666695</td>\n",
       "      <td>-74.113075</td>\n",
       "      <td>9.0</td>\n",
       "      <td>3.0</td>\n",
       "      <td>...</td>\n",
       "      <td>Comida para llevar, Servicio de mesa, Reservas...</td>\n",
       "      <td>jairoenriquer2020</td>\n",
       "      <td>1 opinión</td>\n",
       "      <td>Escribió una opinión el 10 de marzo de 2020</td>\n",
       "      <td>Mala calidad y costo alto</td>\n",
       "      <td>Mala calidad de la carne no es la mamona tradi...</td>\n",
       "      <td>marzo de 2020</td>\n",
       "      <td>10.0</td>\n",
       "      <td>NaN</td>\n",
       "      <td>NaN</td>\n",
       "    </tr>\n",
       "    <tr>\n",
       "      <th>2</th>\n",
       "      <td>Asadero Cimarron del Llano</td>\n",
       "      <td>/Restaurant_Review-g294074-d10003846-Reviews-A...</td>\n",
       "      <td>4,0</td>\n",
       "      <td>17.0</td>\n",
       "      <td>83.0</td>\n",
       "      <td>127.0</td>\n",
       "      <td>4.666695</td>\n",
       "      <td>-74.113075</td>\n",
       "      <td>9.0</td>\n",
       "      <td>3.0</td>\n",
       "      <td>...</td>\n",
       "      <td>Comida para llevar, Servicio de mesa, Reservas...</td>\n",
       "      <td>HectorLatorre</td>\n",
       "      <td>55 opiniones</td>\n",
       "      <td>Escribió una opinión el 13 de febrero de 2020</td>\n",
       "      <td>Maravilloso sitio de comida llanera</td>\n",
       "      <td>Este es un restaurante bastante típico y muy b...</td>\n",
       "      <td>enero de 2020</td>\n",
       "      <td>40.0</td>\n",
       "      <td>NaN</td>\n",
       "      <td>NaN</td>\n",
       "    </tr>\n",
       "    <tr>\n",
       "      <th>3</th>\n",
       "      <td>Asadero Cimarron del Llano</td>\n",
       "      <td>/Restaurant_Review-g294074-d10003846-Reviews-A...</td>\n",
       "      <td>4,0</td>\n",
       "      <td>17.0</td>\n",
       "      <td>83.0</td>\n",
       "      <td>127.0</td>\n",
       "      <td>4.666695</td>\n",
       "      <td>-74.113075</td>\n",
       "      <td>9.0</td>\n",
       "      <td>3.0</td>\n",
       "      <td>...</td>\n",
       "      <td>Comida para llevar, Servicio de mesa, Reservas...</td>\n",
       "      <td>Ingriofercas</td>\n",
       "      <td>1 opinión</td>\n",
       "      <td>Escribió una opinión el 13 de enero de 2020</td>\n",
       "      <td>Buen Restaurante Tipico!!!</td>\n",
       "      <td>buen servicio, eramos mas o menos 20 personas ...</td>\n",
       "      <td>diciembre de 2019</td>\n",
       "      <td>50.0</td>\n",
       "      <td>NaN</td>\n",
       "      <td>NaN</td>\n",
       "    </tr>\n",
       "    <tr>\n",
       "      <th>4</th>\n",
       "      <td>Asadero Cimarron del Llano</td>\n",
       "      <td>/Restaurant_Review-g294074-d10003846-Reviews-A...</td>\n",
       "      <td>4,0</td>\n",
       "      <td>17.0</td>\n",
       "      <td>83.0</td>\n",
       "      <td>127.0</td>\n",
       "      <td>4.666695</td>\n",
       "      <td>-74.113075</td>\n",
       "      <td>9.0</td>\n",
       "      <td>3.0</td>\n",
       "      <td>...</td>\n",
       "      <td>Comida para llevar, Servicio de mesa, Reservas...</td>\n",
       "      <td>profet2016</td>\n",
       "      <td>429 opiniones</td>\n",
       "      <td>Escribió una opinión el 12 de octubre de 2019</td>\n",
       "      <td>Un recuerdo de la cultura llanera</td>\n",
       "      <td>Muy buen ambiente, buena comida y muy buena mú...</td>\n",
       "      <td>octubre de 2019</td>\n",
       "      <td>50.0</td>\n",
       "      <td>NaN</td>\n",
       "      <td>NaN</td>\n",
       "    </tr>\n",
       "  </tbody>\n",
       "</table>\n",
       "<p>5 rows × 25 columns</p>\n",
       "</div>"
      ],
      "text/plain": [
       "                       nombre  \\\n",
       "0  Asadero Cimarron del Llano   \n",
       "1  Asadero Cimarron del Llano   \n",
       "2  Asadero Cimarron del Llano   \n",
       "3  Asadero Cimarron del Llano   \n",
       "4  Asadero Cimarron del Llano   \n",
       "\n",
       "                                                link puntaje_global  \\\n",
       "0  /Restaurant_Review-g294074-d10003846-Reviews-A...            4,0   \n",
       "1  /Restaurant_Review-g294074-d10003846-Reviews-A...            4,0   \n",
       "2  /Restaurant_Review-g294074-d10003846-Reviews-A...            4,0   \n",
       "3  /Restaurant_Review-g294074-d10003846-Reviews-A...            4,0   \n",
       "4  /Restaurant_Review-g294074-d10003846-Reviews-A...            4,0   \n",
       "\n",
       "   n_comentarios  posicion_relativa  n_restaurantes       lat        lon  \\\n",
       "0           17.0               83.0           127.0  4.666695 -74.113075   \n",
       "1           17.0               83.0           127.0  4.666695 -74.113075   \n",
       "2           17.0               83.0           127.0  4.666695 -74.113075   \n",
       "3           17.0               83.0           127.0  4.666695 -74.113075   \n",
       "4           17.0               83.0           127.0  4.666695 -74.113075   \n",
       "\n",
       "   excelente  muy_bueno  ...  \\\n",
       "0        9.0        3.0  ...   \n",
       "1        9.0        3.0  ...   \n",
       "2        9.0        3.0  ...   \n",
       "3        9.0        3.0  ...   \n",
       "4        9.0        3.0  ...   \n",
       "\n",
       "                                     características            usuario  \\\n",
       "0  Comida para llevar, Servicio de mesa, Reservas...          Marylyn73   \n",
       "1  Comida para llevar, Servicio de mesa, Reservas...  jairoenriquer2020   \n",
       "2  Comida para llevar, Servicio de mesa, Reservas...      HectorLatorre   \n",
       "3  Comida para llevar, Servicio de mesa, Reservas...       Ingriofercas   \n",
       "4  Comida para llevar, Servicio de mesa, Reservas...         profet2016   \n",
       "\n",
       "   relevancia_usuario                               fecha_comentario  \\\n",
       "0         4 opiniones     Escribió una opinión el 6 de enero de 2021   \n",
       "1           1 opinión    Escribió una opinión el 10 de marzo de 2020   \n",
       "2        55 opiniones  Escribió una opinión el 13 de febrero de 2020   \n",
       "3           1 opinión    Escribió una opinión el 13 de enero de 2020   \n",
       "4       429 opiniones  Escribió una opinión el 12 de octubre de 2019   \n",
       "\n",
       "                     titulo_comentario  \\\n",
       "0                   Comida recalentada   \n",
       "1            Mala calidad y costo alto   \n",
       "2  Maravilloso sitio de comida llanera   \n",
       "3           Buen Restaurante Tipico!!!   \n",
       "4    Un recuerdo de la cultura llanera   \n",
       "\n",
       "                                contenido_comentario       fecha_visita  \\\n",
       "0  Fui temprano para evitar aglomeraciones y me t...      enero de 2021   \n",
       "1  Mala calidad de la carne no es la mamona tradi...      marzo de 2020   \n",
       "2  Este es un restaurante bastante típico y muy b...      enero de 2020   \n",
       "3  buen servicio, eramos mas o menos 20 personas ...  diciembre de 2019   \n",
       "4  Muy buen ambiente, buena comida y muy buena mú...    octubre de 2019   \n",
       "\n",
       "  puntaje rango_de_precios dietas_especiales  \n",
       "0    10.0              NaN               NaN  \n",
       "1    10.0              NaN               NaN  \n",
       "2    40.0              NaN               NaN  \n",
       "3    50.0              NaN               NaN  \n",
       "4    50.0              NaN               NaN  \n",
       "\n",
       "[5 rows x 25 columns]"
      ]
     },
     "execution_count": 3,
     "metadata": {},
     "output_type": "execute_result"
    }
   ],
   "source": [
    "df = pd.read_csv(\"data/comentarios_tripadvisor.csv\", sep = \";\")\n",
    "df.head()"
   ]
  },
  {
   "cell_type": "markdown",
   "metadata": {},
   "source": [
    "En total tenemos más de 130 mil comentarios (los cuales representan cada una de las filas del dataframe) y 25 variables que describen el restaurante y el comentario."
   ]
  },
  {
   "cell_type": "code",
   "execution_count": 4,
   "metadata": {},
   "outputs": [
    {
     "data": {
      "text/plain": [
       "(132728, 25)"
      ]
     },
     "execution_count": 4,
     "metadata": {},
     "output_type": "execute_result"
    }
   ],
   "source": [
    "df.shape "
   ]
  },
  {
   "cell_type": "markdown",
   "metadata": {},
   "source": [
    "Primero vamos a quedarnos solo con las columnas que nos interesan: `titulo_comentario` y `contenido_comentario`. Luego las unimos."
   ]
  },
  {
   "cell_type": "code",
   "execution_count": 5,
   "metadata": {},
   "outputs": [],
   "source": [
    "# Vamos a reducir el tamaño de nuestra muestra para facilitar le computo de\n",
    "# los procesos\n",
    "df = df.sample(10000, random_state = 666).reset_index(drop = True)"
   ]
  },
  {
   "cell_type": "code",
   "execution_count": 6,
   "metadata": {},
   "outputs": [],
   "source": [
    "comentarios = df[\"titulo_comentario\"] + \" \" + df[\"contenido_comentario\"]"
   ]
  },
  {
   "cell_type": "markdown",
   "metadata": {},
   "source": [
    "Procedemos a preprocesar el texto"
   ]
  },
  {
   "cell_type": "code",
   "execution_count": 7,
   "metadata": {},
   "outputs": [],
   "source": [
    "import unidecode\n",
    "import re\n",
    "\n",
    "# Convertimos la columna en texto\n",
    "comentarios = comentarios.astype(str)\n",
    "\n",
    "# Quitamos tildes\n",
    "comentarios = comentarios.apply(lambda x: unidecode.unidecode(x))\n",
    "\n",
    "# Quitamos comas, guiones y otros caracteres especiales o signos de puntuación\n",
    "comentarios = comentarios.apply(lambda x:\n",
    "    re.sub('[^A-Za-z0-9 ]+', ' ', x))\n",
    "\n",
    "# Ponemos todo el texto en minúscula \n",
    "comentarios = comentarios.str.lower()\n",
    "\n",
    "# Dejamos todos los espacios sencillos\n",
    "comentarios = comentarios.apply(lambda x: \n",
    "    re.sub('\\s+', ' ', x))\n",
    "\n",
    "# Vamos a eliminar todos los números\n",
    "comentarios = comentarios.apply(lambda x: re.sub(\"\\d+\", \"\", x))\n",
    "comentarios = comentarios.apply(lambda x: re.sub('\\s+', ' ', x))\n",
    "comentarios = comentarios.str.strip()"
   ]
  },
  {
   "cell_type": "code",
   "execution_count": 8,
   "metadata": {},
   "outputs": [],
   "source": [
    "# Eliminamos stopwords\n",
    "from nltk.corpus import stopwords\n",
    "stopwords = set(stopwords.words(\"spanish\"))\n",
    "\n",
    "# Creamos un diccionario de stopwords en español\n",
    "stopwords = [unidecode.unidecode(i) for i in stopwords]\n",
    "stopwords = set(stopwords)\n",
    "\n",
    "# Creamos una función que elimine las palabras presentes en un diccionario\n",
    "def eliminar_stopwords(texto, diccionario):\n",
    "    texto = [tok for tok in texto.split(\" \") if tok not in diccionario]\n",
    "    return(texto)\n",
    "\n",
    "# Aplicamos la función para eliminar los stopwords\n",
    "comentarios = comentarios.apply(lambda x: \n",
    "    eliminar_stopwords(x, stopwords))"
   ]
  },
  {
   "cell_type": "code",
   "execution_count": 9,
   "metadata": {},
   "outputs": [],
   "source": [
    "# Tokenizamos el texto\n",
    "import spacy\n",
    "nlp = spacy.load(\"es_core_news_sm\")\n",
    "\n",
    "# Esto puede tardar un poco\n",
    "comentarios = comentarios.apply(lambda x: nlp(\" \".join(x)))"
   ]
  },
  {
   "cell_type": "code",
   "execution_count": 10,
   "metadata": {},
   "outputs": [],
   "source": [
    "# Lemmatizamos el texto\n",
    "comentarios = comentarios.apply(lambda x: [unidecode.unidecode(tok.lemma_) for tok in x])"
   ]
  },
  {
   "cell_type": "code",
   "execution_count": 27,
   "metadata": {},
   "outputs": [
    {
     "data": {
      "text/plain": [
       "[('buen', 6624),\n",
       " ('comida', 5215),\n",
       " ('excelente', 3963),\n",
       " ('lugar', 3786),\n",
       " ('servicio', 3631),\n",
       " ('restaurante', 3281),\n",
       " ('atencion', 2701),\n",
       " ('plato', 2390),\n",
       " ('mejor', 2166),\n",
       " ('ambiente', 2152)]"
      ]
     },
     "execution_count": 27,
     "metadata": {},
     "output_type": "execute_result"
    }
   ],
   "source": [
    "# Para aplicar LDA necesitamos construir un diccionario\n",
    "import gensim.corpora as corpora\n",
    "\n",
    "# A cada palabra se le asigna un id\n",
    "diccionario = corpora.Dictionary(comentarios)\n",
    "\n",
    "diccionario.most_common()[0:10]"
   ]
  },
  {
   "cell_type": "code",
   "execution_count": 31,
   "metadata": {},
   "outputs": [],
   "source": [
    "# Creamos un corpus\n",
    "textos = comentarios.copy()"
   ]
  },
  {
   "cell_type": "code",
   "execution_count": 32,
   "metadata": {},
   "outputs": [],
   "source": [
    "# Frequencias \n",
    "corpus = [diccionario.doc2bow(texto) for texto in textos]"
   ]
  },
  {
   "cell_type": "code",
   "execution_count": 59,
   "metadata": {},
   "outputs": [
    {
     "name": "stdout",
     "output_type": "stream",
     "text": [
      "[(0,\n",
      "  '0.022*\"comida\" + 0.020*\"buen\" + 0.014*\"restaurante\" + 0.013*\"excelente\" + '\n",
      "  '0.013*\"servicio\" + 0.012*\"lugar\" + 0.011*\"bien\" + 0.011*\"mejor\" + '\n",
      "  '0.010*\"plato\" + 0.009*\"ambiente\"'),\n",
      " (1,\n",
      "  '0.038*\"buen\" + 0.027*\"comida\" + 0.016*\"servicio\" + 0.016*\"excelente\" + '\n",
      "  '0.014*\"lugar\" + 0.014*\"restaurante\" + 0.013*\"atencion\" + 0.012*\"precio\" + '\n",
      "  '0.010*\"delicioso\" + 0.010*\"plato\"'),\n",
      " (2,\n",
      "  '0.025*\"buen\" + 0.021*\"lugar\" + 0.020*\"excelente\" + 0.016*\"comida\" + '\n",
      "  '0.016*\"servicio\" + 0.013*\"restaurante\" + 0.012*\"atencion\" + '\n",
      "  '0.010*\"ambiente\" + 0.010*\"plato\" + 0.009*\"mejor\"')]\n"
     ]
    }
   ],
   "source": [
    "# Aplicamos LDA\n",
    "from gensim.models.ldamulticore import LdaMulticore\n",
    "from pprint import pprint\n",
    "\n",
    "# Debemos escoger el número de tópicos antes de correr el modelo\n",
    "n_topicos = 3\n",
    "# Modelo LDA\n",
    "lda_model = LdaMulticore(corpus = corpus,\n",
    "    id2word = diccionario,\n",
    "    num_topics = n_topicos)\n",
    "# Mostramos las palabras dentro de los 10 tópicos\n",
    "pprint(lda_model.print_topics())\n",
    "doc_lda = lda_model[corpus]"
   ]
  },
  {
   "cell_type": "code",
   "execution_count": 60,
   "metadata": {},
   "outputs": [
    {
     "name": "stderr",
     "output_type": "stream",
     "text": [
      "C:\\Users\\User\\anaconda3\\envs\\MIAD\\lib\\site-packages\\pyLDAvis\\_prepare.py:246: FutureWarning: In a future version of pandas all arguments of DataFrame.drop except for the argument 'labels' will be keyword-only\n",
      "  default_term_info = default_term_info.sort_values(\n"
     ]
    }
   ],
   "source": [
    "# Visualizamos los resultados\n",
    "import pyLDAvis\n",
    "import pyLDAvis.gensim_models as gensimvis\n",
    "\n",
    "pyLDAvis.enable_notebook()\n",
    "LDA_visualization = gensimvis.prepare(lda_model, corpus, diccionario)"
   ]
  },
  {
   "cell_type": "code",
   "execution_count": 61,
   "metadata": {},
   "outputs": [
    {
     "data": {
      "text/html": [
       "\n",
       "<link rel=\"stylesheet\" type=\"text/css\" href=\"https://cdn.jsdelivr.net/gh/bmabey/pyLDAvis@3.3.1/pyLDAvis/js/ldavis.v1.0.0.css\">\n",
       "\n",
       "\n",
       "<div id=\"ldavis_el2142421693146679842673710188\"></div>\n",
       "<script type=\"text/javascript\">\n",
       "\n",
       "var ldavis_el2142421693146679842673710188_data = {\"mdsDat\": {\"x\": [-0.011574251598263547, -0.008158185575580118, 0.019732437173843664], \"y\": [0.014164775411303596, -0.015899688555274023, 0.0017349131439704298], \"topics\": [1, 2, 3], \"cluster\": [1, 1, 1], \"Freq\": [37.60339209105783, 31.7327475132187, 30.663860395723475]}, \"tinfo\": {\"Term\": [\"buen\", \"bien\", \"delicioso\", \"comida\", \"precio\", \"recomendado\", \"experiencia\", \"agradable\", \"italiano\", \"almuerzo\", \"comer\", \"mesero\", \"variedad\", \"nar\", \"atencion\", \"super\", \"tipico\", \"bonito\", \"recomeir\", \"preparado\", \"lugar\", \"gran\", \"espectacular\", \"pasta\", \"comido\", \"mejor\", \"colombiano\", \"pedir\", \"sabor\", \"noche\", \"donuts\", \"paga\", \"duramo\", \"tiempos\", \"tertuliar\", \"totalidad\", \"rubio\", \"ahhhh\", \"exelent\", \"exceder\", \"walter\", \"bono\", \"manejable\", \"corrupcion\", \"saxofonista\", \"distribucion\", \"buceo\", \"manager\", \"tributo\", \"ciclo\", \"mo el\", \"santaferena\", \"perra\", \"shwarma\", \"grupon\", \"galerio\", \"modelo\", \"salcicha\", \"interaccion\", \"cumpli\", \"provoleta\", \"brindo\", \"mesero\", \"nino\", \"vez\", \"ver\", \"deliciosa\", \"lugar\", \"vivo\", \"pendiente\", \"tomar\", \"alli\", \"cumpleanos\", \"fiesta\", \"mesa\", \"musico\", \"cerveza\", \"va\", \"excelente\", \"perfecto\", \"variedad\", \"tarde\", \"malo\", \"visitar\", \"cafe\", \"ir\", \"calidad\", \"esperar\", \"ambiente\", \"carne\", \"servicio\", \"poder\", \"cliente\", \"siempre\", \"atencion\", \"ser\", \"buen\", \"solo\", \"restaurante\", \"plato\", \"mejor\", \"hacer\", \"rico\", \"sitio\", \"comida\", \"bogota\", \"sabor\", \"agradable\", \"bien\", \"comido\", \"bueno\", \"delicios\", \"precio\", \"opcion\", \"ribeye\", \"sublimir\", \"atlantico\", \"changua\", \"consigu\", \"bocadito\", \"smart\", \"frispicada\", \"impactar\", \"hornero\", \"frisnack\", \"rosas\", \"moma\", \"panecook\", \"rol\", \"fresca\", \"rabia\", \"frischuleta\", \"llorar\", \"bogotana\", \"embruja\", \"authentic\", \"sentir el\", \"odo\", \"influyente\", \"pinchos\", \"inkas\", \"asista\", \"wraps\", \"quedar yo\", \"italiano\", \"preparado\", \"costa\", \"bien\", \"trattorio\", \"bonito\", \"tipico\", \"comer\", \"desear\", \"agradable\", \"colombiano\", \"cocin\", \"ubicado\", \"ingrediente\", \"elegante\", \"pedi\", \"comido\", \"mejor\", \"dejar\", \"alita\", \"comida\", \"genial\", \"gran\", \"sitio\", \"acogedor\", \"cerca\", \"bogota\", \"restaurante\", \"lindo\", \"celebrar\", \"recomeir\", \"noche\", \"ambiente\", \"plato\", \"pizza\", \"poder\", \"decoracion\", \"servicio\", \"buen\", \"carne\", \"excelente\", \"pedir\", \"lugar\", \"opcion\", \"experiencia\", \"atencion\", \"delicios\", \"recomendado\", \"bueno\", \"hacer\", \"delicioso\", \"sabor\", \"precio\", \"rico\", \"nar\", \"inquietud\", \"fabian\", \"malcriado\", \"anyelo\", \"favoritos\", \"economica\", \"creerio\", \"convergir\", \"mecero\", \"endiablado\", \"antioquia\", \"gelato\", \"festejado\", \"renovar\", \"browl\", \"gus\", \"alirio\", \"broche\", \"camembert\", \"atollado\", \"amistoso\", \"mejorcito\", \"multiparque\", \"amigabl\", \"makis\", \"garantia\", \"ospina\", \"langosto\", \"fetuccine\", \"hambiente\", \"tramonti\", \"miti\", \"burrata\", \"cholao\", \"delicioso\", \"precio\", \"almuerzo\", \"buen\", \"cazuelar\", \"pasta\", \"recomendado\", \"postr\", \"experiencia\", \"super\", \"comida\", \"comodo\", \"recomendable\", \"espectacular\", \"postre\", \"atencion\", \"japones\", \"lejos\", \"sabor\", \"marisco\", \"justo\", \"bueno\", \"servicio\", \"alto\", \"opcion\", \"dos\", \"excelente\", \"restaurante\", \"gusto\", \"pedir\", \"delicios\", \"especial\", \"lugar\", \"recomeir\", \"plato\", \"gran\", \"rico\", \"variedad\", \"bogota\", \"ir\", \"ambiente\", \"mejor\", \"hacer\", \"comido\", \"sitio\", \"calidad\"], \"Freq\": [6210.0, 1487.0, 1288.0, 4876.0, 1566.0, 987.0, 1146.0, 1346.0, 281.0, 505.0, 730.0, 506.0, 595.0, 90.0, 2535.0, 715.0, 270.0, 358.0, 642.0, 197.0, 3562.0, 926.0, 631.0, 300.0, 1353.0, 2029.0, 388.0, 756.0, 1320.0, 413.0, 5.012514508653623, 4.0356405161636815, 4.005303357175591, 3.148698945413445, 3.144976932933405, 3.8085072914515803, 3.0092365566990553, 3.005293652351339, 3.002641091101622, 4.503149634429178, 2.984296842477674, 2.9713370267572627, 2.9581721192887422, 2.214051546982885, 2.209377809653613, 5.141237772962477, 2.204485968713058, 2.2039856315934254, 2.9378017376849823, 2.200548795781263, 2.9346826081986297, 2.9295144200687795, 2.196847075611648, 2.1958612720731523, 2.188815038358651, 3.641599475436189, 2.1762136684880318, 2.1727633561032973, 2.171253515265818, 2.170676655998477, 2.88913148309852, 11.218072500560885, 336.6863861159866, 82.5023107986445, 454.96258658241436, 194.31643833198925, 112.96757839541277, 1751.320605456614, 162.44618692654117, 58.879776333250796, 156.57043598338856, 136.77432118813556, 27.73297708487689, 41.843847006082186, 319.40891199622286, 414.3406303602406, 217.22035113960865, 42.38043641573995, 1666.5791835017403, 240.18263640464767, 305.336113547437, 105.02431426910772, 206.64250444081665, 177.02052454327165, 120.63243326191571, 502.323627151601, 462.499057732276, 250.25640600256375, 869.0244012170318, 403.9569553582931, 1366.9655733691284, 456.4211445690656, 132.20701346426873, 291.8670258946811, 990.887057812187, 297.95017354456235, 2116.249188542369, 273.30494133206446, 1124.8755614010122, 850.3963700534038, 763.9025847198803, 443.06095010114274, 437.291633720296, 504.0025490960516, 1389.1753416924396, 498.3022724219763, 471.5472248395377, 463.4947602005837, 468.9799074035304, 440.4100394992111, 397.5825402493446, 387.70399321112734, 426.5197739454677, 314.75620679473843, 3.04836953756906, 3.009532992921505, 2.999406665017354, 3.701109972818698, 3.5888704267509333, 2.8660726286370823, 2.139383829614511, 2.138614283073167, 2.1350342641963564, 2.1319673199203235, 2.1301284866950674, 2.1298071778113195, 2.1262446753667397, 2.1250965647377904, 2.8296483842908624, 3.5392853286961192, 2.1207707902947552, 2.115190499432954, 2.1147311506056594, 2.1077524209975875, 2.106042869499763, 2.7981208977905294, 6.281423970517739, 2.091899788389834, 2.087266953504194, 2.080080771821871, 4.13738129280853, 2.068110774065654, 2.0606964866054063, 2.060681192407116, 192.09727224155762, 127.25819571598072, 15.49255959804043, 816.4891658574554, 4.0233090573387535, 199.26648128536686, 153.2286709543855, 375.61582212483705, 44.14377681466375, 626.3209223494188, 194.8064190754323, 113.46685083978049, 109.02546166948204, 89.62544512823867, 63.455682041638454, 132.08657359346924, 561.4477039444713, 793.1460592439454, 109.35033240207616, 22.579705986925504, 1607.3872990001155, 133.6672397058216, 366.89862478803866, 484.3953133470334, 181.52183974713472, 79.96021455733356, 511.8150657697057, 1000.8308855713608, 111.18068349110423, 106.03523204631767, 253.78186834326402, 174.5265275679655, 670.3150053028777, 725.7795550126015, 228.46341850365886, 349.56505783563125, 231.95065885204858, 909.2736927410161, 1445.7627040369364, 303.922393117595, 927.0334935748668, 275.1640548132652, 832.0875121570814, 332.11992114460935, 355.93440488413097, 608.3425331734477, 339.76244823969705, 311.2895765386217, 327.9915061735885, 308.5964423381984, 336.05682033455935, 336.12210904482833, 332.7344247769359, 280.6171847431314, 74.73745421804401, 3.056453036356947, 3.0417232718704548, 2.930743130195999, 2.8814132613524013, 2.162562101569342, 2.1621162044023987, 2.8668790347736794, 2.148592004380867, 2.1437982940450264, 2.1363802325645893, 2.1357969030697035, 3.556482877266605, 2.1285973690960125, 2.1256397950827486, 2.123308245533896, 2.1210820439276024, 2.1205472199602253, 2.1159729213464757, 2.111117063303514, 2.7922691965774478, 2.0855945663133353, 2.0847167931084933, 2.084150011072211, 3.468661851281048, 7.613278039087425, 2.0672558137371118, 2.055517981345869, 2.7403245766415734, 2.053372874918379, 2.7349298525039427, 4.763137200798654, 3.40095596650025, 4.723117614274252, 3.3991850094802634, 693.7790871423915, 807.5103208626973, 273.87598388507274, 2648.180616780604, 12.213688795146032, 154.50981452853037, 449.6456579411906, 53.04901197576971, 508.66954441636125, 329.4801983338474, 1879.9339035854457, 77.93316813967675, 105.70462795493306, 275.2025130513862, 151.90139744972083, 936.4993239681298, 35.7893669226957, 24.12001018885003, 513.2709404409474, 94.77005922561963, 85.49849442269434, 448.8638781858205, 1131.3512018943231, 133.45389649135404, 382.094305707845, 163.0943874610925, 1129.9834753666455, 948.4550957365973, 224.0568458486839, 284.6807841597907, 397.3758428014512, 207.88859537519664, 978.9825992036365, 244.22368181938583, 663.979748654316, 315.1199752297453, 340.08211615550476, 221.86978011883502, 391.24584358294953, 328.3124762645981, 480.46510000979674, 472.02562327852286, 309.4726706839939, 352.05622301337064, 289.39539208558256, 267.2531200015531], \"Total\": [6210.0, 1487.0, 1288.0, 4876.0, 1566.0, 987.0, 1146.0, 1346.0, 281.0, 505.0, 730.0, 506.0, 595.0, 90.0, 2535.0, 715.0, 270.0, 358.0, 642.0, 197.0, 3562.0, 926.0, 631.0, 300.0, 1353.0, 2029.0, 388.0, 756.0, 1320.0, 413.0, 5.705014639544181, 4.751762390566436, 4.749057525779911, 3.7987760078747894, 3.7991425996079915, 4.743145779340745, 3.794880121579365, 3.79386744296491, 3.7937094000163962, 5.6899747368783915, 3.7931944676738922, 3.79311025995842, 3.7939293129191154, 2.8460883395062395, 2.8454648114090784, 6.629849043129657, 2.8450842475263745, 2.845258424438978, 3.7938207950950957, 2.8445359491459676, 3.7936268869693484, 3.7921944114565163, 2.8448673924123224, 2.844899385078927, 2.8449271928794513, 4.739699250739738, 2.844480084139393, 2.8446389182612233, 2.8436488757232166, 2.844900211857711, 3.7923294423993688, 15.153023279489446, 506.6837895625614, 131.13323253394168, 810.2410423192332, 329.9543303948129, 186.8563055528992, 3562.390716817332, 280.61687243861877, 94.32504815232438, 270.3413343064231, 234.6679311403512, 42.475354301962454, 66.1071579789448, 588.3708438039189, 795.7806434764979, 394.47222960028273, 67.94508852456678, 3723.596152443253, 453.5284705219064, 595.6809925012103, 184.5341212738277, 395.3708833582356, 336.8874966712577, 220.35717127719656, 1085.0361899211796, 991.2465134102445, 498.4613414032309, 2019.8045065297063, 854.8521316124477, 3407.5904680044678, 991.6501471416447, 245.91609896786477, 611.4269771815007, 2535.7289149537646, 630.5331758749253, 6210.192509359909, 571.5870099653581, 3074.16154270897, 2240.1556737203214, 2029.0742672423485, 1061.130063123335, 1057.9909346189322, 1277.7932545286676, 4876.496544278, 1401.3631817746314, 1320.9402743253136, 1346.1895139550932, 1487.9125351290882, 1353.913966457053, 1174.4379246087537, 1124.8422842522755, 1566.764519585101, 1028.9704336471927, 3.7056478734424516, 3.707073584030135, 3.706241904056829, 4.633703775496323, 4.638650027432271, 3.711739787031846, 2.782718708754167, 2.7829287992076974, 2.7839370956227096, 2.783533848146952, 2.7839369494048465, 2.7837761718412004, 2.7837646285704283, 2.782966578109596, 3.709024755600492, 4.64113230798002, 2.7833018049563476, 2.7830072869315288, 2.7851686979606747, 2.7830489314509586, 2.7830088924713907, 3.7145822888428275, 8.347787001251085, 2.785243289395658, 2.7845318127693215, 2.7850245458100904, 5.5665715246411, 2.7848635042586425, 2.785039140090215, 2.7851954719142076, 281.5943842553098, 197.0327912219753, 22.296132977876002, 1487.9125351290882, 5.562584120472653, 358.5025519208559, 270.5175308277327, 730.7758882810207, 74.42167429124872, 1346.1895139550932, 388.71686787528677, 219.05793953388584, 215.42726452407143, 174.31047782205678, 119.36914228965975, 270.8351310004949, 1353.913966457053, 2029.0742672423485, 223.09567355936844, 38.2092310542527, 4876.496544278, 291.62348828187135, 926.2145014908378, 1277.7932545286676, 414.77984723411475, 164.20374677687747, 1401.3631817746314, 3074.16154270897, 242.47224924150717, 229.9131343865646, 642.1314897762846, 413.38595562430714, 2019.8045065297063, 2240.1556737203214, 578.6351706116129, 991.6501471416447, 598.3557491742908, 3407.5904680044678, 6210.192509359909, 854.8521316124477, 3723.596152443253, 756.7644628713078, 3562.390716817332, 1028.9704336471927, 1146.457362538769, 2535.7289149537646, 1124.8422842522755, 987.472694306995, 1174.4379246087537, 1061.130063123335, 1288.6479431496973, 1320.9402743253136, 1566.764519585101, 1057.9909346189322, 90.47099381158738, 3.741884545208311, 3.7408943917147903, 3.743556644275485, 3.7376471952849735, 2.806066100526185, 2.8065317460913364, 3.741587357940708, 2.8071411831819626, 2.806119536403296, 2.8065021551800102, 2.8065961263653403, 4.679304460278122, 2.8073486187807424, 2.8062474192681783, 2.8064556197590327, 2.80592157784725, 2.806379137770777, 2.8063210952227227, 2.806248490692912, 3.7374484297623782, 2.805654359196716, 2.8064203718437093, 2.8082995412311815, 4.67433599816503, 10.288420260687925, 2.8075815080637585, 2.8036635030578196, 3.742247125301156, 2.8078526923361378, 3.7403184378759784, 6.559839740898017, 4.676419127079502, 6.5633650685386495, 4.678884479889026, 1288.6479431496973, 1566.764519585101, 505.2623192725244, 6210.192509359909, 18.697213870056835, 300.7734705782779, 987.472694306995, 94.35232606310657, 1146.457362538769, 715.2064726856535, 4876.496544278, 150.62357577049036, 211.5901007098514, 631.9959212403028, 324.7930118256928, 2535.7289149537646, 65.4251253793737, 42.12550908460516, 1320.9402743253136, 196.720798063291, 177.1766660797475, 1174.4379246087537, 3407.5904680044678, 298.85520398995084, 1028.9704336471927, 388.55649332765347, 3723.596152443253, 3074.16154270897, 568.2847328380667, 756.7644628713078, 1124.8422842522755, 527.1593333699291, 3562.390716817332, 642.1314897762846, 2240.1556737203214, 926.2145014908378, 1057.9909346189322, 595.6809925012103, 1401.3631817746314, 1085.0361899211796, 2019.8045065297063, 2029.0742672423485, 1061.130063123335, 1353.913966457053, 1277.7932545286676, 991.2465134102445], \"Category\": [\"Default\", \"Default\", \"Default\", \"Default\", \"Default\", \"Default\", \"Default\", \"Default\", \"Default\", \"Default\", \"Default\", \"Default\", \"Default\", \"Default\", \"Default\", \"Default\", \"Default\", \"Default\", \"Default\", \"Default\", \"Default\", \"Default\", \"Default\", \"Default\", \"Default\", \"Default\", \"Default\", \"Default\", \"Default\", \"Default\", \"Topic1\", \"Topic1\", \"Topic1\", \"Topic1\", \"Topic1\", \"Topic1\", \"Topic1\", \"Topic1\", \"Topic1\", \"Topic1\", \"Topic1\", \"Topic1\", \"Topic1\", \"Topic1\", \"Topic1\", \"Topic1\", \"Topic1\", \"Topic1\", \"Topic1\", \"Topic1\", \"Topic1\", \"Topic1\", \"Topic1\", \"Topic1\", \"Topic1\", \"Topic1\", \"Topic1\", \"Topic1\", \"Topic1\", \"Topic1\", \"Topic1\", \"Topic1\", \"Topic1\", \"Topic1\", \"Topic1\", \"Topic1\", \"Topic1\", \"Topic1\", \"Topic1\", \"Topic1\", \"Topic1\", \"Topic1\", \"Topic1\", \"Topic1\", \"Topic1\", \"Topic1\", \"Topic1\", \"Topic1\", \"Topic1\", \"Topic1\", \"Topic1\", \"Topic1\", \"Topic1\", \"Topic1\", \"Topic1\", \"Topic1\", \"Topic1\", \"Topic1\", \"Topic1\", \"Topic1\", \"Topic1\", \"Topic1\", \"Topic1\", \"Topic1\", \"Topic1\", \"Topic1\", \"Topic1\", \"Topic1\", \"Topic1\", \"Topic1\", \"Topic1\", \"Topic1\", \"Topic1\", \"Topic1\", \"Topic1\", \"Topic1\", \"Topic1\", \"Topic1\", \"Topic1\", \"Topic1\", \"Topic1\", \"Topic1\", \"Topic1\", \"Topic1\", \"Topic2\", \"Topic2\", \"Topic2\", \"Topic2\", \"Topic2\", \"Topic2\", \"Topic2\", \"Topic2\", \"Topic2\", \"Topic2\", \"Topic2\", \"Topic2\", \"Topic2\", \"Topic2\", \"Topic2\", \"Topic2\", \"Topic2\", \"Topic2\", \"Topic2\", \"Topic2\", \"Topic2\", \"Topic2\", \"Topic2\", \"Topic2\", \"Topic2\", \"Topic2\", \"Topic2\", \"Topic2\", \"Topic2\", \"Topic2\", \"Topic2\", \"Topic2\", \"Topic2\", \"Topic2\", \"Topic2\", \"Topic2\", \"Topic2\", \"Topic2\", \"Topic2\", \"Topic2\", \"Topic2\", \"Topic2\", \"Topic2\", \"Topic2\", \"Topic2\", \"Topic2\", \"Topic2\", \"Topic2\", \"Topic2\", \"Topic2\", \"Topic2\", \"Topic2\", \"Topic2\", \"Topic2\", \"Topic2\", \"Topic2\", \"Topic2\", \"Topic2\", \"Topic2\", \"Topic2\", \"Topic2\", \"Topic2\", \"Topic2\", \"Topic2\", \"Topic2\", \"Topic2\", \"Topic2\", \"Topic2\", \"Topic2\", \"Topic2\", \"Topic2\", \"Topic2\", \"Topic2\", \"Topic2\", \"Topic2\", \"Topic2\", \"Topic2\", \"Topic2\", \"Topic2\", \"Topic2\", \"Topic2\", \"Topic2\", \"Topic2\", \"Topic2\", \"Topic3\", \"Topic3\", \"Topic3\", \"Topic3\", \"Topic3\", \"Topic3\", \"Topic3\", \"Topic3\", \"Topic3\", \"Topic3\", \"Topic3\", \"Topic3\", \"Topic3\", \"Topic3\", \"Topic3\", \"Topic3\", \"Topic3\", \"Topic3\", \"Topic3\", \"Topic3\", \"Topic3\", \"Topic3\", \"Topic3\", \"Topic3\", \"Topic3\", \"Topic3\", \"Topic3\", \"Topic3\", \"Topic3\", \"Topic3\", \"Topic3\", \"Topic3\", \"Topic3\", \"Topic3\", \"Topic3\", \"Topic3\", \"Topic3\", \"Topic3\", \"Topic3\", \"Topic3\", \"Topic3\", \"Topic3\", \"Topic3\", \"Topic3\", \"Topic3\", \"Topic3\", \"Topic3\", \"Topic3\", \"Topic3\", \"Topic3\", \"Topic3\", \"Topic3\", \"Topic3\", \"Topic3\", \"Topic3\", \"Topic3\", \"Topic3\", \"Topic3\", \"Topic3\", \"Topic3\", \"Topic3\", \"Topic3\", \"Topic3\", \"Topic3\", \"Topic3\", \"Topic3\", \"Topic3\", \"Topic3\", \"Topic3\", \"Topic3\", \"Topic3\", \"Topic3\", \"Topic3\", \"Topic3\", \"Topic3\", \"Topic3\", \"Topic3\", \"Topic3\", \"Topic3\", \"Topic3\", \"Topic3\"], \"logprob\": [30.0, 29.0, 28.0, 27.0, 26.0, 25.0, 24.0, 23.0, 22.0, 21.0, 20.0, 19.0, 18.0, 17.0, 16.0, 15.0, 14.0, 13.0, 12.0, 11.0, 10.0, 9.0, 8.0, 7.0, 6.0, 5.0, 4.0, 3.0, 2.0, 1.0, -9.7403, -9.9571, -9.9647, -10.2053, -10.2065, -10.015, -10.2506, -10.2519, -10.2528, -9.8475, -10.2589, -10.2633, -10.2677, -10.5575, -10.5596, -9.715, -10.5618, -10.562, -10.2746, -10.5636, -10.2757, -10.2774, -10.5653, -10.5657, -10.5689, -10.0599, -10.5747, -10.5763, -10.577, -10.5772, -10.2913, -8.9347, -5.5331, -6.9394, -5.2321, -6.0828, -6.6252, -3.8841, -6.2619, -7.2768, -6.2988, -6.4339, -8.0297, -7.6183, -5.5858, -5.3256, -5.9714, -7.6056, -3.9337, -5.8709, -5.6309, -6.6981, -6.0213, -6.176, -6.5595, -5.133, -5.2156, -5.8298, -4.5849, -5.351, -4.1319, -5.2289, -6.4679, -5.676, -4.4537, -5.6553, -3.6949, -5.7417, -4.3268, -4.6066, -4.7138, -5.2586, -5.2717, -5.1297, -4.1158, -5.1411, -5.1963, -5.2135, -5.2017, -5.2646, -5.3669, -5.392, -5.2966, -5.6005, -10.0679, -10.0807, -10.0841, -9.8739, -9.9047, -10.1296, -10.422, -10.4224, -10.424, -10.4255, -10.4263, -10.4265, -10.4282, -10.4287, -10.1424, -9.9186, -10.4307, -10.4334, -10.4336, -10.4369, -10.4377, -10.1536, -9.3449, -10.4445, -10.4467, -10.4501, -9.7625, -10.4559, -10.4595, -10.4595, -5.9245, -6.3363, -8.4422, -4.4775, -9.7904, -5.8879, -6.1506, -5.254, -7.3951, -4.7427, -5.9105, -6.451, -6.4909, -6.6869, -7.0322, -6.2991, -4.852, -4.5065, -6.488, -8.0655, -3.8002, -6.2872, -5.2774, -4.9996, -5.9812, -6.801, -4.9446, -4.2739, -6.4714, -6.5188, -5.6461, -6.0205, -4.6748, -4.5953, -5.7512, -5.3258, -5.736, -4.3699, -3.9061, -5.4658, -4.3505, -5.5652, -4.4586, -5.377, -5.3078, -4.7718, -5.3543, -5.4418, -5.3895, -5.4505, -5.3652, -5.3651, -5.3752, -5.5455, -6.8343, -10.031, -10.0358, -10.073, -10.09, -10.377, -10.3772, -10.095, -10.3835, -10.3857, -10.3892, -10.3894, -9.8795, -10.3928, -10.3942, -10.3953, -10.3963, -10.3966, -10.3987, -10.401, -10.1214, -10.4132, -10.4136, -10.4139, -9.9045, -9.1184, -10.422, -10.4277, -10.1402, -10.4288, -10.1422, -9.5874, -9.9242, -9.5958, -9.9247, -4.6061, -4.4543, -5.5356, -3.2666, -8.6457, -6.108, -5.0398, -7.177, -4.9165, -5.3507, -3.6093, -6.7924, -6.4876, -5.5308, -6.125, -4.3061, -7.5706, -7.9652, -4.9075, -6.5968, -6.6998, -5.0415, -4.1171, -6.2545, -5.2026, -6.0539, -4.1183, -4.2934, -5.7364, -5.4969, -5.1634, -5.8113, -4.2618, -5.6502, -4.65, -5.3953, -5.3191, -5.7462, -5.1789, -5.3543, -4.9735, -4.9912, -5.4134, -5.2845, -5.4805, -5.5601], \"loglift\": [30.0, 29.0, 28.0, 27.0, 26.0, 25.0, 24.0, 23.0, 22.0, 21.0, 20.0, 19.0, 18.0, 17.0, 16.0, 15.0, 14.0, 13.0, 12.0, 11.0, 10.0, 9.0, 8.0, 7.0, 6.0, 5.0, 4.0, 3.0, 2.0, 1.0, 0.8487, 0.8147, 0.8077, 0.7904, 0.7891, 0.7586, 0.7461, 0.7451, 0.7442, 0.7441, 0.7382, 0.7339, 0.7292, 0.727, 0.7251, 0.7238, 0.723, 0.7227, 0.7224, 0.7214, 0.7214, 0.72, 0.7196, 0.7191, 0.7159, 0.7145, 0.7103, 0.7086, 0.7083, 0.7076, 0.7061, 0.6774, 0.5693, 0.5147, 0.401, 0.4486, 0.4748, 0.268, 0.4314, 0.5068, 0.4319, 0.4382, 0.5518, 0.5207, 0.3672, 0.3254, 0.3814, 0.5061, 0.1742, 0.3424, 0.3098, 0.4144, 0.3292, 0.3346, 0.3756, 0.208, 0.2158, 0.289, 0.1347, 0.2285, 0.0647, 0.2021, 0.3575, 0.2386, 0.0384, 0.2284, -0.0985, 0.2402, -0.0273, 0.0095, 0.0012, 0.1047, 0.0945, 0.0478, -0.2776, -0.0559, -0.052, -0.0882, -0.1765, -0.145, -0.1051, -0.0871, -0.323, -0.2064, 0.9526, 0.9394, 0.9362, 0.9231, 0.8912, 0.8893, 0.8849, 0.8845, 0.8824, 0.8811, 0.8801, 0.88, 0.8784, 0.8781, 0.8772, 0.8768, 0.876, 0.8734, 0.8724, 0.8699, 0.8691, 0.8645, 0.8634, 0.8616, 0.8596, 0.856, 0.8511, 0.8503, 0.8466, 0.8465, 0.7654, 0.7107, 0.7838, 0.5477, 0.8239, 0.5605, 0.5794, 0.4823, 0.6255, 0.3827, 0.457, 0.49, 0.4668, 0.4826, 0.5159, 0.4298, 0.2676, 0.2085, 0.4348, 0.6218, 0.038, 0.3677, 0.2218, 0.1778, 0.3214, 0.4282, 0.1406, 0.0256, 0.3681, 0.3739, 0.2195, 0.2855, 0.0448, 0.0208, 0.2185, 0.1051, 0.2002, -0.1733, -0.3097, 0.1137, -0.2426, 0.1361, -0.3064, 0.017, -0.0219, -0.2797, -0.0493, -0.0066, -0.1277, -0.0872, -0.1962, -0.2208, -0.4016, -0.1793, 0.991, 0.9798, 0.9752, 0.9373, 0.9219, 0.9216, 0.9212, 0.9158, 0.9147, 0.9129, 0.9093, 0.909, 0.9077, 0.9053, 0.9043, 0.9031, 0.9023, 0.9019, 0.8997, 0.8975, 0.8905, 0.8855, 0.8848, 0.8839, 0.8838, 0.881, 0.876, 0.8717, 0.8705, 0.8691, 0.869, 0.862, 0.8636, 0.8531, 0.8626, 0.5629, 0.5193, 0.5697, 0.3298, 0.7563, 0.516, 0.3954, 0.6063, 0.3695, 0.407, 0.2289, 0.5232, 0.4881, 0.3507, 0.4221, 0.186, 0.5788, 0.6245, 0.2368, 0.4518, 0.4534, 0.2203, 0.0795, 0.3759, 0.1914, 0.314, -0.0104, 0.0061, 0.2514, 0.2044, 0.1416, 0.2516, -0.1096, 0.2154, -0.034, 0.1039, 0.0471, 0.1945, -0.0938, -0.0133, -0.2539, -0.2762, -0.0501, -0.1649, -0.303, -0.1287]}, \"token.table\": {\"Topic\": [1, 2, 3, 1, 2, 3, 1, 3, 1, 2, 3, 1, 2, 3, 1, 2, 3, 1, 2, 3, 1, 2, 3, 1, 2, 3, 3, 3, 2, 3, 2, 1, 2, 3, 2, 2, 3, 1, 2, 1, 2, 3, 2, 1, 2, 3, 2, 1, 2, 3, 1, 1, 2, 3, 3, 3, 1, 1, 2, 3, 1, 2, 3, 1, 3, 1, 2, 3, 1, 2, 3, 3, 1, 2, 3, 1, 2, 3, 1, 2, 3, 1, 2, 3, 1, 2, 3, 2, 1, 2, 3, 1, 1, 2, 3, 1, 2, 3, 1, 2, 3, 1, 2, 3, 1, 2, 3, 1, 2, 3, 1, 2, 3, 1, 2, 3, 1, 1, 2, 3, 3, 1, 2, 3, 1, 1, 2, 3, 1, 2, 3, 1, 2, 3, 1, 2, 3, 1, 2, 3, 1, 2, 3, 1, 2, 1, 1, 2, 3, 1, 3, 1, 2, 3, 2, 3, 1, 2, 3, 1, 2, 3, 1, 2, 3, 1, 2, 1, 2, 3, 1, 1, 2, 3, 3, 3, 3, 3, 1, 2, 3, 1, 2, 2, 2, 2, 1, 3, 3, 1, 3, 1, 2, 3, 1, 2, 3, 1, 3, 1, 2, 3, 1, 2, 3, 2, 3, 2, 2, 2, 1, 2, 3, 1, 2, 3, 3, 1, 1, 2, 3, 1, 2, 3, 1, 2, 3, 1, 2, 3, 1, 3, 1, 2, 3, 1, 2, 3, 2, 1, 2, 3, 1, 2, 3, 3, 1, 2, 3, 1, 1, 1, 2, 3, 3, 1, 2, 3, 3, 1, 2, 3, 1, 2, 3, 1, 2, 3, 1, 3, 1, 2, 3, 1, 2, 3, 1, 2, 3, 1, 2, 3, 1, 2, 3, 2, 1, 2, 3, 3, 1, 2, 1, 2, 3, 1, 2, 3, 1, 2, 3, 1, 2, 3, 1, 2, 3, 1, 2, 1, 2, 3, 1, 2, 3, 1, 2, 3, 1, 2, 3, 1, 2, 3, 1, 2, 3, 1, 2, 3, 1, 3, 2, 2, 1, 2, 3, 1, 2, 3, 1, 2, 3, 3, 1, 2, 3, 2, 1, 2, 3, 2, 2, 1, 1, 2, 3, 1, 1, 2, 1, 1, 2, 3, 1, 2, 3, 1, 2, 3, 1, 1, 2, 3, 1, 2, 3, 2, 1, 2, 3, 2, 1, 2, 3, 1, 2, 3, 1, 1, 1, 2, 3, 1, 2, 3, 1, 2, 1, 3, 2, 3, 1, 3, 1, 2, 3, 1, 2, 3, 1, 2, 3, 1, 2, 3, 1, 2, 3, 1, 2, 3, 1, 2, 3, 1, 2], \"Freq\": [0.29413193725185827, 0.43878698835932956, 0.2700227620672797, 0.3439337442465363, 0.46501625032037086, 0.1901663899073721, 0.7907498206251239, 0.7126620822832522, 0.26171686066650107, 0.6019487795329526, 0.15703011639990067, 0.583803672424514, 0.2386350777793634, 0.17897630833452255, 0.29093798289104617, 0.16625027593774067, 0.5422925667492969, 0.2241888349458118, 0.3312640993975428, 0.445031567877507, 0.4302396579424699, 0.3317152713710642, 0.2376467615792699, 0.21393412890998054, 0.21393412890998054, 0.6418023867299416, 0.7128461827253083, 0.7126069836738796, 0.2675479914908758, 0.8026439744726275, 0.7181680527399562, 0.39081464669028687, 0.23977326456881373, 0.36912463098093695, 0.8094452757431237, 0.2675622202668302, 0.8026866608004906, 0.2692092736789314, 0.8076278210367941, 0.31520669994174794, 0.5484193329476894, 0.1357606682051878, 0.8082463136239945, 0.35536826318595893, 0.3653585356450019, 0.27901403796327295, 0.7186363047369377, 0.22872919470348027, 0.5550867042194216, 0.2147822925874144, 0.7909076705913858, 0.7259277437321159, 0.13198686249674835, 0.13198686249674835, 0.7126768221229762, 0.7126426606994496, 0.7029668811174491, 0.3407301781403389, 0.2328430234361673, 0.4263957994875318, 0.3388855142195682, 0.27928253433170447, 0.38231054242358326, 0.1523608681762163, 0.7618043408810815, 0.5491085191313743, 0.22690434674850177, 0.22690434674850177, 0.46607982348462834, 0.2633048353452121, 0.2693578200657917, 0.7126952608199585, 0.47259635328739613, 0.35561705791922876, 0.17195956419120603, 0.160451713332778, 0.160451713332778, 0.641806853331112, 0.32186068967934667, 0.46104369062176687, 0.2131239701930809, 0.24968979578591113, 0.4871996015334852, 0.2618697858242483, 0.5501020951966259, 0.2611083677661404, 0.1875924195601397, 0.8632403351186501, 0.21372615722791216, 0.21372615722791216, 0.6411784716837364, 0.7031023814624218, 0.5367684366904714, 0.15859067447673017, 0.3049820663014042, 0.23281511781092445, 0.5158452610320483, 0.251075127050997, 0.22638585374749756, 0.5016504713722957, 0.2726920511049402, 0.27778694296757656, 0.5145216283537379, 0.20799810507917063, 0.28483563709889825, 0.32953986235992044, 0.38552267656294364, 0.32498372193574465, 0.4143542454680744, 0.25998697754859573, 0.25228454314417376, 0.22572827544478705, 0.5178472201380409, 0.2155799627232389, 0.8623198508929556, 0.7124686182448976, 0.7027188763743626, 0.17940330746901798, 0.6727624030088174, 0.13455248060176347, 0.801798732196684, 0.6592058020503984, 0.2118875792304852, 0.117715321794714, 0.7030123558161663, 0.31252311063786586, 0.3877292067806678, 0.2991531379902566, 0.28239005712154674, 0.4885796226388666, 0.2286014748126807, 0.3449372462539653, 0.3022645972328562, 0.35293836794542327, 0.6047427710059782, 0.17125459001939206, 0.22477164940045205, 0.20098584828914204, 0.2607383977805086, 0.5385489525585505, 0.1746802947367804, 0.5912256129552568, 0.22842807773271284, 0.7541649843719099, 0.15083299687438198, 0.8764219403299357, 0.31140902823097527, 0.2676573465786895, 0.41950141819544606, 0.8422723831594571, 0.7126233304809058, 0.3015854793749194, 0.527774588906109, 0.16754748854162188, 0.7186466437137192, 0.7126308441661322, 0.32248314549086077, 0.28264699222434264, 0.3945676133064649, 0.25633076821456735, 0.3069640063804078, 0.43512939048769145, 0.5015434081532156, 0.24876553044399496, 0.24876553044399496, 0.8787385236692768, 0.17574770473385537, 0.44768549857540035, 0.2489528837308915, 0.3034700740193176, 0.7907827626404474, 0.24597513105548552, 0.31052179665160584, 0.44397638903277353, 0.8019472580258618, 0.7127415849630078, 0.7124159737840534, 0.7122880788792367, 0.6353321075060744, 0.13614259446558738, 0.22690432410931227, 0.21546466113034263, 0.8618586445213705, 0.7186470583068965, 0.718407074710353, 0.7186673265120552, 0.8439354035755979, 0.21098385089389948, 0.7123568787783101, 0.2137069747200342, 0.8548278988801368, 0.32919159072403087, 0.4594965953856264, 0.21260290234260326, 0.26343789652100763, 0.3962365082918434, 0.3400940057545795, 0.7030056885131494, 0.7127782956551599, 0.31146358466476054, 0.2938667719718362, 0.39416860432150486, 0.4174794545883205, 0.2911989875119436, 0.2911989875119436, 0.2673569153560818, 0.8020707460682454, 0.7185111118125743, 0.7184070369781976, 0.7182536004179909, 0.23521248127065814, 0.51632008083803, 0.24668626084483658, 0.17964378892346564, 0.7185751556938625, 0.17964378892346564, 0.8017350518849292, 0.7033217135471221, 0.4626573792312557, 0.23409357435206962, 0.30229406451763324, 0.1811115663221481, 0.6818317790951458, 0.13494587294591426, 0.2139850694793429, 0.24455436511924902, 0.5502473215183102, 0.3160687083636302, 0.19754294272726888, 0.47974714662336726, 0.26721912437023393, 0.8016573731107018, 0.23738585520511885, 0.1899086841640951, 0.5697260524922853, 0.21858171467371076, 0.45778434582607347, 0.32581048036270094, 0.7180893571956405, 0.4915238499061544, 0.2335510240559226, 0.2748154477773416, 0.097196651639611, 0.097196651639611, 0.777573213116888, 0.8013769484662385, 0.5235590396585743, 0.21498801145400392, 0.2630441551907813, 0.702923847908246, 0.7907369253782295, 0.2948341028046239, 0.2236672504035078, 0.48291792700757363, 0.7127280124935347, 0.37652638562033935, 0.3908186175352475, 0.23261839530471226, 0.7126516113072817, 0.5421750641782486, 0.24134438593514515, 0.21585026066030585, 0.6651091014594022, 0.12039066821668704, 0.21512430878063749, 0.2138388311281491, 0.2138388311281491, 0.6415164933844473, 0.7907999625120327, 0.2635999875040109, 0.7031161902492654, 0.7184515456060946, 0.7121747415602196, 0.5202438679475456, 0.2588653062734164, 0.2211664752627247, 0.07737286510390308, 0.0884261315473178, 0.8289949832561043, 0.6329440554172019, 0.2135232958033934, 0.16014247185254504, 0.45236176376042414, 0.4233332013800761, 0.12579043698150832, 0.7180701260872474, 0.30613124507715966, 0.3226526138591016, 0.3712448749824603, 0.7133523683632851, 0.8417929330686036, 0.7186575705693719, 0.19283615635543624, 0.2925789958496274, 0.515338004053321, 0.3027672211396023, 0.4873813803710671, 0.21046014152386988, 0.26031877772450446, 0.363389156722024, 0.37660330787555213, 0.6254966327154332, 0.2226343946953237, 0.15902456763951692, 0.529183977631692, 0.264591988815846, 0.2072637245724127, 0.7030204660274474, 0.7181265253151485, 0.381933230512768, 0.3940306631534439, 0.22293840152102748, 0.3794379158428615, 0.32408461988460874, 0.2964079719054824, 0.4598395929394908, 0.35294705598425824, 0.18756614975163438, 0.1907743110430673, 0.2437671752216971, 0.5617243602934759, 0.2770995579433847, 0.25554737010334366, 0.4679903645266053, 0.27253616906839007, 0.2125399163929131, 0.5157124698062275, 0.1725601093560915, 0.6445627614183418, 0.18271070402409686, 0.7910705136687519, 0.26369017122291727, 0.7180824542363058, 0.7185710139081979, 0.22425313552239726, 0.3955576140464507, 0.3799844796351731, 0.27411490332212685, 0.22685371309417393, 0.5009686164163007, 0.22987977420409364, 0.314945417521908, 0.4557088034882914, 0.7126955329268743, 0.3659534427096642, 0.3256172410243323, 0.3083767677233437, 0.8095750331542099, 0.41304701741834765, 0.26559773888914345, 0.32136381217903476, 0.8088379554410117, 0.7184485664582696, 0.790538805940318, 0.3573212272909763, 0.2543642634952713, 0.38835972372938743, 0.7030769308403099, 0.7910986817914095, 0.2636995605971365, 0.7028728635057684, 0.11979222755086226, 0.7187533653051735, 0.11979222755086226, 0.47261589302814466, 0.27595693082851397, 0.252167540239849, 0.40116323039268686, 0.2667574077739227, 0.33190608161969926, 0.7030125601241654, 0.47757133868386786, 0.31892606521696654, 0.20443978539549137, 0.394430005177878, 0.37877802084542256, 0.22617117360398165, 0.7187215846532354, 0.47761757219875517, 0.2291864540587433, 0.2939185059684647, 0.8092636771289978, 0.2908251084738433, 0.2474809817301455, 0.46000702253795406, 0.5690004605933658, 0.27637165228820626, 0.157152508163882, 0.7896518546867786, 0.7897280581379523, 0.15156134197494603, 0.5655825688333352, 0.2809429753681926, 0.5807473000856229, 0.24413580767930643, 0.17755331467585922, 0.8433221718426636, 0.2108305429606659, 0.15244274852713152, 0.7622137426356577, 0.7190902489507196, 0.1797725622376799, 0.7907595434867667, 0.2635865144955889, 0.27851627848756216, 0.5059712392524046, 0.2135291468404643, 0.6181462253127263, 0.19133097450155817, 0.17661320723220755, 0.5120190233355151, 0.11415506094037714, 0.3726826989524077, 0.5879601572977258, 0.2121505722208289, 0.20002768237963867, 0.5615612839083151, 0.22585871418730033, 0.21351670794755714, 0.5253979496090369, 0.2582464498078317, 0.2166895498387553, 0.5772995707356668, 0.26726831978503096, 0.15323383667675108, 0.7908901126916638, 0.7181227621580983], \"Term\": [\"acogedor\", \"acogedor\", \"acogedor\", \"agradable\", \"agradable\", \"agradable\", \"ahhhh\", \"alirio\", \"alita\", \"alita\", \"alita\", \"alli\", \"alli\", \"alli\", \"almuerzo\", \"almuerzo\", \"almuerzo\", \"alto\", \"alto\", \"alto\", \"ambiente\", \"ambiente\", \"ambiente\", \"amigabl\", \"amigabl\", \"amigabl\", \"amistoso\", \"antioquia\", \"anyelo\", \"anyelo\", \"asista\", \"atencion\", \"atencion\", \"atencion\", \"atlantico\", \"atollado\", \"atollado\", \"authentic\", \"authentic\", \"bien\", \"bien\", \"bien\", \"bocadito\", \"bogota\", \"bogota\", \"bogota\", \"bogotana\", \"bonito\", \"bonito\", \"bonito\", \"bono\", \"brindo\", \"brindo\", \"brindo\", \"broche\", \"browl\", \"buceo\", \"buen\", \"buen\", \"buen\", \"bueno\", \"bueno\", \"bueno\", \"burrata\", \"burrata\", \"cafe\", \"cafe\", \"cafe\", \"calidad\", \"calidad\", \"calidad\", \"camembert\", \"carne\", \"carne\", \"carne\", \"cazuelar\", \"cazuelar\", \"cazuelar\", \"celebrar\", \"celebrar\", \"celebrar\", \"cerca\", \"cerca\", \"cerca\", \"cerveza\", \"cerveza\", \"cerveza\", \"changua\", \"cholao\", \"cholao\", \"cholao\", \"ciclo\", \"cliente\", \"cliente\", \"cliente\", \"cocin\", \"cocin\", \"cocin\", \"colombiano\", \"colombiano\", \"colombiano\", \"comer\", \"comer\", \"comer\", \"comida\", \"comida\", \"comida\", \"comido\", \"comido\", \"comido\", \"comodo\", \"comodo\", \"comodo\", \"consigu\", \"consigu\", \"convergir\", \"corrupcion\", \"costa\", \"costa\", \"costa\", \"creerio\", \"cumpleanos\", \"cumpleanos\", \"cumpleanos\", \"cumpli\", \"decoracion\", \"decoracion\", \"decoracion\", \"dejar\", \"dejar\", \"dejar\", \"delicios\", \"delicios\", \"delicios\", \"deliciosa\", \"deliciosa\", \"deliciosa\", \"delicioso\", \"delicioso\", \"delicioso\", \"desear\", \"desear\", \"desear\", \"distribucion\", \"distribucion\", \"donuts\", \"dos\", \"dos\", \"dos\", \"duramo\", \"economica\", \"elegante\", \"elegante\", \"elegante\", \"embruja\", \"endiablado\", \"especial\", \"especial\", \"especial\", \"espectacular\", \"espectacular\", \"espectacular\", \"esperar\", \"esperar\", \"esperar\", \"exceder\", \"exceder\", \"excelente\", \"excelente\", \"excelente\", \"exelent\", \"experiencia\", \"experiencia\", \"experiencia\", \"fabian\", \"favoritos\", \"festejado\", \"fetuccine\", \"fiesta\", \"fiesta\", \"fiesta\", \"fresca\", \"fresca\", \"frischuleta\", \"frisnack\", \"frispicada\", \"galerio\", \"galerio\", \"garantia\", \"gelato\", \"gelato\", \"genial\", \"genial\", \"genial\", \"gran\", \"gran\", \"gran\", \"grupon\", \"gus\", \"gusto\", \"gusto\", \"gusto\", \"hacer\", \"hacer\", \"hacer\", \"hambiente\", \"hambiente\", \"hornero\", \"impactar\", \"influyente\", \"ingrediente\", \"ingrediente\", \"ingrediente\", \"inkas\", \"inkas\", \"inkas\", \"inquietud\", \"interaccion\", \"ir\", \"ir\", \"ir\", \"italiano\", \"italiano\", \"italiano\", \"japones\", \"japones\", \"japones\", \"justo\", \"justo\", \"justo\", \"langosto\", \"langosto\", \"lejos\", \"lejos\", \"lejos\", \"lindo\", \"lindo\", \"lindo\", \"llorar\", \"lugar\", \"lugar\", \"lugar\", \"makis\", \"makis\", \"makis\", \"malcriado\", \"malo\", \"malo\", \"malo\", \"manager\", \"manejable\", \"marisco\", \"marisco\", \"marisco\", \"mecero\", \"mejor\", \"mejor\", \"mejor\", \"mejorcito\", \"mesa\", \"mesa\", \"mesa\", \"mesero\", \"mesero\", \"mesero\", \"miti\", \"miti\", \"miti\", \"mo el\", \"mo el\", \"modelo\", \"moma\", \"multiparque\", \"musico\", \"musico\", \"musico\", \"nar\", \"nar\", \"nar\", \"nino\", \"nino\", \"nino\", \"noche\", \"noche\", \"noche\", \"odo\", \"opcion\", \"opcion\", \"opcion\", \"ospina\", \"paga\", \"panecook\", \"pasta\", \"pasta\", \"pasta\", \"pedi\", \"pedi\", \"pedi\", \"pedir\", \"pedir\", \"pedir\", \"pendiente\", \"pendiente\", \"pendiente\", \"perfecto\", \"perfecto\", \"perfecto\", \"perra\", \"pinchos\", \"pizza\", \"pizza\", \"pizza\", \"plato\", \"plato\", \"plato\", \"poder\", \"poder\", \"poder\", \"postr\", \"postr\", \"postr\", \"postre\", \"postre\", \"postre\", \"precio\", \"precio\", \"precio\", \"preparado\", \"preparado\", \"preparado\", \"provoleta\", \"provoleta\", \"quedar yo\", \"rabia\", \"recomeir\", \"recomeir\", \"recomeir\", \"recomendable\", \"recomendable\", \"recomendable\", \"recomendado\", \"recomendado\", \"recomendado\", \"renovar\", \"restaurante\", \"restaurante\", \"restaurante\", \"ribeye\", \"rico\", \"rico\", \"rico\", \"rol\", \"rosas\", \"rubio\", \"sabor\", \"sabor\", \"sabor\", \"salcicha\", \"santaferena\", \"santaferena\", \"saxofonista\", \"sentir el\", \"sentir el\", \"sentir el\", \"ser\", \"ser\", \"ser\", \"servicio\", \"servicio\", \"servicio\", \"shwarma\", \"siempre\", \"siempre\", \"siempre\", \"sitio\", \"sitio\", \"sitio\", \"smart\", \"solo\", \"solo\", \"solo\", \"sublimir\", \"super\", \"super\", \"super\", \"tarde\", \"tarde\", \"tarde\", \"tertuliar\", \"tiempos\", \"tipico\", \"tipico\", \"tipico\", \"tomar\", \"tomar\", \"tomar\", \"totalidad\", \"totalidad\", \"tramonti\", \"tramonti\", \"trattorio\", \"trattorio\", \"tributo\", \"tributo\", \"ubicado\", \"ubicado\", \"ubicado\", \"va\", \"va\", \"va\", \"variedad\", \"variedad\", \"variedad\", \"ver\", \"ver\", \"ver\", \"vez\", \"vez\", \"vez\", \"visitar\", \"visitar\", \"visitar\", \"vivo\", \"vivo\", \"vivo\", \"walter\", \"wraps\"]}, \"R\": 30, \"lambda.step\": 0.01, \"plot.opts\": {\"xlab\": \"PC1\", \"ylab\": \"PC2\"}, \"topic.order\": [3, 1, 2]};\n",
       "\n",
       "function LDAvis_load_lib(url, callback){\n",
       "  var s = document.createElement('script');\n",
       "  s.src = url;\n",
       "  s.async = true;\n",
       "  s.onreadystatechange = s.onload = callback;\n",
       "  s.onerror = function(){console.warn(\"failed to load library \" + url);};\n",
       "  document.getElementsByTagName(\"head\")[0].appendChild(s);\n",
       "}\n",
       "\n",
       "if(typeof(LDAvis) !== \"undefined\"){\n",
       "   // already loaded: just create the visualization\n",
       "   !function(LDAvis){\n",
       "       new LDAvis(\"#\" + \"ldavis_el2142421693146679842673710188\", ldavis_el2142421693146679842673710188_data);\n",
       "   }(LDAvis);\n",
       "}else if(typeof define === \"function\" && define.amd){\n",
       "   // require.js is available: use it to load d3/LDAvis\n",
       "   require.config({paths: {d3: \"https://d3js.org/d3.v5\"}});\n",
       "   require([\"d3\"], function(d3){\n",
       "      window.d3 = d3;\n",
       "      LDAvis_load_lib(\"https://cdn.jsdelivr.net/gh/bmabey/pyLDAvis@3.3.1/pyLDAvis/js/ldavis.v3.0.0.js\", function(){\n",
       "        new LDAvis(\"#\" + \"ldavis_el2142421693146679842673710188\", ldavis_el2142421693146679842673710188_data);\n",
       "      });\n",
       "    });\n",
       "}else{\n",
       "    // require.js not available: dynamically load d3 & LDAvis\n",
       "    LDAvis_load_lib(\"https://d3js.org/d3.v5.js\", function(){\n",
       "         LDAvis_load_lib(\"https://cdn.jsdelivr.net/gh/bmabey/pyLDAvis@3.3.1/pyLDAvis/js/ldavis.v3.0.0.js\", function(){\n",
       "                 new LDAvis(\"#\" + \"ldavis_el2142421693146679842673710188\", ldavis_el2142421693146679842673710188_data);\n",
       "            })\n",
       "         });\n",
       "}\n",
       "</script>"
      ],
      "text/plain": [
       "PreparedData(topic_coordinates=              x         y  topics  cluster       Freq\n",
       "topic                                                \n",
       "2     -0.011574  0.014165       1        1  37.603392\n",
       "0     -0.008158 -0.015900       2        1  31.732748\n",
       "1      0.019732  0.001735       3        1  30.663860, topic_info=          Term         Freq        Total Category  logprob  loglift\n",
       "25        buen  6210.000000  6210.000000  Default  30.0000  30.0000\n",
       "233       bien  1487.000000  1487.000000  Default  29.0000  29.0000\n",
       "93   delicioso  1288.000000  1288.000000  Default  28.0000  28.0000\n",
       "1       comida  4876.000000  4876.000000  Default  27.0000  27.0000\n",
       "31      precio  1566.000000  1566.000000  Default  26.0000  26.0000\n",
       "..         ...          ...          ...      ...      ...      ...\n",
       "8        mejor   472.025623  2029.074267   Topic3  -4.9912  -0.2762\n",
       "241      hacer   309.472671  1061.130063   Topic3  -5.4134  -0.0501\n",
       "57      comido   352.056223  1353.913966   Topic3  -5.2845  -0.1649\n",
       "183      sitio   289.395392  1277.793255   Topic3  -5.4805  -0.3030\n",
       "176    calidad   267.253120   991.246513   Topic3  -5.5601  -0.1287\n",
       "\n",
       "[279 rows x 6 columns], token_table=       Topic      Freq       Term\n",
       "term                             \n",
       "17         1  0.294132   acogedor\n",
       "17         2  0.438787   acogedor\n",
       "17         3  0.270023   acogedor\n",
       "33         1  0.343934  agradable\n",
       "33         2  0.465016  agradable\n",
       "...      ...       ...        ...\n",
       "16         1  0.577300       vivo\n",
       "16         2  0.267268       vivo\n",
       "16         3  0.153234       vivo\n",
       "7459       1  0.790890     walter\n",
       "11484      2  0.718123      wraps\n",
       "\n",
       "[427 rows x 3 columns], R=30, lambda_step=0.01, plot_opts={'xlab': 'PC1', 'ylab': 'PC2'}, topic_order=[3, 1, 2])"
      ]
     },
     "execution_count": 61,
     "metadata": {},
     "output_type": "execute_result"
    }
   ],
   "source": [
    "LDA_visualization"
   ]
  },
  {
   "cell_type": "markdown",
   "metadata": {},
   "source": [
    "Note que puede seleccionar manualmente cada tema para ver sus términos más frecuentes y/o \"relevantes\", utilizando diferentes valores del parámetro $\\lambda$. Esto puede ayudar cuando intenta asignar un nombre interpretable por humanos o un \"significado\" a cada tema.\n",
    "\n",
    "Los valores de lambda ($\\lambda$) que están muy cerca de cero mostrarán términos que son más específicos para un tema elegido. Lo que significa que verá términos que son \"importantes\" para ese tema específico pero no necesariamente \"importantes\" para todo el corpus.\n",
    "\n",
    "Los valores de lambda que están muy cerca de uno mostrarán aquellos términos que tienen la relación más alta entre la frecuencia de los términos para ese tema específico y la frecuencia general de los términos del corpus."
   ]
  },
  {
   "cell_type": "code",
   "execution_count": 62,
   "metadata": {},
   "outputs": [],
   "source": [
    "# Guardamos la visualización como un html. \n",
    "# Es mucho más sencillo interactuar con la gráfica desde el archivo que \n",
    "# desde el notebook\n",
    "pyLDAvis.save_html(LDA_visualization, 'visualizacion_LDA.html')"
   ]
  }
 ],
 "metadata": {
  "interpreter": {
   "hash": "fe36d3cf18f454bb22b210d1ce52ae8c21a1b2f0a9257a143474ae90bef14b60"
  },
  "kernelspec": {
   "display_name": "Python 3.8.5 ('MIAD')",
   "language": "python",
   "name": "python3"
  },
  "language_info": {
   "codemirror_mode": {
    "name": "ipython",
    "version": 3
   },
   "file_extension": ".py",
   "mimetype": "text/x-python",
   "name": "python",
   "nbconvert_exporter": "python",
   "pygments_lexer": "ipython3",
   "version": "3.8.5"
  },
  "orig_nbformat": 4
 },
 "nbformat": 4,
 "nbformat_minor": 2
}
