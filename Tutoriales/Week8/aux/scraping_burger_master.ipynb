{
 "cells": [
  {
   "cell_type": "markdown",
   "metadata": {},
   "source": [
    "# Scraping Burger Master"
   ]
  },
  {
   "cell_type": "code",
   "execution_count": 118,
   "metadata": {},
   "outputs": [],
   "source": [
    "import os\n",
    "import pandas as pd\n",
    "import numpy as np\n",
    "import requests\n",
    "from bs4 import BeautifulSoup\n",
    "import re \n",
    "from tqdm import tqdm\n",
    "from geopy.geocoders import Nominatim"
   ]
  },
  {
   "cell_type": "code",
   "execution_count": 197,
   "metadata": {},
   "outputs": [
    {
     "name": "stderr",
     "output_type": "stream",
     "text": [
      "100%|██████████| 28/28 [00:00<00:00, 304.28it/s]\n"
     ]
    }
   ],
   "source": [
    "# Accedemos a la página oficial del Burger Master para Bogotá\n",
    "url = \"https://tuliorecomienda.com/2022/04/20/participantes-burger-master-2022-bogota/\"\n",
    "r = requests.get(url)\n",
    "soup = BeautifulSoup(r.text, 'lxml')\n",
    "elementos = soup.find(\"div\", {\"class\": \"elementor-section-wrap\"})\n",
    "secciones = elementos.find_all(\"section\")\n",
    "restaurantes = pd.DataFrame()\n",
    "# La primera sección no nos importa, entonces nos saltamos el índice 0\n",
    "# seccion = secciones[1]\n",
    "for i in tqdm(range(1, len(secciones))):\n",
    "    hamburguesas = secciones[i].next.next.next.next.find_all(\"div\", {\"data-element_type\": \"column\"})\n",
    "    # hamburguesa = hamburguesas[0]\n",
    "    for hamburguesa in hamburguesas:\n",
    "        nombre = hamburguesa.find(\"div\", {\"data-widget_type\": \"heading.default\"})\n",
    "        if nombre is None:\n",
    "            continue\n",
    "        else:\n",
    "            nombre = nombre.text\n",
    "        nombre = nombre.replace(\"\\n\", \"\").strip()\n",
    "        direccion = hamburguesa.find(\"div\", {\"data-widget_type\": \"text-editor.default\"}).text\n",
    "        direccion = direccion.replace(\"\\n\", \"\").strip()\n",
    "        descripcion = hamburguesa.find(\"div\", {\"role\": \"tabpanel\"}).next\n",
    "        if \"Varios locales\" in direccion:\n",
    "            direcciones = descripcion\n",
    "            direcciones = str(direcciones).split(\"<br/>\")\n",
    "            filtro1 = [len(re.findall('[0-9]+', d)) > 0 for d in direcciones]\n",
    "            filtro2 = [not \"<p>\" in d for d in direcciones]\n",
    "            filtro = [a & b for a, b in zip(filtro1, filtro2)]\n",
    "            direcciones = [direcciones[j] for j in range(len(direcciones)) if filtro[j]]\n",
    "            direcciones = [j.replace(\"</p>\", \"\").strip() for j in direcciones]\n",
    "            restaurante = pd.DataFrame([(nombre, d, descripcion) for d in direcciones], columns = [\"Restaurante\", \"Dirección\", \"Descripción\"])\n",
    "        else:\n",
    "            restaurante = pd.DataFrame([(nombre, direccion, descripcion)], columns = [\"Restaurante\", \"Dirección\", \"Descripción\"])\n",
    "        restaurantes = pd.concat([restaurantes, restaurante]).reset_index(drop = True)\n",
    "# Limpiamos algunos errores\n",
    "restaurantes = restaurantes[~restaurantes.Dirección.apply(lambda x: (x[len(x) - 1] == \".\") | (x[len(x) - 1] == \"!\"))].reset_index(drop = True)"
   ]
  },
  {
   "cell_type": "code",
   "execution_count": 198,
   "metadata": {},
   "outputs": [],
   "source": [
    "# Vamos a convertir las direcciones en coordenadas\n",
    "# Podemos usar la API de Google que es la más precisa, pero esto requiere configuración adicional. Por ende, iremos\n",
    "# por la fácil que es GeoPy\n",
    "\n",
    "locator = Nominatim(user_agent = \"clase_MIAD\")\n",
    "restaurantes[\"Latitud\"] = np.nan\n",
    "restaurantes[\"Longitud\"] = np.nan\n",
    "restaurantes[\"Dirección\"] = restaurantes[\"Dirección\"].str.split(\",\", expand = True)[0]\n",
    "\n",
    "# Olviden lo mencionado anteriormente. El resultado de usar GeoPy fue nefasto! Vamos a utilizar la API de Google\n",
    "\n",
    "# for i in tqdm(range(restaurantes.shape[0])):\n",
    "#     direccion = restaurantes[\"Dirección\"][i] + \", Bogotá, Colombia\"\n",
    "#     coordenadas = locator.geocode(direccion, timeout = 60)\n",
    "#     if coordenadas is not None:\n",
    "#         restaurantes.loc[i, \"Latitud\"] = coordenadas.latitude\n",
    "#         restaurantes.loc[i, \"Longitud\"] = coordenadas.longitude\n",
    "\n",
    "## Existen algunos restaurantes que no pudimos localizar. No nos detendremos a arreglar su nomenclatura\n",
    "# restaurantes = restaurantes[restaurantes[\"Latitud\"].notnull()].reset_index(drop = True)"
   ]
  },
  {
   "cell_type": "code",
   "execution_count": 200,
   "metadata": {},
   "outputs": [
    {
     "name": "stderr",
     "output_type": "stream",
     "text": [
      "100%|██████████| 137/137 [00:39<00:00,  3.46it/s]\n"
     ]
    }
   ],
   "source": [
    "# Ingrese su API aquí. Puede sacarla de esta url: https://developers.google.com/maps\n",
    "API_key = \"ingrese_su_api_key_aquí\" \n",
    "link_base = 'https://maps.googleapis.com/maps/api/geocode/json?address='\n",
    "\n",
    "for i in tqdm(range(restaurantes.shape[0])):\n",
    "    direccion = restaurantes[\"Dirección\"][i] + \", Bogotá, Colombia\"\n",
    "    direccion = direccion.strip().replace(\"#\", \"\").replace(\" \", \"+\")\n",
    "    url = link_base + direccion + \"&key=\" + API_key\n",
    "    response = requests.get(url)\n",
    "    resp_json_payload = response.json()\n",
    "    restaurantes.loc[i, \"Latitud\"] = resp_json_payload['results'][0]['geometry']['location'][\"lat\"]\n",
    "    restaurantes.loc[i, \"Longitud\"] = resp_json_payload['results'][0]['geometry']['location'][\"lng\"]"
   ]
  },
  {
   "cell_type": "code",
   "execution_count": 202,
   "metadata": {},
   "outputs": [],
   "source": [
    "restaurantes.to_excel(\"burgar_master.xlsx\", index = False)"
   ]
  },
  {
   "cell_type": "code",
   "execution_count": 106,
   "metadata": {},
   "outputs": [],
   "source": [
    "# Podría incluirse un bono que consiste en reducir la mayor cantidad de NAs en la busqueda de coordenadas a partir \n",
    "# de la normalización del texto de las coordenadas."
   ]
  }
 ],
 "metadata": {
  "interpreter": {
   "hash": "ad70d6a75b5f78cedeee5ad0935668a646c379505bb508bed8006ec3ee110cc6"
  },
  "kernelspec": {
   "display_name": "Python 3.8.5 ('MIAD')",
   "language": "python",
   "name": "python3"
  },
  "language_info": {
   "codemirror_mode": {
    "name": "ipython",
    "version": 3
   },
   "file_extension": ".py",
   "mimetype": "text/x-python",
   "name": "python",
   "nbconvert_exporter": "python",
   "pygments_lexer": "ipython3",
   "version": "3.8.5"
  },
  "orig_nbformat": 4
 },
 "nbformat": 4,
 "nbformat_minor": 2
}
