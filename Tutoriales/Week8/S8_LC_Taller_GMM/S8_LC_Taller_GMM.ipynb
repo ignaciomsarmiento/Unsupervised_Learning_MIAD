{
 "cells": [
  {
   "cell_type": "markdown",
   "id": "2b151b20",
   "metadata": {},
   "source": [
    "# Caso-taller:  Reconocimiento facial con K-medias y K-medoides"
   ]
  },
  {
   "cell_type": "markdown",
   "id": "e0d05eac",
   "metadata": {},
   "source": [
    "En este caso-taller vamos a aplicar K-medias y K-medoides para agrupar rostros de indiviudos.\n",
    "\n",
    "En este taller vamos a utilizar la base de datos conocida como Caras Olivetti. Esta base contiene diez imágenes diferentes de  40 personas distintas. Para algunas personas, las imágenes se tomaron en diferentes momentos, variando la iluminación, las expresiones faciales (ojos abiertos/cerrados, sonriendo/sin sonreír) y los detalles faciales (gafas/sin gafas). Todas las imágenes fueron tomadas contra un fondo homogéneo oscuro con los sujetos en una posición frontal erguida (con tolerancia a algún movimiento lateral). Esta base viene incluida dentro de la libraría `scikit-learn` y fueron provistas por T&T Laboratories Cambridge para que la comunidad académica la utilice para la evaluación de modelos predictivos. "
   ]
  },
  {
   "cell_type": "markdown",
   "id": "892acd2b",
   "metadata": {},
   "source": [
    "## Instrucciones generales\n",
    "\n",
    "1. Para desarrollar el *cuaderno* primero debe descargarlo.\n",
    "\n",
    "2. Para responder cada inciso deberá utilizar el espacio debidamente especificado.\n",
    "\n",
    "3. La actividad será calificada sólo si sube el *cuaderno* de jupyter notebook con extensión `.ipynb` en la actividad designada como \"entrega calificada por el personal\".\n",
    "\n",
    "4. El archivo entregado debe poder ser ejecutado localmente por el tutor. Sea cuidadoso con la especificación de la ubicación de los archivos de soporte, guarde la carpeta de datos en el mismo `path` de su cuaderno, por ejemplo: `datos`."
   ]
  },
  {
   "cell_type": "markdown",
   "id": "014e89b0",
   "metadata": {},
   "source": [
    "## Desarrollo\n"
   ]
  },
  {
   "cell_type": "code",
   "execution_count": 33,
   "id": "a86eeb4a",
   "metadata": {},
   "outputs": [
    {
     "name": "stderr",
     "output_type": "stream",
     "text": [
      "/Users/iggy/opt/anaconda3/lib/python3.7/site-packages/sklearn/model_selection/_search.py:925: UserWarning: One or more of the test scores are non-finite: [-594.79731333          -inf          -inf          -inf -592.50335318\n",
      "          -inf          -inf          -inf -590.40672693          -inf\n",
      "          -inf          -inf -588.48874797          -inf          -inf\n",
      "          -inf -586.73247327          -inf          -inf          -inf\n",
      " -585.12253833          -inf          -inf          -inf -583.64502117\n",
      "          -inf          -inf          -inf -582.28733508          -inf\n",
      "          -inf          -inf -581.038147            -inf          -inf\n",
      "          -inf -579.88731516          -inf          -inf          -inf\n",
      " -578.82583624          -inf          -inf          -inf -577.84579041\n",
      "          -inf          -inf          -inf -576.94027347          -inf\n",
      "          -inf          -inf -576.10330909          -inf          -inf\n",
      "          -inf -575.32973963          -inf          -inf          -inf\n",
      " -574.61509981          -inf          -inf          -inf -573.95548147\n",
      "          -inf          -inf          -inf -573.34739979          -inf\n",
      "          -inf          -inf -572.78767143          -inf          -inf\n",
      "          -inf -572.27331322          -inf          -inf          -inf\n",
      " -571.80146778          -inf          -inf          -inf -571.36935828\n",
      "          -inf          -inf          -inf -570.97427153          -inf\n",
      "          -inf          -inf -570.61356442          -inf          -inf\n",
      "          -inf -570.28468655          -inf          -inf          -inf\n",
      " -569.98521015          -inf          -inf          -inf -569.71285851\n",
      "          -inf          -inf          -inf -569.4655254           -inf\n",
      "          -inf          -inf -569.24128044          -inf          -inf\n",
      "          -inf -569.03835867          -inf          -inf          -inf\n",
      " -568.85513578          -inf          -inf          -inf -568.69009342\n",
      "          -inf          -inf          -inf -568.54178105          -inf\n",
      "          -inf          -inf -568.40878124          -inf          -inf\n",
      "          -inf -568.28968474          -inf          -inf          -inf\n",
      " -568.18307972          -inf          -inf          -inf -568.08755666\n",
      "          -inf          -inf          -inf -568.00172727          -inf\n",
      "          -inf          -inf -567.9242531           -inf          -inf\n",
      "          -inf -567.85387735          -inf          -inf          -inf\n",
      " -567.78945321          -inf          -inf          -inf -567.72996282\n",
      "          -inf          -inf          -inf -567.6745237           -inf\n",
      "          -inf          -inf -567.62238273          -inf          -inf\n",
      "          -inf -567.57290103          -inf          -inf          -inf\n",
      " -567.52553584          -inf          -inf          -inf -567.47982582\n",
      "          -inf          -inf          -inf -567.43538582          -inf\n",
      "          -inf          -inf -567.39191389          -inf          -inf\n",
      "          -inf -567.34921015          -inf          -inf          -inf\n",
      " -567.30720355          -inf          -inf          -inf -567.26597992\n",
      "          -inf          -inf          -inf -567.22580408          -inf\n",
      "          -inf          -inf -567.18712965          -inf          -inf\n",
      "          -inf -567.15059291          -inf          -inf          -inf\n",
      " -567.11699042          -inf          -inf          -inf -567.08724341\n",
      "          -inf          -inf          -inf -567.06235419          -inf\n",
      "          -inf          -inf -567.04336062          -inf          -inf\n",
      "          -inf -567.03129394 -567.99901024 -567.77411841 -568.01021667\n",
      " -567.02714321 -567.85864616 -567.7991266  -567.85821676 -567.03182719\n",
      " -567.782289   -567.59772774 -567.7756325  -567.04617247 -567.67276336\n",
      " -567.3181433  -567.67184784 -567.07089537 -567.57654578 -567.21470128\n",
      " -567.5844708  -567.1065844  -567.49640172 -567.22349796 -567.51134664\n",
      " -567.15368145 -567.42531308 -567.23540109 -567.44609492 -567.2124602\n",
      " -567.37322471 -567.26681089 -567.39477446 -567.28300261 -567.32404814\n",
      " -567.13805146 -567.34678265 -567.36517517 -567.27958654 -567.2099749\n",
      " -567.30298479 -567.45860849 -567.25792968 -567.22986846 -567.27538031\n",
      " -567.56268435 -567.24110345 -567.30134022 -567.25195302 -567.67653507\n",
      " -567.21641292 -567.1199786  -567.22433725 -567.79905984 -567.17833603\n",
      " -567.13606597 -567.18769418 -567.92896198 -567.13615566 -567.05159943\n",
      " -567.14751609 -568.06480941 -567.08745251 -567.03348902 -567.10179162\n",
      " -568.2051191  -567.04238967 -567.02439619 -567.05694484 -568.34846379\n",
      " -567.01051088 -567.19544867 -567.01937806 -568.49359742 -566.99107373\n",
      " -567.27607482 -566.98867005 -568.63959358 -567.00071479 -567.44924215\n",
      " -566.97709758 -568.78598989 -567.03217981 -567.72362134 -566.98028781\n",
      " -568.93293022 -567.09325157 -568.00245766 -567.00439728 -569.08129636\n",
      " -567.18277079 -568.31958309 -567.04905133 -569.23282115 -567.28249884\n",
      " -568.45776855 -567.10240404 -569.39017638 -567.39480629 -568.80827593\n",
      " -567.16572955 -569.55703054 -567.5277506  -569.08991769 -567.24480967\n",
      " -569.73807377 -567.66913534 -569.26692452 -567.33184698 -569.93901021\n",
      " -567.82547692 -569.60809975 -567.43121871 -570.16651983 -568.00171414\n",
      " -569.92053543 -567.54627667 -570.42819472 -568.19171515 -570.20808098\n",
      " -567.67351759 -570.73245555 -568.39431035 -570.54188323 -567.81305738\n",
      " -571.08845514 -568.6046884  -570.79216646 -567.96164651 -571.50597554\n",
      " -568.82017135 -571.06888587 -568.11758832 -571.9953238  -569.04564018\n",
      " -571.33585178 -568.28441171 -572.56722965 -569.27057203 -571.55718475\n",
      " -568.45494287 -573.23274587 -569.48882368 -571.68857519 -568.62530781\n",
      " -574.00314916 -569.68700502 -571.67338555 -568.78709015 -574.88983748\n",
      " -569.86142316 -571.64770427 -568.9372762  -575.90421822 -570.01128268\n",
      " -571.54947031 -569.07507868 -577.0575817  -570.12712854 -571.4001912\n",
      " -569.19282587 -578.36095638 -570.21055979 -571.28593469 -569.29056673]\n",
      "  category=UserWarning\n",
      "/Users/iggy/opt/anaconda3/lib/python3.7/site-packages/sklearn/model_selection/_search.py:930: RuntimeWarning: invalid value encountered in subtract\n",
      "  array_means[:, np.newaxis]) ** 2,\n"
     ]
    },
    {
     "data": {
      "text/plain": [
       "GridSearchCV(cv=10, estimator=KernelDensity(),\n",
       "             param_grid={'bandwidth': array([ 0.1       ,  0.10476158,  0.10974988,  0.1149757 ,  0.12045035,\n",
       "        0.12618569,  0.13219411,  0.13848864,  0.14508288,  0.15199111,\n",
       "        0.15922828,  0.16681005,  0.17475284,  0.18307383,  0.19179103,\n",
       "        0.2009233 ,  0.21049041,  0.22051307,  0.23101297,  0.24201283,\n",
       "        0.25353645,  0.26560878,  0.27825594,  0.29150531,  0.30538555,\n",
       "        0.319926...\n",
       "        2.59502421,  2.71858824,  2.84803587,  2.98364724,  3.12571585,\n",
       "        3.27454916,  3.43046929,  3.59381366,  3.76493581,  3.94420606,\n",
       "        4.1320124 ,  4.32876128,  4.53487851,  4.75081016,  4.97702356,\n",
       "        5.21400829,  5.46227722,  5.72236766,  5.9948425 ,  6.28029144,\n",
       "        6.57933225,  6.8926121 ,  7.22080902,  7.56463328,  7.92482898,\n",
       "        8.30217568,  8.69749003,  9.11162756,  9.54548457, 10.        ]),\n",
       "                         'kernel': ['gaussian', 'epanechnikov', 'tophat',\n",
       "                                    'linear']})"
      ]
     },
     "execution_count": 33,
     "metadata": {},
     "output_type": "execute_result"
    }
   ],
   "source": [
    "#Esto para el problem set\n",
    "#Veamos entonces como luciría si usamos validación cruzada através de anchos de banda y de funciones de kernel\n",
    "grid = { \n",
    "    'bandwidth': bandwidths,\n",
    "    'kernel': ['gaussian','epanechnikov', 'tophat', 'linear']\n",
    "}\n",
    "\n",
    "gridCV = GridSearchCV(KernelDensity(),\n",
    "                    param_grid=grid,\n",
    "                    cv=10)\n",
    "gridCV.fit(vals)"
   ]
  },
  {
   "cell_type": "code",
   "execution_count": 35,
   "id": "76b433fa",
   "metadata": {},
   "outputs": [
    {
     "data": {
      "text/plain": [
       "{'bandwidth': 3.764935806792469, 'kernel': 'linear'}"
      ]
     },
     "execution_count": 35,
     "metadata": {},
     "output_type": "execute_result"
    }
   ],
   "source": [
    "gridCV.best_params_"
   ]
  },
  {
   "cell_type": "code",
   "execution_count": null,
   "id": "b0cea5a5",
   "metadata": {},
   "outputs": [],
   "source": []
  },
  {
   "cell_type": "markdown",
   "id": "611a45ca",
   "metadata": {},
   "source": [
    "### 1.Carga de datos \n",
    "\n",
    "Los datos pueden ser bajados directamente utilizando la librería `scikit-learn`,  la función que le permite hacer esto es `fetch_olivetti_faces`. "
   ]
  },
  {
   "cell_type": "code",
   "execution_count": 1,
   "id": "36fac364",
   "metadata": {},
   "outputs": [],
   "source": [
    "# Utilice este espacio para escribir el código."
   ]
  },
  {
   "cell_type": "markdown",
   "id": "3fc38d31",
   "metadata": {},
   "source": [
    "(Utilice este espacio para describir su procedimiento)."
   ]
  },
  {
   "cell_type": "markdown",
   "id": "a507b795",
   "metadata": {},
   "source": [
    "### 2.  Análisis preliminar \n",
    "\n",
    "Describa los contenidos de la base de datos, tenga en cuenta que debe detallar los elementos, la dimensión de la base, y la dimensión de las imágenes. "
   ]
  },
  {
   "cell_type": "code",
   "execution_count": 2,
   "id": "877fe5ce",
   "metadata": {},
   "outputs": [],
   "source": [
    "# Utilice este espacio para escribir el código."
   ]
  },
  {
   "cell_type": "markdown",
   "id": "e762d6b3",
   "metadata": {},
   "source": [
    "(Utilice este espacio para describir el procedimiento, análisis y conclusiones)"
   ]
  },
  {
   "cell_type": "markdown",
   "id": "f1f9b4b4",
   "metadata": {},
   "source": [
    "Como pudo notar en el punto anterior, las imágenes son altamente dimensionales. Antes de proceder con clustering reduzca a dos dimensiones las imágenes utilizando componentes principales. Grafique las dos primeras componentes y comente si se observa algún patron de agrupamiento."
   ]
  },
  {
   "cell_type": "code",
   "execution_count": 3,
   "id": "41ca7fd2",
   "metadata": {},
   "outputs": [],
   "source": [
    "# Utilice este espacio para escribir el código."
   ]
  },
  {
   "cell_type": "markdown",
   "id": "e7d19f86",
   "metadata": {},
   "source": [
    "(Utilice este espacio para describir el procedimiento, análisis y conclusiones)"
   ]
  },
  {
   "cell_type": "markdown",
   "id": "a778b917",
   "metadata": {},
   "source": [
    "### 3. K-medias\n",
    "\n",
    "Como sabemos que el dataset consta de 40 personas diferentes, utilice esta información para pedirle al algoritmo de K-medias que encuentre k=40 clusters. Explique brevemente que hace el algoritmo, comente sobre los resultados obtenidos y el desempeño del algoritmo. En su comentario incluya un gráfico que muestre qué imagenes pertenecen a cada cluster."
   ]
  },
  {
   "cell_type": "code",
   "execution_count": 4,
   "id": "ab568291",
   "metadata": {},
   "outputs": [],
   "source": [
    "# Utilice este espacio para escribir el código."
   ]
  },
  {
   "cell_type": "markdown",
   "id": "4c85bb20",
   "metadata": {},
   "source": [
    "(Utilice este espacio para describir el procedimiento, análisis y conclusiones)"
   ]
  },
  {
   "cell_type": "markdown",
   "id": "98b90dbc",
   "metadata": {},
   "source": [
    "### 4. K-medoides\n",
    "\n",
    "Repita el ejercicio anterior pero utilizando K-medoides. Explique brevemente qué hace el algoritmo, comente sobre los resultados obtenidos, y el desempeño del algoritmo. En su comentario incluya un gráfico que muestre qué imágenes pertenecen a cada cluster. "
   ]
  },
  {
   "cell_type": "code",
   "execution_count": 5,
   "id": "fef94868",
   "metadata": {},
   "outputs": [],
   "source": [
    "# Utilice este espacio para escribir el código."
   ]
  },
  {
   "cell_type": "markdown",
   "id": "247b59c9",
   "metadata": {},
   "source": [
    "(Utilice este espacio para describir el procedimiento, análisis y conclusiones)"
   ]
  },
  {
   "cell_type": "markdown",
   "id": "9f31167d",
   "metadata": {},
   "source": [
    "### 5. Comparación entre K-medias y K-medoides\n",
    "\n",
    "Compare los clusters obtenidos entre K-medias y K-medoides. Explique las similitudes y diferencias. ¿Cuál de los algoritmos tuvo mejor desempeño? Explique por qué usted cree que un algoritmo fue superior al otro (si es que uno es mejor que el otro)."
   ]
  },
  {
   "cell_type": "code",
   "execution_count": 6,
   "id": "2fdf3326",
   "metadata": {},
   "outputs": [],
   "source": [
    "# Utilice este espacio para escribir el código."
   ]
  },
  {
   "cell_type": "markdown",
   "id": "2b5eff17",
   "metadata": {},
   "source": [
    "(Utilice este espacio para describir el procedimiento, análisis y conclusiones)"
   ]
  },
  {
   "cell_type": "markdown",
   "id": "b17a4643",
   "metadata": {},
   "source": [
    "### 6. Elección del número de clusters\n",
    "\n",
    "En los puntos anteriores utilizamos nuestro conocimiento previo sobre los datos para elegir el número de clusters. En este punto, verifique si 40 es realmente el número de cluster que usted elegiría según los criterios que discutimos en los cuadernos teóricos. Explique brevemente en qué consiste cada criterio y aplíquelos para ambos métodos. Compare los resultados obtenidos.\n",
    "\n"
   ]
  },
  {
   "cell_type": "code",
   "execution_count": 7,
   "id": "ad59be36",
   "metadata": {},
   "outputs": [],
   "source": [
    "# Utilice este espacio para escribir el código."
   ]
  },
  {
   "cell_type": "markdown",
   "id": "d1267ad7",
   "metadata": {},
   "source": [
    "(Utilice este espacio para describir el procedimiento, análisis y conclusiones)"
   ]
  },
  {
   "cell_type": "markdown",
   "id": "11ac9cbb",
   "metadata": {},
   "source": [
    "### 7. Robustez de los resultados\n",
    "\n",
    "#### 7.1 Estandarice los datos y repita los puntos 3., 4., y 5. ¿Hubo alguna mejora en la conformación de los clusters? "
   ]
  },
  {
   "cell_type": "code",
   "execution_count": 8,
   "id": "6aa9585a",
   "metadata": {},
   "outputs": [],
   "source": [
    "# Utilice este espacio para escribir el código."
   ]
  },
  {
   "cell_type": "markdown",
   "id": "76dfb8ff",
   "metadata": {},
   "source": [
    "(Utilice este espacio para describir el procedimiento, análisis y conclusiones)"
   ]
  },
  {
   "cell_type": "markdown",
   "id": "2c7ecd75",
   "metadata": {},
   "source": [
    "#### 7.2 ¿Es necesario realizar la descomposición en componentes principales antes de la clusterización? Comente sobre la presición de los resultados y compare el tiempo que tardan K-medias y K-medoides  con y sin la reducción de dimensionalidad."
   ]
  },
  {
   "cell_type": "code",
   "execution_count": 1,
   "id": "cf61682b",
   "metadata": {},
   "outputs": [],
   "source": [
    "# Utilice este espacio para escribir el código."
   ]
  },
  {
   "cell_type": "markdown",
   "id": "8374b537",
   "metadata": {},
   "source": [
    "(Utilice este espacio para describir el procedimiento, análisis y conclusiones)"
   ]
  }
 ],
 "metadata": {
  "kernelspec": {
   "display_name": "Python 3",
   "language": "python",
   "name": "python3"
  },
  "language_info": {
   "codemirror_mode": {
    "name": "ipython",
    "version": 3
   },
   "file_extension": ".py",
   "mimetype": "text/x-python",
   "name": "python",
   "nbconvert_exporter": "python",
   "pygments_lexer": "ipython3",
   "version": "3.7.6"
  },
  "toc": {
   "base_numbering": 1,
   "nav_menu": {},
   "number_sections": true,
   "sideBar": true,
   "skip_h1_title": false,
   "title_cell": "Table of Contents",
   "title_sidebar": "Contents",
   "toc_cell": false,
   "toc_position": {},
   "toc_section_display": true,
   "toc_window_display": false
  }
 },
 "nbformat": 4,
 "nbformat_minor": 5
}
