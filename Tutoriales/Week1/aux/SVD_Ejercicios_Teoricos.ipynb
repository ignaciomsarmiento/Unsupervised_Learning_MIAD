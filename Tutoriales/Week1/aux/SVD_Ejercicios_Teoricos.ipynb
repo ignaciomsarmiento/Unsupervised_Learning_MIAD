{
 "cells": [
  {
   "cell_type": "markdown",
   "metadata": {},
   "source": [
    "--- \n",
    "<center>\n",
    "<h3> ESPACIO PARA BANNER DE LA MAESTRIA </h3> \n",
    "</center>\n",
    "\n",
    "---"
   ]
  },
  {
   "cell_type": "markdown",
   "metadata": {},
   "source": [
    "## Ejercicios teóricos\n",
    "# Descomposición en Valores Singulares"
   ]
  },
  {
   "cell_type": "markdown",
   "metadata": {},
   "source": [
    "1. Demuestre que la Descomposición en Valores Singulares encuentra la dirección para la cual la matriz original estira más el vector unitario. Parta de la siguiente expresión:\n",
    "$$\\argmax_{x:||x||=1} ||Bx||$$\n",
    "2. $B$ es una matriz cuadrada de tamaño $m\\times m$ la cual sus filas son ortonormales. Demuestre que las columnas de $B$ también son ortonormales.\n",
    "3. Suponga que $C$ es una matriz cuadrada invertible y que la Descomposición en Valores Singulares de $C$ es $C=\\sum_i \\sigma_i u_i v_i^T$. Encuentre la inversa de $C$.\n",
    "4. Encuentre la DVS o SVD de la matriz $A$, $U\\Sigma V^T$, en donde $A = \\begin{bmatrix} 3 & 2 & 2 \\\\ 2 & 3 & -2 \\end{bmatrix}$\n",
    "5. Demuestre que los vectores singulares izquierdos de una matriz $D$ son los vectores singulares derechos de $D^T$\n",
    "\n",
    "---"
   ]
  }
 ],
 "metadata": {
  "interpreter": {
   "hash": "8fac594bfae6525c0c41b4041d2d72effa188cc8ead05f81b1fab2bb098927fb"
  },
  "kernelspec": {
   "display_name": "Python 3",
   "language": "python",
   "name": "python3"
  },
  "language_info": {
   "codemirror_mode": {
    "name": "ipython",
    "version": 3
   },
   "file_extension": ".py",
   "mimetype": "text/x-python",
   "name": "python",
   "nbconvert_exporter": "python",
   "pygments_lexer": "ipython3",
   "version": "3.7.6"
  },
  "toc": {
   "base_numbering": 1,
   "nav_menu": {},
   "number_sections": true,
   "sideBar": true,
   "skip_h1_title": false,
   "title_cell": "Table of Contents",
   "title_sidebar": "Contents",
   "toc_cell": false,
   "toc_position": {},
   "toc_section_display": true,
   "toc_window_display": false
  }
 },
 "nbformat": 4,
 "nbformat_minor": 2
}
