{
 "cells": [
  {
   "cell_type": "markdown",
   "metadata": {},
   "source": [
    "----------------------------------- ----------------------------------- ----------------------------------- \n",
    "----------------------------------- ESPACIO PARA BANNER DE LA MAESTRIA -----------------------------------\n",
    "----------------------------------- ----------------------------------- ----------------------------------- "
   ]
  },
  {
   "cell_type": "markdown",
   "metadata": {},
   "source": [
    "# Reducción de la Dimensionalidad y Analisis de Componentes Principales"
   ]
  },
  {
   "cell_type": "markdown",
   "metadata": {},
   "source": [
    "Este cuaderno es un breve tutorial sobre las funciones y librerías básicas de Python que el lector va a necesitar para el desarrollo de buena parte de las actividades de este curso. NO es necesario editar el archivo o hacer una entrega. Sin embargo, es libre de modificarlo editando celdas de texto (celdas Markdown) o las celdas de código (celdas con código ejecutable están en gris). Esta puede ser una buena forma de aprender nuevas funcionalidades del cuaderno, o experimentar variaciones en los códigos de ejemplo."
   ]
  },
  {
   "cell_type": "markdown",
   "metadata": {},
   "source": [
    "# Reducción de la Dimensionalidad"
   ]
  },
  {
   "cell_type": "markdown",
   "metadata": {},
   "source": [
    "Uno de los principales problemas que aborda el aprendizaje no supervisado es el de reducción de la dimensionalidad. A modo de ejemplo, supongamos que se dispone de una base de datos de inviduos con 10 variables socioeconómicas. Estas variables socioeconómicas en la base tratan de medir el bienestar de una personas, y por lo tanto incluyen variables como ser el ingreso, sus gastos, sus años de educación, entre otras. La pregunta entonces que nos motiva, es si es posible constuir una suerte de indice que permita condensar todas estas dimensiones en una sola que resuman el bienestar de cada una de ellas. La primer respuesta obvia sería construir un indice que promedie estas variables. Sin embargo, todas las variables pueden no importar de manera igual. El problema que estudiaremos en este cuaderno se puede pensar como cuál es la mejor forma de construir el indice combinando linealmente las variables iniciales."
   ]
  },
  {
   "cell_type": "markdown",
   "metadata": {},
   "source": [
    "Trabajar directamente con datos de alta dimensión, como ser texto e imágenes, conlleva algunas dificultades: es difícil de analizar, la interpretación es difícil, la visualización es casi imposible y (desde un punto de vista práctico) el almacenamiento de los vectores de datos puede ser muy costos. \n",
    "\n",
    "Sin embargo, los datos de alta dimensión a menudo tienen propiedades que podemos aprovechar. Por ejemplo, los datos de alta dimensión suelen estar demasiado completos, es decir, muchas dimensiones son redundantes y pueden explicarse mediante una combinación de otras dimensiones. \n",
    "\n",
    "Además, las dimensiones en los datos de alta dimensión a menudo se correlacionan de modo que los datos posean una estructura intrínseca de dimensiones inferiores. La reducción de dimensionalidad aprovecha la estructura y la correlación y nos permite trabajar con una representación más compacta de los datos, idealmente sin perder información. Podemos pensar en la reducción de dimensionalidad como una técnica de compresión, similar a jpeg o mp3, que son algoritmos de compresión para imágenes y música.\n",
    "En este capítulo, discutiremos el análisis de componentes principales (PCA), un algoritmo para la reducción de dimensionalidad lineal. La PCA, propuesta por Pearson (1901) y Hotelling (1933), existe desde hace más de 100 años y sigue siendo una de las técnicas más utilizadas para la compresión y visualización de datos. También se utiliza para la identificación de patrones simples, factores latentes y estructuras de datos de alta dimensión. \n"
   ]
  },
  {
   "cell_type": "markdown",
   "metadata": {},
   "source": [
    "En esta notebooks vamos a explorar el hallazgo de las componentes principales en alguno de los datasets vistos en clases anteriores. La idea de componentes principales (y de muchas otras técnicas de reducción dimensional) es encontrar una combinación de los features originales que condensen gran parte de la variabilidad de nuestros datos. La utilidad de esto radica en poder:\n",
    "- visualizar los datos en un espacio mucho más chico que el espacio original;\n",
    "- encontrar direcciones que condensen la variación de features fuertemente correlacionados y, por lo tanto, eliminar información redundante;\n",
    "- alimentar modelos de regresión o clasificación con menos variables independientes;\n",
    "- comprimir información (parte 2).\n",
    "\n",
    "La descomposición en componentes principales es parte del conjunto de algoritmos conocidos como de **aprendizaje no-supervisado**. Esto se debe a que estos algoritmos trabajan sobre el conjunto de features, sin que exista una variable que querramos predecir (variable *target*)."
   ]
  },
  {
   "cell_type": "markdown",
   "metadata": {},
   "source": []
  },
  {
   "cell_type": "code",
   "execution_count": 101,
   "metadata": {},
   "outputs": [],
   "source": [
    "\n",
    "import os\n",
    "import pandas as pd\n",
    "import numpy as np"
   ]
  },
  {
   "cell_type": "code",
   "execution_count": 102,
   "metadata": {},
   "outputs": [
    {
     "data": {
      "text/plain": [
       "'/Users/iggy/Dropbox/Teaching/2022/MIAD/Unsupervised_Learning_MIAD/Tutoriales/Week1'"
      ]
     },
     "execution_count": 102,
     "metadata": {},
     "output_type": "execute_result"
    }
   ],
   "source": [
    "os.getcwd()"
   ]
  },
  {
   "cell_type": "code",
   "execution_count": 110,
   "metadata": {},
   "outputs": [
    {
     "data": {
      "text/html": [
       "<div>\n",
       "<style scoped>\n",
       "    .dataframe tbody tr th:only-of-type {\n",
       "        vertical-align: middle;\n",
       "    }\n",
       "\n",
       "    .dataframe tbody tr th {\n",
       "        vertical-align: top;\n",
       "    }\n",
       "\n",
       "    .dataframe thead th {\n",
       "        text-align: right;\n",
       "    }\n",
       "</style>\n",
       "<table border=\"1\" class=\"dataframe\">\n",
       "  <thead>\n",
       "    <tr style=\"text-align: right;\">\n",
       "      <th></th>\n",
       "      <th>Alimentos y bebidas no alcohólicas</th>\n",
       "      <th>Bebidas alcohólicas y tabaco</th>\n",
       "    </tr>\n",
       "    <tr>\n",
       "      <th>Ciudad</th>\n",
       "      <th></th>\n",
       "      <th></th>\n",
       "    </tr>\n",
       "  </thead>\n",
       "  <tbody>\n",
       "    <tr>\n",
       "      <th>Arauca</th>\n",
       "      <td>-0.893243</td>\n",
       "      <td>-1.491704</td>\n",
       "    </tr>\n",
       "    <tr>\n",
       "      <th>Armenia</th>\n",
       "      <td>1.411143</td>\n",
       "      <td>-0.317263</td>\n",
       "    </tr>\n",
       "    <tr>\n",
       "      <th>Barrancabermeja</th>\n",
       "      <td>-1.145930</td>\n",
       "      <td>0.551373</td>\n",
       "    </tr>\n",
       "    <tr>\n",
       "      <th>Barranquilla</th>\n",
       "      <td>-0.183745</td>\n",
       "      <td>-0.774835</td>\n",
       "    </tr>\n",
       "    <tr>\n",
       "      <th>Bogotá</th>\n",
       "      <td>1.355724</td>\n",
       "      <td>0.255023</td>\n",
       "    </tr>\n",
       "  </tbody>\n",
       "</table>\n",
       "</div>"
      ],
      "text/plain": [
       "                 Alimentos y bebidas no alcohólicas  \\\n",
       "Ciudad                                                \n",
       "Arauca                                    -0.893243   \n",
       "Armenia                                    1.411143   \n",
       "Barrancabermeja                           -1.145930   \n",
       "Barranquilla                              -0.183745   \n",
       "Bogotá                                     1.355724   \n",
       "\n",
       "                 Bebidas alcohólicas y tabaco  \n",
       "Ciudad                                         \n",
       "Arauca                              -1.491704  \n",
       "Armenia                             -0.317263  \n",
       "Barrancabermeja                      0.551373  \n",
       "Barranquilla                        -0.774835  \n",
       "Bogotá                               0.255023  "
      ]
     },
     "execution_count": 110,
     "metadata": {},
     "output_type": "execute_result"
    }
   ],
   "source": [
    "gasto = pd.read_csv('../../../gasto_col_2017_norm2.csv')\n",
    "gasto = gasto.set_index(\"Ciudad\")\n",
    "gasto.head()"
   ]
  },
  {
   "cell_type": "code",
   "execution_count": 111,
   "metadata": {},
   "outputs": [
    {
     "data": {
      "text/html": [
       "<div>\n",
       "<style scoped>\n",
       "    .dataframe tbody tr th:only-of-type {\n",
       "        vertical-align: middle;\n",
       "    }\n",
       "\n",
       "    .dataframe tbody tr th {\n",
       "        vertical-align: top;\n",
       "    }\n",
       "\n",
       "    .dataframe thead th {\n",
       "        text-align: right;\n",
       "    }\n",
       "</style>\n",
       "<table border=\"1\" class=\"dataframe\">\n",
       "  <thead>\n",
       "    <tr style=\"text-align: right;\">\n",
       "      <th></th>\n",
       "      <th>Alimentos y bebidas no alcohólicas</th>\n",
       "      <th>Bebidas alcohólicas y tabaco</th>\n",
       "    </tr>\n",
       "  </thead>\n",
       "  <tbody>\n",
       "    <tr>\n",
       "      <th>Alimentos y bebidas no alcohólicas</th>\n",
       "      <td>1.000000</td>\n",
       "      <td>-0.109692</td>\n",
       "    </tr>\n",
       "    <tr>\n",
       "      <th>Bebidas alcohólicas y tabaco</th>\n",
       "      <td>-0.109692</td>\n",
       "      <td>1.000000</td>\n",
       "    </tr>\n",
       "  </tbody>\n",
       "</table>\n",
       "</div>"
      ],
      "text/plain": [
       "                                    Alimentos y bebidas no alcohólicas  \\\n",
       "Alimentos y bebidas no alcohólicas                            1.000000   \n",
       "Bebidas alcohólicas y tabaco                                 -0.109692   \n",
       "\n",
       "                                    Bebidas alcohólicas y tabaco  \n",
       "Alimentos y bebidas no alcohólicas                     -0.109692  \n",
       "Bebidas alcohólicas y tabaco                            1.000000  "
      ]
     },
     "execution_count": 111,
     "metadata": {},
     "output_type": "execute_result"
    }
   ],
   "source": [
    "S = gasto.cov()\n",
    "S"
   ]
  },
  {
   "cell_type": "code",
   "execution_count": 112,
   "metadata": {},
   "outputs": [
    {
     "data": {
      "text/plain": [
       "array([1.10969201, 0.89030799])"
      ]
     },
     "execution_count": 112,
     "metadata": {},
     "output_type": "execute_result"
    }
   ],
   "source": [
    "eig_val, eig_vec = np.linalg.eig(S)\n",
    "eig_val"
   ]
  },
  {
   "cell_type": "code",
   "execution_count": 113,
   "metadata": {},
   "outputs": [],
   "source": [
    "from sklearn.decomposition import PCA"
   ]
  },
  {
   "cell_type": "code",
   "execution_count": 114,
   "metadata": {},
   "outputs": [],
   "source": [
    "pca = PCA(n_components = 1)  "
   ]
  },
  {
   "cell_type": "code",
   "execution_count": 117,
   "metadata": {},
   "outputs": [
    {
     "name": "stdout",
     "output_type": "stream",
     "text": [
      "[1.10969201]\n",
      "[[-0.70710678  0.70710678]]\n"
     ]
    }
   ],
   "source": [
    "pca = PCA(n_components=1).fit(gasto)\n",
    "\n",
    "print(pca.explained_variance_)\n",
    "print(pca.components_)"
   ]
  }
 ],
 "metadata": {
  "kernelspec": {
   "display_name": "Python 3",
   "language": "python",
   "name": "python3"
  },
  "language_info": {
   "codemirror_mode": {
    "name": "ipython",
    "version": 3
   },
   "file_extension": ".py",
   "mimetype": "text/x-python",
   "name": "python",
   "nbconvert_exporter": "python",
   "pygments_lexer": "ipython3",
   "version": "3.7.6"
  },
  "toc": {
   "base_numbering": 1,
   "nav_menu": {},
   "number_sections": true,
   "sideBar": true,
   "skip_h1_title": false,
   "title_cell": "Table of Contents",
   "title_sidebar": "Contents",
   "toc_cell": false,
   "toc_position": {},
   "toc_section_display": true,
   "toc_window_display": false
  }
 },
 "nbformat": 4,
 "nbformat_minor": 4
}
