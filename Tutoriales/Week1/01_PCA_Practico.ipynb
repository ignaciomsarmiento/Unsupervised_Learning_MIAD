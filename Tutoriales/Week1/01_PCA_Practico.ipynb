{
 "cells": [
  {
   "cell_type": "markdown",
   "source": [
    "# Análisis de Componentes Principales\r\n",
    "## 1. Resumen\r\n",
    "Los grandes conjuntos de datos son cada vez más comunes y, a menudo, difíciles de interpretar. El análisis de componentes principales (PCA por sus siglas en inglés) es una técnica para reducir la dimensionalidad de tales conjuntos de datos, aumentando la interpretabilidad pero al mismo tiempo minimizando la pérdida de información. \r\n",
    "\r\n",
    "Cuando implementamos PCA trabajamos bajo el supuesto de que todas las variables no son iguales de importantes para realizar nuestro análisis. Usualmente sucede que algunas de ellas tienen poca variación por lo que aportan muy poca información o también puede haber conjuntos de variables que estén altamente correlacionadas y por ende la información que aporten sea redundante. \r\n",
    "\r\n",
    "Por tal motivo, este algoritmo busca representar un conjunto de datos es un espacio de menor dimensión, reteniendo la mayor cantidad de información posible. Idealmente el número de dimensiones resultante deberá ser sustancialmente menor al de la matriz original. Más adelante verá algunas técnicas utilizadas para escoger el número óptimo de dimensiones.\r\n",
    "\r\n",
    "Matemáticamente el planteamiento del problema parte de un conjunto de datos alojado en una matriz $X$ con $p$ columnas/variables numéricas y $n$ observaciones. PCA busca la combinación lineal de las columnas de $X$ tal que se maximice la varianza. Esta combinación lineal está dada por:\r\n",
    "$$\\sum_{i=1}^p a_ix_i=Xa$$\r\n",
    "En donde $a$ es un vector de constantes $a_1, a_2, \\cdots, a_p$. Además, recordemos que la varianza de una combinación lineal en forma matricial sería: $var(Xa)=a^{T}Sa$, en donde $S$ sería la matriz de varianzas y covarianzas muestral asociada a $X$.\r\n",
    "\r\n",
    "Recapitulando tenemos que encontrar una combinación lineal que maximice la varianza sería equivalente a encontrar un vector $a$ de dimensión $p$ tal que maximice la forma cuadrática $a^{T}Sa$. Dado que este problema tiene infinitas soluciones es necesario imponer la restricción de que el vector $a$ deba ser un vector unitario, es decir: $a^{T}a=1$. Planteando el lagrangeano obtendríamos:\r\n",
    "$$\\mathcal{L} = a^{T}Sa-\\lambda(a^{T}a-1)$$\r\n",
    "Donde $\\lambda$ corresponde al multiplicado de lagrange. Hayando las condiciones de primer orden llegamos a la expresión:\r\n",
    "$$Sa-\\lambda a=0 \\leftrightarrow Sa=\\lambda a$$\r\n",
    "\r\n",
    "Finalmente, se puede demostrar que $a$ y $\\lambda$ deben corresponder a un eigenvector y a un eigenvalor asociados a la matriz $S$ respectivamente. Dado que cualquier matriz simétrica de tamaño $p\\times p$ tiene exactamente $p$ eigenvalores, vamos a ordenarlos de mayor a menor (en valor absoluto) y de este modo se tendrán también ordenados los eigenvectores del que explica la mayor porción de la varianza a la menor porción.\r\n",
    "\r\n",
    "---\r\n",
    "## 2. Ejercicio práctico\r\n",
    "Para el siguiente ejercicio práctico haremos uso de una base de datos que contiene información sobre el gasto promedio de 12 familias en Francia sobre 7 artículos de la canasta básica. Esta base de datos fue utilizada por Lebart, Morineau y Fénelon (1982) y se encuentra disponible [aquí](http://sfb649.wiwi.hu-berlin.de/fedc_homepage/xplore/tutorials/mvahtmlnode133.html).\r\n",
    "\r\n",
    "Nuestro objetivo es reducir nuestra base en solo dos dimensiones de modo que podamos hacer una representación gráfica de la misma y hacer un análisis sobre el comportamiento de consumo de las familias y de los productos.\r\n",
    "\r\n",
    "Dado que la información de la base se encuentra en formato html, haremos un scraper sencillo para importar los datos. No es necesario que entienda a profundidad lo que sucede en la próxima celda."
   ],
   "metadata": {}
  },
  {
   "cell_type": "code",
   "execution_count": 1,
   "source": [
    "import pandas as pd\r\n",
    "\r\n",
    "# Url donde está alojada la base\r\n",
    "link = \"http://sfb649.wiwi.hu-berlin.de/fedc_homepage/xplore/tutorials/mvahtmlnode133.html\"\r\n",
    "# Leemos la tabla con pandas\r\n",
    "df = pd.read_html(link)[0]\r\n",
    "# Limpiamos la tabla \r\n",
    "df = df.iloc[1:13,1:].reset_index(drop = True)\r\n",
    "df.columns = [\"familia\", \"pan\", \"vegetales\", \"frutas\", \"carne\", \"aves\", \"leche\", \"vino\"]\r\n",
    "df = df.set_index(\"familia\")\r\n",
    "df = df.apply(pd.to_numeric)"
   ],
   "outputs": [],
   "metadata": {}
  },
  {
   "cell_type": "code",
   "execution_count": 2,
   "source": [
    "# Visualizamos la data\r\n",
    "df"
   ],
   "outputs": [
    {
     "output_type": "execute_result",
     "data": {
      "text/plain": [
       "         pan  vegetales  frutas  carne  aves  leche  vino\n",
       "familia                                                  \n",
       "MA2      332        428     354   1437   526    247   427\n",
       "EM2      293        559     388   1527   567    239   258\n",
       "CA2      372        767     562   1948   927    235   433\n",
       "MA3      406        563     341   1507   544    324   407\n",
       "EM3      386        608     396   1501   558    319   363\n",
       "CA3      438        843     689   2345  1148    243   341\n",
       "MA4      534        660     367   1620   638    414   407\n",
       "EM4      460        699     484   1856   762    400   416\n",
       "CA4      385        789     621   2366  1149    304   282\n",
       "MA5      655        776     423   1848   759    495   486\n",
       "EM5      584        995     548   2056   893    518   319\n",
       "CA5      515       1097     887   2630  1167    561   284"
      ],
      "text/html": [
       "<div>\n",
       "<style scoped>\n",
       "    .dataframe tbody tr th:only-of-type {\n",
       "        vertical-align: middle;\n",
       "    }\n",
       "\n",
       "    .dataframe tbody tr th {\n",
       "        vertical-align: top;\n",
       "    }\n",
       "\n",
       "    .dataframe thead th {\n",
       "        text-align: right;\n",
       "    }\n",
       "</style>\n",
       "<table border=\"1\" class=\"dataframe\">\n",
       "  <thead>\n",
       "    <tr style=\"text-align: right;\">\n",
       "      <th></th>\n",
       "      <th>pan</th>\n",
       "      <th>vegetales</th>\n",
       "      <th>frutas</th>\n",
       "      <th>carne</th>\n",
       "      <th>aves</th>\n",
       "      <th>leche</th>\n",
       "      <th>vino</th>\n",
       "    </tr>\n",
       "    <tr>\n",
       "      <th>familia</th>\n",
       "      <th></th>\n",
       "      <th></th>\n",
       "      <th></th>\n",
       "      <th></th>\n",
       "      <th></th>\n",
       "      <th></th>\n",
       "      <th></th>\n",
       "    </tr>\n",
       "  </thead>\n",
       "  <tbody>\n",
       "    <tr>\n",
       "      <th>MA2</th>\n",
       "      <td>332</td>\n",
       "      <td>428</td>\n",
       "      <td>354</td>\n",
       "      <td>1437</td>\n",
       "      <td>526</td>\n",
       "      <td>247</td>\n",
       "      <td>427</td>\n",
       "    </tr>\n",
       "    <tr>\n",
       "      <th>EM2</th>\n",
       "      <td>293</td>\n",
       "      <td>559</td>\n",
       "      <td>388</td>\n",
       "      <td>1527</td>\n",
       "      <td>567</td>\n",
       "      <td>239</td>\n",
       "      <td>258</td>\n",
       "    </tr>\n",
       "    <tr>\n",
       "      <th>CA2</th>\n",
       "      <td>372</td>\n",
       "      <td>767</td>\n",
       "      <td>562</td>\n",
       "      <td>1948</td>\n",
       "      <td>927</td>\n",
       "      <td>235</td>\n",
       "      <td>433</td>\n",
       "    </tr>\n",
       "    <tr>\n",
       "      <th>MA3</th>\n",
       "      <td>406</td>\n",
       "      <td>563</td>\n",
       "      <td>341</td>\n",
       "      <td>1507</td>\n",
       "      <td>544</td>\n",
       "      <td>324</td>\n",
       "      <td>407</td>\n",
       "    </tr>\n",
       "    <tr>\n",
       "      <th>EM3</th>\n",
       "      <td>386</td>\n",
       "      <td>608</td>\n",
       "      <td>396</td>\n",
       "      <td>1501</td>\n",
       "      <td>558</td>\n",
       "      <td>319</td>\n",
       "      <td>363</td>\n",
       "    </tr>\n",
       "    <tr>\n",
       "      <th>CA3</th>\n",
       "      <td>438</td>\n",
       "      <td>843</td>\n",
       "      <td>689</td>\n",
       "      <td>2345</td>\n",
       "      <td>1148</td>\n",
       "      <td>243</td>\n",
       "      <td>341</td>\n",
       "    </tr>\n",
       "    <tr>\n",
       "      <th>MA4</th>\n",
       "      <td>534</td>\n",
       "      <td>660</td>\n",
       "      <td>367</td>\n",
       "      <td>1620</td>\n",
       "      <td>638</td>\n",
       "      <td>414</td>\n",
       "      <td>407</td>\n",
       "    </tr>\n",
       "    <tr>\n",
       "      <th>EM4</th>\n",
       "      <td>460</td>\n",
       "      <td>699</td>\n",
       "      <td>484</td>\n",
       "      <td>1856</td>\n",
       "      <td>762</td>\n",
       "      <td>400</td>\n",
       "      <td>416</td>\n",
       "    </tr>\n",
       "    <tr>\n",
       "      <th>CA4</th>\n",
       "      <td>385</td>\n",
       "      <td>789</td>\n",
       "      <td>621</td>\n",
       "      <td>2366</td>\n",
       "      <td>1149</td>\n",
       "      <td>304</td>\n",
       "      <td>282</td>\n",
       "    </tr>\n",
       "    <tr>\n",
       "      <th>MA5</th>\n",
       "      <td>655</td>\n",
       "      <td>776</td>\n",
       "      <td>423</td>\n",
       "      <td>1848</td>\n",
       "      <td>759</td>\n",
       "      <td>495</td>\n",
       "      <td>486</td>\n",
       "    </tr>\n",
       "    <tr>\n",
       "      <th>EM5</th>\n",
       "      <td>584</td>\n",
       "      <td>995</td>\n",
       "      <td>548</td>\n",
       "      <td>2056</td>\n",
       "      <td>893</td>\n",
       "      <td>518</td>\n",
       "      <td>319</td>\n",
       "    </tr>\n",
       "    <tr>\n",
       "      <th>CA5</th>\n",
       "      <td>515</td>\n",
       "      <td>1097</td>\n",
       "      <td>887</td>\n",
       "      <td>2630</td>\n",
       "      <td>1167</td>\n",
       "      <td>561</td>\n",
       "      <td>284</td>\n",
       "    </tr>\n",
       "  </tbody>\n",
       "</table>\n",
       "</div>"
      ]
     },
     "metadata": {},
     "execution_count": 2
    }
   ],
   "metadata": {}
  },
  {
   "cell_type": "markdown",
   "source": [
    "La columna familia nos dice el tipo de familia, donde MA significa artesanos, EM significa empleados, y CA significa gerentes. Seguido de este indicador viene un número que es equivalente al número de hijos que tiene la familia."
   ],
   "metadata": {}
  },
  {
   "cell_type": "markdown",
   "source": [
    "Primero vamos a realizar una implementación manual de PCA y posteriormente mostraremos como realizarlo utilizando las funciones de la librería [scikit-learn](https://scikit-learn.org/stable/auto_examples/decomposition/plot_pca_3d.html?highlight=principal).\r\n",
    "\r\n",
    "Los pasos a seguir para implementar PCA son:\r\n",
    "- Estandarizamos los datos para que estos estén centrados en 0 y tengan desviación estándar igual a 1.\r\n",
    "- Calculamos la matriz $S$ de varianzas y covarianzas. \r\n",
    "- Encontramos los eigenvalores y eigenvectores asociados. Ordenamos los eigenvalores del mayor al menor en valor absoluto.\r\n",
    "- Construimos los Componentes Principales.\r\n",
    "- Seleccionamos el número óptimo de Componentes Principales."
   ],
   "metadata": {}
  },
  {
   "cell_type": "code",
   "execution_count": 3,
   "source": [
    "# Estandarizamos los datos\r\n",
    "mu = df.mean()\r\n",
    "sigma = df.std()\r\n",
    "X = (df - mu)/sigma"
   ],
   "outputs": [],
   "metadata": {}
  },
  {
   "cell_type": "code",
   "execution_count": 4,
   "source": [
    "# Calculamos la matriz de varianzas y covarianzas\r\n",
    "S = X.cov()\r\n",
    "S"
   ],
   "outputs": [
    {
     "output_type": "execute_result",
     "data": {
      "text/plain": [
       "                pan  vegetales    frutas     carne      aves     leche  \\\n",
       "pan        1.000000   0.593110  0.196139  0.321269  0.248008  0.855575   \n",
       "vegetales  0.593110   1.000000  0.856250  0.881081  0.826777  0.662799   \n",
       "frutas     0.196139   0.856250  1.000000  0.959477  0.925542  0.332189   \n",
       "carne      0.321269   0.881081  0.959477  1.000000  0.981785  0.374591   \n",
       "aves       0.248008   0.826777  0.925542  0.981785  1.000000  0.232892   \n",
       "leche      0.855575   0.662799  0.332189  0.374591  0.232892  1.000000   \n",
       "vino       0.303761  -0.356468 -0.486281 -0.437235 -0.400157  0.006880   \n",
       "\n",
       "               vino  \n",
       "pan        0.303761  \n",
       "vegetales -0.356468  \n",
       "frutas    -0.486281  \n",
       "carne     -0.437235  \n",
       "aves      -0.400157  \n",
       "leche      0.006880  \n",
       "vino       1.000000  "
      ],
      "text/html": [
       "<div>\n",
       "<style scoped>\n",
       "    .dataframe tbody tr th:only-of-type {\n",
       "        vertical-align: middle;\n",
       "    }\n",
       "\n",
       "    .dataframe tbody tr th {\n",
       "        vertical-align: top;\n",
       "    }\n",
       "\n",
       "    .dataframe thead th {\n",
       "        text-align: right;\n",
       "    }\n",
       "</style>\n",
       "<table border=\"1\" class=\"dataframe\">\n",
       "  <thead>\n",
       "    <tr style=\"text-align: right;\">\n",
       "      <th></th>\n",
       "      <th>pan</th>\n",
       "      <th>vegetales</th>\n",
       "      <th>frutas</th>\n",
       "      <th>carne</th>\n",
       "      <th>aves</th>\n",
       "      <th>leche</th>\n",
       "      <th>vino</th>\n",
       "    </tr>\n",
       "  </thead>\n",
       "  <tbody>\n",
       "    <tr>\n",
       "      <th>pan</th>\n",
       "      <td>1.000000</td>\n",
       "      <td>0.593110</td>\n",
       "      <td>0.196139</td>\n",
       "      <td>0.321269</td>\n",
       "      <td>0.248008</td>\n",
       "      <td>0.855575</td>\n",
       "      <td>0.303761</td>\n",
       "    </tr>\n",
       "    <tr>\n",
       "      <th>vegetales</th>\n",
       "      <td>0.593110</td>\n",
       "      <td>1.000000</td>\n",
       "      <td>0.856250</td>\n",
       "      <td>0.881081</td>\n",
       "      <td>0.826777</td>\n",
       "      <td>0.662799</td>\n",
       "      <td>-0.356468</td>\n",
       "    </tr>\n",
       "    <tr>\n",
       "      <th>frutas</th>\n",
       "      <td>0.196139</td>\n",
       "      <td>0.856250</td>\n",
       "      <td>1.000000</td>\n",
       "      <td>0.959477</td>\n",
       "      <td>0.925542</td>\n",
       "      <td>0.332189</td>\n",
       "      <td>-0.486281</td>\n",
       "    </tr>\n",
       "    <tr>\n",
       "      <th>carne</th>\n",
       "      <td>0.321269</td>\n",
       "      <td>0.881081</td>\n",
       "      <td>0.959477</td>\n",
       "      <td>1.000000</td>\n",
       "      <td>0.981785</td>\n",
       "      <td>0.374591</td>\n",
       "      <td>-0.437235</td>\n",
       "    </tr>\n",
       "    <tr>\n",
       "      <th>aves</th>\n",
       "      <td>0.248008</td>\n",
       "      <td>0.826777</td>\n",
       "      <td>0.925542</td>\n",
       "      <td>0.981785</td>\n",
       "      <td>1.000000</td>\n",
       "      <td>0.232892</td>\n",
       "      <td>-0.400157</td>\n",
       "    </tr>\n",
       "    <tr>\n",
       "      <th>leche</th>\n",
       "      <td>0.855575</td>\n",
       "      <td>0.662799</td>\n",
       "      <td>0.332189</td>\n",
       "      <td>0.374591</td>\n",
       "      <td>0.232892</td>\n",
       "      <td>1.000000</td>\n",
       "      <td>0.006880</td>\n",
       "    </tr>\n",
       "    <tr>\n",
       "      <th>vino</th>\n",
       "      <td>0.303761</td>\n",
       "      <td>-0.356468</td>\n",
       "      <td>-0.486281</td>\n",
       "      <td>-0.437235</td>\n",
       "      <td>-0.400157</td>\n",
       "      <td>0.006880</td>\n",
       "      <td>1.000000</td>\n",
       "    </tr>\n",
       "  </tbody>\n",
       "</table>\n",
       "</div>"
      ]
     },
     "metadata": {},
     "execution_count": 4
    }
   ],
   "metadata": {}
  },
  {
   "cell_type": "markdown",
   "source": [
    "Note que como la media es 0, la covarianza muestral es igual a $\\frac{1}{N-1} X^TX$"
   ],
   "metadata": {}
  },
  {
   "cell_type": "code",
   "execution_count": 5,
   "source": [
    "S = X.T.dot(X)/11\r\n",
    "S"
   ],
   "outputs": [
    {
     "output_type": "execute_result",
     "data": {
      "text/plain": [
       "                pan  vegetales    frutas     carne      aves     leche  \\\n",
       "pan        1.000000   0.593110  0.196139  0.321269  0.248008  0.855575   \n",
       "vegetales  0.593110   1.000000  0.856250  0.881081  0.826777  0.662799   \n",
       "frutas     0.196139   0.856250  1.000000  0.959477  0.925542  0.332189   \n",
       "carne      0.321269   0.881081  0.959477  1.000000  0.981785  0.374591   \n",
       "aves       0.248008   0.826777  0.925542  0.981785  1.000000  0.232892   \n",
       "leche      0.855575   0.662799  0.332189  0.374591  0.232892  1.000000   \n",
       "vino       0.303761  -0.356468 -0.486281 -0.437235 -0.400157  0.006880   \n",
       "\n",
       "               vino  \n",
       "pan        0.303761  \n",
       "vegetales -0.356468  \n",
       "frutas    -0.486281  \n",
       "carne     -0.437235  \n",
       "aves      -0.400157  \n",
       "leche      0.006880  \n",
       "vino       1.000000  "
      ],
      "text/html": [
       "<div>\n",
       "<style scoped>\n",
       "    .dataframe tbody tr th:only-of-type {\n",
       "        vertical-align: middle;\n",
       "    }\n",
       "\n",
       "    .dataframe tbody tr th {\n",
       "        vertical-align: top;\n",
       "    }\n",
       "\n",
       "    .dataframe thead th {\n",
       "        text-align: right;\n",
       "    }\n",
       "</style>\n",
       "<table border=\"1\" class=\"dataframe\">\n",
       "  <thead>\n",
       "    <tr style=\"text-align: right;\">\n",
       "      <th></th>\n",
       "      <th>pan</th>\n",
       "      <th>vegetales</th>\n",
       "      <th>frutas</th>\n",
       "      <th>carne</th>\n",
       "      <th>aves</th>\n",
       "      <th>leche</th>\n",
       "      <th>vino</th>\n",
       "    </tr>\n",
       "  </thead>\n",
       "  <tbody>\n",
       "    <tr>\n",
       "      <th>pan</th>\n",
       "      <td>1.000000</td>\n",
       "      <td>0.593110</td>\n",
       "      <td>0.196139</td>\n",
       "      <td>0.321269</td>\n",
       "      <td>0.248008</td>\n",
       "      <td>0.855575</td>\n",
       "      <td>0.303761</td>\n",
       "    </tr>\n",
       "    <tr>\n",
       "      <th>vegetales</th>\n",
       "      <td>0.593110</td>\n",
       "      <td>1.000000</td>\n",
       "      <td>0.856250</td>\n",
       "      <td>0.881081</td>\n",
       "      <td>0.826777</td>\n",
       "      <td>0.662799</td>\n",
       "      <td>-0.356468</td>\n",
       "    </tr>\n",
       "    <tr>\n",
       "      <th>frutas</th>\n",
       "      <td>0.196139</td>\n",
       "      <td>0.856250</td>\n",
       "      <td>1.000000</td>\n",
       "      <td>0.959477</td>\n",
       "      <td>0.925542</td>\n",
       "      <td>0.332189</td>\n",
       "      <td>-0.486281</td>\n",
       "    </tr>\n",
       "    <tr>\n",
       "      <th>carne</th>\n",
       "      <td>0.321269</td>\n",
       "      <td>0.881081</td>\n",
       "      <td>0.959477</td>\n",
       "      <td>1.000000</td>\n",
       "      <td>0.981785</td>\n",
       "      <td>0.374591</td>\n",
       "      <td>-0.437235</td>\n",
       "    </tr>\n",
       "    <tr>\n",
       "      <th>aves</th>\n",
       "      <td>0.248008</td>\n",
       "      <td>0.826777</td>\n",
       "      <td>0.925542</td>\n",
       "      <td>0.981785</td>\n",
       "      <td>1.000000</td>\n",
       "      <td>0.232892</td>\n",
       "      <td>-0.400157</td>\n",
       "    </tr>\n",
       "    <tr>\n",
       "      <th>leche</th>\n",
       "      <td>0.855575</td>\n",
       "      <td>0.662799</td>\n",
       "      <td>0.332189</td>\n",
       "      <td>0.374591</td>\n",
       "      <td>0.232892</td>\n",
       "      <td>1.000000</td>\n",
       "      <td>0.006880</td>\n",
       "    </tr>\n",
       "    <tr>\n",
       "      <th>vino</th>\n",
       "      <td>0.303761</td>\n",
       "      <td>-0.356468</td>\n",
       "      <td>-0.486281</td>\n",
       "      <td>-0.437235</td>\n",
       "      <td>-0.400157</td>\n",
       "      <td>0.006880</td>\n",
       "      <td>1.000000</td>\n",
       "    </tr>\n",
       "  </tbody>\n",
       "</table>\n",
       "</div>"
      ]
     },
     "metadata": {},
     "execution_count": 5
    }
   ],
   "metadata": {}
  },
  {
   "cell_type": "markdown",
   "source": [
    "Adicionalmente, note que como escalamos dividiendo por la desviación estándar, la matriz varcov es igual a la matriz de correlación. \r\n",
    "\r\n",
    "Por tal motivo en algunos libros la matriz S representa la matriz de correlación. En este caso no sería necesario estandarizar los datos pues la correlación de pearson es invariante a la escala de los datos."
   ],
   "metadata": {}
  },
  {
   "cell_type": "code",
   "execution_count": 6,
   "source": [
    "S = X.corr()\r\n",
    "S"
   ],
   "outputs": [
    {
     "output_type": "execute_result",
     "data": {
      "text/plain": [
       "                pan  vegetales    frutas     carne      aves     leche  \\\n",
       "pan        1.000000   0.593110  0.196139  0.321269  0.248008  0.855575   \n",
       "vegetales  0.593110   1.000000  0.856250  0.881081  0.826777  0.662799   \n",
       "frutas     0.196139   0.856250  1.000000  0.959477  0.925542  0.332189   \n",
       "carne      0.321269   0.881081  0.959477  1.000000  0.981785  0.374591   \n",
       "aves       0.248008   0.826777  0.925542  0.981785  1.000000  0.232892   \n",
       "leche      0.855575   0.662799  0.332189  0.374591  0.232892  1.000000   \n",
       "vino       0.303761  -0.356468 -0.486281 -0.437235 -0.400157  0.006880   \n",
       "\n",
       "               vino  \n",
       "pan        0.303761  \n",
       "vegetales -0.356468  \n",
       "frutas    -0.486281  \n",
       "carne     -0.437235  \n",
       "aves      -0.400157  \n",
       "leche      0.006880  \n",
       "vino       1.000000  "
      ],
      "text/html": [
       "<div>\n",
       "<style scoped>\n",
       "    .dataframe tbody tr th:only-of-type {\n",
       "        vertical-align: middle;\n",
       "    }\n",
       "\n",
       "    .dataframe tbody tr th {\n",
       "        vertical-align: top;\n",
       "    }\n",
       "\n",
       "    .dataframe thead th {\n",
       "        text-align: right;\n",
       "    }\n",
       "</style>\n",
       "<table border=\"1\" class=\"dataframe\">\n",
       "  <thead>\n",
       "    <tr style=\"text-align: right;\">\n",
       "      <th></th>\n",
       "      <th>pan</th>\n",
       "      <th>vegetales</th>\n",
       "      <th>frutas</th>\n",
       "      <th>carne</th>\n",
       "      <th>aves</th>\n",
       "      <th>leche</th>\n",
       "      <th>vino</th>\n",
       "    </tr>\n",
       "  </thead>\n",
       "  <tbody>\n",
       "    <tr>\n",
       "      <th>pan</th>\n",
       "      <td>1.000000</td>\n",
       "      <td>0.593110</td>\n",
       "      <td>0.196139</td>\n",
       "      <td>0.321269</td>\n",
       "      <td>0.248008</td>\n",
       "      <td>0.855575</td>\n",
       "      <td>0.303761</td>\n",
       "    </tr>\n",
       "    <tr>\n",
       "      <th>vegetales</th>\n",
       "      <td>0.593110</td>\n",
       "      <td>1.000000</td>\n",
       "      <td>0.856250</td>\n",
       "      <td>0.881081</td>\n",
       "      <td>0.826777</td>\n",
       "      <td>0.662799</td>\n",
       "      <td>-0.356468</td>\n",
       "    </tr>\n",
       "    <tr>\n",
       "      <th>frutas</th>\n",
       "      <td>0.196139</td>\n",
       "      <td>0.856250</td>\n",
       "      <td>1.000000</td>\n",
       "      <td>0.959477</td>\n",
       "      <td>0.925542</td>\n",
       "      <td>0.332189</td>\n",
       "      <td>-0.486281</td>\n",
       "    </tr>\n",
       "    <tr>\n",
       "      <th>carne</th>\n",
       "      <td>0.321269</td>\n",
       "      <td>0.881081</td>\n",
       "      <td>0.959477</td>\n",
       "      <td>1.000000</td>\n",
       "      <td>0.981785</td>\n",
       "      <td>0.374591</td>\n",
       "      <td>-0.437235</td>\n",
       "    </tr>\n",
       "    <tr>\n",
       "      <th>aves</th>\n",
       "      <td>0.248008</td>\n",
       "      <td>0.826777</td>\n",
       "      <td>0.925542</td>\n",
       "      <td>0.981785</td>\n",
       "      <td>1.000000</td>\n",
       "      <td>0.232892</td>\n",
       "      <td>-0.400157</td>\n",
       "    </tr>\n",
       "    <tr>\n",
       "      <th>leche</th>\n",
       "      <td>0.855575</td>\n",
       "      <td>0.662799</td>\n",
       "      <td>0.332189</td>\n",
       "      <td>0.374591</td>\n",
       "      <td>0.232892</td>\n",
       "      <td>1.000000</td>\n",
       "      <td>0.006880</td>\n",
       "    </tr>\n",
       "    <tr>\n",
       "      <th>vino</th>\n",
       "      <td>0.303761</td>\n",
       "      <td>-0.356468</td>\n",
       "      <td>-0.486281</td>\n",
       "      <td>-0.437235</td>\n",
       "      <td>-0.400157</td>\n",
       "      <td>0.006880</td>\n",
       "      <td>1.000000</td>\n",
       "    </tr>\n",
       "  </tbody>\n",
       "</table>\n",
       "</div>"
      ]
     },
     "metadata": {},
     "execution_count": 6
    }
   ],
   "metadata": {}
  },
  {
   "cell_type": "code",
   "execution_count": 7,
   "source": [
    "# Visualizamos la correlación entre productos\r\n",
    "import seaborn as sns\r\n",
    "import matplotlib.pyplot as plt\r\n",
    "sns.set(rc = {\"figure.dpi\": 300})\r\n",
    "\r\n",
    "sns.heatmap(S, annot = True)"
   ],
   "outputs": [
    {
     "output_type": "execute_result",
     "data": {
      "text/plain": [
       "<AxesSubplot:>"
      ]
     },
     "metadata": {},
     "execution_count": 7
    },
    {
     "output_type": "display_data",
     "data": {
      "text/plain": [
       "<Figure size 1800x1200 with 2 Axes>"
      ],
      "image/svg+xml": "<?xml version=\"1.0\" encoding=\"utf-8\" standalone=\"no\"?>\r\n<!DOCTYPE svg PUBLIC \"-//W3C//DTD SVG 1.1//EN\"\r\n  \"http://www.w3.org/Graphics/SVG/1.1/DTD/svg11.dtd\">\r\n<!-- Created with matplotlib (https://matplotlib.org/) -->\r\n<svg height=\"255.465547pt\" version=\"1.1\" viewBox=\"0 0 397.651844 255.465547\" width=\"397.651844pt\" xmlns=\"http://www.w3.org/2000/svg\" xmlns:xlink=\"http://www.w3.org/1999/xlink\">\r\n <metadata>\r\n  <rdf:RDF xmlns:cc=\"http://creativecommons.org/ns#\" xmlns:dc=\"http://purl.org/dc/elements/1.1/\" xmlns:rdf=\"http://www.w3.org/1999/02/22-rdf-syntax-ns#\">\r\n   <cc:Work>\r\n    <dc:type rdf:resource=\"http://purl.org/dc/dcmitype/StillImage\"/>\r\n    <dc:date>2021-08-23T19:38:51.624856</dc:date>\r\n    <dc:format>image/svg+xml</dc:format>\r\n    <dc:creator>\r\n     <cc:Agent>\r\n      <dc:title>Matplotlib v3.3.2, https://matplotlib.org/</dc:title>\r\n     </cc:Agent>\r\n    </dc:creator>\r\n   </cc:Work>\r\n  </rdf:RDF>\r\n </metadata>\r\n <defs>\r\n  <style type=\"text/css\">*{stroke-linecap:butt;stroke-linejoin:round;}</style>\r\n </defs>\r\n <g id=\"figure_1\">\r\n  <g id=\"patch_1\">\r\n   <path d=\"M 0 255.465547 \r\nL 397.651844 255.465547 \r\nL 397.651844 0 \r\nL 0 0 \r\nz\r\n\" style=\"fill:#ffffff;\"/>\r\n  </g>\r\n  <g id=\"axes_1\">\r\n   <g id=\"patch_2\">\r\n    <path d=\"M 63.785156 228.576797 \r\nL 331.625156 228.576797 \r\nL 331.625156 11.136797 \r\nL 63.785156 11.136797 \r\nz\r\n\" style=\"fill:#eaeaf2;\"/>\r\n   </g>\r\n   <g id=\"matplotlib.axis_1\">\r\n    <g id=\"xtick_1\">\r\n     <g id=\"text_1\">\r\n      <!-- pan -->\r\n      <g style=\"fill:#262626;\" transform=\"translate(73.741038 245.950391)scale(0.11 -0.11)\">\r\n       <defs>\r\n        <path d=\"M 6.59375 -19.875 \r\nL 6.59375 51.859375 \r\nL 14.59375 51.859375 \r\nL 14.59375 45.125 \r\nQ 17.4375 49.078125 21 51.046875 \r\nQ 24.5625 53.03125 29.640625 53.03125 \r\nQ 36.28125 53.03125 41.359375 49.609375 \r\nQ 46.4375 46.1875 49.015625 39.953125 \r\nQ 51.609375 33.734375 51.609375 26.3125 \r\nQ 51.609375 18.359375 48.75 11.984375 \r\nQ 45.90625 5.609375 40.453125 2.21875 \r\nQ 35.015625 -1.171875 29 -1.171875 \r\nQ 24.609375 -1.171875 21.109375 0.6875 \r\nQ 17.625 2.546875 15.375 5.375 \r\nL 15.375 -19.875 \r\nz\r\nM 14.546875 25.640625 \r\nQ 14.546875 15.625 18.59375 10.84375 \r\nQ 22.65625 6.0625 28.421875 6.0625 \r\nQ 34.28125 6.0625 38.453125 11.015625 \r\nQ 42.625 15.96875 42.625 26.375 \r\nQ 42.625 36.28125 38.546875 41.203125 \r\nQ 34.46875 46.140625 28.8125 46.140625 \r\nQ 23.1875 46.140625 18.859375 40.890625 \r\nQ 14.546875 35.640625 14.546875 25.640625 \r\nz\r\n\" id=\"ArialMT-112\"/>\r\n        <path d=\"M 40.4375 6.390625 \r\nQ 35.546875 2.25 31.03125 0.53125 \r\nQ 26.515625 -1.171875 21.34375 -1.171875 \r\nQ 12.796875 -1.171875 8.203125 3 \r\nQ 3.609375 7.171875 3.609375 13.671875 \r\nQ 3.609375 17.484375 5.34375 20.625 \r\nQ 7.078125 23.78125 9.890625 25.6875 \r\nQ 12.703125 27.59375 16.21875 28.5625 \r\nQ 18.796875 29.25 24.03125 29.890625 \r\nQ 34.671875 31.15625 39.703125 32.90625 \r\nQ 39.75 34.71875 39.75 35.203125 \r\nQ 39.75 40.578125 37.25 42.78125 \r\nQ 33.890625 45.75 27.25 45.75 \r\nQ 21.046875 45.75 18.09375 43.578125 \r\nQ 15.140625 41.40625 13.71875 35.890625 \r\nL 5.125 37.0625 \r\nQ 6.296875 42.578125 8.984375 45.96875 \r\nQ 11.671875 49.359375 16.75 51.1875 \r\nQ 21.828125 53.03125 28.515625 53.03125 \r\nQ 35.15625 53.03125 39.296875 51.46875 \r\nQ 43.453125 49.90625 45.40625 47.53125 \r\nQ 47.359375 45.171875 48.140625 41.546875 \r\nQ 48.578125 39.3125 48.578125 33.453125 \r\nL 48.578125 21.734375 \r\nQ 48.578125 9.46875 49.140625 6.21875 \r\nQ 49.703125 2.984375 51.375 0 \r\nL 42.1875 0 \r\nQ 40.828125 2.734375 40.4375 6.390625 \r\nz\r\nM 39.703125 26.03125 \r\nQ 34.90625 24.078125 25.34375 22.703125 \r\nQ 19.921875 21.921875 17.671875 20.9375 \r\nQ 15.4375 19.96875 14.203125 18.09375 \r\nQ 12.984375 16.21875 12.984375 13.921875 \r\nQ 12.984375 10.40625 15.640625 8.0625 \r\nQ 18.3125 5.71875 23.4375 5.71875 \r\nQ 28.515625 5.71875 32.46875 7.9375 \r\nQ 36.421875 10.15625 38.28125 14.015625 \r\nQ 39.703125 17 39.703125 22.796875 \r\nz\r\n\" id=\"ArialMT-97\"/>\r\n        <path d=\"M 6.59375 0 \r\nL 6.59375 51.859375 \r\nL 14.5 51.859375 \r\nL 14.5 44.484375 \r\nQ 20.21875 53.03125 31 53.03125 \r\nQ 35.6875 53.03125 39.625 51.34375 \r\nQ 43.5625 49.65625 45.515625 46.921875 \r\nQ 47.46875 44.1875 48.25 40.4375 \r\nQ 48.734375 37.984375 48.734375 31.890625 \r\nL 48.734375 0 \r\nL 39.9375 0 \r\nL 39.9375 31.546875 \r\nQ 39.9375 36.921875 38.90625 39.578125 \r\nQ 37.890625 42.234375 35.28125 43.8125 \r\nQ 32.671875 45.40625 29.15625 45.40625 \r\nQ 23.53125 45.40625 19.453125 41.84375 \r\nQ 15.375 38.28125 15.375 28.328125 \r\nL 15.375 0 \r\nz\r\n\" id=\"ArialMT-110\"/>\r\n       </defs>\r\n       <use xlink:href=\"#ArialMT-112\"/>\r\n       <use x=\"55.615234\" xlink:href=\"#ArialMT-97\"/>\r\n       <use x=\"111.230469\" xlink:href=\"#ArialMT-110\"/>\r\n      </g>\r\n     </g>\r\n    </g>\r\n    <g id=\"xtick_2\">\r\n     <g id=\"text_2\">\r\n      <!-- vegetales -->\r\n      <g style=\"fill:#262626;\" transform=\"translate(97.636864 245.950391)scale(0.11 -0.11)\">\r\n       <defs>\r\n        <path d=\"M 21 0 \r\nL 1.265625 51.859375 \r\nL 10.546875 51.859375 \r\nL 21.6875 20.796875 \r\nQ 23.484375 15.765625 25 10.359375 \r\nQ 26.171875 14.453125 28.265625 20.21875 \r\nL 39.796875 51.859375 \r\nL 48.828125 51.859375 \r\nL 29.203125 0 \r\nz\r\n\" id=\"ArialMT-118\"/>\r\n        <path d=\"M 42.09375 16.703125 \r\nL 51.171875 15.578125 \r\nQ 49.03125 7.625 43.21875 3.21875 \r\nQ 37.40625 -1.171875 28.375 -1.171875 \r\nQ 17 -1.171875 10.328125 5.828125 \r\nQ 3.65625 12.84375 3.65625 25.484375 \r\nQ 3.65625 38.578125 10.390625 45.796875 \r\nQ 17.140625 53.03125 27.875 53.03125 \r\nQ 38.28125 53.03125 44.875 45.953125 \r\nQ 51.46875 38.875 51.46875 26.03125 \r\nQ 51.46875 25.25 51.421875 23.6875 \r\nL 12.75 23.6875 \r\nQ 13.234375 15.140625 17.578125 10.59375 \r\nQ 21.921875 6.0625 28.421875 6.0625 \r\nQ 33.25 6.0625 36.671875 8.59375 \r\nQ 40.09375 11.140625 42.09375 16.703125 \r\nz\r\nM 13.234375 30.90625 \r\nL 42.1875 30.90625 \r\nQ 41.609375 37.453125 38.875 40.71875 \r\nQ 34.671875 45.796875 27.984375 45.796875 \r\nQ 21.921875 45.796875 17.796875 41.75 \r\nQ 13.671875 37.703125 13.234375 30.90625 \r\nz\r\n\" id=\"ArialMT-101\"/>\r\n        <path d=\"M 4.984375 -4.296875 \r\nL 13.53125 -5.5625 \r\nQ 14.0625 -9.515625 16.5 -11.328125 \r\nQ 19.78125 -13.765625 25.4375 -13.765625 \r\nQ 31.546875 -13.765625 34.859375 -11.328125 \r\nQ 38.1875 -8.890625 39.359375 -4.5 \r\nQ 40.046875 -1.8125 39.984375 6.78125 \r\nQ 34.234375 0 25.640625 0 \r\nQ 14.9375 0 9.078125 7.71875 \r\nQ 3.21875 15.4375 3.21875 26.21875 \r\nQ 3.21875 33.640625 5.90625 39.90625 \r\nQ 8.59375 46.1875 13.6875 49.609375 \r\nQ 18.796875 53.03125 25.6875 53.03125 \r\nQ 34.859375 53.03125 40.828125 45.609375 \r\nL 40.828125 51.859375 \r\nL 48.921875 51.859375 \r\nL 48.921875 7.03125 \r\nQ 48.921875 -5.078125 46.453125 -10.125 \r\nQ 44 -15.1875 38.640625 -18.109375 \r\nQ 33.296875 -21.046875 25.484375 -21.046875 \r\nQ 16.21875 -21.046875 10.5 -16.875 \r\nQ 4.78125 -12.703125 4.984375 -4.296875 \r\nz\r\nM 12.25 26.859375 \r\nQ 12.25 16.65625 16.296875 11.96875 \r\nQ 20.359375 7.28125 26.46875 7.28125 \r\nQ 32.515625 7.28125 36.609375 11.9375 \r\nQ 40.71875 16.609375 40.71875 26.5625 \r\nQ 40.71875 36.078125 36.5 40.90625 \r\nQ 32.28125 45.75 26.3125 45.75 \r\nQ 20.453125 45.75 16.34375 40.984375 \r\nQ 12.25 36.234375 12.25 26.859375 \r\nz\r\n\" id=\"ArialMT-103\"/>\r\n        <path d=\"M 25.78125 7.859375 \r\nL 27.046875 0.09375 \r\nQ 23.34375 -0.6875 20.40625 -0.6875 \r\nQ 15.625 -0.6875 12.984375 0.828125 \r\nQ 10.359375 2.34375 9.28125 4.8125 \r\nQ 8.203125 7.28125 8.203125 15.1875 \r\nL 8.203125 45.015625 \r\nL 1.765625 45.015625 \r\nL 1.765625 51.859375 \r\nL 8.203125 51.859375 \r\nL 8.203125 64.703125 \r\nL 16.9375 69.96875 \r\nL 16.9375 51.859375 \r\nL 25.78125 51.859375 \r\nL 25.78125 45.015625 \r\nL 16.9375 45.015625 \r\nL 16.9375 14.703125 \r\nQ 16.9375 10.9375 17.40625 9.859375 \r\nQ 17.875 8.796875 18.921875 8.15625 \r\nQ 19.96875 7.515625 21.921875 7.515625 \r\nQ 23.390625 7.515625 25.78125 7.859375 \r\nz\r\n\" id=\"ArialMT-116\"/>\r\n        <path d=\"M 6.390625 0 \r\nL 6.390625 71.578125 \r\nL 15.1875 71.578125 \r\nL 15.1875 0 \r\nz\r\n\" id=\"ArialMT-108\"/>\r\n        <path d=\"M 3.078125 15.484375 \r\nL 11.765625 16.84375 \r\nQ 12.5 11.625 15.84375 8.84375 \r\nQ 19.1875 6.0625 25.203125 6.0625 \r\nQ 31.25 6.0625 34.171875 8.515625 \r\nQ 37.109375 10.984375 37.109375 14.3125 \r\nQ 37.109375 17.28125 34.515625 19 \r\nQ 32.71875 20.171875 25.53125 21.96875 \r\nQ 15.875 24.421875 12.140625 26.203125 \r\nQ 8.40625 27.984375 6.46875 31.125 \r\nQ 4.546875 34.28125 4.546875 38.09375 \r\nQ 4.546875 41.546875 6.125 44.5 \r\nQ 7.71875 47.46875 10.453125 49.421875 \r\nQ 12.5 50.921875 16.03125 51.96875 \r\nQ 19.578125 53.03125 23.640625 53.03125 \r\nQ 29.734375 53.03125 34.34375 51.265625 \r\nQ 38.96875 49.515625 41.15625 46.5 \r\nQ 43.359375 43.5 44.1875 38.484375 \r\nL 35.59375 37.3125 \r\nQ 35.015625 41.3125 32.203125 43.546875 \r\nQ 29.390625 45.796875 24.265625 45.796875 \r\nQ 18.21875 45.796875 15.625 43.796875 \r\nQ 13.03125 41.796875 13.03125 39.109375 \r\nQ 13.03125 37.40625 14.109375 36.03125 \r\nQ 15.1875 34.625 17.484375 33.6875 \r\nQ 18.796875 33.203125 25.25 31.453125 \r\nQ 34.578125 28.953125 38.25 27.359375 \r\nQ 41.9375 25.78125 44.03125 22.75 \r\nQ 46.140625 19.734375 46.140625 15.234375 \r\nQ 46.140625 10.84375 43.578125 6.953125 \r\nQ 41.015625 3.078125 36.171875 0.953125 \r\nQ 31.34375 -1.171875 25.25 -1.171875 \r\nQ 15.140625 -1.171875 9.84375 3.03125 \r\nQ 4.546875 7.234375 3.078125 15.484375 \r\nz\r\n\" id=\"ArialMT-115\"/>\r\n       </defs>\r\n       <use xlink:href=\"#ArialMT-118\"/>\r\n       <use x=\"50\" xlink:href=\"#ArialMT-101\"/>\r\n       <use x=\"105.615234\" xlink:href=\"#ArialMT-103\"/>\r\n       <use x=\"161.230469\" xlink:href=\"#ArialMT-101\"/>\r\n       <use x=\"216.845703\" xlink:href=\"#ArialMT-116\"/>\r\n       <use x=\"244.628906\" xlink:href=\"#ArialMT-97\"/>\r\n       <use x=\"300.244141\" xlink:href=\"#ArialMT-108\"/>\r\n       <use x=\"322.460938\" xlink:href=\"#ArialMT-101\"/>\r\n       <use x=\"378.076172\" xlink:href=\"#ArialMT-115\"/>\r\n      </g>\r\n     </g>\r\n    </g>\r\n    <g id=\"xtick_3\">\r\n     <g id=\"text_3\">\r\n      <!-- frutas -->\r\n      <g style=\"fill:#262626;\" transform=\"translate(145.688002 245.950391)scale(0.11 -0.11)\">\r\n       <defs>\r\n        <path d=\"M 8.6875 0 \r\nL 8.6875 45.015625 \r\nL 0.921875 45.015625 \r\nL 0.921875 51.859375 \r\nL 8.6875 51.859375 \r\nL 8.6875 57.375 \r\nQ 8.6875 62.59375 9.625 65.140625 \r\nQ 10.890625 68.5625 14.078125 70.671875 \r\nQ 17.28125 72.796875 23.046875 72.796875 \r\nQ 26.765625 72.796875 31.25 71.921875 \r\nL 29.9375 64.265625 \r\nQ 27.203125 64.75 24.75 64.75 \r\nQ 20.75 64.75 19.09375 63.03125 \r\nQ 17.4375 61.328125 17.4375 56.640625 \r\nL 17.4375 51.859375 \r\nL 27.546875 51.859375 \r\nL 27.546875 45.015625 \r\nL 17.4375 45.015625 \r\nL 17.4375 0 \r\nz\r\n\" id=\"ArialMT-102\"/>\r\n        <path d=\"M 6.5 0 \r\nL 6.5 51.859375 \r\nL 14.40625 51.859375 \r\nL 14.40625 44 \r\nQ 17.4375 49.515625 20 51.265625 \r\nQ 22.5625 53.03125 25.640625 53.03125 \r\nQ 30.078125 53.03125 34.671875 50.203125 \r\nL 31.640625 42.046875 \r\nQ 28.421875 43.953125 25.203125 43.953125 \r\nQ 22.3125 43.953125 20.015625 42.21875 \r\nQ 17.71875 40.484375 16.75 37.40625 \r\nQ 15.28125 32.71875 15.28125 27.15625 \r\nL 15.28125 0 \r\nz\r\n\" id=\"ArialMT-114\"/>\r\n        <path d=\"M 40.578125 0 \r\nL 40.578125 7.625 \r\nQ 34.515625 -1.171875 24.125 -1.171875 \r\nQ 19.53125 -1.171875 15.546875 0.578125 \r\nQ 11.578125 2.34375 9.640625 5 \r\nQ 7.71875 7.671875 6.9375 11.53125 \r\nQ 6.390625 14.109375 6.390625 19.734375 \r\nL 6.390625 51.859375 \r\nL 15.1875 51.859375 \r\nL 15.1875 23.09375 \r\nQ 15.1875 16.21875 15.71875 13.8125 \r\nQ 16.546875 10.359375 19.234375 8.375 \r\nQ 21.921875 6.390625 25.875 6.390625 \r\nQ 29.828125 6.390625 33.296875 8.421875 \r\nQ 36.765625 10.453125 38.203125 13.9375 \r\nQ 39.65625 17.4375 39.65625 24.078125 \r\nL 39.65625 51.859375 \r\nL 48.4375 51.859375 \r\nL 48.4375 0 \r\nz\r\n\" id=\"ArialMT-117\"/>\r\n       </defs>\r\n       <use xlink:href=\"#ArialMT-102\"/>\r\n       <use x=\"27.783203\" xlink:href=\"#ArialMT-114\"/>\r\n       <use x=\"61.083984\" xlink:href=\"#ArialMT-117\"/>\r\n       <use x=\"116.699219\" xlink:href=\"#ArialMT-116\"/>\r\n       <use x=\"144.482422\" xlink:href=\"#ArialMT-97\"/>\r\n       <use x=\"200.097656\" xlink:href=\"#ArialMT-115\"/>\r\n      </g>\r\n     </g>\r\n    </g>\r\n    <g id=\"xtick_4\">\r\n     <g id=\"text_4\">\r\n      <!-- carne -->\r\n      <g style=\"fill:#262626;\" transform=\"translate(183.948281 245.950391)scale(0.11 -0.11)\">\r\n       <defs>\r\n        <path d=\"M 40.4375 19 \r\nL 49.078125 17.875 \r\nQ 47.65625 8.9375 41.8125 3.875 \r\nQ 35.984375 -1.171875 27.484375 -1.171875 \r\nQ 16.84375 -1.171875 10.375 5.78125 \r\nQ 3.90625 12.75 3.90625 25.734375 \r\nQ 3.90625 34.125 6.6875 40.421875 \r\nQ 9.46875 46.734375 15.15625 49.875 \r\nQ 20.84375 53.03125 27.546875 53.03125 \r\nQ 35.984375 53.03125 41.359375 48.75 \r\nQ 46.734375 44.484375 48.25 36.625 \r\nL 39.703125 35.296875 \r\nQ 38.484375 40.53125 35.375 43.15625 \r\nQ 32.28125 45.796875 27.875 45.796875 \r\nQ 21.234375 45.796875 17.078125 41.03125 \r\nQ 12.9375 36.28125 12.9375 25.984375 \r\nQ 12.9375 15.53125 16.9375 10.796875 \r\nQ 20.953125 6.0625 27.390625 6.0625 \r\nQ 32.5625 6.0625 36.03125 9.234375 \r\nQ 39.5 12.40625 40.4375 19 \r\nz\r\n\" id=\"ArialMT-99\"/>\r\n       </defs>\r\n       <use xlink:href=\"#ArialMT-99\"/>\r\n       <use x=\"50\" xlink:href=\"#ArialMT-97\"/>\r\n       <use x=\"105.615234\" xlink:href=\"#ArialMT-114\"/>\r\n       <use x=\"138.916016\" xlink:href=\"#ArialMT-110\"/>\r\n       <use x=\"194.53125\" xlink:href=\"#ArialMT-101\"/>\r\n      </g>\r\n     </g>\r\n    </g>\r\n    <g id=\"xtick_5\">\r\n     <g id=\"text_5\">\r\n      <!-- aves -->\r\n      <g style=\"fill:#262626;\" transform=\"translate(224.350982 245.950391)scale(0.11 -0.11)\">\r\n       <use xlink:href=\"#ArialMT-97\"/>\r\n       <use x=\"55.615234\" xlink:href=\"#ArialMT-118\"/>\r\n       <use x=\"105.615234\" xlink:href=\"#ArialMT-101\"/>\r\n       <use x=\"161.230469\" xlink:href=\"#ArialMT-115\"/>\r\n      </g>\r\n     </g>\r\n    </g>\r\n    <g id=\"xtick_6\">\r\n     <g id=\"text_6\">\r\n      <!-- leche -->\r\n      <g style=\"fill:#262626;\" transform=\"translate(261.083292 245.950391)scale(0.11 -0.11)\">\r\n       <defs>\r\n        <path d=\"M 6.59375 0 \r\nL 6.59375 71.578125 \r\nL 15.375 71.578125 \r\nL 15.375 45.90625 \r\nQ 21.53125 53.03125 30.90625 53.03125 \r\nQ 36.671875 53.03125 40.921875 50.75 \r\nQ 45.171875 48.484375 47 44.484375 \r\nQ 48.828125 40.484375 48.828125 32.859375 \r\nL 48.828125 0 \r\nL 40.046875 0 \r\nL 40.046875 32.859375 \r\nQ 40.046875 39.453125 37.1875 42.453125 \r\nQ 34.328125 45.453125 29.109375 45.453125 \r\nQ 25.203125 45.453125 21.75 43.421875 \r\nQ 18.3125 41.40625 16.84375 37.9375 \r\nQ 15.375 34.46875 15.375 28.375 \r\nL 15.375 0 \r\nz\r\n\" id=\"ArialMT-104\"/>\r\n       </defs>\r\n       <use xlink:href=\"#ArialMT-108\"/>\r\n       <use x=\"22.216797\" xlink:href=\"#ArialMT-101\"/>\r\n       <use x=\"77.832031\" xlink:href=\"#ArialMT-99\"/>\r\n       <use x=\"127.832031\" xlink:href=\"#ArialMT-104\"/>\r\n       <use x=\"183.447266\" xlink:href=\"#ArialMT-101\"/>\r\n      </g>\r\n     </g>\r\n    </g>\r\n    <g id=\"xtick_7\">\r\n     <g id=\"text_7\">\r\n      <!-- vino -->\r\n      <g style=\"fill:#262626;\" transform=\"translate(302.404665 245.950391)scale(0.11 -0.11)\">\r\n       <defs>\r\n        <path d=\"M 6.640625 61.46875 \r\nL 6.640625 71.578125 \r\nL 15.4375 71.578125 \r\nL 15.4375 61.46875 \r\nz\r\nM 6.640625 0 \r\nL 6.640625 51.859375 \r\nL 15.4375 51.859375 \r\nL 15.4375 0 \r\nz\r\n\" id=\"ArialMT-105\"/>\r\n        <path d=\"M 3.328125 25.921875 \r\nQ 3.328125 40.328125 11.328125 47.265625 \r\nQ 18.015625 53.03125 27.640625 53.03125 \r\nQ 38.328125 53.03125 45.109375 46.015625 \r\nQ 51.90625 39.015625 51.90625 26.65625 \r\nQ 51.90625 16.65625 48.90625 10.90625 \r\nQ 45.90625 5.171875 40.15625 2 \r\nQ 34.421875 -1.171875 27.640625 -1.171875 \r\nQ 16.75 -1.171875 10.03125 5.8125 \r\nQ 3.328125 12.796875 3.328125 25.921875 \r\nz\r\nM 12.359375 25.921875 \r\nQ 12.359375 15.96875 16.703125 11.015625 \r\nQ 21.046875 6.0625 27.640625 6.0625 \r\nQ 34.1875 6.0625 38.53125 11.03125 \r\nQ 42.875 16.015625 42.875 26.21875 \r\nQ 42.875 35.84375 38.5 40.796875 \r\nQ 34.125 45.75 27.640625 45.75 \r\nQ 21.046875 45.75 16.703125 40.8125 \r\nQ 12.359375 35.890625 12.359375 25.921875 \r\nz\r\n\" id=\"ArialMT-111\"/>\r\n       </defs>\r\n       <use xlink:href=\"#ArialMT-118\"/>\r\n       <use x=\"50\" xlink:href=\"#ArialMT-105\"/>\r\n       <use x=\"72.216797\" xlink:href=\"#ArialMT-110\"/>\r\n       <use x=\"127.832031\" xlink:href=\"#ArialMT-111\"/>\r\n      </g>\r\n     </g>\r\n    </g>\r\n   </g>\r\n   <g id=\"matplotlib.axis_2\">\r\n    <g id=\"ytick_1\">\r\n     <g id=\"text_8\">\r\n      <!-- pan -->\r\n      <g style=\"fill:#262626;\" transform=\"translate(35.934062 30.605022)scale(0.11 -0.11)\">\r\n       <use xlink:href=\"#ArialMT-112\"/>\r\n       <use x=\"55.615234\" xlink:href=\"#ArialMT-97\"/>\r\n       <use x=\"111.230469\" xlink:href=\"#ArialMT-110\"/>\r\n      </g>\r\n     </g>\r\n    </g>\r\n    <g id=\"ytick_2\">\r\n     <g id=\"text_9\">\r\n      <!-- vegetales -->\r\n      <g style=\"fill:#262626;\" transform=\"translate(7.2 61.667879)scale(0.11 -0.11)\">\r\n       <use xlink:href=\"#ArialMT-118\"/>\r\n       <use x=\"50\" xlink:href=\"#ArialMT-101\"/>\r\n       <use x=\"105.615234\" xlink:href=\"#ArialMT-103\"/>\r\n       <use x=\"161.230469\" xlink:href=\"#ArialMT-101\"/>\r\n       <use x=\"216.845703\" xlink:href=\"#ArialMT-116\"/>\r\n       <use x=\"244.628906\" xlink:href=\"#ArialMT-97\"/>\r\n       <use x=\"300.244141\" xlink:href=\"#ArialMT-108\"/>\r\n       <use x=\"322.460938\" xlink:href=\"#ArialMT-101\"/>\r\n       <use x=\"378.076172\" xlink:href=\"#ArialMT-115\"/>\r\n      </g>\r\n     </g>\r\n    </g>\r\n    <g id=\"ytick_3\">\r\n     <g id=\"text_10\">\r\n      <!-- frutas -->\r\n      <g style=\"fill:#262626;\" transform=\"translate(26.776563 92.730737)scale(0.11 -0.11)\">\r\n       <use xlink:href=\"#ArialMT-102\"/>\r\n       <use x=\"27.783203\" xlink:href=\"#ArialMT-114\"/>\r\n       <use x=\"61.083984\" xlink:href=\"#ArialMT-117\"/>\r\n       <use x=\"116.699219\" xlink:href=\"#ArialMT-116\"/>\r\n       <use x=\"144.482422\" xlink:href=\"#ArialMT-97\"/>\r\n       <use x=\"200.097656\" xlink:href=\"#ArialMT-115\"/>\r\n      </g>\r\n     </g>\r\n    </g>\r\n    <g id=\"ytick_4\">\r\n     <g id=\"text_11\">\r\n      <!-- carne -->\r\n      <g style=\"fill:#262626;\" transform=\"translate(26.771406 123.793594)scale(0.11 -0.11)\">\r\n       <use xlink:href=\"#ArialMT-99\"/>\r\n       <use x=\"50\" xlink:href=\"#ArialMT-97\"/>\r\n       <use x=\"105.615234\" xlink:href=\"#ArialMT-114\"/>\r\n       <use x=\"138.916016\" xlink:href=\"#ArialMT-110\"/>\r\n       <use x=\"194.53125\" xlink:href=\"#ArialMT-101\"/>\r\n      </g>\r\n     </g>\r\n    </g>\r\n    <g id=\"ytick_5\">\r\n     <g id=\"text_12\">\r\n      <!-- aves -->\r\n      <g style=\"fill:#262626;\" transform=\"translate(31.051094 154.856451)scale(0.11 -0.11)\">\r\n       <use xlink:href=\"#ArialMT-97\"/>\r\n       <use x=\"55.615234\" xlink:href=\"#ArialMT-118\"/>\r\n       <use x=\"105.615234\" xlink:href=\"#ArialMT-101\"/>\r\n       <use x=\"161.230469\" xlink:href=\"#ArialMT-115\"/>\r\n      </g>\r\n     </g>\r\n    </g>\r\n    <g id=\"ytick_6\">\r\n     <g id=\"text_13\">\r\n      <!-- leche -->\r\n      <g style=\"fill:#262626;\" transform=\"translate(27.99 185.919308)scale(0.11 -0.11)\">\r\n       <use xlink:href=\"#ArialMT-108\"/>\r\n       <use x=\"22.216797\" xlink:href=\"#ArialMT-101\"/>\r\n       <use x=\"77.832031\" xlink:href=\"#ArialMT-99\"/>\r\n       <use x=\"127.832031\" xlink:href=\"#ArialMT-104\"/>\r\n       <use x=\"183.447266\" xlink:href=\"#ArialMT-101\"/>\r\n      </g>\r\n     </g>\r\n    </g>\r\n    <g id=\"ytick_7\">\r\n     <g id=\"text_14\">\r\n      <!-- vino -->\r\n      <g style=\"fill:#262626;\" transform=\"translate(34.107031 216.982165)scale(0.11 -0.11)\">\r\n       <use xlink:href=\"#ArialMT-118\"/>\r\n       <use x=\"50\" xlink:href=\"#ArialMT-105\"/>\r\n       <use x=\"72.216797\" xlink:href=\"#ArialMT-110\"/>\r\n       <use x=\"127.832031\" xlink:href=\"#ArialMT-111\"/>\r\n      </g>\r\n     </g>\r\n    </g>\r\n   </g>\r\n   <g id=\"QuadMesh_1\">\r\n    <path clip-path=\"url(#p194b2752ea)\" d=\"M 63.785156 11.136797 \r\nL 102.048013 11.136797 \r\nL 102.048013 42.199654 \r\nL 63.785156 42.199654 \r\nL 63.785156 11.136797 \r\n\" style=\"fill:#faebdd;\"/>\r\n    <path clip-path=\"url(#p194b2752ea)\" d=\"M 102.048013 11.136797 \r\nL 140.310871 11.136797 \r\nL 140.310871 42.199654 \r\nL 102.048013 42.199654 \r\nL 102.048013 11.136797 \r\n\" style=\"fill:#f47c55;\"/>\r\n    <path clip-path=\"url(#p194b2752ea)\" d=\"M 140.310871 11.136797 \r\nL 178.573728 11.136797 \r\nL 178.573728 42.199654 \r\nL 140.310871 42.199654 \r\nL 140.310871 11.136797 \r\n\" style=\"fill:#ba1656;\"/>\r\n    <path clip-path=\"url(#p194b2752ea)\" d=\"M 178.573728 11.136797 \r\nL 216.836585 11.136797 \r\nL 216.836585 42.199654 \r\nL 178.573728 42.199654 \r\nL 178.573728 11.136797 \r\n\" style=\"fill:#d92847;\"/>\r\n    <path clip-path=\"url(#p194b2752ea)\" d=\"M 216.836585 11.136797 \r\nL 255.099442 11.136797 \r\nL 255.099442 42.199654 \r\nL 216.836585 42.199654 \r\nL 216.836585 11.136797 \r\n\" style=\"fill:#c81951;\"/>\r\n    <path clip-path=\"url(#p194b2752ea)\" d=\"M 255.099442 11.136797 \r\nL 293.362299 11.136797 \r\nL 293.362299 42.199654 \r\nL 255.099442 42.199654 \r\nL 255.099442 11.136797 \r\n\" style=\"fill:#f7c7a8;\"/>\r\n    <path clip-path=\"url(#p194b2752ea)\" d=\"M 293.362299 11.136797 \r\nL 331.625156 11.136797 \r\nL 331.625156 42.199654 \r\nL 293.362299 42.199654 \r\nL 293.362299 11.136797 \r\n\" style=\"fill:#d62449;\"/>\r\n    <path clip-path=\"url(#p194b2752ea)\" d=\"M 63.785156 42.199654 \r\nL 102.048013 42.199654 \r\nL 102.048013 73.262511 \r\nL 63.785156 73.262511 \r\nL 63.785156 42.199654 \r\n\" style=\"fill:#f47c55;\"/>\r\n    <path clip-path=\"url(#p194b2752ea)\" d=\"M 102.048013 42.199654 \r\nL 140.310871 42.199654 \r\nL 140.310871 73.262511 \r\nL 102.048013 73.262511 \r\nL 102.048013 42.199654 \r\n\" style=\"fill:#faebdd;\"/>\r\n    <path clip-path=\"url(#p194b2752ea)\" d=\"M 140.310871 42.199654 \r\nL 178.573728 42.199654 \r\nL 178.573728 73.262511 \r\nL 140.310871 73.262511 \r\nL 140.310871 42.199654 \r\n\" style=\"fill:#f7c7a8;\"/>\r\n    <path clip-path=\"url(#p194b2752ea)\" d=\"M 178.573728 42.199654 \r\nL 216.836585 42.199654 \r\nL 216.836585 73.262511 \r\nL 178.573728 73.262511 \r\nL 178.573728 42.199654 \r\n\" style=\"fill:#f7cdb1;\"/>\r\n    <path clip-path=\"url(#p194b2752ea)\" d=\"M 216.836585 42.199654 \r\nL 255.099442 42.199654 \r\nL 255.099442 73.262511 \r\nL 216.836585 73.262511 \r\nL 216.836585 42.199654 \r\n\" style=\"fill:#f6bf9d;\"/>\r\n    <path clip-path=\"url(#p194b2752ea)\" d=\"M 255.099442 42.199654 \r\nL 293.362299 42.199654 \r\nL 293.362299 73.262511 \r\nL 255.099442 73.262511 \r\nL 255.099442 42.199654 \r\n\" style=\"fill:#f59067;\"/>\r\n    <path clip-path=\"url(#p194b2752ea)\" d=\"M 293.362299 42.199654 \r\nL 331.625156 42.199654 \r\nL 331.625156 73.262511 \r\nL 293.362299 73.262511 \r\nL 293.362299 42.199654 \r\n\" style=\"fill:#211330;\"/>\r\n    <path clip-path=\"url(#p194b2752ea)\" d=\"M 63.785156 73.262511 \r\nL 102.048013 73.262511 \r\nL 102.048013 104.325368 \r\nL 63.785156 104.325368 \r\nL 63.785156 73.262511 \r\n\" style=\"fill:#ba1656;\"/>\r\n    <path clip-path=\"url(#p194b2752ea)\" d=\"M 102.048013 73.262511 \r\nL 140.310871 73.262511 \r\nL 140.310871 104.325368 \r\nL 102.048013 104.325368 \r\nL 102.048013 73.262511 \r\n\" style=\"fill:#f7c7a8;\"/>\r\n    <path clip-path=\"url(#p194b2752ea)\" d=\"M 140.310871 73.262511 \r\nL 178.573728 73.262511 \r\nL 178.573728 104.325368 \r\nL 140.310871 104.325368 \r\nL 140.310871 73.262511 \r\n\" style=\"fill:#faebdd;\"/>\r\n    <path clip-path=\"url(#p194b2752ea)\" d=\"M 178.573728 73.262511 \r\nL 216.836585 73.262511 \r\nL 216.836585 104.325368 \r\nL 178.573728 104.325368 \r\nL 178.573728 73.262511 \r\n\" style=\"fill:#f9e2d0;\"/>\r\n    <path clip-path=\"url(#p194b2752ea)\" d=\"M 216.836585 73.262511 \r\nL 255.099442 73.262511 \r\nL 255.099442 104.325368 \r\nL 216.836585 104.325368 \r\nL 216.836585 73.262511 \r\n\" style=\"fill:#f8d9c3;\"/>\r\n    <path clip-path=\"url(#p194b2752ea)\" d=\"M 255.099442 73.262511 \r\nL 293.362299 73.262511 \r\nL 293.362299 104.325368 \r\nL 255.099442 104.325368 \r\nL 255.099442 73.262511 \r\n\" style=\"fill:#db2946;\"/>\r\n    <path clip-path=\"url(#p194b2752ea)\" d=\"M 293.362299 73.262511 \r\nL 331.625156 73.262511 \r\nL 331.625156 104.325368 \r\nL 293.362299 104.325368 \r\nL 293.362299 73.262511 \r\n\" style=\"fill:#03051a;\"/>\r\n    <path clip-path=\"url(#p194b2752ea)\" d=\"M 63.785156 104.325368 \r\nL 102.048013 104.325368 \r\nL 102.048013 135.388225 \r\nL 63.785156 135.388225 \r\nL 63.785156 104.325368 \r\n\" style=\"fill:#d92847;\"/>\r\n    <path clip-path=\"url(#p194b2752ea)\" d=\"M 102.048013 104.325368 \r\nL 140.310871 104.325368 \r\nL 140.310871 135.388225 \r\nL 102.048013 135.388225 \r\nL 102.048013 104.325368 \r\n\" style=\"fill:#f7cdb1;\"/>\r\n    <path clip-path=\"url(#p194b2752ea)\" d=\"M 140.310871 104.325368 \r\nL 178.573728 104.325368 \r\nL 178.573728 135.388225 \r\nL 140.310871 135.388225 \r\nL 140.310871 104.325368 \r\n\" style=\"fill:#f9e2d0;\"/>\r\n    <path clip-path=\"url(#p194b2752ea)\" d=\"M 178.573728 104.325368 \r\nL 216.836585 104.325368 \r\nL 216.836585 135.388225 \r\nL 178.573728 135.388225 \r\nL 178.573728 104.325368 \r\n\" style=\"fill:#faebdd;\"/>\r\n    <path clip-path=\"url(#p194b2752ea)\" d=\"M 216.836585 104.325368 \r\nL 255.099442 104.325368 \r\nL 255.099442 135.388225 \r\nL 216.836585 135.388225 \r\nL 216.836585 104.325368 \r\n\" style=\"fill:#fae6d6;\"/>\r\n    <path clip-path=\"url(#p194b2752ea)\" d=\"M 255.099442 104.325368 \r\nL 293.362299 104.325368 \r\nL 293.362299 135.388225 \r\nL 255.099442 135.388225 \r\nL 255.099442 104.325368 \r\n\" style=\"fill:#e33641;\"/>\r\n    <path clip-path=\"url(#p194b2752ea)\" d=\"M 293.362299 104.325368 \r\nL 331.625156 104.325368 \r\nL 331.625156 135.388225 \r\nL 293.362299 135.388225 \r\nL 293.362299 104.325368 \r\n\" style=\"fill:#0d0a21;\"/>\r\n    <path clip-path=\"url(#p194b2752ea)\" d=\"M 63.785156 135.388225 \r\nL 102.048013 135.388225 \r\nL 102.048013 166.451083 \r\nL 63.785156 166.451083 \r\nL 63.785156 135.388225 \r\n\" style=\"fill:#c81951;\"/>\r\n    <path clip-path=\"url(#p194b2752ea)\" d=\"M 102.048013 135.388225 \r\nL 140.310871 135.388225 \r\nL 140.310871 166.451083 \r\nL 102.048013 166.451083 \r\nL 102.048013 135.388225 \r\n\" style=\"fill:#f6bf9d;\"/>\r\n    <path clip-path=\"url(#p194b2752ea)\" d=\"M 140.310871 135.388225 \r\nL 178.573728 135.388225 \r\nL 178.573728 166.451083 \r\nL 140.310871 166.451083 \r\nL 140.310871 135.388225 \r\n\" style=\"fill:#f8d9c3;\"/>\r\n    <path clip-path=\"url(#p194b2752ea)\" d=\"M 178.573728 135.388225 \r\nL 216.836585 135.388225 \r\nL 216.836585 166.451083 \r\nL 178.573728 166.451083 \r\nL 178.573728 135.388225 \r\n\" style=\"fill:#fae6d6;\"/>\r\n    <path clip-path=\"url(#p194b2752ea)\" d=\"M 216.836585 135.388225 \r\nL 255.099442 135.388225 \r\nL 255.099442 166.451083 \r\nL 216.836585 166.451083 \r\nL 216.836585 135.388225 \r\n\" style=\"fill:#faebdd;\"/>\r\n    <path clip-path=\"url(#p194b2752ea)\" d=\"M 255.099442 135.388225 \r\nL 293.362299 135.388225 \r\nL 293.362299 166.451083 \r\nL 255.099442 166.451083 \r\nL 255.099442 135.388225 \r\n\" style=\"fill:#c41753;\"/>\r\n    <path clip-path=\"url(#p194b2752ea)\" d=\"M 293.362299 135.388225 \r\nL 331.625156 135.388225 \r\nL 331.625156 166.451083 \r\nL 293.362299 166.451083 \r\nL 293.362299 135.388225 \r\n\" style=\"fill:#160e27;\"/>\r\n    <path clip-path=\"url(#p194b2752ea)\" d=\"M 63.785156 166.451083 \r\nL 102.048013 166.451083 \r\nL 102.048013 197.51394 \r\nL 63.785156 197.51394 \r\nL 63.785156 166.451083 \r\n\" style=\"fill:#f7c7a8;\"/>\r\n    <path clip-path=\"url(#p194b2752ea)\" d=\"M 102.048013 166.451083 \r\nL 140.310871 166.451083 \r\nL 140.310871 197.51394 \r\nL 102.048013 197.51394 \r\nL 102.048013 166.451083 \r\n\" style=\"fill:#f59067;\"/>\r\n    <path clip-path=\"url(#p194b2752ea)\" d=\"M 140.310871 166.451083 \r\nL 178.573728 166.451083 \r\nL 178.573728 197.51394 \r\nL 140.310871 197.51394 \r\nL 140.310871 166.451083 \r\n\" style=\"fill:#db2946;\"/>\r\n    <path clip-path=\"url(#p194b2752ea)\" d=\"M 178.573728 166.451083 \r\nL 216.836585 166.451083 \r\nL 216.836585 197.51394 \r\nL 178.573728 197.51394 \r\nL 178.573728 166.451083 \r\n\" style=\"fill:#e33641;\"/>\r\n    <path clip-path=\"url(#p194b2752ea)\" d=\"M 216.836585 166.451083 \r\nL 255.099442 166.451083 \r\nL 255.099442 197.51394 \r\nL 216.836585 197.51394 \r\nL 216.836585 166.451083 \r\n\" style=\"fill:#c41753;\"/>\r\n    <path clip-path=\"url(#p194b2752ea)\" d=\"M 255.099442 166.451083 \r\nL 293.362299 166.451083 \r\nL 293.362299 197.51394 \r\nL 255.099442 197.51394 \r\nL 255.099442 166.451083 \r\n\" style=\"fill:#faebdd;\"/>\r\n    <path clip-path=\"url(#p194b2752ea)\" d=\"M 293.362299 166.451083 \r\nL 331.625156 166.451083 \r\nL 331.625156 197.51394 \r\nL 293.362299 197.51394 \r\nL 293.362299 166.451083 \r\n\" style=\"fill:#821e5a;\"/>\r\n    <path clip-path=\"url(#p194b2752ea)\" d=\"M 63.785156 197.51394 \r\nL 102.048013 197.51394 \r\nL 102.048013 228.576797 \r\nL 63.785156 228.576797 \r\nL 63.785156 197.51394 \r\n\" style=\"fill:#d62449;\"/>\r\n    <path clip-path=\"url(#p194b2752ea)\" d=\"M 102.048013 197.51394 \r\nL 140.310871 197.51394 \r\nL 140.310871 228.576797 \r\nL 102.048013 228.576797 \r\nL 102.048013 197.51394 \r\n\" style=\"fill:#211330;\"/>\r\n    <path clip-path=\"url(#p194b2752ea)\" d=\"M 140.310871 197.51394 \r\nL 178.573728 197.51394 \r\nL 178.573728 228.576797 \r\nL 140.310871 228.576797 \r\nL 140.310871 197.51394 \r\n\" style=\"fill:#03051a;\"/>\r\n    <path clip-path=\"url(#p194b2752ea)\" d=\"M 178.573728 197.51394 \r\nL 216.836585 197.51394 \r\nL 216.836585 228.576797 \r\nL 178.573728 228.576797 \r\nL 178.573728 197.51394 \r\n\" style=\"fill:#0d0a21;\"/>\r\n    <path clip-path=\"url(#p194b2752ea)\" d=\"M 216.836585 197.51394 \r\nL 255.099442 197.51394 \r\nL 255.099442 228.576797 \r\nL 216.836585 228.576797 \r\nL 216.836585 197.51394 \r\n\" style=\"fill:#160e27;\"/>\r\n    <path clip-path=\"url(#p194b2752ea)\" d=\"M 255.099442 197.51394 \r\nL 293.362299 197.51394 \r\nL 293.362299 228.576797 \r\nL 255.099442 228.576797 \r\nL 255.099442 197.51394 \r\n\" style=\"fill:#821e5a;\"/>\r\n    <path clip-path=\"url(#p194b2752ea)\" d=\"M 293.362299 197.51394 \r\nL 331.625156 197.51394 \r\nL 331.625156 228.576797 \r\nL 293.362299 228.576797 \r\nL 293.362299 197.51394 \r\n\" style=\"fill:#faebdd;\"/>\r\n   </g>\r\n   <g id=\"text_15\">\r\n    <!-- 1 -->\r\n    <g style=\"fill:#262626;\" transform=\"translate(79.580022 29.770413)scale(0.12 -0.12)\">\r\n     <defs>\r\n      <path d=\"M 37.25 0 \r\nL 28.46875 0 \r\nL 28.46875 56 \r\nQ 25.296875 52.984375 20.140625 49.953125 \r\nQ 14.984375 46.921875 10.890625 45.40625 \r\nL 10.890625 53.90625 \r\nQ 18.265625 57.375 23.78125 62.296875 \r\nQ 29.296875 67.234375 31.59375 71.875 \r\nL 37.25 71.875 \r\nz\r\n\" id=\"ArialMT-49\"/>\r\n     </defs>\r\n     <use xlink:href=\"#ArialMT-49\"/>\r\n    </g>\r\n   </g>\r\n   <g id=\"text_16\">\r\n    <!-- 0.59 -->\r\n    <g style=\"fill:#ffffff;\" transform=\"translate(109.502879 29.770413)scale(0.12 -0.12)\">\r\n     <defs>\r\n      <path d=\"M 4.15625 35.296875 \r\nQ 4.15625 48 6.765625 55.734375 \r\nQ 9.375 63.484375 14.515625 67.671875 \r\nQ 19.671875 71.875 27.484375 71.875 \r\nQ 33.25 71.875 37.59375 69.546875 \r\nQ 41.9375 67.234375 44.765625 62.859375 \r\nQ 47.609375 58.5 49.21875 52.21875 \r\nQ 50.828125 45.953125 50.828125 35.296875 \r\nQ 50.828125 22.703125 48.234375 14.96875 \r\nQ 45.65625 7.234375 40.5 3 \r\nQ 35.359375 -1.21875 27.484375 -1.21875 \r\nQ 17.140625 -1.21875 11.234375 6.203125 \r\nQ 4.15625 15.140625 4.15625 35.296875 \r\nz\r\nM 13.1875 35.296875 \r\nQ 13.1875 17.671875 17.3125 11.828125 \r\nQ 21.4375 6 27.484375 6 \r\nQ 33.546875 6 37.671875 11.859375 \r\nQ 41.796875 17.71875 41.796875 35.296875 \r\nQ 41.796875 52.984375 37.671875 58.78125 \r\nQ 33.546875 64.59375 27.390625 64.59375 \r\nQ 21.34375 64.59375 17.71875 59.46875 \r\nQ 13.1875 52.9375 13.1875 35.296875 \r\nz\r\n\" id=\"ArialMT-48\"/>\r\n      <path d=\"M 9.078125 0 \r\nL 9.078125 10.015625 \r\nL 19.09375 10.015625 \r\nL 19.09375 0 \r\nz\r\n\" id=\"ArialMT-46\"/>\r\n      <path d=\"M 4.15625 18.75 \r\nL 13.375 19.53125 \r\nQ 14.40625 12.796875 18.140625 9.390625 \r\nQ 21.875 6 27.15625 6 \r\nQ 33.5 6 37.890625 10.78125 \r\nQ 42.28125 15.578125 42.28125 23.484375 \r\nQ 42.28125 31 38.0625 35.34375 \r\nQ 33.84375 39.703125 27 39.703125 \r\nQ 22.75 39.703125 19.328125 37.765625 \r\nQ 15.921875 35.84375 13.96875 32.765625 \r\nL 5.71875 33.84375 \r\nL 12.640625 70.609375 \r\nL 48.25 70.609375 \r\nL 48.25 62.203125 \r\nL 19.671875 62.203125 \r\nL 15.828125 42.96875 \r\nQ 22.265625 47.46875 29.34375 47.46875 \r\nQ 38.71875 47.46875 45.15625 40.96875 \r\nQ 51.609375 34.46875 51.609375 24.265625 \r\nQ 51.609375 14.546875 45.953125 7.46875 \r\nQ 39.0625 -1.21875 27.15625 -1.21875 \r\nQ 17.390625 -1.21875 11.203125 4.25 \r\nQ 5.03125 9.71875 4.15625 18.75 \r\nz\r\n\" id=\"ArialMT-53\"/>\r\n      <path d=\"M 5.46875 16.546875 \r\nL 13.921875 17.328125 \r\nQ 14.984375 11.375 18.015625 8.6875 \r\nQ 21.046875 6 25.78125 6 \r\nQ 29.828125 6 32.875 7.859375 \r\nQ 35.9375 9.71875 37.890625 12.8125 \r\nQ 39.84375 15.921875 41.15625 21.1875 \r\nQ 42.484375 26.46875 42.484375 31.9375 \r\nQ 42.484375 32.515625 42.4375 33.6875 \r\nQ 39.796875 29.5 35.234375 26.875 \r\nQ 30.671875 24.265625 25.34375 24.265625 \r\nQ 16.453125 24.265625 10.296875 30.703125 \r\nQ 4.15625 37.15625 4.15625 47.703125 \r\nQ 4.15625 58.59375 10.578125 65.234375 \r\nQ 17 71.875 26.65625 71.875 \r\nQ 33.640625 71.875 39.421875 68.109375 \r\nQ 45.21875 64.359375 48.21875 57.390625 \r\nQ 51.21875 50.4375 51.21875 37.25 \r\nQ 51.21875 23.53125 48.234375 15.40625 \r\nQ 45.265625 7.28125 39.375 3.03125 \r\nQ 33.5 -1.21875 25.59375 -1.21875 \r\nQ 17.1875 -1.21875 11.859375 3.4375 \r\nQ 6.546875 8.109375 5.46875 16.546875 \r\nz\r\nM 41.453125 48.140625 \r\nQ 41.453125 55.71875 37.421875 60.15625 \r\nQ 33.40625 64.59375 27.734375 64.59375 \r\nQ 21.875 64.59375 17.53125 59.8125 \r\nQ 13.1875 55.03125 13.1875 47.40625 \r\nQ 13.1875 40.578125 17.3125 36.296875 \r\nQ 21.4375 32.03125 27.484375 32.03125 \r\nQ 33.59375 32.03125 37.515625 36.296875 \r\nQ 41.453125 40.578125 41.453125 48.140625 \r\nz\r\n\" id=\"ArialMT-57\"/>\r\n     </defs>\r\n     <use xlink:href=\"#ArialMT-48\"/>\r\n     <use x=\"55.615234\" xlink:href=\"#ArialMT-46\"/>\r\n     <use x=\"83.398438\" xlink:href=\"#ArialMT-53\"/>\r\n     <use x=\"139.013672\" xlink:href=\"#ArialMT-57\"/>\r\n    </g>\r\n   </g>\r\n   <g id=\"text_17\">\r\n    <!-- 0.2 -->\r\n    <g style=\"fill:#ffffff;\" transform=\"translate(151.102299 29.770413)scale(0.12 -0.12)\">\r\n     <defs>\r\n      <path d=\"M 50.34375 8.453125 \r\nL 50.34375 0 \r\nL 3.03125 0 \r\nQ 2.9375 3.171875 4.046875 6.109375 \r\nQ 5.859375 10.9375 9.828125 15.625 \r\nQ 13.8125 20.3125 21.34375 26.46875 \r\nQ 33.015625 36.03125 37.109375 41.625 \r\nQ 41.21875 47.21875 41.21875 52.203125 \r\nQ 41.21875 57.421875 37.46875 61 \r\nQ 33.734375 64.59375 27.734375 64.59375 \r\nQ 21.390625 64.59375 17.578125 60.78125 \r\nQ 13.765625 56.984375 13.71875 50.25 \r\nL 4.6875 51.171875 \r\nQ 5.609375 61.28125 11.65625 66.578125 \r\nQ 17.71875 71.875 27.9375 71.875 \r\nQ 38.234375 71.875 44.234375 66.15625 \r\nQ 50.25 60.453125 50.25 52 \r\nQ 50.25 47.703125 48.484375 43.546875 \r\nQ 46.734375 39.40625 42.65625 34.8125 \r\nQ 38.578125 30.21875 29.109375 22.21875 \r\nQ 21.1875 15.578125 18.9375 13.203125 \r\nQ 16.703125 10.84375 15.234375 8.453125 \r\nz\r\n\" id=\"ArialMT-50\"/>\r\n     </defs>\r\n     <use xlink:href=\"#ArialMT-48\"/>\r\n     <use x=\"55.615234\" xlink:href=\"#ArialMT-46\"/>\r\n     <use x=\"83.398438\" xlink:href=\"#ArialMT-50\"/>\r\n    </g>\r\n   </g>\r\n   <g id=\"text_18\">\r\n    <!-- 0.32 -->\r\n    <g style=\"fill:#ffffff;\" transform=\"translate(186.028594 29.770413)scale(0.12 -0.12)\">\r\n     <defs>\r\n      <path d=\"M 4.203125 18.890625 \r\nL 12.984375 20.0625 \r\nQ 14.5 12.59375 18.140625 9.296875 \r\nQ 21.78125 6 27 6 \r\nQ 33.203125 6 37.46875 10.296875 \r\nQ 41.75 14.59375 41.75 20.953125 \r\nQ 41.75 27 37.796875 30.921875 \r\nQ 33.84375 34.859375 27.734375 34.859375 \r\nQ 25.25 34.859375 21.53125 33.890625 \r\nL 22.515625 41.609375 \r\nQ 23.390625 41.5 23.921875 41.5 \r\nQ 29.546875 41.5 34.03125 44.421875 \r\nQ 38.53125 47.359375 38.53125 53.46875 \r\nQ 38.53125 58.296875 35.25 61.46875 \r\nQ 31.984375 64.65625 26.8125 64.65625 \r\nQ 21.6875 64.65625 18.265625 61.421875 \r\nQ 14.84375 58.203125 13.875 51.765625 \r\nL 5.078125 53.328125 \r\nQ 6.6875 62.15625 12.390625 67.015625 \r\nQ 18.109375 71.875 26.609375 71.875 \r\nQ 32.46875 71.875 37.390625 69.359375 \r\nQ 42.328125 66.84375 44.9375 62.5 \r\nQ 47.5625 58.15625 47.5625 53.265625 \r\nQ 47.5625 48.640625 45.0625 44.828125 \r\nQ 42.578125 41.015625 37.703125 38.765625 \r\nQ 44.046875 37.3125 47.5625 32.6875 \r\nQ 51.078125 28.078125 51.078125 21.140625 \r\nQ 51.078125 11.765625 44.234375 5.25 \r\nQ 37.40625 -1.265625 26.953125 -1.265625 \r\nQ 17.53125 -1.265625 11.296875 4.34375 \r\nQ 5.078125 9.96875 4.203125 18.890625 \r\nz\r\n\" id=\"ArialMT-51\"/>\r\n     </defs>\r\n     <use xlink:href=\"#ArialMT-48\"/>\r\n     <use x=\"55.615234\" xlink:href=\"#ArialMT-46\"/>\r\n     <use x=\"83.398438\" xlink:href=\"#ArialMT-51\"/>\r\n     <use x=\"139.013672\" xlink:href=\"#ArialMT-50\"/>\r\n    </g>\r\n   </g>\r\n   <g id=\"text_19\">\r\n    <!-- 0.25 -->\r\n    <g style=\"fill:#ffffff;\" transform=\"translate(224.291451 29.770413)scale(0.12 -0.12)\">\r\n     <use xlink:href=\"#ArialMT-48\"/>\r\n     <use x=\"55.615234\" xlink:href=\"#ArialMT-46\"/>\r\n     <use x=\"83.398438\" xlink:href=\"#ArialMT-50\"/>\r\n     <use x=\"139.013672\" xlink:href=\"#ArialMT-53\"/>\r\n    </g>\r\n   </g>\r\n   <g id=\"text_20\">\r\n    <!-- 0.86 -->\r\n    <g style=\"fill:#262626;\" transform=\"translate(262.554308 29.770413)scale(0.12 -0.12)\">\r\n     <defs>\r\n      <path d=\"M 17.671875 38.8125 \r\nQ 12.203125 40.828125 9.5625 44.53125 \r\nQ 6.9375 48.25 6.9375 53.421875 \r\nQ 6.9375 61.234375 12.546875 66.546875 \r\nQ 18.171875 71.875 27.484375 71.875 \r\nQ 36.859375 71.875 42.578125 66.421875 \r\nQ 48.296875 60.984375 48.296875 53.171875 \r\nQ 48.296875 48.1875 45.671875 44.5 \r\nQ 43.0625 40.828125 37.75 38.8125 \r\nQ 44.34375 36.671875 47.78125 31.875 \r\nQ 51.21875 27.09375 51.21875 20.453125 \r\nQ 51.21875 11.28125 44.71875 5.03125 \r\nQ 38.234375 -1.21875 27.640625 -1.21875 \r\nQ 17.046875 -1.21875 10.546875 5.046875 \r\nQ 4.046875 11.328125 4.046875 20.703125 \r\nQ 4.046875 27.6875 7.59375 32.390625 \r\nQ 11.140625 37.109375 17.671875 38.8125 \r\nz\r\nM 15.921875 53.71875 \r\nQ 15.921875 48.640625 19.1875 45.40625 \r\nQ 22.46875 42.1875 27.6875 42.1875 \r\nQ 32.765625 42.1875 36.015625 45.375 \r\nQ 39.265625 48.578125 39.265625 53.21875 \r\nQ 39.265625 58.0625 35.90625 61.359375 \r\nQ 32.5625 64.65625 27.59375 64.65625 \r\nQ 22.5625 64.65625 19.234375 61.421875 \r\nQ 15.921875 58.203125 15.921875 53.71875 \r\nz\r\nM 13.09375 20.65625 \r\nQ 13.09375 16.890625 14.875 13.375 \r\nQ 16.65625 9.859375 20.171875 7.921875 \r\nQ 23.6875 6 27.734375 6 \r\nQ 34.03125 6 38.125 10.046875 \r\nQ 42.234375 14.109375 42.234375 20.359375 \r\nQ 42.234375 26.703125 38.015625 30.859375 \r\nQ 33.796875 35.015625 27.4375 35.015625 \r\nQ 21.234375 35.015625 17.15625 30.90625 \r\nQ 13.09375 26.8125 13.09375 20.65625 \r\nz\r\n\" id=\"ArialMT-56\"/>\r\n      <path d=\"M 49.75 54.046875 \r\nL 41.015625 53.375 \r\nQ 39.84375 58.546875 37.703125 60.890625 \r\nQ 34.125 64.65625 28.90625 64.65625 \r\nQ 24.703125 64.65625 21.53125 62.3125 \r\nQ 17.390625 59.28125 14.984375 53.46875 \r\nQ 12.59375 47.65625 12.5 36.921875 \r\nQ 15.671875 41.75 20.265625 44.09375 \r\nQ 24.859375 46.4375 29.890625 46.4375 \r\nQ 38.671875 46.4375 44.84375 39.96875 \r\nQ 51.03125 33.5 51.03125 23.25 \r\nQ 51.03125 16.5 48.125 10.71875 \r\nQ 45.21875 4.9375 40.140625 1.859375 \r\nQ 35.0625 -1.21875 28.609375 -1.21875 \r\nQ 17.625 -1.21875 10.6875 6.859375 \r\nQ 3.765625 14.9375 3.765625 33.5 \r\nQ 3.765625 54.25 11.421875 63.671875 \r\nQ 18.109375 71.875 29.4375 71.875 \r\nQ 37.890625 71.875 43.28125 67.140625 \r\nQ 48.6875 62.40625 49.75 54.046875 \r\nz\r\nM 13.875 23.1875 \r\nQ 13.875 18.65625 15.796875 14.5 \r\nQ 17.71875 10.359375 21.1875 8.171875 \r\nQ 24.65625 6 28.46875 6 \r\nQ 34.03125 6 38.03125 10.484375 \r\nQ 42.046875 14.984375 42.046875 22.703125 \r\nQ 42.046875 30.125 38.078125 34.390625 \r\nQ 34.125 38.671875 28.125 38.671875 \r\nQ 22.171875 38.671875 18.015625 34.390625 \r\nQ 13.875 30.125 13.875 23.1875 \r\nz\r\n\" id=\"ArialMT-54\"/>\r\n     </defs>\r\n     <use xlink:href=\"#ArialMT-48\"/>\r\n     <use x=\"55.615234\" xlink:href=\"#ArialMT-46\"/>\r\n     <use x=\"83.398438\" xlink:href=\"#ArialMT-56\"/>\r\n     <use x=\"139.013672\" xlink:href=\"#ArialMT-54\"/>\r\n    </g>\r\n   </g>\r\n   <g id=\"text_21\">\r\n    <!-- 0.3 -->\r\n    <g style=\"fill:#ffffff;\" transform=\"translate(304.153728 29.770413)scale(0.12 -0.12)\">\r\n     <use xlink:href=\"#ArialMT-48\"/>\r\n     <use x=\"55.615234\" xlink:href=\"#ArialMT-46\"/>\r\n     <use x=\"83.398438\" xlink:href=\"#ArialMT-51\"/>\r\n    </g>\r\n   </g>\r\n   <g id=\"text_22\">\r\n    <!-- 0.59 -->\r\n    <g style=\"fill:#ffffff;\" transform=\"translate(71.240022 60.83327)scale(0.12 -0.12)\">\r\n     <use xlink:href=\"#ArialMT-48\"/>\r\n     <use x=\"55.615234\" xlink:href=\"#ArialMT-46\"/>\r\n     <use x=\"83.398438\" xlink:href=\"#ArialMT-53\"/>\r\n     <use x=\"139.013672\" xlink:href=\"#ArialMT-57\"/>\r\n    </g>\r\n   </g>\r\n   <g id=\"text_23\">\r\n    <!-- 1 -->\r\n    <g style=\"fill:#262626;\" transform=\"translate(117.842879 60.83327)scale(0.12 -0.12)\">\r\n     <use xlink:href=\"#ArialMT-49\"/>\r\n    </g>\r\n   </g>\r\n   <g id=\"text_24\">\r\n    <!-- 0.86 -->\r\n    <g style=\"fill:#262626;\" transform=\"translate(147.765737 60.83327)scale(0.12 -0.12)\">\r\n     <use xlink:href=\"#ArialMT-48\"/>\r\n     <use x=\"55.615234\" xlink:href=\"#ArialMT-46\"/>\r\n     <use x=\"83.398438\" xlink:href=\"#ArialMT-56\"/>\r\n     <use x=\"139.013672\" xlink:href=\"#ArialMT-54\"/>\r\n    </g>\r\n   </g>\r\n   <g id=\"text_25\">\r\n    <!-- 0.88 -->\r\n    <g style=\"fill:#262626;\" transform=\"translate(186.028594 60.83327)scale(0.12 -0.12)\">\r\n     <use xlink:href=\"#ArialMT-48\"/>\r\n     <use x=\"55.615234\" xlink:href=\"#ArialMT-46\"/>\r\n     <use x=\"83.398438\" xlink:href=\"#ArialMT-56\"/>\r\n     <use x=\"139.013672\" xlink:href=\"#ArialMT-56\"/>\r\n    </g>\r\n   </g>\r\n   <g id=\"text_26\">\r\n    <!-- 0.83 -->\r\n    <g style=\"fill:#262626;\" transform=\"translate(224.291451 60.83327)scale(0.12 -0.12)\">\r\n     <use xlink:href=\"#ArialMT-48\"/>\r\n     <use x=\"55.615234\" xlink:href=\"#ArialMT-46\"/>\r\n     <use x=\"83.398438\" xlink:href=\"#ArialMT-56\"/>\r\n     <use x=\"139.013672\" xlink:href=\"#ArialMT-51\"/>\r\n    </g>\r\n   </g>\r\n   <g id=\"text_27\">\r\n    <!-- 0.66 -->\r\n    <g style=\"fill:#ffffff;\" transform=\"translate(262.554308 60.83327)scale(0.12 -0.12)\">\r\n     <use xlink:href=\"#ArialMT-48\"/>\r\n     <use x=\"55.615234\" xlink:href=\"#ArialMT-46\"/>\r\n     <use x=\"83.398438\" xlink:href=\"#ArialMT-54\"/>\r\n     <use x=\"139.013672\" xlink:href=\"#ArialMT-54\"/>\r\n    </g>\r\n   </g>\r\n   <g id=\"text_28\">\r\n    <!-- -0.36 -->\r\n    <g style=\"fill:#ffffff;\" transform=\"translate(298.819353 60.83327)scale(0.12 -0.12)\">\r\n     <defs>\r\n      <path d=\"M 3.171875 21.484375 \r\nL 3.171875 30.328125 \r\nL 30.171875 30.328125 \r\nL 30.171875 21.484375 \r\nz\r\n\" id=\"ArialMT-45\"/>\r\n     </defs>\r\n     <use xlink:href=\"#ArialMT-45\"/>\r\n     <use x=\"33.300781\" xlink:href=\"#ArialMT-48\"/>\r\n     <use x=\"88.916016\" xlink:href=\"#ArialMT-46\"/>\r\n     <use x=\"116.699219\" xlink:href=\"#ArialMT-51\"/>\r\n     <use x=\"172.314453\" xlink:href=\"#ArialMT-54\"/>\r\n    </g>\r\n   </g>\r\n   <g id=\"text_29\">\r\n    <!-- 0.2 -->\r\n    <g style=\"fill:#ffffff;\" transform=\"translate(74.576585 91.896127)scale(0.12 -0.12)\">\r\n     <use xlink:href=\"#ArialMT-48\"/>\r\n     <use x=\"55.615234\" xlink:href=\"#ArialMT-46\"/>\r\n     <use x=\"83.398438\" xlink:href=\"#ArialMT-50\"/>\r\n    </g>\r\n   </g>\r\n   <g id=\"text_30\">\r\n    <!-- 0.86 -->\r\n    <g style=\"fill:#262626;\" transform=\"translate(109.502879 91.896127)scale(0.12 -0.12)\">\r\n     <use xlink:href=\"#ArialMT-48\"/>\r\n     <use x=\"55.615234\" xlink:href=\"#ArialMT-46\"/>\r\n     <use x=\"83.398438\" xlink:href=\"#ArialMT-56\"/>\r\n     <use x=\"139.013672\" xlink:href=\"#ArialMT-54\"/>\r\n    </g>\r\n   </g>\r\n   <g id=\"text_31\">\r\n    <!-- 1 -->\r\n    <g style=\"fill:#262626;\" transform=\"translate(156.105737 91.896127)scale(0.12 -0.12)\">\r\n     <use xlink:href=\"#ArialMT-49\"/>\r\n    </g>\r\n   </g>\r\n   <g id=\"text_32\">\r\n    <!-- 0.96 -->\r\n    <g style=\"fill:#262626;\" transform=\"translate(186.028594 91.896127)scale(0.12 -0.12)\">\r\n     <use xlink:href=\"#ArialMT-48\"/>\r\n     <use x=\"55.615234\" xlink:href=\"#ArialMT-46\"/>\r\n     <use x=\"83.398438\" xlink:href=\"#ArialMT-57\"/>\r\n     <use x=\"139.013672\" xlink:href=\"#ArialMT-54\"/>\r\n    </g>\r\n   </g>\r\n   <g id=\"text_33\">\r\n    <!-- 0.93 -->\r\n    <g style=\"fill:#262626;\" transform=\"translate(224.291451 91.896127)scale(0.12 -0.12)\">\r\n     <use xlink:href=\"#ArialMT-48\"/>\r\n     <use x=\"55.615234\" xlink:href=\"#ArialMT-46\"/>\r\n     <use x=\"83.398438\" xlink:href=\"#ArialMT-57\"/>\r\n     <use x=\"139.013672\" xlink:href=\"#ArialMT-51\"/>\r\n    </g>\r\n   </g>\r\n   <g id=\"text_34\">\r\n    <!-- 0.33 -->\r\n    <g style=\"fill:#ffffff;\" transform=\"translate(262.554308 91.896127)scale(0.12 -0.12)\">\r\n     <use xlink:href=\"#ArialMT-48\"/>\r\n     <use x=\"55.615234\" xlink:href=\"#ArialMT-46\"/>\r\n     <use x=\"83.398438\" xlink:href=\"#ArialMT-51\"/>\r\n     <use x=\"139.013672\" xlink:href=\"#ArialMT-51\"/>\r\n    </g>\r\n   </g>\r\n   <g id=\"text_35\">\r\n    <!-- -0.49 -->\r\n    <g style=\"fill:#ffffff;\" transform=\"translate(298.819353 91.896127)scale(0.12 -0.12)\">\r\n     <defs>\r\n      <path d=\"M 32.328125 0 \r\nL 32.328125 17.140625 \r\nL 1.265625 17.140625 \r\nL 1.265625 25.203125 \r\nL 33.9375 71.578125 \r\nL 41.109375 71.578125 \r\nL 41.109375 25.203125 \r\nL 50.78125 25.203125 \r\nL 50.78125 17.140625 \r\nL 41.109375 17.140625 \r\nL 41.109375 0 \r\nz\r\nM 32.328125 25.203125 \r\nL 32.328125 57.46875 \r\nL 9.90625 25.203125 \r\nz\r\n\" id=\"ArialMT-52\"/>\r\n     </defs>\r\n     <use xlink:href=\"#ArialMT-45\"/>\r\n     <use x=\"33.300781\" xlink:href=\"#ArialMT-48\"/>\r\n     <use x=\"88.916016\" xlink:href=\"#ArialMT-46\"/>\r\n     <use x=\"116.699219\" xlink:href=\"#ArialMT-52\"/>\r\n     <use x=\"172.314453\" xlink:href=\"#ArialMT-57\"/>\r\n    </g>\r\n   </g>\r\n   <g id=\"text_36\">\r\n    <!-- 0.32 -->\r\n    <g style=\"fill:#ffffff;\" transform=\"translate(71.240022 122.958984)scale(0.12 -0.12)\">\r\n     <use xlink:href=\"#ArialMT-48\"/>\r\n     <use x=\"55.615234\" xlink:href=\"#ArialMT-46\"/>\r\n     <use x=\"83.398438\" xlink:href=\"#ArialMT-51\"/>\r\n     <use x=\"139.013672\" xlink:href=\"#ArialMT-50\"/>\r\n    </g>\r\n   </g>\r\n   <g id=\"text_37\">\r\n    <!-- 0.88 -->\r\n    <g style=\"fill:#262626;\" transform=\"translate(109.502879 122.958984)scale(0.12 -0.12)\">\r\n     <use xlink:href=\"#ArialMT-48\"/>\r\n     <use x=\"55.615234\" xlink:href=\"#ArialMT-46\"/>\r\n     <use x=\"83.398438\" xlink:href=\"#ArialMT-56\"/>\r\n     <use x=\"139.013672\" xlink:href=\"#ArialMT-56\"/>\r\n    </g>\r\n   </g>\r\n   <g id=\"text_38\">\r\n    <!-- 0.96 -->\r\n    <g style=\"fill:#262626;\" transform=\"translate(147.765737 122.958984)scale(0.12 -0.12)\">\r\n     <use xlink:href=\"#ArialMT-48\"/>\r\n     <use x=\"55.615234\" xlink:href=\"#ArialMT-46\"/>\r\n     <use x=\"83.398438\" xlink:href=\"#ArialMT-57\"/>\r\n     <use x=\"139.013672\" xlink:href=\"#ArialMT-54\"/>\r\n    </g>\r\n   </g>\r\n   <g id=\"text_39\">\r\n    <!-- 1 -->\r\n    <g style=\"fill:#262626;\" transform=\"translate(194.368594 122.958984)scale(0.12 -0.12)\">\r\n     <use xlink:href=\"#ArialMT-49\"/>\r\n    </g>\r\n   </g>\r\n   <g id=\"text_40\">\r\n    <!-- 0.98 -->\r\n    <g style=\"fill:#262626;\" transform=\"translate(224.291451 122.958984)scale(0.12 -0.12)\">\r\n     <use xlink:href=\"#ArialMT-48\"/>\r\n     <use x=\"55.615234\" xlink:href=\"#ArialMT-46\"/>\r\n     <use x=\"83.398438\" xlink:href=\"#ArialMT-57\"/>\r\n     <use x=\"139.013672\" xlink:href=\"#ArialMT-56\"/>\r\n    </g>\r\n   </g>\r\n   <g id=\"text_41\">\r\n    <!-- 0.37 -->\r\n    <g style=\"fill:#ffffff;\" transform=\"translate(262.554308 122.958984)scale(0.12 -0.12)\">\r\n     <defs>\r\n      <path d=\"M 4.734375 62.203125 \r\nL 4.734375 70.65625 \r\nL 51.078125 70.65625 \r\nL 51.078125 63.8125 \r\nQ 44.234375 56.546875 37.515625 44.484375 \r\nQ 30.8125 32.421875 27.15625 19.671875 \r\nQ 24.515625 10.6875 23.78125 0 \r\nL 14.75 0 \r\nQ 14.890625 8.453125 18.0625 20.40625 \r\nQ 21.234375 32.375 27.171875 43.484375 \r\nQ 33.109375 54.59375 39.796875 62.203125 \r\nz\r\n\" id=\"ArialMT-55\"/>\r\n     </defs>\r\n     <use xlink:href=\"#ArialMT-48\"/>\r\n     <use x=\"55.615234\" xlink:href=\"#ArialMT-46\"/>\r\n     <use x=\"83.398438\" xlink:href=\"#ArialMT-51\"/>\r\n     <use x=\"139.013672\" xlink:href=\"#ArialMT-55\"/>\r\n    </g>\r\n   </g>\r\n   <g id=\"text_42\">\r\n    <!-- -0.44 -->\r\n    <g style=\"fill:#ffffff;\" transform=\"translate(298.819353 122.958984)scale(0.12 -0.12)\">\r\n     <use xlink:href=\"#ArialMT-45\"/>\r\n     <use x=\"33.300781\" xlink:href=\"#ArialMT-48\"/>\r\n     <use x=\"88.916016\" xlink:href=\"#ArialMT-46\"/>\r\n     <use x=\"116.699219\" xlink:href=\"#ArialMT-52\"/>\r\n     <use x=\"172.314453\" xlink:href=\"#ArialMT-52\"/>\r\n    </g>\r\n   </g>\r\n   <g id=\"text_43\">\r\n    <!-- 0.25 -->\r\n    <g style=\"fill:#ffffff;\" transform=\"translate(71.240022 154.021842)scale(0.12 -0.12)\">\r\n     <use xlink:href=\"#ArialMT-48\"/>\r\n     <use x=\"55.615234\" xlink:href=\"#ArialMT-46\"/>\r\n     <use x=\"83.398438\" xlink:href=\"#ArialMT-50\"/>\r\n     <use x=\"139.013672\" xlink:href=\"#ArialMT-53\"/>\r\n    </g>\r\n   </g>\r\n   <g id=\"text_44\">\r\n    <!-- 0.83 -->\r\n    <g style=\"fill:#262626;\" transform=\"translate(109.502879 154.021842)scale(0.12 -0.12)\">\r\n     <use xlink:href=\"#ArialMT-48\"/>\r\n     <use x=\"55.615234\" xlink:href=\"#ArialMT-46\"/>\r\n     <use x=\"83.398438\" xlink:href=\"#ArialMT-56\"/>\r\n     <use x=\"139.013672\" xlink:href=\"#ArialMT-51\"/>\r\n    </g>\r\n   </g>\r\n   <g id=\"text_45\">\r\n    <!-- 0.93 -->\r\n    <g style=\"fill:#262626;\" transform=\"translate(147.765737 154.021842)scale(0.12 -0.12)\">\r\n     <use xlink:href=\"#ArialMT-48\"/>\r\n     <use x=\"55.615234\" xlink:href=\"#ArialMT-46\"/>\r\n     <use x=\"83.398438\" xlink:href=\"#ArialMT-57\"/>\r\n     <use x=\"139.013672\" xlink:href=\"#ArialMT-51\"/>\r\n    </g>\r\n   </g>\r\n   <g id=\"text_46\">\r\n    <!-- 0.98 -->\r\n    <g style=\"fill:#262626;\" transform=\"translate(186.028594 154.021842)scale(0.12 -0.12)\">\r\n     <use xlink:href=\"#ArialMT-48\"/>\r\n     <use x=\"55.615234\" xlink:href=\"#ArialMT-46\"/>\r\n     <use x=\"83.398438\" xlink:href=\"#ArialMT-57\"/>\r\n     <use x=\"139.013672\" xlink:href=\"#ArialMT-56\"/>\r\n    </g>\r\n   </g>\r\n   <g id=\"text_47\">\r\n    <!-- 1 -->\r\n    <g style=\"fill:#262626;\" transform=\"translate(232.631451 154.021842)scale(0.12 -0.12)\">\r\n     <use xlink:href=\"#ArialMT-49\"/>\r\n    </g>\r\n   </g>\r\n   <g id=\"text_48\">\r\n    <!-- 0.23 -->\r\n    <g style=\"fill:#ffffff;\" transform=\"translate(262.554308 154.021842)scale(0.12 -0.12)\">\r\n     <use xlink:href=\"#ArialMT-48\"/>\r\n     <use x=\"55.615234\" xlink:href=\"#ArialMT-46\"/>\r\n     <use x=\"83.398438\" xlink:href=\"#ArialMT-50\"/>\r\n     <use x=\"139.013672\" xlink:href=\"#ArialMT-51\"/>\r\n    </g>\r\n   </g>\r\n   <g id=\"text_49\">\r\n    <!-- -0.4 -->\r\n    <g style=\"fill:#ffffff;\" transform=\"translate(302.155915 154.021842)scale(0.12 -0.12)\">\r\n     <use xlink:href=\"#ArialMT-45\"/>\r\n     <use x=\"33.300781\" xlink:href=\"#ArialMT-48\"/>\r\n     <use x=\"88.916016\" xlink:href=\"#ArialMT-46\"/>\r\n     <use x=\"116.699219\" xlink:href=\"#ArialMT-52\"/>\r\n    </g>\r\n   </g>\r\n   <g id=\"text_50\">\r\n    <!-- 0.86 -->\r\n    <g style=\"fill:#262626;\" transform=\"translate(71.240022 185.084699)scale(0.12 -0.12)\">\r\n     <use xlink:href=\"#ArialMT-48\"/>\r\n     <use x=\"55.615234\" xlink:href=\"#ArialMT-46\"/>\r\n     <use x=\"83.398438\" xlink:href=\"#ArialMT-56\"/>\r\n     <use x=\"139.013672\" xlink:href=\"#ArialMT-54\"/>\r\n    </g>\r\n   </g>\r\n   <g id=\"text_51\">\r\n    <!-- 0.66 -->\r\n    <g style=\"fill:#ffffff;\" transform=\"translate(109.502879 185.084699)scale(0.12 -0.12)\">\r\n     <use xlink:href=\"#ArialMT-48\"/>\r\n     <use x=\"55.615234\" xlink:href=\"#ArialMT-46\"/>\r\n     <use x=\"83.398438\" xlink:href=\"#ArialMT-54\"/>\r\n     <use x=\"139.013672\" xlink:href=\"#ArialMT-54\"/>\r\n    </g>\r\n   </g>\r\n   <g id=\"text_52\">\r\n    <!-- 0.33 -->\r\n    <g style=\"fill:#ffffff;\" transform=\"translate(147.765737 185.084699)scale(0.12 -0.12)\">\r\n     <use xlink:href=\"#ArialMT-48\"/>\r\n     <use x=\"55.615234\" xlink:href=\"#ArialMT-46\"/>\r\n     <use x=\"83.398438\" xlink:href=\"#ArialMT-51\"/>\r\n     <use x=\"139.013672\" xlink:href=\"#ArialMT-51\"/>\r\n    </g>\r\n   </g>\r\n   <g id=\"text_53\">\r\n    <!-- 0.37 -->\r\n    <g style=\"fill:#ffffff;\" transform=\"translate(186.028594 185.084699)scale(0.12 -0.12)\">\r\n     <use xlink:href=\"#ArialMT-48\"/>\r\n     <use x=\"55.615234\" xlink:href=\"#ArialMT-46\"/>\r\n     <use x=\"83.398438\" xlink:href=\"#ArialMT-51\"/>\r\n     <use x=\"139.013672\" xlink:href=\"#ArialMT-55\"/>\r\n    </g>\r\n   </g>\r\n   <g id=\"text_54\">\r\n    <!-- 0.23 -->\r\n    <g style=\"fill:#ffffff;\" transform=\"translate(224.291451 185.084699)scale(0.12 -0.12)\">\r\n     <use xlink:href=\"#ArialMT-48\"/>\r\n     <use x=\"55.615234\" xlink:href=\"#ArialMT-46\"/>\r\n     <use x=\"83.398438\" xlink:href=\"#ArialMT-50\"/>\r\n     <use x=\"139.013672\" xlink:href=\"#ArialMT-51\"/>\r\n    </g>\r\n   </g>\r\n   <g id=\"text_55\">\r\n    <!-- 1 -->\r\n    <g style=\"fill:#262626;\" transform=\"translate(270.894308 185.084699)scale(0.12 -0.12)\">\r\n     <use xlink:href=\"#ArialMT-49\"/>\r\n    </g>\r\n   </g>\r\n   <g id=\"text_56\">\r\n    <!-- 0.0069 -->\r\n    <g style=\"fill:#ffffff;\" transform=\"translate(294.14404 185.084699)scale(0.12 -0.12)\">\r\n     <use xlink:href=\"#ArialMT-48\"/>\r\n     <use x=\"55.615234\" xlink:href=\"#ArialMT-46\"/>\r\n     <use x=\"83.398438\" xlink:href=\"#ArialMT-48\"/>\r\n     <use x=\"139.013672\" xlink:href=\"#ArialMT-48\"/>\r\n     <use x=\"194.628906\" xlink:href=\"#ArialMT-54\"/>\r\n     <use x=\"250.244141\" xlink:href=\"#ArialMT-57\"/>\r\n    </g>\r\n   </g>\r\n   <g id=\"text_57\">\r\n    <!-- 0.3 -->\r\n    <g style=\"fill:#ffffff;\" transform=\"translate(74.576585 216.147556)scale(0.12 -0.12)\">\r\n     <use xlink:href=\"#ArialMT-48\"/>\r\n     <use x=\"55.615234\" xlink:href=\"#ArialMT-46\"/>\r\n     <use x=\"83.398438\" xlink:href=\"#ArialMT-51\"/>\r\n    </g>\r\n   </g>\r\n   <g id=\"text_58\">\r\n    <!-- -0.36 -->\r\n    <g style=\"fill:#ffffff;\" transform=\"translate(107.505067 216.147556)scale(0.12 -0.12)\">\r\n     <use xlink:href=\"#ArialMT-45\"/>\r\n     <use x=\"33.300781\" xlink:href=\"#ArialMT-48\"/>\r\n     <use x=\"88.916016\" xlink:href=\"#ArialMT-46\"/>\r\n     <use x=\"116.699219\" xlink:href=\"#ArialMT-51\"/>\r\n     <use x=\"172.314453\" xlink:href=\"#ArialMT-54\"/>\r\n    </g>\r\n   </g>\r\n   <g id=\"text_59\">\r\n    <!-- -0.49 -->\r\n    <g style=\"fill:#ffffff;\" transform=\"translate(145.767924 216.147556)scale(0.12 -0.12)\">\r\n     <use xlink:href=\"#ArialMT-45\"/>\r\n     <use x=\"33.300781\" xlink:href=\"#ArialMT-48\"/>\r\n     <use x=\"88.916016\" xlink:href=\"#ArialMT-46\"/>\r\n     <use x=\"116.699219\" xlink:href=\"#ArialMT-52\"/>\r\n     <use x=\"172.314453\" xlink:href=\"#ArialMT-57\"/>\r\n    </g>\r\n   </g>\r\n   <g id=\"text_60\">\r\n    <!-- -0.44 -->\r\n    <g style=\"fill:#ffffff;\" transform=\"translate(184.030781 216.147556)scale(0.12 -0.12)\">\r\n     <use xlink:href=\"#ArialMT-45\"/>\r\n     <use x=\"33.300781\" xlink:href=\"#ArialMT-48\"/>\r\n     <use x=\"88.916016\" xlink:href=\"#ArialMT-46\"/>\r\n     <use x=\"116.699219\" xlink:href=\"#ArialMT-52\"/>\r\n     <use x=\"172.314453\" xlink:href=\"#ArialMT-52\"/>\r\n    </g>\r\n   </g>\r\n   <g id=\"text_61\">\r\n    <!-- -0.4 -->\r\n    <g style=\"fill:#ffffff;\" transform=\"translate(225.630201 216.147556)scale(0.12 -0.12)\">\r\n     <use xlink:href=\"#ArialMT-45\"/>\r\n     <use x=\"33.300781\" xlink:href=\"#ArialMT-48\"/>\r\n     <use x=\"88.916016\" xlink:href=\"#ArialMT-46\"/>\r\n     <use x=\"116.699219\" xlink:href=\"#ArialMT-52\"/>\r\n    </g>\r\n   </g>\r\n   <g id=\"text_62\">\r\n    <!-- 0.0069 -->\r\n    <g style=\"fill:#ffffff;\" transform=\"translate(255.881183 216.147556)scale(0.12 -0.12)\">\r\n     <use xlink:href=\"#ArialMT-48\"/>\r\n     <use x=\"55.615234\" xlink:href=\"#ArialMT-46\"/>\r\n     <use x=\"83.398438\" xlink:href=\"#ArialMT-48\"/>\r\n     <use x=\"139.013672\" xlink:href=\"#ArialMT-48\"/>\r\n     <use x=\"194.628906\" xlink:href=\"#ArialMT-54\"/>\r\n     <use x=\"250.244141\" xlink:href=\"#ArialMT-57\"/>\r\n    </g>\r\n   </g>\r\n   <g id=\"text_63\">\r\n    <!-- 1 -->\r\n    <g style=\"fill:#262626;\" transform=\"translate(309.157165 216.147556)scale(0.12 -0.12)\">\r\n     <use xlink:href=\"#ArialMT-49\"/>\r\n    </g>\r\n   </g>\r\n  </g>\r\n  <g id=\"axes_2\">\r\n   <g id=\"patch_3\">\r\n    <path clip-path=\"url(#p247bcacad0)\" d=\"M 348.365156 228.576797 \r\nL 348.365156 227.727422 \r\nL 348.365156 11.986172 \r\nL 348.365156 11.136797 \r\nL 359.237156 11.136797 \r\nL 359.237156 11.986172 \r\nL 359.237156 227.727422 \r\nL 359.237156 228.576797 \r\nz\r\n\" style=\"fill:#eaeaf2;stroke:#eaeaf2;stroke-linejoin:miter;stroke-width:0.01;\"/>\r\n   </g>\r\n   <g id=\"matplotlib.axis_3\"/>\r\n   <g id=\"matplotlib.axis_4\">\r\n    <g id=\"ytick_8\">\r\n     <g id=\"line2d_1\">\r\n      <defs>\r\n       <path d=\"M 0 0 \r\nL 6 0 \r\n\" id=\"mae3545ea3a\" style=\"stroke:#262626;stroke-width:1.25;\"/>\r\n      </defs>\r\n      <g>\r\n       <use style=\"fill:#262626;stroke:#262626;stroke-width:1.25;\" x=\"359.237156\" xlink:href=\"#mae3545ea3a\" y=\"215.954114\"/>\r\n      </g>\r\n     </g>\r\n     <g id=\"text_64\">\r\n      <!-- −0.4 -->\r\n      <g style=\"fill:#262626;\" transform=\"translate(368.737156 219.890911)scale(0.11 -0.11)\">\r\n       <defs>\r\n        <path d=\"M 52.828125 31.203125 \r\nL 5.5625 31.203125 \r\nL 5.5625 39.40625 \r\nL 52.828125 39.40625 \r\nz\r\n\" id=\"ArialMT-8722\"/>\r\n       </defs>\r\n       <use xlink:href=\"#ArialMT-8722\"/>\r\n       <use x=\"58.398438\" xlink:href=\"#ArialMT-48\"/>\r\n       <use x=\"114.013672\" xlink:href=\"#ArialMT-46\"/>\r\n       <use x=\"141.796875\" xlink:href=\"#ArialMT-52\"/>\r\n      </g>\r\n     </g>\r\n    </g>\r\n    <g id=\"ytick_9\">\r\n     <g id=\"line2d_2\">\r\n      <g>\r\n       <use style=\"fill:#262626;stroke:#262626;stroke-width:1.25;\" x=\"359.237156\" xlink:href=\"#mae3545ea3a\" y=\"186.694497\"/>\r\n      </g>\r\n     </g>\r\n     <g id=\"text_65\">\r\n      <!-- −0.2 -->\r\n      <g style=\"fill:#262626;\" transform=\"translate(368.737156 190.631294)scale(0.11 -0.11)\">\r\n       <use xlink:href=\"#ArialMT-8722\"/>\r\n       <use x=\"58.398438\" xlink:href=\"#ArialMT-48\"/>\r\n       <use x=\"114.013672\" xlink:href=\"#ArialMT-46\"/>\r\n       <use x=\"141.796875\" xlink:href=\"#ArialMT-50\"/>\r\n      </g>\r\n     </g>\r\n    </g>\r\n    <g id=\"ytick_10\">\r\n     <g id=\"line2d_3\">\r\n      <g>\r\n       <use style=\"fill:#262626;stroke:#262626;stroke-width:1.25;\" x=\"359.237156\" xlink:href=\"#mae3545ea3a\" y=\"157.43488\"/>\r\n      </g>\r\n     </g>\r\n     <g id=\"text_66\">\r\n      <!-- 0.0 -->\r\n      <g style=\"fill:#262626;\" transform=\"translate(368.737156 161.371677)scale(0.11 -0.11)\">\r\n       <use xlink:href=\"#ArialMT-48\"/>\r\n       <use x=\"55.615234\" xlink:href=\"#ArialMT-46\"/>\r\n       <use x=\"83.398438\" xlink:href=\"#ArialMT-48\"/>\r\n      </g>\r\n     </g>\r\n    </g>\r\n    <g id=\"ytick_11\">\r\n     <g id=\"line2d_4\">\r\n      <g>\r\n       <use style=\"fill:#262626;stroke:#262626;stroke-width:1.25;\" x=\"359.237156\" xlink:href=\"#mae3545ea3a\" y=\"128.175264\"/>\r\n      </g>\r\n     </g>\r\n     <g id=\"text_67\">\r\n      <!-- 0.2 -->\r\n      <g style=\"fill:#262626;\" transform=\"translate(368.737156 132.11206)scale(0.11 -0.11)\">\r\n       <use xlink:href=\"#ArialMT-48\"/>\r\n       <use x=\"55.615234\" xlink:href=\"#ArialMT-46\"/>\r\n       <use x=\"83.398438\" xlink:href=\"#ArialMT-50\"/>\r\n      </g>\r\n     </g>\r\n    </g>\r\n    <g id=\"ytick_12\">\r\n     <g id=\"line2d_5\">\r\n      <g>\r\n       <use style=\"fill:#262626;stroke:#262626;stroke-width:1.25;\" x=\"359.237156\" xlink:href=\"#mae3545ea3a\" y=\"98.915647\"/>\r\n      </g>\r\n     </g>\r\n     <g id=\"text_68\">\r\n      <!-- 0.4 -->\r\n      <g style=\"fill:#262626;\" transform=\"translate(368.737156 102.852444)scale(0.11 -0.11)\">\r\n       <use xlink:href=\"#ArialMT-48\"/>\r\n       <use x=\"55.615234\" xlink:href=\"#ArialMT-46\"/>\r\n       <use x=\"83.398438\" xlink:href=\"#ArialMT-52\"/>\r\n      </g>\r\n     </g>\r\n    </g>\r\n    <g id=\"ytick_13\">\r\n     <g id=\"line2d_6\">\r\n      <g>\r\n       <use style=\"fill:#262626;stroke:#262626;stroke-width:1.25;\" x=\"359.237156\" xlink:href=\"#mae3545ea3a\" y=\"69.65603\"/>\r\n      </g>\r\n     </g>\r\n     <g id=\"text_69\">\r\n      <!-- 0.6 -->\r\n      <g style=\"fill:#262626;\" transform=\"translate(368.737156 73.592827)scale(0.11 -0.11)\">\r\n       <use xlink:href=\"#ArialMT-48\"/>\r\n       <use x=\"55.615234\" xlink:href=\"#ArialMT-46\"/>\r\n       <use x=\"83.398438\" xlink:href=\"#ArialMT-54\"/>\r\n      </g>\r\n     </g>\r\n    </g>\r\n    <g id=\"ytick_14\">\r\n     <g id=\"line2d_7\">\r\n      <g>\r\n       <use style=\"fill:#262626;stroke:#262626;stroke-width:1.25;\" x=\"359.237156\" xlink:href=\"#mae3545ea3a\" y=\"40.396414\"/>\r\n      </g>\r\n     </g>\r\n     <g id=\"text_70\">\r\n      <!-- 0.8 -->\r\n      <g style=\"fill:#262626;\" transform=\"translate(368.737156 44.33321)scale(0.11 -0.11)\">\r\n       <use xlink:href=\"#ArialMT-48\"/>\r\n       <use x=\"55.615234\" xlink:href=\"#ArialMT-46\"/>\r\n       <use x=\"83.398438\" xlink:href=\"#ArialMT-56\"/>\r\n      </g>\r\n     </g>\r\n    </g>\r\n    <g id=\"ytick_15\">\r\n     <g id=\"line2d_8\">\r\n      <g>\r\n       <use style=\"fill:#262626;stroke:#262626;stroke-width:1.25;\" x=\"359.237156\" xlink:href=\"#mae3545ea3a\" y=\"11.136797\"/>\r\n      </g>\r\n     </g>\r\n     <g id=\"text_71\">\r\n      <!-- 1.0 -->\r\n      <g style=\"fill:#262626;\" transform=\"translate(368.737156 15.073594)scale(0.11 -0.11)\">\r\n       <use xlink:href=\"#ArialMT-49\"/>\r\n       <use x=\"55.615234\" xlink:href=\"#ArialMT-46\"/>\r\n       <use x=\"83.398438\" xlink:href=\"#ArialMT-48\"/>\r\n      </g>\r\n     </g>\r\n    </g>\r\n   </g>\r\n   <image height=\"217.44\" id=\"imagefcc677b8b5\" transform=\"scale(1 -1)translate(0 -217.44)\" width=\"10.8\" x=\"348.48\" xlink:href=\"data:image/png;base64,\r\niVBORw0KGgoAAAANSUhEUgAAAC0AAAOKCAYAAAAP69lRAAAFV0lEQVR4nO3d0W0bQRAFwdvTOgnnn6cUg/RRxAO6ImgQh5ndo2ifr3//v58x76cD/mIy+p5PF/zB5CddtHLP2XuqJz/pyegeD6Vo5Z6nZ5qYjG7kKUUr9+2ZNiaj24hK0UojT5mM7pSnFK3ctzVuTEY38pSilU55StFKc1qZjO6UpxStNPKUyejeTytFK91clMnoNqJStNLNRZmMbuQpRSuNPGUy+p6z171X/BTt9LJGmYzuvYdStNLIU4pWmtPKZHQjTylaaeQpk9GNPKVopZGnTEY38pSilb6SUyaj+ysEpWilkadMRjfylKKVbi7KZHQbUSlaaY0rRSvNaWUyusdDKVrpfxlRJqP7xlYpWulljTIZ3SlPKVrpZY0yGd3IU4pWOuUpk9F3sXqxuWimU54yGd0pTyla6ZSnFK10NFUmo1vjStFKNxdlMrqNqBStdHNRJqM75SlFK61xZTK6jagUrbTGlcnofn2hFK30kxFlMrpLgFK00s1FKVppTiuT0Y08pWilkadMRvcuTyla6QWkMhndyFOKVjrlKZPRXWyVopVGnjIZ3SVAKVrp5qIUrbTGlcno1rhStNIaVyaj24hK0UprXJmMbiMqRSv3/f50wu9NftKT0Z3ylKKVTnnKZHQjTyla6eaiTEa3EZWilda4UrTSyxplMro1rhSttMaVyegeD6VopVOeMhndKU8pWmmNK5PRPR5K0co9nfKMyehGnlK00jOtTEb33kMpWulljVK00hpXJqNb40rRSmtcmYy+77M38yY/6aKV1rgyGd0lQCla6ZSnTEbf93tvJU5+0kUrrXFlMrqNqBSt9LJGmYzuvYdStHJPI88oWunmokxG93goRSutcWUyupGnFK008pTJ6N7lKUUr9x380mXyk56MbiMqRSvdXJTJ6HsG/62MyU+6aOW+PdPGZHR/eKUUrTTylKKVjqbKZHQjTylauWfwbDr5SU9GtxGVopXWuDIZ3UZUilZa48pkdBtRKVq5Z/Cnn5Of9GR0pzylaKWRp0xGdwlQila6uShFK/cMZg8mj0a3xpWilW4uymR0L2uUopVGnjIZ3eOhFK20xpXJ6EaeUrTSuzxlMrp3eUrRSiNPmYzulKcUrTTylKKV+3Q0NSajG3lK0UrPtDIZ3eOhFK3cxezB5NHoRp5StNLIUyajG3lK0UojT5mMvmfwPyma/KSLVhp5ymR0I08pWmnkKUUr92lOG5PRrXGlaKU1rkxGtxGVopXWuDIZ3chTilZ6ppXJ6HsG/62MyU+6aKWRp0xG93goRSv3efe694qf0ehGnlK00rs8pWilOa1MRt9n8Dcje8VP0U4jT5mM7vFQilbu6WWNMRndyFOKVrq5KJPRjTylaKWv5JTJ6EaeUrTSKU+ZjG7kKUUrvctTilaa08pkdKc8pWilkadMRvcuTylauU+//DQmoxt5StFKz7QyGd0lQCla6WWNMhndRlSKVvphsFK00hpXJqNb40rRSs+0Mhnd1xdK0UojT5mM7hKgFK008pTJ6B4PpWilm4syGd3IU4pWeqaVyegutkrRSiNPKVppTiuT0Y08pWilkadMRjfylKKVnmllMrqNqBStNPKUyehGnlK00shTJqMbeUrRSiNPmYy+53x9uuHXJj/popVGnlK00jOtTEZ3c1GKVhp5ymR0I08pWrnP222cmIxu5ClFK53ylMnoRp5StNJ3LspkdBtRKVppjSuT0Y08pWilkacUrfR+WpmMbuQpRSsdTZXJ6HsaeUbRSiNPmYzulKcUrXSxVSajG3lK0UqnPGUyuoutUrTSyFMmozvlKUUrXWyVopUfrewy046B7aMAAAAASUVORK5CYII=\" y=\"-11.04\"/>\r\n   <g id=\"patch_4\">\r\n    <path d=\"M 348.365156 228.576797 \r\nL 348.365156 227.727422 \r\nL 348.365156 11.986172 \r\nL 348.365156 11.136797 \r\nL 359.237156 11.136797 \r\nL 359.237156 11.986172 \r\nL 359.237156 227.727422 \r\nL 359.237156 228.576797 \r\nz\r\n\" style=\"fill:none;\"/>\r\n   </g>\r\n  </g>\r\n </g>\r\n <defs>\r\n  <clipPath id=\"p194b2752ea\">\r\n   <rect height=\"217.44\" width=\"267.84\" x=\"63.785156\" y=\"11.136797\"/>\r\n  </clipPath>\r\n  <clipPath id=\"p247bcacad0\">\r\n   <rect height=\"217.44\" width=\"10.872\" x=\"348.365156\" y=\"11.136797\"/>\r\n  </clipPath>\r\n </defs>\r\n</svg>\r\n",
      "image/png": "[encoded data removed]"
     },
     "metadata": {}
    }
   ],
   "metadata": {}
  },
  {
   "cell_type": "markdown",
   "source": [
    "Se puede ver que la carne, las aves y las frutas están altamente correlacionadas. Sin embargo, con PCA podremos visualizar estas relaciones de forma más directa. \r\n",
    "\r\n",
    "Ahora que tenemos la matriz simétrica $S$ encontramos los eigenvalores/eigenvectores"
   ],
   "metadata": {}
  },
  {
   "cell_type": "code",
   "execution_count": 8,
   "source": [
    "import numpy as np \r\n",
    "\r\n",
    "w, v = np.linalg.eig(S)"
   ],
   "outputs": [],
   "metadata": {}
  },
  {
   "cell_type": "code",
   "execution_count": 9,
   "source": [
    "# Eigenvalores\r\n",
    "w"
   ],
   "outputs": [
    {
     "output_type": "execute_result",
     "data": {
      "text/plain": [
       "array([4.33323732e+00, 1.83029017e+00, 6.30836424e-01, 1.28327501e-01,\n",
       "       5.75561897e-02, 1.88486021e-02, 9.03796789e-04])"
      ]
     },
     "metadata": {},
     "execution_count": 9
    }
   ],
   "metadata": {}
  },
  {
   "cell_type": "code",
   "execution_count": 10,
   "source": [
    "# Matriz de eigenvectores\r\n",
    "pd.DataFrame(v)"
   ],
   "outputs": [
    {
     "output_type": "execute_result",
     "data": {
      "text/plain": [
       "          0         1         2         3         4         5         6\n",
       "0 -0.239583 -0.622095 -0.010858  0.543678 -0.036345  0.507945 -0.023775\n",
       "1 -0.465856 -0.098381 -0.062147  0.023001  0.808712 -0.301009  0.155839\n",
       "2 -0.446345  0.205422  0.145397 -0.547573  0.066881  0.625461 -0.204762\n",
       "3 -0.462181  0.141232  0.207341  0.053285 -0.411091 -0.092550  0.736920\n",
       "4 -0.437755  0.196540  0.355897  0.324387 -0.223787 -0.349677 -0.604565\n",
       "5 -0.280713 -0.522511 -0.443539 -0.449600 -0.341134 -0.332051 -0.150617\n",
       "6  0.205703 -0.479091  0.780064 -0.306338  0.068860 -0.138156  0.044565"
      ],
      "text/html": [
       "<div>\n",
       "<style scoped>\n",
       "    .dataframe tbody tr th:only-of-type {\n",
       "        vertical-align: middle;\n",
       "    }\n",
       "\n",
       "    .dataframe tbody tr th {\n",
       "        vertical-align: top;\n",
       "    }\n",
       "\n",
       "    .dataframe thead th {\n",
       "        text-align: right;\n",
       "    }\n",
       "</style>\n",
       "<table border=\"1\" class=\"dataframe\">\n",
       "  <thead>\n",
       "    <tr style=\"text-align: right;\">\n",
       "      <th></th>\n",
       "      <th>0</th>\n",
       "      <th>1</th>\n",
       "      <th>2</th>\n",
       "      <th>3</th>\n",
       "      <th>4</th>\n",
       "      <th>5</th>\n",
       "      <th>6</th>\n",
       "    </tr>\n",
       "  </thead>\n",
       "  <tbody>\n",
       "    <tr>\n",
       "      <th>0</th>\n",
       "      <td>-0.239583</td>\n",
       "      <td>-0.622095</td>\n",
       "      <td>-0.010858</td>\n",
       "      <td>0.543678</td>\n",
       "      <td>-0.036345</td>\n",
       "      <td>0.507945</td>\n",
       "      <td>-0.023775</td>\n",
       "    </tr>\n",
       "    <tr>\n",
       "      <th>1</th>\n",
       "      <td>-0.465856</td>\n",
       "      <td>-0.098381</td>\n",
       "      <td>-0.062147</td>\n",
       "      <td>0.023001</td>\n",
       "      <td>0.808712</td>\n",
       "      <td>-0.301009</td>\n",
       "      <td>0.155839</td>\n",
       "    </tr>\n",
       "    <tr>\n",
       "      <th>2</th>\n",
       "      <td>-0.446345</td>\n",
       "      <td>0.205422</td>\n",
       "      <td>0.145397</td>\n",
       "      <td>-0.547573</td>\n",
       "      <td>0.066881</td>\n",
       "      <td>0.625461</td>\n",
       "      <td>-0.204762</td>\n",
       "    </tr>\n",
       "    <tr>\n",
       "      <th>3</th>\n",
       "      <td>-0.462181</td>\n",
       "      <td>0.141232</td>\n",
       "      <td>0.207341</td>\n",
       "      <td>0.053285</td>\n",
       "      <td>-0.411091</td>\n",
       "      <td>-0.092550</td>\n",
       "      <td>0.736920</td>\n",
       "    </tr>\n",
       "    <tr>\n",
       "      <th>4</th>\n",
       "      <td>-0.437755</td>\n",
       "      <td>0.196540</td>\n",
       "      <td>0.355897</td>\n",
       "      <td>0.324387</td>\n",
       "      <td>-0.223787</td>\n",
       "      <td>-0.349677</td>\n",
       "      <td>-0.604565</td>\n",
       "    </tr>\n",
       "    <tr>\n",
       "      <th>5</th>\n",
       "      <td>-0.280713</td>\n",
       "      <td>-0.522511</td>\n",
       "      <td>-0.443539</td>\n",
       "      <td>-0.449600</td>\n",
       "      <td>-0.341134</td>\n",
       "      <td>-0.332051</td>\n",
       "      <td>-0.150617</td>\n",
       "    </tr>\n",
       "    <tr>\n",
       "      <th>6</th>\n",
       "      <td>0.205703</td>\n",
       "      <td>-0.479091</td>\n",
       "      <td>0.780064</td>\n",
       "      <td>-0.306338</td>\n",
       "      <td>0.068860</td>\n",
       "      <td>-0.138156</td>\n",
       "      <td>0.044565</td>\n",
       "    </tr>\n",
       "  </tbody>\n",
       "</table>\n",
       "</div>"
      ]
     },
     "metadata": {},
     "execution_count": 10
    }
   ],
   "metadata": {}
  },
  {
   "cell_type": "markdown",
   "source": [
    "Para construir nuestro componente principal $z_i$ debemos multiplicar nuestra matriz original $X$ por el eigenvector $a_i$. De modo que para hallar todos los $p$ componentes principales solo debemos realizar la operación $Z=X a$ en donde $Z$ es la matriz de componentes principales ordenados del más importante al menos importante."
   ],
   "metadata": {}
  },
  {
   "cell_type": "code",
   "execution_count": 11,
   "source": [
    "# Construimos nuestros Componentes Principales\r\n",
    "cp = X.dot(v).reset_index(drop = True)"
   ],
   "outputs": [],
   "metadata": {}
  },
  {
   "cell_type": "markdown",
   "source": [
    "Ahora vamos a ver qué tanta varianza explican cada uno de los componentes principales a partir de los eigenvalores."
   ],
   "metadata": {}
  },
  {
   "cell_type": "code",
   "execution_count": 12,
   "source": [
    "var_exp = pd.DataFrame(100*w/w.sum()) \\\r\n",
    "    .assign(var = lambda x: (100*x/x.sum()).cumsum(), e = list(range(1, 8)))\r\n",
    "var_exp.columns = [\"Varianza explicada\", \r\n",
    "    \"Varianza explicada (acumulada)\", \"Eigenvalor\"]\r\n",
    "var_exp"
   ],
   "outputs": [
    {
     "output_type": "execute_result",
     "data": {
      "text/plain": [
       "   Varianza explicada  Varianza explicada (acumulada)  Eigenvalor\n",
       "0           61.903390                       61.903390           1\n",
       "1           26.147002                       88.050393           2\n",
       "2            9.011949                       97.062342           3\n",
       "3            1.833250                       98.895592           4\n",
       "4            0.822231                       99.717823           5\n",
       "5            0.269266                       99.987089           6\n",
       "6            0.012911                      100.000000           7"
      ],
      "text/html": [
       "<div>\n",
       "<style scoped>\n",
       "    .dataframe tbody tr th:only-of-type {\n",
       "        vertical-align: middle;\n",
       "    }\n",
       "\n",
       "    .dataframe tbody tr th {\n",
       "        vertical-align: top;\n",
       "    }\n",
       "\n",
       "    .dataframe thead th {\n",
       "        text-align: right;\n",
       "    }\n",
       "</style>\n",
       "<table border=\"1\" class=\"dataframe\">\n",
       "  <thead>\n",
       "    <tr style=\"text-align: right;\">\n",
       "      <th></th>\n",
       "      <th>Varianza explicada</th>\n",
       "      <th>Varianza explicada (acumulada)</th>\n",
       "      <th>Eigenvalor</th>\n",
       "    </tr>\n",
       "  </thead>\n",
       "  <tbody>\n",
       "    <tr>\n",
       "      <th>0</th>\n",
       "      <td>61.903390</td>\n",
       "      <td>61.903390</td>\n",
       "      <td>1</td>\n",
       "    </tr>\n",
       "    <tr>\n",
       "      <th>1</th>\n",
       "      <td>26.147002</td>\n",
       "      <td>88.050393</td>\n",
       "      <td>2</td>\n",
       "    </tr>\n",
       "    <tr>\n",
       "      <th>2</th>\n",
       "      <td>9.011949</td>\n",
       "      <td>97.062342</td>\n",
       "      <td>3</td>\n",
       "    </tr>\n",
       "    <tr>\n",
       "      <th>3</th>\n",
       "      <td>1.833250</td>\n",
       "      <td>98.895592</td>\n",
       "      <td>4</td>\n",
       "    </tr>\n",
       "    <tr>\n",
       "      <th>4</th>\n",
       "      <td>0.822231</td>\n",
       "      <td>99.717823</td>\n",
       "      <td>5</td>\n",
       "    </tr>\n",
       "    <tr>\n",
       "      <th>5</th>\n",
       "      <td>0.269266</td>\n",
       "      <td>99.987089</td>\n",
       "      <td>6</td>\n",
       "    </tr>\n",
       "    <tr>\n",
       "      <th>6</th>\n",
       "      <td>0.012911</td>\n",
       "      <td>100.000000</td>\n",
       "      <td>7</td>\n",
       "    </tr>\n",
       "  </tbody>\n",
       "</table>\n",
       "</div>"
      ]
     },
     "metadata": {},
     "execution_count": 12
    }
   ],
   "metadata": {}
  },
  {
   "cell_type": "code",
   "execution_count": 13,
   "source": [
    "import matplotlib.ticker as mtick\r\n",
    "\r\n",
    "# Calidad del gráfico\r\n",
    "sns.set(rc = {\"figure.dpi\": 150})\r\n",
    "# Dos gráficos en uno (una fila, dos columnas)\r\n",
    "fig, ax = plt.subplots(1,2)\r\n",
    "# Distancia horizontal entre gráficos\r\n",
    "fig.tight_layout(pad = 3)\r\n",
    "# Marcas del eje x\r\n",
    "plt.setp(ax, xticks = range(1, 8))\r\n",
    "\r\n",
    "# Gráfico 1\r\n",
    "g1 = sns.lineplot(data = var_exp, x = \"Eigenvalor\", y = \"Varianza explicada\", \r\n",
    "    ax = ax[0])\r\n",
    "# Eje y en porcentaje\r\n",
    "g1.axes.yaxis.set_major_formatter(mtick.PercentFormatter())\r\n",
    "\r\n",
    "# Gráfico 2\r\n",
    "g2 = sns.lineplot(data = var_exp, x = \"Eigenvalor\", y = \"Varianza explicada (acumulada)\", \r\n",
    "    ax = ax[1])\r\n",
    "# Eje y en porcentaje\r\n",
    "g2.axes.yaxis.set_major_formatter(mtick.PercentFormatter())"
   ],
   "outputs": [
    {
     "output_type": "display_data",
     "data": {
      "text/plain": [
       "<Figure size 900x600 with 2 Axes>"
      ],
      "image/svg+xml": "<?xml version=\"1.0\" encoding=\"utf-8\" standalone=\"no\"?>\r\n<!DOCTYPE svg PUBLIC \"-//W3C//DTD SVG 1.1//EN\"\r\n  \"http://www.w3.org/Graphics/SVG/1.1/DTD/svg11.dtd\">\r\n<!-- Created with matplotlib (https://matplotlib.org/) -->\r\n<svg height=\"242.134844pt\" version=\"1.1\" viewBox=\"0 0 385.379844 242.134844\" width=\"385.379844pt\" xmlns=\"http://www.w3.org/2000/svg\" xmlns:xlink=\"http://www.w3.org/1999/xlink\">\r\n <metadata>\r\n  <rdf:RDF xmlns:cc=\"http://creativecommons.org/ns#\" xmlns:dc=\"http://purl.org/dc/elements/1.1/\" xmlns:rdf=\"http://www.w3.org/1999/02/22-rdf-syntax-ns#\">\r\n   <cc:Work>\r\n    <dc:type rdf:resource=\"http://purl.org/dc/dcmitype/StillImage\"/>\r\n    <dc:date>2021-08-23T19:38:52.838284</dc:date>\r\n    <dc:format>image/svg+xml</dc:format>\r\n    <dc:creator>\r\n     <cc:Agent>\r\n      <dc:title>Matplotlib v3.3.2, https://matplotlib.org/</dc:title>\r\n     </cc:Agent>\r\n    </dc:creator>\r\n   </cc:Work>\r\n  </rdf:RDF>\r\n </metadata>\r\n <defs>\r\n  <style type=\"text/css\">*{stroke-linecap:butt;stroke-linejoin:round;}</style>\r\n </defs>\r\n <g id=\"figure_1\">\r\n  <g id=\"patch_1\">\r\n   <path d=\"M 0 242.134844 \r\nL 385.379844 242.134844 \r\nL 385.379844 0 \r\nL 0 0 \r\nz\r\n\" style=\"fill:#ffffff;\"/>\r\n  </g>\r\n  <g id=\"axes_1\">\r\n   <g id=\"patch_2\">\r\n    <path d=\"M 53.689844 200.26 \r\nL 180.179844 200.26 \r\nL 180.179844 7.2 \r\nL 53.689844 7.2 \r\nz\r\n\" style=\"fill:#eaeaf2;\"/>\r\n   </g>\r\n   <g id=\"matplotlib.axis_1\">\r\n    <g id=\"xtick_1\">\r\n     <g id=\"line2d_1\">\r\n      <path clip-path=\"url(#p6b49e4cbad)\" d=\"M 59.439389 200.26 \r\nL 59.439389 7.2 \r\n\" style=\"fill:none;stroke:#ffffff;stroke-linecap:round;\"/>\r\n     </g>\r\n     <g id=\"text_1\">\r\n      <!-- 1 -->\r\n      <g style=\"fill:#262626;\" transform=\"translate(56.380874 217.633594)scale(0.11 -0.11)\">\r\n       <defs>\r\n        <path d=\"M 37.25 0 \r\nL 28.46875 0 \r\nL 28.46875 56 \r\nQ 25.296875 52.984375 20.140625 49.953125 \r\nQ 14.984375 46.921875 10.890625 45.40625 \r\nL 10.890625 53.90625 \r\nQ 18.265625 57.375 23.78125 62.296875 \r\nQ 29.296875 67.234375 31.59375 71.875 \r\nL 37.25 71.875 \r\nz\r\n\" id=\"ArialMT-49\"/>\r\n       </defs>\r\n       <use xlink:href=\"#ArialMT-49\"/>\r\n      </g>\r\n     </g>\r\n    </g>\r\n    <g id=\"xtick_2\">\r\n     <g id=\"line2d_2\">\r\n      <path clip-path=\"url(#p6b49e4cbad)\" d=\"M 78.604541 200.26 \r\nL 78.604541 7.2 \r\n\" style=\"fill:none;stroke:#ffffff;stroke-linecap:round;\"/>\r\n     </g>\r\n     <g id=\"text_2\">\r\n      <!-- 2 -->\r\n      <g style=\"fill:#262626;\" transform=\"translate(75.546025 217.633594)scale(0.11 -0.11)\">\r\n       <defs>\r\n        <path d=\"M 50.34375 8.453125 \r\nL 50.34375 0 \r\nL 3.03125 0 \r\nQ 2.9375 3.171875 4.046875 6.109375 \r\nQ 5.859375 10.9375 9.828125 15.625 \r\nQ 13.8125 20.3125 21.34375 26.46875 \r\nQ 33.015625 36.03125 37.109375 41.625 \r\nQ 41.21875 47.21875 41.21875 52.203125 \r\nQ 41.21875 57.421875 37.46875 61 \r\nQ 33.734375 64.59375 27.734375 64.59375 \r\nQ 21.390625 64.59375 17.578125 60.78125 \r\nQ 13.765625 56.984375 13.71875 50.25 \r\nL 4.6875 51.171875 \r\nQ 5.609375 61.28125 11.65625 66.578125 \r\nQ 17.71875 71.875 27.9375 71.875 \r\nQ 38.234375 71.875 44.234375 66.15625 \r\nQ 50.25 60.453125 50.25 52 \r\nQ 50.25 47.703125 48.484375 43.546875 \r\nQ 46.734375 39.40625 42.65625 34.8125 \r\nQ 38.578125 30.21875 29.109375 22.21875 \r\nQ 21.1875 15.578125 18.9375 13.203125 \r\nQ 16.703125 10.84375 15.234375 8.453125 \r\nz\r\n\" id=\"ArialMT-50\"/>\r\n       </defs>\r\n       <use xlink:href=\"#ArialMT-50\"/>\r\n      </g>\r\n     </g>\r\n    </g>\r\n    <g id=\"xtick_3\">\r\n     <g id=\"line2d_3\">\r\n      <path clip-path=\"url(#p6b49e4cbad)\" d=\"M 97.769692 200.26 \r\nL 97.769692 7.2 \r\n\" style=\"fill:none;stroke:#ffffff;stroke-linecap:round;\"/>\r\n     </g>\r\n     <g id=\"text_3\">\r\n      <!-- 3 -->\r\n      <g style=\"fill:#262626;\" transform=\"translate(94.711177 217.633594)scale(0.11 -0.11)\">\r\n       <defs>\r\n        <path d=\"M 4.203125 18.890625 \r\nL 12.984375 20.0625 \r\nQ 14.5 12.59375 18.140625 9.296875 \r\nQ 21.78125 6 27 6 \r\nQ 33.203125 6 37.46875 10.296875 \r\nQ 41.75 14.59375 41.75 20.953125 \r\nQ 41.75 27 37.796875 30.921875 \r\nQ 33.84375 34.859375 27.734375 34.859375 \r\nQ 25.25 34.859375 21.53125 33.890625 \r\nL 22.515625 41.609375 \r\nQ 23.390625 41.5 23.921875 41.5 \r\nQ 29.546875 41.5 34.03125 44.421875 \r\nQ 38.53125 47.359375 38.53125 53.46875 \r\nQ 38.53125 58.296875 35.25 61.46875 \r\nQ 31.984375 64.65625 26.8125 64.65625 \r\nQ 21.6875 64.65625 18.265625 61.421875 \r\nQ 14.84375 58.203125 13.875 51.765625 \r\nL 5.078125 53.328125 \r\nQ 6.6875 62.15625 12.390625 67.015625 \r\nQ 18.109375 71.875 26.609375 71.875 \r\nQ 32.46875 71.875 37.390625 69.359375 \r\nQ 42.328125 66.84375 44.9375 62.5 \r\nQ 47.5625 58.15625 47.5625 53.265625 \r\nQ 47.5625 48.640625 45.0625 44.828125 \r\nQ 42.578125 41.015625 37.703125 38.765625 \r\nQ 44.046875 37.3125 47.5625 32.6875 \r\nQ 51.078125 28.078125 51.078125 21.140625 \r\nQ 51.078125 11.765625 44.234375 5.25 \r\nQ 37.40625 -1.265625 26.953125 -1.265625 \r\nQ 17.53125 -1.265625 11.296875 4.34375 \r\nQ 5.078125 9.96875 4.203125 18.890625 \r\nz\r\n\" id=\"ArialMT-51\"/>\r\n       </defs>\r\n       <use xlink:href=\"#ArialMT-51\"/>\r\n      </g>\r\n     </g>\r\n    </g>\r\n    <g id=\"xtick_4\">\r\n     <g id=\"line2d_4\">\r\n      <path clip-path=\"url(#p6b49e4cbad)\" d=\"M 116.934844 200.26 \r\nL 116.934844 7.2 \r\n\" style=\"fill:none;stroke:#ffffff;stroke-linecap:round;\"/>\r\n     </g>\r\n     <g id=\"text_4\">\r\n      <!-- 4 -->\r\n      <g style=\"fill:#262626;\" transform=\"translate(113.876328 217.633594)scale(0.11 -0.11)\">\r\n       <defs>\r\n        <path d=\"M 32.328125 0 \r\nL 32.328125 17.140625 \r\nL 1.265625 17.140625 \r\nL 1.265625 25.203125 \r\nL 33.9375 71.578125 \r\nL 41.109375 71.578125 \r\nL 41.109375 25.203125 \r\nL 50.78125 25.203125 \r\nL 50.78125 17.140625 \r\nL 41.109375 17.140625 \r\nL 41.109375 0 \r\nz\r\nM 32.328125 25.203125 \r\nL 32.328125 57.46875 \r\nL 9.90625 25.203125 \r\nz\r\n\" id=\"ArialMT-52\"/>\r\n       </defs>\r\n       <use xlink:href=\"#ArialMT-52\"/>\r\n      </g>\r\n     </g>\r\n    </g>\r\n    <g id=\"xtick_5\">\r\n     <g id=\"line2d_5\">\r\n      <path clip-path=\"url(#p6b49e4cbad)\" d=\"M 136.099995 200.26 \r\nL 136.099995 7.2 \r\n\" style=\"fill:none;stroke:#ffffff;stroke-linecap:round;\"/>\r\n     </g>\r\n     <g id=\"text_5\">\r\n      <!-- 5 -->\r\n      <g style=\"fill:#262626;\" transform=\"translate(133.04148 217.633594)scale(0.11 -0.11)\">\r\n       <defs>\r\n        <path d=\"M 4.15625 18.75 \r\nL 13.375 19.53125 \r\nQ 14.40625 12.796875 18.140625 9.390625 \r\nQ 21.875 6 27.15625 6 \r\nQ 33.5 6 37.890625 10.78125 \r\nQ 42.28125 15.578125 42.28125 23.484375 \r\nQ 42.28125 31 38.0625 35.34375 \r\nQ 33.84375 39.703125 27 39.703125 \r\nQ 22.75 39.703125 19.328125 37.765625 \r\nQ 15.921875 35.84375 13.96875 32.765625 \r\nL 5.71875 33.84375 \r\nL 12.640625 70.609375 \r\nL 48.25 70.609375 \r\nL 48.25 62.203125 \r\nL 19.671875 62.203125 \r\nL 15.828125 42.96875 \r\nQ 22.265625 47.46875 29.34375 47.46875 \r\nQ 38.71875 47.46875 45.15625 40.96875 \r\nQ 51.609375 34.46875 51.609375 24.265625 \r\nQ 51.609375 14.546875 45.953125 7.46875 \r\nQ 39.0625 -1.21875 27.15625 -1.21875 \r\nQ 17.390625 -1.21875 11.203125 4.25 \r\nQ 5.03125 9.71875 4.15625 18.75 \r\nz\r\n\" id=\"ArialMT-53\"/>\r\n       </defs>\r\n       <use xlink:href=\"#ArialMT-53\"/>\r\n      </g>\r\n     </g>\r\n    </g>\r\n    <g id=\"xtick_6\">\r\n     <g id=\"line2d_6\">\r\n      <path clip-path=\"url(#p6b49e4cbad)\" d=\"M 155.265147 200.26 \r\nL 155.265147 7.2 \r\n\" style=\"fill:none;stroke:#ffffff;stroke-linecap:round;\"/>\r\n     </g>\r\n     <g id=\"text_6\">\r\n      <!-- 6 -->\r\n      <g style=\"fill:#262626;\" transform=\"translate(152.206631 217.633594)scale(0.11 -0.11)\">\r\n       <defs>\r\n        <path d=\"M 49.75 54.046875 \r\nL 41.015625 53.375 \r\nQ 39.84375 58.546875 37.703125 60.890625 \r\nQ 34.125 64.65625 28.90625 64.65625 \r\nQ 24.703125 64.65625 21.53125 62.3125 \r\nQ 17.390625 59.28125 14.984375 53.46875 \r\nQ 12.59375 47.65625 12.5 36.921875 \r\nQ 15.671875 41.75 20.265625 44.09375 \r\nQ 24.859375 46.4375 29.890625 46.4375 \r\nQ 38.671875 46.4375 44.84375 39.96875 \r\nQ 51.03125 33.5 51.03125 23.25 \r\nQ 51.03125 16.5 48.125 10.71875 \r\nQ 45.21875 4.9375 40.140625 1.859375 \r\nQ 35.0625 -1.21875 28.609375 -1.21875 \r\nQ 17.625 -1.21875 10.6875 6.859375 \r\nQ 3.765625 14.9375 3.765625 33.5 \r\nQ 3.765625 54.25 11.421875 63.671875 \r\nQ 18.109375 71.875 29.4375 71.875 \r\nQ 37.890625 71.875 43.28125 67.140625 \r\nQ 48.6875 62.40625 49.75 54.046875 \r\nz\r\nM 13.875 23.1875 \r\nQ 13.875 18.65625 15.796875 14.5 \r\nQ 17.71875 10.359375 21.1875 8.171875 \r\nQ 24.65625 6 28.46875 6 \r\nQ 34.03125 6 38.03125 10.484375 \r\nQ 42.046875 14.984375 42.046875 22.703125 \r\nQ 42.046875 30.125 38.078125 34.390625 \r\nQ 34.125 38.671875 28.125 38.671875 \r\nQ 22.171875 38.671875 18.015625 34.390625 \r\nQ 13.875 30.125 13.875 23.1875 \r\nz\r\n\" id=\"ArialMT-54\"/>\r\n       </defs>\r\n       <use xlink:href=\"#ArialMT-54\"/>\r\n      </g>\r\n     </g>\r\n    </g>\r\n    <g id=\"xtick_7\">\r\n     <g id=\"line2d_7\">\r\n      <path clip-path=\"url(#p6b49e4cbad)\" d=\"M 174.430298 200.26 \r\nL 174.430298 7.2 \r\n\" style=\"fill:none;stroke:#ffffff;stroke-linecap:round;\"/>\r\n     </g>\r\n     <g id=\"text_7\">\r\n      <!-- 7 -->\r\n      <g style=\"fill:#262626;\" transform=\"translate(171.371783 217.633594)scale(0.11 -0.11)\">\r\n       <defs>\r\n        <path d=\"M 4.734375 62.203125 \r\nL 4.734375 70.65625 \r\nL 51.078125 70.65625 \r\nL 51.078125 63.8125 \r\nQ 44.234375 56.546875 37.515625 44.484375 \r\nQ 30.8125 32.421875 27.15625 19.671875 \r\nQ 24.515625 10.6875 23.78125 0 \r\nL 14.75 0 \r\nQ 14.890625 8.453125 18.0625 20.40625 \r\nQ 21.234375 32.375 27.171875 43.484375 \r\nQ 33.109375 54.59375 39.796875 62.203125 \r\nz\r\n\" id=\"ArialMT-55\"/>\r\n       </defs>\r\n       <use xlink:href=\"#ArialMT-55\"/>\r\n      </g>\r\n     </g>\r\n    </g>\r\n    <g id=\"text_8\">\r\n     <!-- Eigenvalor -->\r\n     <g style=\"fill:#262626;\" transform=\"translate(88.585781 232.409219)scale(0.12 -0.12)\">\r\n      <defs>\r\n       <path d=\"M 7.90625 0 \r\nL 7.90625 71.578125 \r\nL 59.671875 71.578125 \r\nL 59.671875 63.140625 \r\nL 17.390625 63.140625 \r\nL 17.390625 41.21875 \r\nL 56.984375 41.21875 \r\nL 56.984375 32.8125 \r\nL 17.390625 32.8125 \r\nL 17.390625 8.453125 \r\nL 61.328125 8.453125 \r\nL 61.328125 0 \r\nz\r\n\" id=\"ArialMT-69\"/>\r\n       <path d=\"M 6.640625 61.46875 \r\nL 6.640625 71.578125 \r\nL 15.4375 71.578125 \r\nL 15.4375 61.46875 \r\nz\r\nM 6.640625 0 \r\nL 6.640625 51.859375 \r\nL 15.4375 51.859375 \r\nL 15.4375 0 \r\nz\r\n\" id=\"ArialMT-105\"/>\r\n       <path d=\"M 4.984375 -4.296875 \r\nL 13.53125 -5.5625 \r\nQ 14.0625 -9.515625 16.5 -11.328125 \r\nQ 19.78125 -13.765625 25.4375 -13.765625 \r\nQ 31.546875 -13.765625 34.859375 -11.328125 \r\nQ 38.1875 -8.890625 39.359375 -4.5 \r\nQ 40.046875 -1.8125 39.984375 6.78125 \r\nQ 34.234375 0 25.640625 0 \r\nQ 14.9375 0 9.078125 7.71875 \r\nQ 3.21875 15.4375 3.21875 26.21875 \r\nQ 3.21875 33.640625 5.90625 39.90625 \r\nQ 8.59375 46.1875 13.6875 49.609375 \r\nQ 18.796875 53.03125 25.6875 53.03125 \r\nQ 34.859375 53.03125 40.828125 45.609375 \r\nL 40.828125 51.859375 \r\nL 48.921875 51.859375 \r\nL 48.921875 7.03125 \r\nQ 48.921875 -5.078125 46.453125 -10.125 \r\nQ 44 -15.1875 38.640625 -18.109375 \r\nQ 33.296875 -21.046875 25.484375 -21.046875 \r\nQ 16.21875 -21.046875 10.5 -16.875 \r\nQ 4.78125 -12.703125 4.984375 -4.296875 \r\nz\r\nM 12.25 26.859375 \r\nQ 12.25 16.65625 16.296875 11.96875 \r\nQ 20.359375 7.28125 26.46875 7.28125 \r\nQ 32.515625 7.28125 36.609375 11.9375 \r\nQ 40.71875 16.609375 40.71875 26.5625 \r\nQ 40.71875 36.078125 36.5 40.90625 \r\nQ 32.28125 45.75 26.3125 45.75 \r\nQ 20.453125 45.75 16.34375 40.984375 \r\nQ 12.25 36.234375 12.25 26.859375 \r\nz\r\n\" id=\"ArialMT-103\"/>\r\n       <path d=\"M 42.09375 16.703125 \r\nL 51.171875 15.578125 \r\nQ 49.03125 7.625 43.21875 3.21875 \r\nQ 37.40625 -1.171875 28.375 -1.171875 \r\nQ 17 -1.171875 10.328125 5.828125 \r\nQ 3.65625 12.84375 3.65625 25.484375 \r\nQ 3.65625 38.578125 10.390625 45.796875 \r\nQ 17.140625 53.03125 27.875 53.03125 \r\nQ 38.28125 53.03125 44.875 45.953125 \r\nQ 51.46875 38.875 51.46875 26.03125 \r\nQ 51.46875 25.25 51.421875 23.6875 \r\nL 12.75 23.6875 \r\nQ 13.234375 15.140625 17.578125 10.59375 \r\nQ 21.921875 6.0625 28.421875 6.0625 \r\nQ 33.25 6.0625 36.671875 8.59375 \r\nQ 40.09375 11.140625 42.09375 16.703125 \r\nz\r\nM 13.234375 30.90625 \r\nL 42.1875 30.90625 \r\nQ 41.609375 37.453125 38.875 40.71875 \r\nQ 34.671875 45.796875 27.984375 45.796875 \r\nQ 21.921875 45.796875 17.796875 41.75 \r\nQ 13.671875 37.703125 13.234375 30.90625 \r\nz\r\n\" id=\"ArialMT-101\"/>\r\n       <path d=\"M 6.59375 0 \r\nL 6.59375 51.859375 \r\nL 14.5 51.859375 \r\nL 14.5 44.484375 \r\nQ 20.21875 53.03125 31 53.03125 \r\nQ 35.6875 53.03125 39.625 51.34375 \r\nQ 43.5625 49.65625 45.515625 46.921875 \r\nQ 47.46875 44.1875 48.25 40.4375 \r\nQ 48.734375 37.984375 48.734375 31.890625 \r\nL 48.734375 0 \r\nL 39.9375 0 \r\nL 39.9375 31.546875 \r\nQ 39.9375 36.921875 38.90625 39.578125 \r\nQ 37.890625 42.234375 35.28125 43.8125 \r\nQ 32.671875 45.40625 29.15625 45.40625 \r\nQ 23.53125 45.40625 19.453125 41.84375 \r\nQ 15.375 38.28125 15.375 28.328125 \r\nL 15.375 0 \r\nz\r\n\" id=\"ArialMT-110\"/>\r\n       <path d=\"M 21 0 \r\nL 1.265625 51.859375 \r\nL 10.546875 51.859375 \r\nL 21.6875 20.796875 \r\nQ 23.484375 15.765625 25 10.359375 \r\nQ 26.171875 14.453125 28.265625 20.21875 \r\nL 39.796875 51.859375 \r\nL 48.828125 51.859375 \r\nL 29.203125 0 \r\nz\r\n\" id=\"ArialMT-118\"/>\r\n       <path d=\"M 40.4375 6.390625 \r\nQ 35.546875 2.25 31.03125 0.53125 \r\nQ 26.515625 -1.171875 21.34375 -1.171875 \r\nQ 12.796875 -1.171875 8.203125 3 \r\nQ 3.609375 7.171875 3.609375 13.671875 \r\nQ 3.609375 17.484375 5.34375 20.625 \r\nQ 7.078125 23.78125 9.890625 25.6875 \r\nQ 12.703125 27.59375 16.21875 28.5625 \r\nQ 18.796875 29.25 24.03125 29.890625 \r\nQ 34.671875 31.15625 39.703125 32.90625 \r\nQ 39.75 34.71875 39.75 35.203125 \r\nQ 39.75 40.578125 37.25 42.78125 \r\nQ 33.890625 45.75 27.25 45.75 \r\nQ 21.046875 45.75 18.09375 43.578125 \r\nQ 15.140625 41.40625 13.71875 35.890625 \r\nL 5.125 37.0625 \r\nQ 6.296875 42.578125 8.984375 45.96875 \r\nQ 11.671875 49.359375 16.75 51.1875 \r\nQ 21.828125 53.03125 28.515625 53.03125 \r\nQ 35.15625 53.03125 39.296875 51.46875 \r\nQ 43.453125 49.90625 45.40625 47.53125 \r\nQ 47.359375 45.171875 48.140625 41.546875 \r\nQ 48.578125 39.3125 48.578125 33.453125 \r\nL 48.578125 21.734375 \r\nQ 48.578125 9.46875 49.140625 6.21875 \r\nQ 49.703125 2.984375 51.375 0 \r\nL 42.1875 0 \r\nQ 40.828125 2.734375 40.4375 6.390625 \r\nz\r\nM 39.703125 26.03125 \r\nQ 34.90625 24.078125 25.34375 22.703125 \r\nQ 19.921875 21.921875 17.671875 20.9375 \r\nQ 15.4375 19.96875 14.203125 18.09375 \r\nQ 12.984375 16.21875 12.984375 13.921875 \r\nQ 12.984375 10.40625 15.640625 8.0625 \r\nQ 18.3125 5.71875 23.4375 5.71875 \r\nQ 28.515625 5.71875 32.46875 7.9375 \r\nQ 36.421875 10.15625 38.28125 14.015625 \r\nQ 39.703125 17 39.703125 22.796875 \r\nz\r\n\" id=\"ArialMT-97\"/>\r\n       <path d=\"M 6.390625 0 \r\nL 6.390625 71.578125 \r\nL 15.1875 71.578125 \r\nL 15.1875 0 \r\nz\r\n\" id=\"ArialMT-108\"/>\r\n       <path d=\"M 3.328125 25.921875 \r\nQ 3.328125 40.328125 11.328125 47.265625 \r\nQ 18.015625 53.03125 27.640625 53.03125 \r\nQ 38.328125 53.03125 45.109375 46.015625 \r\nQ 51.90625 39.015625 51.90625 26.65625 \r\nQ 51.90625 16.65625 48.90625 10.90625 \r\nQ 45.90625 5.171875 40.15625 2 \r\nQ 34.421875 -1.171875 27.640625 -1.171875 \r\nQ 16.75 -1.171875 10.03125 5.8125 \r\nQ 3.328125 12.796875 3.328125 25.921875 \r\nz\r\nM 12.359375 25.921875 \r\nQ 12.359375 15.96875 16.703125 11.015625 \r\nQ 21.046875 6.0625 27.640625 6.0625 \r\nQ 34.1875 6.0625 38.53125 11.03125 \r\nQ 42.875 16.015625 42.875 26.21875 \r\nQ 42.875 35.84375 38.5 40.796875 \r\nQ 34.125 45.75 27.640625 45.75 \r\nQ 21.046875 45.75 16.703125 40.8125 \r\nQ 12.359375 35.890625 12.359375 25.921875 \r\nz\r\n\" id=\"ArialMT-111\"/>\r\n       <path d=\"M 6.5 0 \r\nL 6.5 51.859375 \r\nL 14.40625 51.859375 \r\nL 14.40625 44 \r\nQ 17.4375 49.515625 20 51.265625 \r\nQ 22.5625 53.03125 25.640625 53.03125 \r\nQ 30.078125 53.03125 34.671875 50.203125 \r\nL 31.640625 42.046875 \r\nQ 28.421875 43.953125 25.203125 43.953125 \r\nQ 22.3125 43.953125 20.015625 42.21875 \r\nQ 17.71875 40.484375 16.75 37.40625 \r\nQ 15.28125 32.71875 15.28125 27.15625 \r\nL 15.28125 0 \r\nz\r\n\" id=\"ArialMT-114\"/>\r\n      </defs>\r\n      <use xlink:href=\"#ArialMT-69\"/>\r\n      <use x=\"66.699219\" xlink:href=\"#ArialMT-105\"/>\r\n      <use x=\"88.916016\" xlink:href=\"#ArialMT-103\"/>\r\n      <use x=\"144.53125\" xlink:href=\"#ArialMT-101\"/>\r\n      <use x=\"200.146484\" xlink:href=\"#ArialMT-110\"/>\r\n      <use x=\"255.761719\" xlink:href=\"#ArialMT-118\"/>\r\n      <use x=\"305.761719\" xlink:href=\"#ArialMT-97\"/>\r\n      <use x=\"361.376953\" xlink:href=\"#ArialMT-108\"/>\r\n      <use x=\"383.59375\" xlink:href=\"#ArialMT-111\"/>\r\n      <use x=\"439.208984\" xlink:href=\"#ArialMT-114\"/>\r\n     </g>\r\n    </g>\r\n   </g>\r\n   <g id=\"matplotlib.axis_2\">\r\n    <g id=\"ytick_1\">\r\n     <g id=\"line2d_8\">\r\n      <path clip-path=\"url(#p6b49e4cbad)\" d=\"M 53.689844 191.52116 \r\nL 180.179844 191.52116 \r\n\" style=\"fill:none;stroke:#ffffff;stroke-linecap:round;\"/>\r\n     </g>\r\n     <g id=\"text_9\">\r\n      <!-- 0% -->\r\n      <g style=\"fill:#262626;\" transform=\"translate(28.291406 195.457956)scale(0.11 -0.11)\">\r\n       <defs>\r\n        <path d=\"M 4.15625 35.296875 \r\nQ 4.15625 48 6.765625 55.734375 \r\nQ 9.375 63.484375 14.515625 67.671875 \r\nQ 19.671875 71.875 27.484375 71.875 \r\nQ 33.25 71.875 37.59375 69.546875 \r\nQ 41.9375 67.234375 44.765625 62.859375 \r\nQ 47.609375 58.5 49.21875 52.21875 \r\nQ 50.828125 45.953125 50.828125 35.296875 \r\nQ 50.828125 22.703125 48.234375 14.96875 \r\nQ 45.65625 7.234375 40.5 3 \r\nQ 35.359375 -1.21875 27.484375 -1.21875 \r\nQ 17.140625 -1.21875 11.234375 6.203125 \r\nQ 4.15625 15.140625 4.15625 35.296875 \r\nz\r\nM 13.1875 35.296875 \r\nQ 13.1875 17.671875 17.3125 11.828125 \r\nQ 21.4375 6 27.484375 6 \r\nQ 33.546875 6 37.671875 11.859375 \r\nQ 41.796875 17.71875 41.796875 35.296875 \r\nQ 41.796875 52.984375 37.671875 58.78125 \r\nQ 33.546875 64.59375 27.390625 64.59375 \r\nQ 21.34375 64.59375 17.71875 59.46875 \r\nQ 13.1875 52.9375 13.1875 35.296875 \r\nz\r\n\" id=\"ArialMT-48\"/>\r\n        <path d=\"M 5.8125 54.390625 \r\nQ 5.8125 62.0625 9.671875 67.421875 \r\nQ 13.53125 72.796875 20.84375 72.796875 \r\nQ 27.59375 72.796875 32 67.984375 \r\nQ 36.421875 63.1875 36.421875 53.859375 \r\nQ 36.421875 44.78125 31.953125 39.875 \r\nQ 27.484375 34.96875 20.953125 34.96875 \r\nQ 14.453125 34.96875 10.125 39.796875 \r\nQ 5.8125 44.625 5.8125 54.390625 \r\nz\r\nM 21.09375 66.75 \r\nQ 17.828125 66.75 15.65625 63.90625 \r\nQ 13.484375 61.078125 13.484375 53.515625 \r\nQ 13.484375 46.625 15.671875 43.8125 \r\nQ 17.875 41.015625 21.09375 41.015625 \r\nQ 24.421875 41.015625 26.59375 43.84375 \r\nQ 28.765625 46.6875 28.765625 54.203125 \r\nQ 28.765625 61.140625 26.5625 63.9375 \r\nQ 24.359375 66.75 21.09375 66.75 \r\nz\r\nM 21.140625 -2.640625 \r\nL 60.296875 72.796875 \r\nL 67.4375 72.796875 \r\nL 28.421875 -2.640625 \r\nz\r\nM 52.09375 16.796875 \r\nQ 52.09375 24.515625 55.953125 29.859375 \r\nQ 59.8125 35.203125 67.1875 35.203125 \r\nQ 73.921875 35.203125 78.34375 30.390625 \r\nQ 82.765625 25.59375 82.765625 16.265625 \r\nQ 82.765625 7.171875 78.296875 2.265625 \r\nQ 73.828125 -2.640625 67.234375 -2.640625 \r\nQ 60.75 -2.640625 56.421875 2.21875 \r\nQ 52.09375 7.078125 52.09375 16.796875 \r\nz\r\nM 67.4375 29.15625 \r\nQ 64.109375 29.15625 61.9375 26.3125 \r\nQ 59.765625 23.484375 59.765625 15.921875 \r\nQ 59.765625 9.078125 61.953125 6.25 \r\nQ 64.15625 3.421875 67.390625 3.421875 \r\nQ 70.75 3.421875 72.921875 6.25 \r\nQ 75.09375 9.078125 75.09375 16.609375 \r\nQ 75.09375 23.53125 72.890625 26.34375 \r\nQ 70.703125 29.15625 67.4375 29.15625 \r\nz\r\n\" id=\"ArialMT-37\"/>\r\n       </defs>\r\n       <use xlink:href=\"#ArialMT-48\"/>\r\n       <use x=\"55.615234\" xlink:href=\"#ArialMT-37\"/>\r\n      </g>\r\n     </g>\r\n    </g>\r\n    <g id=\"ytick_2\">\r\n     <g id=\"line2d_9\">\r\n      <path clip-path=\"url(#p6b49e4cbad)\" d=\"M 53.689844 163.163148 \r\nL 180.179844 163.163148 \r\n\" style=\"fill:none;stroke:#ffffff;stroke-linecap:round;\"/>\r\n     </g>\r\n     <g id=\"text_10\">\r\n      <!-- 10% -->\r\n      <g style=\"fill:#262626;\" transform=\"translate(22.174375 167.099945)scale(0.11 -0.11)\">\r\n       <use xlink:href=\"#ArialMT-49\"/>\r\n       <use x=\"55.615234\" xlink:href=\"#ArialMT-48\"/>\r\n       <use x=\"111.230469\" xlink:href=\"#ArialMT-37\"/>\r\n      </g>\r\n     </g>\r\n    </g>\r\n    <g id=\"ytick_3\">\r\n     <g id=\"line2d_10\">\r\n      <path clip-path=\"url(#p6b49e4cbad)\" d=\"M 53.689844 134.805137 \r\nL 180.179844 134.805137 \r\n\" style=\"fill:none;stroke:#ffffff;stroke-linecap:round;\"/>\r\n     </g>\r\n     <g id=\"text_11\">\r\n      <!-- 20% -->\r\n      <g style=\"fill:#262626;\" transform=\"translate(22.174375 138.741934)scale(0.11 -0.11)\">\r\n       <use xlink:href=\"#ArialMT-50\"/>\r\n       <use x=\"55.615234\" xlink:href=\"#ArialMT-48\"/>\r\n       <use x=\"111.230469\" xlink:href=\"#ArialMT-37\"/>\r\n      </g>\r\n     </g>\r\n    </g>\r\n    <g id=\"ytick_4\">\r\n     <g id=\"line2d_11\">\r\n      <path clip-path=\"url(#p6b49e4cbad)\" d=\"M 53.689844 106.447125 \r\nL 180.179844 106.447125 \r\n\" style=\"fill:none;stroke:#ffffff;stroke-linecap:round;\"/>\r\n     </g>\r\n     <g id=\"text_12\">\r\n      <!-- 30% -->\r\n      <g style=\"fill:#262626;\" transform=\"translate(22.174375 110.383922)scale(0.11 -0.11)\">\r\n       <use xlink:href=\"#ArialMT-51\"/>\r\n       <use x=\"55.615234\" xlink:href=\"#ArialMT-48\"/>\r\n       <use x=\"111.230469\" xlink:href=\"#ArialMT-37\"/>\r\n      </g>\r\n     </g>\r\n    </g>\r\n    <g id=\"ytick_5\">\r\n     <g id=\"line2d_12\">\r\n      <path clip-path=\"url(#p6b49e4cbad)\" d=\"M 53.689844 78.089114 \r\nL 180.179844 78.089114 \r\n\" style=\"fill:none;stroke:#ffffff;stroke-linecap:round;\"/>\r\n     </g>\r\n     <g id=\"text_13\">\r\n      <!-- 40% -->\r\n      <g style=\"fill:#262626;\" transform=\"translate(22.174375 82.025911)scale(0.11 -0.11)\">\r\n       <use xlink:href=\"#ArialMT-52\"/>\r\n       <use x=\"55.615234\" xlink:href=\"#ArialMT-48\"/>\r\n       <use x=\"111.230469\" xlink:href=\"#ArialMT-37\"/>\r\n      </g>\r\n     </g>\r\n    </g>\r\n    <g id=\"ytick_6\">\r\n     <g id=\"line2d_13\">\r\n      <path clip-path=\"url(#p6b49e4cbad)\" d=\"M 53.689844 49.731102 \r\nL 180.179844 49.731102 \r\n\" style=\"fill:none;stroke:#ffffff;stroke-linecap:round;\"/>\r\n     </g>\r\n     <g id=\"text_14\">\r\n      <!-- 50% -->\r\n      <g style=\"fill:#262626;\" transform=\"translate(22.174375 53.667899)scale(0.11 -0.11)\">\r\n       <use xlink:href=\"#ArialMT-53\"/>\r\n       <use x=\"55.615234\" xlink:href=\"#ArialMT-48\"/>\r\n       <use x=\"111.230469\" xlink:href=\"#ArialMT-37\"/>\r\n      </g>\r\n     </g>\r\n    </g>\r\n    <g id=\"ytick_7\">\r\n     <g id=\"line2d_14\">\r\n      <path clip-path=\"url(#p6b49e4cbad)\" d=\"M 53.689844 21.373091 \r\nL 180.179844 21.373091 \r\n\" style=\"fill:none;stroke:#ffffff;stroke-linecap:round;\"/>\r\n     </g>\r\n     <g id=\"text_15\">\r\n      <!-- 60% -->\r\n      <g style=\"fill:#262626;\" transform=\"translate(22.174375 25.309888)scale(0.11 -0.11)\">\r\n       <use xlink:href=\"#ArialMT-54\"/>\r\n       <use x=\"55.615234\" xlink:href=\"#ArialMT-48\"/>\r\n       <use x=\"111.230469\" xlink:href=\"#ArialMT-37\"/>\r\n      </g>\r\n     </g>\r\n    </g>\r\n    <g id=\"text_16\">\r\n     <!-- Varianza explicada -->\r\n     <g style=\"fill:#262626;\" transform=\"translate(15.789375 153.982812)rotate(-90)scale(0.12 -0.12)\">\r\n      <defs>\r\n       <path d=\"M 28.171875 0 \r\nL 0.4375 71.578125 \r\nL 10.6875 71.578125 \r\nL 29.296875 19.578125 \r\nQ 31.546875 13.328125 33.0625 7.859375 \r\nQ 34.71875 13.71875 36.921875 19.578125 \r\nL 56.25 71.578125 \r\nL 65.921875 71.578125 \r\nL 37.890625 0 \r\nz\r\n\" id=\"ArialMT-86\"/>\r\n       <path d=\"M 1.953125 0 \r\nL 1.953125 7.125 \r\nL 34.96875 45.015625 \r\nQ 29.34375 44.734375 25.046875 44.734375 \r\nL 3.90625 44.734375 \r\nL 3.90625 51.859375 \r\nL 46.296875 51.859375 \r\nL 46.296875 46.046875 \r\nL 18.21875 13.140625 \r\nL 12.796875 7.125 \r\nQ 18.703125 7.5625 23.875 7.5625 \r\nL 47.859375 7.5625 \r\nL 47.859375 0 \r\nz\r\n\" id=\"ArialMT-122\"/>\r\n       <path id=\"ArialMT-32\"/>\r\n       <path d=\"M 0.734375 0 \r\nL 19.671875 26.953125 \r\nL 2.15625 51.859375 \r\nL 13.140625 51.859375 \r\nL 21.09375 39.703125 \r\nQ 23.34375 36.234375 24.703125 33.890625 \r\nQ 26.859375 37.109375 28.65625 39.59375 \r\nL 37.40625 51.859375 \r\nL 47.90625 51.859375 \r\nL 29.984375 27.4375 \r\nL 49.265625 0 \r\nL 38.484375 0 \r\nL 27.828125 16.109375 \r\nL 25 20.453125 \r\nL 11.375 0 \r\nz\r\n\" id=\"ArialMT-120\"/>\r\n       <path d=\"M 6.59375 -19.875 \r\nL 6.59375 51.859375 \r\nL 14.59375 51.859375 \r\nL 14.59375 45.125 \r\nQ 17.4375 49.078125 21 51.046875 \r\nQ 24.5625 53.03125 29.640625 53.03125 \r\nQ 36.28125 53.03125 41.359375 49.609375 \r\nQ 46.4375 46.1875 49.015625 39.953125 \r\nQ 51.609375 33.734375 51.609375 26.3125 \r\nQ 51.609375 18.359375 48.75 11.984375 \r\nQ 45.90625 5.609375 40.453125 2.21875 \r\nQ 35.015625 -1.171875 29 -1.171875 \r\nQ 24.609375 -1.171875 21.109375 0.6875 \r\nQ 17.625 2.546875 15.375 5.375 \r\nL 15.375 -19.875 \r\nz\r\nM 14.546875 25.640625 \r\nQ 14.546875 15.625 18.59375 10.84375 \r\nQ 22.65625 6.0625 28.421875 6.0625 \r\nQ 34.28125 6.0625 38.453125 11.015625 \r\nQ 42.625 15.96875 42.625 26.375 \r\nQ 42.625 36.28125 38.546875 41.203125 \r\nQ 34.46875 46.140625 28.8125 46.140625 \r\nQ 23.1875 46.140625 18.859375 40.890625 \r\nQ 14.546875 35.640625 14.546875 25.640625 \r\nz\r\n\" id=\"ArialMT-112\"/>\r\n       <path d=\"M 40.4375 19 \r\nL 49.078125 17.875 \r\nQ 47.65625 8.9375 41.8125 3.875 \r\nQ 35.984375 -1.171875 27.484375 -1.171875 \r\nQ 16.84375 -1.171875 10.375 5.78125 \r\nQ 3.90625 12.75 3.90625 25.734375 \r\nQ 3.90625 34.125 6.6875 40.421875 \r\nQ 9.46875 46.734375 15.15625 49.875 \r\nQ 20.84375 53.03125 27.546875 53.03125 \r\nQ 35.984375 53.03125 41.359375 48.75 \r\nQ 46.734375 44.484375 48.25 36.625 \r\nL 39.703125 35.296875 \r\nQ 38.484375 40.53125 35.375 43.15625 \r\nQ 32.28125 45.796875 27.875 45.796875 \r\nQ 21.234375 45.796875 17.078125 41.03125 \r\nQ 12.9375 36.28125 12.9375 25.984375 \r\nQ 12.9375 15.53125 16.9375 10.796875 \r\nQ 20.953125 6.0625 27.390625 6.0625 \r\nQ 32.5625 6.0625 36.03125 9.234375 \r\nQ 39.5 12.40625 40.4375 19 \r\nz\r\n\" id=\"ArialMT-99\"/>\r\n       <path d=\"M 40.234375 0 \r\nL 40.234375 6.546875 \r\nQ 35.296875 -1.171875 25.734375 -1.171875 \r\nQ 19.53125 -1.171875 14.328125 2.25 \r\nQ 9.125 5.671875 6.265625 11.796875 \r\nQ 3.421875 17.921875 3.421875 25.875 \r\nQ 3.421875 33.640625 6 39.96875 \r\nQ 8.59375 46.296875 13.765625 49.65625 \r\nQ 18.953125 53.03125 25.34375 53.03125 \r\nQ 30.03125 53.03125 33.6875 51.046875 \r\nQ 37.359375 49.078125 39.65625 45.90625 \r\nL 39.65625 71.578125 \r\nL 48.390625 71.578125 \r\nL 48.390625 0 \r\nz\r\nM 12.453125 25.875 \r\nQ 12.453125 15.921875 16.640625 10.984375 \r\nQ 20.84375 6.0625 26.5625 6.0625 \r\nQ 32.328125 6.0625 36.34375 10.765625 \r\nQ 40.375 15.484375 40.375 25.140625 \r\nQ 40.375 35.796875 36.265625 40.765625 \r\nQ 32.171875 45.75 26.171875 45.75 \r\nQ 20.3125 45.75 16.375 40.96875 \r\nQ 12.453125 36.1875 12.453125 25.875 \r\nz\r\n\" id=\"ArialMT-100\"/>\r\n      </defs>\r\n      <use xlink:href=\"#ArialMT-86\"/>\r\n      <use x=\"59.324219\" xlink:href=\"#ArialMT-97\"/>\r\n      <use x=\"114.939453\" xlink:href=\"#ArialMT-114\"/>\r\n      <use x=\"148.240234\" xlink:href=\"#ArialMT-105\"/>\r\n      <use x=\"170.457031\" xlink:href=\"#ArialMT-97\"/>\r\n      <use x=\"226.072266\" xlink:href=\"#ArialMT-110\"/>\r\n      <use x=\"281.6875\" xlink:href=\"#ArialMT-122\"/>\r\n      <use x=\"331.6875\" xlink:href=\"#ArialMT-97\"/>\r\n      <use x=\"387.302734\" xlink:href=\"#ArialMT-32\"/>\r\n      <use x=\"415.085938\" xlink:href=\"#ArialMT-101\"/>\r\n      <use x=\"470.701172\" xlink:href=\"#ArialMT-120\"/>\r\n      <use x=\"520.701172\" xlink:href=\"#ArialMT-112\"/>\r\n      <use x=\"576.316406\" xlink:href=\"#ArialMT-108\"/>\r\n      <use x=\"598.533203\" xlink:href=\"#ArialMT-105\"/>\r\n      <use x=\"620.75\" xlink:href=\"#ArialMT-99\"/>\r\n      <use x=\"670.75\" xlink:href=\"#ArialMT-97\"/>\r\n      <use x=\"726.365234\" xlink:href=\"#ArialMT-100\"/>\r\n      <use x=\"781.980469\" xlink:href=\"#ArialMT-97\"/>\r\n     </g>\r\n    </g>\r\n   </g>\r\n   <g id=\"line2d_15\">\r\n    <path clip-path=\"url(#p6b49e4cbad)\" d=\"M 59.439389 15.975455 \r\nL 78.604541 117.37346 \r\nL 97.769692 165.965064 \r\nL 116.934844 186.322427 \r\nL 136.099995 189.189475 \r\nL 155.265147 190.757575 \r\nL 174.430298 191.484545 \r\n\" style=\"fill:none;stroke:#4c72b0;stroke-linecap:round;stroke-width:1.5;\"/>\r\n   </g>\r\n   <g id=\"patch_3\">\r\n    <path d=\"M 53.689844 200.26 \r\nL 53.689844 7.2 \r\n\" style=\"fill:none;stroke:#ffffff;stroke-linecap:square;stroke-linejoin:miter;stroke-width:1.25;\"/>\r\n   </g>\r\n   <g id=\"patch_4\">\r\n    <path d=\"M 180.179844 200.26 \r\nL 180.179844 7.2 \r\n\" style=\"fill:none;stroke:#ffffff;stroke-linecap:square;stroke-linejoin:miter;stroke-width:1.25;\"/>\r\n   </g>\r\n   <g id=\"patch_5\">\r\n    <path d=\"M 53.689844 200.26 \r\nL 180.179844 200.26 \r\n\" style=\"fill:none;stroke:#ffffff;stroke-linecap:square;stroke-linejoin:miter;stroke-width:1.25;\"/>\r\n   </g>\r\n   <g id=\"patch_6\">\r\n    <path d=\"M 53.689844 7.2 \r\nL 180.179844 7.2 \r\n\" style=\"fill:none;stroke:#ffffff;stroke-linecap:square;stroke-linejoin:miter;stroke-width:1.25;\"/>\r\n   </g>\r\n  </g>\r\n  <g id=\"axes_2\">\r\n   <g id=\"patch_7\">\r\n    <path d=\"M 251.689844 200.26 \r\nL 378.179844 200.26 \r\nL 378.179844 7.2 \r\nL 251.689844 7.2 \r\nz\r\n\" style=\"fill:#eaeaf2;\"/>\r\n   </g>\r\n   <g id=\"matplotlib.axis_3\">\r\n    <g id=\"xtick_8\">\r\n     <g id=\"line2d_16\">\r\n      <path clip-path=\"url(#p2083b73526)\" d=\"M 257.439389 200.26 \r\nL 257.439389 7.2 \r\n\" style=\"fill:none;stroke:#ffffff;stroke-linecap:round;\"/>\r\n     </g>\r\n     <g id=\"text_17\">\r\n      <!-- 1 -->\r\n      <g style=\"fill:#262626;\" transform=\"translate(254.380874 217.633594)scale(0.11 -0.11)\">\r\n       <use xlink:href=\"#ArialMT-49\"/>\r\n      </g>\r\n     </g>\r\n    </g>\r\n    <g id=\"xtick_9\">\r\n     <g id=\"line2d_17\">\r\n      <path clip-path=\"url(#p2083b73526)\" d=\"M 276.604541 200.26 \r\nL 276.604541 7.2 \r\n\" style=\"fill:none;stroke:#ffffff;stroke-linecap:round;\"/>\r\n     </g>\r\n     <g id=\"text_18\">\r\n      <!-- 2 -->\r\n      <g style=\"fill:#262626;\" transform=\"translate(273.546025 217.633594)scale(0.11 -0.11)\">\r\n       <use xlink:href=\"#ArialMT-50\"/>\r\n      </g>\r\n     </g>\r\n    </g>\r\n    <g id=\"xtick_10\">\r\n     <g id=\"line2d_18\">\r\n      <path clip-path=\"url(#p2083b73526)\" d=\"M 295.769692 200.26 \r\nL 295.769692 7.2 \r\n\" style=\"fill:none;stroke:#ffffff;stroke-linecap:round;\"/>\r\n     </g>\r\n     <g id=\"text_19\">\r\n      <!-- 3 -->\r\n      <g style=\"fill:#262626;\" transform=\"translate(292.711177 217.633594)scale(0.11 -0.11)\">\r\n       <use xlink:href=\"#ArialMT-51\"/>\r\n      </g>\r\n     </g>\r\n    </g>\r\n    <g id=\"xtick_11\">\r\n     <g id=\"line2d_19\">\r\n      <path clip-path=\"url(#p2083b73526)\" d=\"M 314.934844 200.26 \r\nL 314.934844 7.2 \r\n\" style=\"fill:none;stroke:#ffffff;stroke-linecap:round;\"/>\r\n     </g>\r\n     <g id=\"text_20\">\r\n      <!-- 4 -->\r\n      <g style=\"fill:#262626;\" transform=\"translate(311.876328 217.633594)scale(0.11 -0.11)\">\r\n       <use xlink:href=\"#ArialMT-52\"/>\r\n      </g>\r\n     </g>\r\n    </g>\r\n    <g id=\"xtick_12\">\r\n     <g id=\"line2d_20\">\r\n      <path clip-path=\"url(#p2083b73526)\" d=\"M 334.099995 200.26 \r\nL 334.099995 7.2 \r\n\" style=\"fill:none;stroke:#ffffff;stroke-linecap:round;\"/>\r\n     </g>\r\n     <g id=\"text_21\">\r\n      <!-- 5 -->\r\n      <g style=\"fill:#262626;\" transform=\"translate(331.04148 217.633594)scale(0.11 -0.11)\">\r\n       <use xlink:href=\"#ArialMT-53\"/>\r\n      </g>\r\n     </g>\r\n    </g>\r\n    <g id=\"xtick_13\">\r\n     <g id=\"line2d_21\">\r\n      <path clip-path=\"url(#p2083b73526)\" d=\"M 353.265147 200.26 \r\nL 353.265147 7.2 \r\n\" style=\"fill:none;stroke:#ffffff;stroke-linecap:round;\"/>\r\n     </g>\r\n     <g id=\"text_22\">\r\n      <!-- 6 -->\r\n      <g style=\"fill:#262626;\" transform=\"translate(350.206631 217.633594)scale(0.11 -0.11)\">\r\n       <use xlink:href=\"#ArialMT-54\"/>\r\n      </g>\r\n     </g>\r\n    </g>\r\n    <g id=\"xtick_14\">\r\n     <g id=\"line2d_22\">\r\n      <path clip-path=\"url(#p2083b73526)\" d=\"M 372.430298 200.26 \r\nL 372.430298 7.2 \r\n\" style=\"fill:none;stroke:#ffffff;stroke-linecap:round;\"/>\r\n     </g>\r\n     <g id=\"text_23\">\r\n      <!-- 7 -->\r\n      <g style=\"fill:#262626;\" transform=\"translate(369.371783 217.633594)scale(0.11 -0.11)\">\r\n       <use xlink:href=\"#ArialMT-55\"/>\r\n      </g>\r\n     </g>\r\n    </g>\r\n    <g id=\"text_24\">\r\n     <!-- Eigenvalor -->\r\n     <g style=\"fill:#262626;\" transform=\"translate(286.585781 232.409219)scale(0.12 -0.12)\">\r\n      <use xlink:href=\"#ArialMT-69\"/>\r\n      <use x=\"66.699219\" xlink:href=\"#ArialMT-105\"/>\r\n      <use x=\"88.916016\" xlink:href=\"#ArialMT-103\"/>\r\n      <use x=\"144.53125\" xlink:href=\"#ArialMT-101\"/>\r\n      <use x=\"200.146484\" xlink:href=\"#ArialMT-110\"/>\r\n      <use x=\"255.761719\" xlink:href=\"#ArialMT-118\"/>\r\n      <use x=\"305.761719\" xlink:href=\"#ArialMT-97\"/>\r\n      <use x=\"361.376953\" xlink:href=\"#ArialMT-108\"/>\r\n      <use x=\"383.59375\" xlink:href=\"#ArialMT-111\"/>\r\n      <use x=\"439.208984\" xlink:href=\"#ArialMT-114\"/>\r\n     </g>\r\n    </g>\r\n   </g>\r\n   <g id=\"matplotlib.axis_4\">\r\n    <g id=\"ytick_8\">\r\n     <g id=\"line2d_23\">\r\n      <path clip-path=\"url(#p2083b73526)\" d=\"M 251.689844 200.253365 \r\nL 378.179844 200.253365 \r\n\" style=\"fill:none;stroke:#ffffff;stroke-linecap:round;\"/>\r\n     </g>\r\n     <g id=\"text_25\">\r\n      <!-- 60.0% -->\r\n      <g style=\"fill:#262626;\" transform=\"translate(211.001406 204.190162)scale(0.11 -0.11)\">\r\n       <defs>\r\n        <path d=\"M 9.078125 0 \r\nL 9.078125 10.015625 \r\nL 19.09375 10.015625 \r\nL 19.09375 0 \r\nz\r\n\" id=\"ArialMT-46\"/>\r\n       </defs>\r\n       <use xlink:href=\"#ArialMT-54\"/>\r\n       <use x=\"55.615234\" xlink:href=\"#ArialMT-48\"/>\r\n       <use x=\"111.230469\" xlink:href=\"#ArialMT-46\"/>\r\n       <use x=\"139.013672\" xlink:href=\"#ArialMT-48\"/>\r\n       <use x=\"194.628906\" xlink:href=\"#ArialMT-37\"/>\r\n      </g>\r\n     </g>\r\n    </g>\r\n    <g id=\"ytick_9\">\r\n     <g id=\"line2d_24\">\r\n      <path clip-path=\"url(#p2083b73526)\" d=\"M 251.689844 154.183887 \r\nL 378.179844 154.183887 \r\n\" style=\"fill:none;stroke:#ffffff;stroke-linecap:round;\"/>\r\n     </g>\r\n     <g id=\"text_26\">\r\n      <!-- 70.0% -->\r\n      <g style=\"fill:#262626;\" transform=\"translate(211.001406 158.120684)scale(0.11 -0.11)\">\r\n       <use xlink:href=\"#ArialMT-55\"/>\r\n       <use x=\"55.615234\" xlink:href=\"#ArialMT-48\"/>\r\n       <use x=\"111.230469\" xlink:href=\"#ArialMT-46\"/>\r\n       <use x=\"139.013672\" xlink:href=\"#ArialMT-48\"/>\r\n       <use x=\"194.628906\" xlink:href=\"#ArialMT-37\"/>\r\n      </g>\r\n     </g>\r\n    </g>\r\n    <g id=\"ytick_10\">\r\n     <g id=\"line2d_25\">\r\n      <path clip-path=\"url(#p2083b73526)\" d=\"M 251.689844 108.11441 \r\nL 378.179844 108.11441 \r\n\" style=\"fill:none;stroke:#ffffff;stroke-linecap:round;\"/>\r\n     </g>\r\n     <g id=\"text_27\">\r\n      <!-- 80.0% -->\r\n      <g style=\"fill:#262626;\" transform=\"translate(211.001406 112.051207)scale(0.11 -0.11)\">\r\n       <defs>\r\n        <path d=\"M 17.671875 38.8125 \r\nQ 12.203125 40.828125 9.5625 44.53125 \r\nQ 6.9375 48.25 6.9375 53.421875 \r\nQ 6.9375 61.234375 12.546875 66.546875 \r\nQ 18.171875 71.875 27.484375 71.875 \r\nQ 36.859375 71.875 42.578125 66.421875 \r\nQ 48.296875 60.984375 48.296875 53.171875 \r\nQ 48.296875 48.1875 45.671875 44.5 \r\nQ 43.0625 40.828125 37.75 38.8125 \r\nQ 44.34375 36.671875 47.78125 31.875 \r\nQ 51.21875 27.09375 51.21875 20.453125 \r\nQ 51.21875 11.28125 44.71875 5.03125 \r\nQ 38.234375 -1.21875 27.640625 -1.21875 \r\nQ 17.046875 -1.21875 10.546875 5.046875 \r\nQ 4.046875 11.328125 4.046875 20.703125 \r\nQ 4.046875 27.6875 7.59375 32.390625 \r\nQ 11.140625 37.109375 17.671875 38.8125 \r\nz\r\nM 15.921875 53.71875 \r\nQ 15.921875 48.640625 19.1875 45.40625 \r\nQ 22.46875 42.1875 27.6875 42.1875 \r\nQ 32.765625 42.1875 36.015625 45.375 \r\nQ 39.265625 48.578125 39.265625 53.21875 \r\nQ 39.265625 58.0625 35.90625 61.359375 \r\nQ 32.5625 64.65625 27.59375 64.65625 \r\nQ 22.5625 64.65625 19.234375 61.421875 \r\nQ 15.921875 58.203125 15.921875 53.71875 \r\nz\r\nM 13.09375 20.65625 \r\nQ 13.09375 16.890625 14.875 13.375 \r\nQ 16.65625 9.859375 20.171875 7.921875 \r\nQ 23.6875 6 27.734375 6 \r\nQ 34.03125 6 38.125 10.046875 \r\nQ 42.234375 14.109375 42.234375 20.359375 \r\nQ 42.234375 26.703125 38.015625 30.859375 \r\nQ 33.796875 35.015625 27.4375 35.015625 \r\nQ 21.234375 35.015625 17.15625 30.90625 \r\nQ 13.09375 26.8125 13.09375 20.65625 \r\nz\r\n\" id=\"ArialMT-56\"/>\r\n       </defs>\r\n       <use xlink:href=\"#ArialMT-56\"/>\r\n       <use x=\"55.615234\" xlink:href=\"#ArialMT-48\"/>\r\n       <use x=\"111.230469\" xlink:href=\"#ArialMT-46\"/>\r\n       <use x=\"139.013672\" xlink:href=\"#ArialMT-48\"/>\r\n       <use x=\"194.628906\" xlink:href=\"#ArialMT-37\"/>\r\n      </g>\r\n     </g>\r\n    </g>\r\n    <g id=\"ytick_11\">\r\n     <g id=\"line2d_26\">\r\n      <path clip-path=\"url(#p2083b73526)\" d=\"M 251.689844 62.044932 \r\nL 378.179844 62.044932 \r\n\" style=\"fill:none;stroke:#ffffff;stroke-linecap:round;\"/>\r\n     </g>\r\n     <g id=\"text_28\">\r\n      <!-- 90.0% -->\r\n      <g style=\"fill:#262626;\" transform=\"translate(211.001406 65.981729)scale(0.11 -0.11)\">\r\n       <defs>\r\n        <path d=\"M 5.46875 16.546875 \r\nL 13.921875 17.328125 \r\nQ 14.984375 11.375 18.015625 8.6875 \r\nQ 21.046875 6 25.78125 6 \r\nQ 29.828125 6 32.875 7.859375 \r\nQ 35.9375 9.71875 37.890625 12.8125 \r\nQ 39.84375 15.921875 41.15625 21.1875 \r\nQ 42.484375 26.46875 42.484375 31.9375 \r\nQ 42.484375 32.515625 42.4375 33.6875 \r\nQ 39.796875 29.5 35.234375 26.875 \r\nQ 30.671875 24.265625 25.34375 24.265625 \r\nQ 16.453125 24.265625 10.296875 30.703125 \r\nQ 4.15625 37.15625 4.15625 47.703125 \r\nQ 4.15625 58.59375 10.578125 65.234375 \r\nQ 17 71.875 26.65625 71.875 \r\nQ 33.640625 71.875 39.421875 68.109375 \r\nQ 45.21875 64.359375 48.21875 57.390625 \r\nQ 51.21875 50.4375 51.21875 37.25 \r\nQ 51.21875 23.53125 48.234375 15.40625 \r\nQ 45.265625 7.28125 39.375 3.03125 \r\nQ 33.5 -1.21875 25.59375 -1.21875 \r\nQ 17.1875 -1.21875 11.859375 3.4375 \r\nQ 6.546875 8.109375 5.46875 16.546875 \r\nz\r\nM 41.453125 48.140625 \r\nQ 41.453125 55.71875 37.421875 60.15625 \r\nQ 33.40625 64.59375 27.734375 64.59375 \r\nQ 21.875 64.59375 17.53125 59.8125 \r\nQ 13.1875 55.03125 13.1875 47.40625 \r\nQ 13.1875 40.578125 17.3125 36.296875 \r\nQ 21.4375 32.03125 27.484375 32.03125 \r\nQ 33.59375 32.03125 37.515625 36.296875 \r\nQ 41.453125 40.578125 41.453125 48.140625 \r\nz\r\n\" id=\"ArialMT-57\"/>\r\n       </defs>\r\n       <use xlink:href=\"#ArialMT-57\"/>\r\n       <use x=\"55.615234\" xlink:href=\"#ArialMT-48\"/>\r\n       <use x=\"111.230469\" xlink:href=\"#ArialMT-46\"/>\r\n       <use x=\"139.013672\" xlink:href=\"#ArialMT-48\"/>\r\n       <use x=\"194.628906\" xlink:href=\"#ArialMT-37\"/>\r\n      </g>\r\n     </g>\r\n    </g>\r\n    <g id=\"ytick_12\">\r\n     <g id=\"line2d_27\">\r\n      <path clip-path=\"url(#p2083b73526)\" d=\"M 251.689844 15.975455 \r\nL 378.179844 15.975455 \r\n\" style=\"fill:none;stroke:#ffffff;stroke-linecap:round;\"/>\r\n     </g>\r\n     <g id=\"text_29\">\r\n      <!-- 100.0% -->\r\n      <g style=\"fill:#262626;\" transform=\"translate(204.884375 19.912251)scale(0.11 -0.11)\">\r\n       <use xlink:href=\"#ArialMT-49\"/>\r\n       <use x=\"55.615234\" xlink:href=\"#ArialMT-48\"/>\r\n       <use x=\"111.230469\" xlink:href=\"#ArialMT-48\"/>\r\n       <use x=\"166.845703\" xlink:href=\"#ArialMT-46\"/>\r\n       <use x=\"194.628906\" xlink:href=\"#ArialMT-48\"/>\r\n       <use x=\"250.244141\" xlink:href=\"#ArialMT-37\"/>\r\n      </g>\r\n     </g>\r\n    </g>\r\n    <g id=\"text_30\">\r\n     <!-- Varianza explicada (acumulada) -->\r\n     <g style=\"fill:#262626;\" transform=\"translate(198.35875 188.995625)rotate(-90)scale(0.12 -0.12)\">\r\n      <defs>\r\n       <path d=\"M 23.390625 -21.046875 \r\nQ 16.109375 -11.859375 11.078125 0.4375 \r\nQ 6.0625 12.75 6.0625 25.921875 \r\nQ 6.0625 37.546875 9.8125 48.1875 \r\nQ 14.203125 60.546875 23.390625 72.796875 \r\nL 29.6875 72.796875 \r\nQ 23.78125 62.640625 21.875 58.296875 \r\nQ 18.890625 51.5625 17.1875 44.234375 \r\nQ 15.09375 35.109375 15.09375 25.875 \r\nQ 15.09375 2.390625 29.6875 -21.046875 \r\nz\r\n\" id=\"ArialMT-40\"/>\r\n       <path d=\"M 40.578125 0 \r\nL 40.578125 7.625 \r\nQ 34.515625 -1.171875 24.125 -1.171875 \r\nQ 19.53125 -1.171875 15.546875 0.578125 \r\nQ 11.578125 2.34375 9.640625 5 \r\nQ 7.71875 7.671875 6.9375 11.53125 \r\nQ 6.390625 14.109375 6.390625 19.734375 \r\nL 6.390625 51.859375 \r\nL 15.1875 51.859375 \r\nL 15.1875 23.09375 \r\nQ 15.1875 16.21875 15.71875 13.8125 \r\nQ 16.546875 10.359375 19.234375 8.375 \r\nQ 21.921875 6.390625 25.875 6.390625 \r\nQ 29.828125 6.390625 33.296875 8.421875 \r\nQ 36.765625 10.453125 38.203125 13.9375 \r\nQ 39.65625 17.4375 39.65625 24.078125 \r\nL 39.65625 51.859375 \r\nL 48.4375 51.859375 \r\nL 48.4375 0 \r\nz\r\n\" id=\"ArialMT-117\"/>\r\n       <path d=\"M 6.59375 0 \r\nL 6.59375 51.859375 \r\nL 14.453125 51.859375 \r\nL 14.453125 44.578125 \r\nQ 16.890625 48.390625 20.9375 50.703125 \r\nQ 25 53.03125 30.171875 53.03125 \r\nQ 35.9375 53.03125 39.625 50.640625 \r\nQ 43.3125 48.25 44.828125 43.953125 \r\nQ 50.984375 53.03125 60.84375 53.03125 \r\nQ 68.5625 53.03125 72.703125 48.75 \r\nQ 76.859375 44.484375 76.859375 35.59375 \r\nL 76.859375 0 \r\nL 68.109375 0 \r\nL 68.109375 32.671875 \r\nQ 68.109375 37.9375 67.25 40.25 \r\nQ 66.40625 42.578125 64.15625 43.984375 \r\nQ 61.921875 45.40625 58.890625 45.40625 \r\nQ 53.421875 45.40625 49.796875 41.765625 \r\nQ 46.1875 38.140625 46.1875 30.125 \r\nL 46.1875 0 \r\nL 37.40625 0 \r\nL 37.40625 33.6875 \r\nQ 37.40625 39.546875 35.25 42.46875 \r\nQ 33.109375 45.40625 28.21875 45.40625 \r\nQ 24.515625 45.40625 21.359375 43.453125 \r\nQ 18.21875 41.5 16.796875 37.734375 \r\nQ 15.375 33.984375 15.375 26.90625 \r\nL 15.375 0 \r\nz\r\n\" id=\"ArialMT-109\"/>\r\n       <path d=\"M 12.359375 -21.046875 \r\nL 6.0625 -21.046875 \r\nQ 20.65625 2.390625 20.65625 25.875 \r\nQ 20.65625 35.0625 18.5625 44.09375 \r\nQ 16.890625 51.421875 13.921875 58.15625 \r\nQ 12.015625 62.546875 6.0625 72.796875 \r\nL 12.359375 72.796875 \r\nQ 21.53125 60.546875 25.921875 48.1875 \r\nQ 29.6875 37.546875 29.6875 25.921875 \r\nQ 29.6875 12.75 24.625 0.4375 \r\nQ 19.578125 -11.859375 12.359375 -21.046875 \r\nz\r\n\" id=\"ArialMT-41\"/>\r\n      </defs>\r\n      <use xlink:href=\"#ArialMT-86\"/>\r\n      <use x=\"59.324219\" xlink:href=\"#ArialMT-97\"/>\r\n      <use x=\"114.939453\" xlink:href=\"#ArialMT-114\"/>\r\n      <use x=\"148.240234\" xlink:href=\"#ArialMT-105\"/>\r\n      <use x=\"170.457031\" xlink:href=\"#ArialMT-97\"/>\r\n      <use x=\"226.072266\" xlink:href=\"#ArialMT-110\"/>\r\n      <use x=\"281.6875\" xlink:href=\"#ArialMT-122\"/>\r\n      <use x=\"331.6875\" xlink:href=\"#ArialMT-97\"/>\r\n      <use x=\"387.302734\" xlink:href=\"#ArialMT-32\"/>\r\n      <use x=\"415.085938\" xlink:href=\"#ArialMT-101\"/>\r\n      <use x=\"470.701172\" xlink:href=\"#ArialMT-120\"/>\r\n      <use x=\"520.701172\" xlink:href=\"#ArialMT-112\"/>\r\n      <use x=\"576.316406\" xlink:href=\"#ArialMT-108\"/>\r\n      <use x=\"598.533203\" xlink:href=\"#ArialMT-105\"/>\r\n      <use x=\"620.75\" xlink:href=\"#ArialMT-99\"/>\r\n      <use x=\"670.75\" xlink:href=\"#ArialMT-97\"/>\r\n      <use x=\"726.365234\" xlink:href=\"#ArialMT-100\"/>\r\n      <use x=\"781.980469\" xlink:href=\"#ArialMT-97\"/>\r\n      <use x=\"837.595703\" xlink:href=\"#ArialMT-32\"/>\r\n      <use x=\"865.378906\" xlink:href=\"#ArialMT-40\"/>\r\n      <use x=\"898.679688\" xlink:href=\"#ArialMT-97\"/>\r\n      <use x=\"954.294922\" xlink:href=\"#ArialMT-99\"/>\r\n      <use x=\"1004.294922\" xlink:href=\"#ArialMT-117\"/>\r\n      <use x=\"1059.910156\" xlink:href=\"#ArialMT-109\"/>\r\n      <use x=\"1143.210938\" xlink:href=\"#ArialMT-117\"/>\r\n      <use x=\"1198.826172\" xlink:href=\"#ArialMT-108\"/>\r\n      <use x=\"1221.042969\" xlink:href=\"#ArialMT-97\"/>\r\n      <use x=\"1276.658203\" xlink:href=\"#ArialMT-100\"/>\r\n      <use x=\"1332.273438\" xlink:href=\"#ArialMT-97\"/>\r\n      <use x=\"1387.888672\" xlink:href=\"#ArialMT-41\"/>\r\n     </g>\r\n    </g>\r\n   </g>\r\n   <g id=\"line2d_28\">\r\n    <path clip-path=\"url(#p2083b73526)\" d=\"M 257.439389 191.484545 \r\nL 276.604541 71.026671 \r\nL 295.769692 29.509093 \r\nL 314.934844 21.063406 \r\nL 334.099995 17.27543 \r\nL 353.265147 16.034937 \r\nL 372.430298 15.975455 \r\n\" style=\"fill:none;stroke:#4c72b0;stroke-linecap:round;stroke-width:1.5;\"/>\r\n   </g>\r\n   <g id=\"patch_8\">\r\n    <path d=\"M 251.689844 200.26 \r\nL 251.689844 7.2 \r\n\" style=\"fill:none;stroke:#ffffff;stroke-linecap:square;stroke-linejoin:miter;stroke-width:1.25;\"/>\r\n   </g>\r\n   <g id=\"patch_9\">\r\n    <path d=\"M 378.179844 200.26 \r\nL 378.179844 7.2 \r\n\" style=\"fill:none;stroke:#ffffff;stroke-linecap:square;stroke-linejoin:miter;stroke-width:1.25;\"/>\r\n   </g>\r\n   <g id=\"patch_10\">\r\n    <path d=\"M 251.689844 200.26 \r\nL 378.179844 200.26 \r\n\" style=\"fill:none;stroke:#ffffff;stroke-linecap:square;stroke-linejoin:miter;stroke-width:1.25;\"/>\r\n   </g>\r\n   <g id=\"patch_11\">\r\n    <path d=\"M 251.689844 7.2 \r\nL 378.179844 7.2 \r\n\" style=\"fill:none;stroke:#ffffff;stroke-linecap:square;stroke-linejoin:miter;stroke-width:1.25;\"/>\r\n   </g>\r\n  </g>\r\n </g>\r\n <defs>\r\n  <clipPath id=\"p6b49e4cbad\">\r\n   <rect height=\"193.06\" width=\"126.49\" x=\"53.689844\" y=\"7.2\"/>\r\n  </clipPath>\r\n  <clipPath id=\"p2083b73526\">\r\n   <rect height=\"193.06\" width=\"126.49\" x=\"251.689844\" y=\"7.2\"/>\r\n  </clipPath>\r\n </defs>\r\n</svg>\r\n",
      "image/png": "[encoded data removed]"
     },
     "metadata": {}
    }
   ],
   "metadata": {}
  },
  {
   "cell_type": "markdown",
   "source": [
    "Note que cada eigenvalor explica algo de la varianza en la base de datos, pero en la medida que cogemos un eigenvalor de menor tamaño, este aporta marginalmente menos que el eigenvector anterior. Los primeros dos eigenvectores explican el 88% de la variación total y con 3 eigenvectores logramos explicar al rededor del 97% de la base. \r\n",
    "\r\n",
    "Cuando queremos visualizar nuestros resultados, el número óptimo de Componentes Principales será 2 y 3. Sin embargo, si deseamos utilizar estas variables en algún modelo de aprendizaje de maquinas, se puede escoger el número óptimo de componentes utilizando la gráfica de la izquierda (también conocida como la gráfica del codo) y seleccionar hasta el eigenvector donde se parte la curva y el aumento de varianza explicada es marginal. En este caso podría ser 3 o 4. \r\n",
    "\r\n",
    "Algunas personas escogen el número óptimo de componentes principales haciendo validación cruzada, sin embargo esto solo es recomendable cuando el número de otros hiperparámetros a escoger sea bajo. \r\n",
    "\r\n",
    "Finalmente, representaremos nuestra base de datos en tan solo dos dimensiones:"
   ],
   "metadata": {}
  },
  {
   "cell_type": "code",
   "execution_count": 14,
   "source": [
    "import plotly.express as px\r\n",
    "cp.columns = [\"Componente principal \" + str(i) for i in range(1,8)]\r\n",
    "fig = px.scatter(cp/np.sqrt(2), x = \"Componente principal 1\", y = \"Componente principal 2\",\r\n",
    "    text = df.index.values)\r\n",
    "fig.update_traces(textposition = 'top center')\r\n",
    "fig.update_layout(height = 500, title_text = 'Familias en R2')\r\n",
    "fig.update_yaxes(range = [-2, 2])\r\n",
    "fig.update_xaxes(range = [-2, 2])"
   ],
   "outputs": [
    {
     "output_type": "display_data",
     "data": {
      "application/vnd.plotly.v1+json": {
       "config": {
        "plotlyServerURL": "https://plotly.com"
       },
       "data": [
        {
         "hovertemplate": "Componente principal 1=%{x}<br>Componente principal 2=%{y}<br>text=%{text}<extra></extra>",
         "legendgroup": "",
         "marker": {
          "color": "#636efa",
          "symbol": "circle"
         },
         "mode": "markers+text",
         "name": "",
         "orientation": "v",
         "showlegend": false,
         "text": [
          "MA2",
          "EM2",
          "CA2",
          "MA3",
          "EM3",
          "CA3",
          "MA4",
          "EM4",
          "CA4",
          "MA5",
          "EM5",
          "CA5"
         ],
         "textposition": "top center",
         "type": "scatter",
         "x": [
          2.021403152460423,
          1.3358937926097436,
          0.08336740556758235,
          1.4430353257875106,
          1.1980601153410204,
          -1.1980493001290136,
          0.6596185326794517,
          0.17830915782275356,
          -1.1317373478632364,
          -0.15629016069752386,
          -1.379681551705113,
          -3.053929121873598
         ],
         "xaxis": "x",
         "y": [
          0.25708689179149014,
          1.2673024740137238,
          0.5130126037179038,
          -0.22861206830114794,
          0.11504935714995304,
          0.958049795817135,
          -0.9699396845863625,
          -0.4472428024121244,
          1.2275463049300046,
          -1.9635092853557727,
          -0.7998738950483388,
          0.07113030828353648
         ],
         "yaxis": "y"
        }
       ],
       "layout": {
        "height": 500,
        "legend": {
         "tracegroupgap": 0
        },
        "margin": {
         "t": 60
        },
        "template": {
         "data": {
          "bar": [
           {
            "error_x": {
             "color": "#2a3f5f"
            },
            "error_y": {
             "color": "#2a3f5f"
            },
            "marker": {
             "line": {
              "color": "#E5ECF6",
              "width": 0.5
             }
            },
            "type": "bar"
           }
          ],
          "barpolar": [
           {
            "marker": {
             "line": {
              "color": "#E5ECF6",
              "width": 0.5
             }
            },
            "type": "barpolar"
           }
          ],
          "carpet": [
           {
            "aaxis": {
             "endlinecolor": "#2a3f5f",
             "gridcolor": "white",
             "linecolor": "white",
             "minorgridcolor": "white",
             "startlinecolor": "#2a3f5f"
            },
            "baxis": {
             "endlinecolor": "#2a3f5f",
             "gridcolor": "white",
             "linecolor": "white",
             "minorgridcolor": "white",
             "startlinecolor": "#2a3f5f"
            },
            "type": "carpet"
           }
          ],
          "choropleth": [
           {
            "colorbar": {
             "outlinewidth": 0,
             "ticks": ""
            },
            "type": "choropleth"
           }
          ],
          "contour": [
           {
            "colorbar": {
             "outlinewidth": 0,
             "ticks": ""
            },
            "colorscale": [
             [
              0,
              "#0d0887"
             ],
             [
              0.1111111111111111,
              "#46039f"
             ],
             [
              0.2222222222222222,
              "#7201a8"
             ],
             [
              0.3333333333333333,
              "#9c179e"
             ],
             [
              0.4444444444444444,
              "#bd3786"
             ],
             [
              0.5555555555555556,
              "#d8576b"
             ],
             [
              0.6666666666666666,
              "#ed7953"
             ],
             [
              0.7777777777777778,
              "#fb9f3a"
             ],
             [
              0.8888888888888888,
              "#fdca26"
             ],
             [
              1,
              "#f0f921"
             ]
            ],
            "type": "contour"
           }
          ],
          "contourcarpet": [
           {
            "colorbar": {
             "outlinewidth": 0,
             "ticks": ""
            },
            "type": "contourcarpet"
           }
          ],
          "heatmap": [
           {
            "colorbar": {
             "outlinewidth": 0,
             "ticks": ""
            },
            "colorscale": [
             [
              0,
              "#0d0887"
             ],
             [
              0.1111111111111111,
              "#46039f"
             ],
             [
              0.2222222222222222,
              "#7201a8"
             ],
             [
              0.3333333333333333,
              "#9c179e"
             ],
             [
              0.4444444444444444,
              "#bd3786"
             ],
             [
              0.5555555555555556,
              "#d8576b"
             ],
             [
              0.6666666666666666,
              "#ed7953"
             ],
             [
              0.7777777777777778,
              "#fb9f3a"
             ],
             [
              0.8888888888888888,
              "#fdca26"
             ],
             [
              1,
              "#f0f921"
             ]
            ],
            "type": "heatmap"
           }
          ],
          "heatmapgl": [
           {
            "colorbar": {
             "outlinewidth": 0,
             "ticks": ""
            },
            "colorscale": [
             [
              0,
              "#0d0887"
             ],
             [
              0.1111111111111111,
              "#46039f"
             ],
             [
              0.2222222222222222,
              "#7201a8"
             ],
             [
              0.3333333333333333,
              "#9c179e"
             ],
             [
              0.4444444444444444,
              "#bd3786"
             ],
             [
              0.5555555555555556,
              "#d8576b"
             ],
             [
              0.6666666666666666,
              "#ed7953"
             ],
             [
              0.7777777777777778,
              "#fb9f3a"
             ],
             [
              0.8888888888888888,
              "#fdca26"
             ],
             [
              1,
              "#f0f921"
             ]
            ],
            "type": "heatmapgl"
           }
          ],
          "histogram": [
           {
            "marker": {
             "colorbar": {
              "outlinewidth": 0,
              "ticks": ""
             }
            },
            "type": "histogram"
           }
          ],
          "histogram2d": [
           {
            "colorbar": {
             "outlinewidth": 0,
             "ticks": ""
            },
            "colorscale": [
             [
              0,
              "#0d0887"
             ],
             [
              0.1111111111111111,
              "#46039f"
             ],
             [
              0.2222222222222222,
              "#7201a8"
             ],
             [
              0.3333333333333333,
              "#9c179e"
             ],
             [
              0.4444444444444444,
              "#bd3786"
             ],
             [
              0.5555555555555556,
              "#d8576b"
             ],
             [
              0.6666666666666666,
              "#ed7953"
             ],
             [
              0.7777777777777778,
              "#fb9f3a"
             ],
             [
              0.8888888888888888,
              "#fdca26"
             ],
             [
              1,
              "#f0f921"
             ]
            ],
            "type": "histogram2d"
           }
          ],
          "histogram2dcontour": [
           {
            "colorbar": {
             "outlinewidth": 0,
             "ticks": ""
            },
            "colorscale": [
             [
              0,
              "#0d0887"
             ],
             [
              0.1111111111111111,
              "#46039f"
             ],
             [
              0.2222222222222222,
              "#7201a8"
             ],
             [
              0.3333333333333333,
              "#9c179e"
             ],
             [
              0.4444444444444444,
              "#bd3786"
             ],
             [
              0.5555555555555556,
              "#d8576b"
             ],
             [
              0.6666666666666666,
              "#ed7953"
             ],
             [
              0.7777777777777778,
              "#fb9f3a"
             ],
             [
              0.8888888888888888,
              "#fdca26"
             ],
             [
              1,
              "#f0f921"
             ]
            ],
            "type": "histogram2dcontour"
           }
          ],
          "mesh3d": [
           {
            "colorbar": {
             "outlinewidth": 0,
             "ticks": ""
            },
            "type": "mesh3d"
           }
          ],
          "parcoords": [
           {
            "line": {
             "colorbar": {
              "outlinewidth": 0,
              "ticks": ""
             }
            },
            "type": "parcoords"
           }
          ],
          "pie": [
           {
            "automargin": true,
            "type": "pie"
           }
          ],
          "scatter": [
           {
            "marker": {
             "colorbar": {
              "outlinewidth": 0,
              "ticks": ""
             }
            },
            "type": "scatter"
           }
          ],
          "scatter3d": [
           {
            "line": {
             "colorbar": {
              "outlinewidth": 0,
              "ticks": ""
             }
            },
            "marker": {
             "colorbar": {
              "outlinewidth": 0,
              "ticks": ""
             }
            },
            "type": "scatter3d"
           }
          ],
          "scattercarpet": [
           {
            "marker": {
             "colorbar": {
              "outlinewidth": 0,
              "ticks": ""
             }
            },
            "type": "scattercarpet"
           }
          ],
          "scattergeo": [
           {
            "marker": {
             "colorbar": {
              "outlinewidth": 0,
              "ticks": ""
             }
            },
            "type": "scattergeo"
           }
          ],
          "scattergl": [
           {
            "marker": {
             "colorbar": {
              "outlinewidth": 0,
              "ticks": ""
             }
            },
            "type": "scattergl"
           }
          ],
          "scattermapbox": [
           {
            "marker": {
             "colorbar": {
              "outlinewidth": 0,
              "ticks": ""
             }
            },
            "type": "scattermapbox"
           }
          ],
          "scatterpolar": [
           {
            "marker": {
             "colorbar": {
              "outlinewidth": 0,
              "ticks": ""
             }
            },
            "type": "scatterpolar"
           }
          ],
          "scatterpolargl": [
           {
            "marker": {
             "colorbar": {
              "outlinewidth": 0,
              "ticks": ""
             }
            },
            "type": "scatterpolargl"
           }
          ],
          "scatterternary": [
           {
            "marker": {
             "colorbar": {
              "outlinewidth": 0,
              "ticks": ""
             }
            },
            "type": "scatterternary"
           }
          ],
          "surface": [
           {
            "colorbar": {
             "outlinewidth": 0,
             "ticks": ""
            },
            "colorscale": [
             [
              0,
              "#0d0887"
             ],
             [
              0.1111111111111111,
              "#46039f"
             ],
             [
              0.2222222222222222,
              "#7201a8"
             ],
             [
              0.3333333333333333,
              "#9c179e"
             ],
             [
              0.4444444444444444,
              "#bd3786"
             ],
             [
              0.5555555555555556,
              "#d8576b"
             ],
             [
              0.6666666666666666,
              "#ed7953"
             ],
             [
              0.7777777777777778,
              "#fb9f3a"
             ],
             [
              0.8888888888888888,
              "#fdca26"
             ],
             [
              1,
              "#f0f921"
             ]
            ],
            "type": "surface"
           }
          ],
          "table": [
           {
            "cells": {
             "fill": {
              "color": "#EBF0F8"
             },
             "line": {
              "color": "white"
             }
            },
            "header": {
             "fill": {
              "color": "#C8D4E3"
             },
             "line": {
              "color": "white"
             }
            },
            "type": "table"
           }
          ]
         },
         "layout": {
          "annotationdefaults": {
           "arrowcolor": "#2a3f5f",
           "arrowhead": 0,
           "arrowwidth": 1
          },
          "autotypenumbers": "strict",
          "coloraxis": {
           "colorbar": {
            "outlinewidth": 0,
            "ticks": ""
           }
          },
          "colorscale": {
           "diverging": [
            [
             0,
             "#8e0152"
            ],
            [
             0.1,
             "#c51b7d"
            ],
            [
             0.2,
             "#de77ae"
            ],
            [
             0.3,
             "#f1b6da"
            ],
            [
             0.4,
             "#fde0ef"
            ],
            [
             0.5,
             "#f7f7f7"
            ],
            [
             0.6,
             "#e6f5d0"
            ],
            [
             0.7,
             "#b8e186"
            ],
            [
             0.8,
             "#7fbc41"
            ],
            [
             0.9,
             "#4d9221"
            ],
            [
             1,
             "#276419"
            ]
           ],
           "sequential": [
            [
             0,
             "#0d0887"
            ],
            [
             0.1111111111111111,
             "#46039f"
            ],
            [
             0.2222222222222222,
             "#7201a8"
            ],
            [
             0.3333333333333333,
             "#9c179e"
            ],
            [
             0.4444444444444444,
             "#bd3786"
            ],
            [
             0.5555555555555556,
             "#d8576b"
            ],
            [
             0.6666666666666666,
             "#ed7953"
            ],
            [
             0.7777777777777778,
             "#fb9f3a"
            ],
            [
             0.8888888888888888,
             "#fdca26"
            ],
            [
             1,
             "#f0f921"
            ]
           ],
           "sequentialminus": [
            [
             0,
             "#0d0887"
            ],
            [
             0.1111111111111111,
             "#46039f"
            ],
            [
             0.2222222222222222,
             "#7201a8"
            ],
            [
             0.3333333333333333,
             "#9c179e"
            ],
            [
             0.4444444444444444,
             "#bd3786"
            ],
            [
             0.5555555555555556,
             "#d8576b"
            ],
            [
             0.6666666666666666,
             "#ed7953"
            ],
            [
             0.7777777777777778,
             "#fb9f3a"
            ],
            [
             0.8888888888888888,
             "#fdca26"
            ],
            [
             1,
             "#f0f921"
            ]
           ]
          },
          "colorway": [
           "#636efa",
           "#EF553B",
           "#00cc96",
           "#ab63fa",
           "#FFA15A",
           "#19d3f3",
           "#FF6692",
           "#B6E880",
           "#FF97FF",
           "#FECB52"
          ],
          "font": {
           "color": "#2a3f5f"
          },
          "geo": {
           "bgcolor": "white",
           "lakecolor": "white",
           "landcolor": "#E5ECF6",
           "showlakes": true,
           "showland": true,
           "subunitcolor": "white"
          },
          "hoverlabel": {
           "align": "left"
          },
          "hovermode": "closest",
          "mapbox": {
           "style": "light"
          },
          "paper_bgcolor": "white",
          "plot_bgcolor": "#E5ECF6",
          "polar": {
           "angularaxis": {
            "gridcolor": "white",
            "linecolor": "white",
            "ticks": ""
           },
           "bgcolor": "#E5ECF6",
           "radialaxis": {
            "gridcolor": "white",
            "linecolor": "white",
            "ticks": ""
           }
          },
          "scene": {
           "xaxis": {
            "backgroundcolor": "#E5ECF6",
            "gridcolor": "white",
            "gridwidth": 2,
            "linecolor": "white",
            "showbackground": true,
            "ticks": "",
            "zerolinecolor": "white"
           },
           "yaxis": {
            "backgroundcolor": "#E5ECF6",
            "gridcolor": "white",
            "gridwidth": 2,
            "linecolor": "white",
            "showbackground": true,
            "ticks": "",
            "zerolinecolor": "white"
           },
           "zaxis": {
            "backgroundcolor": "#E5ECF6",
            "gridcolor": "white",
            "gridwidth": 2,
            "linecolor": "white",
            "showbackground": true,
            "ticks": "",
            "zerolinecolor": "white"
           }
          },
          "shapedefaults": {
           "line": {
            "color": "#2a3f5f"
           }
          },
          "ternary": {
           "aaxis": {
            "gridcolor": "white",
            "linecolor": "white",
            "ticks": ""
           },
           "baxis": {
            "gridcolor": "white",
            "linecolor": "white",
            "ticks": ""
           },
           "bgcolor": "#E5ECF6",
           "caxis": {
            "gridcolor": "white",
            "linecolor": "white",
            "ticks": ""
           }
          },
          "title": {
           "x": 0.05
          },
          "xaxis": {
           "automargin": true,
           "gridcolor": "white",
           "linecolor": "white",
           "ticks": "",
           "title": {
            "standoff": 15
           },
           "zerolinecolor": "white",
           "zerolinewidth": 2
          },
          "yaxis": {
           "automargin": true,
           "gridcolor": "white",
           "linecolor": "white",
           "ticks": "",
           "title": {
            "standoff": 15
           },
           "zerolinecolor": "white",
           "zerolinewidth": 2
          }
         }
        },
        "title": {
         "text": "Familias en R2"
        },
        "xaxis": {
         "anchor": "y",
         "domain": [
          0,
          1
         ],
         "range": [
          -2,
          2
         ],
         "title": {
          "text": "Componente principal 1"
         }
        },
        "yaxis": {
         "anchor": "x",
         "domain": [
          0,
          1
         ],
         "range": [
          -2,
          2
         ],
         "title": {
          "text": "Componente principal 2"
         }
        }
       }
      }
     },
     "metadata": {}
    }
   ],
   "metadata": {}
  },
  {
   "cell_type": "markdown",
   "source": [
    "Este tipo de gráficos se puede interpretar de la siguiente manera. Aquellos puntos que están agrupados y cercanos los unos de los otros en ambas dimensiones, significan que son grupos altamente correlacionados. Aquellos puntos que se encuentran cerca en una dimensión pero lejos en la otra dimensión significa que tienen baja correlación. Los puntos que se encuentran distantes en ambas dimensiones, significan que se correlacionan negativamente.\r\n",
    "\r\n",
    "En este caso significa que la familia CA5 y CA4 tienen consumos similares entre ellas por ejemplo."
   ],
   "metadata": {}
  },
  {
   "cell_type": "code",
   "execution_count": 15,
   "source": [
    "fig = px.scatter_3d(cp, x = \"Componente principal 1\", y = \"Componente principal 2\", \r\n",
    "    z = \"Componente principal 3\",\r\n",
    "    text = df.index.values)\r\n",
    "fig.update_traces(textposition = 'top center')\r\n",
    "fig.update_layout(height = 500, title_text = 'Familias en R3')\r\n",
    "fig.update_scenes(aspectratio = dict(x=1, y=1, z=1))"
   ],
   "outputs": [
    {
     "output_type": "display_data",
     "data": {
      "application/vnd.plotly.v1+json": {
       "config": {
        "plotlyServerURL": "https://plotly.com"
       },
       "data": [
        {
         "hovertemplate": "Componente principal 1=%{x}<br>Componente principal 2=%{y}<br>Componente principal 3=%{z}<br>text=%{text}<extra></extra>",
         "legendgroup": "",
         "marker": {
          "color": "#636efa",
          "symbol": "circle"
         },
         "mode": "markers+text",
         "name": "",
         "scene": "scene",
         "showlegend": false,
         "text": [
          "MA2",
          "EM2",
          "CA2",
          "MA3",
          "EM3",
          "CA3",
          "MA4",
          "EM4",
          "CA4",
          "MA5",
          "EM5",
          "CA5"
         ],
         "textposition": "top center",
         "type": "scatter3d",
         "x": [
          2.8586957532332593,
          1.8892391193987303,
          0.11789931561353323,
          2.0407601287121753,
          1.6943128636535456,
          -1.6942975686340458,
          0.9328414749079212,
          0.25216722928826274,
          -1.6005183063923465,
          -0.2210276649239087,
          -1.9511643621773276,
          -4.318907982679799
         ],
         "y": [
          0.36357576907986966,
          1.792236346379185,
          0.7255093818461936,
          -0.32330628751364776,
          0.1627043612237696,
          1.354887014673367,
          -1.371701856625916,
          -0.6324968368449767,
          1.7360126328729917,
          -2.7768214611956377,
          -1.1311925105655545,
          0.1005934466703566
         ],
         "z": [
          0.4037087323456871,
          -1.3060620840064139,
          1.4217079599367939,
          -0.10617169602493394,
          -0.5128882493112623,
          0.9949912599055754,
          -0.2756678109658005,
          0.2733615978009812,
          0.09848423526839138,
          0.5670667818749534,
          -0.9894339218441265,
          -0.5690968049798417
         ]
        }
       ],
       "layout": {
        "height": 500,
        "legend": {
         "tracegroupgap": 0
        },
        "margin": {
         "t": 60
        },
        "scene": {
         "aspectratio": {
          "x": 1,
          "y": 1,
          "z": 1
         },
         "domain": {
          "x": [
           0,
           1
          ],
          "y": [
           0,
           1
          ]
         },
         "xaxis": {
          "title": {
           "text": "Componente principal 1"
          }
         },
         "yaxis": {
          "title": {
           "text": "Componente principal 2"
          }
         },
         "zaxis": {
          "title": {
           "text": "Componente principal 3"
          }
         }
        },
        "template": {
         "data": {
          "bar": [
           {
            "error_x": {
             "color": "#2a3f5f"
            },
            "error_y": {
             "color": "#2a3f5f"
            },
            "marker": {
             "line": {
              "color": "#E5ECF6",
              "width": 0.5
             }
            },
            "type": "bar"
           }
          ],
          "barpolar": [
           {
            "marker": {
             "line": {
              "color": "#E5ECF6",
              "width": 0.5
             }
            },
            "type": "barpolar"
           }
          ],
          "carpet": [
           {
            "aaxis": {
             "endlinecolor": "#2a3f5f",
             "gridcolor": "white",
             "linecolor": "white",
             "minorgridcolor": "white",
             "startlinecolor": "#2a3f5f"
            },
            "baxis": {
             "endlinecolor": "#2a3f5f",
             "gridcolor": "white",
             "linecolor": "white",
             "minorgridcolor": "white",
             "startlinecolor": "#2a3f5f"
            },
            "type": "carpet"
           }
          ],
          "choropleth": [
           {
            "colorbar": {
             "outlinewidth": 0,
             "ticks": ""
            },
            "type": "choropleth"
           }
          ],
          "contour": [
           {
            "colorbar": {
             "outlinewidth": 0,
             "ticks": ""
            },
            "colorscale": [
             [
              0,
              "#0d0887"
             ],
             [
              0.1111111111111111,
              "#46039f"
             ],
             [
              0.2222222222222222,
              "#7201a8"
             ],
             [
              0.3333333333333333,
              "#9c179e"
             ],
             [
              0.4444444444444444,
              "#bd3786"
             ],
             [
              0.5555555555555556,
              "#d8576b"
             ],
             [
              0.6666666666666666,
              "#ed7953"
             ],
             [
              0.7777777777777778,
              "#fb9f3a"
             ],
             [
              0.8888888888888888,
              "#fdca26"
             ],
             [
              1,
              "#f0f921"
             ]
            ],
            "type": "contour"
           }
          ],
          "contourcarpet": [
           {
            "colorbar": {
             "outlinewidth": 0,
             "ticks": ""
            },
            "type": "contourcarpet"
           }
          ],
          "heatmap": [
           {
            "colorbar": {
             "outlinewidth": 0,
             "ticks": ""
            },
            "colorscale": [
             [
              0,
              "#0d0887"
             ],
             [
              0.1111111111111111,
              "#46039f"
             ],
             [
              0.2222222222222222,
              "#7201a8"
             ],
             [
              0.3333333333333333,
              "#9c179e"
             ],
             [
              0.4444444444444444,
              "#bd3786"
             ],
             [
              0.5555555555555556,
              "#d8576b"
             ],
             [
              0.6666666666666666,
              "#ed7953"
             ],
             [
              0.7777777777777778,
              "#fb9f3a"
             ],
             [
              0.8888888888888888,
              "#fdca26"
             ],
             [
              1,
              "#f0f921"
             ]
            ],
            "type": "heatmap"
           }
          ],
          "heatmapgl": [
           {
            "colorbar": {
             "outlinewidth": 0,
             "ticks": ""
            },
            "colorscale": [
             [
              0,
              "#0d0887"
             ],
             [
              0.1111111111111111,
              "#46039f"
             ],
             [
              0.2222222222222222,
              "#7201a8"
             ],
             [
              0.3333333333333333,
              "#9c179e"
             ],
             [
              0.4444444444444444,
              "#bd3786"
             ],
             [
              0.5555555555555556,
              "#d8576b"
             ],
             [
              0.6666666666666666,
              "#ed7953"
             ],
             [
              0.7777777777777778,
              "#fb9f3a"
             ],
             [
              0.8888888888888888,
              "#fdca26"
             ],
             [
              1,
              "#f0f921"
             ]
            ],
            "type": "heatmapgl"
           }
          ],
          "histogram": [
           {
            "marker": {
             "colorbar": {
              "outlinewidth": 0,
              "ticks": ""
             }
            },
            "type": "histogram"
           }
          ],
          "histogram2d": [
           {
            "colorbar": {
             "outlinewidth": 0,
             "ticks": ""
            },
            "colorscale": [
             [
              0,
              "#0d0887"
             ],
             [
              0.1111111111111111,
              "#46039f"
             ],
             [
              0.2222222222222222,
              "#7201a8"
             ],
             [
              0.3333333333333333,
              "#9c179e"
             ],
             [
              0.4444444444444444,
              "#bd3786"
             ],
             [
              0.5555555555555556,
              "#d8576b"
             ],
             [
              0.6666666666666666,
              "#ed7953"
             ],
             [
              0.7777777777777778,
              "#fb9f3a"
             ],
             [
              0.8888888888888888,
              "#fdca26"
             ],
             [
              1,
              "#f0f921"
             ]
            ],
            "type": "histogram2d"
           }
          ],
          "histogram2dcontour": [
           {
            "colorbar": {
             "outlinewidth": 0,
             "ticks": ""
            },
            "colorscale": [
             [
              0,
              "#0d0887"
             ],
             [
              0.1111111111111111,
              "#46039f"
             ],
             [
              0.2222222222222222,
              "#7201a8"
             ],
             [
              0.3333333333333333,
              "#9c179e"
             ],
             [
              0.4444444444444444,
              "#bd3786"
             ],
             [
              0.5555555555555556,
              "#d8576b"
             ],
             [
              0.6666666666666666,
              "#ed7953"
             ],
             [
              0.7777777777777778,
              "#fb9f3a"
             ],
             [
              0.8888888888888888,
              "#fdca26"
             ],
             [
              1,
              "#f0f921"
             ]
            ],
            "type": "histogram2dcontour"
           }
          ],
          "mesh3d": [
           {
            "colorbar": {
             "outlinewidth": 0,
             "ticks": ""
            },
            "type": "mesh3d"
           }
          ],
          "parcoords": [
           {
            "line": {
             "colorbar": {
              "outlinewidth": 0,
              "ticks": ""
             }
            },
            "type": "parcoords"
           }
          ],
          "pie": [
           {
            "automargin": true,
            "type": "pie"
           }
          ],
          "scatter": [
           {
            "marker": {
             "colorbar": {
              "outlinewidth": 0,
              "ticks": ""
             }
            },
            "type": "scatter"
           }
          ],
          "scatter3d": [
           {
            "line": {
             "colorbar": {
              "outlinewidth": 0,
              "ticks": ""
             }
            },
            "marker": {
             "colorbar": {
              "outlinewidth": 0,
              "ticks": ""
             }
            },
            "type": "scatter3d"
           }
          ],
          "scattercarpet": [
           {
            "marker": {
             "colorbar": {
              "outlinewidth": 0,
              "ticks": ""
             }
            },
            "type": "scattercarpet"
           }
          ],
          "scattergeo": [
           {
            "marker": {
             "colorbar": {
              "outlinewidth": 0,
              "ticks": ""
             }
            },
            "type": "scattergeo"
           }
          ],
          "scattergl": [
           {
            "marker": {
             "colorbar": {
              "outlinewidth": 0,
              "ticks": ""
             }
            },
            "type": "scattergl"
           }
          ],
          "scattermapbox": [
           {
            "marker": {
             "colorbar": {
              "outlinewidth": 0,
              "ticks": ""
             }
            },
            "type": "scattermapbox"
           }
          ],
          "scatterpolar": [
           {
            "marker": {
             "colorbar": {
              "outlinewidth": 0,
              "ticks": ""
             }
            },
            "type": "scatterpolar"
           }
          ],
          "scatterpolargl": [
           {
            "marker": {
             "colorbar": {
              "outlinewidth": 0,
              "ticks": ""
             }
            },
            "type": "scatterpolargl"
           }
          ],
          "scatterternary": [
           {
            "marker": {
             "colorbar": {
              "outlinewidth": 0,
              "ticks": ""
             }
            },
            "type": "scatterternary"
           }
          ],
          "surface": [
           {
            "colorbar": {
             "outlinewidth": 0,
             "ticks": ""
            },
            "colorscale": [
             [
              0,
              "#0d0887"
             ],
             [
              0.1111111111111111,
              "#46039f"
             ],
             [
              0.2222222222222222,
              "#7201a8"
             ],
             [
              0.3333333333333333,
              "#9c179e"
             ],
             [
              0.4444444444444444,
              "#bd3786"
             ],
             [
              0.5555555555555556,
              "#d8576b"
             ],
             [
              0.6666666666666666,
              "#ed7953"
             ],
             [
              0.7777777777777778,
              "#fb9f3a"
             ],
             [
              0.8888888888888888,
              "#fdca26"
             ],
             [
              1,
              "#f0f921"
             ]
            ],
            "type": "surface"
           }
          ],
          "table": [
           {
            "cells": {
             "fill": {
              "color": "#EBF0F8"
             },
             "line": {
              "color": "white"
             }
            },
            "header": {
             "fill": {
              "color": "#C8D4E3"
             },
             "line": {
              "color": "white"
             }
            },
            "type": "table"
           }
          ]
         },
         "layout": {
          "annotationdefaults": {
           "arrowcolor": "#2a3f5f",
           "arrowhead": 0,
           "arrowwidth": 1
          },
          "autotypenumbers": "strict",
          "coloraxis": {
           "colorbar": {
            "outlinewidth": 0,
            "ticks": ""
           }
          },
          "colorscale": {
           "diverging": [
            [
             0,
             "#8e0152"
            ],
            [
             0.1,
             "#c51b7d"
            ],
            [
             0.2,
             "#de77ae"
            ],
            [
             0.3,
             "#f1b6da"
            ],
            [
             0.4,
             "#fde0ef"
            ],
            [
             0.5,
             "#f7f7f7"
            ],
            [
             0.6,
             "#e6f5d0"
            ],
            [
             0.7,
             "#b8e186"
            ],
            [
             0.8,
             "#7fbc41"
            ],
            [
             0.9,
             "#4d9221"
            ],
            [
             1,
             "#276419"
            ]
           ],
           "sequential": [
            [
             0,
             "#0d0887"
            ],
            [
             0.1111111111111111,
             "#46039f"
            ],
            [
             0.2222222222222222,
             "#7201a8"
            ],
            [
             0.3333333333333333,
             "#9c179e"
            ],
            [
             0.4444444444444444,
             "#bd3786"
            ],
            [
             0.5555555555555556,
             "#d8576b"
            ],
            [
             0.6666666666666666,
             "#ed7953"
            ],
            [
             0.7777777777777778,
             "#fb9f3a"
            ],
            [
             0.8888888888888888,
             "#fdca26"
            ],
            [
             1,
             "#f0f921"
            ]
           ],
           "sequentialminus": [
            [
             0,
             "#0d0887"
            ],
            [
             0.1111111111111111,
             "#46039f"
            ],
            [
             0.2222222222222222,
             "#7201a8"
            ],
            [
             0.3333333333333333,
             "#9c179e"
            ],
            [
             0.4444444444444444,
             "#bd3786"
            ],
            [
             0.5555555555555556,
             "#d8576b"
            ],
            [
             0.6666666666666666,
             "#ed7953"
            ],
            [
             0.7777777777777778,
             "#fb9f3a"
            ],
            [
             0.8888888888888888,
             "#fdca26"
            ],
            [
             1,
             "#f0f921"
            ]
           ]
          },
          "colorway": [
           "#636efa",
           "#EF553B",
           "#00cc96",
           "#ab63fa",
           "#FFA15A",
           "#19d3f3",
           "#FF6692",
           "#B6E880",
           "#FF97FF",
           "#FECB52"
          ],
          "font": {
           "color": "#2a3f5f"
          },
          "geo": {
           "bgcolor": "white",
           "lakecolor": "white",
           "landcolor": "#E5ECF6",
           "showlakes": true,
           "showland": true,
           "subunitcolor": "white"
          },
          "hoverlabel": {
           "align": "left"
          },
          "hovermode": "closest",
          "mapbox": {
           "style": "light"
          },
          "paper_bgcolor": "white",
          "plot_bgcolor": "#E5ECF6",
          "polar": {
           "angularaxis": {
            "gridcolor": "white",
            "linecolor": "white",
            "ticks": ""
           },
           "bgcolor": "#E5ECF6",
           "radialaxis": {
            "gridcolor": "white",
            "linecolor": "white",
            "ticks": ""
           }
          },
          "scene": {
           "xaxis": {
            "backgroundcolor": "#E5ECF6",
            "gridcolor": "white",
            "gridwidth": 2,
            "linecolor": "white",
            "showbackground": true,
            "ticks": "",
            "zerolinecolor": "white"
           },
           "yaxis": {
            "backgroundcolor": "#E5ECF6",
            "gridcolor": "white",
            "gridwidth": 2,
            "linecolor": "white",
            "showbackground": true,
            "ticks": "",
            "zerolinecolor": "white"
           },
           "zaxis": {
            "backgroundcolor": "#E5ECF6",
            "gridcolor": "white",
            "gridwidth": 2,
            "linecolor": "white",
            "showbackground": true,
            "ticks": "",
            "zerolinecolor": "white"
           }
          },
          "shapedefaults": {
           "line": {
            "color": "#2a3f5f"
           }
          },
          "ternary": {
           "aaxis": {
            "gridcolor": "white",
            "linecolor": "white",
            "ticks": ""
           },
           "baxis": {
            "gridcolor": "white",
            "linecolor": "white",
            "ticks": ""
           },
           "bgcolor": "#E5ECF6",
           "caxis": {
            "gridcolor": "white",
            "linecolor": "white",
            "ticks": ""
           }
          },
          "title": {
           "x": 0.05
          },
          "xaxis": {
           "automargin": true,
           "gridcolor": "white",
           "linecolor": "white",
           "ticks": "",
           "title": {
            "standoff": 15
           },
           "zerolinecolor": "white",
           "zerolinewidth": 2
          },
          "yaxis": {
           "automargin": true,
           "gridcolor": "white",
           "linecolor": "white",
           "ticks": "",
           "title": {
            "standoff": 15
           },
           "zerolinecolor": "white",
           "zerolinewidth": 2
          }
         }
        },
        "title": {
         "text": "Familias en R3"
        }
       }
      }
     },
     "metadata": {}
    }
   ],
   "metadata": {}
  },
  {
   "cell_type": "markdown",
   "source": [
    "Una de las características interesantes de Componentes Principales es que no solo se pueden visualizar las observaciones sino también las columnas y así ver como se relacionan los productos en este caso. Para realizar esto solo es necesario trasponer la matriz original y repetir el proceso. \r\n",
    "\r\n",
    "En este caso usaremos el comando automático de scikit-learn."
   ],
   "metadata": {}
  },
  {
   "cell_type": "code",
   "execution_count": 16,
   "source": [
    "from sklearn.preprocessing import StandardScaler\r\n",
    "from sklearn.decomposition import PCA\r\n",
    "\r\n",
    "# Estandarizamos la data\r\n",
    "df2 = StandardScaler().fit_transform(df)\r\n",
    "# Trasponemos la base estandarizada para hacer el análisis por columnas\r\n",
    "X2 = df2.T \r\n",
    "# Sacamos todos los componentes principales\r\n",
    "pca = PCA(n_components = len(X2))\r\n",
    "cp2 = pca.fit_transform(X2)"
   ],
   "outputs": [],
   "metadata": {}
  },
  {
   "cell_type": "code",
   "execution_count": 20,
   "source": [
    "cp2 = pd.DataFrame(cp2, columns = [\"Componente principal \" + str(i) for i in range(1, 8)])\r\n",
    "fig = px.scatter(cp2, x = \"Componente principal 1\", y = \"Componente principal 2\",\r\n",
    "    text = df.columns.values)\r\n",
    "fig.update_traces(textposition = 'top center')\r\n",
    "fig.update_layout(height = 500, title_text = 'Productos en R2')\r\n",
    "fig.update_yaxes(range = [-4, 4])\r\n",
    "fig.update_xaxes(range = [-4, 4])"
   ],
   "outputs": [
    {
     "output_type": "display_data",
     "data": {
      "application/vnd.plotly.v1+json": {
       "config": {
        "plotlyServerURL": "https://plotly.com"
       },
       "data": [
        {
         "hovertemplate": "Componente principal 1=%{x}<br>Componente principal 2=%{y}<br>text=%{text}<extra></extra>",
         "legendgroup": "",
         "marker": {
          "color": "#636efa",
          "symbol": "circle"
         },
         "mode": "markers+text",
         "name": "",
         "orientation": "v",
         "showlegend": false,
         "text": [
          "pan",
          "vegetales",
          "frutas",
          "carne",
          "aves",
          "leche",
          "vino"
         ],
         "textposition": "top center",
         "type": "scatter",
         "x": [
          1.7019422927153598,
          -1.1449212564179498,
          -1.9149761254755475,
          -1.787251461965677,
          -1.7881332993777839,
          1.0494247585982273,
          3.8839150919233747
         ],
         "xaxis": "x",
         "y": [
          1.360219380126079,
          0.6874651393482247,
          -0.6278038681186531,
          -0.4968625119538304,
          -0.9906344762834856,
          1.9940698504109011,
          -1.9264535135292362
         ],
         "yaxis": "y"
        }
       ],
       "layout": {
        "height": 500,
        "legend": {
         "tracegroupgap": 0
        },
        "margin": {
         "t": 60
        },
        "template": {
         "data": {
          "bar": [
           {
            "error_x": {
             "color": "#2a3f5f"
            },
            "error_y": {
             "color": "#2a3f5f"
            },
            "marker": {
             "line": {
              "color": "#E5ECF6",
              "width": 0.5
             }
            },
            "type": "bar"
           }
          ],
          "barpolar": [
           {
            "marker": {
             "line": {
              "color": "#E5ECF6",
              "width": 0.5
             }
            },
            "type": "barpolar"
           }
          ],
          "carpet": [
           {
            "aaxis": {
             "endlinecolor": "#2a3f5f",
             "gridcolor": "white",
             "linecolor": "white",
             "minorgridcolor": "white",
             "startlinecolor": "#2a3f5f"
            },
            "baxis": {
             "endlinecolor": "#2a3f5f",
             "gridcolor": "white",
             "linecolor": "white",
             "minorgridcolor": "white",
             "startlinecolor": "#2a3f5f"
            },
            "type": "carpet"
           }
          ],
          "choropleth": [
           {
            "colorbar": {
             "outlinewidth": 0,
             "ticks": ""
            },
            "type": "choropleth"
           }
          ],
          "contour": [
           {
            "colorbar": {
             "outlinewidth": 0,
             "ticks": ""
            },
            "colorscale": [
             [
              0,
              "#0d0887"
             ],
             [
              0.1111111111111111,
              "#46039f"
             ],
             [
              0.2222222222222222,
              "#7201a8"
             ],
             [
              0.3333333333333333,
              "#9c179e"
             ],
             [
              0.4444444444444444,
              "#bd3786"
             ],
             [
              0.5555555555555556,
              "#d8576b"
             ],
             [
              0.6666666666666666,
              "#ed7953"
             ],
             [
              0.7777777777777778,
              "#fb9f3a"
             ],
             [
              0.8888888888888888,
              "#fdca26"
             ],
             [
              1,
              "#f0f921"
             ]
            ],
            "type": "contour"
           }
          ],
          "contourcarpet": [
           {
            "colorbar": {
             "outlinewidth": 0,
             "ticks": ""
            },
            "type": "contourcarpet"
           }
          ],
          "heatmap": [
           {
            "colorbar": {
             "outlinewidth": 0,
             "ticks": ""
            },
            "colorscale": [
             [
              0,
              "#0d0887"
             ],
             [
              0.1111111111111111,
              "#46039f"
             ],
             [
              0.2222222222222222,
              "#7201a8"
             ],
             [
              0.3333333333333333,
              "#9c179e"
             ],
             [
              0.4444444444444444,
              "#bd3786"
             ],
             [
              0.5555555555555556,
              "#d8576b"
             ],
             [
              0.6666666666666666,
              "#ed7953"
             ],
             [
              0.7777777777777778,
              "#fb9f3a"
             ],
             [
              0.8888888888888888,
              "#fdca26"
             ],
             [
              1,
              "#f0f921"
             ]
            ],
            "type": "heatmap"
           }
          ],
          "heatmapgl": [
           {
            "colorbar": {
             "outlinewidth": 0,
             "ticks": ""
            },
            "colorscale": [
             [
              0,
              "#0d0887"
             ],
             [
              0.1111111111111111,
              "#46039f"
             ],
             [
              0.2222222222222222,
              "#7201a8"
             ],
             [
              0.3333333333333333,
              "#9c179e"
             ],
             [
              0.4444444444444444,
              "#bd3786"
             ],
             [
              0.5555555555555556,
              "#d8576b"
             ],
             [
              0.6666666666666666,
              "#ed7953"
             ],
             [
              0.7777777777777778,
              "#fb9f3a"
             ],
             [
              0.8888888888888888,
              "#fdca26"
             ],
             [
              1,
              "#f0f921"
             ]
            ],
            "type": "heatmapgl"
           }
          ],
          "histogram": [
           {
            "marker": {
             "colorbar": {
              "outlinewidth": 0,
              "ticks": ""
             }
            },
            "type": "histogram"
           }
          ],
          "histogram2d": [
           {
            "colorbar": {
             "outlinewidth": 0,
             "ticks": ""
            },
            "colorscale": [
             [
              0,
              "#0d0887"
             ],
             [
              0.1111111111111111,
              "#46039f"
             ],
             [
              0.2222222222222222,
              "#7201a8"
             ],
             [
              0.3333333333333333,
              "#9c179e"
             ],
             [
              0.4444444444444444,
              "#bd3786"
             ],
             [
              0.5555555555555556,
              "#d8576b"
             ],
             [
              0.6666666666666666,
              "#ed7953"
             ],
             [
              0.7777777777777778,
              "#fb9f3a"
             ],
             [
              0.8888888888888888,
              "#fdca26"
             ],
             [
              1,
              "#f0f921"
             ]
            ],
            "type": "histogram2d"
           }
          ],
          "histogram2dcontour": [
           {
            "colorbar": {
             "outlinewidth": 0,
             "ticks": ""
            },
            "colorscale": [
             [
              0,
              "#0d0887"
             ],
             [
              0.1111111111111111,
              "#46039f"
             ],
             [
              0.2222222222222222,
              "#7201a8"
             ],
             [
              0.3333333333333333,
              "#9c179e"
             ],
             [
              0.4444444444444444,
              "#bd3786"
             ],
             [
              0.5555555555555556,
              "#d8576b"
             ],
             [
              0.6666666666666666,
              "#ed7953"
             ],
             [
              0.7777777777777778,
              "#fb9f3a"
             ],
             [
              0.8888888888888888,
              "#fdca26"
             ],
             [
              1,
              "#f0f921"
             ]
            ],
            "type": "histogram2dcontour"
           }
          ],
          "mesh3d": [
           {
            "colorbar": {
             "outlinewidth": 0,
             "ticks": ""
            },
            "type": "mesh3d"
           }
          ],
          "parcoords": [
           {
            "line": {
             "colorbar": {
              "outlinewidth": 0,
              "ticks": ""
             }
            },
            "type": "parcoords"
           }
          ],
          "pie": [
           {
            "automargin": true,
            "type": "pie"
           }
          ],
          "scatter": [
           {
            "marker": {
             "colorbar": {
              "outlinewidth": 0,
              "ticks": ""
             }
            },
            "type": "scatter"
           }
          ],
          "scatter3d": [
           {
            "line": {
             "colorbar": {
              "outlinewidth": 0,
              "ticks": ""
             }
            },
            "marker": {
             "colorbar": {
              "outlinewidth": 0,
              "ticks": ""
             }
            },
            "type": "scatter3d"
           }
          ],
          "scattercarpet": [
           {
            "marker": {
             "colorbar": {
              "outlinewidth": 0,
              "ticks": ""
             }
            },
            "type": "scattercarpet"
           }
          ],
          "scattergeo": [
           {
            "marker": {
             "colorbar": {
              "outlinewidth": 0,
              "ticks": ""
             }
            },
            "type": "scattergeo"
           }
          ],
          "scattergl": [
           {
            "marker": {
             "colorbar": {
              "outlinewidth": 0,
              "ticks": ""
             }
            },
            "type": "scattergl"
           }
          ],
          "scattermapbox": [
           {
            "marker": {
             "colorbar": {
              "outlinewidth": 0,
              "ticks": ""
             }
            },
            "type": "scattermapbox"
           }
          ],
          "scatterpolar": [
           {
            "marker": {
             "colorbar": {
              "outlinewidth": 0,
              "ticks": ""
             }
            },
            "type": "scatterpolar"
           }
          ],
          "scatterpolargl": [
           {
            "marker": {
             "colorbar": {
              "outlinewidth": 0,
              "ticks": ""
             }
            },
            "type": "scatterpolargl"
           }
          ],
          "scatterternary": [
           {
            "marker": {
             "colorbar": {
              "outlinewidth": 0,
              "ticks": ""
             }
            },
            "type": "scatterternary"
           }
          ],
          "surface": [
           {
            "colorbar": {
             "outlinewidth": 0,
             "ticks": ""
            },
            "colorscale": [
             [
              0,
              "#0d0887"
             ],
             [
              0.1111111111111111,
              "#46039f"
             ],
             [
              0.2222222222222222,
              "#7201a8"
             ],
             [
              0.3333333333333333,
              "#9c179e"
             ],
             [
              0.4444444444444444,
              "#bd3786"
             ],
             [
              0.5555555555555556,
              "#d8576b"
             ],
             [
              0.6666666666666666,
              "#ed7953"
             ],
             [
              0.7777777777777778,
              "#fb9f3a"
             ],
             [
              0.8888888888888888,
              "#fdca26"
             ],
             [
              1,
              "#f0f921"
             ]
            ],
            "type": "surface"
           }
          ],
          "table": [
           {
            "cells": {
             "fill": {
              "color": "#EBF0F8"
             },
             "line": {
              "color": "white"
             }
            },
            "header": {
             "fill": {
              "color": "#C8D4E3"
             },
             "line": {
              "color": "white"
             }
            },
            "type": "table"
           }
          ]
         },
         "layout": {
          "annotationdefaults": {
           "arrowcolor": "#2a3f5f",
           "arrowhead": 0,
           "arrowwidth": 1
          },
          "autotypenumbers": "strict",
          "coloraxis": {
           "colorbar": {
            "outlinewidth": 0,
            "ticks": ""
           }
          },
          "colorscale": {
           "diverging": [
            [
             0,
             "#8e0152"
            ],
            [
             0.1,
             "#c51b7d"
            ],
            [
             0.2,
             "#de77ae"
            ],
            [
             0.3,
             "#f1b6da"
            ],
            [
             0.4,
             "#fde0ef"
            ],
            [
             0.5,
             "#f7f7f7"
            ],
            [
             0.6,
             "#e6f5d0"
            ],
            [
             0.7,
             "#b8e186"
            ],
            [
             0.8,
             "#7fbc41"
            ],
            [
             0.9,
             "#4d9221"
            ],
            [
             1,
             "#276419"
            ]
           ],
           "sequential": [
            [
             0,
             "#0d0887"
            ],
            [
             0.1111111111111111,
             "#46039f"
            ],
            [
             0.2222222222222222,
             "#7201a8"
            ],
            [
             0.3333333333333333,
             "#9c179e"
            ],
            [
             0.4444444444444444,
             "#bd3786"
            ],
            [
             0.5555555555555556,
             "#d8576b"
            ],
            [
             0.6666666666666666,
             "#ed7953"
            ],
            [
             0.7777777777777778,
             "#fb9f3a"
            ],
            [
             0.8888888888888888,
             "#fdca26"
            ],
            [
             1,
             "#f0f921"
            ]
           ],
           "sequentialminus": [
            [
             0,
             "#0d0887"
            ],
            [
             0.1111111111111111,
             "#46039f"
            ],
            [
             0.2222222222222222,
             "#7201a8"
            ],
            [
             0.3333333333333333,
             "#9c179e"
            ],
            [
             0.4444444444444444,
             "#bd3786"
            ],
            [
             0.5555555555555556,
             "#d8576b"
            ],
            [
             0.6666666666666666,
             "#ed7953"
            ],
            [
             0.7777777777777778,
             "#fb9f3a"
            ],
            [
             0.8888888888888888,
             "#fdca26"
            ],
            [
             1,
             "#f0f921"
            ]
           ]
          },
          "colorway": [
           "#636efa",
           "#EF553B",
           "#00cc96",
           "#ab63fa",
           "#FFA15A",
           "#19d3f3",
           "#FF6692",
           "#B6E880",
           "#FF97FF",
           "#FECB52"
          ],
          "font": {
           "color": "#2a3f5f"
          },
          "geo": {
           "bgcolor": "white",
           "lakecolor": "white",
           "landcolor": "#E5ECF6",
           "showlakes": true,
           "showland": true,
           "subunitcolor": "white"
          },
          "hoverlabel": {
           "align": "left"
          },
          "hovermode": "closest",
          "mapbox": {
           "style": "light"
          },
          "paper_bgcolor": "white",
          "plot_bgcolor": "#E5ECF6",
          "polar": {
           "angularaxis": {
            "gridcolor": "white",
            "linecolor": "white",
            "ticks": ""
           },
           "bgcolor": "#E5ECF6",
           "radialaxis": {
            "gridcolor": "white",
            "linecolor": "white",
            "ticks": ""
           }
          },
          "scene": {
           "xaxis": {
            "backgroundcolor": "#E5ECF6",
            "gridcolor": "white",
            "gridwidth": 2,
            "linecolor": "white",
            "showbackground": true,
            "ticks": "",
            "zerolinecolor": "white"
           },
           "yaxis": {
            "backgroundcolor": "#E5ECF6",
            "gridcolor": "white",
            "gridwidth": 2,
            "linecolor": "white",
            "showbackground": true,
            "ticks": "",
            "zerolinecolor": "white"
           },
           "zaxis": {
            "backgroundcolor": "#E5ECF6",
            "gridcolor": "white",
            "gridwidth": 2,
            "linecolor": "white",
            "showbackground": true,
            "ticks": "",
            "zerolinecolor": "white"
           }
          },
          "shapedefaults": {
           "line": {
            "color": "#2a3f5f"
           }
          },
          "ternary": {
           "aaxis": {
            "gridcolor": "white",
            "linecolor": "white",
            "ticks": ""
           },
           "baxis": {
            "gridcolor": "white",
            "linecolor": "white",
            "ticks": ""
           },
           "bgcolor": "#E5ECF6",
           "caxis": {
            "gridcolor": "white",
            "linecolor": "white",
            "ticks": ""
           }
          },
          "title": {
           "x": 0.05
          },
          "xaxis": {
           "automargin": true,
           "gridcolor": "white",
           "linecolor": "white",
           "ticks": "",
           "title": {
            "standoff": 15
           },
           "zerolinecolor": "white",
           "zerolinewidth": 2
          },
          "yaxis": {
           "automargin": true,
           "gridcolor": "white",
           "linecolor": "white",
           "ticks": "",
           "title": {
            "standoff": 15
           },
           "zerolinecolor": "white",
           "zerolinewidth": 2
          }
         }
        },
        "title": {
         "text": "Productos en R2"
        },
        "xaxis": {
         "anchor": "y",
         "domain": [
          0,
          1
         ],
         "range": [
          -4,
          4
         ],
         "title": {
          "text": "Componente principal 1"
         }
        },
        "yaxis": {
         "anchor": "x",
         "domain": [
          0,
          1
         ],
         "range": [
          -4,
          4
         ],
         "title": {
          "text": "Componente principal 2"
         }
        }
       }
      }
     },
     "metadata": {}
    }
   ],
   "metadata": {}
  },
  {
   "cell_type": "markdown",
   "source": [
    "Finalmente, podemos concluir que la carne, las frutas y las aves están positivamente correlacionadas entre sí."
   ],
   "metadata": {}
  },
  {
   "cell_type": "code",
   "execution_count": 18,
   "source": [
    "fig = px.scatter_3d(cp2, x = \"Componente principal 1\", y = \"Componente principal 2\", \r\n",
    "    z = \"Componente principal 3\",\r\n",
    "    text = df.columns)\r\n",
    "fig.update_traces(textposition = 'top center')\r\n",
    "fig.update_layout(height = 500, title_text = 'Productos en R3')\r\n",
    "fig.update_scenes(aspectratio = dict(x=1, y=1, z=1))"
   ],
   "outputs": [
    {
     "output_type": "display_data",
     "data": {
      "application/vnd.plotly.v1+json": {
       "config": {
        "plotlyServerURL": "https://plotly.com"
       },
       "data": [
        {
         "hovertemplate": "Componente principal 1=%{x}<br>Componente principal 2=%{y}<br>Componente principal 3=%{z}<br>text=%{text}<extra></extra>",
         "legendgroup": "",
         "marker": {
          "color": "#636efa",
          "symbol": "circle"
         },
         "mode": "markers+text",
         "name": "",
         "scene": "scene",
         "showlegend": false,
         "text": [
          "pan",
          "vegetales",
          "frutas",
          "carne",
          "aves",
          "leche",
          "vino"
         ],
         "textposition": "top center",
         "type": "scatter3d",
         "x": [
          1.7019422927153598,
          -1.1449212564179498,
          -1.9149761254755475,
          -1.787251461965677,
          -1.7881332993777839,
          1.0494247585982273,
          3.8839150919233747
         ],
         "y": [
          1.360219380126079,
          0.6874651393482247,
          -0.6278038681186531,
          -0.4968625119538304,
          -0.9906344762834856,
          1.9940698504109011,
          -1.9264535135292362
         ],
         "z": [
          0.8402326140552302,
          0.10527238879932029,
          -0.6529454578783324,
          0.13095236704086272,
          0.4801890628554124,
          -0.7206625136813977,
          -0.1830384611910971
         ]
        }
       ],
       "layout": {
        "height": 500,
        "legend": {
         "tracegroupgap": 0
        },
        "margin": {
         "t": 60
        },
        "scene": {
         "aspectratio": {
          "x": 1,
          "y": 1,
          "z": 1
         },
         "domain": {
          "x": [
           0,
           1
          ],
          "y": [
           0,
           1
          ]
         },
         "xaxis": {
          "title": {
           "text": "Componente principal 1"
          }
         },
         "yaxis": {
          "title": {
           "text": "Componente principal 2"
          }
         },
         "zaxis": {
          "title": {
           "text": "Componente principal 3"
          }
         }
        },
        "template": {
         "data": {
          "bar": [
           {
            "error_x": {
             "color": "#2a3f5f"
            },
            "error_y": {
             "color": "#2a3f5f"
            },
            "marker": {
             "line": {
              "color": "#E5ECF6",
              "width": 0.5
             }
            },
            "type": "bar"
           }
          ],
          "barpolar": [
           {
            "marker": {
             "line": {
              "color": "#E5ECF6",
              "width": 0.5
             }
            },
            "type": "barpolar"
           }
          ],
          "carpet": [
           {
            "aaxis": {
             "endlinecolor": "#2a3f5f",
             "gridcolor": "white",
             "linecolor": "white",
             "minorgridcolor": "white",
             "startlinecolor": "#2a3f5f"
            },
            "baxis": {
             "endlinecolor": "#2a3f5f",
             "gridcolor": "white",
             "linecolor": "white",
             "minorgridcolor": "white",
             "startlinecolor": "#2a3f5f"
            },
            "type": "carpet"
           }
          ],
          "choropleth": [
           {
            "colorbar": {
             "outlinewidth": 0,
             "ticks": ""
            },
            "type": "choropleth"
           }
          ],
          "contour": [
           {
            "colorbar": {
             "outlinewidth": 0,
             "ticks": ""
            },
            "colorscale": [
             [
              0,
              "#0d0887"
             ],
             [
              0.1111111111111111,
              "#46039f"
             ],
             [
              0.2222222222222222,
              "#7201a8"
             ],
             [
              0.3333333333333333,
              "#9c179e"
             ],
             [
              0.4444444444444444,
              "#bd3786"
             ],
             [
              0.5555555555555556,
              "#d8576b"
             ],
             [
              0.6666666666666666,
              "#ed7953"
             ],
             [
              0.7777777777777778,
              "#fb9f3a"
             ],
             [
              0.8888888888888888,
              "#fdca26"
             ],
             [
              1,
              "#f0f921"
             ]
            ],
            "type": "contour"
           }
          ],
          "contourcarpet": [
           {
            "colorbar": {
             "outlinewidth": 0,
             "ticks": ""
            },
            "type": "contourcarpet"
           }
          ],
          "heatmap": [
           {
            "colorbar": {
             "outlinewidth": 0,
             "ticks": ""
            },
            "colorscale": [
             [
              0,
              "#0d0887"
             ],
             [
              0.1111111111111111,
              "#46039f"
             ],
             [
              0.2222222222222222,
              "#7201a8"
             ],
             [
              0.3333333333333333,
              "#9c179e"
             ],
             [
              0.4444444444444444,
              "#bd3786"
             ],
             [
              0.5555555555555556,
              "#d8576b"
             ],
             [
              0.6666666666666666,
              "#ed7953"
             ],
             [
              0.7777777777777778,
              "#fb9f3a"
             ],
             [
              0.8888888888888888,
              "#fdca26"
             ],
             [
              1,
              "#f0f921"
             ]
            ],
            "type": "heatmap"
           }
          ],
          "heatmapgl": [
           {
            "colorbar": {
             "outlinewidth": 0,
             "ticks": ""
            },
            "colorscale": [
             [
              0,
              "#0d0887"
             ],
             [
              0.1111111111111111,
              "#46039f"
             ],
             [
              0.2222222222222222,
              "#7201a8"
             ],
             [
              0.3333333333333333,
              "#9c179e"
             ],
             [
              0.4444444444444444,
              "#bd3786"
             ],
             [
              0.5555555555555556,
              "#d8576b"
             ],
             [
              0.6666666666666666,
              "#ed7953"
             ],
             [
              0.7777777777777778,
              "#fb9f3a"
             ],
             [
              0.8888888888888888,
              "#fdca26"
             ],
             [
              1,
              "#f0f921"
             ]
            ],
            "type": "heatmapgl"
           }
          ],
          "histogram": [
           {
            "marker": {
             "colorbar": {
              "outlinewidth": 0,
              "ticks": ""
             }
            },
            "type": "histogram"
           }
          ],
          "histogram2d": [
           {
            "colorbar": {
             "outlinewidth": 0,
             "ticks": ""
            },
            "colorscale": [
             [
              0,
              "#0d0887"
             ],
             [
              0.1111111111111111,
              "#46039f"
             ],
             [
              0.2222222222222222,
              "#7201a8"
             ],
             [
              0.3333333333333333,
              "#9c179e"
             ],
             [
              0.4444444444444444,
              "#bd3786"
             ],
             [
              0.5555555555555556,
              "#d8576b"
             ],
             [
              0.6666666666666666,
              "#ed7953"
             ],
             [
              0.7777777777777778,
              "#fb9f3a"
             ],
             [
              0.8888888888888888,
              "#fdca26"
             ],
             [
              1,
              "#f0f921"
             ]
            ],
            "type": "histogram2d"
           }
          ],
          "histogram2dcontour": [
           {
            "colorbar": {
             "outlinewidth": 0,
             "ticks": ""
            },
            "colorscale": [
             [
              0,
              "#0d0887"
             ],
             [
              0.1111111111111111,
              "#46039f"
             ],
             [
              0.2222222222222222,
              "#7201a8"
             ],
             [
              0.3333333333333333,
              "#9c179e"
             ],
             [
              0.4444444444444444,
              "#bd3786"
             ],
             [
              0.5555555555555556,
              "#d8576b"
             ],
             [
              0.6666666666666666,
              "#ed7953"
             ],
             [
              0.7777777777777778,
              "#fb9f3a"
             ],
             [
              0.8888888888888888,
              "#fdca26"
             ],
             [
              1,
              "#f0f921"
             ]
            ],
            "type": "histogram2dcontour"
           }
          ],
          "mesh3d": [
           {
            "colorbar": {
             "outlinewidth": 0,
             "ticks": ""
            },
            "type": "mesh3d"
           }
          ],
          "parcoords": [
           {
            "line": {
             "colorbar": {
              "outlinewidth": 0,
              "ticks": ""
             }
            },
            "type": "parcoords"
           }
          ],
          "pie": [
           {
            "automargin": true,
            "type": "pie"
           }
          ],
          "scatter": [
           {
            "marker": {
             "colorbar": {
              "outlinewidth": 0,
              "ticks": ""
             }
            },
            "type": "scatter"
           }
          ],
          "scatter3d": [
           {
            "line": {
             "colorbar": {
              "outlinewidth": 0,
              "ticks": ""
             }
            },
            "marker": {
             "colorbar": {
              "outlinewidth": 0,
              "ticks": ""
             }
            },
            "type": "scatter3d"
           }
          ],
          "scattercarpet": [
           {
            "marker": {
             "colorbar": {
              "outlinewidth": 0,
              "ticks": ""
             }
            },
            "type": "scattercarpet"
           }
          ],
          "scattergeo": [
           {
            "marker": {
             "colorbar": {
              "outlinewidth": 0,
              "ticks": ""
             }
            },
            "type": "scattergeo"
           }
          ],
          "scattergl": [
           {
            "marker": {
             "colorbar": {
              "outlinewidth": 0,
              "ticks": ""
             }
            },
            "type": "scattergl"
           }
          ],
          "scattermapbox": [
           {
            "marker": {
             "colorbar": {
              "outlinewidth": 0,
              "ticks": ""
             }
            },
            "type": "scattermapbox"
           }
          ],
          "scatterpolar": [
           {
            "marker": {
             "colorbar": {
              "outlinewidth": 0,
              "ticks": ""
             }
            },
            "type": "scatterpolar"
           }
          ],
          "scatterpolargl": [
           {
            "marker": {
             "colorbar": {
              "outlinewidth": 0,
              "ticks": ""
             }
            },
            "type": "scatterpolargl"
           }
          ],
          "scatterternary": [
           {
            "marker": {
             "colorbar": {
              "outlinewidth": 0,
              "ticks": ""
             }
            },
            "type": "scatterternary"
           }
          ],
          "surface": [
           {
            "colorbar": {
             "outlinewidth": 0,
             "ticks": ""
            },
            "colorscale": [
             [
              0,
              "#0d0887"
             ],
             [
              0.1111111111111111,
              "#46039f"
             ],
             [
              0.2222222222222222,
              "#7201a8"
             ],
             [
              0.3333333333333333,
              "#9c179e"
             ],
             [
              0.4444444444444444,
              "#bd3786"
             ],
             [
              0.5555555555555556,
              "#d8576b"
             ],
             [
              0.6666666666666666,
              "#ed7953"
             ],
             [
              0.7777777777777778,
              "#fb9f3a"
             ],
             [
              0.8888888888888888,
              "#fdca26"
             ],
             [
              1,
              "#f0f921"
             ]
            ],
            "type": "surface"
           }
          ],
          "table": [
           {
            "cells": {
             "fill": {
              "color": "#EBF0F8"
             },
             "line": {
              "color": "white"
             }
            },
            "header": {
             "fill": {
              "color": "#C8D4E3"
             },
             "line": {
              "color": "white"
             }
            },
            "type": "table"
           }
          ]
         },
         "layout": {
          "annotationdefaults": {
           "arrowcolor": "#2a3f5f",
           "arrowhead": 0,
           "arrowwidth": 1
          },
          "autotypenumbers": "strict",
          "coloraxis": {
           "colorbar": {
            "outlinewidth": 0,
            "ticks": ""
           }
          },
          "colorscale": {
           "diverging": [
            [
             0,
             "#8e0152"
            ],
            [
             0.1,
             "#c51b7d"
            ],
            [
             0.2,
             "#de77ae"
            ],
            [
             0.3,
             "#f1b6da"
            ],
            [
             0.4,
             "#fde0ef"
            ],
            [
             0.5,
             "#f7f7f7"
            ],
            [
             0.6,
             "#e6f5d0"
            ],
            [
             0.7,
             "#b8e186"
            ],
            [
             0.8,
             "#7fbc41"
            ],
            [
             0.9,
             "#4d9221"
            ],
            [
             1,
             "#276419"
            ]
           ],
           "sequential": [
            [
             0,
             "#0d0887"
            ],
            [
             0.1111111111111111,
             "#46039f"
            ],
            [
             0.2222222222222222,
             "#7201a8"
            ],
            [
             0.3333333333333333,
             "#9c179e"
            ],
            [
             0.4444444444444444,
             "#bd3786"
            ],
            [
             0.5555555555555556,
             "#d8576b"
            ],
            [
             0.6666666666666666,
             "#ed7953"
            ],
            [
             0.7777777777777778,
             "#fb9f3a"
            ],
            [
             0.8888888888888888,
             "#fdca26"
            ],
            [
             1,
             "#f0f921"
            ]
           ],
           "sequentialminus": [
            [
             0,
             "#0d0887"
            ],
            [
             0.1111111111111111,
             "#46039f"
            ],
            [
             0.2222222222222222,
             "#7201a8"
            ],
            [
             0.3333333333333333,
             "#9c179e"
            ],
            [
             0.4444444444444444,
             "#bd3786"
            ],
            [
             0.5555555555555556,
             "#d8576b"
            ],
            [
             0.6666666666666666,
             "#ed7953"
            ],
            [
             0.7777777777777778,
             "#fb9f3a"
            ],
            [
             0.8888888888888888,
             "#fdca26"
            ],
            [
             1,
             "#f0f921"
            ]
           ]
          },
          "colorway": [
           "#636efa",
           "#EF553B",
           "#00cc96",
           "#ab63fa",
           "#FFA15A",
           "#19d3f3",
           "#FF6692",
           "#B6E880",
           "#FF97FF",
           "#FECB52"
          ],
          "font": {
           "color": "#2a3f5f"
          },
          "geo": {
           "bgcolor": "white",
           "lakecolor": "white",
           "landcolor": "#E5ECF6",
           "showlakes": true,
           "showland": true,
           "subunitcolor": "white"
          },
          "hoverlabel": {
           "align": "left"
          },
          "hovermode": "closest",
          "mapbox": {
           "style": "light"
          },
          "paper_bgcolor": "white",
          "plot_bgcolor": "#E5ECF6",
          "polar": {
           "angularaxis": {
            "gridcolor": "white",
            "linecolor": "white",
            "ticks": ""
           },
           "bgcolor": "#E5ECF6",
           "radialaxis": {
            "gridcolor": "white",
            "linecolor": "white",
            "ticks": ""
           }
          },
          "scene": {
           "xaxis": {
            "backgroundcolor": "#E5ECF6",
            "gridcolor": "white",
            "gridwidth": 2,
            "linecolor": "white",
            "showbackground": true,
            "ticks": "",
            "zerolinecolor": "white"
           },
           "yaxis": {
            "backgroundcolor": "#E5ECF6",
            "gridcolor": "white",
            "gridwidth": 2,
            "linecolor": "white",
            "showbackground": true,
            "ticks": "",
            "zerolinecolor": "white"
           },
           "zaxis": {
            "backgroundcolor": "#E5ECF6",
            "gridcolor": "white",
            "gridwidth": 2,
            "linecolor": "white",
            "showbackground": true,
            "ticks": "",
            "zerolinecolor": "white"
           }
          },
          "shapedefaults": {
           "line": {
            "color": "#2a3f5f"
           }
          },
          "ternary": {
           "aaxis": {
            "gridcolor": "white",
            "linecolor": "white",
            "ticks": ""
           },
           "baxis": {
            "gridcolor": "white",
            "linecolor": "white",
            "ticks": ""
           },
           "bgcolor": "#E5ECF6",
           "caxis": {
            "gridcolor": "white",
            "linecolor": "white",
            "ticks": ""
           }
          },
          "title": {
           "x": 0.05
          },
          "xaxis": {
           "automargin": true,
           "gridcolor": "white",
           "linecolor": "white",
           "ticks": "",
           "title": {
            "standoff": 15
           },
           "zerolinecolor": "white",
           "zerolinewidth": 2
          },
          "yaxis": {
           "automargin": true,
           "gridcolor": "white",
           "linecolor": "white",
           "ticks": "",
           "title": {
            "standoff": 15
           },
           "zerolinecolor": "white",
           "zerolinewidth": 2
          }
         }
        },
        "title": {
         "text": "Productos en R3"
        }
       }
      }
     },
     "metadata": {}
    }
   ],
   "metadata": {}
  }
 ],
 "metadata": {
  "orig_nbformat": 4,
  "language_info": {
   "name": "python",
   "version": "3.8.5",
   "mimetype": "text/x-python",
   "codemirror_mode": {
    "name": "ipython",
    "version": 3
   },
   "pygments_lexer": "ipython3",
   "nbconvert_exporter": "python",
   "file_extension": ".py"
  },
  "kernelspec": {
   "name": "python3",
   "display_name": "Python 3.8.5 64-bit ('base': conda)"
  },
  "interpreter": {
   "hash": "8fac594bfae6525c0c41b4041d2d72effa188cc8ead05f81b1fab2bb098927fb"
  }
 },
 "nbformat": 4,
 "nbformat_minor": 2
}