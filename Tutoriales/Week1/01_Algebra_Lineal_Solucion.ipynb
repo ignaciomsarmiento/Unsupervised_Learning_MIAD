{
 "cells": [
  {
   "cell_type": "markdown",
   "source": [
    "# Revisión de Algebra Lineal"
   ],
   "metadata": {}
  },
  {
   "cell_type": "markdown",
   "source": [
    "## Topicos\r\n",
    "\r\n",
    "- Generaldades de Matrices\r\n",
    "- Matrices en Python\r\n",
    "- Determinantes\r\n",
    "- Eigenvalues y eigenvectors (Autovalores y Autovectores)\r\n",
    "- Trazas"
   ],
   "metadata": {}
  },
  {
   "cell_type": "markdown",
   "source": [
    "## Introducción\r\n",
    "\r\n",
    "Una de las herramientas matemáticas más utilizadas en [machine learning](http://es.wikipedia.org/wiki/Machine_learning) y [data mining](http://es.wikipedia.org/wiki/Miner%C3%ADa_de_datos) es el [Álgebra lineal](http://es.wikipedia.org/wiki/%C3%81lgebra_lineal); por tanto, si queremos incursionar en el fascinante mundo del aprendizaje automático y el análisis de datos es importante reforzar los conceptos que forman parte de sus cimientos. \r\n",
    "\r\n",
    "El [Álgebra lineal](http://es.wikipedia.org/wiki/%C3%81lgebra_lineal) es una rama de las [matemáticas](http://es.wikipedia.org/wiki/Matem%C3%A1ticas) que es sumamente utilizada en el estudio de una gran variedad de ciencias, como ser, ingeniería, finanzas, investigación operativa, entre otras. Es una extensión del [álgebra](http://es.wikipedia.org/wiki/%C3%81lgebra) que aprendemos en la escuela secundaria, hacia un mayor número de dimensiones; en lugar de trabajar con incógnitas a nivel de <a href=\"http://es.wikipedia.org/wiki/Escalar_(matem%C3%A1tica)\">escalares</a> comenzamos a trabajar con <a href=\"http://es.wikipedia.org/wiki/Matriz_(matem%C3%A1ticas)\">matrices</a> y [vectores](http://es.wikipedia.org/wiki/Vector).  \r\n",
    "\r\n",
    "El estudio del [Álgebra lineal](http://es.wikipedia.org/wiki/%C3%81lgebra_lineal) implica trabajar con varios objetos matemáticos, como ser:\r\n",
    "\r\n",
    "* **Los <a href=\"http://es.wikipedia.org/wiki/Escalar_(matem%C3%A1tica)\">Escalares</a>**: Un *escalar* es un solo número, en contraste con la mayoría de los otros objetos estudiados en [Álgebra lineal](http://es.wikipedia.org/wiki/%C3%81lgebra_lineal), que son generalmente una colección de múltiples números.\r\n",
    "\r\n",
    "* **Los [Vectores](http://es.wikipedia.org/wiki/Vector)**: Un *vector* es una serie de números. Los números tienen una orden preestablecido, y podemos identificar cada número individual por su índice en ese orden. Podemos pensar en los  *vectores* como la identificación de puntos en el espacio, con cada elemento que da la coordenada a lo largo de un eje diferente. Existen dos tipos de *vectores*, los *vectores de fila* y los *vectores de columna*. Podemos representarlos de la siguiente manera, dónde *f* es un vector de fila y *c* es un vector de columna:\r\n",
    "\r\n",
    "$$ f = \\begin{bmatrix} 0 & 1 & -1 \\end{bmatrix} ;\\ c= \\begin{bmatrix} 0\\\\ 1 \\\\ -1 \\end{bmatrix} $$\r\n",
    "\r\n",
    "* **Las <a href=\"http://es.wikipedia.org/wiki/Matriz_(matem%C3%A1ticas)\">Matrices</a>**: Una *matriz* es un arreglo bidimensional de números (llamados entradas de la matriz) ordenados en filas (o renglones) y columnas, donde una fila es cada una de las líneas horizontales de la matriz y una columna es cada una de las líneas verticales. En una *matriz* cada elemento puede ser identificado utilizando dos índices, uno para la fila y otro para la columna en que se encuentra. Las podemos representar de la siguiente manera, *A* es una matriz de 3x2.\r\n",
    "$$A=\\begin{bmatrix}0 & 1& \\\\-1 & 2 \\\\ -2 & 3\\end{bmatrix}$$\r\n",
    "\r\n",
    "* **Los [Tensores](http://es.wikipedia.org/wiki/C%C3%A1lculo_tensorial)**: En algunos casos necesitaremos una matriz con más de dos ejes. En general, una serie de números dispuestos en una cuadrícula regular con un número variable de ejes es conocido como un *tensor*.\r\n",
    "\r\n",
    "Sobre estos objetos podemos realizar las operaciones matemáticas básicas, como ser [adición](http://es.wikipedia.org/wiki/Adici%C3%B3n), [multiplicación](http://es.wikipedia.org/wiki/Multiplicaci%C3%B3n), [sustracción](http://es.wikipedia.org/wiki/Sustracci%C3%B3n) y <a href=\"http://es.wikipedia.org/wiki/Divisi%C3%B3n_(matem%C3%A1tica)\" >división</a>, es decir que vamos a poder sumar [vectores](http://es.wikipedia.org/wiki/Vector) con <a href=\"http://es.wikipedia.org/wiki/Matriz_(matem%C3%A1ticas)\">matrices</a>, multiplicar <a href=\"http://es.wikipedia.org/wiki/Escalar_(matem%C3%A1tica)\">escalares</a> a [vectores](http://es.wikipedia.org/wiki/Vector) y demás."
   ],
   "metadata": {}
  },
  {
   "cell_type": "markdown",
   "source": [
    "## Librerías de Python para álgebra lineal\n",
    "\n",
    "Los principales módulos que [Python](http://python.org/) nos ofrece para realizar operaciones de [Álgebra lineal](http://es.wikipedia.org/wiki/%C3%81lgebra_lineal) son los siguientes:\n",
    "\n",
    "* **[Numpy](http://www.numpy.org/)**: El popular paquete matemático de [Python](http://python.org/), nos va a permitir crear *[vectores](http://es.wikipedia.org/wiki/Vector)*, *<a href=\"http://es.wikipedia.org/wiki/Matriz_(matem%C3%A1ticas)\">matrices</a>* y *[tensores](http://es.wikipedia.org/wiki/C%C3%A1lculo_tensorial)* con suma facilidad.\n",
    "\n",
    "* **[numpy.linalg](http://docs.scipy.org/doc/numpy/reference/routines.linalg.html)**: Este es un submodulo dentro de [Numpy](http://www.numpy.org/) con un gran número de funciones para resolver ecuaciones de [Álgebra lineal](http://es.wikipedia.org/wiki/%C3%81lgebra_lineal).\n",
    "\n",
    "* **[scipy.linalg](http://docs.scipy.org/doc/scipy/reference/tutorial/linalg.html)**: Este submodulo del paquete científico [Scipy](http://docs.scipy.org/doc/scipy/reference/index.html) es muy similar al anterior, pero con algunas más funciones y optimaciones.\n",
    "\n",
    "* **[Sympy](http://www.sympy.org/es/)**: Esta librería nos permite trabajar con matemática simbólica, convierte a [Python](http://python.org/) en un [sistema algebraico computacional](http://es.wikipedia.org/wiki/Sistema_algebraico_computacional). Nos va a permitir trabajar con ecuaciones y fórmulas simbólicamente, en lugar de numéricamente.\n",
    "\n",
    "* **[CVXOPT](http://cvxopt.org/)**: Este módulo nos permite resolver problemas de optimizaciones de [programación lineal](http://es.wikipedia.org/wiki/Programaci%C3%B3n_lineal). \n",
    "\n",
    "* **[PuLP](http://pythonhosted.org//PuLP/)**: Esta librería nos permite crear modelos de [programación lineal](http://es.wikipedia.org/wiki/Programaci%C3%B3n_lineal) en forma muy sencilla con [Python](http://python.org/)."
   ],
   "metadata": {}
  },
  {
   "cell_type": "markdown",
   "source": [
    "## Operaciones básicas"
   ],
   "metadata": {}
  },
  {
   "cell_type": "markdown",
   "source": [
    "### Vectores\r\n",
    "\r\n",
    "Un *[vector](http://es.wikipedia.org/wiki/Vector)* de largo `n` es una secuencia (o *array*, o *tupla*) de `n` números. La solemos escribir como x=(x1,...,xn) o x=[x1,...,xn]\r\n",
    "\r\n",
    "En [Python](http://python.org/), un *[vector](http://es.wikipedia.org/wiki/Vector)* puede ser representado con una simple *lista*, o con un *array* de [Numpy](http://www.numpy.org/); siendo preferible utilizar esta última opción."
   ],
   "metadata": {}
  },
  {
   "cell_type": "code",
   "execution_count": 28,
   "source": [
    "# Vector como lista de Python\r\n",
    "v1 = [2, 4, 6]\r\n",
    "v1"
   ],
   "outputs": [
    {
     "output_type": "execute_result",
     "data": {
      "text/plain": [
       "[2, 4, 6]"
      ]
     },
     "metadata": {},
     "execution_count": 28
    }
   ],
   "metadata": {
    "jupyter": {
     "outputs_hidden": false
    }
   }
  },
  {
   "cell_type": "code",
   "execution_count": 29,
   "source": [
    "# Vectores con numpy\r\n",
    "import numpy as np\r\n",
    "\r\n",
    "v2 = np.ones(3) # vector de solo unos.\r\n",
    "v2"
   ],
   "outputs": [
    {
     "output_type": "execute_result",
     "data": {
      "text/plain": [
       "array([1., 1., 1.])"
      ]
     },
     "metadata": {},
     "execution_count": 29
    }
   ],
   "metadata": {
    "jupyter": {
     "outputs_hidden": false
    }
   }
  },
  {
   "cell_type": "code",
   "execution_count": 30,
   "source": [
    "v3 = np.array([1, 3, 5]) # pasando una lista a las arrays de numpy\r\n",
    "v3"
   ],
   "outputs": [
    {
     "output_type": "execute_result",
     "data": {
      "text/plain": [
       "array([1, 3, 5])"
      ]
     },
     "metadata": {},
     "execution_count": 30
    }
   ],
   "metadata": {
    "jupyter": {
     "outputs_hidden": false
    }
   }
  },
  {
   "cell_type": "code",
   "execution_count": 31,
   "source": [
    "v4 = np.arange(1, 8) # utilizando la funcion arange de numpy\r\n",
    "v4"
   ],
   "outputs": [
    {
     "output_type": "execute_result",
     "data": {
      "text/plain": [
       "array([1, 2, 3, 4, 5, 6, 7])"
      ]
     },
     "metadata": {},
     "execution_count": 31
    }
   ],
   "metadata": {
    "jupyter": {
     "outputs_hidden": false
    }
   }
  },
  {
   "cell_type": "markdown",
   "source": [
    "### Operaciones con vectores\r\n",
    "\r\n",
    "Las operaciones más comunes que utilizamos cuando trabajamos con *[vectores](http://es.wikipedia.org/wiki/Vector)* son la *suma*, la *resta* y la *multiplicación por <a href=\"http://es.wikipedia.org/wiki/Escalar_(matem%C3%A1tica)\">escalares</a>*.\r\n",
    "\r\n",
    "Cuando *sumamos* dos *[vectores](http://es.wikipedia.org/wiki/Vector)*, vamos sumando elemento por elemento de cada\r\n",
    "*[vector](http://es.wikipedia.org/wiki/Vector)*.\r\n",
    "\r\n",
    "$$ \\begin{split}x + y\r\n",
    "=\r\n",
    "\\left[\r\n",
    "\\begin{array}{c}\r\n",
    "    x_1 \\\\\r\n",
    "    x_2 \\\\\r\n",
    "    \\vdots \\\\\r\n",
    "    x_n\r\n",
    "\\end{array}\r\n",
    "\\right]\r\n",
    "+\r\n",
    "\\left[\r\n",
    "\\begin{array}{c}\r\n",
    "     y_1 \\\\\r\n",
    "     y_2 \\\\\r\n",
    "    \\vdots \\\\\r\n",
    "     y_n\r\n",
    "\\end{array}\r\n",
    "\\right]\r\n",
    "=\r\n",
    "\\left[\r\n",
    "\\begin{array}{c}\r\n",
    "    x_1 + y_1 \\\\\r\n",
    "    x_2 + y_2 \\\\\r\n",
    "    \\vdots \\\\\r\n",
    "    x_n + y_n\r\n",
    "\\end{array}\r\n",
    "\\right]\\end{split}$$\r\n",
    "\r\n",
    "De forma similar funciona la operación de resta.\r\n",
    "\r\n",
    "$$ \\begin{split}x - y\r\n",
    "=\r\n",
    "\\left[\r\n",
    "\\begin{array}{c}\r\n",
    "    x_1 \\\\\r\n",
    "    x_2 \\\\\r\n",
    "    \\vdots \\\\\r\n",
    "    x_n\r\n",
    "\\end{array}\r\n",
    "\\right]\r\n",
    "-\r\n",
    "\\left[\r\n",
    "\\begin{array}{c}\r\n",
    "     y_1 \\\\\r\n",
    "     y_2 \\\\\r\n",
    "    \\vdots \\\\\r\n",
    "     y_n\r\n",
    "\\end{array}\r\n",
    "\\right]\r\n",
    "=\r\n",
    "\\left[\r\n",
    "\\begin{array}{c}\r\n",
    "    x_1 - y_1 \\\\\r\n",
    "    x_2 - y_2 \\\\\r\n",
    "    \\vdots \\\\\r\n",
    "    x_n - y_n\r\n",
    "\\end{array}\r\n",
    "\\right]\\end{split}$$\r\n",
    "\r\n",
    "La *multiplicación por <a href=\"http://es.wikipedia.org/wiki/Escalar_(matem%C3%A1tica)\">escalares</a>* es una operación que toma a un número $\\gamma$, y a un *[vector](http://es.wikipedia.org/wiki/Vector)* $x$ y produce un nuevo *[vector](http://es.wikipedia.org/wiki/Vector)* donde cada elemento del vector $x$ es multiplicado por el número $\\gamma$.\r\n",
    "\r\n",
    "$$\\begin{split}\\gamma x\r\n",
    "=\r\n",
    "\\left[\r\n",
    "\\begin{array}{c}\r\n",
    "    \\gamma x_1 \\\\\r\n",
    "    \\gamma x_2 \\\\\r\n",
    "    \\vdots \\\\\r\n",
    "    \\gamma x_n\r\n",
    "\\end{array}\r\n",
    "\\right]\\end{split}$$\r\n",
    "\r\n",
    "En [Python](http://python.org/):"
   ],
   "metadata": {}
  },
  {
   "cell_type": "code",
   "execution_count": 32,
   "source": [
    "# Ejemplo en Python\r\n",
    "x = np.arange(1, 5)\r\n",
    "y = np.array([2, 4, 6, 8])\r\n",
    "x, y"
   ],
   "outputs": [
    {
     "output_type": "execute_result",
     "data": {
      "text/plain": [
       "(array([1, 2, 3, 4]), array([2, 4, 6, 8]))"
      ]
     },
     "metadata": {},
     "execution_count": 32
    }
   ],
   "metadata": {
    "jupyter": {
     "outputs_hidden": false
    }
   }
  },
  {
   "cell_type": "code",
   "execution_count": 33,
   "source": [
    "# sumando dos arrays (vectores en numpy)\r\n",
    "x + y"
   ],
   "outputs": [
    {
     "output_type": "execute_result",
     "data": {
      "text/plain": [
       "array([ 3,  6,  9, 12])"
      ]
     },
     "metadata": {},
     "execution_count": 33
    }
   ],
   "metadata": {
    "jupyter": {
     "outputs_hidden": false
    }
   }
  },
  {
   "cell_type": "code",
   "execution_count": 34,
   "source": [
    "# Note que Python no permite realizar operaciones algebraicas entre dos listas de forma directa.\r\n",
    "# Esta es una de las razones por las que preferimos utilizar arrays para hacer operaciones de\r\n",
    "# álgebra lineal\r\n",
    "[1, 2, 3, 4] + [2, 4, 6, 8]"
   ],
   "outputs": [
    {
     "output_type": "execute_result",
     "data": {
      "text/plain": [
       "[1, 2, 3, 4, 2, 4, 6, 8]"
      ]
     },
     "metadata": {},
     "execution_count": 34
    }
   ],
   "metadata": {}
  },
  {
   "cell_type": "code",
   "execution_count": 35,
   "source": [
    "# restando dos vectores\r\n",
    "x - y"
   ],
   "outputs": [
    {
     "output_type": "execute_result",
     "data": {
      "text/plain": [
       "array([-1, -2, -3, -4])"
      ]
     },
     "metadata": {},
     "execution_count": 35
    }
   ],
   "metadata": {
    "jupyter": {
     "outputs_hidden": false
    }
   }
  },
  {
   "cell_type": "code",
   "execution_count": 36,
   "source": [
    "# multiplicando por un escalar\r\n",
    "x * 2"
   ],
   "outputs": [
    {
     "output_type": "execute_result",
     "data": {
      "text/plain": [
       "array([2, 4, 6, 8])"
      ]
     },
     "metadata": {},
     "execution_count": 36
    }
   ],
   "metadata": {
    "jupyter": {
     "outputs_hidden": false
    }
   }
  },
  {
   "cell_type": "code",
   "execution_count": 37,
   "source": [
    "y * 3"
   ],
   "outputs": [
    {
     "output_type": "execute_result",
     "data": {
      "text/plain": [
       "array([ 6, 12, 18, 24])"
      ]
     },
     "metadata": {},
     "execution_count": 37
    }
   ],
   "metadata": {
    "jupyter": {
     "outputs_hidden": false
    }
   }
  },
  {
   "cell_type": "markdown",
   "source": [
    "#### Producto escalar o interior\r\n",
    "\r\n",
    "El [producto escalar](https://es.wikipedia.org/wiki/Producto_escalar) de dos *[vectores](http://es.wikipedia.org/wiki/Vector)* se define como la suma de los productos de sus elementos, suele representarse matemáticamente como < x, y > o x'y, donde x e y son dos vectores.\r\n",
    "\r\n",
    "$$< x, y > = \\sum_{i=1}^n x_i y_i$$\r\n",
    "\r\n",
    "Dos *[vectores](http://es.wikipedia.org/wiki/Vector)* son <a href=\"https://es.wikipedia.org/wiki/Ortogonalidad_(matem%C3%A1ticas)\">ortogonales</a> o perpendiculares cuando forman ángulo recto entre sí. Si el producto escalar de dos vectores es cero, ambos vectores son <a href=\"https://es.wikipedia.org/wiki/Ortogonalidad_(matem%C3%A1ticas)\">ortogonales</a>.\r\n",
    "\r\n",
    "También se puede definir el producto punto desde la geometría:\r\n",
    "$$a\\cdot b = \\|a\\|\\cdot\\|b\\|\\cdot cos(\\theta)$$\r\n",
    "\r\n",
    "Adicionalmente, todo [producto escalar](https://es.wikipedia.org/wiki/Producto_escalar) induce una [norma](https://es.wikipedia.org/wiki/Norma_vectorial) sobre el espacio en el que está definido, de la siguiente manera:\r\n",
    "\r\n",
    "$$\\| x \\| = \\sqrt{< x, x>} = \\left( \\sum_{i=1}^n x_i^2 \\right)^{1/2}$$\r\n",
    "\r\n",
    "En [Python](http://python.org/):"
   ],
   "metadata": {}
  },
  {
   "cell_type": "code",
   "execution_count": 38,
   "source": [
    "# Calculando el producto escalar de los vectores x e y\r\n",
    "np.dot(x, y)"
   ],
   "outputs": [
    {
     "output_type": "execute_result",
     "data": {
      "text/plain": [
       "60"
      ]
     },
     "metadata": {},
     "execution_count": 38
    }
   ],
   "metadata": {
    "jupyter": {
     "outputs_hidden": false
    }
   }
  },
  {
   "cell_type": "code",
   "execution_count": 39,
   "source": [
    "# o lo que es lo mismo, que:\r\n",
    "sum(x * y)"
   ],
   "outputs": [
    {
     "output_type": "execute_result",
     "data": {
      "text/plain": [
       "60"
      ]
     },
     "metadata": {},
     "execution_count": 39
    }
   ],
   "metadata": {
    "jupyter": {
     "outputs_hidden": false
    }
   }
  },
  {
   "cell_type": "code",
   "execution_count": 40,
   "source": [
    "# Calculando la norma del vector X\r\n",
    "np.linalg.norm(x)"
   ],
   "outputs": [
    {
     "output_type": "execute_result",
     "data": {
      "text/plain": [
       "5.477225575051661"
      ]
     },
     "metadata": {},
     "execution_count": 40
    }
   ],
   "metadata": {
    "jupyter": {
     "outputs_hidden": false
    }
   }
  },
  {
   "cell_type": "code",
   "execution_count": 41,
   "source": [
    "# otra forma de calcular la norma de x\r\n",
    "np.sqrt(np.dot(x, x))"
   ],
   "outputs": [
    {
     "output_type": "execute_result",
     "data": {
      "text/plain": [
       "5.477225575051661"
      ]
     },
     "metadata": {},
     "execution_count": 41
    }
   ],
   "metadata": {
    "jupyter": {
     "outputs_hidden": false
    }
   }
  },
  {
   "cell_type": "code",
   "execution_count": 42,
   "source": [
    "# vectores ortogonales\r\n",
    "v1 = np.array([3, 4])\r\n",
    "v2 = np.array([4, -3])\r\n",
    "\r\n",
    "np.dot(v1, v2)"
   ],
   "outputs": [
    {
     "output_type": "execute_result",
     "data": {
      "text/plain": [
       "0"
      ]
     },
     "metadata": {},
     "execution_count": 42
    }
   ],
   "metadata": {
    "jupyter": {
     "outputs_hidden": false
    }
   }
  },
  {
   "cell_type": "markdown",
   "source": [
    "### Matrices\n",
    "\n",
    "Las <a href=\"http://es.wikipedia.org/wiki/Matriz_(matem%C3%A1ticas)\">matrices</a> son una forma clara y sencilla de organizar los datos para su uso en operaciones lineales.\n",
    "\n",
    "Una <a href=\"http://es.wikipedia.org/wiki/Matriz_(matem%C3%A1ticas)\">matriz</a> `n × k` es una agrupación rectangular de números con n filas y k columnas; se representa de la siguiente forma:\n",
    "\n",
    "$$\\begin{split}A =\n",
    "\\left[\n",
    "\\begin{array}{cccc}\n",
    "    a_{11} & a_{12} & \\cdots & a_{1k} \\\\\n",
    "    a_{21} & a_{22} & \\cdots & a_{2k} \\\\\n",
    "    \\vdots & \\vdots &  & \\vdots \\\\\n",
    "    a_{n1} & a_{n2} & \\cdots & a_{nk}\n",
    "\\end{array}\n",
    "\\right]\\end{split}$$\n",
    "\n",
    "En la <a href=\"http://es.wikipedia.org/wiki/Matriz_(matem%C3%A1ticas)\">matriz</a> A, el símbolo $a_{nk}$ representa el elemento  n-ésimo de la fila en la k-ésima columna. La <a href=\"http://es.wikipedia.org/wiki/Matriz_(matem%C3%A1ticas)\">matriz</a> A también puede ser llamada un *[vector](http://es.wikipedia.org/wiki/Vector)* si cualquiera de n o k son iguales a 1. En el caso de n=1, A se llama un *[vector](http://es.wikipedia.org/wiki/Vector) fila*, mientras que en el caso de k=1 se denomina un *[vector](http://es.wikipedia.org/wiki/Vector) columna*.\n",
    "\n",
    "Las <a href=\"http://es.wikipedia.org/wiki/Matriz_(matem%C3%A1ticas)\">matrices</a> se utilizan para múltiples aplicaciones y sirven, en particular, para representar los coeficientes de los sistemas de ecuaciones lineales o para representar transformaciones lineales dada una base. Pueden sumarse, multiplicarse y descomponerse de varias formas."
   ],
   "metadata": {}
  },
  {
   "cell_type": "markdown",
   "source": [
    "### Operaciones con matrices\n",
    "\n",
    "Al igual que con los *[vectores](http://es.wikipedia.org/wiki/Vector)*, que no son más que un caso particular, las <a href=\"http://es.wikipedia.org/wiki/Matriz_(matem%C3%A1ticas)\">matrices</a> se pueden *sumar*, *restar* y la *multiplicar por <a href=\"http://es.wikipedia.org/wiki/Escalar_(matem%C3%A1tica)\">escalares</a>*.\n",
    "\n",
    "Multiplicacion por escalares:\n",
    "$$\\begin{split}c A\n",
    "\\left[\n",
    "\\begin{array}{ccc}\n",
    "    a_{11} &  \\cdots & a_{1k} \\\\\n",
    "    \\vdots & \\vdots  & \\vdots \\\\\n",
    "    a_{n1} &  \\cdots & a_{nk} \\\\\n",
    "\\end{array}\n",
    "\\right]\n",
    "=\n",
    "\\left[\n",
    "\\begin{array}{ccc}\n",
    "    c a_{11} & \\cdots & c a_{1k} \\\\\n",
    "    \\vdots & \\vdots & \\vdots \\\\\n",
    "    c a_{n1} & \\cdots & c a_{nk} \\\\\n",
    "\\end{array}\n",
    "\\right]\\end{split}$$\n",
    "\n",
    "Suma de matrices: $$\\begin{split}A + B =\n",
    "\\left[\n",
    "\\begin{array}{ccc}\n",
    "    a_{11} & \\cdots & a_{1k} \\\\\n",
    "    \\vdots & \\vdots & \\vdots \\\\\n",
    "    a_{n1} & \\cdots & a_{nk} \\\\\n",
    "\\end{array}\n",
    "\\right]\n",
    "+\n",
    "\\left[\n",
    "\\begin{array}{ccc}\n",
    "    b_{11} & \\cdots & b_{1k} \\\\\n",
    "    \\vdots & \\vdots & \\vdots \\\\\n",
    "    b_{n1} & \\cdots & b_{nk} \\\\\n",
    "\\end{array}\n",
    "\\right]\n",
    ":=\n",
    "\\left[\n",
    "\\begin{array}{ccc}\n",
    "    a_{11} + b_{11} &  \\cdots & a_{1k} + b_{1k} \\\\\n",
    "    \\vdots & \\vdots & \\vdots \\\\\n",
    "    a_{n1} + b_{n1} &  \\cdots & a_{nk} + b_{nk} \\\\\n",
    "\\end{array}\n",
    "\\right]\\end{split}$$\n",
    "\n",
    "Resta de matrices: $$\\begin{split}A - B =\n",
    "\\left[\n",
    "\\begin{array}{ccc}\n",
    "    a_{11} & \\cdots & a_{1k} \\\\\n",
    "    \\vdots & \\vdots & \\vdots \\\\\n",
    "    a_{n1} & \\cdots & a_{nk} \\\\\n",
    "\\end{array}\n",
    "\\right]-\n",
    "\\left[\n",
    "\\begin{array}{ccc}\n",
    "    b_{11} & \\cdots & b_{1k} \\\\\n",
    "    \\vdots & \\vdots & \\vdots \\\\\n",
    "    b_{n1} & \\cdots & b_{nk} \\\\\n",
    "\\end{array}\n",
    "\\right]\n",
    ":=\n",
    "\\left[\n",
    "\\begin{array}{ccc}\n",
    "    a_{11} - b_{11} &  \\cdots & a_{1k} - b_{1k} \\\\\n",
    "    \\vdots & \\vdots & \\vdots \\\\\n",
    "    a_{n1} - b_{n1} &  \\cdots & a_{nk} - b_{nk} \\\\\n",
    "\\end{array}\n",
    "\\right]\\end{split}$$\n",
    "\n",
    "Para los casos de suma y resta, hay que tener en cuenta que solo se pueden sumar o restar <a href=\"http://es.wikipedia.org/wiki/Matriz_(matem%C3%A1ticas)\">matrices</a> que tengan las mismas dimensiones, es decir que si tengo una <a href=\"http://es.wikipedia.org/wiki/Matriz_(matem%C3%A1ticas)\">matriz</a> A de dimensión 3x2 (3 filas y 2 columnas) solo voy a poder sumar o restar la <a href=\"http://es.wikipedia.org/wiki/Matriz_(matem%C3%A1ticas)\">matriz</a> B si esta también tiene 3 filas y 2 columnas."
   ],
   "metadata": {}
  },
  {
   "cell_type": "code",
   "execution_count": 43,
   "source": [
    "# Ejemplo en Python\r\n",
    "# Para construir nuestra matriz creamos una lista de vectores fila.\r\n",
    "A = np.array([[1, 3, 2],\r\n",
    "              [1, 0, 0],\r\n",
    "              [1, 2, 2]])\r\n",
    "\r\n",
    "B = np.array([[1, 0, 5],\r\n",
    "              [7, 5, 0],\r\n",
    "              [2, 1, 1]])"
   ],
   "outputs": [],
   "metadata": {
    "jupyter": {
     "outputs_hidden": false
    }
   }
  },
  {
   "cell_type": "code",
   "execution_count": 44,
   "source": [
    "# suma de las matrices A y B\r\n",
    "A + B"
   ],
   "outputs": [
    {
     "output_type": "execute_result",
     "data": {
      "text/plain": [
       "array([[2, 3, 7],\n",
       "       [8, 5, 0],\n",
       "       [3, 3, 3]])"
      ]
     },
     "metadata": {},
     "execution_count": 44
    }
   ],
   "metadata": {
    "jupyter": {
     "outputs_hidden": false
    }
   }
  },
  {
   "cell_type": "code",
   "execution_count": 45,
   "source": [
    "# resta de matrices\r\n",
    "A - B"
   ],
   "outputs": [
    {
     "output_type": "execute_result",
     "data": {
      "text/plain": [
       "array([[ 0,  3, -3],\n",
       "       [-6, -5,  0],\n",
       "       [-1,  1,  1]])"
      ]
     },
     "metadata": {},
     "execution_count": 45
    }
   ],
   "metadata": {
    "jupyter": {
     "outputs_hidden": false
    }
   }
  },
  {
   "cell_type": "code",
   "execution_count": 46,
   "source": [
    "# multiplicando matrices por escalares\r\n",
    "A * 2"
   ],
   "outputs": [
    {
     "output_type": "execute_result",
     "data": {
      "text/plain": [
       "array([[2, 6, 4],\n",
       "       [2, 0, 0],\n",
       "       [2, 4, 4]])"
      ]
     },
     "metadata": {},
     "execution_count": 46
    }
   ],
   "metadata": {
    "jupyter": {
     "outputs_hidden": false
    }
   }
  },
  {
   "cell_type": "code",
   "execution_count": 47,
   "source": [
    "B * 3"
   ],
   "outputs": [
    {
     "output_type": "execute_result",
     "data": {
      "text/plain": [
       "array([[ 3,  0, 15],\n",
       "       [21, 15,  0],\n",
       "       [ 6,  3,  3]])"
      ]
     },
     "metadata": {},
     "execution_count": 47
    }
   ],
   "metadata": {
    "jupyter": {
     "outputs_hidden": false
    }
   }
  },
  {
   "cell_type": "code",
   "execution_count": 48,
   "source": [
    "# ver la dimension de una matriz (filas, columnas)\r\n",
    "A.shape"
   ],
   "outputs": [
    {
     "output_type": "execute_result",
     "data": {
      "text/plain": [
       "(3, 3)"
      ]
     },
     "metadata": {},
     "execution_count": 48
    }
   ],
   "metadata": {
    "jupyter": {
     "outputs_hidden": false
    }
   }
  },
  {
   "cell_type": "code",
   "execution_count": 49,
   "source": [
    "# ver cantidad de elementos de una matriz\r\n",
    "A.size"
   ],
   "outputs": [
    {
     "output_type": "execute_result",
     "data": {
      "text/plain": [
       "9"
      ]
     },
     "metadata": {},
     "execution_count": 49
    }
   ],
   "metadata": {
    "jupyter": {
     "outputs_hidden": false
    }
   }
  },
  {
   "cell_type": "markdown",
   "source": [
    "#### Multiplicacion o Producto de matrices\n",
    "\n",
    "La regla para la [multiplicación de matrices](https://es.wikipedia.org/wiki/Multiplicaci%C3%B3n_de_matrices) generaliza la idea del [producto interior](https://es.wikipedia.org/wiki/Producto_escalar) que vimos con los [vectores](http://es.wikipedia.org/wiki/Vector); y esta diseñada para facilitar las operaciones lineales básicas.\n",
    "Cuando [multiplicamos matrices](https://es.wikipedia.org/wiki/Multiplicaci%C3%B3n_de_matrices), el número de columnas de la primera <a href=\"http://es.wikipedia.org/wiki/Matriz_(matem%C3%A1ticas)\">matriz</a> debe ser igual al número de filas de la segunda <a href=\"http://es.wikipedia.org/wiki/Matriz_(matem%C3%A1ticas)\">matriz</a>; y el resultado de esta multiplicación va a tener el mismo número de filas que la primer <a href=\"http://es.wikipedia.org/wiki/Matriz_(matem%C3%A1ticas)\">matriz</a> y el número de la columnas de la segunda <a href=\"http://es.wikipedia.org/wiki/Matriz_(matem%C3%A1ticas)\">matriz</a>. Es decir, que si yo tengo una <a href=\"http://es.wikipedia.org/wiki/Matriz_(matem%C3%A1ticas)\">matriz</a> A de dimensión 3x4 y la multiplico por una <a href=\"http://es.wikipedia.org/wiki/Matriz_(matem%C3%A1ticas)\">matriz</a> B de dimensión 4x2, el resultado va a ser una <a href=\"http://es.wikipedia.org/wiki/Matriz_(matem%C3%A1ticas)\">matriz</a> C de dimensión 3x2.\n",
    "\n",
    "Algo a tener en cuenta a la hora de [multiplicar matrices](https://es.wikipedia.org/wiki/Multiplicaci%C3%B3n_de_matrices) es que la propiedad [connmutativa](https://es.wikipedia.org/wiki/Conmutatividad) no se cumple. AxB no es lo mismo que BxA.\n",
    "\n",
    "Veamos los ejemplos en [Python](http://python.org/)."
   ],
   "metadata": {}
  },
  {
   "cell_type": "code",
   "execution_count": 50,
   "source": [
    "# Ejemplo multiplicación de matrices\r\n",
    "A = np.arange(1, 13).reshape(3, 4) #matriz de dimension 3x4\r\n",
    "A"
   ],
   "outputs": [
    {
     "output_type": "execute_result",
     "data": {
      "text/plain": [
       "array([[ 1,  2,  3,  4],\n",
       "       [ 5,  6,  7,  8],\n",
       "       [ 9, 10, 11, 12]])"
      ]
     },
     "metadata": {},
     "execution_count": 50
    }
   ],
   "metadata": {
    "jupyter": {
     "outputs_hidden": false
    }
   }
  },
  {
   "cell_type": "code",
   "execution_count": 51,
   "source": [
    "B = np.arange(8).reshape(4,2) #matriz de dimension 4x2\r\n",
    "B"
   ],
   "outputs": [
    {
     "output_type": "execute_result",
     "data": {
      "text/plain": [
       "array([[0, 1],\n",
       "       [2, 3],\n",
       "       [4, 5],\n",
       "       [6, 7]])"
      ]
     },
     "metadata": {},
     "execution_count": 51
    }
   ],
   "metadata": {
    "jupyter": {
     "outputs_hidden": false
    }
   }
  },
  {
   "cell_type": "code",
   "execution_count": 52,
   "source": [
    "# Multiplicando A x B\r\n",
    "A.dot(B) #resulta en una matriz de dimension 3x2"
   ],
   "outputs": [
    {
     "output_type": "execute_result",
     "data": {
      "text/plain": [
       "array([[ 40,  50],\n",
       "       [ 88, 114],\n",
       "       [136, 178]])"
      ]
     },
     "metadata": {},
     "execution_count": 52
    }
   ],
   "metadata": {
    "jupyter": {
     "outputs_hidden": false
    }
   }
  },
  {
   "cell_type": "code",
   "execution_count": 54,
   "source": [
    "# Multiplicando B x A\r\n",
    "B.dot(A)"
   ],
   "outputs": [
    {
     "output_type": "error",
     "ename": "ValueError",
     "evalue": "shapes (4,2) and (3,4) not aligned: 2 (dim 1) != 3 (dim 0)",
     "traceback": [
      "\u001b[1;31m---------------------------------------------------------------------------\u001b[0m",
      "\u001b[1;31mValueError\u001b[0m                                Traceback (most recent call last)",
      "\u001b[1;32m<ipython-input-54-ede793c22832>\u001b[0m in \u001b[0;36m<module>\u001b[1;34m\u001b[0m\n\u001b[0;32m      1\u001b[0m \u001b[1;31m# Multiplicando B x A\u001b[0m\u001b[1;33m\u001b[0m\u001b[1;33m\u001b[0m\u001b[1;33m\u001b[0m\u001b[0m\n\u001b[1;32m----> 2\u001b[1;33m \u001b[0mB\u001b[0m\u001b[1;33m.\u001b[0m\u001b[0mdot\u001b[0m\u001b[1;33m(\u001b[0m\u001b[0mA\u001b[0m\u001b[1;33m)\u001b[0m\u001b[1;33m\u001b[0m\u001b[1;33m\u001b[0m\u001b[0m\n\u001b[0m",
      "\u001b[1;31mValueError\u001b[0m: shapes (4,2) and (3,4) not aligned: 2 (dim 1) != 3 (dim 0)"
     ]
    }
   ],
   "metadata": {}
  },
  {
   "cell_type": "markdown",
   "source": [
    "#### La matriz identidad,  la matriz inversa, y  la matrix transpuesta\r\n",
    "\r\n",
    "La [matriz identidad](https://es.wikipedia.org/wiki/Matriz_identidad) es el elemento neutro en la [multiplicación de matrices](https://es.wikipedia.org/wiki/Multiplicaci%C3%B3n_de_matrices), es el equivalente al número 1. Cualquier matriz multiplicada por la [matriz identidad](https://es.wikipedia.org/wiki/Matriz_identidad) nos da como resultado la misma matriz. La [matriz identidad](https://es.wikipedia.org/wiki/Matriz_identidad) es una [matriz cuadrada](https://es.wikipedia.org/wiki/Matriz_cuadrada) (tiene siempre el mismo número de filas que de columnas); y su diagonal principal se compone de todos elementos 1 y el resto de los elementos se completan con 0. Suele representase con la letra I\r\n",
    "\r\n",
    "Por ejemplo la matriz identidad de 3x3 sería la siguiente:\r\n",
    "\r\n",
    "$$I=\\begin{bmatrix}1 & 0 & 0 & \\\\0 & 1 & 0\\\\ 0 & 0 & 1\\end{bmatrix}$$\r\n",
    "\r\n"
   ],
   "metadata": {}
  },
  {
   "cell_type": "code",
   "execution_count": 55,
   "source": [
    "# Creando una matriz identidad de 2x2\r\n",
    "I = np.eye(2)\r\n",
    "I"
   ],
   "outputs": [
    {
     "output_type": "execute_result",
     "data": {
      "text/plain": [
       "array([[1., 0.],\n",
       "       [0., 1.]])"
      ]
     },
     "metadata": {},
     "execution_count": 55
    }
   ],
   "metadata": {
    "jupyter": {
     "outputs_hidden": false
    }
   }
  },
  {
   "cell_type": "markdown",
   "source": [
    "Ahora que conocemos el concepto de la [matriz identidad](https://es.wikipedia.org/wiki/Matriz_identidad), podemos llegar al concepto de la [matriz inversa](https://es.wikipedia.org/wiki/Matriz_invertible). Si tenemos una matriz A, la [matriz inversa](https://es.wikipedia.org/wiki/Matriz_invertible) de A, que se representa como $A^{-1}$ es aquella [matriz cuadrada](https://es.wikipedia.org/wiki/Matriz_cuadrada) que hace que la multiplicación $A \\times A^{-1}$ sea igual a la [matriz identidad](https://es.wikipedia.org/wiki/Matriz_identidad) I. Es decir que es la <a href=\"http://es.wikipedia.org/wiki/Matriz_(matem%C3%A1ticas)\">matriz</a> recíproca de A.\r\n",
    "\r\n",
    "$$A × A^{-1} = A^{-1} × A = I$$\r\n",
    "\r\n",
    "Tener en cuenta que esta [matriz inversa](https://es.wikipedia.org/wiki/Matriz_invertible) en muchos casos puede no existir. En este caso se dice que la matriz es singular o degenerada. Una matriz es singular si y solo si su <a href=\"https://es.wikipedia.org/wiki/Determinante_(matem%C3%A1tica)\">determinante</a> es nulo.\r\n",
    "\r\n",
    "El <a href=\"https://es.wikipedia.org/wiki/Determinante_(matem%C3%A1tica)\">determinante</a> es un número especial que puede calcularse sobre las [matrices cuadradas](https://es.wikipedia.org/wiki/Matriz_cuadrada). Se calcula como la suma de los productos de las diagonales de la matriz en una dirección menos la suma de los productos de las diagonales en la otra dirección. El determinante de la matriz $A$ Se representa como $|A|$.\r\n",
    "\r\n",
    "$$A=\\begin{bmatrix}a_{11} & a_{12} & a_{13} & \\\\a_{21} & a_{22} & a_{23} & \\\\ a_{31} & a_{32} & a_{33} & \\end{bmatrix}$$\r\n",
    "\r\n",
    "$$|A| = \r\n",
    "     (a_{11} a_{22} a_{33} \r\n",
    "   + a_{12} a_{23} a_{31} \r\n",
    "   + a_{13} a_{21} a_{32} )\r\n",
    "   - (a_{31} a_{22} a_{13} \r\n",
    "   + a_{32} a_{23} a_{11} \r\n",
    "   + a_{33} a_{21} a_{12})\r\n",
    " $$\r\n",
    "\r\n",
    "A continuación se presentan algunas propiedades de la inversa. Para todos los ejemplos suponga que $A, B \\in \\mathbb{R}^{n\\times n}$$ son no singulares.\r\n",
    "- $(A^{-1})^{-1}=A$\r\n",
    "- $(AB)^{-1}=B^{-1}A^{-1}$\r\n",
    "- $(A^{-1})^\\intercal=(A^\\intercal)^{-1}$"
   ],
   "metadata": {}
  },
  {
   "cell_type": "code",
   "execution_count": 56,
   "source": [
    "# Multiplicar una matriz por la identidad nos da la misma matriz\r\n",
    "A = np.array([[4, 7],\r\n",
    "              [2, 6]])\r\n",
    "A"
   ],
   "outputs": [
    {
     "output_type": "execute_result",
     "data": {
      "text/plain": [
       "array([[4, 7],\n",
       "       [2, 6]])"
      ]
     },
     "metadata": {},
     "execution_count": 56
    }
   ],
   "metadata": {
    "jupyter": {
     "outputs_hidden": false
    }
   }
  },
  {
   "cell_type": "code",
   "execution_count": 57,
   "source": [
    "A.dot(I) # AxI = A"
   ],
   "outputs": [
    {
     "output_type": "execute_result",
     "data": {
      "text/plain": [
       "array([[4., 7.],\n",
       "       [2., 6.]])"
      ]
     },
     "metadata": {},
     "execution_count": 57
    }
   ],
   "metadata": {
    "jupyter": {
     "outputs_hidden": false
    }
   }
  },
  {
   "cell_type": "code",
   "execution_count": 58,
   "source": [
    "# Calculando el determinante de la matriz A\r\n",
    "np.linalg.det(A)"
   ],
   "outputs": [
    {
     "output_type": "execute_result",
     "data": {
      "text/plain": [
       "10.000000000000002"
      ]
     },
     "metadata": {},
     "execution_count": 58
    }
   ],
   "metadata": {
    "jupyter": {
     "outputs_hidden": false
    }
   }
  },
  {
   "cell_type": "code",
   "execution_count": 59,
   "source": [
    "# Haciendo los cálculos manualmente obtendríamos\r\n",
    "(4*6) - (7*2)"
   ],
   "outputs": [
    {
     "output_type": "execute_result",
     "data": {
      "text/plain": [
       "10"
      ]
     },
     "metadata": {},
     "execution_count": 59
    }
   ],
   "metadata": {}
  },
  {
   "cell_type": "code",
   "execution_count": 60,
   "source": [
    "# Calculando la inversa de A.\r\n",
    "A_inv = np.linalg.inv(A)\r\n",
    "A_inv"
   ],
   "outputs": [
    {
     "output_type": "execute_result",
     "data": {
      "text/plain": [
       "array([[ 0.6, -0.7],\n",
       "       [-0.2,  0.4]])"
      ]
     },
     "metadata": {},
     "execution_count": 60
    }
   ],
   "metadata": {
    "jupyter": {
     "outputs_hidden": false
    }
   }
  },
  {
   "cell_type": "code",
   "execution_count": 61,
   "source": [
    "# A x A_inv nos da como resultado I.\r\n",
    "A.dot(A_inv)"
   ],
   "outputs": [
    {
     "output_type": "execute_result",
     "data": {
      "text/plain": [
       "array([[ 1.00000000e+00, -1.11022302e-16],\n",
       "       [-1.11022302e-16,  1.00000000e+00]])"
      ]
     },
     "metadata": {},
     "execution_count": 61
    }
   ],
   "metadata": {
    "jupyter": {
     "outputs_hidden": false
    }
   }
  },
  {
   "cell_type": "markdown",
   "source": [
    "Por último, la [matriz transpuesta](http://es.wikipedia.org/wiki/Matriz_transpuesta) es aquella en que las filas se transforman en columnas y las columnas en filas. Se representa con el símbolo $A^\\intercal$\r\n",
    "\r\n",
    "$$\\begin{bmatrix}a & b & \\\\ c & d & \\\\ e & f & \\end{bmatrix}^T:=\\begin{bmatrix}a & c & e &\\\\b & d & f & \\end{bmatrix}$$\r\n",
    "\r\n",
    "Ejemplos en [Python](http://python.org/):"
   ],
   "metadata": {}
  },
  {
   "cell_type": "code",
   "execution_count": 62,
   "source": [
    "# Trasponiendo una matriz\r\n",
    "A = np.arange(6).reshape(3, 2)\r\n",
    "A"
   ],
   "outputs": [
    {
     "output_type": "execute_result",
     "data": {
      "text/plain": [
       "array([[0, 1],\n",
       "       [2, 3],\n",
       "       [4, 5]])"
      ]
     },
     "metadata": {},
     "execution_count": 62
    }
   ],
   "metadata": {
    "jupyter": {
     "outputs_hidden": false
    }
   }
  },
  {
   "cell_type": "code",
   "execution_count": 63,
   "source": [
    "np.transpose(A)"
   ],
   "outputs": [
    {
     "output_type": "execute_result",
     "data": {
      "text/plain": [
       "array([[0, 2, 4],\n",
       "       [1, 3, 5]])"
      ]
     },
     "metadata": {},
     "execution_count": 63
    }
   ],
   "metadata": {
    "jupyter": {
     "outputs_hidden": false
    }
   }
  },
  {
   "cell_type": "markdown",
   "source": [
    "#### Traza\r\n",
    "La traza de una matriz cuadrada $A\\in \\mathbb{R}^{n\\times n}$ es la suma de los elementos de la diagonal de la matriz.\r\n",
    "\r\n",
    "$$tr(A)=\\sum_ {i=1}^n A_{ii}$$\r\n",
    "\r\n",
    "La traza cuenta con las siguientes propiedades:\r\n",
    "- Para $A\\in \\mathbb{R}^{n\\times n}$, $tr(A)=tr(A^\\intercal)$\r\n",
    "- Para $A,B \\in \\mathbb{R}^{n\\times n}$, $tr(A+B)=tr(A)+tr(B)$\r\n",
    "- Para $A \\in \\mathbb{R}^{n\\times n}$, $\\gamma \\in \\mathbb{R}$, $tr(\\gamma A)= \\gamma tr(A)$\r\n",
    "- Para $A, B$ tal que $AB$ sea una matriz cuadrada, $tr(AB)=tr(BA)$\r\n",
    "- Para $A, B, C$ tal que $ABC$ sea una matriz cuadrada, $tr(ABC)=tr(BCA)=tr(CAB)$. Esto sin perdida de generalidad para multiplicación de más matrices."
   ],
   "metadata": {}
  },
  {
   "cell_type": "markdown",
   "source": [
    "#### Norma de un vector\r\n",
    "La norma de un vector x (expresada como $||x||$) es una medida informal de la longitud del vector. Usalmente se utiliza la norma Euclideana o la norma $l_2$ la cual se define como:\r\n",
    "$$||x||_2= \\sqrt{\\sum_{i=1}^nx_i^2}$$ \r\n",
    "\r\n",
    "Note que $||x||_2^2=x^Tx$\r\n",
    "\r\n",
    "Más formalmente, decimos que una norma es una función $f: \\mathbb{R}^n \\rightarrow \\mathbb{R}$ que satisface las siguientes cuatro propiedades:\r\n",
    "1. **No negativa.** Para todo $x\\in\\mathbb{R}^n,\\ f(x)\\geq0$.\r\n",
    "2. **Definida.** $f(x)=0$ si y solo si $x=0$.\r\n",
    "3. **Homogeneidad.** Para todo $x\\in\\mathbb{R}^n,\\ c\\in\\mathbb{R},\\ f(cx)=|c|f(x)$\r\n",
    "4. **Desigualdad triangular.** Para todo $x, y \\in\\mathbb{R}^n,\\ f(x+y)\\leq f(x) + f(y)$\r\n",
    "\r\n",
    "Otro ejemplo de norma es la norma $l_1$:\r\n",
    "\r\n",
    "$$||x||_1= |\\sum_{i=1}^nx_i^2|$$"
   ],
   "metadata": {}
  },
  {
   "cell_type": "markdown",
   "source": [
    "#### Eigenvalores y eigenvectores\r\n",
    "Para una matriz cuadrada $A\\in \\mathbb{R}^{n\\times n}$, decimos que $\\lambda \\in \\mathbb{C}$ es un **[eigenvalor](https://es.wikipedia.org/wiki/Vector,_valor_y_espacio_propios)** de $A$ y $x\\in \\mathbb{C}^n$ es el **[eigenvector](https://es.wikipedia.org/wiki/Vector,_valor_y_espacio_propios)** (o vector propio) asociado si:\r\n",
    "$$Ax=\\lambda x,\\ x \\neq 0$$\r\n",
    "\r\n",
    "Intuitivamente esta definición nos dice que si multiplicamos la matriz $A$ por un vector $x$ el resultado es un nuevo vector que apunta hacia la misma dirección que $x$, pero escalado por un factor de $\\lambda$. Las transformaciones lineales en el espacio $\\mathbb{R}^2$ son la rotación, la reflexión, el escalado uniforme y la proyección sobre una recta. Por tal motivo, una aplicación inmediata de este tópico se halla en la transformación de imágenes digitales.\r\n",
    "\r\n",
    "Note que para cualquier eigenvector $x\\in \\mathbb{C}^n$ y escalar $c \\in \\mathbb{C}$, $A(cx)=cAx=c\\lambda x = \\lambda (cx)$, por lo que $cx$ también es un eigenvector. Por tal motivo, para evitar tener infinitos eigenvectores, decimos que existe \"el\" eigenvector asociado a $\\lambda$ y este está normalizado para tener norma 1. (Esto todavía nos genera una ambiguedad pues $x$ y $-x$ son ambos eigenvectores, pero debemos convivir con ello).\r\n",
    "\r\n",
    "Podemos re escribir la expresión $Ax=\\lambda x,\\ x \\neq 0$ como:\r\n",
    "\r\n",
    "$$(\\lambda I - A)x=0,\\ x \\neq 0$$\r\n",
    "\r\n",
    "En donde, $(\\lambda I - A)x=0$ tiene una solución no trivial para $x$ solo si $(\\lambda I - A)$ no es un espacio nulo, lo cual es lo mismo que $(\\lambda I - A)$ sea singular, es decir:\r\n",
    "\r\n",
    "$$|(\\lambda I - A)|=0$$\r\n",
    "\r\n",
    "Aquí podemos usar la definición del determinante para expandir la expresión pasada en un polinomio de $\\lambda$, en donde $\\lambda$ tendrá grado $n$. A esto usualmente se le llama el polinomio característico de la matriz $A$.\r\n",
    "\r\n",
    "Debemos encontrar las $n$ raíces del polinomio característico. Las denotaremos como $\\lambda_1, \\lambda_2, \\cdots, \\lambda_n$. Cada uno de estos valores será un eigenvalor de la matriz $A$.\r\n",
    "\r\n",
    "Para encontrar el eigenvector correspondiente al eigenvalor $\\lambda_i$ se debe solucionar el sistema de ecuaciones lineal $(\\lambda_i I - A)x=0$. Aquí sabemos que tendremos una solución diferente a la trivial pues $\\lambda_i I - A$ es singular (sin embargo podrían haber varias o infinitas soluciones).\r\n",
    "\r\n",
    "A continuación se presentan algunas propiedades de los eigenvalores y los eigenvectores. Para todos los casos suponga que $A\\in\\mathbb{R}^{n\\times n} tiene $\\lambda_i, \\cdots, \\lambda_n$ eigenvalores):\r\n",
    "- La traza de $A$ es igual a la suma de los eigenvalores.\r\n",
    "$$tr(A)=\\sum_{i=1}^n\\lambda_i$$\r\n",
    "- El determinante de $A$ es igual al producto de los eigenvalores:\r\n",
    "$$|A|=\\prod_{i=1}^n\\lambda_i$$\r\n",
    "- El rango de $A$ es igual al número de eigenvalores de $A$ diferentes de cero.\r\n",
    "- Suponga que $A$ es no singular con eigenvalor $\\lambda$ y un eigenvector asociado $x$. Entonces $1/\\lambda$ es un eigenvalor de $A^{-1}$ con eigenvector asociado $x$. $A^{-1}x=(1/\\lambda)x$.\r\n",
    "- Los eigenvalores de una matriz diagonal $D=diag(d_1, d_2, \\cdots, d_n)$ son los elementos de la diagonal $d_1, d_2, \\cdots, d_n$.\r\n",
    "\r\n",
    "#### Diagonalización a partir de los eigenvectores y eigenvalores\r\n",
    "Si la matriz $A$ tiene $n$ eigenvectores linealmente independientes, podemos ordenare esos vectores para conformar una matriz $S$ que sea cuadrada e invertible:\r\n",
    "\r\n",
    "$$ AS = A \\begin{bmatrix} x_1 & x_2 & \\cdots & x_n \\end{bmatrix} $$\r\n",
    "$$ = \\begin{bmatrix} \\lambda_1 x_1 & \\lambda_2 x_2 & \\cdots & \\lambda_n x_n \\end{bmatrix} $$\r\n",
    "$$ S \\begin{bmatrix} \\lambda_1 & 0 & \\cdots & 0 \\\\ 0 & \\lambda_2 & & 0 \\\\ \\vdots & & \\ddots & \\vdots \\\\ 0 & \\cdots & 0 & \\lambda_n \\end{bmatrix} = S\\Lambda$$\r\n",
    "\r\n",
    "Note que $\\Lambda$ es una matriz diagonal en donde los valores que no son cero corresponden a los eigenvalores de $A$. Como las columnas de $S$ son independientes, $S^{-1}$ existe y por ende podemos multiplicar a ambos lados de $AS=S\\Lambda$ por $S^{-1}$:\r\n",
    "$$S^{-1}AS=\\Lambda$$\r\n",
    "$$A=S\\Lambda S^{-1}$$"
   ],
   "metadata": {}
  },
  {
   "cell_type": "code",
   "execution_count": 65,
   "source": [
    "# Aunque calcular los eigenvalores y los eigenvectores con papel y lapiz puede ser tedioso\r\n",
    "# En Python solo necesitamos de la función eig del modulo linalg del paquete Numpy.\r\n",
    "from numpy.linalg import eig\r\n",
    "a = np.array([[1, 2], \r\n",
    "              [2, 9]])\r\n",
    "w,v=eig(a)\r\n",
    "print('Eigenvalores:', w)\r\n",
    "print('Eigenvectores', v)"
   ],
   "outputs": [
    {
     "output_type": "stream",
     "name": "stdout",
     "text": [
      "Eigenvalores: [0.52786405 9.47213595]\n",
      "Eigenvectores [[-0.97324899 -0.22975292]\n",
      " [ 0.22975292 -0.97324899]]\n"
     ]
    }
   ],
   "metadata": {}
  },
  {
   "cell_type": "code",
   "execution_count": 66,
   "source": [
    "a = np.array([[-11, 5], \r\n",
    "              [-17, 7]])\r\n",
    "w,v=eig(a)\r\n",
    "print('Eigenvalores:', w)\r\n",
    "print('Eigenvectores', v)"
   ],
   "outputs": [
    {
     "output_type": "stream",
     "name": "stdout",
     "text": [
      "Eigenvalores: [11.43008584  1.89947784 -4.32956368]\n",
      "Eigenvectores [[ 0.28344454  0.64079241  0.00924407]\n",
      " [ 0.7616636  -0.32530671 -0.47772887]\n",
      " [ 0.5826901  -0.69538524  0.87845869]]\n"
     ]
    }
   ],
   "metadata": {}
  },
  {
   "cell_type": "code",
   "execution_count": null,
   "source": [
    "a = np.array([[4, 2, 1], \r\n",
    "              [7, 5, 5],\r\n",
    "              [2, 8, 0]])\r\n",
    "w, v =eig(a)\r\n",
    "print('Eigenvalores:', w)\r\n",
    "print('Eigenvectores', v)"
   ],
   "outputs": [],
   "metadata": {}
  },
  {
   "cell_type": "markdown",
   "source": [
    "---\r\n",
    "# Ejercicios de repaso\r\n",
    "Resuelva los siguientes problemas y sustentelos mostrando el procedimiento que usó para llegar a la solución. Puede usar los comandos de Python para verificar su solución, sin embargo estos no serán tenidos en cuenta como justificación de sus respuestas.\r\n",
    "\r\n",
    "1. Sea $A = \\begin{bmatrix} 7 & 10 \\\\ 1 & -2 \\end{bmatrix}$, $B = \\begin{bmatrix} 3 & 0 \\\\ 8 & -1 \\end{bmatrix}$. Encuentre:\r\n",
    "\r\n",
    "    a. $A^{9}$\r\n",
    "\r\n",
    "    b. $B^{5}$\r\n",
    "\r\n",
    "    c. $C=AB$"
   ],
   "metadata": {}
  },
  {
   "cell_type": "markdown",
   "source": [
    "#### Solución"
   ],
   "metadata": {}
  },
  {
   "cell_type": "code",
   "execution_count": 303,
   "source": [
    "import numpy as np\r\n",
    "\r\n",
    "A = np.array([[7, 10], \r\n",
    "              [1, -2]])\r\n",
    "B = np.array([[3, 0], \r\n",
    "              [8, -1]])\r\n",
    "from numpy.linalg import matrix_power\r\n",
    "\r\n",
    "print(\"1.a.\") \r\n",
    "print(matrix_power(A, 9))\r\n",
    "\r\n",
    "print(\"1.b.\") \r\n",
    "print(matrix_power(B, 5))\r\n",
    "\r\n",
    "C = A.dot(B)\r\n",
    "\r\n",
    "print(\"1.c.\") \r\n",
    "print(C)"
   ],
   "outputs": [
    {
     "output_type": "stream",
     "name": "stdout",
     "text": [
      "1.a.\n",
      "[[122014327 122034010]\n",
      " [ 12203401  12183718]]\n",
      "1.b.\n",
      "[[243   0]\n",
      " [488  -1]]\n",
      "1.c.\n",
      "[[101 -10]\n",
      " [-13   2]]\n"
     ]
    }
   ],
   "metadata": {}
  },
  {
   "cell_type": "markdown",
   "source": [
    "#### 1.a.\r\n",
    "Para calcular la potencia de una matriz nos vamos a basar en la formula vista previamente en la sección de diagonalización: $A = S\\Lambda S^{-1}$, en donde $S$ corresponde a la matriz de eigenvectores y $\\Lambda$ es la matriz diagonal de eigenvalores ordenada según la correspondencia con los eigenvectores.\r\n",
    "\r\n",
    "$$ A^2 = (S\\Lambda S^{-1})(S\\Lambda S^{-1}) $$\r\n",
    "$$ A^2 = S\\Lambda^2 S^{-1} $$\r\n",
    "$$ \\vdots $$\r\n",
    "$$ A^p = S\\Lambda^p S^{-1} $$\r\n",
    "\r\n",
    "Para hallar los eigenvectores de $A$ usamos la formula $|(\\lambda I - A)| = 0$\r\n",
    "\r\n",
    "$$|\\begin{bmatrix} \\lambda - 7 & -10 \\\\ -1 & \\lambda  + 2 \\end{bmatrix}| = 0 $$\r\n",
    "\r\n",
    "$$ (\\lambda - 8)(\\lambda + 3) = 0 $$\r\n",
    "\r\n",
    "Entonces nuestros eigenvalores serían $\\lambda_1 = 8$ y $\\lambda_2 = -3$. Ahora resolvamos la ecuación $(\\lambda I - A)x=0$ para encontrar los eigenvectores.\r\n",
    "\r\n",
    "Para $\\lambda_1 = 8$:\r\n",
    "$$ \\begin{bmatrix} \\lambda_1 - 7 & -10 \\\\ -1 & \\lambda_1 + 2 \\end{bmatrix} = \\begin{bmatrix} 0 \\\\ 0 \\end{bmatrix}$$\r\n",
    "$$ \\begin{bmatrix} 1 & -10 \\\\ -1 & 10 \\end{bmatrix} = \\begin{bmatrix} 0 \\\\ 0 \\end{bmatrix}$$\r\n",
    "Le restamos la primera fila a la segunda fila:\r\n",
    "$$ \\begin{bmatrix} 1 & -10 \\\\ 0 & 0 \\end{bmatrix} = \\begin{bmatrix} 0 \\\\ 0 \\end{bmatrix}$$\r\n",
    "Encontramos que el sistema de ecuaciones se resuelve con $x_1 = \\begin{bmatrix} 10t \\\\ t \\end{bmatrix},\\ t\\in\\mathbb{R} $ por lo que tomamos a nuestro primer eigenvector como: $x_1 = \\begin{bmatrix} 10 \\\\ 1 \\end{bmatrix}$\r\n",
    "\r\n",
    "Para $\\lambda_2 = -3$:\r\n",
    "$$ \\begin{bmatrix} \\lambda_2 - 7 & -10 \\\\ -1 & \\lambda_2 + 2 \\end{bmatrix} = \\begin{bmatrix} 0 \\\\ 0 \\end{bmatrix}$$\r\n",
    "$$ \\begin{bmatrix} -10 & -10 \\\\ -1 & -1 \\end{bmatrix} = \\begin{bmatrix} 0 \\\\ 0 \\end{bmatrix}$$\r\n",
    "Dividimos la primera fila por $-10$ y se le suma el resultado de la primera fila a la segunda y quedamos con:\r\n",
    "$$ \\begin{bmatrix} 1 & 1 \\\\ 0 & 0 \\end{bmatrix} = \\begin{bmatrix} 0 \\\\ 0 \\end{bmatrix}$$\r\n",
    "Encontramos que el sistema de ecuaciones se resuelve con $x_2 = \\begin{bmatrix} t \\\\ -t \\end{bmatrix},\\ t\\in\\mathbb{R} $ por lo que tomamos a nuestro segundo eigenvector como: $x_2 = \\begin{bmatrix} 1 \\\\ -1 \\end{bmatrix}$"
   ],
   "metadata": {}
  },
  {
   "cell_type": "code",
   "execution_count": 283,
   "source": [
    "# Verificamos nuestra solución en Python\r\n",
    "from numpy.linalg import eig\r\n",
    "w, v = eig(A)\r\n",
    "print('Eigenvalor 1:', w[0])\r\n",
    "print('Eigenvector 1:')\r\n",
    "print(v[:,0].reshape(2,1)) # Python los devuelve normalizados\r\n",
    "print('Eigenvalor 2:', w[1])\r\n",
    "print('Eigenvector 2:')\r\n",
    "print(v[:,1].reshape(2,1))"
   ],
   "outputs": [
    {
     "output_type": "stream",
     "name": "stdout",
     "text": [
      "Eigenvalor 1: 8.0\n",
      "Eigenvector 1:\n",
      "[[0.9950371902]\n",
      " [0.099503719 ]]\n",
      "Eigenvalor 2: -3.0\n",
      "Eigenvector 2:\n",
      "[[-0.7071067812]\n",
      " [ 0.7071067812]]\n"
     ]
    }
   ],
   "metadata": {}
  },
  {
   "cell_type": "markdown",
   "source": [
    "Ahora construiremos las matrices $S$, $S^{-1}$ y $\\Lambda$:\r\n",
    "\r\n",
    "$$S = \\begin{bmatrix} 10 & 1 \\\\ 1 & -1 \\end{bmatrix}$$\r\n",
    "$$S^{-1} = \\frac{1}{11} \\begin{bmatrix} 1 & 1 \\\\ 1 & -10 \\end{bmatrix}$$\r\n",
    "$$\\Lambda = \\begin{bmatrix} 8 & 0 \\\\ 0 & -3 \\end{bmatrix}$$\r\n",
    "\r\n",
    "Finalmente $A^{9}=S\\Lambda^{9}S^{-1}$:\r\n",
    "\r\n",
    "$$A^{9}= \\frac{1}{11} \\begin{bmatrix} 10 & 1 \\\\ -1 & 1 \\end{bmatrix} \\begin{bmatrix} 8^{9} & 0 \\\\ 0 & -3^{9} \\end{bmatrix} \\begin{bmatrix} 1 & 1 \\\\ 1 & -10 \\end{bmatrix} $$\r\n",
    "\r\n",
    "$$A^{9}= \\frac{1}{11} \\begin{bmatrix} 10*8^{9} & -3^{9} \\\\ 8^{9} & 3^{9} \\end{bmatrix} \\begin{bmatrix} 1 & 1 \\\\ 1 & -10 \\end{bmatrix} $$\r\n",
    "\r\n",
    "$$A^{9}= \\frac{1}{11} \\begin{bmatrix} 10*8^{9} + (-3)^{9} & 10*8^{9} + 10*3^{9} \\\\ 8^{9} + 3^{9} & 8^{9} + (-10)*3^{9} \\end{bmatrix}$$\r\n",
    "\r\n",
    "$$A^{9}= \\begin{bmatrix} 10*8^{9} + (-3)^{9} & 10*8^{9} - 10*(-3)^{9} \\\\ 8^{9} - (-3)^{9} & 8^{9} + 10*(-3)^{9} \\end{bmatrix}$$"
   ],
   "metadata": {}
  },
  {
   "cell_type": "code",
   "execution_count": 284,
   "source": [
    "n = 9\r\n",
    "# Prueba directa\r\n",
    "S = v\r\n",
    "l = np.diag(w)\r\n",
    "S_inv = np.linalg.inv(S)\r\n",
    "directa = np.vectorize(lambda x: '{:f}'.format(x))(S.dot(l**n).dot(S_inv))\r\n",
    "# Prueba formulas\r\n",
    "e1 = '{:f}'.format((10*(8**n) + (-3)**n)/11)\r\n",
    "e2 = '{:f}'.format((10*(8**n) + (-10)*(-3)**n)/11)\r\n",
    "e3 = '{:f}'.format((8**n + (-1)*((-3)**n))/11)\r\n",
    "e4 = '{:f}'.format((8**n + 10*((-3)**n))/11)\r\n",
    "formulas = np.array([[e1, e2], [e3, e4]])"
   ],
   "outputs": [],
   "metadata": {}
  },
  {
   "cell_type": "code",
   "execution_count": 285,
   "source": [
    "directa"
   ],
   "outputs": [
    {
     "output_type": "execute_result",
     "data": {
      "text/plain": [
       "array([['122014327.000000', '122034010.000000'],\n",
       "       ['12203401.000000', '12183718.000000']], dtype='<U16')"
      ]
     },
     "metadata": {},
     "execution_count": 285
    }
   ],
   "metadata": {}
  },
  {
   "cell_type": "code",
   "execution_count": 286,
   "source": [
    "formulas"
   ],
   "outputs": [
    {
     "output_type": "execute_result",
     "data": {
      "text/plain": [
       "array([['122014327.000000', '122034010.000000'],\n",
       "       ['12203401.000000', '12183718.000000']], dtype='<U16')"
      ]
     },
     "metadata": {},
     "execution_count": 286
    }
   ],
   "metadata": {}
  },
  {
   "cell_type": "code",
   "execution_count": 287,
   "source": [
    "matrix_power(A, n)"
   ],
   "outputs": [
    {
     "output_type": "execute_result",
     "data": {
      "text/plain": [
       "array([[122014327, 122034010],\n",
       "       [ 12203401,  12183718]])"
      ]
     },
     "metadata": {},
     "execution_count": 287
    }
   ],
   "metadata": {}
  },
  {
   "cell_type": "code",
   "execution_count": 288,
   "source": [
    "resultado = A\r\n",
    "for n in range(0, n - 1):\r\n",
    "    resultado = resultado.dot(A)\r\n",
    "resultado"
   ],
   "outputs": [
    {
     "output_type": "execute_result",
     "data": {
      "text/plain": [
       "array([[122014327, 122034010],\n",
       "       [ 12203401,  12183718]])"
      ]
     },
     "metadata": {},
     "execution_count": 288
    }
   ],
   "metadata": {}
  },
  {
   "cell_type": "markdown",
   "source": [
    "**1.b.**\r\n",
    "\r\n",
    "Partimos de la formula para encontrar los eigenvalores $|B-\\lambda|=0$\r\n",
    "$$|\\begin{bmatrix} 3-\\lambda & 0 \\\\ 8 & -1-\\lambda\\end{bmatrix}|=0$$\r\n",
    "$$(3-\\lambda)(-1-\\lambda)=0$$\r\n",
    "Nuestros eiganvalores serían $\\lambda_1=3$ y $\\lambda_2=-1$\r\n",
    "\r\n",
    "El eigenvector asociado a $\\lambda_1=3$ vendría de:\r\n",
    "$$\\begin{bmatrix} 0 & 0 \\\\ 8 & -4\\end{bmatrix} \\begin{bmatrix} x \\\\ y \\end{bmatrix}=\\begin{bmatrix} 0 \\\\ 0 \\end{bmatrix}$$\r\n",
    "$$\\begin{bmatrix} 0 & 0 \\\\ 2 & -1\\end{bmatrix} \\begin{bmatrix} x \\\\ y \\end{bmatrix}=\\begin{bmatrix} 0 \\\\ 0 \\end{bmatrix}$$\r\n",
    "$$\\begin{bmatrix} 1 & -\\frac{1}{2} \\\\ 0 & 0\\end{bmatrix} \\begin{bmatrix} x \\\\ y \\end{bmatrix}=\\begin{bmatrix} 0 \\\\ 0 \\end{bmatrix}$$\r\n",
    "Entonces $x=\\frac{1}{2}y$ e $y=t$. Por ende el eigenvector asociado a $\\lambda_1=3$ sería $x_1=\\begin{bmatrix} \\frac{1}{2} \\\\ 1 \\end{bmatrix}$\r\n",
    "\r\n",
    "El eigenvector asociado a $\\lambda_2=-1$ vendría de:\r\n",
    "$$\\begin{bmatrix} 4 & 0 \\\\ 8 & 0 \\end{bmatrix} \\begin{bmatrix} x \\\\ y \\end{bmatrix}=\\begin{bmatrix} 0 \\\\ 0 \\end{bmatrix}$$\r\n",
    "$$\\begin{bmatrix} 1 & 0 \\\\ 0 & 0\\end{bmatrix} \\begin{bmatrix} x \\\\ y \\end{bmatrix}=\\begin{bmatrix} 0 \\\\ 0 \\end{bmatrix}$$\r\n",
    "Entonces $x=0$ e $y=t$. Por ende el eigenvector asociado a $\\lambda_2=-1$ sería $x_2=\\begin{bmatrix} 0 \\\\ 1 \\end{bmatrix}$"
   ],
   "metadata": {}
  },
  {
   "cell_type": "code",
   "execution_count": 289,
   "source": [
    "# Verificamos nuestra solución en Python\r\n",
    "from numpy.linalg import eig\r\n",
    "w, v = eig(B)\r\n",
    "print('Eigenvalor 1:', w[0])\r\n",
    "print('Eigenvector 1:')\r\n",
    "print(v[:,0].reshape(2,1)) # Python los devuelve normalizados\r\n",
    "print('Eigenvalor 2:', w[1])\r\n",
    "print('Eigenvector 2:')\r\n",
    "print(v[:,1].reshape(2,1))"
   ],
   "outputs": [
    {
     "output_type": "stream",
     "name": "stdout",
     "text": [
      "Eigenvalor 1: -1.0\n",
      "Eigenvector 1:\n",
      "[[0.]\n",
      " [1.]]\n",
      "Eigenvalor 2: 3.0\n",
      "Eigenvector 2:\n",
      "[[0.4472135955]\n",
      " [0.894427191 ]]\n"
     ]
    }
   ],
   "metadata": {}
  },
  {
   "cell_type": "markdown",
   "source": [
    "Ahora construiremos las matrices $S$, $S^{-1}$ y $\\Lambda$:\r\n",
    "\r\n",
    "$$S = \\begin{bmatrix} \\frac{1}{2} & 0 \\\\ 1 & 1 \\end{bmatrix}$$\r\n",
    "$$S^{-1} = \\begin{bmatrix} 2 & 0 \\\\  -2 & 1 \\end{bmatrix}$$\r\n",
    "$$\\Lambda = \\begin{bmatrix} 3 & 0 \\\\ 0 & -1 \\end{bmatrix}$$\r\n",
    "\r\n",
    "Finalmente $B^{n}=S\\Lambda^{n}S^{-1}$:\r\n",
    "\r\n",
    "$$A^{n}= \\begin{bmatrix} \\frac{1}{2} & 0 \\\\ 1 & 1 \\end{bmatrix} \\begin{bmatrix} 3^n & 0 \\\\ 0 & (-1)^n \\end{bmatrix} \\begin{bmatrix} 2 & 0 \\\\  -2 & 1 \\end{bmatrix}$$\r\n",
    "\r\n",
    "$$A^{n}= \\begin{bmatrix} \\frac{1}{2}*3^n & 0 \\\\ 3^n & (-1)^n \\end{bmatrix} \\begin{bmatrix} 2 & 0 \\\\  -2 & 1 \\end{bmatrix}$$\r\n",
    "\r\n",
    "$$A^{n}= \\begin{bmatrix} 3^n & 0 \\\\ 2*3^n + (-2)*(-1)^n & (-1)^n \\end{bmatrix} $$"
   ],
   "metadata": {}
  },
  {
   "cell_type": "code",
   "execution_count": 296,
   "source": [
    "n = 5\r\n",
    "# Prueba directa\r\n",
    "S = v\r\n",
    "l = np.diag(w)\r\n",
    "S_inv = np.linalg.inv(S)\r\n",
    "directa = np.vectorize(lambda x: '{:f}'.format(x))(S.dot(l**n).dot(S_inv))\r\n",
    "# Prueba formulas\r\n",
    "e1 = '{:f}'.format(3**n)\r\n",
    "e2 = 0\r\n",
    "e3 = '{:f}'.format(2*(3**n) + (-2)*(-1)**n)\r\n",
    "e4 = '{:f}'.format((-1)**n)\r\n",
    "formulas = np.array([[e1, e2], [e3, e4]])"
   ],
   "outputs": [],
   "metadata": {}
  },
  {
   "cell_type": "code",
   "execution_count": 297,
   "source": [
    "directa"
   ],
   "outputs": [
    {
     "output_type": "execute_result",
     "data": {
      "text/plain": [
       "array([['243.000000', '0.000000'],\n",
       "       ['488.000000', '-1.000000']], dtype='<U10')"
      ]
     },
     "metadata": {},
     "execution_count": 297
    }
   ],
   "metadata": {}
  },
  {
   "cell_type": "code",
   "execution_count": 298,
   "source": [
    "formulas"
   ],
   "outputs": [
    {
     "output_type": "execute_result",
     "data": {
      "text/plain": [
       "array([['243.000000', '0'],\n",
       "       ['488.000000', '-1.000000']], dtype='<U10')"
      ]
     },
     "metadata": {},
     "execution_count": 298
    }
   ],
   "metadata": {}
  },
  {
   "cell_type": "code",
   "execution_count": 299,
   "source": [
    "matrix_power(B, n)"
   ],
   "outputs": [
    {
     "output_type": "execute_result",
     "data": {
      "text/plain": [
       "array([[243,   0],\n",
       "       [488,  -1]])"
      ]
     },
     "metadata": {},
     "execution_count": 299
    }
   ],
   "metadata": {}
  },
  {
   "cell_type": "code",
   "execution_count": 300,
   "source": [
    "resultado = B\r\n",
    "for n in range(0, n - 1):\r\n",
    "    resultado = resultado.dot(B)\r\n",
    "resultado"
   ],
   "outputs": [
    {
     "output_type": "execute_result",
     "data": {
      "text/plain": [
       "array([[243,   0],\n",
       "       [488,  -1]])"
      ]
     },
     "metadata": {},
     "execution_count": 300
    }
   ],
   "metadata": {}
  },
  {
   "cell_type": "markdown",
   "source": [
    "**1.c.**\r\n",
    "\r\n",
    "$$ C = AB = \\begin{bmatrix} 7 & 10 \\\\ 1 & -2 \\end{bmatrix} \\times \\begin{bmatrix} 3 & 0 \\\\ 8 & -1 \\end{bmatrix}$$ \r\n",
    "\r\n",
    "$$ = \\begin{bmatrix} 7*3 + 10*8 & 7*0 + 10*-1 \\\\ 1*3 - 2*8 & 1*0 - 2*-1 \\end{bmatrix}$$\r\n",
    "\r\n",
    "$$C = \\begin{bmatrix} 101 & -10 \\\\ -13 & -2 \\end{bmatrix}$$ "
   ],
   "metadata": {}
  },
  {
   "cell_type": "markdown",
   "source": [
    "2. Encuentre el ángulo entre los siguientes vectores en radianes y grados.\r\n",
    "\r\n",
    "    a. $\\vec{a}=2\\hat{i}-1\\hat{j}+7\\hat{k}$ y $\\vec{b}=\\hat{i}+2\\hat{j}$ \r\n",
    "    \r\n",
    "    b. $a = \\begin{bmatrix} 1 \\\\ 0 \\\\ 1 \\end{bmatrix}$ y $b = \\begin{bmatrix} 1 \\\\ 1 \\\\ 0 \\end{bmatrix}$"
   ],
   "metadata": {}
  },
  {
   "cell_type": "markdown",
   "source": [
    "#### Solución.\r\n",
    "\r\n",
    "2.a. El vector **a** sería $\\begin{bmatrix} 2 \\\\ -1 \\\\ 7\\end{bmatrix}$ y el vector **b** sería $\\begin{bmatrix} 1 \\\\ 2 \\\\ 0\\end{bmatrix}$.\r\n",
    "\r\n",
    "Partiendo de la definición geométrica del producto punto, encontramos que el ángulo entre dos vectores se puede encontrar con la siguiente formula:\r\n",
    "$$\\theta = arccos(\\frac{a\\cdot b}{\\|a\\|\\cdot\\|b\\|})$$\r\n",
    "\r\n",
    "El producto punto entre ambos vectores sería: $a\\cdot b = 2*1 + (-1)*2 + 7*0 = 0$. Como este es nuestro numerador, no es necesario calcular el producto entre las normas. Finalmente, $cos^{-1}(0)=90º$\r\n",
    "\r\n",
    "$$\\theta = 90º = \\frac{\\pi}{2}$$\r\n",
    "\r\n",
    "2.b. \r\n",
    "- $a\\cdot b = 1*1 + 0*1 + 1*0 = 1$\r\n",
    "- $\\|a\\| = \\sqrt{1^2+0^2+1^2}=\\sqrt{2}$\r\n",
    "- $\\|b\\| = \\sqrt{1^2+1^2+0^2}=\\sqrt{2}$\r\n",
    "- $\\|a\\|\\cdot \\|b\\|=2$\r\n",
    "\r\n",
    "$$\\theta = arccos(\\frac{1}{2})=60º=\\frac{\\pi}{3}$$"
   ],
   "metadata": {}
  },
  {
   "cell_type": "markdown",
   "source": [
    "3. Halle el área del paralelogramo limitado por las rectas $x-2y=3$, $x-2y=10$, $2x+3y=-1$ y $2x+3y=-8$ a partir del cálculo de un determinante.\r\n",
    "4. Halle el volumen del paralelepipedo generado por los vectores $\\vec{a}=[2,-1,-2]$, $\\vec{b}=[1,2,-3]$ y $\\vec{c}=[-1,3,5]$ a partir del cálculo de un determinante."
   ],
   "metadata": {}
  },
  {
   "cell_type": "markdown",
   "source": [
    "**Solución**\r\n",
    "**3.**\r\n",
    "Sabemos que las rectas que comienzan con $x-2y$ no se van a cortar entre sí. Igualmente las rectas que comienzan con $2x+3y$ tampoco se van a cruzar. Esto porque son paralelas. Entonces sabemos que las primeras dos se cortaran una vez con cada recta que comienza con $2x+3y$. Resolviendo los sistemas de ecuaciones vamos a encontrar que tenemos 4 puntos: $(1, -1);\\ (-1,-2);\\ (4,-3);\\ (2,-4)$"
   ],
   "metadata": {}
  },
  {
   "cell_type": "code",
   "execution_count": 310,
   "source": [
    "import matplotlib.pyplot as plt\r\n",
    "x = np.linspace(-5, 5, 100)\r\n",
    "y1 = (x-3)/2\r\n",
    "y2 = (x-10)/2\r\n",
    "y3 = (-1-2*x)/3\r\n",
    "y4 = (-8-2*x)/3\r\n",
    "\r\n",
    "plt.plot(x, y1, '-r', label='x-2y=3')\r\n",
    "plt.plot(x, y2, '-b', label='x-2y=10')\r\n",
    "plt.plot(x, y3, '-g', label='2x+3y=-1')\r\n",
    "plt.plot(x, y4, '-m', label='2x+3y=-8')\r\n",
    "plt.legend(loc = 'upper left')\r\n",
    "plt.grid()\r\n",
    "\r\n",
    "plt.show()"
   ],
   "outputs": [
    {
     "output_type": "display_data",
     "data": {
      "text/plain": [
       "<Figure size 432x288 with 1 Axes>"
      ],
      "image/svg+xml": "<?xml version=\"1.0\" encoding=\"utf-8\" standalone=\"no\"?>\r\n<!DOCTYPE svg PUBLIC \"-//W3C//DTD SVG 1.1//EN\"\r\n  \"http://www.w3.org/Graphics/SVG/1.1/DTD/svg11.dtd\">\r\n<!-- Created with matplotlib (https://matplotlib.org/) -->\r\n<svg height=\"248.518125pt\" version=\"1.1\" viewBox=\"0 0 370.942187 248.518125\" width=\"370.942187pt\" xmlns=\"http://www.w3.org/2000/svg\" xmlns:xlink=\"http://www.w3.org/1999/xlink\">\r\n <metadata>\r\n  <rdf:RDF xmlns:cc=\"http://creativecommons.org/ns#\" xmlns:dc=\"http://purl.org/dc/elements/1.1/\" xmlns:rdf=\"http://www.w3.org/1999/02/22-rdf-syntax-ns#\">\r\n   <cc:Work>\r\n    <dc:type rdf:resource=\"http://purl.org/dc/dcmitype/StillImage\"/>\r\n    <dc:date>2021-08-12T23:07:35.116585</dc:date>\r\n    <dc:format>image/svg+xml</dc:format>\r\n    <dc:creator>\r\n     <cc:Agent>\r\n      <dc:title>Matplotlib v3.3.2, https://matplotlib.org/</dc:title>\r\n     </cc:Agent>\r\n    </dc:creator>\r\n   </cc:Work>\r\n  </rdf:RDF>\r\n </metadata>\r\n <defs>\r\n  <style type=\"text/css\">*{stroke-linecap:butt;stroke-linejoin:round;}</style>\r\n </defs>\r\n <g id=\"figure_1\">\r\n  <g id=\"patch_1\">\r\n   <path d=\"M 0 248.518125 \r\nL 370.942187 248.518125 \r\nL 370.942187 0 \r\nL 0 0 \r\nz\r\n\" style=\"fill:none;\"/>\r\n  </g>\r\n  <g id=\"axes_1\">\r\n   <g id=\"patch_2\">\r\n    <path d=\"M 28.942188 224.64 \r\nL 363.742188 224.64 \r\nL 363.742188 7.2 \r\nL 28.942188 7.2 \r\nz\r\n\" style=\"fill:#ffffff;\"/>\r\n   </g>\r\n   <g id=\"matplotlib.axis_1\">\r\n    <g id=\"xtick_1\">\r\n     <g id=\"line2d_1\">\r\n      <path clip-path=\"url(#p79f56269be)\" d=\"M 74.596733 224.64 \r\nL 74.596733 7.2 \r\n\" style=\"fill:none;stroke:#b0b0b0;stroke-linecap:square;stroke-width:0.8;\"/>\r\n     </g>\r\n     <g id=\"line2d_2\">\r\n      <defs>\r\n       <path d=\"M 0 0 \r\nL 0 3.5 \r\n\" id=\"m5f8d75d1f9\" style=\"stroke:#000000;stroke-width:0.8;\"/>\r\n      </defs>\r\n      <g>\r\n       <use style=\"stroke:#000000;stroke-width:0.8;\" x=\"74.596733\" xlink:href=\"#m5f8d75d1f9\" y=\"224.64\"/>\r\n      </g>\r\n     </g>\r\n     <g id=\"text_1\">\r\n      <!-- −4 -->\r\n      <g transform=\"translate(67.225639 239.238437)scale(0.1 -0.1)\">\r\n       <defs>\r\n        <path d=\"M 10.59375 35.5 \r\nL 73.1875 35.5 \r\nL 73.1875 27.203125 \r\nL 10.59375 27.203125 \r\nz\r\n\" id=\"DejaVuSans-8722\"/>\r\n        <path d=\"M 37.796875 64.3125 \r\nL 12.890625 25.390625 \r\nL 37.796875 25.390625 \r\nz\r\nM 35.203125 72.90625 \r\nL 47.609375 72.90625 \r\nL 47.609375 25.390625 \r\nL 58.015625 25.390625 \r\nL 58.015625 17.1875 \r\nL 47.609375 17.1875 \r\nL 47.609375 0 \r\nL 37.796875 0 \r\nL 37.796875 17.1875 \r\nL 4.890625 17.1875 \r\nL 4.890625 26.703125 \r\nz\r\n\" id=\"DejaVuSans-52\"/>\r\n       </defs>\r\n       <use xlink:href=\"#DejaVuSans-8722\"/>\r\n       <use x=\"83.789062\" xlink:href=\"#DejaVuSans-52\"/>\r\n      </g>\r\n     </g>\r\n    </g>\r\n    <g id=\"xtick_2\">\r\n     <g id=\"line2d_3\">\r\n      <path clip-path=\"url(#p79f56269be)\" d=\"M 135.46946 224.64 \r\nL 135.46946 7.2 \r\n\" style=\"fill:none;stroke:#b0b0b0;stroke-linecap:square;stroke-width:0.8;\"/>\r\n     </g>\r\n     <g id=\"line2d_4\">\r\n      <g>\r\n       <use style=\"stroke:#000000;stroke-width:0.8;\" x=\"135.46946\" xlink:href=\"#m5f8d75d1f9\" y=\"224.64\"/>\r\n      </g>\r\n     </g>\r\n     <g id=\"text_2\">\r\n      <!-- −2 -->\r\n      <g transform=\"translate(128.098366 239.238437)scale(0.1 -0.1)\">\r\n       <defs>\r\n        <path d=\"M 19.1875 8.296875 \r\nL 53.609375 8.296875 \r\nL 53.609375 0 \r\nL 7.328125 0 \r\nL 7.328125 8.296875 \r\nQ 12.9375 14.109375 22.625 23.890625 \r\nQ 32.328125 33.6875 34.8125 36.53125 \r\nQ 39.546875 41.84375 41.421875 45.53125 \r\nQ 43.3125 49.21875 43.3125 52.78125 \r\nQ 43.3125 58.59375 39.234375 62.25 \r\nQ 35.15625 65.921875 28.609375 65.921875 \r\nQ 23.96875 65.921875 18.8125 64.3125 \r\nQ 13.671875 62.703125 7.8125 59.421875 \r\nL 7.8125 69.390625 \r\nQ 13.765625 71.78125 18.9375 73 \r\nQ 24.125 74.21875 28.421875 74.21875 \r\nQ 39.75 74.21875 46.484375 68.546875 \r\nQ 53.21875 62.890625 53.21875 53.421875 \r\nQ 53.21875 48.921875 51.53125 44.890625 \r\nQ 49.859375 40.875 45.40625 35.40625 \r\nQ 44.1875 33.984375 37.640625 27.21875 \r\nQ 31.109375 20.453125 19.1875 8.296875 \r\nz\r\n\" id=\"DejaVuSans-50\"/>\r\n       </defs>\r\n       <use xlink:href=\"#DejaVuSans-8722\"/>\r\n       <use x=\"83.789062\" xlink:href=\"#DejaVuSans-50\"/>\r\n      </g>\r\n     </g>\r\n    </g>\r\n    <g id=\"xtick_3\">\r\n     <g id=\"line2d_5\">\r\n      <path clip-path=\"url(#p79f56269be)\" d=\"M 196.342188 224.64 \r\nL 196.342188 7.2 \r\n\" style=\"fill:none;stroke:#b0b0b0;stroke-linecap:square;stroke-width:0.8;\"/>\r\n     </g>\r\n     <g id=\"line2d_6\">\r\n      <g>\r\n       <use style=\"stroke:#000000;stroke-width:0.8;\" x=\"196.342188\" xlink:href=\"#m5f8d75d1f9\" y=\"224.64\"/>\r\n      </g>\r\n     </g>\r\n     <g id=\"text_3\">\r\n      <!-- 0 -->\r\n      <g transform=\"translate(193.160938 239.238437)scale(0.1 -0.1)\">\r\n       <defs>\r\n        <path d=\"M 31.78125 66.40625 \r\nQ 24.171875 66.40625 20.328125 58.90625 \r\nQ 16.5 51.421875 16.5 36.375 \r\nQ 16.5 21.390625 20.328125 13.890625 \r\nQ 24.171875 6.390625 31.78125 6.390625 \r\nQ 39.453125 6.390625 43.28125 13.890625 \r\nQ 47.125 21.390625 47.125 36.375 \r\nQ 47.125 51.421875 43.28125 58.90625 \r\nQ 39.453125 66.40625 31.78125 66.40625 \r\nz\r\nM 31.78125 74.21875 \r\nQ 44.046875 74.21875 50.515625 64.515625 \r\nQ 56.984375 54.828125 56.984375 36.375 \r\nQ 56.984375 17.96875 50.515625 8.265625 \r\nQ 44.046875 -1.421875 31.78125 -1.421875 \r\nQ 19.53125 -1.421875 13.0625 8.265625 \r\nQ 6.59375 17.96875 6.59375 36.375 \r\nQ 6.59375 54.828125 13.0625 64.515625 \r\nQ 19.53125 74.21875 31.78125 74.21875 \r\nz\r\n\" id=\"DejaVuSans-48\"/>\r\n       </defs>\r\n       <use xlink:href=\"#DejaVuSans-48\"/>\r\n      </g>\r\n     </g>\r\n    </g>\r\n    <g id=\"xtick_4\">\r\n     <g id=\"line2d_7\">\r\n      <path clip-path=\"url(#p79f56269be)\" d=\"M 257.214915 224.64 \r\nL 257.214915 7.2 \r\n\" style=\"fill:none;stroke:#b0b0b0;stroke-linecap:square;stroke-width:0.8;\"/>\r\n     </g>\r\n     <g id=\"line2d_8\">\r\n      <g>\r\n       <use style=\"stroke:#000000;stroke-width:0.8;\" x=\"257.214915\" xlink:href=\"#m5f8d75d1f9\" y=\"224.64\"/>\r\n      </g>\r\n     </g>\r\n     <g id=\"text_4\">\r\n      <!-- 2 -->\r\n      <g transform=\"translate(254.033665 239.238437)scale(0.1 -0.1)\">\r\n       <use xlink:href=\"#DejaVuSans-50\"/>\r\n      </g>\r\n     </g>\r\n    </g>\r\n    <g id=\"xtick_5\">\r\n     <g id=\"line2d_9\">\r\n      <path clip-path=\"url(#p79f56269be)\" d=\"M 318.087642 224.64 \r\nL 318.087642 7.2 \r\n\" style=\"fill:none;stroke:#b0b0b0;stroke-linecap:square;stroke-width:0.8;\"/>\r\n     </g>\r\n     <g id=\"line2d_10\">\r\n      <g>\r\n       <use style=\"stroke:#000000;stroke-width:0.8;\" x=\"318.087642\" xlink:href=\"#m5f8d75d1f9\" y=\"224.64\"/>\r\n      </g>\r\n     </g>\r\n     <g id=\"text_5\">\r\n      <!-- 4 -->\r\n      <g transform=\"translate(314.906392 239.238437)scale(0.1 -0.1)\">\r\n       <use xlink:href=\"#DejaVuSans-52\"/>\r\n      </g>\r\n     </g>\r\n    </g>\r\n   </g>\r\n   <g id=\"matplotlib.axis_2\">\r\n    <g id=\"ytick_1\">\r\n     <g id=\"line2d_11\">\r\n      <path clip-path=\"url(#p79f56269be)\" d=\"M 28.942188 224.169351 \r\nL 363.742188 224.169351 \r\n\" style=\"fill:none;stroke:#b0b0b0;stroke-linecap:square;stroke-width:0.8;\"/>\r\n     </g>\r\n     <g id=\"line2d_12\">\r\n      <defs>\r\n       <path d=\"M 0 0 \r\nL -3.5 0 \r\n\" id=\"mc3578d9aad\" style=\"stroke:#000000;stroke-width:0.8;\"/>\r\n      </defs>\r\n      <g>\r\n       <use style=\"stroke:#000000;stroke-width:0.8;\" x=\"28.942188\" xlink:href=\"#mc3578d9aad\" y=\"224.169351\"/>\r\n      </g>\r\n     </g>\r\n     <g id=\"text_6\">\r\n      <!-- −8 -->\r\n      <g transform=\"translate(7.2 227.968569)scale(0.1 -0.1)\">\r\n       <defs>\r\n        <path d=\"M 31.78125 34.625 \r\nQ 24.75 34.625 20.71875 30.859375 \r\nQ 16.703125 27.09375 16.703125 20.515625 \r\nQ 16.703125 13.921875 20.71875 10.15625 \r\nQ 24.75 6.390625 31.78125 6.390625 \r\nQ 38.8125 6.390625 42.859375 10.171875 \r\nQ 46.921875 13.96875 46.921875 20.515625 \r\nQ 46.921875 27.09375 42.890625 30.859375 \r\nQ 38.875 34.625 31.78125 34.625 \r\nz\r\nM 21.921875 38.8125 \r\nQ 15.578125 40.375 12.03125 44.71875 \r\nQ 8.5 49.078125 8.5 55.328125 \r\nQ 8.5 64.0625 14.71875 69.140625 \r\nQ 20.953125 74.21875 31.78125 74.21875 \r\nQ 42.671875 74.21875 48.875 69.140625 \r\nQ 55.078125 64.0625 55.078125 55.328125 \r\nQ 55.078125 49.078125 51.53125 44.71875 \r\nQ 48 40.375 41.703125 38.8125 \r\nQ 48.828125 37.15625 52.796875 32.3125 \r\nQ 56.78125 27.484375 56.78125 20.515625 \r\nQ 56.78125 9.90625 50.3125 4.234375 \r\nQ 43.84375 -1.421875 31.78125 -1.421875 \r\nQ 19.734375 -1.421875 13.25 4.234375 \r\nQ 6.78125 9.90625 6.78125 20.515625 \r\nQ 6.78125 27.484375 10.78125 32.3125 \r\nQ 14.796875 37.15625 21.921875 38.8125 \r\nz\r\nM 18.3125 54.390625 \r\nQ 18.3125 48.734375 21.84375 45.5625 \r\nQ 25.390625 42.390625 31.78125 42.390625 \r\nQ 38.140625 42.390625 41.71875 45.5625 \r\nQ 45.3125 48.734375 45.3125 54.390625 \r\nQ 45.3125 60.0625 41.71875 63.234375 \r\nQ 38.140625 66.40625 31.78125 66.40625 \r\nQ 25.390625 66.40625 21.84375 63.234375 \r\nQ 18.3125 60.0625 18.3125 54.390625 \r\nz\r\n\" id=\"DejaVuSans-56\"/>\r\n       </defs>\r\n       <use xlink:href=\"#DejaVuSans-8722\"/>\r\n       <use x=\"83.789062\" xlink:href=\"#DejaVuSans-56\"/>\r\n      </g>\r\n     </g>\r\n    </g>\r\n    <g id=\"ytick_2\">\r\n     <g id=\"line2d_13\">\r\n      <path clip-path=\"url(#p79f56269be)\" d=\"M 28.942188 186.517403 \r\nL 363.742188 186.517403 \r\n\" style=\"fill:none;stroke:#b0b0b0;stroke-linecap:square;stroke-width:0.8;\"/>\r\n     </g>\r\n     <g id=\"line2d_14\">\r\n      <g>\r\n       <use style=\"stroke:#000000;stroke-width:0.8;\" x=\"28.942188\" xlink:href=\"#mc3578d9aad\" y=\"186.517403\"/>\r\n      </g>\r\n     </g>\r\n     <g id=\"text_7\">\r\n      <!-- −6 -->\r\n      <g transform=\"translate(7.2 190.316621)scale(0.1 -0.1)\">\r\n       <defs>\r\n        <path d=\"M 33.015625 40.375 \r\nQ 26.375 40.375 22.484375 35.828125 \r\nQ 18.609375 31.296875 18.609375 23.390625 \r\nQ 18.609375 15.53125 22.484375 10.953125 \r\nQ 26.375 6.390625 33.015625 6.390625 \r\nQ 39.65625 6.390625 43.53125 10.953125 \r\nQ 47.40625 15.53125 47.40625 23.390625 \r\nQ 47.40625 31.296875 43.53125 35.828125 \r\nQ 39.65625 40.375 33.015625 40.375 \r\nz\r\nM 52.59375 71.296875 \r\nL 52.59375 62.3125 \r\nQ 48.875 64.0625 45.09375 64.984375 \r\nQ 41.3125 65.921875 37.59375 65.921875 \r\nQ 27.828125 65.921875 22.671875 59.328125 \r\nQ 17.53125 52.734375 16.796875 39.40625 \r\nQ 19.671875 43.65625 24.015625 45.921875 \r\nQ 28.375 48.1875 33.59375 48.1875 \r\nQ 44.578125 48.1875 50.953125 41.515625 \r\nQ 57.328125 34.859375 57.328125 23.390625 \r\nQ 57.328125 12.15625 50.6875 5.359375 \r\nQ 44.046875 -1.421875 33.015625 -1.421875 \r\nQ 20.359375 -1.421875 13.671875 8.265625 \r\nQ 6.984375 17.96875 6.984375 36.375 \r\nQ 6.984375 53.65625 15.1875 63.9375 \r\nQ 23.390625 74.21875 37.203125 74.21875 \r\nQ 40.921875 74.21875 44.703125 73.484375 \r\nQ 48.484375 72.75 52.59375 71.296875 \r\nz\r\n\" id=\"DejaVuSans-54\"/>\r\n       </defs>\r\n       <use xlink:href=\"#DejaVuSans-8722\"/>\r\n       <use x=\"83.789062\" xlink:href=\"#DejaVuSans-54\"/>\r\n      </g>\r\n     </g>\r\n    </g>\r\n    <g id=\"ytick_3\">\r\n     <g id=\"line2d_15\">\r\n      <path clip-path=\"url(#p79f56269be)\" d=\"M 28.942188 148.865455 \r\nL 363.742188 148.865455 \r\n\" style=\"fill:none;stroke:#b0b0b0;stroke-linecap:square;stroke-width:0.8;\"/>\r\n     </g>\r\n     <g id=\"line2d_16\">\r\n      <g>\r\n       <use style=\"stroke:#000000;stroke-width:0.8;\" x=\"28.942188\" xlink:href=\"#mc3578d9aad\" y=\"148.865455\"/>\r\n      </g>\r\n     </g>\r\n     <g id=\"text_8\">\r\n      <!-- −4 -->\r\n      <g transform=\"translate(7.2 152.664673)scale(0.1 -0.1)\">\r\n       <use xlink:href=\"#DejaVuSans-8722\"/>\r\n       <use x=\"83.789062\" xlink:href=\"#DejaVuSans-52\"/>\r\n      </g>\r\n     </g>\r\n    </g>\r\n    <g id=\"ytick_4\">\r\n     <g id=\"line2d_17\">\r\n      <path clip-path=\"url(#p79f56269be)\" d=\"M 28.942188 111.213506 \r\nL 363.742188 111.213506 \r\n\" style=\"fill:none;stroke:#b0b0b0;stroke-linecap:square;stroke-width:0.8;\"/>\r\n     </g>\r\n     <g id=\"line2d_18\">\r\n      <g>\r\n       <use style=\"stroke:#000000;stroke-width:0.8;\" x=\"28.942188\" xlink:href=\"#mc3578d9aad\" y=\"111.213506\"/>\r\n      </g>\r\n     </g>\r\n     <g id=\"text_9\">\r\n      <!-- −2 -->\r\n      <g transform=\"translate(7.2 115.012725)scale(0.1 -0.1)\">\r\n       <use xlink:href=\"#DejaVuSans-8722\"/>\r\n       <use x=\"83.789062\" xlink:href=\"#DejaVuSans-50\"/>\r\n      </g>\r\n     </g>\r\n    </g>\r\n    <g id=\"ytick_5\">\r\n     <g id=\"line2d_19\">\r\n      <path clip-path=\"url(#p79f56269be)\" d=\"M 28.942188 73.561558 \r\nL 363.742188 73.561558 \r\n\" style=\"fill:none;stroke:#b0b0b0;stroke-linecap:square;stroke-width:0.8;\"/>\r\n     </g>\r\n     <g id=\"line2d_20\">\r\n      <g>\r\n       <use style=\"stroke:#000000;stroke-width:0.8;\" x=\"28.942188\" xlink:href=\"#mc3578d9aad\" y=\"73.561558\"/>\r\n      </g>\r\n     </g>\r\n     <g id=\"text_10\">\r\n      <!-- 0 -->\r\n      <g transform=\"translate(15.579688 77.360777)scale(0.1 -0.1)\">\r\n       <use xlink:href=\"#DejaVuSans-48\"/>\r\n      </g>\r\n     </g>\r\n    </g>\r\n    <g id=\"ytick_6\">\r\n     <g id=\"line2d_21\">\r\n      <path clip-path=\"url(#p79f56269be)\" d=\"M 28.942188 35.90961 \r\nL 363.742188 35.90961 \r\n\" style=\"fill:none;stroke:#b0b0b0;stroke-linecap:square;stroke-width:0.8;\"/>\r\n     </g>\r\n     <g id=\"line2d_22\">\r\n      <g>\r\n       <use style=\"stroke:#000000;stroke-width:0.8;\" x=\"28.942188\" xlink:href=\"#mc3578d9aad\" y=\"35.90961\"/>\r\n      </g>\r\n     </g>\r\n     <g id=\"text_11\">\r\n      <!-- 2 -->\r\n      <g transform=\"translate(15.579688 39.708829)scale(0.1 -0.1)\">\r\n       <use xlink:href=\"#DejaVuSans-50\"/>\r\n      </g>\r\n     </g>\r\n    </g>\r\n   </g>\r\n   <g id=\"line2d_23\">\r\n    <path clip-path=\"url(#p79f56269be)\" d=\"M 44.160369 148.865455 \r\nL 47.234749 147.914648 \r\nL 50.30913 146.963841 \r\nL 53.38351 146.013034 \r\nL 56.45789 145.062227 \r\nL 59.53227 144.111421 \r\nL 62.60665 143.160614 \r\nL 65.68103 142.209807 \r\nL 68.755411 141.259 \r\nL 71.829791 140.308194 \r\nL 74.904171 139.357387 \r\nL 77.978551 138.40658 \r\nL 81.052931 137.455773 \r\nL 84.127311 136.504967 \r\nL 87.201692 135.55416 \r\nL 90.276072 134.603353 \r\nL 93.350452 133.652546 \r\nL 96.424832 132.701739 \r\nL 99.499212 131.750933 \r\nL 102.573592 130.800126 \r\nL 105.647973 129.849319 \r\nL 108.722353 128.898512 \r\nL 111.796733 127.947706 \r\nL 114.871113 126.996899 \r\nL 117.945493 126.046092 \r\nL 121.019873 125.095285 \r\nL 124.094254 124.144479 \r\nL 127.168634 123.193672 \r\nL 130.243014 122.242865 \r\nL 133.317394 121.292058 \r\nL 136.391774 120.341251 \r\nL 139.466154 119.390445 \r\nL 142.540535 118.439638 \r\nL 145.614915 117.488831 \r\nL 148.689295 116.538024 \r\nL 151.763675 115.587218 \r\nL 154.838055 114.636411 \r\nL 157.912435 113.685604 \r\nL 160.986816 112.734797 \r\nL 164.061196 111.783991 \r\nL 167.135576 110.833184 \r\nL 170.209956 109.882377 \r\nL 173.284336 108.93157 \r\nL 176.358716 107.980763 \r\nL 179.433097 107.029957 \r\nL 182.507477 106.07915 \r\nL 185.581857 105.128343 \r\nL 188.656237 104.177536 \r\nL 191.730617 103.22673 \r\nL 194.804997 102.275923 \r\nL 197.879378 101.325116 \r\nL 200.953758 100.374309 \r\nL 204.028138 99.423503 \r\nL 207.102518 98.472696 \r\nL 210.176898 97.521889 \r\nL 213.251278 96.571082 \r\nL 216.325659 95.620275 \r\nL 219.400039 94.669469 \r\nL 222.474419 93.718662 \r\nL 225.548799 92.767855 \r\nL 228.623179 91.817048 \r\nL 231.697559 90.866242 \r\nL 234.77194 89.915435 \r\nL 237.84632 88.964628 \r\nL 240.9207 88.013821 \r\nL 243.99508 87.063015 \r\nL 247.06946 86.112208 \r\nL 250.14384 85.161401 \r\nL 253.218221 84.210594 \r\nL 256.292601 83.259787 \r\nL 259.366981 82.308981 \r\nL 262.441361 81.358174 \r\nL 265.515741 80.407367 \r\nL 268.590121 79.45656 \r\nL 271.664502 78.505754 \r\nL 274.738882 77.554947 \r\nL 277.813262 76.60414 \r\nL 280.887642 75.653333 \r\nL 283.962022 74.702527 \r\nL 287.036402 73.75172 \r\nL 290.110783 72.800913 \r\nL 293.185163 71.850106 \r\nL 296.259543 70.899299 \r\nL 299.333923 69.948493 \r\nL 302.408303 68.997686 \r\nL 305.482683 68.046879 \r\nL 308.557064 67.096072 \r\nL 311.631444 66.145266 \r\nL 314.705824 65.194459 \r\nL 317.780204 64.243652 \r\nL 320.854584 63.292845 \r\nL 323.928964 62.342039 \r\nL 327.003345 61.391232 \r\nL 330.077725 60.440425 \r\nL 333.152105 59.489618 \r\nL 336.226485 58.538811 \r\nL 339.300865 57.588005 \r\nL 342.375245 56.637198 \r\nL 345.449626 55.686391 \r\nL 348.524006 54.735584 \r\n\" style=\"fill:none;stroke:#ff0000;stroke-linecap:square;stroke-width:1.5;\"/>\r\n   </g>\r\n   <g id=\"line2d_24\">\r\n    <path clip-path=\"url(#p79f56269be)\" d=\"M 44.160369 214.756364 \r\nL 47.234749 213.805557 \r\nL 50.30913 212.85475 \r\nL 53.38351 211.903943 \r\nL 56.45789 210.953137 \r\nL 59.53227 210.00233 \r\nL 62.60665 209.051523 \r\nL 65.68103 208.100716 \r\nL 68.755411 207.149909 \r\nL 71.829791 206.199103 \r\nL 74.904171 205.248296 \r\nL 77.978551 204.297489 \r\nL 81.052931 203.346682 \r\nL 84.127311 202.395876 \r\nL 87.201692 201.445069 \r\nL 90.276072 200.494262 \r\nL 93.350452 199.543455 \r\nL 96.424832 198.592649 \r\nL 99.499212 197.641842 \r\nL 102.573592 196.691035 \r\nL 105.647973 195.740228 \r\nL 108.722353 194.789421 \r\nL 111.796733 193.838615 \r\nL 114.871113 192.887808 \r\nL 117.945493 191.937001 \r\nL 121.019873 190.986194 \r\nL 124.094254 190.035388 \r\nL 127.168634 189.084581 \r\nL 130.243014 188.133774 \r\nL 133.317394 187.182967 \r\nL 136.391774 186.232161 \r\nL 139.466154 185.281354 \r\nL 142.540535 184.330547 \r\nL 145.614915 183.37974 \r\nL 148.689295 182.428933 \r\nL 151.763675 181.478127 \r\nL 154.838055 180.52732 \r\nL 157.912435 179.576513 \r\nL 160.986816 178.625706 \r\nL 164.061196 177.6749 \r\nL 167.135576 176.724093 \r\nL 170.209956 175.773286 \r\nL 173.284336 174.822479 \r\nL 176.358716 173.871673 \r\nL 179.433097 172.920866 \r\nL 182.507477 171.970059 \r\nL 185.581857 171.019252 \r\nL 188.656237 170.068445 \r\nL 191.730617 169.117639 \r\nL 194.804997 168.166832 \r\nL 197.879378 167.216025 \r\nL 200.953758 166.265218 \r\nL 204.028138 165.314412 \r\nL 207.102518 164.363605 \r\nL 210.176898 163.412798 \r\nL 213.251278 162.461991 \r\nL 216.325659 161.511185 \r\nL 219.400039 160.560378 \r\nL 222.474419 159.609571 \r\nL 225.548799 158.658764 \r\nL 228.623179 157.707957 \r\nL 231.697559 156.757151 \r\nL 234.77194 155.806344 \r\nL 237.84632 154.855537 \r\nL 240.9207 153.90473 \r\nL 243.99508 152.953924 \r\nL 247.06946 152.003117 \r\nL 250.14384 151.05231 \r\nL 253.218221 150.101503 \r\nL 256.292601 149.150697 \r\nL 259.366981 148.19989 \r\nL 262.441361 147.249083 \r\nL 265.515741 146.298276 \r\nL 268.590121 145.34747 \r\nL 271.664502 144.396663 \r\nL 274.738882 143.445856 \r\nL 277.813262 142.495049 \r\nL 280.887642 141.544242 \r\nL 283.962022 140.593436 \r\nL 287.036402 139.642629 \r\nL 290.110783 138.691822 \r\nL 293.185163 137.741015 \r\nL 296.259543 136.790209 \r\nL 299.333923 135.839402 \r\nL 302.408303 134.888595 \r\nL 305.482683 133.937788 \r\nL 308.557064 132.986982 \r\nL 311.631444 132.036175 \r\nL 314.705824 131.085368 \r\nL 317.780204 130.134561 \r\nL 320.854584 129.183754 \r\nL 323.928964 128.232948 \r\nL 327.003345 127.282141 \r\nL 330.077725 126.331334 \r\nL 333.152105 125.380527 \r\nL 336.226485 124.429721 \r\nL 339.300865 123.478914 \r\nL 342.375245 122.528107 \r\nL 345.449626 121.5773 \r\nL 348.524006 120.626494 \r\n\" style=\"fill:none;stroke:#0000ff;stroke-linecap:square;stroke-width:1.5;\"/>\r\n   </g>\r\n   <g id=\"line2d_25\">\r\n    <path clip-path=\"url(#p79f56269be)\" d=\"M 44.160369 17.083636 \r\nL 47.234749 18.351379 \r\nL 50.30913 19.619121 \r\nL 53.38351 20.886863 \r\nL 56.45789 22.154606 \r\nL 59.53227 23.422348 \r\nL 62.60665 24.690091 \r\nL 65.68103 25.957833 \r\nL 68.755411 27.225575 \r\nL 71.829791 28.493318 \r\nL 74.904171 29.76106 \r\nL 77.978551 31.028802 \r\nL 81.052931 32.296545 \r\nL 84.127311 33.564287 \r\nL 87.201692 34.832029 \r\nL 90.276072 36.099772 \r\nL 93.350452 37.367514 \r\nL 96.424832 38.635256 \r\nL 99.499212 39.902999 \r\nL 102.573592 41.170741 \r\nL 105.647973 42.438484 \r\nL 108.722353 43.706226 \r\nL 111.796733 44.973968 \r\nL 114.871113 46.241711 \r\nL 117.945493 47.509453 \r\nL 121.019873 48.777195 \r\nL 124.094254 50.044938 \r\nL 127.168634 51.31268 \r\nL 130.243014 52.580422 \r\nL 133.317394 53.848165 \r\nL 136.391774 55.115907 \r\nL 139.466154 56.383649 \r\nL 142.540535 57.651392 \r\nL 145.614915 58.919134 \r\nL 148.689295 60.186877 \r\nL 151.763675 61.454619 \r\nL 154.838055 62.722361 \r\nL 157.912435 63.990104 \r\nL 160.986816 65.257846 \r\nL 164.061196 66.525588 \r\nL 167.135576 67.793331 \r\nL 170.209956 69.061073 \r\nL 173.284336 70.328815 \r\nL 176.358716 71.596558 \r\nL 179.433097 72.8643 \r\nL 182.507477 74.132043 \r\nL 185.581857 75.399785 \r\nL 188.656237 76.667527 \r\nL 191.730617 77.93527 \r\nL 194.804997 79.203012 \r\nL 197.879378 80.470754 \r\nL 200.953758 81.738497 \r\nL 204.028138 83.006239 \r\nL 207.102518 84.273981 \r\nL 210.176898 85.541724 \r\nL 213.251278 86.809466 \r\nL 216.325659 88.077208 \r\nL 219.400039 89.344951 \r\nL 222.474419 90.612693 \r\nL 225.548799 91.880436 \r\nL 228.623179 93.148178 \r\nL 231.697559 94.41592 \r\nL 234.77194 95.683663 \r\nL 237.84632 96.951405 \r\nL 240.9207 98.219147 \r\nL 243.99508 99.48689 \r\nL 247.06946 100.754632 \r\nL 250.14384 102.022374 \r\nL 253.218221 103.290117 \r\nL 256.292601 104.557859 \r\nL 259.366981 105.825601 \r\nL 262.441361 107.093344 \r\nL 265.515741 108.361086 \r\nL 268.590121 109.628829 \r\nL 271.664502 110.896571 \r\nL 274.738882 112.164313 \r\nL 277.813262 113.432056 \r\nL 280.887642 114.699798 \r\nL 283.962022 115.96754 \r\nL 287.036402 117.235283 \r\nL 290.110783 118.503025 \r\nL 293.185163 119.770767 \r\nL 296.259543 121.03851 \r\nL 299.333923 122.306252 \r\nL 302.408303 123.573994 \r\nL 305.482683 124.841737 \r\nL 308.557064 126.109479 \r\nL 311.631444 127.377222 \r\nL 314.705824 128.644964 \r\nL 317.780204 129.912706 \r\nL 320.854584 131.180449 \r\nL 323.928964 132.448191 \r\nL 327.003345 133.715933 \r\nL 330.077725 134.983676 \r\nL 333.152105 136.251418 \r\nL 336.226485 137.51916 \r\nL 339.300865 138.786903 \r\nL 342.375245 140.054645 \r\nL 345.449626 141.322388 \r\nL 348.524006 142.59013 \r\n\" style=\"fill:none;stroke:#008000;stroke-linecap:square;stroke-width:1.5;\"/>\r\n   </g>\r\n   <g id=\"line2d_26\">\r\n    <path clip-path=\"url(#p79f56269be)\" d=\"M 44.160369 61.010909 \r\nL 47.234749 62.278651 \r\nL 50.30913 63.546394 \r\nL 53.38351 64.814136 \r\nL 56.45789 66.081879 \r\nL 59.53227 67.349621 \r\nL 62.60665 68.617363 \r\nL 65.68103 69.885106 \r\nL 68.755411 71.152848 \r\nL 71.829791 72.42059 \r\nL 74.904171 73.688333 \r\nL 77.978551 74.956075 \r\nL 81.052931 76.223817 \r\nL 84.127311 77.49156 \r\nL 87.201692 78.759302 \r\nL 90.276072 80.027044 \r\nL 93.350452 81.294787 \r\nL 96.424832 82.562529 \r\nL 99.499212 83.830272 \r\nL 102.573592 85.098014 \r\nL 105.647973 86.365756 \r\nL 108.722353 87.633499 \r\nL 111.796733 88.901241 \r\nL 114.871113 90.168983 \r\nL 117.945493 91.436726 \r\nL 121.019873 92.704468 \r\nL 124.094254 93.97221 \r\nL 127.168634 95.239953 \r\nL 130.243014 96.507695 \r\nL 133.317394 97.775437 \r\nL 136.391774 99.04318 \r\nL 139.466154 100.310922 \r\nL 142.540535 101.578665 \r\nL 145.614915 102.846407 \r\nL 148.689295 104.114149 \r\nL 151.763675 105.381892 \r\nL 154.838055 106.649634 \r\nL 157.912435 107.917376 \r\nL 160.986816 109.185119 \r\nL 164.061196 110.452861 \r\nL 167.135576 111.720603 \r\nL 170.209956 112.988346 \r\nL 173.284336 114.256088 \r\nL 176.358716 115.523831 \r\nL 179.433097 116.791573 \r\nL 182.507477 118.059315 \r\nL 185.581857 119.327058 \r\nL 188.656237 120.5948 \r\nL 191.730617 121.862542 \r\nL 194.804997 123.130285 \r\nL 197.879378 124.398027 \r\nL 200.953758 125.665769 \r\nL 204.028138 126.933512 \r\nL 207.102518 128.201254 \r\nL 210.176898 129.468996 \r\nL 213.251278 130.736739 \r\nL 216.325659 132.004481 \r\nL 219.400039 133.272224 \r\nL 222.474419 134.539966 \r\nL 225.548799 135.807708 \r\nL 228.623179 137.075451 \r\nL 231.697559 138.343193 \r\nL 234.77194 139.610935 \r\nL 237.84632 140.878678 \r\nL 240.9207 142.14642 \r\nL 243.99508 143.414162 \r\nL 247.06946 144.681905 \r\nL 250.14384 145.949647 \r\nL 253.218221 147.217389 \r\nL 256.292601 148.485132 \r\nL 259.366981 149.752874 \r\nL 262.441361 151.020617 \r\nL 265.515741 152.288359 \r\nL 268.590121 153.556101 \r\nL 271.664502 154.823844 \r\nL 274.738882 156.091586 \r\nL 277.813262 157.359328 \r\nL 280.887642 158.627071 \r\nL 283.962022 159.894813 \r\nL 287.036402 161.162555 \r\nL 290.110783 162.430298 \r\nL 293.185163 163.69804 \r\nL 296.259543 164.965783 \r\nL 299.333923 166.233525 \r\nL 302.408303 167.501267 \r\nL 305.482683 168.76901 \r\nL 308.557064 170.036752 \r\nL 311.631444 171.304494 \r\nL 314.705824 172.572237 \r\nL 317.780204 173.839979 \r\nL 320.854584 175.107721 \r\nL 323.928964 176.375464 \r\nL 327.003345 177.643206 \r\nL 330.077725 178.910948 \r\nL 333.152105 180.178691 \r\nL 336.226485 181.446433 \r\nL 339.300865 182.714176 \r\nL 342.375245 183.981918 \r\nL 345.449626 185.24966 \r\nL 348.524006 186.517403 \r\n\" style=\"fill:none;stroke:#bf00bf;stroke-linecap:square;stroke-width:1.5;\"/>\r\n   </g>\r\n   <g id=\"patch_3\">\r\n    <path d=\"M 28.942188 224.64 \r\nL 28.942188 7.2 \r\n\" style=\"fill:none;stroke:#000000;stroke-linecap:square;stroke-linejoin:miter;stroke-width:0.8;\"/>\r\n   </g>\r\n   <g id=\"patch_4\">\r\n    <path d=\"M 363.742188 224.64 \r\nL 363.742188 7.2 \r\n\" style=\"fill:none;stroke:#000000;stroke-linecap:square;stroke-linejoin:miter;stroke-width:0.8;\"/>\r\n   </g>\r\n   <g id=\"patch_5\">\r\n    <path d=\"M 28.942188 224.64 \r\nL 363.742188 224.64 \r\n\" style=\"fill:none;stroke:#000000;stroke-linecap:square;stroke-linejoin:miter;stroke-width:0.8;\"/>\r\n   </g>\r\n   <g id=\"patch_6\">\r\n    <path d=\"M 28.942188 7.2 \r\nL 363.742188 7.2 \r\n\" style=\"fill:none;stroke:#000000;stroke-linecap:square;stroke-linejoin:miter;stroke-width:0.8;\"/>\r\n   </g>\r\n   <g id=\"legend_1\">\r\n    <g id=\"patch_7\">\r\n     <path d=\"M 35.942188 73.9125 \r\nL 119.234375 73.9125 \r\nQ 121.234375 73.9125 121.234375 71.9125 \r\nL 121.234375 14.2 \r\nQ 121.234375 12.2 119.234375 12.2 \r\nL 35.942188 12.2 \r\nQ 33.942188 12.2 33.942188 14.2 \r\nL 33.942188 71.9125 \r\nQ 33.942188 73.9125 35.942188 73.9125 \r\nz\r\n\" style=\"fill:#ffffff;opacity:0.8;stroke:#cccccc;stroke-linejoin:miter;\"/>\r\n    </g>\r\n    <g id=\"line2d_27\">\r\n     <path d=\"M 37.942188 20.298437 \r\nL 57.942188 20.298437 \r\n\" style=\"fill:none;stroke:#ff0000;stroke-linecap:square;stroke-width:1.5;\"/>\r\n    </g>\r\n    <g id=\"line2d_28\"/>\r\n    <g id=\"text_12\">\r\n     <!-- x-2y=3 -->\r\n     <g transform=\"translate(65.942188 23.798437)scale(0.1 -0.1)\">\r\n      <defs>\r\n       <path d=\"M 54.890625 54.6875 \r\nL 35.109375 28.078125 \r\nL 55.90625 0 \r\nL 45.3125 0 \r\nL 29.390625 21.484375 \r\nL 13.484375 0 \r\nL 2.875 0 \r\nL 24.125 28.609375 \r\nL 4.6875 54.6875 \r\nL 15.28125 54.6875 \r\nL 29.78125 35.203125 \r\nL 44.28125 54.6875 \r\nz\r\n\" id=\"DejaVuSans-120\"/>\r\n       <path d=\"M 4.890625 31.390625 \r\nL 31.203125 31.390625 \r\nL 31.203125 23.390625 \r\nL 4.890625 23.390625 \r\nz\r\n\" id=\"DejaVuSans-45\"/>\r\n       <path d=\"M 32.171875 -5.078125 \r\nQ 28.375 -14.84375 24.75 -17.8125 \r\nQ 21.140625 -20.796875 15.09375 -20.796875 \r\nL 7.90625 -20.796875 \r\nL 7.90625 -13.28125 \r\nL 13.1875 -13.28125 \r\nQ 16.890625 -13.28125 18.9375 -11.515625 \r\nQ 21 -9.765625 23.484375 -3.21875 \r\nL 25.09375 0.875 \r\nL 2.984375 54.6875 \r\nL 12.5 54.6875 \r\nL 29.59375 11.921875 \r\nL 46.6875 54.6875 \r\nL 56.203125 54.6875 \r\nz\r\n\" id=\"DejaVuSans-121\"/>\r\n       <path d=\"M 10.59375 45.40625 \r\nL 73.1875 45.40625 \r\nL 73.1875 37.203125 \r\nL 10.59375 37.203125 \r\nz\r\nM 10.59375 25.484375 \r\nL 73.1875 25.484375 \r\nL 73.1875 17.1875 \r\nL 10.59375 17.1875 \r\nz\r\n\" id=\"DejaVuSans-61\"/>\r\n       <path d=\"M 40.578125 39.3125 \r\nQ 47.65625 37.796875 51.625 33 \r\nQ 55.609375 28.21875 55.609375 21.1875 \r\nQ 55.609375 10.40625 48.1875 4.484375 \r\nQ 40.765625 -1.421875 27.09375 -1.421875 \r\nQ 22.515625 -1.421875 17.65625 -0.515625 \r\nQ 12.796875 0.390625 7.625 2.203125 \r\nL 7.625 11.71875 \r\nQ 11.71875 9.328125 16.59375 8.109375 \r\nQ 21.484375 6.890625 26.8125 6.890625 \r\nQ 36.078125 6.890625 40.9375 10.546875 \r\nQ 45.796875 14.203125 45.796875 21.1875 \r\nQ 45.796875 27.640625 41.28125 31.265625 \r\nQ 36.765625 34.90625 28.71875 34.90625 \r\nL 20.21875 34.90625 \r\nL 20.21875 43.015625 \r\nL 29.109375 43.015625 \r\nQ 36.375 43.015625 40.234375 45.921875 \r\nQ 44.09375 48.828125 44.09375 54.296875 \r\nQ 44.09375 59.90625 40.109375 62.90625 \r\nQ 36.140625 65.921875 28.71875 65.921875 \r\nQ 24.65625 65.921875 20.015625 65.03125 \r\nQ 15.375 64.15625 9.8125 62.3125 \r\nL 9.8125 71.09375 \r\nQ 15.4375 72.65625 20.34375 73.4375 \r\nQ 25.25 74.21875 29.59375 74.21875 \r\nQ 40.828125 74.21875 47.359375 69.109375 \r\nQ 53.90625 64.015625 53.90625 55.328125 \r\nQ 53.90625 49.265625 50.4375 45.09375 \r\nQ 46.96875 40.921875 40.578125 39.3125 \r\nz\r\n\" id=\"DejaVuSans-51\"/>\r\n      </defs>\r\n      <use xlink:href=\"#DejaVuSans-120\"/>\r\n      <use x=\"59.179688\" xlink:href=\"#DejaVuSans-45\"/>\r\n      <use x=\"95.263672\" xlink:href=\"#DejaVuSans-50\"/>\r\n      <use x=\"158.886719\" xlink:href=\"#DejaVuSans-121\"/>\r\n      <use x=\"218.066406\" xlink:href=\"#DejaVuSans-61\"/>\r\n      <use x=\"301.855469\" xlink:href=\"#DejaVuSans-51\"/>\r\n     </g>\r\n    </g>\r\n    <g id=\"line2d_29\">\r\n     <path d=\"M 37.942188 34.976562 \r\nL 57.942188 34.976562 \r\n\" style=\"fill:none;stroke:#0000ff;stroke-linecap:square;stroke-width:1.5;\"/>\r\n    </g>\r\n    <g id=\"line2d_30\"/>\r\n    <g id=\"text_13\">\r\n     <!-- x-2y=10 -->\r\n     <g transform=\"translate(65.942188 38.476562)scale(0.1 -0.1)\">\r\n      <defs>\r\n       <path d=\"M 12.40625 8.296875 \r\nL 28.515625 8.296875 \r\nL 28.515625 63.921875 \r\nL 10.984375 60.40625 \r\nL 10.984375 69.390625 \r\nL 28.421875 72.90625 \r\nL 38.28125 72.90625 \r\nL 38.28125 8.296875 \r\nL 54.390625 8.296875 \r\nL 54.390625 0 \r\nL 12.40625 0 \r\nz\r\n\" id=\"DejaVuSans-49\"/>\r\n      </defs>\r\n      <use xlink:href=\"#DejaVuSans-120\"/>\r\n      <use x=\"59.179688\" xlink:href=\"#DejaVuSans-45\"/>\r\n      <use x=\"95.263672\" xlink:href=\"#DejaVuSans-50\"/>\r\n      <use x=\"158.886719\" xlink:href=\"#DejaVuSans-121\"/>\r\n      <use x=\"218.066406\" xlink:href=\"#DejaVuSans-61\"/>\r\n      <use x=\"301.855469\" xlink:href=\"#DejaVuSans-49\"/>\r\n      <use x=\"365.478516\" xlink:href=\"#DejaVuSans-48\"/>\r\n     </g>\r\n    </g>\r\n    <g id=\"line2d_31\">\r\n     <path d=\"M 37.942188 49.654687 \r\nL 57.942188 49.654687 \r\n\" style=\"fill:none;stroke:#008000;stroke-linecap:square;stroke-width:1.5;\"/>\r\n    </g>\r\n    <g id=\"line2d_32\"/>\r\n    <g id=\"text_14\">\r\n     <!-- 2x+3y=-1 -->\r\n     <g transform=\"translate(65.942188 53.154687)scale(0.1 -0.1)\">\r\n      <defs>\r\n       <path d=\"M 46 62.703125 \r\nL 46 35.5 \r\nL 73.1875 35.5 \r\nL 73.1875 27.203125 \r\nL 46 27.203125 \r\nL 46 0 \r\nL 37.796875 0 \r\nL 37.796875 27.203125 \r\nL 10.59375 27.203125 \r\nL 10.59375 35.5 \r\nL 37.796875 35.5 \r\nL 37.796875 62.703125 \r\nz\r\n\" id=\"DejaVuSans-43\"/>\r\n      </defs>\r\n      <use xlink:href=\"#DejaVuSans-50\"/>\r\n      <use x=\"63.623047\" xlink:href=\"#DejaVuSans-120\"/>\r\n      <use x=\"122.802734\" xlink:href=\"#DejaVuSans-43\"/>\r\n      <use x=\"206.591797\" xlink:href=\"#DejaVuSans-51\"/>\r\n      <use x=\"270.214844\" xlink:href=\"#DejaVuSans-121\"/>\r\n      <use x=\"329.394531\" xlink:href=\"#DejaVuSans-61\"/>\r\n      <use x=\"413.183594\" xlink:href=\"#DejaVuSans-45\"/>\r\n      <use x=\"449.267578\" xlink:href=\"#DejaVuSans-49\"/>\r\n     </g>\r\n    </g>\r\n    <g id=\"line2d_33\">\r\n     <path d=\"M 37.942188 64.332812 \r\nL 57.942188 64.332812 \r\n\" style=\"fill:none;stroke:#bf00bf;stroke-linecap:square;stroke-width:1.5;\"/>\r\n    </g>\r\n    <g id=\"line2d_34\"/>\r\n    <g id=\"text_15\">\r\n     <!-- 2x+3y=-8 -->\r\n     <g transform=\"translate(65.942188 67.832812)scale(0.1 -0.1)\">\r\n      <use xlink:href=\"#DejaVuSans-50\"/>\r\n      <use x=\"63.623047\" xlink:href=\"#DejaVuSans-120\"/>\r\n      <use x=\"122.802734\" xlink:href=\"#DejaVuSans-43\"/>\r\n      <use x=\"206.591797\" xlink:href=\"#DejaVuSans-51\"/>\r\n      <use x=\"270.214844\" xlink:href=\"#DejaVuSans-121\"/>\r\n      <use x=\"329.394531\" xlink:href=\"#DejaVuSans-61\"/>\r\n      <use x=\"413.183594\" xlink:href=\"#DejaVuSans-45\"/>\r\n      <use x=\"449.267578\" xlink:href=\"#DejaVuSans-56\"/>\r\n     </g>\r\n    </g>\r\n   </g>\r\n  </g>\r\n </g>\r\n <defs>\r\n  <clipPath id=\"p79f56269be\">\r\n   <rect height=\"217.44\" width=\"334.8\" x=\"28.942188\" y=\"7.2\"/>\r\n  </clipPath>\r\n </defs>\r\n</svg>\r\n",
      "image/png": "[encoded data removed]"
     },
     "metadata": {
      "needs_background": "light"
     }
    }
   ],
   "metadata": {}
  },
  {
   "cell_type": "markdown",
   "source": [
    "Ahora podemos decir que el paralelogramo contenido por las rectas está conformado por dos vectores:\r\n",
    "- $(2,-4) - (4,-3) = \\langle-2,-1\\rangle$\r\n",
    "- $(2,-4) - (-1,-2) = \\langle-3,-2\\rangle$\r\n",
    "Construimos una matriz con esos dos vectores y calculamos el determinate:\r\n",
    "$$det(\\begin{bmatrix} -2 & -3 \\\\ -1 & -2\\end{bmatrix})=7$$\r\n",
    "\r\n",
    "Dado a la definición geométrica del determinante sabemos que su valor absoluto representa el área del paralelogramo conformado por estos vectores.\r\n",
    "\r\n",
    "**4.**\r\n",
    "Construimos la matriz de los vectores y calculamos su determinante:\r\n",
    "$$det(\\begin{bmatrix} 2 & -1 & -2 \\\\ 1 & 2 & -3 \\\\ -1 & 3 & 5 \\end{bmatrix})$$\r\n",
    "$$=(2*2*5)+(-1*-3*-1)+(-2*1*3)-(-2*2*-1)-(-3*3*2)-(5*1*-1)$$\r\n",
    "$$=20-3-6-4+18+5$$\r\n",
    "\r\n",
    "El volumen del paralelepipedo es igual a 30."
   ],
   "metadata": {}
  }
 ],
 "metadata": {
  "interpreter": {
   "hash": "8fac594bfae6525c0c41b4041d2d72effa188cc8ead05f81b1fab2bb098927fb"
  },
  "kernelspec": {
   "name": "python3",
   "display_name": "Python 3.8.5 64-bit ('base': conda)"
  },
  "language_info": {
   "codemirror_mode": {
    "name": "ipython",
    "version": 3
   },
   "file_extension": ".py",
   "mimetype": "text/x-python",
   "name": "python",
   "nbconvert_exporter": "python",
   "pygments_lexer": "ipython3",
   "version": "3.8.5"
  }
 },
 "nbformat": 4,
 "nbformat_minor": 4
}