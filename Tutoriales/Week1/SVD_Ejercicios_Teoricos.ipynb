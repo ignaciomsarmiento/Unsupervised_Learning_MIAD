{
    "cells": [
        {
            "cell_type": "markdown",
            "source": [
                "--- \r\n",
                "<center>\r\n",
                "<h3> ESPACIO PARA BANNER DE LA MAESTRIA </h3> \r\n",
                "</center>\r\n",
                "\r\n",
                "---"
            ],
            "metadata": {}
        },
        {
            "cell_type": "markdown",
            "source": [
                "## Ejercicios teóricos\r\n",
                "# Descomposición en Valores Singulares"
            ],
            "metadata": {}
        },
        {
            "cell_type": "markdown",
            "source": [
                "1. Demuestre que la Descomposición en Valores Singulares encuentra la dirección para la cual la matriz original estira más el vector unitario. Parta de la siguiente expresión:\r\n",
                "$$\\argmax_{x:||x||=1} ||Bx||$$\r\n",
                "2. $B$ es una matriz cuadrada de tamaño $m\\times m$ la cual sus filas son ortonormales. Demuestre que las columnas de $B$ también son ortonormales.\r\n",
                "3. Suponga que $C$ es una matriz cuadrada invertible y que la Descomposición en Valores Singulares de $C$ es $C=\\sum_i \\sigma_i u_i v_i^T$. Encuentre la inversa de $C$.\r\n",
                "4. Encuentre la DVS o SVD de la matriz $A$, $U\\Sigma V^T$, en donde $A = \\begin{bmatrix} 3 & 2 & 2 \\\\ 2 & 3 & -2 \\end{bmatrix}$\r\n",
                "5. Demuestre que los vectores singulares izquierdos de una matriz $D$ son los vectores singulares derechos de $D^T$\r\n",
                "\r\n",
                "---"
            ],
            "metadata": {}
        }
    ],
    "metadata": {
        "orig_nbformat": 4,
        "language_info": {
            "name": "python",
            "version": "3.8.5",
            "mimetype": "text/x-python",
            "codemirror_mode": {
                "name": "ipython",
                "version": 3
            },
            "pygments_lexer": "ipython3",
            "nbconvert_exporter": "python",
            "file_extension": ".py"
        },
        "kernelspec": {
            "name": "python3",
            "display_name": "Python 3.8.5 64-bit ('base': conda)"
        },
        "interpreter": {
            "hash": "8fac594bfae6525c0c41b4041d2d72effa188cc8ead05f81b1fab2bb098927fb"
        }
    },
    "nbformat": 4,
    "nbformat_minor": 2
}