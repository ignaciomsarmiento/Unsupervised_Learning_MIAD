{
 "cells": [
  {
   "cell_type": "markdown",
   "source": [
    "# Revisión de Algebra Lineal"
   ],
   "metadata": {}
  },
  {
   "cell_type": "markdown",
   "source": [
    "## Topicos\n",
    "\n",
    "- Generaldades de Matrices\n",
    "- Matrices en Python\n",
    "- Determinantes\n",
    "- Eigenvalues y eigenvectors (Autovalores y Autovectores)\n",
    "- Trazas"
   ],
   "metadata": {}
  },
  {
   "cell_type": "markdown",
   "source": [
    "## Introducción\n",
    "\n",
    "Una de las herramientas matemáticas más utilizadas en [machine learning](http://es.wikipedia.org/wiki/Machine_learning) y [data mining](http://es.wikipedia.org/wiki/Miner%C3%ADa_de_datos) es el [Álgebra lineal](http://es.wikipedia.org/wiki/%C3%81lgebra_lineal); por tanto, si queremos incursionar en el fascinante mundo del aprendizaje automático y el análisis de datos es importante reforzar los conceptos que forman parte de sus cimientos. \n",
    "\n",
    "El [Álgebra lineal](http://es.wikipedia.org/wiki/%C3%81lgebra_lineal) es una rama de las [matemáticas](http://es.wikipedia.org/wiki/Matem%C3%A1ticas) que es sumamente utilizada en el estudio de una gran variedad de ciencias, como ser, ingeniería, finanzas, investigación operativa, entre otras. Es una extensión del [álgebra](http://es.wikipedia.org/wiki/%C3%81lgebra) que aprendemos en la escuela secundaria, hacia un mayor número de dimensiones; en lugar de trabajar con incógnitas a nivel de <a href=\"http://es.wikipedia.org/wiki/Escalar_(matem%C3%A1tica)\">escalares</a> comenzamos a trabajar con <a href=\"http://es.wikipedia.org/wiki/Matriz_(matem%C3%A1ticas)\">matrices</a> y [vectores](http://es.wikipedia.org/wiki/Vector).  \n",
    "\n",
    "El estudio del [Álgebra lineal](http://es.wikipedia.org/wiki/%C3%81lgebra_lineal) implica trabajar con varios objetos matemáticos, como ser:\n",
    "\n",
    "* **Los <a href=\"http://es.wikipedia.org/wiki/Escalar_(matem%C3%A1tica)\">Escalares</a>**: Un *escalar* es un solo número, en contraste con la mayoría de los otros objetos estudiados en [Álgebra lineal](http://es.wikipedia.org/wiki/%C3%81lgebra_lineal), que son generalmente una colección de múltiples números.\n",
    "\n",
    "* **Los [Vectores](http://es.wikipedia.org/wiki/Vector)**: Un *vector* es una serie de números. Los números tienen una orden preestablecido, y podemos identificar cada número individual por su índice en ese orden. Podemos pensar en los  *vectores* como la identificación de puntos en el espacio, con cada elemento que da la coordenada a lo largo de un eje diferente. Existen dos tipos de *vectores*, los *vectores de fila* y los *vectores de columna*. Podemos representarlos de la siguiente manera, dónde *f* es un vector de fila y *c* es un vector de columna:\n",
    "\n",
    "$$ f = \\begin{bmatrix} 0 & 1 & -1 \\end{bmatrix} ;\\ c= \\begin{bmatrix} 0\\\\ 1 \\\\ -1 \\end{bmatrix} $$\n",
    "\n",
    "* **Las <a href=\"http://es.wikipedia.org/wiki/Matriz_(matem%C3%A1ticas)\">Matrices</a>**: Una *matriz* es un arreglo bidimensional de números (llamados entradas de la matriz) ordenados en filas (o renglones) y columnas, donde una fila es cada una de las líneas horizontales de la matriz y una columna es cada una de las líneas verticales. En una *matriz* cada elemento puede ser identificado utilizando dos índices, uno para la fila y otro para la columna en que se encuentra. Las podemos representar de la siguiente manera, *A* es una matriz de 3x2.\n",
    "$$A=\\begin{bmatrix}0 & 1& \\\\-1 & 2 \\\\ -2 & 3\\end{bmatrix}$$\n",
    "\n",
    "* **Los [Tensores](http://es.wikipedia.org/wiki/C%C3%A1lculo_tensorial)**: En algunos casos necesitaremos una matriz con más de dos ejes. En general, una serie de números dispuestos en una cuadrícula regular con un número variable de ejes es conocido como un *tensor*.\n",
    "\n",
    "Sobre estos objetos podemos realizar las operaciones matemáticas básicas, como ser [adición](http://es.wikipedia.org/wiki/Adici%C3%B3n), [multiplicación](http://es.wikipedia.org/wiki/Multiplicaci%C3%B3n), [sustracción](http://es.wikipedia.org/wiki/Sustracci%C3%B3n) y <a href=\"http://es.wikipedia.org/wiki/Divisi%C3%B3n_(matem%C3%A1tica)\" >división</a>, es decir que vamos a poder sumar [vectores](http://es.wikipedia.org/wiki/Vector) con <a href=\"http://es.wikipedia.org/wiki/Matriz_(matem%C3%A1ticas)\">matrices</a>, multiplicar <a href=\"http://es.wikipedia.org/wiki/Escalar_(matem%C3%A1tica)\">escalares</a> a [vectores](http://es.wikipedia.org/wiki/Vector) y demás."
   ],
   "metadata": {}
  },
  {
   "cell_type": "markdown",
   "source": [
    "## Librerías de Python para álgebra lineal\n",
    "\n",
    "Los principales módulos que [Python](http://python.org/) nos ofrece para realizar operaciones de [Álgebra lineal](http://es.wikipedia.org/wiki/%C3%81lgebra_lineal) son los siguientes:\n",
    "\n",
    "* **[Numpy](http://www.numpy.org/)**: El popular paquete matemático de [Python](http://python.org/), nos va a permitir crear *[vectores](http://es.wikipedia.org/wiki/Vector)*, *<a href=\"http://es.wikipedia.org/wiki/Matriz_(matem%C3%A1ticas)\">matrices</a>* y *[tensores](http://es.wikipedia.org/wiki/C%C3%A1lculo_tensorial)* con suma facilidad.\n",
    "\n",
    "* **[numpy.linalg](http://docs.scipy.org/doc/numpy/reference/routines.linalg.html)**: Este es un submodulo dentro de [Numpy](http://www.numpy.org/) con un gran número de funciones para resolver ecuaciones de [Álgebra lineal](http://es.wikipedia.org/wiki/%C3%81lgebra_lineal).\n",
    "\n",
    "* **[scipy.linalg](http://docs.scipy.org/doc/scipy/reference/tutorial/linalg.html)**: Este submodulo del paquete científico [Scipy](http://docs.scipy.org/doc/scipy/reference/index.html) es muy similar al anterior, pero con algunas más funciones y optimaciones.\n",
    "\n",
    "* **[Sympy](http://www.sympy.org/es/)**: Esta librería nos permite trabajar con matemática simbólica, convierte a [Python](http://python.org/) en un [sistema algebraico computacional](http://es.wikipedia.org/wiki/Sistema_algebraico_computacional). Nos va a permitir trabajar con ecuaciones y fórmulas simbólicamente, en lugar de numéricamente.\n",
    "\n",
    "* **[CVXOPT](http://cvxopt.org/)**: Este módulo nos permite resolver problemas de optimizaciones de [programación lineal](http://es.wikipedia.org/wiki/Programaci%C3%B3n_lineal). \n",
    "\n",
    "* **[PuLP](http://pythonhosted.org//PuLP/)**: Esta librería nos permite crear modelos de [programación lineal](http://es.wikipedia.org/wiki/Programaci%C3%B3n_lineal) en forma muy sencilla con [Python](http://python.org/)."
   ],
   "metadata": {}
  },
  {
   "cell_type": "markdown",
   "source": [
    "## Operaciones básicas"
   ],
   "metadata": {}
  },
  {
   "cell_type": "markdown",
   "source": [
    "### Vectores\r\n",
    "\r\n",
    "Un *[vector](http://es.wikipedia.org/wiki/Vector)* de largo `n` es una secuencia (o *array*, o *tupla*) de `n` números. La solemos escribir como x=(x1,...,xn) o x=[x1,...,xn]\r\n",
    "\r\n",
    "En [Python](http://python.org/), un *[vector](http://es.wikipedia.org/wiki/Vector)* puede ser representado con una simple *lista*, o con un *array* de [Numpy](http://www.numpy.org/); siendo preferible utilizar esta última opción."
   ],
   "metadata": {}
  },
  {
   "cell_type": "code",
   "execution_count": 28,
   "source": [
    "# Vector como lista de Python\r\n",
    "v1 = [2, 4, 6]\r\n",
    "v1"
   ],
   "outputs": [
    {
     "output_type": "execute_result",
     "data": {
      "text/plain": [
       "[2, 4, 6]"
      ]
     },
     "metadata": {},
     "execution_count": 28
    }
   ],
   "metadata": {
    "jupyter": {
     "outputs_hidden": false
    }
   }
  },
  {
   "cell_type": "code",
   "execution_count": 29,
   "source": [
    "# Vectores con numpy\r\n",
    "import numpy as np\r\n",
    "\r\n",
    "v2 = np.ones(3) # vector de solo unos.\r\n",
    "v2"
   ],
   "outputs": [
    {
     "output_type": "execute_result",
     "data": {
      "text/plain": [
       "array([1., 1., 1.])"
      ]
     },
     "metadata": {},
     "execution_count": 29
    }
   ],
   "metadata": {
    "jupyter": {
     "outputs_hidden": false
    }
   }
  },
  {
   "cell_type": "code",
   "execution_count": 30,
   "source": [
    "v3 = np.array([1, 3, 5]) # pasando una lista a las arrays de numpy\r\n",
    "v3"
   ],
   "outputs": [
    {
     "output_type": "execute_result",
     "data": {
      "text/plain": [
       "array([1, 3, 5])"
      ]
     },
     "metadata": {},
     "execution_count": 30
    }
   ],
   "metadata": {
    "jupyter": {
     "outputs_hidden": false
    }
   }
  },
  {
   "cell_type": "code",
   "execution_count": 31,
   "source": [
    "v4 = np.arange(1, 8) # utilizando la funcion arange de numpy\r\n",
    "v4"
   ],
   "outputs": [
    {
     "output_type": "execute_result",
     "data": {
      "text/plain": [
       "array([1, 2, 3, 4, 5, 6, 7])"
      ]
     },
     "metadata": {},
     "execution_count": 31
    }
   ],
   "metadata": {
    "jupyter": {
     "outputs_hidden": false
    }
   }
  },
  {
   "cell_type": "markdown",
   "source": [
    "### Operaciones con vectores\r\n",
    "\r\n",
    "Las operaciones más comunes que utilizamos cuando trabajamos con *[vectores](http://es.wikipedia.org/wiki/Vector)* son la *suma*, la *resta* y la *multiplicación por <a href=\"http://es.wikipedia.org/wiki/Escalar_(matem%C3%A1tica)\">escalares</a>*.\r\n",
    "\r\n",
    "Cuando *sumamos* dos *[vectores](http://es.wikipedia.org/wiki/Vector)*, vamos sumando elemento por elemento de cada\r\n",
    "*[vector](http://es.wikipedia.org/wiki/Vector)*.\r\n",
    "\r\n",
    "$$ \\begin{split}x + y\r\n",
    "=\r\n",
    "\\left[\r\n",
    "\\begin{array}{c}\r\n",
    "    x_1 \\\\\r\n",
    "    x_2 \\\\\r\n",
    "    \\vdots \\\\\r\n",
    "    x_n\r\n",
    "\\end{array}\r\n",
    "\\right]\r\n",
    "+\r\n",
    "\\left[\r\n",
    "\\begin{array}{c}\r\n",
    "     y_1 \\\\\r\n",
    "     y_2 \\\\\r\n",
    "    \\vdots \\\\\r\n",
    "     y_n\r\n",
    "\\end{array}\r\n",
    "\\right]\r\n",
    "=\r\n",
    "\\left[\r\n",
    "\\begin{array}{c}\r\n",
    "    x_1 + y_1 \\\\\r\n",
    "    x_2 + y_2 \\\\\r\n",
    "    \\vdots \\\\\r\n",
    "    x_n + y_n\r\n",
    "\\end{array}\r\n",
    "\\right]\\end{split}$$\r\n",
    "\r\n",
    "De forma similar funciona la operación de resta.\r\n",
    "\r\n",
    "$$ \\begin{split}x - y\r\n",
    "=\r\n",
    "\\left[\r\n",
    "\\begin{array}{c}\r\n",
    "    x_1 \\\\\r\n",
    "    x_2 \\\\\r\n",
    "    \\vdots \\\\\r\n",
    "    x_n\r\n",
    "\\end{array}\r\n",
    "\\right]\r\n",
    "-\r\n",
    "\\left[\r\n",
    "\\begin{array}{c}\r\n",
    "     y_1 \\\\\r\n",
    "     y_2 \\\\\r\n",
    "    \\vdots \\\\\r\n",
    "     y_n\r\n",
    "\\end{array}\r\n",
    "\\right]\r\n",
    "=\r\n",
    "\\left[\r\n",
    "\\begin{array}{c}\r\n",
    "    x_1 - y_1 \\\\\r\n",
    "    x_2 - y_2 \\\\\r\n",
    "    \\vdots \\\\\r\n",
    "    x_n - y_n\r\n",
    "\\end{array}\r\n",
    "\\right]\\end{split}$$\r\n",
    "\r\n",
    "La *multiplicación por <a href=\"http://es.wikipedia.org/wiki/Escalar_(matem%C3%A1tica)\">escalares</a>* es una operación que toma a un número $\\gamma$, y a un *[vector](http://es.wikipedia.org/wiki/Vector)* $x$ y produce un nuevo *[vector](http://es.wikipedia.org/wiki/Vector)* donde cada elemento del vector $x$ es multiplicado por el número $\\gamma$.\r\n",
    "\r\n",
    "$$\\begin{split}\\gamma x\r\n",
    "=\r\n",
    "\\left[\r\n",
    "\\begin{array}{c}\r\n",
    "    \\gamma x_1 \\\\\r\n",
    "    \\gamma x_2 \\\\\r\n",
    "    \\vdots \\\\\r\n",
    "    \\gamma x_n\r\n",
    "\\end{array}\r\n",
    "\\right]\\end{split}$$\r\n",
    "\r\n",
    "En [Python](http://python.org/):"
   ],
   "metadata": {}
  },
  {
   "cell_type": "code",
   "execution_count": 32,
   "source": [
    "# Ejemplo en Python\r\n",
    "x = np.arange(1, 5)\r\n",
    "y = np.array([2, 4, 6, 8])\r\n",
    "x, y"
   ],
   "outputs": [
    {
     "output_type": "execute_result",
     "data": {
      "text/plain": [
       "(array([1, 2, 3, 4]), array([2, 4, 6, 8]))"
      ]
     },
     "metadata": {},
     "execution_count": 32
    }
   ],
   "metadata": {
    "jupyter": {
     "outputs_hidden": false
    }
   }
  },
  {
   "cell_type": "code",
   "execution_count": 33,
   "source": [
    "# sumando dos arrays (vectores en numpy)\r\n",
    "x + y"
   ],
   "outputs": [
    {
     "output_type": "execute_result",
     "data": {
      "text/plain": [
       "array([ 3,  6,  9, 12])"
      ]
     },
     "metadata": {},
     "execution_count": 33
    }
   ],
   "metadata": {
    "jupyter": {
     "outputs_hidden": false
    }
   }
  },
  {
   "cell_type": "code",
   "execution_count": 34,
   "source": [
    "# Note que Python no permite realizar operaciones algebraicas entre dos listas de forma directa.\r\n",
    "# Esta es una de las razones por las que preferimos utilizar arrays para hacer operaciones de\r\n",
    "# álgebra lineal\r\n",
    "[1, 2, 3, 4] + [2, 4, 6, 8]"
   ],
   "outputs": [
    {
     "output_type": "execute_result",
     "data": {
      "text/plain": [
       "[1, 2, 3, 4, 2, 4, 6, 8]"
      ]
     },
     "metadata": {},
     "execution_count": 34
    }
   ],
   "metadata": {}
  },
  {
   "cell_type": "code",
   "execution_count": 35,
   "source": [
    "# restando dos vectores\r\n",
    "x - y"
   ],
   "outputs": [
    {
     "output_type": "execute_result",
     "data": {
      "text/plain": [
       "array([-1, -2, -3, -4])"
      ]
     },
     "metadata": {},
     "execution_count": 35
    }
   ],
   "metadata": {
    "jupyter": {
     "outputs_hidden": false
    }
   }
  },
  {
   "cell_type": "code",
   "execution_count": 36,
   "source": [
    "# multiplicando por un escalar\r\n",
    "x * 2"
   ],
   "outputs": [
    {
     "output_type": "execute_result",
     "data": {
      "text/plain": [
       "array([2, 4, 6, 8])"
      ]
     },
     "metadata": {},
     "execution_count": 36
    }
   ],
   "metadata": {
    "jupyter": {
     "outputs_hidden": false
    }
   }
  },
  {
   "cell_type": "code",
   "execution_count": 37,
   "source": [
    "y * 3"
   ],
   "outputs": [
    {
     "output_type": "execute_result",
     "data": {
      "text/plain": [
       "array([ 6, 12, 18, 24])"
      ]
     },
     "metadata": {},
     "execution_count": 37
    }
   ],
   "metadata": {
    "jupyter": {
     "outputs_hidden": false
    }
   }
  },
  {
   "cell_type": "markdown",
   "source": [
    "#### Producto escalar o interior\r\n",
    "\r\n",
    "El [producto escalar](https://es.wikipedia.org/wiki/Producto_escalar) de dos *[vectores](http://es.wikipedia.org/wiki/Vector)* se define como la suma de los productos de sus elementos, suele representarse matemáticamente como < x, y > o x'y, donde x e y son dos vectores.\r\n",
    "\r\n",
    "$$< x, y > = \\sum_{i=1}^n x_i y_i$$\r\n",
    "\r\n",
    "Dos *[vectores](http://es.wikipedia.org/wiki/Vector)* son <a href=\"https://es.wikipedia.org/wiki/Ortogonalidad_(matem%C3%A1ticas)\">ortogonales</a> o perpendiculares cuando forman ángulo recto entre sí. Si el producto escalar de dos vectores es cero, ambos vectores son <a href=\"https://es.wikipedia.org/wiki/Ortogonalidad_(matem%C3%A1ticas)\">ortogonales</a>.\r\n",
    "\r\n",
    "Adicionalmente, todo [producto escalar](https://es.wikipedia.org/wiki/Producto_escalar) induce una [norma](https://es.wikipedia.org/wiki/Norma_vectorial) sobre el espacio en el que está definido, de la siguiente manera:\r\n",
    "\r\n",
    "$$\\| x \\| = \\sqrt{< x, x>} = \\left( \\sum_{i=1}^n x_i^2 \\right)^{1/2}$$\r\n",
    "\r\n",
    "En [Python](http://python.org/):"
   ],
   "metadata": {}
  },
  {
   "cell_type": "code",
   "execution_count": 38,
   "source": [
    "# Calculando el producto escalar de los vectores x e y\r\n",
    "np.dot(x, y)"
   ],
   "outputs": [
    {
     "output_type": "execute_result",
     "data": {
      "text/plain": [
       "60"
      ]
     },
     "metadata": {},
     "execution_count": 38
    }
   ],
   "metadata": {
    "jupyter": {
     "outputs_hidden": false
    }
   }
  },
  {
   "cell_type": "code",
   "execution_count": 39,
   "source": [
    "# o lo que es lo mismo, que:\r\n",
    "sum(x * y)"
   ],
   "outputs": [
    {
     "output_type": "execute_result",
     "data": {
      "text/plain": [
       "60"
      ]
     },
     "metadata": {},
     "execution_count": 39
    }
   ],
   "metadata": {
    "jupyter": {
     "outputs_hidden": false
    }
   }
  },
  {
   "cell_type": "code",
   "execution_count": 40,
   "source": [
    "# Calculando la norma del vector X\r\n",
    "np.linalg.norm(x)"
   ],
   "outputs": [
    {
     "output_type": "execute_result",
     "data": {
      "text/plain": [
       "5.477225575051661"
      ]
     },
     "metadata": {},
     "execution_count": 40
    }
   ],
   "metadata": {
    "jupyter": {
     "outputs_hidden": false
    }
   }
  },
  {
   "cell_type": "code",
   "execution_count": 41,
   "source": [
    "# otra forma de calcular la norma de x\r\n",
    "np.sqrt(np.dot(x, x))"
   ],
   "outputs": [
    {
     "output_type": "execute_result",
     "data": {
      "text/plain": [
       "5.477225575051661"
      ]
     },
     "metadata": {},
     "execution_count": 41
    }
   ],
   "metadata": {
    "jupyter": {
     "outputs_hidden": false
    }
   }
  },
  {
   "cell_type": "code",
   "execution_count": 42,
   "source": [
    "# vectores ortogonales\r\n",
    "v1 = np.array([3, 4])\r\n",
    "v2 = np.array([4, -3])\r\n",
    "\r\n",
    "np.dot(v1, v2)"
   ],
   "outputs": [
    {
     "output_type": "execute_result",
     "data": {
      "text/plain": [
       "0"
      ]
     },
     "metadata": {},
     "execution_count": 42
    }
   ],
   "metadata": {
    "jupyter": {
     "outputs_hidden": false
    }
   }
  },
  {
   "cell_type": "markdown",
   "source": [
    "### Matrices\n",
    "\n",
    "Las <a href=\"http://es.wikipedia.org/wiki/Matriz_(matem%C3%A1ticas)\">matrices</a> son una forma clara y sencilla de organizar los datos para su uso en operaciones lineales.\n",
    "\n",
    "Una <a href=\"http://es.wikipedia.org/wiki/Matriz_(matem%C3%A1ticas)\">matriz</a> `n × k` es una agrupación rectangular de números con n filas y k columnas; se representa de la siguiente forma:\n",
    "\n",
    "$$\\begin{split}A =\n",
    "\\left[\n",
    "\\begin{array}{cccc}\n",
    "    a_{11} & a_{12} & \\cdots & a_{1k} \\\\\n",
    "    a_{21} & a_{22} & \\cdots & a_{2k} \\\\\n",
    "    \\vdots & \\vdots &  & \\vdots \\\\\n",
    "    a_{n1} & a_{n2} & \\cdots & a_{nk}\n",
    "\\end{array}\n",
    "\\right]\\end{split}$$\n",
    "\n",
    "En la <a href=\"http://es.wikipedia.org/wiki/Matriz_(matem%C3%A1ticas)\">matriz</a> A, el símbolo $a_{nk}$ representa el elemento  n-ésimo de la fila en la k-ésima columna. La <a href=\"http://es.wikipedia.org/wiki/Matriz_(matem%C3%A1ticas)\">matriz</a> A también puede ser llamada un *[vector](http://es.wikipedia.org/wiki/Vector)* si cualquiera de n o k son iguales a 1. En el caso de n=1, A se llama un *[vector](http://es.wikipedia.org/wiki/Vector) fila*, mientras que en el caso de k=1 se denomina un *[vector](http://es.wikipedia.org/wiki/Vector) columna*.\n",
    "\n",
    "Las <a href=\"http://es.wikipedia.org/wiki/Matriz_(matem%C3%A1ticas)\">matrices</a> se utilizan para múltiples aplicaciones y sirven, en particular, para representar los coeficientes de los sistemas de ecuaciones lineales o para representar transformaciones lineales dada una base. Pueden sumarse, multiplicarse y descomponerse de varias formas."
   ],
   "metadata": {}
  },
  {
   "cell_type": "markdown",
   "source": [
    "### Operaciones con matrices\n",
    "\n",
    "Al igual que con los *[vectores](http://es.wikipedia.org/wiki/Vector)*, que no son más que un caso particular, las <a href=\"http://es.wikipedia.org/wiki/Matriz_(matem%C3%A1ticas)\">matrices</a> se pueden *sumar*, *restar* y la *multiplicar por <a href=\"http://es.wikipedia.org/wiki/Escalar_(matem%C3%A1tica)\">escalares</a>*.\n",
    "\n",
    "Multiplicacion por escalares:\n",
    "$$\\begin{split}c A\n",
    "\\left[\n",
    "\\begin{array}{ccc}\n",
    "    a_{11} &  \\cdots & a_{1k} \\\\\n",
    "    \\vdots & \\vdots  & \\vdots \\\\\n",
    "    a_{n1} &  \\cdots & a_{nk} \\\\\n",
    "\\end{array}\n",
    "\\right]\n",
    "=\n",
    "\\left[\n",
    "\\begin{array}{ccc}\n",
    "    c a_{11} & \\cdots & c a_{1k} \\\\\n",
    "    \\vdots & \\vdots & \\vdots \\\\\n",
    "    c a_{n1} & \\cdots & c a_{nk} \\\\\n",
    "\\end{array}\n",
    "\\right]\\end{split}$$\n",
    "\n",
    "Suma de matrices: $$\\begin{split}A + B =\n",
    "\\left[\n",
    "\\begin{array}{ccc}\n",
    "    a_{11} & \\cdots & a_{1k} \\\\\n",
    "    \\vdots & \\vdots & \\vdots \\\\\n",
    "    a_{n1} & \\cdots & a_{nk} \\\\\n",
    "\\end{array}\n",
    "\\right]\n",
    "+\n",
    "\\left[\n",
    "\\begin{array}{ccc}\n",
    "    b_{11} & \\cdots & b_{1k} \\\\\n",
    "    \\vdots & \\vdots & \\vdots \\\\\n",
    "    b_{n1} & \\cdots & b_{nk} \\\\\n",
    "\\end{array}\n",
    "\\right]\n",
    ":=\n",
    "\\left[\n",
    "\\begin{array}{ccc}\n",
    "    a_{11} + b_{11} &  \\cdots & a_{1k} + b_{1k} \\\\\n",
    "    \\vdots & \\vdots & \\vdots \\\\\n",
    "    a_{n1} + b_{n1} &  \\cdots & a_{nk} + b_{nk} \\\\\n",
    "\\end{array}\n",
    "\\right]\\end{split}$$\n",
    "\n",
    "Resta de matrices: $$\\begin{split}A - B =\n",
    "\\left[\n",
    "\\begin{array}{ccc}\n",
    "    a_{11} & \\cdots & a_{1k} \\\\\n",
    "    \\vdots & \\vdots & \\vdots \\\\\n",
    "    a_{n1} & \\cdots & a_{nk} \\\\\n",
    "\\end{array}\n",
    "\\right]-\n",
    "\\left[\n",
    "\\begin{array}{ccc}\n",
    "    b_{11} & \\cdots & b_{1k} \\\\\n",
    "    \\vdots & \\vdots & \\vdots \\\\\n",
    "    b_{n1} & \\cdots & b_{nk} \\\\\n",
    "\\end{array}\n",
    "\\right]\n",
    ":=\n",
    "\\left[\n",
    "\\begin{array}{ccc}\n",
    "    a_{11} - b_{11} &  \\cdots & a_{1k} - b_{1k} \\\\\n",
    "    \\vdots & \\vdots & \\vdots \\\\\n",
    "    a_{n1} - b_{n1} &  \\cdots & a_{nk} - b_{nk} \\\\\n",
    "\\end{array}\n",
    "\\right]\\end{split}$$\n",
    "\n",
    "Para los casos de suma y resta, hay que tener en cuenta que solo se pueden sumar o restar <a href=\"http://es.wikipedia.org/wiki/Matriz_(matem%C3%A1ticas)\">matrices</a> que tengan las mismas dimensiones, es decir que si tengo una <a href=\"http://es.wikipedia.org/wiki/Matriz_(matem%C3%A1ticas)\">matriz</a> A de dimensión 3x2 (3 filas y 2 columnas) solo voy a poder sumar o restar la <a href=\"http://es.wikipedia.org/wiki/Matriz_(matem%C3%A1ticas)\">matriz</a> B si esta también tiene 3 filas y 2 columnas."
   ],
   "metadata": {}
  },
  {
   "cell_type": "code",
   "execution_count": 43,
   "source": [
    "# Ejemplo en Python\r\n",
    "# Para construir nuestra matriz creamos una lista de vectores fila.\r\n",
    "A = np.array([[1, 3, 2],\r\n",
    "              [1, 0, 0],\r\n",
    "              [1, 2, 2]])\r\n",
    "\r\n",
    "B = np.array([[1, 0, 5],\r\n",
    "              [7, 5, 0],\r\n",
    "              [2, 1, 1]])"
   ],
   "outputs": [],
   "metadata": {
    "jupyter": {
     "outputs_hidden": false
    }
   }
  },
  {
   "cell_type": "code",
   "execution_count": 44,
   "source": [
    "# suma de las matrices A y B\r\n",
    "A + B"
   ],
   "outputs": [
    {
     "output_type": "execute_result",
     "data": {
      "text/plain": [
       "array([[2, 3, 7],\n",
       "       [8, 5, 0],\n",
       "       [3, 3, 3]])"
      ]
     },
     "metadata": {},
     "execution_count": 44
    }
   ],
   "metadata": {
    "jupyter": {
     "outputs_hidden": false
    }
   }
  },
  {
   "cell_type": "code",
   "execution_count": 45,
   "source": [
    "# resta de matrices\r\n",
    "A - B"
   ],
   "outputs": [
    {
     "output_type": "execute_result",
     "data": {
      "text/plain": [
       "array([[ 0,  3, -3],\n",
       "       [-6, -5,  0],\n",
       "       [-1,  1,  1]])"
      ]
     },
     "metadata": {},
     "execution_count": 45
    }
   ],
   "metadata": {
    "jupyter": {
     "outputs_hidden": false
    }
   }
  },
  {
   "cell_type": "code",
   "execution_count": 46,
   "source": [
    "# multiplicando matrices por escalares\r\n",
    "A * 2"
   ],
   "outputs": [
    {
     "output_type": "execute_result",
     "data": {
      "text/plain": [
       "array([[2, 6, 4],\n",
       "       [2, 0, 0],\n",
       "       [2, 4, 4]])"
      ]
     },
     "metadata": {},
     "execution_count": 46
    }
   ],
   "metadata": {
    "jupyter": {
     "outputs_hidden": false
    }
   }
  },
  {
   "cell_type": "code",
   "execution_count": 47,
   "source": [
    "B * 3"
   ],
   "outputs": [
    {
     "output_type": "execute_result",
     "data": {
      "text/plain": [
       "array([[ 3,  0, 15],\n",
       "       [21, 15,  0],\n",
       "       [ 6,  3,  3]])"
      ]
     },
     "metadata": {},
     "execution_count": 47
    }
   ],
   "metadata": {
    "jupyter": {
     "outputs_hidden": false
    }
   }
  },
  {
   "cell_type": "code",
   "execution_count": 48,
   "source": [
    "# ver la dimension de una matriz (filas, columnas)\r\n",
    "A.shape"
   ],
   "outputs": [
    {
     "output_type": "execute_result",
     "data": {
      "text/plain": [
       "(3, 3)"
      ]
     },
     "metadata": {},
     "execution_count": 48
    }
   ],
   "metadata": {
    "jupyter": {
     "outputs_hidden": false
    }
   }
  },
  {
   "cell_type": "code",
   "execution_count": 49,
   "source": [
    "# ver cantidad de elementos de una matriz\r\n",
    "A.size"
   ],
   "outputs": [
    {
     "output_type": "execute_result",
     "data": {
      "text/plain": [
       "9"
      ]
     },
     "metadata": {},
     "execution_count": 49
    }
   ],
   "metadata": {
    "jupyter": {
     "outputs_hidden": false
    }
   }
  },
  {
   "cell_type": "markdown",
   "source": [
    "#### Multiplicacion o Producto de matrices\n",
    "\n",
    "La regla para la [multiplicación de matrices](https://es.wikipedia.org/wiki/Multiplicaci%C3%B3n_de_matrices) generaliza la idea del [producto interior](https://es.wikipedia.org/wiki/Producto_escalar) que vimos con los [vectores](http://es.wikipedia.org/wiki/Vector); y esta diseñada para facilitar las operaciones lineales básicas.\n",
    "Cuando [multiplicamos matrices](https://es.wikipedia.org/wiki/Multiplicaci%C3%B3n_de_matrices), el número de columnas de la primera <a href=\"http://es.wikipedia.org/wiki/Matriz_(matem%C3%A1ticas)\">matriz</a> debe ser igual al número de filas de la segunda <a href=\"http://es.wikipedia.org/wiki/Matriz_(matem%C3%A1ticas)\">matriz</a>; y el resultado de esta multiplicación va a tener el mismo número de filas que la primer <a href=\"http://es.wikipedia.org/wiki/Matriz_(matem%C3%A1ticas)\">matriz</a> y el número de la columnas de la segunda <a href=\"http://es.wikipedia.org/wiki/Matriz_(matem%C3%A1ticas)\">matriz</a>. Es decir, que si yo tengo una <a href=\"http://es.wikipedia.org/wiki/Matriz_(matem%C3%A1ticas)\">matriz</a> A de dimensión 3x4 y la multiplico por una <a href=\"http://es.wikipedia.org/wiki/Matriz_(matem%C3%A1ticas)\">matriz</a> B de dimensión 4x2, el resultado va a ser una <a href=\"http://es.wikipedia.org/wiki/Matriz_(matem%C3%A1ticas)\">matriz</a> C de dimensión 3x2.\n",
    "\n",
    "Algo a tener en cuenta a la hora de [multiplicar matrices](https://es.wikipedia.org/wiki/Multiplicaci%C3%B3n_de_matrices) es que la propiedad [connmutativa](https://es.wikipedia.org/wiki/Conmutatividad) no se cumple. AxB no es lo mismo que BxA.\n",
    "\n",
    "Veamos los ejemplos en [Python](http://python.org/)."
   ],
   "metadata": {}
  },
  {
   "cell_type": "code",
   "execution_count": 50,
   "source": [
    "# Ejemplo multiplicación de matrices\r\n",
    "A = np.arange(1, 13).reshape(3, 4) #matriz de dimension 3x4\r\n",
    "A"
   ],
   "outputs": [
    {
     "output_type": "execute_result",
     "data": {
      "text/plain": [
       "array([[ 1,  2,  3,  4],\n",
       "       [ 5,  6,  7,  8],\n",
       "       [ 9, 10, 11, 12]])"
      ]
     },
     "metadata": {},
     "execution_count": 50
    }
   ],
   "metadata": {
    "jupyter": {
     "outputs_hidden": false
    }
   }
  },
  {
   "cell_type": "code",
   "execution_count": 51,
   "source": [
    "B = np.arange(8).reshape(4,2) #matriz de dimension 4x2\r\n",
    "B"
   ],
   "outputs": [
    {
     "output_type": "execute_result",
     "data": {
      "text/plain": [
       "array([[0, 1],\n",
       "       [2, 3],\n",
       "       [4, 5],\n",
       "       [6, 7]])"
      ]
     },
     "metadata": {},
     "execution_count": 51
    }
   ],
   "metadata": {
    "jupyter": {
     "outputs_hidden": false
    }
   }
  },
  {
   "cell_type": "code",
   "execution_count": 52,
   "source": [
    "# Multiplicando A x B\r\n",
    "A.dot(B) #resulta en una matriz de dimension 3x2"
   ],
   "outputs": [
    {
     "output_type": "execute_result",
     "data": {
      "text/plain": [
       "array([[ 40,  50],\n",
       "       [ 88, 114],\n",
       "       [136, 178]])"
      ]
     },
     "metadata": {},
     "execution_count": 52
    }
   ],
   "metadata": {
    "jupyter": {
     "outputs_hidden": false
    }
   }
  },
  {
   "cell_type": "code",
   "execution_count": 54,
   "source": [
    "# Multiplicando B x A\r\n",
    "B.dot(A)"
   ],
   "outputs": [
    {
     "output_type": "error",
     "ename": "ValueError",
     "evalue": "shapes (4,2) and (3,4) not aligned: 2 (dim 1) != 3 (dim 0)",
     "traceback": [
      "\u001b[1;31m---------------------------------------------------------------------------\u001b[0m",
      "\u001b[1;31mValueError\u001b[0m                                Traceback (most recent call last)",
      "\u001b[1;32m<ipython-input-54-ede793c22832>\u001b[0m in \u001b[0;36m<module>\u001b[1;34m\u001b[0m\n\u001b[0;32m      1\u001b[0m \u001b[1;31m# Multiplicando B x A\u001b[0m\u001b[1;33m\u001b[0m\u001b[1;33m\u001b[0m\u001b[1;33m\u001b[0m\u001b[0m\n\u001b[1;32m----> 2\u001b[1;33m \u001b[0mB\u001b[0m\u001b[1;33m.\u001b[0m\u001b[0mdot\u001b[0m\u001b[1;33m(\u001b[0m\u001b[0mA\u001b[0m\u001b[1;33m)\u001b[0m\u001b[1;33m\u001b[0m\u001b[1;33m\u001b[0m\u001b[0m\n\u001b[0m",
      "\u001b[1;31mValueError\u001b[0m: shapes (4,2) and (3,4) not aligned: 2 (dim 1) != 3 (dim 0)"
     ]
    }
   ],
   "metadata": {}
  },
  {
   "cell_type": "markdown",
   "source": [
    "#### La matriz identidad,  la matriz inversa, y  la matrix transpuesta\r\n",
    "\r\n",
    "La [matriz identidad](https://es.wikipedia.org/wiki/Matriz_identidad) es el elemento neutro en la [multiplicación de matrices](https://es.wikipedia.org/wiki/Multiplicaci%C3%B3n_de_matrices), es el equivalente al número 1. Cualquier matriz multiplicada por la [matriz identidad](https://es.wikipedia.org/wiki/Matriz_identidad) nos da como resultado la misma matriz. La [matriz identidad](https://es.wikipedia.org/wiki/Matriz_identidad) es una [matriz cuadrada](https://es.wikipedia.org/wiki/Matriz_cuadrada) (tiene siempre el mismo número de filas que de columnas); y su diagonal principal se compone de todos elementos 1 y el resto de los elementos se completan con 0. Suele representase con la letra I\r\n",
    "\r\n",
    "Por ejemplo la matriz identidad de 3x3 sería la siguiente:\r\n",
    "\r\n",
    "$$I=\\begin{bmatrix}1 & 0 & 0 & \\\\0 & 1 & 0\\\\ 0 & 0 & 1\\end{bmatrix}$$\r\n",
    "\r\n"
   ],
   "metadata": {}
  },
  {
   "cell_type": "code",
   "execution_count": 55,
   "source": [
    "# Creando una matriz identidad de 2x2\r\n",
    "I = np.eye(2)\r\n",
    "I"
   ],
   "outputs": [
    {
     "output_type": "execute_result",
     "data": {
      "text/plain": [
       "array([[1., 0.],\n",
       "       [0., 1.]])"
      ]
     },
     "metadata": {},
     "execution_count": 55
    }
   ],
   "metadata": {
    "jupyter": {
     "outputs_hidden": false
    }
   }
  },
  {
   "cell_type": "markdown",
   "source": [
    "Ahora que conocemos el concepto de la [matriz identidad](https://es.wikipedia.org/wiki/Matriz_identidad), podemos llegar al concepto de la [matriz inversa](https://es.wikipedia.org/wiki/Matriz_invertible). Si tenemos una matriz A, la [matriz inversa](https://es.wikipedia.org/wiki/Matriz_invertible) de A, que se representa como $A^{-1}$ es aquella [matriz cuadrada](https://es.wikipedia.org/wiki/Matriz_cuadrada) que hace que la multiplicación $A \\times A^{-1}$ sea igual a la [matriz identidad](https://es.wikipedia.org/wiki/Matriz_identidad) I. Es decir que es la <a href=\"http://es.wikipedia.org/wiki/Matriz_(matem%C3%A1ticas)\">matriz</a> recíproca de A.\r\n",
    "\r\n",
    "$$A × A^{-1} = A^{-1} × A = I$$\r\n",
    "\r\n",
    "Tener en cuenta que esta [matriz inversa](https://es.wikipedia.org/wiki/Matriz_invertible) en muchos casos puede no existir. En este caso se dice que la matriz es singular o degenerada. Una matriz es singular si y solo si su <a href=\"https://es.wikipedia.org/wiki/Determinante_(matem%C3%A1tica)\">determinante</a> es nulo.\r\n",
    "\r\n",
    "El <a href=\"https://es.wikipedia.org/wiki/Determinante_(matem%C3%A1tica)\">determinante</a> es un número especial que puede calcularse sobre las [matrices cuadradas](https://es.wikipedia.org/wiki/Matriz_cuadrada). Se calcula como la suma de los productos de las diagonales de la matriz en una dirección menos la suma de los productos de las diagonales en la otra dirección. El determinante de la matriz $A$ Se representa como $|A|$.\r\n",
    "\r\n",
    "$$A=\\begin{bmatrix}a_{11} & a_{12} & a_{13} & \\\\a_{21} & a_{22} & a_{23} & \\\\ a_{31} & a_{32} & a_{33} & \\end{bmatrix}$$\r\n",
    "\r\n",
    "$$|A| = \r\n",
    "     (a_{11} a_{22} a_{33} \r\n",
    "   + a_{12} a_{23} a_{31} \r\n",
    "   + a_{13} a_{21} a_{32} )\r\n",
    "   - (a_{31} a_{22} a_{13} \r\n",
    "   + a_{32} a_{23} a_{11} \r\n",
    "   + a_{33} a_{21} a_{12})\r\n",
    " $$\r\n",
    "\r\n",
    "A continuación se presentan algunas propiedades de la inversa. Para todos los ejemplos suponga que $A, B \\in \\mathbb{R}^{n\\times n}$$ son no singulares.\r\n",
    "- $(A^{-1})^{-1}=A$\r\n",
    "- $(AB)^{-1}=B^{-1}A^{-1}$\r\n",
    "- $(A^{-1})^\\intercal=(A^\\intercal)^{-1}$"
   ],
   "metadata": {}
  },
  {
   "cell_type": "code",
   "execution_count": 56,
   "source": [
    "# Multiplicar una matriz por la identidad nos da la misma matriz\r\n",
    "A = np.array([[4, 7],\r\n",
    "              [2, 6]])\r\n",
    "A"
   ],
   "outputs": [
    {
     "output_type": "execute_result",
     "data": {
      "text/plain": [
       "array([[4, 7],\n",
       "       [2, 6]])"
      ]
     },
     "metadata": {},
     "execution_count": 56
    }
   ],
   "metadata": {
    "jupyter": {
     "outputs_hidden": false
    }
   }
  },
  {
   "cell_type": "code",
   "execution_count": 57,
   "source": [
    "A.dot(I) # AxI = A"
   ],
   "outputs": [
    {
     "output_type": "execute_result",
     "data": {
      "text/plain": [
       "array([[4., 7.],\n",
       "       [2., 6.]])"
      ]
     },
     "metadata": {},
     "execution_count": 57
    }
   ],
   "metadata": {
    "jupyter": {
     "outputs_hidden": false
    }
   }
  },
  {
   "cell_type": "code",
   "execution_count": 58,
   "source": [
    "# Calculando el determinante de la matriz A\r\n",
    "np.linalg.det(A)"
   ],
   "outputs": [
    {
     "output_type": "execute_result",
     "data": {
      "text/plain": [
       "10.000000000000002"
      ]
     },
     "metadata": {},
     "execution_count": 58
    }
   ],
   "metadata": {
    "jupyter": {
     "outputs_hidden": false
    }
   }
  },
  {
   "cell_type": "code",
   "execution_count": 59,
   "source": [
    "# Haciendo los cálculos manualmente obtendríamos\r\n",
    "(4*6) - (7*2)"
   ],
   "outputs": [
    {
     "output_type": "execute_result",
     "data": {
      "text/plain": [
       "10"
      ]
     },
     "metadata": {},
     "execution_count": 59
    }
   ],
   "metadata": {}
  },
  {
   "cell_type": "code",
   "execution_count": 60,
   "source": [
    "# Calculando la inversa de A.\r\n",
    "A_inv = np.linalg.inv(A)\r\n",
    "A_inv"
   ],
   "outputs": [
    {
     "output_type": "execute_result",
     "data": {
      "text/plain": [
       "array([[ 0.6, -0.7],\n",
       "       [-0.2,  0.4]])"
      ]
     },
     "metadata": {},
     "execution_count": 60
    }
   ],
   "metadata": {
    "jupyter": {
     "outputs_hidden": false
    }
   }
  },
  {
   "cell_type": "code",
   "execution_count": 61,
   "source": [
    "# A x A_inv nos da como resultado I.\r\n",
    "A.dot(A_inv)"
   ],
   "outputs": [
    {
     "output_type": "execute_result",
     "data": {
      "text/plain": [
       "array([[ 1.00000000e+00, -1.11022302e-16],\n",
       "       [-1.11022302e-16,  1.00000000e+00]])"
      ]
     },
     "metadata": {},
     "execution_count": 61
    }
   ],
   "metadata": {
    "jupyter": {
     "outputs_hidden": false
    }
   }
  },
  {
   "cell_type": "markdown",
   "source": [
    "Por último, la [matriz transpuesta](http://es.wikipedia.org/wiki/Matriz_transpuesta) es aquella en que las filas se transforman en columnas y las columnas en filas. Se representa con el símbolo $A^\\intercal$\r\n",
    "\r\n",
    "$$\\begin{bmatrix}a & b & \\\\c & d & \\\\ e & f & \\end{bmatrix}^T:=\\begin{bmatrix}a & c & e &\\\\b & d & f & \\end{bmatrix}$$\r\n",
    "\r\n",
    "Ejemplos en [Python](http://python.org/):"
   ],
   "metadata": {}
  },
  {
   "cell_type": "code",
   "execution_count": 62,
   "source": [
    "# Trasponiendo una matriz\r\n",
    "A = np.arange(6).reshape(3, 2)\r\n",
    "A"
   ],
   "outputs": [
    {
     "output_type": "execute_result",
     "data": {
      "text/plain": [
       "array([[0, 1],\n",
       "       [2, 3],\n",
       "       [4, 5]])"
      ]
     },
     "metadata": {},
     "execution_count": 62
    }
   ],
   "metadata": {
    "jupyter": {
     "outputs_hidden": false
    }
   }
  },
  {
   "cell_type": "code",
   "execution_count": 63,
   "source": [
    "np.transpose(A)"
   ],
   "outputs": [
    {
     "output_type": "execute_result",
     "data": {
      "text/plain": [
       "array([[0, 2, 4],\n",
       "       [1, 3, 5]])"
      ]
     },
     "metadata": {},
     "execution_count": 63
    }
   ],
   "metadata": {
    "jupyter": {
     "outputs_hidden": false
    }
   }
  },
  {
   "cell_type": "markdown",
   "source": [
    "#### Traza\r\n",
    "La traza de una matriz cuadrada $A\\in \\mathbb{R}^{n\\times n}$ es la suma de los elementos de la diagonal de la matriz.\r\n",
    "\r\n",
    "$$tr(A)=\\sum_ {i=1}^n A_{ii}$$\r\n",
    "\r\n",
    "La traza cuenta con las siguientes propiedades:\r\n",
    "- Para $A\\in \\mathbb{R}^{n\\times n}$, $tr(A)=tr(A^\\intercal)$\r\n",
    "- Para $A,B \\in \\mathbb{R}^{n\\times n}$, $tr(A+B)=tr(A)+tr(B)$\r\n",
    "- Para $A \\in \\mathbb{R}^{n\\times n}$, $\\gamma \\in \\mathbb{R}$, $tr(\\gamma A)= \\gamma tr(A)$\r\n",
    "- Para $A, B$ tal que $AB$ sea una matriz cuadrada, $tr(AB)=tr(BA)$\r\n",
    "- Para $A, B, C$ tal que $ABC$ sea una matriz cuadrada, $tr(ABC)=tr(BCA)=tr(CAB)$. Esto sin perdida de generalidad para multiplicación de más matrices."
   ],
   "metadata": {}
  },
  {
   "cell_type": "markdown",
   "source": [
    "#### Norma de un vector\r\n",
    "La norma de un vector x (expresada como $||x||$) es una medida informal de la longitud del vector. Usalmente se utiliza la norma Euclideana o la norma $l_2$ la cual se define como:\r\n",
    "$$||x||_2= \\sqrt{\\sum_{i=1}^nx_i^2}$$ \r\n",
    "\r\n",
    "Note que $||x||_2^2=x^Tx$\r\n",
    "\r\n",
    "Más formalmente, decimos que una norma es una función $f: \\mathbb{R}^n \\rightarrow \\mathbb{R}$ que satisface las siguientes cuatro propiedades:\r\n",
    "1. **No negativa.** Para todo $x\\in\\mathbb{R}^n,\\ f(x)\\geq0$.\r\n",
    "2. **Definida.** $f(x)=0$ si y solo si $x=0$.\r\n",
    "3. **Homogeneidad.** Para todo $x\\in\\mathbb{R}^n,\\ c\\in\\mathbb{R},\\ f(cx)=|c|f(x)$\r\n",
    "4. **Desigualdad triangular.** Para todo $x, y \\in\\mathbb{R}^n,\\ f(x+y)\\leq f(x) + f(y)$\r\n",
    "\r\n",
    "Otro ejemplo de norma es la norma $l_1$:\r\n",
    "\r\n",
    "$$||x||_1= |\\sum_{i=1}^nx_i^2|$$"
   ],
   "metadata": {}
  },
  {
   "cell_type": "markdown",
   "source": [
    "#### Eigenvalores y eigenvectores\r\n",
    "Para una matriz cuadrada $A\\in \\mathbb{R}^{n\\times n}$, decimos que $\\lambda \\in \\mathbb{C}$ es un **[eigenvalor](https://es.wikipedia.org/wiki/Vector,_valor_y_espacio_propios)** de $A$ y $x\\in \\mathbb{C}^n$ es el **[eigenvector](https://es.wikipedia.org/wiki/Vector,_valor_y_espacio_propios)** (o vector propio) asociado si:\r\n",
    "$$Ax=\\lambda x,\\ x \\neq 0$$\r\n",
    "\r\n",
    "Intuitivamente esta definición nos dice que si multiplicamos la matriz $A$ por un vector $x$ el resultado es un nuevo vector que apunta hacia la misma dirección que $x$, pero escalado por un factor de $\\lambda$. Las transformaciones lineales en el espacio $\\mathbb{R}^2$ son la rotación, la reflexión, el escalado uniforme y la proyección sobre una recta. Por tal motivo, una aplicación inmediata de este tópico se halla en la transformación de imágenes digitales.\r\n",
    "\r\n",
    "Note que para cualquier eigenvector $x\\in \\mathbb{C}^n$ y escalar $c \\in \\mathbb{C}$, $A(cx)=cAx=c\\lambda x = \\lambda (cx)$, por lo que $cx$ también es un eigenvector. Por tal motivo, para evitar tener infinitos eigenvectores, decimos que existe \"el\" eigenvector asociado a $\\lambda$ y este está normalizado para tener norma 1. (Esto todavía nos genera una ambiguedad pues $x$ y $-x$ son ambos eigenvectores, pero debemos convivir con ello).\r\n",
    "\r\n",
    "Podemos re escribir la expresión $Ax=\\lambda x,\\ x \\neq 0$ como:\r\n",
    "\r\n",
    "$$(\\lambda I - A)x=0,\\ x \\neq 0$$\r\n",
    "\r\n",
    "En donde, $(\\lambda I - A)x=0$ tiene una solución no trivial para $x$ solo si $(\\lambda I - A)$ no es un espacio nulo, lo cual es lo mismo que $(\\lambda I - A)$ sea singular, es decir:\r\n",
    "\r\n",
    "$$|(\\lambda I - A)|=0$$\r\n",
    "\r\n",
    "Aquí podemos usar la definición del determinante para expandir la expresión pasada en un polinomio de $\\lambda$, en donde $\\lambda$ tendrá grado $n$. A esto usualmente se le llama el polinomio característico de la matriz $A$.\r\n",
    "\r\n",
    "Debemos encontrar las $n$ raíces del polinomio característico. Las denotaremos como $\\lambda_1, \\lambda_2, \\cdots, \\lambda_n$. Cada uno de estos valores será un eigenvalor de la matriz $A$.\r\n",
    "\r\n",
    "Para encontrar el eigenvector correspondiente al eigenvalor $\\lambda_i$ se debe solucionar el sistema de ecuaciones lineal $(\\lambda_i I - A)x=0$. Aquí sabemos que tendremos una solución diferente a la trivial pues $\\lambda_i I - A$ es singular (sin embargo podrían haber varias o infinitas soluciones).\r\n",
    "\r\n",
    "A continuación se presentan algunas propiedades de los eigenvalores y los eigenvectores. Para todos los casos suponga que $A\\in\\mathbb{R}^{n\\times n} tiene $\\lambda_i, \\cdots, \\lambda_n$ eigenvalores):\r\n",
    "- La traza de $A$ es igual a la suma de los eigenvalores.\r\n",
    "$$tr(A)=\\sum_{i=1}^n\\lambda_i$$\r\n",
    "- El determinante de $A$ es igual al producto de los eigenvalores:\r\n",
    "$$|A|=\\prod_{i=1}^n\\lambda_i$$\r\n",
    "- El rango de $A$ es igual al número de eigenvalores de $A$ diferentes de cero.\r\n",
    "- Suponga que $A$ es no singular con eigenvalor $\\lambda$ y un eigenvector asociado $x$. Entonces $1/\\lambda$ es un eigenvalor de $A^{-1}$ con eigenvector asociado $x$. $A^{-1}x=(1/\\lambda)x$.\r\n",
    "- Los eigenvalores de una matriz diagonal $D=diag(d_1, d_2, \\cdots, d_n)$ son los elementos de la diagonal $d_1, d_2, \\cdots, d_n$."
   ],
   "metadata": {}
  },
  {
   "cell_type": "code",
   "execution_count": 65,
   "source": [
    "# Aunque calcular los eigenvalores y los eigenvectores con papel y lapiz puede ser tedioso\r\n",
    "# En Python solo necesitamos de la función eig del modulo linalg del paquete Numpy.\r\n",
    "from numpy.linalg import eig\r\n",
    "a = np.array([[1, 2], \r\n",
    "              [2, 9]])\r\n",
    "w,v=eig(a)\r\n",
    "print('Eigenvalores:', w)\r\n",
    "print('Eigenvectores', v)"
   ],
   "outputs": [
    {
     "output_type": "stream",
     "name": "stdout",
     "text": [
      "Eigenvalores: [0.52786405 9.47213595]\n",
      "Eigenvectores [[-0.97324899 -0.22975292]\n",
      " [ 0.22975292 -0.97324899]]\n"
     ]
    }
   ],
   "metadata": {}
  },
  {
   "cell_type": "code",
   "execution_count": 66,
   "source": [
    "a = np.array([[4, 2, 1], \r\n",
    "              [7, 5, 5],\r\n",
    "              [2, 8, 0]])\r\n",
    "w,v=eig(a)\r\n",
    "print('Eigenvalores:', w)\r\n",
    "print('Eigenvectores', v)"
   ],
   "outputs": [
    {
     "output_type": "stream",
     "name": "stdout",
     "text": [
      "Eigenvalores: [11.43008584  1.89947784 -4.32956368]\n",
      "Eigenvectores [[ 0.28344454  0.64079241  0.00924407]\n",
      " [ 0.7616636  -0.32530671 -0.47772887]\n",
      " [ 0.5826901  -0.69538524  0.87845869]]\n"
     ]
    }
   ],
   "metadata": {}
  }
 ],
 "metadata": {
  "interpreter": {
   "hash": "8fac594bfae6525c0c41b4041d2d72effa188cc8ead05f81b1fab2bb098927fb"
  },
  "kernelspec": {
   "name": "python3",
   "display_name": "Python 3.8.5 64-bit ('base': conda)"
  },
  "language_info": {
   "codemirror_mode": {
    "name": "ipython",
    "version": 3
   },
   "file_extension": ".py",
   "mimetype": "text/x-python",
   "name": "python",
   "nbconvert_exporter": "python",
   "pygments_lexer": "ipython3",
   "version": "3.8.5"
  }
 },
 "nbformat": 4,
 "nbformat_minor": 4
}