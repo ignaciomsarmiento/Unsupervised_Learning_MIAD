{
 "cells": [
  {
   "cell_type": "code",
   "execution_count": 1,
   "id": "fa948de2",
   "metadata": {},
   "outputs": [],
   "source": [
    "#Cargamos las librerías a utilizar\n",
    "import pandas as pd\n",
    "import numpy as np\n",
    "from scipy.linalg import svd\n",
    "\n",
    "\n"
   ]
  },
  {
   "cell_type": "code",
   "execution_count": 29,
   "id": "38315d43",
   "metadata": {},
   "outputs": [
    {
     "data": {
      "text/plain": [
       "[[1, 0, 1, 0], [0, 1, 0, 1]]"
      ]
     },
     "execution_count": 29,
     "metadata": {},
     "output_type": "execute_result"
    }
   ],
   "source": [
    "X=  [[1,0,1,0],  \n",
    "    [0,1,0,1]]  \n",
    "X\n"
   ]
  },
  {
   "cell_type": "code",
   "execution_count": 30,
   "id": "ff169f7a",
   "metadata": {},
   "outputs": [
    {
     "data": {
      "text/plain": [
       "array([[1., 0.],\n",
       "       [0., 1.]])"
      ]
     },
     "execution_count": 30,
     "metadata": {},
     "output_type": "execute_result"
    }
   ],
   "source": [
    "U, S, Vt = svd(X)\n",
    "U "
   ]
  },
  {
   "cell_type": "code",
   "execution_count": 31,
   "id": "93f7dd02",
   "metadata": {},
   "outputs": [
    {
     "data": {
      "text/plain": [
       "array([1.41421356, 1.41421356])"
      ]
     },
     "execution_count": 31,
     "metadata": {},
     "output_type": "execute_result"
    }
   ],
   "source": [
    "S"
   ]
  },
  {
   "cell_type": "code",
   "execution_count": 5,
   "id": "bfa965fc",
   "metadata": {},
   "outputs": [
    {
     "data": {
      "text/plain": [
       "array([[ 0.70710678,  0.        ,  0.70710678,  0.        ],\n",
       "       [ 0.        ,  0.70710678,  0.        ,  0.70710678],\n",
       "       [-0.70710678,  0.        ,  0.70710678,  0.        ],\n",
       "       [ 0.        , -0.70710678,  0.        ,  0.70710678]])"
      ]
     },
     "execution_count": 5,
     "metadata": {},
     "output_type": "execute_result"
    }
   ],
   "source": [
    "Vt"
   ]
  },
  {
   "cell_type": "code",
   "execution_count": 6,
   "id": "9499754c",
   "metadata": {},
   "outputs": [
    {
     "data": {
      "text/plain": [
       "array([[1.41421356, 0.        , 0.        , 0.        ],\n",
       "       [0.        , 1.41421356, 0.        , 0.        ]])"
      ]
     },
     "execution_count": 6,
     "metadata": {},
     "output_type": "execute_result"
    }
   ],
   "source": [
    "S= np.resize(S,[2,1])*np.eye(2,4)\n",
    "S"
   ]
  },
  {
   "cell_type": "code",
   "execution_count": 17,
   "id": "668a5319",
   "metadata": {},
   "outputs": [],
   "source": [
    "US=np.dot(U,S)"
   ]
  },
  {
   "cell_type": "code",
   "execution_count": 18,
   "id": "c315961e",
   "metadata": {},
   "outputs": [
    {
     "data": {
      "text/plain": [
       "array([[1., 0., 1., 0.],\n",
       "       [0., 1., 0., 1.]])"
      ]
     },
     "execution_count": 18,
     "metadata": {},
     "output_type": "execute_result"
    }
   ],
   "source": [
    "USV=np.dot(np.dot(U,S),Vt)\n",
    "USV"
   ]
  },
  {
   "cell_type": "code",
   "execution_count": 19,
   "id": "132cd4a5",
   "metadata": {},
   "outputs": [
    {
     "data": {
      "text/plain": [
       "array([[1.41421356, 0.        , 0.        , 0.        ],\n",
       "       [0.        , 1.41421356, 0.        , 0.        ]])"
      ]
     },
     "execution_count": 19,
     "metadata": {},
     "output_type": "execute_result"
    }
   ],
   "source": [
    "np.dot(U,S)"
   ]
  },
  {
   "cell_type": "code",
   "execution_count": 20,
   "id": "e368542d",
   "metadata": {},
   "outputs": [
    {
     "data": {
      "text/plain": [
       "array([[1., 0., 1., 0.],\n",
       "       [0., 1., 0., 1.]])"
      ]
     },
     "execution_count": 20,
     "metadata": {},
     "output_type": "execute_result"
    }
   ],
   "source": [
    "np.dot(S,Vt)"
   ]
  },
  {
   "cell_type": "code",
   "execution_count": 15,
   "id": "619914e9",
   "metadata": {},
   "outputs": [
    {
     "data": {
      "text/plain": [
       "1.4142135623730951"
      ]
     },
     "execution_count": 15,
     "metadata": {},
     "output_type": "execute_result"
    }
   ],
   "source": [
    "np.sqrt(2)"
   ]
  },
  {
   "cell_type": "code",
   "execution_count": 22,
   "id": "f1d17375",
   "metadata": {},
   "outputs": [
    {
     "data": {
      "text/plain": [
       "[[1, 2], [2, 1]]"
      ]
     },
     "execution_count": 22,
     "metadata": {},
     "output_type": "execute_result"
    }
   ],
   "source": [
    "A=[[1, 2],[2,1]]\n",
    "A"
   ]
  },
  {
   "cell_type": "code",
   "execution_count": 24,
   "id": "12e526b8",
   "metadata": {},
   "outputs": [
    {
     "data": {
      "text/plain": [
       "array([3., 1.])"
      ]
     },
     "execution_count": 24,
     "metadata": {},
     "output_type": "execute_result"
    }
   ],
   "source": [
    "U, S, Vt = svd(A)\n",
    "S"
   ]
  },
  {
   "cell_type": "code",
   "execution_count": 32,
   "id": "a431ba62",
   "metadata": {},
   "outputs": [
    {
     "data": {
      "text/plain": [
       "array([2., 0., 2., 0.])"
      ]
     },
     "execution_count": 32,
     "metadata": {},
     "output_type": "execute_result"
    }
   ],
   "source": [
    "XtX=np.transpose(A).dot(A)\n",
    "eig_val, eig_vec = np.linalg.eig(XtX)\n",
    "eig_val"
   ]
  }
 ],
 "metadata": {
  "kernelspec": {
   "display_name": "Python 3",
   "language": "python",
   "name": "python3"
  },
  "language_info": {
   "codemirror_mode": {
    "name": "ipython",
    "version": 3
   },
   "file_extension": ".py",
   "mimetype": "text/x-python",
   "name": "python",
   "nbconvert_exporter": "python",
   "pygments_lexer": "ipython3",
   "version": "3.7.6"
  },
  "toc": {
   "base_numbering": 1,
   "nav_menu": {},
   "number_sections": true,
   "sideBar": true,
   "skip_h1_title": false,
   "title_cell": "Table of Contents",
   "title_sidebar": "Contents",
   "toc_cell": false,
   "toc_position": {},
   "toc_section_display": true,
   "toc_window_display": false
  }
 },
 "nbformat": 4,
 "nbformat_minor": 5
}
