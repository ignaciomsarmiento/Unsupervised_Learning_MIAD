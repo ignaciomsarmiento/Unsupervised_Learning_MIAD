{
 "cells": [
  {
   "cell_type": "code",
   "execution_count": 2,
   "id": "5ef7a4de",
   "metadata": {},
   "outputs": [],
   "source": [
    "import matplotlib.pyplot as plt\n",
    "\n",
    "from sklearn.model_selection import train_test_split\n",
    "from sklearn.datasets import fetch_lfw_people\n",
    "from sklearn.metrics import classification_report\n",
    "from sklearn.decomposition import PCA\n",
    "from sklearn.neural_network import MLPClassifier\n",
    "\n",
    "\n",
    "# Load data\n",
    "lfw_dataset = fetch_lfw_people(min_faces_per_person=25)\n",
    "\n",
    "_, h, w = lfw_dataset.images.shape\n",
    "X = lfw_dataset.data\n",
    "y = lfw_dataset.target\n",
    "target_names = lfw_dataset.target_names"
   ]
  },
  {
   "cell_type": "code",
   "execution_count": 3,
   "id": "d1a3be5a",
   "metadata": {},
   "outputs": [
    {
     "data": {
      "text/plain": [
       "array(['Alejandro Toledo', 'Alvaro Uribe', 'Andre Agassi', 'Ariel Sharon',\n",
       "       'Arnold Schwarzenegger', 'Bill Clinton', 'Colin Powell',\n",
       "       'David Beckham', 'Donald Rumsfeld', 'George W Bush',\n",
       "       'Gerhard Schroeder', 'Gloria Macapagal Arroyo', 'Gray Davis',\n",
       "       'Guillermo Coria', 'Hans Blix', 'Hugo Chavez', 'Jack Straw',\n",
       "       'Jacques Chirac', 'Jean Chretien', 'Jennifer Capriati',\n",
       "       'John Ashcroft', 'John Negroponte', 'Juan Carlos Ferrero',\n",
       "       'Junichiro Koizumi', 'Kofi Annan', 'Laura Bush', 'Lleyton Hewitt',\n",
       "       'Luiz Inacio Lula da Silva', 'Mahmoud Abbas',\n",
       "       'Megawati Sukarnoputri', 'Nestor Kirchner', 'Recep Tayyip Erdogan',\n",
       "       'Ricardo Lagos', 'Roh Moo-hyun', 'Rudolph Giuliani',\n",
       "       'Serena Williams', 'Silvio Berlusconi', 'Tom Daschle', 'Tom Ridge',\n",
       "       'Tony Blair', 'Vicente Fox', 'Vladimir Putin'], dtype='<U25')"
      ]
     },
     "execution_count": 3,
     "metadata": {},
     "output_type": "execute_result"
    }
   ],
   "source": [
    "target_names"
   ]
  },
  {
   "cell_type": "code",
   "execution_count": 2,
   "id": "a1763368",
   "metadata": {},
   "outputs": [
    {
     "data": {
      "text/plain": [
       "62"
      ]
     },
     "execution_count": 2,
     "metadata": {},
     "output_type": "execute_result"
    }
   ],
   "source": [
    "h"
   ]
  },
  {
   "cell_type": "code",
   "execution_count": 3,
   "id": "c15ee02a",
   "metadata": {},
   "outputs": [
    {
     "data": {
      "text/plain": [
       "47"
      ]
     },
     "execution_count": 3,
     "metadata": {},
     "output_type": "execute_result"
    }
   ],
   "source": [
    "w"
   ]
  }
 ],
 "metadata": {
  "kernelspec": {
   "display_name": "Python 3",
   "language": "python",
   "name": "python3"
  },
  "language_info": {
   "codemirror_mode": {
    "name": "ipython",
    "version": 3
   },
   "file_extension": ".py",
   "mimetype": "text/x-python",
   "name": "python",
   "nbconvert_exporter": "python",
   "pygments_lexer": "ipython3",
   "version": "3.7.6"
  },
  "toc": {
   "base_numbering": 1,
   "nav_menu": {},
   "number_sections": true,
   "sideBar": true,
   "skip_h1_title": false,
   "title_cell": "Table of Contents",
   "title_sidebar": "Contents",
   "toc_cell": false,
   "toc_position": {},
   "toc_section_display": true,
   "toc_window_display": false
  }
 },
 "nbformat": 4,
 "nbformat_minor": 5
}
