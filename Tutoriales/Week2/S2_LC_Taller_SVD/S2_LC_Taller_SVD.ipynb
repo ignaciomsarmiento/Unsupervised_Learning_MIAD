{
 "cells": [
  {
   "cell_type": "markdown",
   "id": "324abfa0",
   "metadata": {},
   "source": [
    "<div >\n",
    "<img src = \"figs/ans_banner_1920x200.png\" />\n",
    "</div>"
   ]
  },
  {
   "cell_type": "markdown",
   "id": "9f061327",
   "metadata": {},
   "source": [
    "# Caso-taller:  SVD en reconocimiento facial\n",
    "\n",
    "En este caso-taller vamos a aplicar SVD para hacer reconomciento facial. Esta aplicación se conoce como caras propias, o eigenfaces en inglés, y si bien es una forma rudimentaria de reconocimiento facial sus resultados pueden ser muy interesantes. El problema de las caras propias fue estudiado por primera vez por Sirovich y Kirby en 1987, ampliado en 1990 y su aplicación al reconocimiento facial automatizado fue presentado por Turk and Pentland en 1991.\n",
    "\n",
    "En este taller vamos a utilizar la base de datos conocida como Caras Etiquetadas en la Naturaleza, o Labeled Faces in the Wild (LFW). Esta base es provista por la Universidad de Massachusetts Amherst para que la comunidad académica la utilice para la evaluación de modelos predictivos.\n",
    "\n",
    "La base contiene más de 13.000 imágenes de rostros recopilados de la web y cada cara ha sido etiquetada con el nombre de la persona representada. Un subconjunto de 1.680 de las personas fotografiadas tienen dos o más fotos distintas en el conjunto de datos. \n",
    "\n",
    "\n",
    " \n",
    "#### Referencias\n",
    "\n",
    "- G. B. Huang,  M. Ramesh, T. Berg, and E. Learned-Miller. Labeled Faces in the Wild: A Database for Studying Face Recognition in Unconstrained Environments. University of Massachusetts, Amherst, Technical Report 07-49, October, 2007.\n",
    "\n",
    "- M. Kirby and L. Sirovich. Application of the Karhunen-Loève procedure for the characterization of human faces. IEEE Transactions on Pattern Analysis and Machine Intelligence (PAMI), 12(1):103–108, 1990.\n",
    "\n",
    "- L. Sirovich and M. Kirby. A low-dimensional procedure for the characterization of human faces. Journal of the Optical Society of America A, 4(3):519–524, 1987\n",
    "\n",
    "- M. Turk and A. Pentland. Eigenfaces for recognition. Journal of Cognitive Neuroscience, 3(1):71–86, 1991."
   ]
  },
  {
   "cell_type": "markdown",
   "id": "bb60c9f9",
   "metadata": {},
   "source": [
    "## Instrucciones generales\n",
    "\n",
    "1. Para desarrollar el *cuaderno* primero debe descargarlo.\n",
    "\n",
    "2. Para responder cada inciso deberá utilizar el espacio debidamente especificado.\n",
    "\n",
    "3. La actividad será calificada sólo si sube el *cuaderno* de jupyter notebook con extensión `.ipynb` en la actividad designada como \"entrega calificada por el personal\".\n",
    "\n",
    "4. El archivo entregado debe poder ser ejecutado localmente por el tutor. Sea cuidadoso con la especificación de la ubicación de los archivos de soporte, guarde la carpeta de datos  en la misma ruta de acceso del cuaderno, por ejemplo: `data`."
   ]
  },
  {
   "cell_type": "markdown",
   "id": "c5f610f0",
   "metadata": {},
   "source": [
    "## Desarrollo\n"
   ]
  },
  {
   "cell_type": "markdown",
   "id": "a63d4028",
   "metadata": {},
   "source": [
    "### 1. Carga de datos \n",
    "\n",
    "Los datos pueden ser descargados directamente utilizando la librería `scikit-learn`, para ello carge la base utilizando la función `fetch_lfw_people`. Esta función verificará si los datos están disponibles. De no estarlo, `scikit-learn` los descargará automáticamente desde el sitio web de la Universidad de Massachusetts. Descargue las imágenes para individuos que tengan al menos 25 imágenes y guardelos en una carpeta llamada `datos` usando esta función."
   ]
  },
  {
   "cell_type": "code",
   "execution_count": 1,
   "id": "1c6b5196",
   "metadata": {},
   "outputs": [],
   "source": [
    "# Utilice este espacio para escribir el código."
   ]
  },
  {
   "cell_type": "markdown",
   "id": "beea8d29",
   "metadata": {},
   "source": [
    "(Utilice este espacio para describir su procedimiento."
   ]
  },
  {
   "cell_type": "markdown",
   "id": "ba2f6035",
   "metadata": {},
   "source": [
    "### 2.  Análisis preliminar \n",
    "\n",
    "Describa los contenidos de la base, tenga en cuenta que debe detallar los elementos, la dimensión de la base, y la dimensión de las imágenes. "
   ]
  },
  {
   "cell_type": "code",
   "execution_count": 2,
   "id": "12347b88",
   "metadata": {},
   "outputs": [],
   "source": [
    "# Utilice este espacio para escribir el código."
   ]
  },
  {
   "cell_type": "markdown",
   "id": "73ed12a8",
   "metadata": {},
   "source": [
    "(Utilice este espacio para describir el procedimiento, análisis y conclusiones)."
   ]
  },
  {
   "cell_type": "markdown",
   "id": "8a68d786",
   "metadata": {},
   "source": [
    "A continuación responda las siguientes preguntas: \n",
    "\n",
    "- ¿Quiénes son los individuos que tienen al menos 25 imágenes?"
   ]
  },
  {
   "cell_type": "code",
   "execution_count": 3,
   "id": "fb5dd933",
   "metadata": {},
   "outputs": [],
   "source": [
    "# Utilice este espacio para escribir el código."
   ]
  },
  {
   "cell_type": "markdown",
   "id": "41f94871",
   "metadata": {},
   "source": [
    "(Utilice este espacio para describir el procedimiento, análisis y conclusiones)."
   ]
  },
  {
   "cell_type": "markdown",
   "id": "a9b1e512",
   "metadata": {},
   "source": [
    "- ¿Cuál es la distribución de imágenes por individuos? "
   ]
  },
  {
   "cell_type": "code",
   "execution_count": 4,
   "id": "e15ec38a",
   "metadata": {},
   "outputs": [],
   "source": [
    "# Utilice este espacio para escribir el código."
   ]
  },
  {
   "cell_type": "markdown",
   "id": "c19b3356",
   "metadata": {},
   "source": [
    "(Utilice este espacio para describir el procedimiento, análisis y conclusiones)."
   ]
  },
  {
   "cell_type": "markdown",
   "id": "60e9ce6e",
   "metadata": {},
   "source": [
    "- ¿Quién es el individuo con más imágenes en la base? "
   ]
  },
  {
   "cell_type": "code",
   "execution_count": 5,
   "id": "3c50870d",
   "metadata": {},
   "outputs": [],
   "source": [
    "# Utilice este espacio para escribir el código."
   ]
  },
  {
   "cell_type": "markdown",
   "id": "b3d42ef7",
   "metadata": {},
   "source": [
    "(Utilice este espacio para describir el procedimiento, análisis y conclusiones)."
   ]
  },
  {
   "cell_type": "markdown",
   "id": "28ad4f43",
   "metadata": {},
   "source": [
    "- Grafique las imágenes de los individuos latinoamericanos presentes en la base. "
   ]
  },
  {
   "cell_type": "code",
   "execution_count": 6,
   "id": "0a22c4f9",
   "metadata": {},
   "outputs": [],
   "source": [
    "# Utilice este espacio para escribir el código."
   ]
  },
  {
   "cell_type": "markdown",
   "id": "bcab062a",
   "metadata": {},
   "source": [
    "(Utilice este espacio para describir el procedimiento y describir brevemente quienes son)."
   ]
  },
  {
   "cell_type": "markdown",
   "id": "b71c4dac",
   "metadata": {},
   "source": [
    "### 3.  Reconociendo rostros\n",
    "\n",
    "Como pudo notar en el punto anterior las imágenes son altamente dimensionales y esto puede generar problemas para el reconocimiento facial. Sin embargo, se pueden lograr mejoras significativas en el reconocimiento reduciendo el espacio de los datos a uno de menor dimensión. La pregunta entonces que buscaremos responder es: ¿cómo encontrar este espacio de menor dimensión? La respuesta a esta pregunta son las eigenfaces.\n",
    "\n",
    "La idea principal detrás de eigenfaces es la siguiente. Supongamos que $\\theta$ es un $N^2\\times1$ vector que corresponde a la imagen de la cara I de dimensión $N\\times N$. Entonces la idea es representar $\\Phi= \\theta- rostro\\, promedio$ en un espacio de dimensión menor. \n"
   ]
  },
  {
   "cell_type": "markdown",
   "id": "e4a8c8a4",
   "metadata": {},
   "source": [
    "#### 3.1. Rostro promedio. \n",
    "\n",
    " Encuentre el rostro promedio, para ello calcule la media por columnas o la media por píxel y grafíquelo."
   ]
  },
  {
   "cell_type": "code",
   "execution_count": 7,
   "id": "56ef62f2",
   "metadata": {},
   "outputs": [],
   "source": [
    "# Utilice este espacio para escribir el código."
   ]
  },
  {
   "cell_type": "markdown",
   "id": "04d8a7e2",
   "metadata": {},
   "source": [
    "(Utilice este espacio para describir el procedimiento, análisis y conclusiones)."
   ]
  },
  {
   "cell_type": "markdown",
   "id": "361ae8f0",
   "metadata": {},
   "source": [
    "#### 3.2. Reste el rostro promedio.\n",
    "\n",
    "A cada una de las imágenes substraigale el rostro promedio."
   ]
  },
  {
   "cell_type": "code",
   "execution_count": 8,
   "id": "ac098dd3",
   "metadata": {},
   "outputs": [],
   "source": [
    "# Utilice este espacio para escribir el código."
   ]
  },
  {
   "cell_type": "markdown",
   "id": "18066183",
   "metadata": {},
   "source": [
    "(Utilice este espacio para describir el procedimiento, análisis y conclusiones)."
   ]
  },
  {
   "cell_type": "markdown",
   "id": "5d1af2d7",
   "metadata": {},
   "source": [
    "#### 3.3. Descomposición en Valores Singulares \n",
    "\n",
    "Aplique la Descomposición en Valores Singulares a estas nuevas imágenes y retenga solo $K$ eigen vectores que mejor representen las imágenes. Justifique su elección."
   ]
  },
  {
   "cell_type": "code",
   "execution_count": 9,
   "id": "926d4ebb",
   "metadata": {},
   "outputs": [],
   "source": [
    "# Utilice este espacio para escribir el código."
   ]
  },
  {
   "cell_type": "markdown",
   "id": "02ce5f15",
   "metadata": {},
   "source": [
    "(Utilice este espacio para describir el procedimiento, análisis y conclusiones)."
   ]
  },
  {
   "cell_type": "markdown",
   "id": "ddb48461",
   "metadata": {},
   "source": [
    "#### 3.4. Representando los rostros en las bases\n",
    "\n",
    "Cada rostro (menos el rostro promedio) puede ser representado como la combinación lineal de los K  eigen vectores  retenidos en el punto anterior. Para los rostros de Arnold Schwarzenegger y Serena Williams muestre que esto es posible."
   ]
  },
  {
   "cell_type": "code",
   "execution_count": 10,
   "id": "985ba369",
   "metadata": {},
   "outputs": [],
   "source": [
    "# Utilice este espacio para escribir el código."
   ]
  },
  {
   "cell_type": "markdown",
   "id": "10f56f4d",
   "metadata": {},
   "source": [
    "(Utilice este espacio para describir el procedimiento, análisis y conclusiones)."
   ]
  },
  {
   "cell_type": "markdown",
   "id": "696cff6e",
   "metadata": {},
   "source": [
    "### 4. Uniendo Aprendizaje No Supervisado y Supervisado\n",
    "\n",
    "Dado que cada rostro puede ser representado como la combinación lineal de los eigen vectores, esto sugiere que pueden servir de insumo para un algoritmo de clasificación de aprendizaje supervizado. En este sección del taller haremos esto."
   ]
  },
  {
   "cell_type": "markdown",
   "id": "21b81d50",
   "metadata": {},
   "source": [
    "#### 4.1. Bases de Entrenamiento y Prueba.\n",
    "\n",
    "Divida la base utilizada anteriormente en dos: 80% de la base de imágenes asignelas a la base de entrenamiento y el 20% restante a la de prueba. Los predictores en este caso son las imágenes, y las variables de respuesta los nombres de quienes aparecen en estas imágenes."
   ]
  },
  {
   "cell_type": "code",
   "execution_count": 11,
   "id": "f1262a7d",
   "metadata": {},
   "outputs": [],
   "source": [
    "# Utilice este espacio para escribir el código."
   ]
  },
  {
   "cell_type": "markdown",
   "id": "93542feb",
   "metadata": {},
   "source": [
    "(Utilice este espacio para describir el procedimiento, análisis y conclusiones)."
   ]
  },
  {
   "cell_type": "markdown",
   "id": "38948e97",
   "metadata": {},
   "source": [
    "#### 4.2. Preprocesamiento\n",
    "\n",
    "Para la base de entrenamiento encuentre el número óptimo de valores singulares, y dado este número reduzca la dimensión de su base de prueba. Justifique siempre sus elecciones y respuestas."
   ]
  },
  {
   "cell_type": "code",
   "execution_count": 12,
   "id": "89a277e3",
   "metadata": {},
   "outputs": [],
   "source": [
    "# Utilice este espacio para escribir el código."
   ]
  },
  {
   "cell_type": "markdown",
   "id": "378571f1",
   "metadata": {},
   "source": [
    "(Utilice este espacio para describir el procedimiento, análisis y conclusiones)."
   ]
  },
  {
   "cell_type": "markdown",
   "id": "9308fe8f",
   "metadata": {},
   "source": [
    "#### 4.3. Estimación de modelo de aprendizaje supervisado\n",
    "\n",
    "Con estas bases preprocesadas ajuste un modelo de clasificación usando support-vector-machines y evalué el desempeño en su base de prueba. No olvide mencionar qué medida de desempeño está utilizando para evaluar su estimación."
   ]
  },
  {
   "cell_type": "code",
   "execution_count": 13,
   "id": "1ed4216c",
   "metadata": {},
   "outputs": [],
   "source": [
    "# Utilice este espacio para escribir el código."
   ]
  },
  {
   "cell_type": "markdown",
   "id": "7c169272",
   "metadata": {},
   "source": [
    "(Utilice este espacio para describir el procedimiento, análisis y conclusiones)."
   ]
  },
  {
   "cell_type": "markdown",
   "id": "b108aba7",
   "metadata": {},
   "source": [
    "#### 4.4. Mejorando el Ajuste\n",
    "\n",
    "Construya ahora su propio algoritmo para hacer la clasificación. Primero calcule los valores singulares, y después realice un proceso de selección secuencial de valores singulares que permita encontrar el mejor modelo sobre la muestra de entrenamiento. Una vez encontrado el mejor modelo, evalue en la muestra de prueba.  Compare y discuta esta forma de elegir el número de variables con aquella utilizada en 4.2 y 4.3. "
   ]
  },
  {
   "cell_type": "code",
   "execution_count": 14,
   "id": "aa30172e",
   "metadata": {},
   "outputs": [],
   "source": [
    "# Utilice este espacio para escribir el código."
   ]
  },
  {
   "cell_type": "markdown",
   "id": "ae3ced3b",
   "metadata": {},
   "source": [
    "(Utilice este espacio para describir el procedimiento, análisis y conclusiones)."
   ]
  }
 ],
 "metadata": {
  "kernelspec": {
   "display_name": "Python 3",
   "language": "python",
   "name": "python3"
  },
  "language_info": {
   "codemirror_mode": {
    "name": "ipython",
    "version": 3
   },
   "file_extension": ".py",
   "mimetype": "text/x-python",
   "name": "python",
   "nbconvert_exporter": "python",
   "pygments_lexer": "ipython3",
   "version": "3.7.6"
  },
  "toc": {
   "base_numbering": 1,
   "nav_menu": {},
   "number_sections": true,
   "sideBar": true,
   "skip_h1_title": false,
   "title_cell": "Table of Contents",
   "title_sidebar": "Contents",
   "toc_cell": false,
   "toc_position": {},
   "toc_section_display": true,
   "toc_window_display": false
  }
 },
 "nbformat": 4,
 "nbformat_minor": 5
}
