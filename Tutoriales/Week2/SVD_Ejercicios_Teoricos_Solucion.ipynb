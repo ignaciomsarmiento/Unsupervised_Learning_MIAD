{
 "cells": [
  {
   "cell_type": "markdown",
   "metadata": {},
   "source": [
    "--- \n",
    "<center>\n",
    "<h3> ESPACIO PARA BANNER DE LA MAESTRIA </h3> \n",
    "</center>\n",
    "\n",
    "---"
   ]
  },
  {
   "cell_type": "markdown",
   "metadata": {},
   "source": [
    "## Ejercicios teóricos\n",
    "# Descomposición en Valores Singulares"
   ]
  },
  {
   "cell_type": "markdown",
   "metadata": {},
   "source": [
    "1. Demuestre que la Descomposición en Valores Singulares encuentra la dirección para la cual la matriz original estira más el vector unitario. Parta de la siguiente expresión:\n",
    "$$\\argmax_{x:||x||=1} ||Bx||$$\n",
    "2. $B$ es una matriz cuadrada de tamaño $m\\times m$ la cual sus filas son ortonormales. Demuestre que las columnas de $B$ también son ortonormales.\n",
    "3. Suponga que $C$ es una matriz cuadrada invertible y que la Descomposición en Valores Singulares de $C$ es $C=\\sum_i \\sigma_i u_i v_i^T$. Encuentre la inversa de $C$.\n",
    "4. Encuentre la DVS o SVD de la matriz $A$, $U\\Sigma V^T$, en donde $A = \\begin{bmatrix} 3 & 2 & 2 \\\\ 2 & 3 & -2 \\end{bmatrix}$\n",
    "5. Demuestre que los vectores singulares izquierdos de una matriz $D$ son los vectores singulares derechos de $D^T$\n",
    "\n",
    "---"
   ]
  },
  {
   "cell_type": "markdown",
   "metadata": {},
   "source": [
    "---\n",
    "### Solución punto 1.\n",
    "Cambiemos el problema inicial a partir de elevar al cuadrado la expresión $||Ax||$. Sabemos que esto no debe cambiar la solución pues encontrar el vector $x$ que maximice el tamaño de su transformación también debe maximizar el tamaño de la transformación al cuadrado:\n",
    "$$\\argmax_{x:||x||=1} ||Ax||^2$$\n",
    "Ahora procedemos a hacer algo de álgebra.\n",
    "$$\\argmax_{x:||x||=1} ||Ax||^2= \\argmax_{x:||x||=1}\\ (Ax)^T(Ax) = \\argmax_{x:||x||=1}\\ x^TA^TAx$$\n",
    "Recordemos que podemos reescribir los últimos tres términos a partir de los eigenvalores asociados a la matriz A: $(A^TA)x=\\lambda x$.\n",
    "$$(A^TA)x=\\lambda x$$\n",
    "$$x^T(A^TA)x=\\lambda x^T x$$\n",
    "Como $x$ es un vector unitario sabemos que $x^T x=1$\n",
    "Finalmente, tendríamos que: \n",
    "$$\\argmax_{x:||x||=1}\\ x^TA^TAx = \\argmax_{x:||x||=1}\\ \\lambda$$\n",
    "Es decir que para maximizar la longitud de la transformación $||Ax||$ debemos encontrar el eigenvector $x$ asociado al eigenvalor más grande.\n",
    "\n",
    "---"
   ]
  },
  {
   "cell_type": "markdown",
   "metadata": {},
   "source": [
    "### Solución punto 2.\n",
    "Como las filas de $B$ son ortonormales entonces $BB^T=I$. Entonces, $B^TBB^T=B^T$. Dado que $B^T$ es no singular (pues tiene rango completo y es cuadrada), existe su inversa. Multiplicando a ambos lados de la expresión anterior por la inversa de $B$ obtenemos $B^TBB^T(B^T)^{-1}=B^T(B^T)^{-1}$, lo cual implica que las columnas de $B$ sean ortonormales:\n",
    "$$B^TB=I$$\n",
    "\n",
    "---"
   ]
  },
  {
   "cell_type": "markdown",
   "metadata": {},
   "source": [
    "### Solución punto 3.\n",
    "La SVD de $C$ puede escribirse como $C=U\\Sigma V^T$, por ende la inversa puede ser calculada como:\n",
    "$$C^{-1}=(U\\Sigma V^T)^{-1}$$\n",
    "$$C^{-1}=(V^T)^{-1}\\Sigma^{-1}U^{-1}$$\n",
    "Ahora, recordamos las propiedades de las matrices $U$ y $V$ las cuales son ortonormales, por ende sus traspuestas son sus inversas: $U^TU=UU^T=I$ y $V^TV=VV^T=I$.\n",
    "$$C^{-1}=V\\Sigma^{-1}U^T$$\n",
    "Como $\\Sigma$ es una matriz diagonal, su inversa es la misma matriz reemplazando cada elemento de la diagonal por su reciproco:\n",
    "$$\\begin{split} \\Sigma^{-1} =\n",
    "\\left[\n",
    "\\begin{array}{cccc}\n",
    "    \\frac{1}{\\sigma_1} & 0 & \\cdots & 0 \\\\\n",
    "    0 & \\frac{1}{\\sigma_2} & \\cdots & 0 \\\\\n",
    "    \\vdots & \\vdots & \\ddots  & \\vdots \\\\\n",
    "    0 & 0 & \\cdots & \\frac{1}{\\sigma_n}\n",
    "\\end{array}\n",
    "\\right]\\end{split}$$\n",
    "Resolviendo la multiplicación matricial obtenemos: $C^{-1}=\\sum_i \\frac{1}{\\sigma_i} v_i u_i^T$\n",
    "\n",
    "---"
   ]
  },
  {
   "cell_type": "markdown",
   "metadata": {},
   "source": [
    "### Solución punto 4.\n",
    "Primero vamos a encontrar los eigenvalores para construir $\\Sigma$. Para esto vamos a construir la matriz $AA^T$:\n",
    "\n",
    "$$\\begin{split} AA^T =\n",
    "\\left[\n",
    "\\begin{array}{cc}\n",
    "    17 & 8 \\\\\n",
    "    8 & 17 \\\\\n",
    "\\end{array}\n",
    "\\right]\\end{split}$$\n",
    "\n",
    "El polinomo característica está dado por $det(AA^T-\\lambda I)=\\lambda^2-34\\lambda+225=(\\lambda-25)(\\lambda-9)$. De tal modo obtenemos $\\lambda_1=25$ y $\\lambda_2=9$. Por tal motivo $\\sigma_1=5$ y $\\sigma_2=3$ serían los elementos de la diagonal de $\\Sigma$.\n",
    "\n",
    "Ahora vamos a encontrar los vectores singulares derechos (es decir las columnas de V) encontrando un set de eigenvectores ortonormales de $A^TA$. Sabemos que los eigenvalores de $A^TA$ serán los mismos que los de $AA^T$ y como $A^TA$ es simétrica sabemos que sus eigenvectores serán ortogonales.\n",
    "\n",
    "Para $\\lambda=25$, tenemos:\n",
    "\n",
    "$$\\begin{split} A^TA-25I =\n",
    "\\left[\n",
    "\\begin{array}{ccc}\n",
    "    -12 & 12 & 2 \\\\\n",
    "    12 & -12 & -2 \\\\\n",
    "    2 & -2 & -17 \\\\\n",
    "\\end{array}\n",
    "\\right]\\end{split}$$\n",
    "\n",
    "Haciendo una reducción por filas obtenemos:\n",
    "$$\\begin{split} A^TA-25I =\n",
    "\\left[\n",
    "\\begin{array}{ccc}\n",
    "    1 & -1 & 0 \\\\\n",
    "    0 & 0 & 1 \\\\\n",
    "    0 & 0 & 0 \\\\\n",
    "\\end{array}\n",
    "\\right]\\end{split}$$\n",
    "\n",
    "Un eigenvector de longitud 1 sería entonces $v_1=[1/\\sqrt2, 1/\\sqrt2, 0]$\n",
    "\n",
    "Para $\\lambda=9$ tenemos:\n",
    "$$\\begin{split} A^TA-9I =\n",
    "\\left[\n",
    "\\begin{array}{ccc}\n",
    "    4 & 12 & 2 \\\\\n",
    "    12 & 4 & -2 \\\\\n",
    "    2 & -2 & -1 \\\\\n",
    "\\end{array}\n",
    "\\right]\\end{split}$$\n",
    "\n",
    "Haciendo una reducción por filas obtenemos:\n",
    "$$\\begin{split} A^TA-25I =\n",
    "\\left[\n",
    "\\begin{array}{ccc}\n",
    "    1 & 0 & -1/4 \\\\\n",
    "    0 & 1 & 1/4 \\\\\n",
    "    0 & 0 & 0 \\\\\n",
    "\\end{array}\n",
    "\\right]\\end{split}$$\n",
    "\n",
    "Un eigenvector de longitud 1 sería entonces $v_2=[1/\\sqrt18, -1/\\sqrt18, 4/\\sqrt18]$\n",
    "\n",
    "Para el último eigenvector podemos hallarlo como lo venimos haciendo o encontrar un vector unitario perpendicular a $v_1 y v_2$. Para ser perpendicular a un vector $v_1=\\begin{bmatrix} a \\\\ b \\\\ c \\end{bmatrix}$ se necesita $-a=b$. Luego la condición para que $v_2^Tv_3=0$ se vuelve $2a/\\sqrt18+4c/\\sqrt18=0$ o $-a=2c$. Luego $v_3=[a, -a, -a/2]=[2/3,-2/3,-1/3]$\n",
    "\n",
    "Finalmente, encontramos $U$ con la formula $\\sigma u_i=Av_i \\rightarrow u_i=\\frac{1}{\\sigma}Av_i$. Obtendríamos: \n",
    " $$\\begin{split} U =\n",
    "\\left[\n",
    "\\begin{array}{cc}\n",
    "    1/\\sqrt2 &  1/\\sqrt2 \\\\\n",
    "    1/\\sqrt2 & - 1/\\sqrt2 \n",
    "\\end{array}\n",
    "\\right]\\end{split}$$\n",
    "\n",
    "Finalmente, tendríamos como solución: \n",
    "$$A=U\\Sigma V^T= \\begin{bmatrix} 1/\\sqrt2 &  1/\\sqrt2 \\\\ 1/\\sqrt2 & - 1/\\sqrt2 \\end{bmatrix} \n",
    "    \\begin{bmatrix} 5 & 0 & 0 \\\\ 0 & 3 & 0 \\end{bmatrix} \n",
    "    \\begin{bmatrix} 1/\\sqrt2 & 1/\\sqrt2 & 0 \\\\ 1/\\sqrt18 & -1/\\sqrt18 & 4/\\sqrt18 \\\\ 2/3 & -2/3 & -1/3 \\end{bmatrix}$$\n",
    "\n",
    "A continuación se comprueban los resultados con código:"
   ]
  },
  {
   "cell_type": "code",
   "execution_count": 1,
   "metadata": {},
   "outputs": [],
   "source": [
    "import numpy as np"
   ]
  },
  {
   "cell_type": "code",
   "execution_count": 12,
   "metadata": {},
   "outputs": [],
   "source": [
    "A = np.array([[3, 2, 2], [2, 3, -2]])\n",
    "AAt = A @ A.transpose()\n",
    "AtA = A.transpose() @ A  "
   ]
  },
  {
   "cell_type": "code",
   "execution_count": 15,
   "metadata": {},
   "outputs": [
    {
     "name": "stdout",
     "output_type": "stream",
     "text": [
      "[[ 3  2  2]\n",
      " [ 2  3 -2]]\n",
      "[[17  8]\n",
      " [ 8 17]]\n",
      "[[13 12  2]\n",
      " [12 13 -2]\n",
      " [ 2 -2  8]]\n"
     ]
    }
   ],
   "source": [
    "print(A)\n",
    "print(AAt)\n",
    "print(AtA)"
   ]
  },
  {
   "cell_type": "code",
   "execution_count": 11,
   "metadata": {},
   "outputs": [
    {
     "data": {
      "text/plain": [
       "(array([[-0.70710678, -0.70710678],\n",
       "        [-0.70710678,  0.70710678]]),\n",
       " array([25.,  9.]),\n",
       " array([[-0.70710678, -0.70710678],\n",
       "        [-0.70710678,  0.70710678]]))"
      ]
     },
     "execution_count": 11,
     "metadata": {},
     "output_type": "execute_result"
    }
   ],
   "source": [
    "np.linalg.svd(AAt)"
   ]
  },
  {
   "cell_type": "code",
   "execution_count": 14,
   "metadata": {},
   "outputs": [
    {
     "data": {
      "text/plain": [
       "(array([[-7.07106781e-01,  2.35702260e-01, -6.66666667e-01],\n",
       "        [-7.07106781e-01, -2.35702260e-01,  6.66666667e-01],\n",
       "        [ 2.43573286e-17,  9.42809042e-01,  3.33333333e-01]]),\n",
       " array([2.500000e+01, 9.000000e+00, 3.978288e-15]),\n",
       " array([[-7.07106781e-01, -7.07106781e-01, -1.65477681e-18],\n",
       "        [ 2.35702260e-01, -2.35702260e-01,  9.42809042e-01],\n",
       "        [ 6.66666667e-01, -6.66666667e-01, -3.33333333e-01]]))"
      ]
     },
     "execution_count": 14,
     "metadata": {},
     "output_type": "execute_result"
    }
   ],
   "source": [
    "np.linalg.svd(AtA)"
   ]
  },
  {
   "cell_type": "code",
   "execution_count": 21,
   "metadata": {},
   "outputs": [
    {
     "data": {
      "text/plain": [
       "array([[ 3.,  2.,  2.],\n",
       "       [ 2.,  3., -2.]])"
      ]
     },
     "execution_count": 21,
     "metadata": {},
     "output_type": "execute_result"
    }
   ],
   "source": [
    "U = np.array([[1/np.sqrt(2), 1/np.sqrt(2)], [1/np.sqrt(2), -1/np.sqrt(2)]])\n",
    "S = np.array([[5, 0, 0], [0, 3, 0]])\n",
    "Vt = np.array([[1/np.sqrt(2), 1/np.sqrt(2), 0], \n",
    "    [1/np.sqrt(18), -1/np.sqrt(18), 4/np.sqrt(18)],\n",
    "    [2/3, -2/3, -1/3]])\n",
    "U @ S @ Vt"
   ]
  },
  {
   "cell_type": "markdown",
   "metadata": {},
   "source": [
    "---\n",
    "### Solución punto 5\n",
    "\n",
    "$D=U\\Sigma V^T$\n",
    "\n",
    "$D^T=(U\\Sigma V^T)^T=V\\Sigma U^T$\n",
    "\n",
    "---"
   ]
  }
 ],
 "metadata": {
  "interpreter": {
   "hash": "8fac594bfae6525c0c41b4041d2d72effa188cc8ead05f81b1fab2bb098927fb"
  },
  "kernelspec": {
   "display_name": "Python 3",
   "language": "python",
   "name": "python3"
  },
  "language_info": {
   "codemirror_mode": {
    "name": "ipython",
    "version": 3
   },
   "file_extension": ".py",
   "mimetype": "text/x-python",
   "name": "python",
   "nbconvert_exporter": "python",
   "pygments_lexer": "ipython3",
   "version": "3.7.6"
  }
 },
 "nbformat": 4,
 "nbformat_minor": 2
}
