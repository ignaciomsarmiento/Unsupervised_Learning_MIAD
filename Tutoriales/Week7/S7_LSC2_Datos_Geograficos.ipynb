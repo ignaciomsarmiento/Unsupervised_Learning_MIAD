{
 "cells": [
  {
   "cell_type": "markdown",
   "id": "c4d6286a",
   "metadata": {},
   "source": [
    "-----\n",
    "<div> <center> ESPACIO PARA BANNER DE LA MAESTRIA </center> </div>   \n",
    "\n",
    "-----"
   ]
  },
  {
   "cell_type": "markdown",
   "id": "b1310963",
   "metadata": {},
   "source": [
    "# Datos Geográficos en Python. \n",
    "\n",
    "Este *cuaderno* trata el algoritmo DBSCAN. Este algoritmo es otra de las posibles formas de clustering o agrupamiento de datos. El objetivo del *cuaderno* es que usted aprenda el algoritmo, que sea capaz de reconocer sus características y funcionamiento, y de cómo implementarlo.\n",
    "\n",
    "\n",
    "**NO** es necesario editar el archivo o hacer una entrega. Sin embargo, los ejemplos contienen celdas con código ejecutable (`en gris`), que podrá modificar  libremente. Esta puede ser una buena forma de aprender nuevas funcionalidades del *cuaderno*, o experimentar variaciones en los códigos de ejemplo."
   ]
  },
  {
   "cell_type": "markdown",
   "id": "c3fe0333",
   "metadata": {},
   "source": [
    "## Estadística Espacial\n",
    "\n",
    "La estadística espacial es la rama de la estadística que se enfoca en el análisis de datos con propiedades espaciales, dentro de esto encontramos a las coordenadas geográficas o topológicas. Se parece al análisis de series de tiempo en el punto en que el objetivo es analizar datos que cambian a lo largo de alguna dimensión. En el análisis de series de tiempo, los datos cambian a través de la dimensión del tiempo; mientras que en la estadística espacial, los datos cambian a lo largo de la dimensión espacial. Hay una serie de técnicas que se incluyen en el paraguas de estadísticas espaciales, pero en este cuaderno nos enfocaremos en la técnica de estimación de densidad de kernel. Al igual que con la mayoría de los análisis estadísticos, en estadística espacial, se trata de tomar muestras de datos geográficos y utilizarlos para generar conocimientos y hacer predicciones. Por ejemplo, la estadística espacial se utiliza mucho para analizar los terremotos. Al recopilar datos de ubicación de terremotos, podemos generar mapas con áreas de alta y baja probabilidad de terremotos, y así ayudar a los especialistas a determinar dónde es probable que ocurran futuros terremotos y  a su vez, qué esperar en términos de intensidad.\n"
   ]
  }
 ],
 "metadata": {
  "kernelspec": {
   "display_name": "Python 3",
   "language": "python",
   "name": "python3"
  },
  "language_info": {
   "codemirror_mode": {
    "name": "ipython",
    "version": 3
   },
   "file_extension": ".py",
   "mimetype": "text/x-python",
   "name": "python",
   "nbconvert_exporter": "python",
   "pygments_lexer": "ipython3",
   "version": "3.7.6"
  },
  "toc": {
   "base_numbering": 1,
   "nav_menu": {},
   "number_sections": true,
   "sideBar": true,
   "skip_h1_title": false,
   "title_cell": "Table of Contents",
   "title_sidebar": "Contents",
   "toc_cell": false,
   "toc_position": {},
   "toc_section_display": true,
   "toc_window_display": false
  }
 },
 "nbformat": 4,
 "nbformat_minor": 5
}
