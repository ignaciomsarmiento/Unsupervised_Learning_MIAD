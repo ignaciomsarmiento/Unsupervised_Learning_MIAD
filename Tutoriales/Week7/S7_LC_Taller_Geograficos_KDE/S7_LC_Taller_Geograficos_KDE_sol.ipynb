{
 "cells": [
  {
   "cell_type": "markdown",
   "id": "05ab9b9a",
   "metadata": {},
   "source": [
    "-----\n",
    "<div> <center> ESPACIO PARA BANNER DE LA MAESTRIA </center> </div>   \n",
    "\n",
    "-----"
   ]
  },
  {
   "cell_type": "markdown",
   "id": "2b151b20",
   "metadata": {},
   "source": [
    "# Caso-taller:  Analizando el Delito en Chicago"
   ]
  },
  {
   "cell_type": "markdown",
   "id": "e0d05eac",
   "metadata": {},
   "source": [
    "En este caso-taller vamos a utilizar datos geograficos y estimación de densidad de kernel para analizar delitos en Chicago. Esta ciudad es muy famosa no sólo por haber sido el hogar del mafioso Al Capone, sino también por sus altas tasas de delitos. \n",
    "\n",
    "Para este taller obtuve datos del portal de la [ciudad de Chicago](https://www.chicago.gov/city/en/dataset/crime.html). La base de datos fue traducida y modificada para nuestras necesidades. Esta contiene todos los homicidios y robos que sucedieron entre el primero de junio y el 31 de agosto de 2019.\n"
   ]
  },
  {
   "cell_type": "markdown",
   "id": "892acd2b",
   "metadata": {},
   "source": [
    "## Instrucciones generales\n",
    "\n",
    "1. Para desarrollar el *cuaderno* primero debe descargarlo.\n",
    "\n",
    "2. Para responder cada inciso deberá utilizar el espacio debidamente especificado.\n",
    "\n",
    "3. La actividad será calificada sólo si sube el *cuaderno* de jupyter notebook con extensión `.ipynb` en la actividad designada como \"entrega calificada por el personal\".\n",
    "\n",
    "4. El archivo entregado debe poder ser ejecutado localmente por el tutor. Sea cuidadoso con la especificación de la ubicación de los archivos de soporte, guarde la carpeta de datos en el mismo `path` de su cuaderno, por ejemplo: `data`."
   ]
  },
  {
   "cell_type": "markdown",
   "id": "014e89b0",
   "metadata": {},
   "source": [
    "## Desarrollo\n"
   ]
  },
  {
   "cell_type": "markdown",
   "id": "611a45ca",
   "metadata": {},
   "source": [
    "### 1.Carga de datos \n",
    "\n",
    "En la carpeta de `data` se encuentra el archivo `Chicago_delitos_verano_2019.csv` cargue estos datos en su *cuaderno*. También se encuentran los arhivos con los poligonos de las areas comunitarias en un archivo comprimido llamado `Areas_comunitarias_Chicago.zip`."
   ]
  },
  {
   "cell_type": "code",
   "execution_count": null,
   "id": "36fac364",
   "metadata": {},
   "outputs": [],
   "source": [
    "# Utilice este espacio para escribir el código."
   ]
  },
  {
   "cell_type": "markdown",
   "id": "3fc38d31",
   "metadata": {},
   "source": [
    "(Utilice este espacio para describir su procedimiento)."
   ]
  },
  {
   "cell_type": "markdown",
   "id": "a507b795",
   "metadata": {},
   "source": [
    "### 2.   Análisis descriptivo de los datos. \n",
    "\n",
    "Antes de comenzar el análisis de segmentación haga un análisis descriptivo de los datos, para ello puede hacer uso de estadísticas descriptivas en tablas y/o gráficas."
   ]
  },
  {
   "cell_type": "code",
   "execution_count": null,
   "id": "877fe5ce",
   "metadata": {},
   "outputs": [],
   "source": [
    "# Utilice este espacio para escribir el código."
   ]
  },
  {
   "cell_type": "markdown",
   "id": "e762d6b3",
   "metadata": {},
   "source": [
    "(Utilice este espacio para describir el procedimiento, análisis y conclusiones)"
   ]
  },
  {
   "cell_type": "markdown",
   "id": "f1f9b4b4",
   "metadata": {},
   "source": [
    "Usando los polígonos de las areas comunitarias genere 3 mapas, que muestren para cada area:\n",
    "\n",
    "1. El total de delitos \n",
    "2. El total de robos \n",
    "3. El total de homicidios\n",
    "\n",
    "Nota: utilice una paleta de colores y escala numérica que permita una buena interpretación de los mapas"
   ]
  },
  {
   "cell_type": "code",
   "execution_count": null,
   "id": "41ca7fd2",
   "metadata": {},
   "outputs": [],
   "source": [
    "# Utilice este espacio para escribir el código."
   ]
  },
  {
   "cell_type": "markdown",
   "id": "e7d19f86",
   "metadata": {},
   "source": [
    "(Utilice este espacio para describir el procedimiento, análisis y conclusiones)"
   ]
  },
  {
   "cell_type": "markdown",
   "id": "b2c6a5be",
   "metadata": {},
   "source": [
    "Tomando como centro de la ciudad las coordenadas (-87.627800, 41.881998), estime histogramas que muestren gráficamente el gradiente de número de delitos (y por tipo) por area como función de la distancia al centro de la ciudad. Explique como mide la distancia entre el area comunitaria y el centro de la ciudad y que medidad de distancia utiliza. Elija el ancho de "
   ]
  },
  {
   "cell_type": "code",
   "execution_count": null,
   "id": "1f1b3b3d",
   "metadata": {},
   "outputs": [],
   "source": [
    "# Utilice este espacio para escribir el código."
   ]
  },
  {
   "cell_type": "markdown",
   "id": "d9ee80f6",
   "metadata": {},
   "source": [
    "(Utilice este espacio para describir el procedimiento, análisis y conclusiones)"
   ]
  },
  {
   "cell_type": "code",
   "execution_count": null,
   "id": "49eff1cf",
   "metadata": {},
   "outputs": [],
   "source": [
    "import pandas as pd\n",
    "df = pd.read_csv(\"data/Chicago_delitos_verano_2019.csv\")\n",
    "df.head()"
   ]
  },
  {
   "cell_type": "code",
   "execution_count": null,
   "id": "af3bca18",
   "metadata": {},
   "outputs": [],
   "source": [
    "import geopandas as gpd\n",
    "db = gpd.GeoDataFrame(df, geometry = gpd.points_from_xy(df.lon, df.lat))\n",
    "db.crs = \"EPSG:4326\"\n",
    "db.head()"
   ]
  },
  {
   "cell_type": "code",
   "execution_count": null,
   "id": "280293ad",
   "metadata": {},
   "outputs": [],
   "source": [
    "#db=db.to_crs(26916)\n"
   ]
  },
  {
   "cell_type": "code",
   "execution_count": null,
   "id": "ec455487",
   "metadata": {},
   "outputs": [],
   "source": [
    "CBD = pd.DataFrame({\n",
    "    \"lugar\": [\"CBD\"],\n",
    "    \"lat\": [41.881998],\n",
    "    \"lon\": [-87.627800]\n",
    "    })\n",
    "\n",
    "\n",
    "CBD = gpd.GeoDataFrame(CBD, geometry = gpd.points_from_xy(CBD.lon, CBD.lat))\n",
    "\n",
    "CBD.crs = \"EPSG:4326\"\n",
    "CBD[\"coordenadas\"] = CBD[\"geometry\"].apply(lambda x: x.representative_point().coords[:][0])\n",
    "CBD"
   ]
  },
  {
   "cell_type": "code",
   "execution_count": null,
   "id": "1939452f",
   "metadata": {},
   "outputs": [],
   "source": [
    "db[\"coordenadas\"] = db[\"geometry\"].apply(lambda x: x.representative_point().coords[:][0])\n",
    "db.head()"
   ]
  },
  {
   "cell_type": "code",
   "execution_count": null,
   "id": "14d905cd",
   "metadata": {},
   "outputs": [],
   "source": [
    "from geopy.distance import geodesic"
   ]
  },
  {
   "cell_type": "code",
   "execution_count": null,
   "id": "230d8be4",
   "metadata": {},
   "outputs": [],
   "source": [
    "distances = []\n",
    "\n",
    "for p in range(db.shape[0]):\n",
    "    punto = db.coordenadas[p]\n",
    "    distancia = geodesic(\n",
    "            (CBD.coordenadas[:][0][1], CBD.coordenadas[:][0][0]),\n",
    "            (punto[1], punto[0])).km\n",
    "    distances.append(distancia)\n",
    "    \n",
    "db['distancias'] = distances"
   ]
  },
  {
   "cell_type": "code",
   "execution_count": null,
   "id": "ef89a708",
   "metadata": {},
   "outputs": [],
   "source": [
    "db.head()"
   ]
  },
  {
   "cell_type": "code",
   "execution_count": null,
   "id": "0352c760",
   "metadata": {},
   "outputs": [],
   "source": [
    "import seaborn as sns\n",
    "\n",
    "sns.histplot(db[db.tipo_crimen=='homicidio']['distancias'], multiple=\"layer\", kde=True)"
   ]
  },
  {
   "cell_type": "code",
   "execution_count": null,
   "id": "759a7526",
   "metadata": {},
   "outputs": [],
   "source": [
    "sns.histplot(db[db.tipo_crimen=='robo']['distancias'], multiple=\"layer\", kde=True)"
   ]
  },
  {
   "cell_type": "markdown",
   "id": "a778b917",
   "metadata": {},
   "source": [
    "### 3. Análisis de puntos calientes \n",
    "\n",
    "#### 3.1 Vizualización preliminar\n",
    "\n",
    "Ultilizando la librería `seaborn` genere un  gráfico de disperción de longitud y latitud, junto a los histogramas univariados en los margenes. Haga esta gráfica para:\n",
    "\n",
    "1. El total de delitos \n",
    "2. El total de robos \n",
    "3. El total de homicidios\n",
    "\n",
    "En su análisis y conclusiones compare estos resultados con los obtendinos de agregar al nivel de areas"
   ]
  },
  {
   "cell_type": "code",
   "execution_count": null,
   "id": "ab568291",
   "metadata": {},
   "outputs": [],
   "source": [
    "# Utilice este espacio para escribir el código."
   ]
  },
  {
   "cell_type": "markdown",
   "id": "4c85bb20",
   "metadata": {},
   "source": [
    "(Utilice este espacio para describir el procedimiento, análisis y conclusiones)"
   ]
  },
  {
   "cell_type": "markdown",
   "id": "98b90dbc",
   "metadata": {},
   "source": [
    "#### 3.1 KDE preliminar\n",
    "\n",
    "Transforme las grafiacas anteriores a una graficas que muestren la KDE:\n",
    "\n",
    "1. El total de delitos \n",
    "2. El total de robos \n",
    "3. El total de homicidios\n",
    "\n",
    "En su análisis y conclusiones incluya la discusión de cuáles son las ventajas y limitaciones de usar `seaborn` para este análisis."
   ]
  },
  {
   "cell_type": "code",
   "execution_count": null,
   "id": "fef94868",
   "metadata": {},
   "outputs": [],
   "source": [
    "# Utilice este espacio para escribir el código."
   ]
  },
  {
   "cell_type": "markdown",
   "id": "247b59c9",
   "metadata": {},
   "source": [
    "(Utilice este espacio para describir el procedimiento, análisis y conclusiones)"
   ]
  },
  {
   "cell_type": "markdown",
   "id": "9f31167d",
   "metadata": {},
   "source": [
    "### 3. KDE\n",
    "\n",
    "Usando `statsmodels`"
   ]
  },
  {
   "cell_type": "code",
   "execution_count": null,
   "id": "2fdf3326",
   "metadata": {},
   "outputs": [],
   "source": [
    "# Utilice este espacio para escribir el código."
   ]
  },
  {
   "cell_type": "markdown",
   "id": "2b5eff17",
   "metadata": {},
   "source": [
    "(Utilice este espacio para describir el procedimiento, análisis y conclusiones)"
   ]
  },
  {
   "cell_type": "markdown",
   "id": "b17a4643",
   "metadata": {},
   "source": [
    "### 6. Elección del número de clusters\n",
    "\n",
    "En los puntos anteriores utilizamos nuestro conocimiento previo sobre los datos para elegir el número de clusters. En este punto, verifique si 40 es realmente el número de cluster que usted elegiría según los criterios que discutimos en los cuadernos teóricos. Explique brevemente en qué consiste cada criterio y aplíquelos para ambos métodos. Compare los resultados obtenidos.\n",
    "\n"
   ]
  },
  {
   "cell_type": "code",
   "execution_count": null,
   "id": "ad59be36",
   "metadata": {},
   "outputs": [],
   "source": [
    "# Utilice este espacio para escribir el código."
   ]
  },
  {
   "cell_type": "markdown",
   "id": "d1267ad7",
   "metadata": {},
   "source": [
    "(Utilice este espacio para describir el procedimiento, análisis y conclusiones)"
   ]
  },
  {
   "cell_type": "markdown",
   "id": "11ac9cbb",
   "metadata": {},
   "source": [
    "### 7. Robustez de los resultados\n",
    "\n",
    "#### 7.1 Estandarice los datos y repita los puntos 3., 4., y 5. ¿Hubo alguna mejora en la conformación de los clusters? "
   ]
  },
  {
   "cell_type": "code",
   "execution_count": null,
   "id": "6aa9585a",
   "metadata": {},
   "outputs": [],
   "source": [
    "# Utilice este espacio para escribir el código."
   ]
  },
  {
   "cell_type": "markdown",
   "id": "76dfb8ff",
   "metadata": {},
   "source": [
    "(Utilice este espacio para describir el procedimiento, análisis y conclusiones)"
   ]
  },
  {
   "cell_type": "markdown",
   "id": "2c7ecd75",
   "metadata": {},
   "source": [
    "#### 7.2 ¿Es necesario realizar la descomposición en componentes principales antes de la clusterización? Comente sobre la presición de los resultados y compare el tiempo que tardan K-medias y K-medoides  con y sin la reducción de dimensionalidad."
   ]
  },
  {
   "cell_type": "code",
   "execution_count": null,
   "id": "cf61682b",
   "metadata": {},
   "outputs": [],
   "source": [
    "# Utilice este espacio para escribir el código."
   ]
  },
  {
   "cell_type": "markdown",
   "id": "8374b537",
   "metadata": {},
   "source": [
    "(Utilice este espacio para describir el procedimiento, análisis y conclusiones)"
   ]
  },
  {
   "cell_type": "code",
   "execution_count": null,
   "id": "a86eeb4a",
   "metadata": {},
   "outputs": [],
   "source": [
    "#Esto para el problem set\n",
    "#Veamos entonces como luciría si usamos validación cruzada através de anchos de banda y de funciones de kernel\n",
    "grid = { \n",
    "    'bandwidth': bandwidths,\n",
    "    'kernel': ['gaussian','epanechnikov', 'tophat', 'linear']\n",
    "}\n",
    "\n",
    "gridCV = GridSearchCV(KernelDensity(),\n",
    "                    param_grid=grid,\n",
    "                    cv=10)\n",
    "gridCV.fit(vals)"
   ]
  },
  {
   "cell_type": "code",
   "execution_count": 12,
   "id": "7f925ab5",
   "metadata": {},
   "outputs": [],
   "source": [
    "from pyrosm import OSM, get_data\n",
    "\n",
    "# Bajamos los datos para  Chicago\n",
    "fp = get_data(\"chicago\")\n",
    "\n",
    "# Inicializamos el lector para Chicago\n",
    "osm = OSM(fp)"
   ]
  },
  {
   "cell_type": "code",
   "execution_count": null,
   "id": "d58d9d16",
   "metadata": {},
   "outputs": [],
   "source": [
    "?osm.get_landuse"
   ]
  },
  {
   "cell_type": "code",
   "execution_count": 9,
   "id": "ec069740",
   "metadata": {},
   "outputs": [
    {
     "name": "stderr",
     "output_type": "stream",
     "text": [
      "/Users/iggy/opt/anaconda3/lib/python3.7/site-packages/pyrosm/pyrosm.py:330: ShapelyDeprecationWarning: The array interface is deprecated and will no longer work in Shapely 2.0. Convert the '.coords' to a numpy array instead.\n",
      "  self.bounding_box,\n"
     ]
    }
   ],
   "source": [
    "landuse = osm.get_landuse(custom_filter={'landuse': ['retail',\"commercial\"]})"
   ]
  },
  {
   "cell_type": "code",
   "execution_count": 10,
   "id": "4f193956",
   "metadata": {},
   "outputs": [
    {
     "data": {
      "text/plain": [
       "<AxesSubplot:>"
      ]
     },
     "execution_count": 10,
     "metadata": {},
     "output_type": "execute_result"
    },
    {
     "data": {
      "image/png": "[encoded data removed]",
      "text/plain": [
       "<Figure size 720x432 with 1 Axes>"
      ]
     },
     "metadata": {
      "needs_background": "light"
     },
     "output_type": "display_data"
    }
   ],
   "source": [
    "landuse.plot(column='landuse', legend=True, figsize=(10,6))"
   ]
  }
 ],
 "metadata": {
  "kernelspec": {
   "display_name": "Python 3",
   "language": "python",
   "name": "python3"
  },
  "language_info": {
   "codemirror_mode": {
    "name": "ipython",
    "version": 3
   },
   "file_extension": ".py",
   "mimetype": "text/x-python",
   "name": "python",
   "nbconvert_exporter": "python",
   "pygments_lexer": "ipython3",
   "version": "3.7.6"
  },
  "toc": {
   "base_numbering": 1,
   "nav_menu": {},
   "number_sections": true,
   "sideBar": true,
   "skip_h1_title": false,
   "title_cell": "Table of Contents",
   "title_sidebar": "Contents",
   "toc_cell": false,
   "toc_position": {},
   "toc_section_display": true,
   "toc_window_display": false
  }
 },
 "nbformat": 4,
 "nbformat_minor": 5
}
