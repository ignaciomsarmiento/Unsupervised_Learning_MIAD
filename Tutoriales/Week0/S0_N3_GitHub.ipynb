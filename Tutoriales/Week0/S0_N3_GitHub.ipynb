{
 "cells": [
  {
   "cell_type": "markdown",
   "metadata": {},
   "source": [
    "----------------------------------- ----------------------------------- ----------------------------------- \n",
    "----------------------------------- ESPACIO PARA BANNER DE LA MAESTRIA -----------------------------------\n",
    "----------------------------------- ----------------------------------- ----------------------------------- "
   ]
  },
  {
   "cell_type": "markdown",
   "metadata": {},
   "source": [
    "# Control de Versión con Git(Hub)\n",
    "\n",
    "\n",
    "Este notebook tiene como objetivo hacer un breve resumen de las operaciones básicas de `Git` necesarias para este curso. \n"
   ]
  },
  {
   "cell_type": "markdown",
   "metadata": {},
   "source": [
    "## Motivación"
   ]
  },
  {
   "cell_type": "markdown",
   "metadata": {},
   "source": [
    "`Git` es un sistema de control de versión que permite evitar situaciónes como las descriptas en el comic de abajo. `Git` se puede pensar como la mezcla optima entre Dropbox y la  función “seguimiento de cambios” de MS Word. Es importante resaltar que `Git` y `GitHub` no son lo mismo, `GitHub` es una de las tantas herramientas en linea disponibles que permite alojamiento en linea. \n",
    "\n",
    "\n"
   ]
  },
  {
   "cell_type": "markdown",
   "metadata": {},
   "source": [
    "<div align=\"center\">\n",
    "<img src=\"http://phdcomics.com/comics/archive/phd101212s.gif\" height=250>\n",
    "</div>"
   ]
  },
  {
   "cell_type": "markdown",
   "metadata": {},
   "source": [
    "## Repositorios\n",
    "\n",
    "Para este curso va a ser necesario que cree una cuenta en [`GitHub`](https://github.com/) ya que los talleres se le pedirá que entregue el link a su repositorio alojado en este servicio. \n",
    "\n",
    "Al iniciar un nuevo proyecto, especialmente uno que envuelve programación, siempre es buena idea crear un nuevo repositorio. Este repositorio  servirá para mantener todos los archivos importantes de tu proyecto y a través de `Git` hacer control de versión. El  link https://docs.github.com/es/github/getting-started-with-github/quickstart/create-a-repo contiene un buen paso a paso de como crear un repositorio."
   ]
  },
  {
   "cell_type": "markdown",
   "metadata": {},
   "source": [
    "Felicitaciones! Acabas de crear tu propio repositorio! Una vez que tienes tu repositorio en GitHub, así es como lo vinculas con tu computador. Esta sección se basa mucho en código, con los comandos específicos que necesitarás usar para que el control de versiones funcione.\n",
    "\n",
    "1.  Primero encuentre el `url` de su repo, este se encuentra en el boton verde de `Code`. \n",
    "\n",
    "2.  Abra su herramienta de línea de comando y escriba `git clone` con la url que copio. Por ejemplo:\n",
    "\n",
    "``` bash\n",
    "$ git clone git@github.com:username/test_repo.git\n",
    "```\n",
    "\n",
    "Ahora el repositorio está en su computador. Puede ver entonces, por ejemplo, su historial:\n",
    "\n",
    "``` bash\n",
    "$ git log\n",
    "```\n",
    "\n",
    "¿O si algo ha cambiado?\n",
    "\n",
    "``` bash\n",
    "$ git status\n",
    "```\n",
    "\n",
    "o puede agregar archivos\n",
    "\n",
    "``` bash\n",
    "$ git add NOMBRE-DEL-ARCHIVO-O-CARPETA\n",
    "```\n",
    "\n",
    "Puede utilizar abreviaciones para agregar archivos, por ejemplo:\n",
    "\n",
    "``` bash\n",
    "$ git add -A\n",
    "```\n",
    "\n",
    "agrega todos los archivos.\n",
    "\n",
    "``` bash\n",
    "$ git add -u\n",
    "```\n",
    "\n",
    "sólo los que cambiaron (y con  `git diff` puedes ver las diferencias entre los archivos\n",
    "\n",
    "\n",
    "``` bash\n",
    "$ git add .\n",
    "```\n",
    "sólo los archivos nuevos .\n",
    "\n",
    "3. Ahora necesita confirmar o `commit` los cambios, para ello utilice, e incluya un mensaje útil entre comillas\n",
    "\n",
    "``` bash\n",
    "$ git commit -m \"mensaje útil\"\n",
    "```\n",
    "\n",
    "Una vez que hayas confirmado los puedes enviar tus cambios a `GitHub` haciendo\n",
    "\n",
    "\n",
    "``` bash\n",
    "$ git push origin main\n",
    "```\n",
    "\n",
    "`origin` es un nombre abreviado para el repositorio remoto desde el que se clonó originalmente un proyecto, `main` es hacia donde estamos enviando los cambios.\n"
   ]
  },
  {
   "cell_type": "markdown",
   "metadata": {},
   "source": [
    "#### Bifurcaciones (Forking) y Ramas (Branching)\n",
    "\n",
    "\n",
    "Por lo general, las bifurcaciones o `fork` se utilizan para proponer cambios en el proyecto de otra persona o para utilizar el proyecto de otra persona como punto de partida para su propia idea. Se puede bifurcar un repositorio para crear una copia del repositorio y realizar cambios sin afectar el repositorio original. Cuando hacemos un `fork` a un repositorio cualquiera se hace una copia exacta del repositorio original en tu cuenta de `GitHub`, el cual podemos usar y gestionar como cualquier otro repositorio. Los cambios realizados en la “copia” no se verán\n",
    "reflejados en el repositorio del dueño automáticamente, así como los cambios que se hagan en adelante en el repositorio original se verán relfejados automáticamente en tu `Fork`.\n",
    "\n",
    "Hacer bifurcaciones en un repositorio en `Github` es [sencillo](https://docs.github.com/es/get-started/quickstart/fork-a-repo). Necesitas hacer click en el boton `Fork` en la esquina superior derecha del repositorio de interés. Una vez que haces `fork`, eres libre de hacer lo que quieras con él (es \"tuyo\"). \n",
    "\n",
    "Este proceso de `forking`, en combinación con `pull`, es una de las características de `GitHub` que lo hace muy poderoso. Por ejemplo:\n",
    "\n",
    "-   Un usuario externo, `B`, hace un `fork` al repositorio de `A`. \n",
    "-   `B` añade una nueva característica (o arregla un error que identificó) y luego envía un `pull request`.\n",
    "-   `A` es notificado de esto y, entonces, puede decidir si añadir la contribución de `B` con el proyecto original.\n",
    "\n",
    "Otra forma de contribuir es creando ramas. Estas ramas o `branches` lo que hace es *tomar una foto* de tu repositorio y crear una *nueva rama* donde uno puede experimentar sin afectar tu rama principal. Una vez que estas contento con lo que hiciste en la rama, se lo puede integrar a la rama principal, y si no la puedes borrar sin problema. \n",
    "\n",
    "Para crear una rama y trabajar en ella:\n",
    "\n",
    "``` bash\n",
    "$ git checkout -b NOMBRE-DE-LA-RAMA-NUEVA\n",
    "```\n",
    "\n",
    "enviarla a  `GitHub`:\n",
    "\n",
    "```bash\n",
    "$ git push origin NOMBRE-DE-LA-RAMA-NUEVA\n",
    "```\n",
    "\n",
    "¿Cómo obtengo una lista de mis ramas?\n",
    "\n",
    "```bash\n",
    "$ git branch\n",
    "```\n",
    "\n",
    "y ¿cómo me devuelvo a la rama principal?\n",
    "```bash\n",
    "$ git checkout main\n",
    "```\n",
    "\n",
    "Y si todo salió mal en la nueva rama?\n",
    "```bash\n",
    "$ git branch -d NOMBRE-DE-LA-RAMA-CAIDA\n",
    "$ git push origin :NOMBRE-DE-LA-RAMA-CAIDA\n",
    "```\n",
    "\n",
    "Finalmente podemos unir estas ramas volviendo a la rama principal (`$ git checkout main`) y adjuntando la rama que queremos  `$ git merge rama-exitosa`. Otra forma es haciendo un `pull request` a ti mismo.\n",
    "\n"
   ]
  }
 ],
 "metadata": {
  "kernelspec": {
   "display_name": "Python 3",
   "language": "python",
   "name": "python3"
  },
  "language_info": {
   "codemirror_mode": {
    "name": "ipython",
    "version": 3
   },
   "file_extension": ".py",
   "mimetype": "text/x-python",
   "name": "python",
   "nbconvert_exporter": "python",
   "pygments_lexer": "ipython3",
   "version": "3.7.6"
  }
 },
 "nbformat": 4,
 "nbformat_minor": 5
}
