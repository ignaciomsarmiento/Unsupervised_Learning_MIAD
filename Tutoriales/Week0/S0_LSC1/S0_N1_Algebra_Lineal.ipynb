{
 "cells": [
  {
   "cell_type": "markdown",
   "metadata": {},
   "source": [
    "----------------------------------- ----------------------------------- ----------------------------------- \n",
    "----------------------------------- ESPACIO PARA BANNER DE LA MAESTRIA -----------------------------------\n",
    "----------------------------------- ----------------------------------- ----------------------------------- "
   ]
  },
  {
   "cell_type": "markdown",
   "metadata": {},
   "source": [
    "# Revisión de Algebra Lineal"
   ]
  },
  {
   "cell_type": "markdown",
   "metadata": {},
   "source": [
    "\n",
    "Este *cuaderno* es un breve repaso sobre conceptos  de Álgebra Lineal y su implementación en `Python` que va a necesitar para el desarrollo de buena parte de las actividades de este curso. **NO** es necesario que usted edite el archivo o haga una entrega. Sin embargo, es libre de modificar el archivo, editando celdas de texto (celdas *Markdown*) o las celdas de código (`celdas con código ejecutable estan en gris`). Modificando las celdas puede ser una buena forma de aprender nuevas funcionalidades del cuaderno o experimentar varaiciones de los códigos de ejemplo. Si tiene dudas de como operar en `Python` por favor vea el *cuaderno* que contiene el tutorial. Al finalizar econtrará ejercicios asociados a los contenidos del notebook. Se espera que usted los resuelva por su cuenta y consulte con el tutor si tiene dudas.\n"
   ]
  },
  {
   "cell_type": "markdown",
   "metadata": {},
   "source": [
    "## Vectores y Matrices \n",
    "\n",
    "\n",
    "El estudio del Álgebra Lineal implica trabajar con varios objetos matemáticos. En este *cuaderno* nos vamos a centrar principalmente en vectores y matrices, que va a necesitar para el desarrollo de una buena parte de las actividades de este curso. Vamos también a utilizar la libreria **[Numpy](http://www.numpy.org/)** en  `Phyton`  permite crear facilmente estos objetos y operar con ellos."
   ]
  },
  {
   "cell_type": "markdown",
   "metadata": {},
   "source": [
    "### Vectores\n",
    "\n",
    "Un *vector* es una serie de números. Estos números poseen una orden preestablecido, y podemos identificar cada número por un índice que indica en ese orden. Podemos pensar en los  *vectores* como la coordenada de puntos en el espacio, con cada elemento indicando la ubicación lo largo de un eje diferente. Existen dos tipos de *vectores*, los *vectores de fila* y los *vectores de columna*. Podemos representarlos de la siguiente manera, dónde *a* es un vector de fila: \n",
    "\n",
    "$$ a = \\begin{bmatrix} 0 & 1 & -1 \\end{bmatrix}  $$\n",
    "\n",
    "y *b* es un vector de columna:\n",
    "\n",
    "$$ b= \\begin{bmatrix} 0\\\\ 1 \\\\ -1 \\end{bmatrix} $$\n",
    "\n",
    "En `Python`, un *vector* puede ser representado con una simple *lista*, o con un *array* de [Numpy](http://www.numpy.org/). Aunque es preferible utilizar esta última opción."
   ]
  },
  {
   "cell_type": "code",
   "execution_count": null,
   "metadata": {
    "jupyter": {
     "outputs_hidden": false
    }
   },
   "outputs": [],
   "source": [
    "# Vector como lista de Python\n",
    "a = [5, 9, 7]\n",
    "a"
   ]
  },
  {
   "cell_type": "code",
   "execution_count": null,
   "metadata": {
    "jupyter": {
     "outputs_hidden": false
    }
   },
   "outputs": [],
   "source": [
    "# Vectores con numpy\n",
    "import numpy as np\n",
    "\n",
    "b = np.ones(3) # vector de solo unos.\n",
    "b"
   ]
  },
  {
   "cell_type": "code",
   "execution_count": null,
   "metadata": {
    "jupyter": {
     "outputs_hidden": false
    }
   },
   "outputs": [],
   "source": [
    "c = np.array([1, 2, 3]) # pasando una lista a las arrays de numpy\n",
    "c"
   ]
  },
  {
   "cell_type": "code",
   "execution_count": null,
   "metadata": {
    "jupyter": {
     "outputs_hidden": false
    }
   },
   "outputs": [],
   "source": [
    "d = np.arange(1, 8) # utilizando la funcion arange de numpy\n",
    "d"
   ]
  },
  {
   "cell_type": "markdown",
   "metadata": {},
   "source": [
    "#### Operaciones con vectores\n",
    "\n",
    "Las operaciones más comunes que utilizamos cuando trabajamos con *vectores* son la *suma*, la *resta* y la *multiplicación por un escalar.\n",
    "\n",
    "Cuando *sumamos* dos *vectores*, se suman elemento por elemento de cada\n",
    "*vector*.\n",
    "\n",
    "\n",
    "$$ \\begin{split}x + y\n",
    "=\n",
    "\\left[\n",
    "\\begin{array}{c}\n",
    "    x_1 \\\\\n",
    "    x_2 \\\\\n",
    "    \\vdots \\\\\n",
    "    x_n\n",
    "\\end{array}\n",
    "\\right]\n",
    "+\n",
    "\\left[\n",
    "\\begin{array}{c}\n",
    "     y_1 \\\\\n",
    "     y_2 \\\\\n",
    "    \\vdots \\\\\n",
    "     y_n\n",
    "\\end{array}\n",
    "\\right]\n",
    "=\n",
    "\\left[\n",
    "\\begin{array}{c}\n",
    "    x_1 + y_1 \\\\\n",
    "    x_2 + y_2 \\\\\n",
    "    \\vdots \\\\\n",
    "    x_n + y_n\n",
    "\\end{array}\n",
    "\\right]\\end{split}$$\n"
   ]
  },
  {
   "cell_type": "code",
   "execution_count": null,
   "metadata": {
    "jupyter": {
     "outputs_hidden": false
    }
   },
   "outputs": [],
   "source": [
    "# Definimos los dos vectores\n",
    "x = np.arange(1, 5)\n",
    "y = np.array([2, 4, 6, 8])\n"
   ]
  },
  {
   "cell_type": "code",
   "execution_count": null,
   "metadata": {
    "jupyter": {
     "outputs_hidden": false
    }
   },
   "outputs": [],
   "source": [
    "# sumando \n",
    "x + y"
   ]
  },
  {
   "cell_type": "markdown",
   "metadata": {},
   "source": [
    "Note que `Python` no permite realizar operaciones algebraicas entre dos listas de forma directa. Esta es una de las razones por las que preferimos utilizar arrays en `numpy` para hacer operaciones de álgebra lineal"
   ]
  },
  {
   "cell_type": "code",
   "execution_count": null,
   "metadata": {},
   "outputs": [],
   "source": [
    "[1, 2, 3, 4] + [2, 4, 6, 8]"
   ]
  },
  {
   "cell_type": "markdown",
   "metadata": {},
   "source": [
    "De forma similar funciona la operación de resta.\n",
    "\n",
    "$$ \\begin{split}x - y\n",
    "=\n",
    "\\left[\n",
    "\\begin{array}{c}\n",
    "    x_1 \\\\\n",
    "    x_2 \\\\\n",
    "    \\vdots \\\\\n",
    "    x_n\n",
    "\\end{array}\n",
    "\\right]\n",
    "-\n",
    "\\left[\n",
    "\\begin{array}{c}\n",
    "     y_1 \\\\\n",
    "     y_2 \\\\\n",
    "    \\vdots \\\\\n",
    "     y_n\n",
    "\\end{array}\n",
    "\\right]\n",
    "=\n",
    "\\left[\n",
    "\\begin{array}{c}\n",
    "    x_1 - y_1 \\\\\n",
    "    x_2 - y_2 \\\\\n",
    "    \\vdots \\\\\n",
    "    x_n - y_n\n",
    "\\end{array}\n",
    "\\right]\\end{split}$$\n"
   ]
  },
  {
   "cell_type": "code",
   "execution_count": null,
   "metadata": {
    "jupyter": {
     "outputs_hidden": false
    }
   },
   "outputs": [],
   "source": [
    "# restando \n",
    "x - y"
   ]
  },
  {
   "cell_type": "markdown",
   "metadata": {},
   "source": [
    " La *Multiplicación por un escalar* es una operación que toma a un número $\\gamma$, y a un *vector* $x$ y produce un nuevo *vector* donde cada elemento del vector $x$ es multiplicado por el número $\\gamma$.\n",
    "\n",
    "$$\\begin{split}\\gamma x\n",
    "=\n",
    "\\left[\n",
    "\\begin{array}{c}\n",
    "    \\gamma x_1 \\\\\n",
    "    \\gamma x_2 \\\\\n",
    "    \\vdots \\\\\n",
    "    \\gamma x_n\n",
    "\\end{array}\n",
    "\\right]\\end{split}$$\n"
   ]
  },
  {
   "cell_type": "code",
   "execution_count": null,
   "metadata": {
    "jupyter": {
     "outputs_hidden": false
    }
   },
   "outputs": [],
   "source": [
    "# multiplicando por un escalar\n",
    "x * 4"
   ]
  },
  {
   "cell_type": "code",
   "execution_count": null,
   "metadata": {
    "jupyter": {
     "outputs_hidden": false
    }
   },
   "outputs": [],
   "source": [
    "y * 6"
   ]
  },
  {
   "cell_type": "markdown",
   "metadata": {},
   "source": [
    "##### Producto escalar o interior\n",
    "\n",
    "El producto escalar de dos *vectores* se define como la suma de los productos de sus elementos, suele representarse matemáticamente como $< x, y >$ o $x'y$, donde x e y son dos vectores.\n",
    "\n",
    "$$< x, y > = \\sum_{i=1}^n x_i y_i$$\n",
    "\n",
    "Dos *vectores* son *ortogonales* cuando forman ángulo recto entre sí, lo que implica que el producto escalar es 0.\n",
    "\n",
    "También se puede definir el producto punto desde la geometría:\n",
    "$$a\\cdot b = \\|a\\|\\cdot\\|b\\|\\cdot cos(\\theta)$$\n",
    "\n",
    "\n"
   ]
  },
  {
   "cell_type": "code",
   "execution_count": null,
   "metadata": {
    "jupyter": {
     "outputs_hidden": false
    }
   },
   "outputs": [],
   "source": [
    "# Calculando el producto escalar de los vectores x e y\n",
    "np.dot(x, y)"
   ]
  },
  {
   "cell_type": "code",
   "execution_count": null,
   "metadata": {
    "jupyter": {
     "outputs_hidden": false
    }
   },
   "outputs": [],
   "source": [
    "# o lo que es lo mismo, que:\n",
    "sum(x * y)"
   ]
  },
  {
   "cell_type": "code",
   "execution_count": null,
   "metadata": {
    "jupyter": {
     "outputs_hidden": false
    }
   },
   "outputs": [],
   "source": [
    "# vectores ortogonales\n",
    "x = np.array([3, 4])\n",
    "y = np.array([4, -3])\n",
    "\n",
    "np.dot(x, y)"
   ]
  },
  {
   "cell_type": "markdown",
   "metadata": {},
   "source": [
    "El producto escalar tambien induce una *norma vectorial* sobre el espacio en el que está definido, que se define como:\n",
    "\n",
    "$$\\| x \\| = \\sqrt{< x, x>} = \\left( \\sum_{i=1}^n x_i^2 \\right)^{1/2}$$\n"
   ]
  },
  {
   "cell_type": "code",
   "execution_count": null,
   "metadata": {
    "jupyter": {
     "outputs_hidden": false
    }
   },
   "outputs": [],
   "source": [
    "# Calculando la norma del vector X\n",
    "np.linalg.norm(x)"
   ]
  },
  {
   "cell_type": "code",
   "execution_count": null,
   "metadata": {
    "jupyter": {
     "outputs_hidden": false
    }
   },
   "outputs": [],
   "source": [
    "# otra forma de calcular la norma de x\n",
    "np.sqrt(np.dot(x, x))"
   ]
  },
  {
   "cell_type": "markdown",
   "metadata": {},
   "source": [
    "### Matrices\n",
    "\n",
    "Una *matriz* es un arreglo bidimensional de números (llamados entradas o elementos de la matriz) que estan ordenados en filas y columnas, donde una fila es cada una de las líneas horizontales de la matriz y una columna es cada una de las líneas verticales. El número de filas y columnas da el orden de la matriz. Asi una matriz de orden 3x2, es una matriz con 3 filas y 2 columnas, como la siguiente:\n",
    "\n",
    "$$A=\\begin{bmatrix}0 & 1& \\\\-1 & 2 \\\\ -2 & 3\\end{bmatrix}$$\n",
    "\n",
    "Entonces una matriz `n × k` es una arreglo con n filas y k columnas; se representa de forma general de la siguiente forma:\n",
    "\n",
    "$$\\begin{split}A =\n",
    "\\left[\n",
    "\\begin{array}{cccc}\n",
    "    a_{11} & a_{12} & \\cdots & a_{1k} \\\\\n",
    "    a_{21} & a_{22} & \\cdots & a_{2k} \\\\\n",
    "    \\vdots & \\vdots &  & \\vdots \\\\\n",
    "    a_{n1} & a_{n2} & \\cdots & a_{nk}\n",
    "\\end{array}\n",
    "\\right]\\end{split}$$\n",
    "\n",
    "En la matriz $A$, el símbolo $a_{nk}$ representa el elemento de la  n-ésima  fila en la k-ésima columna. \n",
    "\n",
    "Note que los vectores son casos particulares de matrices donde  n o k son iguales a 1. En el caso de n=1, A tnemos un *vector fila*, mientras que en el caso de k=1 tendriamos un *vector columna*.\n"
   ]
  },
  {
   "cell_type": "code",
   "execution_count": null,
   "metadata": {
    "jupyter": {
     "outputs_hidden": false
    }
   },
   "outputs": [],
   "source": [
    "# Para construir nuestra matriz creamos una lista de vectores fila.\n",
    "A = np.array([[1, 3, 2],\n",
    "              [1, 0, 0],\n",
    "              [1, 2, 2]])\n",
    "\n",
    "B = np.array([[1, 0, 5],\n",
    "              [7, 5, 0],\n",
    "              [2, 1, 1]])"
   ]
  },
  {
   "cell_type": "markdown",
   "metadata": {},
   "source": [
    "### Operaciones con matrices\n",
    "\n",
    "Al igual que con los *vectores*, las matrices también se pueden *sumar*, *restar*, multiplicar, y  *multiplicar por escalares*.\n"
   ]
  },
  {
   "cell_type": "markdown",
   "metadata": {},
   "source": [
    "\n",
    "Suma de matrices: \n",
    "\n",
    "$$\\begin{split}A + B =\n",
    "\\left[\n",
    "\\begin{array}{ccc}\n",
    "    a_{11} & \\cdots & a_{1k} \\\\\n",
    "    \\vdots & \\vdots & \\vdots \\\\\n",
    "    a_{n1} & \\cdots & a_{nk} \\\\\n",
    "\\end{array}\n",
    "\\right]\n",
    "+\n",
    "\\left[\n",
    "\\begin{array}{ccc}\n",
    "    b_{11} & \\cdots & b_{1k} \\\\\n",
    "    \\vdots & \\vdots & \\vdots \\\\\n",
    "    b_{n1} & \\cdots & b_{nk} \\\\\n",
    "\\end{array}\n",
    "\\right]\n",
    ":=\n",
    "\\left[\n",
    "\\begin{array}{ccc}\n",
    "    a_{11} + b_{11} &  \\cdots & a_{1k} + b_{1k} \\\\\n",
    "    \\vdots & \\vdots & \\vdots \\\\\n",
    "    a_{n1} + b_{n1} &  \\cdots & a_{nk} + b_{nk} \\\\\n",
    "\\end{array}\n",
    "\\right]\\end{split}$$\n",
    "\n",
    "Para los casos de suma y resta, hay que tener en cuenta que solo se pueden sumar o restar matrices que tengan las mismas dimensiones, es decir que si tengo una matriz A de dimensión 4x3 (4 filas y 3 columnas) solo voy a poder sumar o restar la matriz B con las mismas dimensiónes (4x3, 4 filas y 3 columnas)\n",
    "\n"
   ]
  },
  {
   "cell_type": "code",
   "execution_count": null,
   "metadata": {
    "jupyter": {
     "outputs_hidden": false
    }
   },
   "outputs": [],
   "source": [
    "# ver la dimension de una matriz (filas, columnas)\n",
    "A.shape"
   ]
  },
  {
   "cell_type": "code",
   "execution_count": null,
   "metadata": {
    "jupyter": {
     "outputs_hidden": false
    }
   },
   "outputs": [],
   "source": [
    "# suma de las matrices A y B\n",
    "A + B"
   ]
  },
  {
   "cell_type": "markdown",
   "metadata": {},
   "source": [
    "Resta de matrices: $$\\begin{split}A - B =\n",
    "\\left[\n",
    "\\begin{array}{ccc}\n",
    "    a_{11} & \\cdots & a_{1k} \\\\\n",
    "    \\vdots & \\vdots & \\vdots \\\\\n",
    "    a_{n1} & \\cdots & a_{nk} \\\\\n",
    "\\end{array}\n",
    "\\right]-\n",
    "\\left[\n",
    "\\begin{array}{ccc}\n",
    "    b_{11} & \\cdots & b_{1k} \\\\\n",
    "    \\vdots & \\vdots & \\vdots \\\\\n",
    "    b_{n1} & \\cdots & b_{nk} \\\\\n",
    "\\end{array}\n",
    "\\right]\n",
    ":=\n",
    "\\left[\n",
    "\\begin{array}{ccc}\n",
    "    a_{11} - b_{11} &  \\cdots & a_{1k} - b_{1k} \\\\\n",
    "    \\vdots & \\vdots & \\vdots \\\\\n",
    "    a_{n1} - b_{n1} &  \\cdots & a_{nk} - b_{nk} \\\\\n",
    "\\end{array}\n",
    "\\right]\\end{split}$$\n",
    "\n"
   ]
  },
  {
   "cell_type": "code",
   "execution_count": null,
   "metadata": {
    "jupyter": {
     "outputs_hidden": false
    }
   },
   "outputs": [],
   "source": [
    "# resta de matrices\n",
    "A - B"
   ]
  },
  {
   "cell_type": "markdown",
   "metadata": {},
   "source": [
    "La regla para la multiplicación de matrices generaliza la idea del producto interior vista anteriormente. Al multiplicar matrices el número de columnas de la primera matriz  debe ser igual al número de filas de la segunda matriz; y el resultado de esta multiplicación va a tener el mismo número de filas que la primer matriz y el número de la columnas de la segunda matriz. \n",
    "\n",
    "Es decir, que si yo tengo una A de dimensión 4x2 y la multiplico por una matriz B de dimensión 2x5, el resultado va a ser una matriz C de dimensión 4x5.\n",
    "Note que esto implica que la propiedad connmutativa no se cumple, AxB no es lo mismo que BxA.\n"
   ]
  },
  {
   "cell_type": "code",
   "execution_count": null,
   "metadata": {
    "jupyter": {
     "outputs_hidden": false
    }
   },
   "outputs": [],
   "source": [
    "# Ejemplo multiplicación de matrices\n",
    "A = np.arange(1, 13).reshape(3, 4) #matriz de dimension 3x4\n",
    "A"
   ]
  },
  {
   "cell_type": "code",
   "execution_count": null,
   "metadata": {
    "jupyter": {
     "outputs_hidden": false
    }
   },
   "outputs": [],
   "source": [
    "B = np.arange(8).reshape(4,2) #matriz de dimension 4x2\n",
    "B"
   ]
  },
  {
   "cell_type": "code",
   "execution_count": null,
   "metadata": {
    "jupyter": {
     "outputs_hidden": false
    }
   },
   "outputs": [],
   "source": [
    "# Multiplicando A x B\n",
    "A.dot(B) #resulta en una matriz de dimension 3x2"
   ]
  },
  {
   "cell_type": "code",
   "execution_count": null,
   "metadata": {},
   "outputs": [],
   "source": [
    "# Multiplicando B x A\n",
    "B.dot(A)"
   ]
  },
  {
   "cell_type": "markdown",
   "metadata": {},
   "source": [
    "Multiplicacion por escalares:\n",
    "$$\\begin{split}c A\n",
    "\\left[\n",
    "\\begin{array}{ccc}\n",
    "    a_{11} &  \\cdots & a_{1k} \\\\\n",
    "    \\vdots & \\vdots  & \\vdots \\\\\n",
    "    a_{n1} &  \\cdots & a_{nk} \\\\\n",
    "\\end{array}\n",
    "\\right]\n",
    "=\n",
    "\\left[\n",
    "\\begin{array}{ccc}\n",
    "    c a_{11} & \\cdots & c a_{1k} \\\\\n",
    "    \\vdots & \\vdots & \\vdots \\\\\n",
    "    c a_{n1} & \\cdots & c a_{nk} \\\\\n",
    "\\end{array}\n",
    "\\right]\\end{split}$$\n"
   ]
  },
  {
   "cell_type": "code",
   "execution_count": null,
   "metadata": {
    "jupyter": {
     "outputs_hidden": false
    }
   },
   "outputs": [],
   "source": [
    "# multiplicando matrices por escalares\n",
    "A * 2"
   ]
  },
  {
   "cell_type": "code",
   "execution_count": null,
   "metadata": {
    "jupyter": {
     "outputs_hidden": false
    }
   },
   "outputs": [],
   "source": [
    "B * 3"
   ]
  },
  {
   "cell_type": "markdown",
   "metadata": {},
   "source": [
    "### La matriz identidad,  la matriz inversa, y  la matrix transpuesta\n",
    "\n",
    "La matriz identidad  es el elemento neutro en la multiplicación de matrices], es el equivalente al número 1. Cualquier matriz multiplicada por la matriz identidad  da como resultado la misma matriz. La matriz identidad es una matriz cuadrada(tiene siempre el mismo número de filas que de columnas); y su diagonal principal se compone de todos elementos 1 y el resto de los elementos se completan con 0. Suele representase con la letra I\n",
    "\n",
    "Por ejemplo la matriz identidad de 3x3 sería la siguiente:\n",
    "\n",
    "$$I=\\begin{bmatrix}1 & 0 & 0 & \\\\0 & 1 & 0\\\\ 0 & 0 & 1\\end{bmatrix}$$\n",
    "\n"
   ]
  },
  {
   "cell_type": "code",
   "execution_count": null,
   "metadata": {
    "jupyter": {
     "outputs_hidden": false
    }
   },
   "outputs": [],
   "source": [
    "# Creando una matriz identidad de 3x3\n",
    "I = np.eye(3)\n",
    "I"
   ]
  },
  {
   "cell_type": "markdown",
   "metadata": {},
   "source": [
    "La matriz inversa de A, que se representa como $A^{-1}$ es aquella matriz cuadrada que resulta que la multiplicación $A \\times A^{-1}$ sea igual a la matriz identidad $I$. Es la matriz recíproca de A.\n",
    "\n",
    "$$A × A^{-1} = A^{-1} × A = I$$\n",
    "\n",
    "Tener en cuenta que esta matriz inversaen muchos casos puede no existir. En este caso se dice que la matriz es singular. Una matriz es singular si y solo si su *determinante* es nulo.\n",
    "\n",
    "El *determinante* es un número especial que puede calcularse sobre las matrices cuadradas. Este se calcula como la suma de los productos de las diagonales de la matriz en una dirección menos la suma de los productos de las diagonales en la otra dirección. El determinante de la matriz $A$ Se representa como $|A|$.\n",
    "\n",
    "$$A=\\begin{bmatrix}a_{11} & a_{12} & a_{13} & \\\\a_{21} & a_{22} & a_{23} & \\\\ a_{31} & a_{32} & a_{33} & \\end{bmatrix}$$\n",
    "\n",
    "$$|A| = \n",
    "     (a_{11} a_{22} a_{33} \n",
    "   + a_{12} a_{23} a_{31} \n",
    "   + a_{13} a_{21} a_{32} )\n",
    "   - (a_{31} a_{22} a_{13} \n",
    "   + a_{32} a_{23} a_{11} \n",
    "   + a_{33} a_{21} a_{12})\n",
    " $$\n",
    "\n",
    "A continuación se presentan algunas propiedades de la inversa. Para todos los ejemplos asumimos  que $$A, B \\in \\mathbb{R}^{n\\times n}$$ y $$|A|\\neq0$$ $$|B|\\neq0$$.\n",
    "\n",
    "- $(A^{-1})^{-1}=A$\n",
    "- $(AB)^{-1}=B^{-1}A^{-1}$\n",
    "- $(A^{-1})^\\intercal=(A^\\intercal)^{-1}$"
   ]
  },
  {
   "cell_type": "code",
   "execution_count": null,
   "metadata": {
    "jupyter": {
     "outputs_hidden": false
    }
   },
   "outputs": [],
   "source": [
    "# Multiplicar una matriz por la identidad nos da la misma matriz\n",
    "A = np.array([[4, 7],\n",
    "              [2, 6]])\n",
    "A"
   ]
  },
  {
   "cell_type": "code",
   "execution_count": null,
   "metadata": {
    "jupyter": {
     "outputs_hidden": false
    }
   },
   "outputs": [],
   "source": [
    "A.dot(I) # AxI = A"
   ]
  },
  {
   "cell_type": "code",
   "execution_count": null,
   "metadata": {
    "jupyter": {
     "outputs_hidden": false
    }
   },
   "outputs": [],
   "source": [
    "# Calculando el determinante de la matriz A\n",
    "np.linalg.det(A)"
   ]
  },
  {
   "cell_type": "code",
   "execution_count": null,
   "metadata": {},
   "outputs": [],
   "source": [
    "# Haciendo los cálculos manualmente obtendríamos\n",
    "(4*6) - (7*2)"
   ]
  },
  {
   "cell_type": "code",
   "execution_count": null,
   "metadata": {
    "jupyter": {
     "outputs_hidden": false
    }
   },
   "outputs": [],
   "source": [
    "# Calculando la inversa de A.\n",
    "A_inv = np.linalg.inv(A)\n",
    "A_inv"
   ]
  },
  {
   "cell_type": "code",
   "execution_count": null,
   "metadata": {
    "jupyter": {
     "outputs_hidden": false
    }
   },
   "outputs": [],
   "source": [
    "# A x A_inv nos da como resultado I.\n",
    "A.dot(A_inv)"
   ]
  },
  {
   "cell_type": "markdown",
   "metadata": {},
   "source": [
    "Por último, la matriz transpuesta es aquella en que las filas se transforman en columnas y las columnas en filas. Se representa con el símbolo $A^\\intercal$\n",
    "\n",
    "$$\\begin{bmatrix}a & b & \\\\ c & d & \\\\ e & f & \\end{bmatrix}^T:=\\begin{bmatrix}a & c & e &\\\\b & d & f & \\end{bmatrix}$$\n"
   ]
  },
  {
   "cell_type": "code",
   "execution_count": null,
   "metadata": {
    "jupyter": {
     "outputs_hidden": false
    }
   },
   "outputs": [],
   "source": [
    "# Trasponiendo una matriz\n",
    "A = np.arange(6).reshape(3, 2)\n",
    "A"
   ]
  },
  {
   "cell_type": "code",
   "execution_count": null,
   "metadata": {
    "jupyter": {
     "outputs_hidden": false
    }
   },
   "outputs": [],
   "source": [
    "np.transpose(A)"
   ]
  },
  {
   "cell_type": "markdown",
   "metadata": {},
   "source": [
    "### Traza, normas, eigenvalores y eigenvectores de una matriz\n",
    "\n",
    "#### Traza\n",
    "La traza de una matriz cuadrada $A\\in \\mathbb{R}^{n\\times n}$ es la suma de los elementos de la diagonal de la matriz.\n",
    "\n",
    "$$tr(A)=\\sum_ {i=1}^n A_{ii}$$\n",
    "\n",
    "La traza cuenta con las siguientes propiedades:\n",
    "- Para $A\\in \\mathbb{R}^{n\\times n}$, $tr(A)=tr(A^\\intercal)$\n",
    "- Para $A,B \\in \\mathbb{R}^{n\\times n}$, $tr(A+B)=tr(A)+tr(B)$\n",
    "- Para $A \\in \\mathbb{R}^{n\\times n}$, $\\gamma \\in \\mathbb{R}$, $tr(\\gamma A)= \\gamma tr(A)$\n",
    "- Para $A, B$ tal que $AB$ sea una matriz cuadrada, $tr(AB)=tr(BA)$\n",
    "- Para $A, B, C$ tal que $ABC$ sea una matriz cuadrada, $tr(ABC)=tr(BCA)=tr(CAB)$. Esto sin perdida de generalidad para multiplicación de más matrices."
   ]
  },
  {
   "cell_type": "markdown",
   "metadata": {},
   "source": [
    "#### Norma de un vector\n",
    "La norma de un vector x (expresada como $||x||$) es una medida de la longitud del vector. Usalmente se utiliza la norma Euclideana o la norma $l_2$ la cual se define como:\n",
    "$$||x||_2= \\sqrt{\\sum_{i=1}^nx_i^2}$$ \n",
    "\n",
    "Note que $||x||_2^2=x^Tx$\n",
    "\n",
    "Más formalmente, decimos que una norma es una función $f: \\mathbb{R}^n \\rightarrow \\mathbb{R}$ que satisface las siguientes cuatro propiedades:\n",
    "1. **No negativa.** Para todo $x\\in\\mathbb{R}^n,\\ f(x)\\geq0$.\n",
    "2. **Definida.** $f(x)=0$ si y solo si $x=0$.\n",
    "3. **Homogeneidad.** Para todo $x\\in\\mathbb{R}^n,\\ c\\in\\mathbb{R},\\ f(cx)=|c|f(x)$\n",
    "4. **Desigualdad triangular.** Para todo $x, y \\in\\mathbb{R}^n,\\ f(x+y)\\leq f(x) + f(y)$\n",
    "\n",
    "Otro ejemplo de norma es la norma $l_1$:\n",
    "\n",
    "$$||x||_1= |\\sum_{i=1}^nx_i^2|$$"
   ]
  },
  {
   "cell_type": "markdown",
   "metadata": {},
   "source": [
    "#### Eigenvalores y eigenvectores\n",
    "\n",
    "Para una matriz cuadrada $A\\in \\mathbb{R}^{n\\times n}$, decimos que $\\lambda \\in \\mathbb{C}$ es un *eigenvalor* de $A$ y $x\\in \\mathbb{C}^n$ es el *eigenvector* (o vector propio) asociado si:\n",
    "$$Ax=\\lambda x,\\ x \\neq 0$$\n",
    "\n",
    "Intuitivamente esta definición nos dice que si multiplicamos la matriz $A$ por un vector $x$ el resultado es un nuevo vector que apunta hacia la misma dirección que $x$, pero escalado por un factor de $\\lambda$. Las transformaciones lineales en el espacio $\\mathbb{R}^2$ son la rotación, la reflexión, el escalado uniforme y la proyección sobre una recta. Por tal motivo, una aplicación inmediata de este tópico se halla en la transformación de imágenes digitales.\n",
    "\n",
    "Note que para cualquier eigenvector $x\\in \\mathbb{C}^n$ y escalar $c \\in \\mathbb{C}$, $A(cx)=cAx=c\\lambda x = \\lambda (cx)$, por lo que $cx$ también es un eigenvector. Por tal motivo, para evitar tener infinitos eigenvectores, decimos que existe \"el\" eigenvector asociado a $\\lambda$ y este está normalizado para tener norma 1. (Esto todavía nos genera una ambiguedad pues $x$ y $-x$ son ambos eigenvectores, pero debemos convivir con ello).\n",
    "\n",
    "Podemos re escribir la expresión $Ax=\\lambda x,\\ x \\neq 0$ como:\n",
    "\n",
    "$$(\\lambda I - A)x=0,\\ x \\neq 0$$\n",
    "\n",
    "En donde, $(\\lambda I - A)x=0$ tiene una solución no trivial para $x$ solo si $(\\lambda I - A)$ no es un espacio nulo, lo cual es lo mismo que $(\\lambda I - A)$ sea singular, es decir:\n",
    "\n",
    "$$|(\\lambda I - A)|=0$$\n",
    "\n",
    "Aquí podemos usar la definición del determinante para expandir la expresión pasada en un polinomio de $\\lambda$, en donde $\\lambda$ tendrá grado $n$. A esto usualmente se le llama el polinomio característico de la matriz $A$.\n",
    "\n",
    "Debemos encontrar las $n$ raíces del polinomio característico. Las denotaremos como $\\lambda_1, \\lambda_2, \\cdots, \\lambda_n$. Cada uno de estos valores será un eigenvalor de la matriz $A$.\n",
    "\n",
    "Para encontrar el eigenvector correspondiente al eigenvalor $\\lambda_i$ se debe solucionar el sistema de ecuaciones lineal $(\\lambda_i I - A)x=0$. Aquí sabemos que tendremos una solución diferente a la trivial pues $\\lambda_i I - A$ es singular (sin embargo podrían haber varias o infinitas soluciones).\n",
    "\n",
    "A continuación se presentan algunas propiedades de los eigenvalores y los eigenvectores. Para todos los casos suponga que $A\\in\\mathbb{R}^{n\\times n}$ tiene $\\lambda_i, \\cdots, \\lambda_n$ eigenvalores):\n",
    "- La traza de $A$ es igual a la suma de los eigenvalores.\n",
    "$$tr(A)=\\sum_{i=1}^n\\lambda_i$$\n",
    "- El determinante de $A$ es igual al producto de los eigenvalores:\n",
    "$$|A|=\\prod_{i=1}^n\\lambda_i$$\n",
    "- El rango de $A$ es igual al número de eigenvalores de $A$ diferentes de cero.\n",
    "- Suponga que $A$ es no singular con eigenvalor $\\lambda$ y un eigenvector asociado $x$. Entonces $1/\\lambda$ es un eigenvalor de $A^{-1}$ con eigenvector asociado $x$. $A^{-1}x=(1/\\lambda)x$.\n",
    "- Los eigenvalores de una matriz diagonal $D=diag(d_1, d_2, \\cdots, d_n)$ son los elementos de la diagonal $d_1, d_2, \\cdots, d_n$.\n",
    "\n",
    "#### Diagonalización a partir de los eigenvectores y eigenvalores\n",
    "\n",
    "Si la matriz $A$ tiene $n$ eigenvectores linealmente independientes, podemos ordenare esos vectores para conformar una matriz $S$ que sea cuadrada e invertible:\n",
    "\n",
    "$$ AS = A \\begin{bmatrix} x_1 & x_2 & \\cdots & x_n \\end{bmatrix} $$\n",
    "$$ = \\begin{bmatrix} \\lambda_1 x_1 & \\lambda_2 x_2 & \\cdots & \\lambda_n x_n \\end{bmatrix} $$\n",
    "$$ S \\begin{bmatrix} \\lambda_1 & 0 & \\cdots & 0 \\\\ 0 & \\lambda_2 & & 0 \\\\ \\vdots & & \\ddots & \\vdots \\\\ 0 & \\cdots & 0 & \\lambda_n \\end{bmatrix} = S\\Lambda$$\n",
    "\n",
    "Note que $\\Lambda$ es una matriz diagonal en donde los valores que no son cero corresponden a los eigenvalores de $A$. Como las columnas de $S$ son independientes, $S^{-1}$ existe y por ende podemos multiplicar a ambos lados de $AS=S\\Lambda$ por $S^{-1}$:\n",
    "\n",
    "$$S^{-1}AS=\\Lambda$$\n",
    "\n",
    "$$A=S\\Lambda S^{-1}$$"
   ]
  },
  {
   "cell_type": "markdown",
   "metadata": {},
   "source": [
    "Aunque calcular los eigenvalores y los eigenvectores con papel y lapiz puede ser tedioso. En `Python` sólo necesitamos de la función `eig` del módulo `linalg` del paquete `Numpy`."
   ]
  },
  {
   "cell_type": "code",
   "execution_count": null,
   "metadata": {},
   "outputs": [],
   "source": [
    "from numpy.linalg import eig\n",
    "a = np.array([[1, 2], \n",
    "              [2, 9]])\n",
    "w,v=eig(a)\n",
    "print('Eigenvalores:', w)\n",
    "print('Eigenvectores', v)"
   ]
  },
  {
   "cell_type": "code",
   "execution_count": null,
   "metadata": {},
   "outputs": [],
   "source": [
    "a = np.array([[-11, 5], \n",
    "              [-17, 7]])\n",
    "w,v=eig(a)\n",
    "print('Eigenvalores:', w)\n",
    "print('Eigenvectores', v)"
   ]
  },
  {
   "cell_type": "code",
   "execution_count": null,
   "metadata": {},
   "outputs": [],
   "source": [
    "a = np.array([[4, 2, 1], \n",
    "              [7, 5, 5],\n",
    "              [2, 8, 0]])\n",
    "w, v =eig(a)\n",
    "print('Eigenvalores:', w)\n",
    "print('Eigenvectores', v)"
   ]
  },
  {
   "cell_type": "markdown",
   "metadata": {},
   "source": [
    "---\n",
    "# Ejercicios de repaso\n",
    "Resuelva los siguientes problemas y sustentelos mostrando el procedimiento que usó para llegar a la solución. Puede usar los comandos de Python para verificar su solución, sin embargo estos no serán tenidos en cuenta como justificación de sus respuestas.\n",
    "\n",
    "1. Sea $A = \\begin{bmatrix} 7 & 10 \\\\ 1 & -2 \\end{bmatrix}$, $B = \\begin{bmatrix} 3 & 0 \\\\ 8 & -1 \\end{bmatrix}$. Encuentre:\n",
    "\n",
    "    a. $A^{9}$\n",
    "\n",
    "    b. $B^{5}$\n",
    "\n",
    "    c. $C=AB$\n",
    "    \n",
    "2. Encuentre el ángulo entre los siguientes vectores en radianes y grados.\n",
    "\n",
    "    a. $\\vec{a}=2\\hat{i}-1\\hat{j}+7\\hat{k}$ y $\\vec{b}=\\hat{i}+2\\hat{j}$ \n",
    "    \n",
    "    b. $a = \\begin{bmatrix} 1 \\\\ 0 \\\\ 1 \\end{bmatrix}$ y $b = \\begin{bmatrix} 1 \\\\ 1 \\\\ 0 \\end{bmatrix}$\n",
    "\n",
    "3. Halle el área del paralelogramo limitado por las rectas $x-2y=3$, $x-2y=10$, $2x+3y=-1$ y $2x+3y=-8$ a partir del cálculo de un determinante.\n",
    "4. Halle el volumen del paralelepipedo generado por los vectores $\\vec{a}=[2,-1,-2]$, $\\vec{b}=[1,2,-3]$ y $\\vec{c}=[-1,3,5]$ a partir del cálculo de un determinante."
   ]
  }
 ],
 "metadata": {
  "interpreter": {
   "hash": "8fac594bfae6525c0c41b4041d2d72effa188cc8ead05f81b1fab2bb098927fb"
  },
  "kernelspec": {
   "display_name": "Python 3",
   "language": "python",
   "name": "python3"
  },
  "language_info": {
   "codemirror_mode": {
    "name": "ipython",
    "version": 3
   },
   "file_extension": ".py",
   "mimetype": "text/x-python",
   "name": "python",
   "nbconvert_exporter": "python",
   "pygments_lexer": "ipython3",
   "version": "3.7.6"
  }
 },
 "nbformat": 4,
 "nbformat_minor": 4
}
