{
 "cells": [
  {
   "cell_type": "markdown",
   "metadata": {},
   "source": [
    "-----\n",
    "<div> <center> ESPACIO PARA BANNER DE LA MAESTRIA </center> </div>   \n",
    "\n",
    "-----"
   ]
  },
  {
   "cell_type": "markdown",
   "metadata": {},
   "source": [
    "# Introducción al Procesamiento del Lenguaje Natural"
   ]
  },
  {
   "cell_type": "markdown",
   "metadata": {},
   "source": [
    "Usuario: Me siento triste.\n",
    "\n",
    "ELIZA: ¿Cree que venir acá puede ayudarle a no sentirse triste?\n",
    "\n",
    "Usuario: Necesito ayuda, de eso estoy seguro.\n",
    "\n",
    "ELIZA: ¿Qué significa para usted obtener ayudar?\n",
    "\n",
    "Usuario: A lo mejor podría aprender a llevármela mejor con mi madre.\n",
    "\n",
    "ELIZA: Cuénteme más sobre su madre.\n",
    " \n",
    "Usuario: Mi madre cuida de mi.\n",
    "\n",
    "ELIZA: ¿Quién más en su familia cuida de usted?\n",
    "\n",
    "Usuario: Mi padre.\n",
    "\n",
    "ELIZA: ¿Su padre?\n",
    "\n",
    "Usuario: De alguna manera usted se parece a mi padre.\n",
    "\n",
    "Weizenbaum (1966)\n"
   ]
  },
  {
   "cell_type": "markdown",
   "metadata": {},
   "source": [
    "La conversación anterior fue realizada en 1966 por un chatbot llamado ELIZA y un ser humano. ELIZA fue uno de los primeros sistemas de procesamiento del lenguaje natural el cual estaba programado para imitar las respuestas de un psicoterapeuta Rogersiano. En el fondo, el programa de ELIZA es simple pues este está entrenado para identificar frases del estilo \"Necesito X\" y responder frases del estilo \"¿Qué significa para usted obtener X?\".\n",
    "\n",
    "El éxito de ELIZA consiste en que este no tiene que tener conocimientos previos sobre el significado de las palabras porque este tipo de diálogos permiten que el que hace de terapeuta no tenga que saber nada sobre el mundo. De hecho, Weizenbaum (1966) reporta que muchos de las personas que interactuaron con este bot creyeron que ELIZA en verdad los estaba entendiendo, inclusive, luego de que se les explicara a los participantes cómo funcionaba ELIZA, muchos seguían pensando que este robot era util para ayudarlos a lidiar con sus problemas."
   ]
  },
  {
   "cell_type": "markdown",
   "metadata": {},
   "source": [
    "Hoy en día, los algoritmos de Procesamiento de Lenguaje Natural son mucho más complejos que ELIZA, sin embargo, la detección de patrones en el texto sigue siendo una base fundamental de este tipo de aplicaciones. En particular, se le conoce como **Expresiones Regulares** a la secuencia de caracteres que especifican la búsqueda de un patrón dentro de un texto. Como veremos a continuación, esto nos servirá de herramienta para extraer información relevante pero también para hacer todo el pre procesamiento necesario para limpiar el texto antes de introducirlo en algún algoritmo."
   ]
  },
  {
   "cell_type": "markdown",
   "metadata": {},
   "source": [
    "## Normalización del texto\n",
    "La limpieza del texto para ponerlo en el formato estándar que se necesite de acuerdo a nuestro objetivo final se le conoce como *normalización*. A grandes rasgos, podemos hablar de 3 procesos importantes de normalización:\n",
    "1. **Tokenización.** Consiste en separar el texto en palabras. En primera instancia parece fácil, pues la mayoría de palabras se separan con un espacio en blanco, sin embargo, algunos conceptos están hechos de varias palabras. Por ejemplo, si tenemos un texto que tiene las palabras Nueva York y Economía Naranja, lo correcto sería tomar como una sola palabra \"Nueva York\" y \"Economía Naranja\" porque si se parten por los espacios se cambiaría el significado del texto. Adicionalmente, uno de los grandes retos que se tiene es tratar con textos producidos por humanos que no son revisados por un tercero, por ejemplo los posts de redes sociales. En estos deja de ser cierto que las palabras siempre se separen con un espacio. Los humanos están sujetos a cometer errores por lo que frecuentemente se les olvida poner un espacio o incluyen más de un espacio para separar las palabras. \n",
    "\n",
    "    La correcta Tokenización también depende del contexto del escrito. Por ejemplo, en inglés, la palabra \"I'm\" se debe separar en \"I\" y \"am\" y en Japones las palabras no se separan con espacio, luego se deben tener en cuenta otras consideraciones para tokenizar idiomas diferentes al español. Además, los emojis o los hashtags deben ser tenidos en cuenta en este proceso.\n",
    "\n",
    "2. **Lematización.** Para algunas aproximaciones, es importante tratar de unificar las palabras que se refieren al mismo concepto. Por ejemplo, si se quiere hacer un conteo simple para crear una nube de palabras de un documento, quisiéramos que corriendo, corrió y correrá no se traten como palabras independientes. Lematización consiste en devolver las palabras a una misma raíz. Por ende, corriendo, corrió y correrá se transformarían en el verbo en infinitivo *correr*. \n",
    "\n",
    "    Una versión simplificada de la lematización es el **stemming** el cual consiste en remover el sufijo o el final de las palabras. Por ejemplo, corrieron y correr se volverían *corr*. \n",
    "\n",
    "3. **Distancia entre palabras.** Para comparar palabras y conceptos, quisiéramos tener una noción de qué tan diferentes son unas de otras. Una de las métricas más sencillas se llama *la distancia de edición* que consiste en contar el número de adiciones, eliminaciones y sustituciones que hay que hacerle a una palabra $i$ para que se convierta en la palabra $j$. Una aplicación de esto se encuentra en los algoritmos de corrección de ortografía y detección de discurso. Otras métricas más complejas serán estudiadas en el siguiente modulo donde estudiaremos la distancia de las palabras en un espacio vectorial."
   ]
  },
  {
   "cell_type": "code",
   "execution_count": null,
   "metadata": {},
   "outputs": [],
   "source": []
  },
  {
   "cell_type": "markdown",
   "metadata": {},
   "source": [
    "# Referencias\n",
    "- Jurafsky, D., &; Martin, J. H. (2020). Speech and language processing: An introduction to natural language processing, computational linguistics, and speech recognition. Pearson.\n",
    "- Weizenbaum, J. 1966. ELIZA – A computer program for the study of natural language communication between man and machine. CACM, 9(1):36–45.\n",
    " \n"
   ]
  }
 ],
 "metadata": {
  "interpreter": {
   "hash": "8fac594bfae6525c0c41b4041d2d72effa188cc8ead05f81b1fab2bb098927fb"
  },
  "kernelspec": {
   "display_name": "Python 3.8.5 64-bit ('base': conda)",
   "language": "python",
   "name": "python3"
  },
  "language_info": {
   "name": "python",
   "version": "3.8.5"
  },
  "orig_nbformat": 4
 },
 "nbformat": 4,
 "nbformat_minor": 2
}
