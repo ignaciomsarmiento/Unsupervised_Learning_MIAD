{
 "cells": [
  {
   "cell_type": "code",
   "execution_count": 34,
   "id": "1d633693",
   "metadata": {},
   "outputs": [],
   "source": [
    "transacciones = [\n",
    "     ['HotDogs', 'Buns', 'Ketchup','Chips'],\n",
    "['HotDogs', 'Buns'],\n",
    "['HotDogs', 'Coke', 'Chips'],\n",
    "['Chips', 'Coke'],\n",
    "['Chips', 'Ketchup'],\n",
    "['HotDogs', 'Coke', 'Chips']\n",
    "]"
   ]
  },
  {
   "cell_type": "code",
   "execution_count": 35,
   "id": "0befb5bd",
   "metadata": {},
   "outputs": [
    {
     "data": {
      "text/plain": [
       "6"
      ]
     },
     "execution_count": 35,
     "metadata": {},
     "output_type": "execute_result"
    }
   ],
   "source": [
    "N = len(transacciones)\n",
    "N"
   ]
  },
  {
   "cell_type": "code",
   "execution_count": 36,
   "id": "94f21eb1",
   "metadata": {},
   "outputs": [
    {
     "name": "stdout",
     "output_type": "stream",
     "text": [
      "N = 6\n",
      "Freq(HotDogs) = 4\n",
      "Freq(Buns) = 2\n",
      "Freq(Chips) = 5\n",
      "Freq(HotDogs, Buns) = 2\n",
      "Freq(HotDogs, Buns,Chips) = 1\n"
     ]
    }
   ],
   "source": [
    "# Frecuencia de compra de leche\n",
    "f_x = sum(['HotDogs' in i for i in transacciones])\n",
    "# Frecuencia de compra de pan\n",
    "f_y = sum(['Buns' in i for i in transacciones])\n",
    "f_z = sum(['Chips' in i for i in transacciones])\n",
    "\n",
    "f_x_y = sum([\n",
    "    all(w in i for w in ['HotDogs', 'Buns']) \n",
    "    for i in transacciones\n",
    "])\n",
    "\n",
    "f_x_y_z = sum([\n",
    "    all(w in i for w in ['HotDogs', 'Buns','Chips']) \n",
    "    for i in transacciones\n",
    "])\n",
    "\n",
    "print(\n",
    "    \"N = {}\\n\".format(N) + \n",
    "    \"Freq(HotDogs) = {}\\n\".format(f_x) + \n",
    "    \"Freq(Buns) = {}\\n\".format(f_y) + \n",
    "    \"Freq(Chips) = {}\\n\".format(f_z) + \n",
    "        \"Freq(HotDogs, Buns) = {}\\n\".format(f_x_y) + \n",
    "    \"Freq(HotDogs, Buns,Chips) = {}\".format(f_x_y_z)\n",
    ")"
   ]
  },
  {
   "cell_type": "code",
   "execution_count": 37,
   "id": "0f7495cc",
   "metadata": {},
   "outputs": [
    {
     "name": "stdout",
     "output_type": "stream",
     "text": [
      "Soporte = 0.1667\n"
     ]
    }
   ],
   "source": [
    "# Soporte (supp)\n",
    "soporte = f_x_y_z / N\n",
    "print(\"Soporte = {}\".format(round(soporte, 4)))"
   ]
  },
  {
   "cell_type": "code",
   "execution_count": 38,
   "id": "0ece4eef",
   "metadata": {},
   "outputs": [
    {
     "name": "stdout",
     "output_type": "stream",
     "text": [
      "Confianza = 0.5\n"
     ]
    }
   ],
   "source": [
    "# Confianza: x -> y\n",
    "\n",
    "confianza = soporte / (f_x_y / N)\n",
    "print(\"Confianza = {}\".format(round(confianza, 4)))"
   ]
  },
  {
   "cell_type": "code",
   "execution_count": 42,
   "id": "ecdee894",
   "metadata": {},
   "outputs": [
    {
     "data": {
      "text/plain": [
       "1.5"
      ]
     },
     "execution_count": 42,
     "metadata": {},
     "output_type": "execute_result"
    }
   ],
   "source": [
    "lift = confianza / (f_x_y / N)\n",
    "lift"
   ]
  },
  {
   "cell_type": "code",
   "execution_count": 23,
   "id": "fa0bf404",
   "metadata": {},
   "outputs": [],
   "source": [
    "transacciones2 = [['A','B','E'],\n",
    "['A','B','D','E'],\n",
    "['B','C','D','E'],\n",
    "['B','D','E'],\n",
    "['A','B','D'],\n",
    "['B','E'],\n",
    "['A','E']\n",
    "]"
   ]
  },
  {
   "cell_type": "code",
   "execution_count": 28,
   "id": "c663e1c3",
   "metadata": {},
   "outputs": [
    {
     "data": {
      "text/plain": [
       "7"
      ]
     },
     "execution_count": 28,
     "metadata": {},
     "output_type": "execute_result"
    }
   ],
   "source": [
    "N = len(transacciones2)\n",
    "N"
   ]
  },
  {
   "cell_type": "code",
   "execution_count": 29,
   "id": "92406634",
   "metadata": {},
   "outputs": [
    {
     "name": "stdout",
     "output_type": "stream",
     "text": [
      "N = 7\n",
      "Freq(B) = 6\n",
      "Freq(D) = 4\n",
      "Freq(E) = 6\n",
      "Freq(B, D) = 4\n",
      "Freq(B, D,E) = 3\n"
     ]
    }
   ],
   "source": [
    "# Frecuencia de compra de leche\n",
    "f_x = sum(['B' in i for i in transacciones2])\n",
    "# Frecuencia de compra de pan\n",
    "f_y = sum(['D' in i for i in transacciones2])\n",
    "f_z = sum(['E' in i for i in transacciones2])\n",
    "\n",
    "f_x_y = sum([\n",
    "    all(w in i for w in ['B', 'D']) \n",
    "    for i in transacciones2\n",
    "])\n",
    "\n",
    "f_x_y_z = sum([\n",
    "    all(w in i for w in ['B', 'D','E']) \n",
    "    for i in transacciones2\n",
    "])\n",
    "\n",
    "print(\n",
    "    \"N = {}\\n\".format(N) + \n",
    "    \"Freq(B) = {}\\n\".format(f_x) + \n",
    "    \"Freq(D) = {}\\n\".format(f_y) + \n",
    "    \"Freq(E) = {}\\n\".format(f_z) + \n",
    "        \"Freq(B, D) = {}\\n\".format(f_x_y) + \n",
    "    \"Freq(B, D,E) = {}\".format(f_x_y_z)\n",
    ")"
   ]
  },
  {
   "cell_type": "code",
   "execution_count": 30,
   "id": "1a04f65e",
   "metadata": {},
   "outputs": [
    {
     "name": "stdout",
     "output_type": "stream",
     "text": [
      "Soporte = 0.4286\n"
     ]
    }
   ],
   "source": [
    "#Soporte (supp)\n",
    "soporte = f_x_y_z / N\n",
    "print(\"Soporte = {}\".format(round(soporte, 4)))"
   ]
  },
  {
   "cell_type": "code",
   "execution_count": 31,
   "id": "6f6ffb9b",
   "metadata": {},
   "outputs": [
    {
     "name": "stdout",
     "output_type": "stream",
     "text": [
      "Confianza = 0.75\n"
     ]
    }
   ],
   "source": [
    "# Confianza: x -> y\n",
    "\n",
    "confianza = soporte / (f_x_y / N)\n",
    "print(\"Confianza = {}\".format(round(confianza, 4)))"
   ]
  }
 ],
 "metadata": {
  "kernelspec": {
   "display_name": "Python 3 (ipykernel)",
   "language": "python",
   "name": "python3"
  },
  "language_info": {
   "codemirror_mode": {
    "name": "ipython",
    "version": 3
   },
   "file_extension": ".py",
   "mimetype": "text/x-python",
   "name": "python",
   "nbconvert_exporter": "python",
   "pygments_lexer": "ipython3",
   "version": "3.9.7"
  },
  "toc": {
   "base_numbering": 1,
   "nav_menu": {},
   "number_sections": true,
   "sideBar": true,
   "skip_h1_title": false,
   "title_cell": "Table of Contents",
   "title_sidebar": "Contents",
   "toc_cell": false,
   "toc_position": {},
   "toc_section_display": true,
   "toc_window_display": false
  }
 },
 "nbformat": 4,
 "nbformat_minor": 5
}
